{
 "cells": [
  {
   "cell_type": "code",
   "execution_count": 1,
   "metadata": {},
   "outputs": [
    {
     "name": "stdout",
     "output_type": "stream",
     "text": [
      "Python 3.12.2\n"
     ]
    }
   ],
   "source": [
    "!python --version"
   ]
  },
  {
   "cell_type": "code",
   "execution_count": 2,
   "metadata": {},
   "outputs": [
    {
     "name": "stderr",
     "output_type": "stream",
     "text": [
      "c:\\Users\\ssivagur\\Anaconda3\\envs\\copairs\\Lib\\site-packages\\tqdm\\auto.py:21: TqdmWarning: IProgress not found. Please update jupyter and ipywidgets. See https://ipywidgets.readthedocs.io/en/stable/user_install.html\n",
      "  from .autonotebook import tqdm as notebook_tqdm\n"
     ]
    }
   ],
   "source": [
    "#importing necessary modules \n",
    "import pandas as pd\n",
    "import numpy as np\n",
    "import matplotlib.pyplot as plt\n",
    "from sklearn.decomposition import PCA\n",
    "from sklearn.preprocessing import StandardScaler\n",
    "import plotly.graph_objects as go\n",
    "from plotly.subplots import make_subplots\n",
    "import plotly.express as px\n",
    "import seaborn as sns\n",
    "import copairs\n",
    "import pycytominer\n",
    "from copairs.map import average_precision\n",
    "from copairs.map import mean_average_precision\n",
    "from utils import * \n",
    "\n",
    "%load_ext autoreload\n",
    "%autoreload 2"
   ]
  },
  {
   "cell_type": "code",
   "execution_count": 3,
   "metadata": {},
   "outputs": [
    {
     "name": "stdout",
     "output_type": "stream",
     "text": [
      "Name: copairs\n",
      "Version: 0.4.1\n",
      "Summary: Find pairs and compute metrics between them\n",
      "Home-page: \n",
      "Author: \n",
      "Author-email: John Arevalo <johnarevalo@gmail.com>\n",
      "License: \n",
      "Location: c:\\Users\\ssivagur\\Anaconda3\\envs\\copairs\\Lib\\site-packages\n",
      "Requires: pandas, statsmodels, tqdm\n",
      "Required-by: \n",
      "Note: you may need to restart the kernel to use updated packages.\n"
     ]
    }
   ],
   "source": [
    "pip show copairs"
   ]
  },
  {
   "cell_type": "markdown",
   "metadata": {},
   "source": [
    "### Phenotypic activity"
   ]
  },
  {
   "cell_type": "markdown",
   "metadata": {},
   "source": [
    "#### Reading the result csv of copairs to get add the cell count info "
   ]
  },
  {
   "cell_type": "code",
   "execution_count": 4,
   "metadata": {},
   "outputs": [],
   "source": [
    "result_csv ={'c:\\\\Users\\\\ssivagur\\\\Documents\\\\Projects\\\\Cell_painting_projects\\\\CDoT\\\\Batch3_analysis_redo\\\\UpdatedCopairsVersion\\\\BR00122250_normalized_feature_select_negcon_batch_Result_NegconNorm_mAP_PhenotypicActivity.csv':'Standard CP', \n",
    "             'c:\\\\Users\\\\ssivagur\\\\Documents\\\\Projects\\\\Cell_painting_projects\\\\CDoT\\\\Batch3_analysis_redo\\\\UpdatedCopairsVersion\\\\BR00122246_normalized_feature_select_negcon_batch_Result_NegconNorm_mAP_PhenotypicActivity.csv':'CP + MitoBrilliant',\n",
    "            'c:\\\\Users\\\\ssivagur\\\\Documents\\\\Projects\\\\Cell_painting_projects\\\\CDoT\\\\Batch3_analysis_redo\\\\UpdatedCopairsVersion\\\\BR00122247_normalized_feature_select_negcon_batch_Result_NegconNorm_mAP_PhenotypicActivity.csv':'CP + Phenovue phalloidin 400LS',\n",
    "            'c:\\\\Users\\\\ssivagur\\\\Documents\\\\Projects\\\\Cell_painting_projects\\\\CDoT\\\\Batch3_analysis_redo\\\\UpdatedCopairsVersion\\\\BR00122248_normalized_feature_select_negcon_batch_Result_NegconNorm_mAP_PhenotypicActivity.csv':'Standard CP (exposed to ChromaLive)',\n",
    "            'c:\\\\Users\\\\ssivagur\\\\Documents\\\\Projects\\\\Cell_painting_projects\\\\CDoT\\\\Batch3_analysis_redo\\\\UpdatedCopairsVersion\\\\BR00122249_normalized_feature_select_negcon_batch_wo_phasefeatures_Result_NegconNorm_mAP_PhenotypicActivity.csv':'ChromaLive + Hoechst'}"
   ]
  },
  {
   "cell_type": "markdown",
   "metadata": {},
   "source": [
    "#### Reading the aggregate csv files of copairs "
   ]
  },
  {
   "cell_type": "code",
   "execution_count": 5,
   "metadata": {},
   "outputs": [],
   "source": [
    "aggregate_files_dict = {'c:\\\\Users\\\\ssivagur\\\\Documents\\\\Projects\\\\Cell_painting_projects\\\\CDoT\\\\Batch3_analysis_redo\\\\UpdatedCopairsVersion\\\\BR00122250_normalized_feature_select_negcon_batch_Aggregate_result_NegconNorm_mAP_PhenotypicActivity.csv':'Standard CP',\n",
    "                        'c:\\\\Users\\\\ssivagur\\\\Documents\\\\Projects\\\\Cell_painting_projects\\\\CDoT\\\\Batch3_analysis_redo\\\\UpdatedCopairsVersion\\\\BR00122246_normalized_feature_select_negcon_batch_Aggregate_result_NegconNorm_mAP_PhenotypicActivity.csv':'CP + MitoBrilliant',\n",
    "                        'c:\\\\Users\\\\ssivagur\\\\Documents\\\\Projects\\\\Cell_painting_projects\\\\CDoT\\\\Batch3_analysis_redo\\\\UpdatedCopairsVersion\\\\BR00122247_normalized_feature_select_negcon_batch_Aggregate_result_NegconNorm_mAP_PhenotypicActivity.csv':'CP + Phenovue phalloidin 400LS',\n",
    "                        'c:\\\\Users\\\\ssivagur\\\\Documents\\\\Projects\\\\Cell_painting_projects\\\\CDoT\\\\Batch3_analysis_redo\\\\UpdatedCopairsVersion\\\\BR00122248_normalized_feature_select_negcon_batch_Aggregate_result_NegconNorm_mAP_PhenotypicActivity.csv':'Standard CP (exposed to ChromaLive)',\n",
    "                        'c:\\\\Users\\\\ssivagur\\\\Documents\\\\Projects\\\\Cell_painting_projects\\\\CDoT\\\\Batch3_analysis_redo\\\\UpdatedCopairsVersion\\\\BR00122249_normalized_feature_select_negcon_batch_wo_phasefeatures_Aggregate_result_NegconNorm_mAP_PhenotypicActivity.csv':'ChromaLive + Hoechst'}"
   ]
  },
  {
   "cell_type": "code",
   "execution_count": 6,
   "metadata": {},
   "outputs": [],
   "source": [
    "moA_control_plot, df_controls = cell_count_norm_colorscheme(result_csv, aggregate_files_dict)"
   ]
  },
  {
   "cell_type": "markdown",
   "metadata": {},
   "source": [
    "### Plot"
   ]
  },
  {
   "cell_type": "code",
   "execution_count": 7,
   "metadata": {},
   "outputs": [
    {
     "data": {
      "application/vnd.plotly.v1+json": {
       "config": {
        "plotlyServerURL": "https://plot.ly"
       },
       "data": [
        {
         "hovertemplate": "<b>%{hovertext}</b><br><br>color=Other<br>Mean average precision - Standard CP=%{x}<br>Mean average precision - CP + MitoBrilliant=%{y}<extra></extra>",
         "hovertext": [
          "tumor necrosis factor production inhibitor",
          "antihistamine",
          "acetylcholine receptor antagonist",
          "pyruvate dehydrogenase kinase inhibitor",
          "protein tyrosine kinase inhibitor",
          "antihistamine",
          "hepatocyte growth factor receptor inhibitor",
          "CHK inhibitor",
          "glycogen synthase kinase inhibitor",
          "inosine monophosphate dehydrogenase inhibitor",
          "CDC inhibitor",
          "PARP inhibitor",
          "bromodomain inhibitor",
          "glycogen synthase kinase inhibitor",
          "JAK inhibitor",
          "Apoptosis inducer (ATP-competitive kinase inhibitor)",
          "hepatocyte growth factor receptor inhibitor",
          "bromodomain inhibitor",
          "MEK inhibitor",
          "Aurora kinase inhibitor",
          "phospholipase inhibitor",
          "IGF-1 inhibitor",
          "tricyclic antidepressant",
          "histone lysine demethylase inhibitor",
          "phosphodiesterase inhibitor",
          "beta-catenin inhibitor",
          "JNK inhibitor",
          "LXR agonist",
          "DNA inhibitor",
          "kinesin inhibitor",
          "phosphoinositide dependent kinase inhibitor",
          "RAF inhibitor",
          "FGFR inhibitor",
          "Bcr-Abl kinase inhibitor",
          "AMPK inhibitor",
          "pyruvate dehydrogenase kinase inhibitor",
          "phospholipase inhibitor",
          "Aurora kinase inhibitor",
          "JAK inhibitor",
          "tricyclic antidepressant",
          "PARP inhibitor",
          "BCL inhibitor",
          "inosine monophosphate dehydrogenase inhibitor",
          "MEK inhibitor",
          "histone lysine methyltransferase inhibitor",
          "HDAC inhibitor",
          "HDAC inhibitor",
          "BCL inhibitor",
          "phosphodiesterase inhibitor",
          "kinesin inhibitor",
          "CDK inhibitor",
          "CDC inhibitor",
          "RAF inhibitor",
          "protein tyrosine kinase inhibitor",
          "MAP kinase inhibitor",
          "ER stressor (SERCA inhibitor)",
          "protein arginine N-methyltransferase inhibitor",
          "Apoptosis inducer (transcription inhibitor)",
          "phosphoinositide dependent kinase inhibitor",
          "FGFR inhibitor",
          "DNA inhibitor",
          "smoothened receptor agonist",
          "JNK inhibitor",
          "CHK inhibitor",
          "androgen receptor modulator",
          "HMGCR inhibitor",
          "acetylcholine receptor antagonist",
          "p38 MAPK inhibitor",
          "mTOR inhibitor",
          "EGFR inhibitor",
          "HMGCR inhibitor",
          "IGF-1 inhibitor",
          "protein arginine N-methyltransferase inhibitor",
          "Bcr-Abl kinase inhibitor",
          "MAP kinase inhibitor",
          "p38 MAPK inhibitor",
          "ubiquitin specific protease inhibitor",
          "beta-catenin inhibitor",
          "CDK inhibitor",
          "histone lysine demethylase inhibitor",
          "hypoxia inducible factor inhibitor",
          "androgen receptor modulator",
          "mTOR inhibitor",
          "smoothened receptor agonist",
          "hypoxia inducible factor inhibitor"
         ],
         "legendgroup": "Other",
         "marker": {
          "color": "darkgrey",
          "size": 14,
          "symbol": "circle"
         },
         "mode": "markers",
         "name": "Other",
         "orientation": "v",
         "showlegend": true,
         "type": "scatter",
         "x": [
          0.2944622507122507,
          0.4792508417508417,
          0.319870857699805,
          1,
          0.2676155969634231,
          0.3374634502923976,
          1,
          1,
          1,
          1,
          1,
          0.2917989417989418,
          0.8875,
          1,
          0.3150836783988958,
          1,
          0.1536923878196257,
          1,
          0.675,
          1,
          0.3332581598099332,
          1,
          0.1386736411736411,
          0.8377976190476191,
          0.3261078042328042,
          0.2779858077340915,
          0.3716928904428904,
          0.6833333333333333,
          0.279142501017501,
          1,
          1,
          0.3442460317460317,
          1,
          1,
          1,
          1,
          1,
          1,
          0.7496031746031745,
          0.2060171854289501,
          1,
          1,
          0.9583333333333334,
          1,
          1,
          1,
          1,
          0.9097222222222222,
          0.1116510292826082,
          1,
          1,
          0.3768786768786769,
          1,
          0.1934468952947214,
          0.4020197273486747,
          1,
          1,
          1,
          1,
          1,
          1,
          0.7472222222222222,
          0.4298340548340548,
          1,
          0.1618973346914523,
          0.3379400691900692,
          0.2155818668046928,
          1,
          1,
          1,
          0.2000589225589225,
          1,
          0.4715078766549354,
          0.9666666666666668,
          0.90625,
          0.8236111111111111,
          1,
          1,
          1,
          1,
          0.2409419026679088,
          0.2155164108337482,
          1,
          0.8854166666666666,
          1
         ],
         "xaxis": "x",
         "y": [
          0.1938674615145203,
          0.3181547619047619,
          0.4426735301735301,
          0.8972222222222223,
          0.299443052074631,
          0.2940737865194387,
          1,
          1,
          1,
          1,
          1,
          0.1483847512136986,
          1,
          1,
          0.2308624124413598,
          1,
          0.1571415852665852,
          1,
          0.7509920634920635,
          1,
          0.238154876312771,
          0.9791666666666666,
          0.1375396226866815,
          1,
          0.1604999240525556,
          0.2005454448932709,
          0.5779220779220778,
          0.870436507936508,
          0.1962775260801576,
          1,
          1,
          0.6023809523809524,
          1,
          1,
          1,
          1,
          0.8833333333333333,
          0.7902777777777777,
          0.6001984126984127,
          0.2657634032634032,
          1,
          1,
          1,
          1,
          1,
          1,
          1,
          0.8833333333333333,
          0.229006919006919,
          1,
          1,
          0.2517676767676767,
          1,
          0.1172289076293652,
          0.4773141074611663,
          1,
          0.8312499999999999,
          1,
          1,
          1,
          1,
          0.8833333333333333,
          0.2399971505949766,
          1,
          0.1280925651862184,
          0.2419002634792108,
          0.2997685185185185,
          1,
          1,
          1,
          0.2160091066341066,
          1,
          0.1975700003445998,
          1,
          0.7916666666666666,
          0.6516106442577031,
          1,
          1,
          1,
          1,
          0.4537080036693039,
          0.2023872180451127,
          1,
          1,
          1
         ],
         "yaxis": "y"
        },
        {
         "hovertemplate": "<b>%{hovertext}</b><br><br>color=histone lysine methyltransferase inhibitor<br>Mean average precision - Standard CP=%{x}<br>Mean average precision - CP + MitoBrilliant=%{y}<extra></extra>",
         "hovertext": [
          "histone lysine methyltransferase inhibitor"
         ],
         "legendgroup": "histone lysine methyltransferase inhibitor",
         "marker": {
          "color": "#00cc96",
          "size": 14,
          "symbol": "circle"
         },
         "mode": "markers",
         "name": "histone lysine methyltransferase inhibitor",
         "orientation": "v",
         "showlegend": true,
         "type": "scatter",
         "x": [
          0.3198193337163925
         ],
         "xaxis": "x",
         "y": [
          0.6799603174603175
         ],
         "yaxis": "y"
        },
        {
         "hovertemplate": "<b>%{hovertext}</b><br><br>color=tumor necrosis factor production inhibitor<br>Mean average precision - Standard CP=%{x}<br>Mean average precision - CP + MitoBrilliant=%{y}<extra></extra>",
         "hovertext": [
          "tumor necrosis factor production inhibitor"
         ],
         "legendgroup": "tumor necrosis factor production inhibitor",
         "marker": {
          "color": "#ab63fa",
          "size": 14,
          "symbol": "circle"
         },
         "mode": "markers",
         "name": "tumor necrosis factor production inhibitor",
         "orientation": "v",
         "showlegend": true,
         "type": "scatter",
         "x": [
          0.6796626984126983
         ],
         "xaxis": "x",
         "y": [
          0.2330090741532389
         ],
         "yaxis": "y"
        },
        {
         "hovertemplate": "<b>%{hovertext}</b><br><br>color=ubiquitin specific protease inhibitor<br>Mean average precision - Standard CP=%{x}<br>Mean average precision - CP + MitoBrilliant=%{y}<extra></extra>",
         "hovertext": [
          "ubiquitin specific protease inhibitor"
         ],
         "legendgroup": "ubiquitin specific protease inhibitor",
         "marker": {
          "color": "#FFA15A",
          "size": 14,
          "symbol": "circle"
         },
         "mode": "markers",
         "name": "ubiquitin specific protease inhibitor",
         "orientation": "v",
         "showlegend": true,
         "type": "scatter",
         "x": [
          0.7805555555555556
         ],
         "xaxis": "x",
         "y": [
          0.3650613275613276
         ],
         "yaxis": "y"
        },
        {
         "hovertemplate": "<b>%{hovertext}</b><br><br>color=LXR agonist<br>Mean average precision - Standard CP=%{x}<br>Mean average precision - CP + MitoBrilliant=%{y}<extra></extra>",
         "hovertext": [
          "LXR agonist"
         ],
         "legendgroup": "LXR agonist",
         "marker": {
          "color": "#19d3f3",
          "size": 14,
          "symbol": "circle"
         },
         "mode": "markers",
         "name": "LXR agonist",
         "orientation": "v",
         "showlegend": true,
         "type": "scatter",
         "x": [
          1
         ],
         "xaxis": "x",
         "y": [
          0.6102272727272727
         ],
         "yaxis": "y"
        },
        {
         "hovertemplate": "<b>%{hovertext}</b><br><br>color=EGFR inhibitor<br>Mean average precision - Standard CP=%{x}<br>Mean average precision - CP + MitoBrilliant=%{y}<extra></extra>",
         "hovertext": [
          "EGFR inhibitor"
         ],
         "legendgroup": "EGFR inhibitor",
         "marker": {
          "color": "#FF6692",
          "size": 14,
          "symbol": "circle"
         },
         "mode": "markers",
         "name": "EGFR inhibitor",
         "orientation": "v",
         "showlegend": true,
         "type": "scatter",
         "x": [
          0.4321937321937322
         ],
         "xaxis": "x",
         "y": [
          0.7876984126984127
         ],
         "yaxis": "y"
        }
       ],
       "layout": {
        "font": {
         "color": "Black",
         "family": "sans serif",
         "size": 26
        },
        "height": 1200,
        "legend": {
         "orientation": "h",
         "title": {
          "text": "color"
         },
         "tracegroupgap": 0
        },
        "margin": {
         "t": 60
        },
        "plot_bgcolor": "rgba(0,0,0,0)",
        "shapes": [
         {
          "line": {
           "color": "lightgrey",
           "dash": "dashdot"
          },
          "type": "line",
          "x0": 0,
          "x1": 1,
          "y0": 0,
          "y1": 1
         }
        ],
        "template": {
         "data": {
          "bar": [
           {
            "error_x": {
             "color": "#2a3f5f"
            },
            "error_y": {
             "color": "#2a3f5f"
            },
            "marker": {
             "line": {
              "color": "#E5ECF6",
              "width": 0.5
             },
             "pattern": {
              "fillmode": "overlay",
              "size": 10,
              "solidity": 0.2
             }
            },
            "type": "bar"
           }
          ],
          "barpolar": [
           {
            "marker": {
             "line": {
              "color": "#E5ECF6",
              "width": 0.5
             },
             "pattern": {
              "fillmode": "overlay",
              "size": 10,
              "solidity": 0.2
             }
            },
            "type": "barpolar"
           }
          ],
          "carpet": [
           {
            "aaxis": {
             "endlinecolor": "#2a3f5f",
             "gridcolor": "white",
             "linecolor": "white",
             "minorgridcolor": "white",
             "startlinecolor": "#2a3f5f"
            },
            "baxis": {
             "endlinecolor": "#2a3f5f",
             "gridcolor": "white",
             "linecolor": "white",
             "minorgridcolor": "white",
             "startlinecolor": "#2a3f5f"
            },
            "type": "carpet"
           }
          ],
          "choropleth": [
           {
            "colorbar": {
             "outlinewidth": 0,
             "ticks": ""
            },
            "type": "choropleth"
           }
          ],
          "contour": [
           {
            "colorbar": {
             "outlinewidth": 0,
             "ticks": ""
            },
            "colorscale": [
             [
              0,
              "#0d0887"
             ],
             [
              0.1111111111111111,
              "#46039f"
             ],
             [
              0.2222222222222222,
              "#7201a8"
             ],
             [
              0.3333333333333333,
              "#9c179e"
             ],
             [
              0.4444444444444444,
              "#bd3786"
             ],
             [
              0.5555555555555556,
              "#d8576b"
             ],
             [
              0.6666666666666666,
              "#ed7953"
             ],
             [
              0.7777777777777778,
              "#fb9f3a"
             ],
             [
              0.8888888888888888,
              "#fdca26"
             ],
             [
              1,
              "#f0f921"
             ]
            ],
            "type": "contour"
           }
          ],
          "contourcarpet": [
           {
            "colorbar": {
             "outlinewidth": 0,
             "ticks": ""
            },
            "type": "contourcarpet"
           }
          ],
          "heatmap": [
           {
            "colorbar": {
             "outlinewidth": 0,
             "ticks": ""
            },
            "colorscale": [
             [
              0,
              "#0d0887"
             ],
             [
              0.1111111111111111,
              "#46039f"
             ],
             [
              0.2222222222222222,
              "#7201a8"
             ],
             [
              0.3333333333333333,
              "#9c179e"
             ],
             [
              0.4444444444444444,
              "#bd3786"
             ],
             [
              0.5555555555555556,
              "#d8576b"
             ],
             [
              0.6666666666666666,
              "#ed7953"
             ],
             [
              0.7777777777777778,
              "#fb9f3a"
             ],
             [
              0.8888888888888888,
              "#fdca26"
             ],
             [
              1,
              "#f0f921"
             ]
            ],
            "type": "heatmap"
           }
          ],
          "heatmapgl": [
           {
            "colorbar": {
             "outlinewidth": 0,
             "ticks": ""
            },
            "colorscale": [
             [
              0,
              "#0d0887"
             ],
             [
              0.1111111111111111,
              "#46039f"
             ],
             [
              0.2222222222222222,
              "#7201a8"
             ],
             [
              0.3333333333333333,
              "#9c179e"
             ],
             [
              0.4444444444444444,
              "#bd3786"
             ],
             [
              0.5555555555555556,
              "#d8576b"
             ],
             [
              0.6666666666666666,
              "#ed7953"
             ],
             [
              0.7777777777777778,
              "#fb9f3a"
             ],
             [
              0.8888888888888888,
              "#fdca26"
             ],
             [
              1,
              "#f0f921"
             ]
            ],
            "type": "heatmapgl"
           }
          ],
          "histogram": [
           {
            "marker": {
             "pattern": {
              "fillmode": "overlay",
              "size": 10,
              "solidity": 0.2
             }
            },
            "type": "histogram"
           }
          ],
          "histogram2d": [
           {
            "colorbar": {
             "outlinewidth": 0,
             "ticks": ""
            },
            "colorscale": [
             [
              0,
              "#0d0887"
             ],
             [
              0.1111111111111111,
              "#46039f"
             ],
             [
              0.2222222222222222,
              "#7201a8"
             ],
             [
              0.3333333333333333,
              "#9c179e"
             ],
             [
              0.4444444444444444,
              "#bd3786"
             ],
             [
              0.5555555555555556,
              "#d8576b"
             ],
             [
              0.6666666666666666,
              "#ed7953"
             ],
             [
              0.7777777777777778,
              "#fb9f3a"
             ],
             [
              0.8888888888888888,
              "#fdca26"
             ],
             [
              1,
              "#f0f921"
             ]
            ],
            "type": "histogram2d"
           }
          ],
          "histogram2dcontour": [
           {
            "colorbar": {
             "outlinewidth": 0,
             "ticks": ""
            },
            "colorscale": [
             [
              0,
              "#0d0887"
             ],
             [
              0.1111111111111111,
              "#46039f"
             ],
             [
              0.2222222222222222,
              "#7201a8"
             ],
             [
              0.3333333333333333,
              "#9c179e"
             ],
             [
              0.4444444444444444,
              "#bd3786"
             ],
             [
              0.5555555555555556,
              "#d8576b"
             ],
             [
              0.6666666666666666,
              "#ed7953"
             ],
             [
              0.7777777777777778,
              "#fb9f3a"
             ],
             [
              0.8888888888888888,
              "#fdca26"
             ],
             [
              1,
              "#f0f921"
             ]
            ],
            "type": "histogram2dcontour"
           }
          ],
          "mesh3d": [
           {
            "colorbar": {
             "outlinewidth": 0,
             "ticks": ""
            },
            "type": "mesh3d"
           }
          ],
          "parcoords": [
           {
            "line": {
             "colorbar": {
              "outlinewidth": 0,
              "ticks": ""
             }
            },
            "type": "parcoords"
           }
          ],
          "pie": [
           {
            "automargin": true,
            "type": "pie"
           }
          ],
          "scatter": [
           {
            "fillpattern": {
             "fillmode": "overlay",
             "size": 10,
             "solidity": 0.2
            },
            "type": "scatter"
           }
          ],
          "scatter3d": [
           {
            "line": {
             "colorbar": {
              "outlinewidth": 0,
              "ticks": ""
             }
            },
            "marker": {
             "colorbar": {
              "outlinewidth": 0,
              "ticks": ""
             }
            },
            "type": "scatter3d"
           }
          ],
          "scattercarpet": [
           {
            "marker": {
             "colorbar": {
              "outlinewidth": 0,
              "ticks": ""
             }
            },
            "type": "scattercarpet"
           }
          ],
          "scattergeo": [
           {
            "marker": {
             "colorbar": {
              "outlinewidth": 0,
              "ticks": ""
             }
            },
            "type": "scattergeo"
           }
          ],
          "scattergl": [
           {
            "marker": {
             "colorbar": {
              "outlinewidth": 0,
              "ticks": ""
             }
            },
            "type": "scattergl"
           }
          ],
          "scattermapbox": [
           {
            "marker": {
             "colorbar": {
              "outlinewidth": 0,
              "ticks": ""
             }
            },
            "type": "scattermapbox"
           }
          ],
          "scatterpolar": [
           {
            "marker": {
             "colorbar": {
              "outlinewidth": 0,
              "ticks": ""
             }
            },
            "type": "scatterpolar"
           }
          ],
          "scatterpolargl": [
           {
            "marker": {
             "colorbar": {
              "outlinewidth": 0,
              "ticks": ""
             }
            },
            "type": "scatterpolargl"
           }
          ],
          "scatterternary": [
           {
            "marker": {
             "colorbar": {
              "outlinewidth": 0,
              "ticks": ""
             }
            },
            "type": "scatterternary"
           }
          ],
          "surface": [
           {
            "colorbar": {
             "outlinewidth": 0,
             "ticks": ""
            },
            "colorscale": [
             [
              0,
              "#0d0887"
             ],
             [
              0.1111111111111111,
              "#46039f"
             ],
             [
              0.2222222222222222,
              "#7201a8"
             ],
             [
              0.3333333333333333,
              "#9c179e"
             ],
             [
              0.4444444444444444,
              "#bd3786"
             ],
             [
              0.5555555555555556,
              "#d8576b"
             ],
             [
              0.6666666666666666,
              "#ed7953"
             ],
             [
              0.7777777777777778,
              "#fb9f3a"
             ],
             [
              0.8888888888888888,
              "#fdca26"
             ],
             [
              1,
              "#f0f921"
             ]
            ],
            "type": "surface"
           }
          ],
          "table": [
           {
            "cells": {
             "fill": {
              "color": "#EBF0F8"
             },
             "line": {
              "color": "white"
             }
            },
            "header": {
             "fill": {
              "color": "#C8D4E3"
             },
             "line": {
              "color": "white"
             }
            },
            "type": "table"
           }
          ]
         },
         "layout": {
          "annotationdefaults": {
           "arrowcolor": "#2a3f5f",
           "arrowhead": 0,
           "arrowwidth": 1
          },
          "autotypenumbers": "strict",
          "coloraxis": {
           "colorbar": {
            "outlinewidth": 0,
            "ticks": ""
           }
          },
          "colorscale": {
           "diverging": [
            [
             0,
             "#8e0152"
            ],
            [
             0.1,
             "#c51b7d"
            ],
            [
             0.2,
             "#de77ae"
            ],
            [
             0.3,
             "#f1b6da"
            ],
            [
             0.4,
             "#fde0ef"
            ],
            [
             0.5,
             "#f7f7f7"
            ],
            [
             0.6,
             "#e6f5d0"
            ],
            [
             0.7,
             "#b8e186"
            ],
            [
             0.8,
             "#7fbc41"
            ],
            [
             0.9,
             "#4d9221"
            ],
            [
             1,
             "#276419"
            ]
           ],
           "sequential": [
            [
             0,
             "#0d0887"
            ],
            [
             0.1111111111111111,
             "#46039f"
            ],
            [
             0.2222222222222222,
             "#7201a8"
            ],
            [
             0.3333333333333333,
             "#9c179e"
            ],
            [
             0.4444444444444444,
             "#bd3786"
            ],
            [
             0.5555555555555556,
             "#d8576b"
            ],
            [
             0.6666666666666666,
             "#ed7953"
            ],
            [
             0.7777777777777778,
             "#fb9f3a"
            ],
            [
             0.8888888888888888,
             "#fdca26"
            ],
            [
             1,
             "#f0f921"
            ]
           ],
           "sequentialminus": [
            [
             0,
             "#0d0887"
            ],
            [
             0.1111111111111111,
             "#46039f"
            ],
            [
             0.2222222222222222,
             "#7201a8"
            ],
            [
             0.3333333333333333,
             "#9c179e"
            ],
            [
             0.4444444444444444,
             "#bd3786"
            ],
            [
             0.5555555555555556,
             "#d8576b"
            ],
            [
             0.6666666666666666,
             "#ed7953"
            ],
            [
             0.7777777777777778,
             "#fb9f3a"
            ],
            [
             0.8888888888888888,
             "#fdca26"
            ],
            [
             1,
             "#f0f921"
            ]
           ]
          },
          "colorway": [
           "#636efa",
           "#EF553B",
           "#00cc96",
           "#ab63fa",
           "#FFA15A",
           "#19d3f3",
           "#FF6692",
           "#B6E880",
           "#FF97FF",
           "#FECB52"
          ],
          "font": {
           "color": "#2a3f5f"
          },
          "geo": {
           "bgcolor": "white",
           "lakecolor": "white",
           "landcolor": "#E5ECF6",
           "showlakes": true,
           "showland": true,
           "subunitcolor": "white"
          },
          "hoverlabel": {
           "align": "left"
          },
          "hovermode": "closest",
          "mapbox": {
           "style": "light"
          },
          "paper_bgcolor": "white",
          "plot_bgcolor": "#E5ECF6",
          "polar": {
           "angularaxis": {
            "gridcolor": "white",
            "linecolor": "white",
            "ticks": ""
           },
           "bgcolor": "#E5ECF6",
           "radialaxis": {
            "gridcolor": "white",
            "linecolor": "white",
            "ticks": ""
           }
          },
          "scene": {
           "xaxis": {
            "backgroundcolor": "#E5ECF6",
            "gridcolor": "white",
            "gridwidth": 2,
            "linecolor": "white",
            "showbackground": true,
            "ticks": "",
            "zerolinecolor": "white"
           },
           "yaxis": {
            "backgroundcolor": "#E5ECF6",
            "gridcolor": "white",
            "gridwidth": 2,
            "linecolor": "white",
            "showbackground": true,
            "ticks": "",
            "zerolinecolor": "white"
           },
           "zaxis": {
            "backgroundcolor": "#E5ECF6",
            "gridcolor": "white",
            "gridwidth": 2,
            "linecolor": "white",
            "showbackground": true,
            "ticks": "",
            "zerolinecolor": "white"
           }
          },
          "shapedefaults": {
           "line": {
            "color": "#2a3f5f"
           }
          },
          "ternary": {
           "aaxis": {
            "gridcolor": "white",
            "linecolor": "white",
            "ticks": ""
           },
           "baxis": {
            "gridcolor": "white",
            "linecolor": "white",
            "ticks": ""
           },
           "bgcolor": "#E5ECF6",
           "caxis": {
            "gridcolor": "white",
            "linecolor": "white",
            "ticks": ""
           }
          },
          "title": {
           "x": 0.05
          },
          "xaxis": {
           "automargin": true,
           "gridcolor": "white",
           "linecolor": "white",
           "ticks": "",
           "title": {
            "standoff": 15
           },
           "zerolinecolor": "white",
           "zerolinewidth": 2
          },
          "yaxis": {
           "automargin": true,
           "gridcolor": "white",
           "linecolor": "white",
           "ticks": "",
           "title": {
            "standoff": 15
           },
           "zerolinecolor": "white",
           "zerolinewidth": 2
          }
         }
        },
        "width": 1000,
        "xaxis": {
         "anchor": "y",
         "domain": [
          0,
          1
         ],
         "linecolor": "black",
         "showline": true,
         "ticks": "outside",
         "title": {
          "text": "Mean average precision - Standard CP"
         }
        },
        "yaxis": {
         "anchor": "x",
         "domain": [
          0,
          1
         ],
         "linecolor": "black",
         "showline": true,
         "ticks": "outside",
         "title": {
          "text": "Mean average precision - CP + MitoBrilliant"
         }
        }
       }
      }
     },
     "metadata": {},
     "output_type": "display_data"
    }
   ],
   "source": [
    "scatter_plot_comparison_colorblack(df_controls,col1='Standard CP', col2='CP + MitoBrilliant', cutoff=0.3)"
   ]
  },
  {
   "cell_type": "code",
   "execution_count": 8,
   "metadata": {},
   "outputs": [
    {
     "data": {
      "application/vnd.plotly.v1+json": {
       "config": {
        "plotlyServerURL": "https://plot.ly"
       },
       "data": [
        {
         "hovertemplate": "<b>%{hovertext}</b><br><br>color=Other<br>Mean average precision - Standard CP=%{x}<br>Mean average precision - CP + Phenovue phalloidin 400LS=%{y}<extra></extra>",
         "hovertext": [
          "tumor necrosis factor production inhibitor",
          "antihistamine",
          "acetylcholine receptor antagonist",
          "pyruvate dehydrogenase kinase inhibitor",
          "protein tyrosine kinase inhibitor",
          "antihistamine",
          "hepatocyte growth factor receptor inhibitor",
          "CHK inhibitor",
          "glycogen synthase kinase inhibitor",
          "histone lysine methyltransferase inhibitor",
          "inosine monophosphate dehydrogenase inhibitor",
          "CDC inhibitor",
          "PARP inhibitor",
          "bromodomain inhibitor",
          "glycogen synthase kinase inhibitor",
          "JAK inhibitor",
          "Apoptosis inducer (ATP-competitive kinase inhibitor)",
          "hepatocyte growth factor receptor inhibitor",
          "bromodomain inhibitor",
          "MEK inhibitor",
          "Aurora kinase inhibitor",
          "LXR agonist",
          "phospholipase inhibitor",
          "IGF-1 inhibitor",
          "tricyclic antidepressant",
          "phosphodiesterase inhibitor",
          "beta-catenin inhibitor",
          "JNK inhibitor",
          "LXR agonist",
          "DNA inhibitor",
          "kinesin inhibitor",
          "phosphoinositide dependent kinase inhibitor",
          "RAF inhibitor",
          "FGFR inhibitor",
          "Bcr-Abl kinase inhibitor",
          "AMPK inhibitor",
          "pyruvate dehydrogenase kinase inhibitor",
          "phospholipase inhibitor",
          "Aurora kinase inhibitor",
          "JAK inhibitor",
          "tricyclic antidepressant",
          "PARP inhibitor",
          "BCL inhibitor",
          "inosine monophosphate dehydrogenase inhibitor",
          "MEK inhibitor",
          "histone lysine methyltransferase inhibitor",
          "HDAC inhibitor",
          "HDAC inhibitor",
          "BCL inhibitor",
          "phosphodiesterase inhibitor",
          "kinesin inhibitor",
          "CDK inhibitor",
          "CDC inhibitor",
          "RAF inhibitor",
          "protein tyrosine kinase inhibitor",
          "MAP kinase inhibitor",
          "ER stressor (SERCA inhibitor)",
          "protein arginine N-methyltransferase inhibitor",
          "Apoptosis inducer (transcription inhibitor)",
          "phosphoinositide dependent kinase inhibitor",
          "FGFR inhibitor",
          "DNA inhibitor",
          "smoothened receptor agonist",
          "JNK inhibitor",
          "CHK inhibitor",
          "EGFR inhibitor",
          "androgen receptor modulator",
          "HMGCR inhibitor",
          "acetylcholine receptor antagonist",
          "p38 MAPK inhibitor",
          "mTOR inhibitor",
          "EGFR inhibitor",
          "HMGCR inhibitor",
          "IGF-1 inhibitor",
          "protein arginine N-methyltransferase inhibitor",
          "Bcr-Abl kinase inhibitor",
          "MAP kinase inhibitor",
          "p38 MAPK inhibitor",
          "ubiquitin specific protease inhibitor",
          "beta-catenin inhibitor",
          "CDK inhibitor",
          "histone lysine demethylase inhibitor",
          "androgen receptor modulator",
          "mTOR inhibitor",
          "smoothened receptor agonist",
          "hypoxia inducible factor inhibitor"
         ],
         "legendgroup": "Other",
         "marker": {
          "color": "darkgrey",
          "size": 14,
          "symbol": "circle"
         },
         "mode": "markers",
         "name": "Other",
         "orientation": "v",
         "showlegend": true,
         "type": "scatter",
         "x": [
          0.2944622507122507,
          0.4792508417508417,
          0.319870857699805,
          1,
          0.2676155969634231,
          0.3374634502923976,
          1,
          1,
          1,
          0.3198193337163925,
          1,
          1,
          0.2917989417989418,
          0.8875,
          1,
          0.3150836783988958,
          1,
          0.1536923878196257,
          1,
          0.675,
          1,
          1,
          0.3332581598099332,
          1,
          0.1386736411736411,
          0.3261078042328042,
          0.2779858077340915,
          0.3716928904428904,
          0.6833333333333333,
          0.279142501017501,
          1,
          1,
          0.3442460317460317,
          1,
          1,
          1,
          1,
          1,
          1,
          0.7496031746031745,
          0.2060171854289501,
          1,
          1,
          0.9583333333333334,
          1,
          1,
          1,
          1,
          0.9097222222222222,
          0.1116510292826082,
          1,
          1,
          0.3768786768786769,
          1,
          0.1934468952947214,
          0.4020197273486747,
          1,
          1,
          1,
          1,
          1,
          1,
          0.7472222222222222,
          0.4298340548340548,
          1,
          0.4321937321937322,
          0.1618973346914523,
          0.3379400691900692,
          0.2155818668046928,
          1,
          1,
          1,
          0.2000589225589225,
          1,
          0.4715078766549354,
          0.9666666666666668,
          0.90625,
          0.8236111111111111,
          1,
          1,
          1,
          1,
          0.2155164108337482,
          1,
          0.8854166666666666,
          1
         ],
         "xaxis": "x",
         "y": [
          0.2558751542575072,
          0.1593121897881959,
          0.3335751054501055,
          0.8500000000000001,
          0.248718917391518,
          0.5228863728863729,
          1,
          1,
          1,
          0.3401785714285714,
          1,
          1,
          0.3268518518518518,
          1,
          1,
          0.3742799852067586,
          1,
          0.1680952643548551,
          1,
          0.7242063492063492,
          1,
          1,
          0.3908527678748266,
          1,
          0.3147934813724287,
          0.2237367614269788,
          0.240540293040293,
          0.2428185190413451,
          0.6048611111111111,
          0.1154631271135847,
          1,
          1,
          0.2824013949013949,
          1,
          1,
          0.9097222222222222,
          1,
          1,
          1,
          0.6797852474323063,
          0.2132009058479646,
          1,
          1,
          0.7871031746031747,
          1,
          0.8694444444444445,
          1,
          1,
          0.7999999999999999,
          0.1576762709914883,
          1,
          1,
          0.275005305152364,
          0.7676587301587302,
          0.2301143301143301,
          0.4014936330725804,
          1,
          0.9583333333333331,
          1,
          0.9513888888888888,
          1,
          1,
          0.5174693362193362,
          0.2016026747005007,
          1,
          0.5733987077737077,
          0.2232273391812865,
          0.365625,
          0.4890873015873015,
          1,
          1,
          1,
          0.1883964719491035,
          1,
          0.1587512025012024,
          1,
          0.8694444444444445,
          0.5371031746031746,
          0.7583333333333333,
          0.8069444444444445,
          1,
          1,
          0.1651788790919225,
          1,
          0.8347222222222223,
          1
         ],
         "yaxis": "y"
        },
        {
         "hovertemplate": "<b>%{hovertext}</b><br><br>color=tumor necrosis factor production inhibitor<br>Mean average precision - Standard CP=%{x}<br>Mean average precision - CP + Phenovue phalloidin 400LS=%{y}<extra></extra>",
         "hovertext": [
          "tumor necrosis factor production inhibitor"
         ],
         "legendgroup": "tumor necrosis factor production inhibitor",
         "marker": {
          "color": "#00cc96",
          "size": 14,
          "symbol": "circle"
         },
         "mode": "markers",
         "name": "tumor necrosis factor production inhibitor",
         "orientation": "v",
         "showlegend": true,
         "type": "scatter",
         "x": [
          0.6796626984126983
         ],
         "xaxis": "x",
         "y": [
          0.1566587347837347
         ],
         "yaxis": "y"
        },
        {
         "hovertemplate": "<b>%{hovertext}</b><br><br>color=ubiquitin specific protease inhibitor<br>Mean average precision - Standard CP=%{x}<br>Mean average precision - CP + Phenovue phalloidin 400LS=%{y}<extra></extra>",
         "hovertext": [
          "ubiquitin specific protease inhibitor"
         ],
         "legendgroup": "ubiquitin specific protease inhibitor",
         "marker": {
          "color": "#ab63fa",
          "size": 14,
          "symbol": "circle"
         },
         "mode": "markers",
         "name": "ubiquitin specific protease inhibitor",
         "orientation": "v",
         "showlegend": true,
         "type": "scatter",
         "x": [
          0.7805555555555556
         ],
         "xaxis": "x",
         "y": [
          0.3692045454545454
         ],
         "yaxis": "y"
        },
        {
         "hovertemplate": "<b>%{hovertext}</b><br><br>color=histone lysine demethylase inhibitor<br>Mean average precision - Standard CP=%{x}<br>Mean average precision - CP + Phenovue phalloidin 400LS=%{y}<extra></extra>",
         "hovertext": [
          "histone lysine demethylase inhibitor"
         ],
         "legendgroup": "histone lysine demethylase inhibitor",
         "marker": {
          "color": "#FFA15A",
          "size": 14,
          "symbol": "circle"
         },
         "mode": "markers",
         "name": "histone lysine demethylase inhibitor",
         "orientation": "v",
         "showlegend": true,
         "type": "scatter",
         "x": [
          0.8377976190476191
         ],
         "xaxis": "x",
         "y": [
          0.4847187412976886
         ],
         "yaxis": "y"
        },
        {
         "hovertemplate": "<b>%{hovertext}</b><br><br>color=hypoxia inducible factor inhibitor<br>Mean average precision - Standard CP=%{x}<br>Mean average precision - CP + Phenovue phalloidin 400LS=%{y}<extra></extra>",
         "hovertext": [
          "hypoxia inducible factor inhibitor"
         ],
         "legendgroup": "hypoxia inducible factor inhibitor",
         "marker": {
          "color": "#19d3f3",
          "size": 14,
          "symbol": "circle"
         },
         "mode": "markers",
         "name": "hypoxia inducible factor inhibitor",
         "orientation": "v",
         "showlegend": true,
         "type": "scatter",
         "x": [
          0.2409419026679088
         ],
         "xaxis": "x",
         "y": [
          0.9055555555555556
         ],
         "yaxis": "y"
        }
       ],
       "layout": {
        "font": {
         "color": "Black",
         "family": "sans serif",
         "size": 26
        },
        "height": 1200,
        "legend": {
         "orientation": "h",
         "title": {
          "text": "color"
         },
         "tracegroupgap": 0
        },
        "margin": {
         "t": 60
        },
        "plot_bgcolor": "rgba(0,0,0,0)",
        "shapes": [
         {
          "line": {
           "color": "lightgrey",
           "dash": "dashdot"
          },
          "type": "line",
          "x0": 0,
          "x1": 1,
          "y0": 0,
          "y1": 1
         }
        ],
        "template": {
         "data": {
          "bar": [
           {
            "error_x": {
             "color": "#2a3f5f"
            },
            "error_y": {
             "color": "#2a3f5f"
            },
            "marker": {
             "line": {
              "color": "#E5ECF6",
              "width": 0.5
             },
             "pattern": {
              "fillmode": "overlay",
              "size": 10,
              "solidity": 0.2
             }
            },
            "type": "bar"
           }
          ],
          "barpolar": [
           {
            "marker": {
             "line": {
              "color": "#E5ECF6",
              "width": 0.5
             },
             "pattern": {
              "fillmode": "overlay",
              "size": 10,
              "solidity": 0.2
             }
            },
            "type": "barpolar"
           }
          ],
          "carpet": [
           {
            "aaxis": {
             "endlinecolor": "#2a3f5f",
             "gridcolor": "white",
             "linecolor": "white",
             "minorgridcolor": "white",
             "startlinecolor": "#2a3f5f"
            },
            "baxis": {
             "endlinecolor": "#2a3f5f",
             "gridcolor": "white",
             "linecolor": "white",
             "minorgridcolor": "white",
             "startlinecolor": "#2a3f5f"
            },
            "type": "carpet"
           }
          ],
          "choropleth": [
           {
            "colorbar": {
             "outlinewidth": 0,
             "ticks": ""
            },
            "type": "choropleth"
           }
          ],
          "contour": [
           {
            "colorbar": {
             "outlinewidth": 0,
             "ticks": ""
            },
            "colorscale": [
             [
              0,
              "#0d0887"
             ],
             [
              0.1111111111111111,
              "#46039f"
             ],
             [
              0.2222222222222222,
              "#7201a8"
             ],
             [
              0.3333333333333333,
              "#9c179e"
             ],
             [
              0.4444444444444444,
              "#bd3786"
             ],
             [
              0.5555555555555556,
              "#d8576b"
             ],
             [
              0.6666666666666666,
              "#ed7953"
             ],
             [
              0.7777777777777778,
              "#fb9f3a"
             ],
             [
              0.8888888888888888,
              "#fdca26"
             ],
             [
              1,
              "#f0f921"
             ]
            ],
            "type": "contour"
           }
          ],
          "contourcarpet": [
           {
            "colorbar": {
             "outlinewidth": 0,
             "ticks": ""
            },
            "type": "contourcarpet"
           }
          ],
          "heatmap": [
           {
            "colorbar": {
             "outlinewidth": 0,
             "ticks": ""
            },
            "colorscale": [
             [
              0,
              "#0d0887"
             ],
             [
              0.1111111111111111,
              "#46039f"
             ],
             [
              0.2222222222222222,
              "#7201a8"
             ],
             [
              0.3333333333333333,
              "#9c179e"
             ],
             [
              0.4444444444444444,
              "#bd3786"
             ],
             [
              0.5555555555555556,
              "#d8576b"
             ],
             [
              0.6666666666666666,
              "#ed7953"
             ],
             [
              0.7777777777777778,
              "#fb9f3a"
             ],
             [
              0.8888888888888888,
              "#fdca26"
             ],
             [
              1,
              "#f0f921"
             ]
            ],
            "type": "heatmap"
           }
          ],
          "heatmapgl": [
           {
            "colorbar": {
             "outlinewidth": 0,
             "ticks": ""
            },
            "colorscale": [
             [
              0,
              "#0d0887"
             ],
             [
              0.1111111111111111,
              "#46039f"
             ],
             [
              0.2222222222222222,
              "#7201a8"
             ],
             [
              0.3333333333333333,
              "#9c179e"
             ],
             [
              0.4444444444444444,
              "#bd3786"
             ],
             [
              0.5555555555555556,
              "#d8576b"
             ],
             [
              0.6666666666666666,
              "#ed7953"
             ],
             [
              0.7777777777777778,
              "#fb9f3a"
             ],
             [
              0.8888888888888888,
              "#fdca26"
             ],
             [
              1,
              "#f0f921"
             ]
            ],
            "type": "heatmapgl"
           }
          ],
          "histogram": [
           {
            "marker": {
             "pattern": {
              "fillmode": "overlay",
              "size": 10,
              "solidity": 0.2
             }
            },
            "type": "histogram"
           }
          ],
          "histogram2d": [
           {
            "colorbar": {
             "outlinewidth": 0,
             "ticks": ""
            },
            "colorscale": [
             [
              0,
              "#0d0887"
             ],
             [
              0.1111111111111111,
              "#46039f"
             ],
             [
              0.2222222222222222,
              "#7201a8"
             ],
             [
              0.3333333333333333,
              "#9c179e"
             ],
             [
              0.4444444444444444,
              "#bd3786"
             ],
             [
              0.5555555555555556,
              "#d8576b"
             ],
             [
              0.6666666666666666,
              "#ed7953"
             ],
             [
              0.7777777777777778,
              "#fb9f3a"
             ],
             [
              0.8888888888888888,
              "#fdca26"
             ],
             [
              1,
              "#f0f921"
             ]
            ],
            "type": "histogram2d"
           }
          ],
          "histogram2dcontour": [
           {
            "colorbar": {
             "outlinewidth": 0,
             "ticks": ""
            },
            "colorscale": [
             [
              0,
              "#0d0887"
             ],
             [
              0.1111111111111111,
              "#46039f"
             ],
             [
              0.2222222222222222,
              "#7201a8"
             ],
             [
              0.3333333333333333,
              "#9c179e"
             ],
             [
              0.4444444444444444,
              "#bd3786"
             ],
             [
              0.5555555555555556,
              "#d8576b"
             ],
             [
              0.6666666666666666,
              "#ed7953"
             ],
             [
              0.7777777777777778,
              "#fb9f3a"
             ],
             [
              0.8888888888888888,
              "#fdca26"
             ],
             [
              1,
              "#f0f921"
             ]
            ],
            "type": "histogram2dcontour"
           }
          ],
          "mesh3d": [
           {
            "colorbar": {
             "outlinewidth": 0,
             "ticks": ""
            },
            "type": "mesh3d"
           }
          ],
          "parcoords": [
           {
            "line": {
             "colorbar": {
              "outlinewidth": 0,
              "ticks": ""
             }
            },
            "type": "parcoords"
           }
          ],
          "pie": [
           {
            "automargin": true,
            "type": "pie"
           }
          ],
          "scatter": [
           {
            "fillpattern": {
             "fillmode": "overlay",
             "size": 10,
             "solidity": 0.2
            },
            "type": "scatter"
           }
          ],
          "scatter3d": [
           {
            "line": {
             "colorbar": {
              "outlinewidth": 0,
              "ticks": ""
             }
            },
            "marker": {
             "colorbar": {
              "outlinewidth": 0,
              "ticks": ""
             }
            },
            "type": "scatter3d"
           }
          ],
          "scattercarpet": [
           {
            "marker": {
             "colorbar": {
              "outlinewidth": 0,
              "ticks": ""
             }
            },
            "type": "scattercarpet"
           }
          ],
          "scattergeo": [
           {
            "marker": {
             "colorbar": {
              "outlinewidth": 0,
              "ticks": ""
             }
            },
            "type": "scattergeo"
           }
          ],
          "scattergl": [
           {
            "marker": {
             "colorbar": {
              "outlinewidth": 0,
              "ticks": ""
             }
            },
            "type": "scattergl"
           }
          ],
          "scattermapbox": [
           {
            "marker": {
             "colorbar": {
              "outlinewidth": 0,
              "ticks": ""
             }
            },
            "type": "scattermapbox"
           }
          ],
          "scatterpolar": [
           {
            "marker": {
             "colorbar": {
              "outlinewidth": 0,
              "ticks": ""
             }
            },
            "type": "scatterpolar"
           }
          ],
          "scatterpolargl": [
           {
            "marker": {
             "colorbar": {
              "outlinewidth": 0,
              "ticks": ""
             }
            },
            "type": "scatterpolargl"
           }
          ],
          "scatterternary": [
           {
            "marker": {
             "colorbar": {
              "outlinewidth": 0,
              "ticks": ""
             }
            },
            "type": "scatterternary"
           }
          ],
          "surface": [
           {
            "colorbar": {
             "outlinewidth": 0,
             "ticks": ""
            },
            "colorscale": [
             [
              0,
              "#0d0887"
             ],
             [
              0.1111111111111111,
              "#46039f"
             ],
             [
              0.2222222222222222,
              "#7201a8"
             ],
             [
              0.3333333333333333,
              "#9c179e"
             ],
             [
              0.4444444444444444,
              "#bd3786"
             ],
             [
              0.5555555555555556,
              "#d8576b"
             ],
             [
              0.6666666666666666,
              "#ed7953"
             ],
             [
              0.7777777777777778,
              "#fb9f3a"
             ],
             [
              0.8888888888888888,
              "#fdca26"
             ],
             [
              1,
              "#f0f921"
             ]
            ],
            "type": "surface"
           }
          ],
          "table": [
           {
            "cells": {
             "fill": {
              "color": "#EBF0F8"
             },
             "line": {
              "color": "white"
             }
            },
            "header": {
             "fill": {
              "color": "#C8D4E3"
             },
             "line": {
              "color": "white"
             }
            },
            "type": "table"
           }
          ]
         },
         "layout": {
          "annotationdefaults": {
           "arrowcolor": "#2a3f5f",
           "arrowhead": 0,
           "arrowwidth": 1
          },
          "autotypenumbers": "strict",
          "coloraxis": {
           "colorbar": {
            "outlinewidth": 0,
            "ticks": ""
           }
          },
          "colorscale": {
           "diverging": [
            [
             0,
             "#8e0152"
            ],
            [
             0.1,
             "#c51b7d"
            ],
            [
             0.2,
             "#de77ae"
            ],
            [
             0.3,
             "#f1b6da"
            ],
            [
             0.4,
             "#fde0ef"
            ],
            [
             0.5,
             "#f7f7f7"
            ],
            [
             0.6,
             "#e6f5d0"
            ],
            [
             0.7,
             "#b8e186"
            ],
            [
             0.8,
             "#7fbc41"
            ],
            [
             0.9,
             "#4d9221"
            ],
            [
             1,
             "#276419"
            ]
           ],
           "sequential": [
            [
             0,
             "#0d0887"
            ],
            [
             0.1111111111111111,
             "#46039f"
            ],
            [
             0.2222222222222222,
             "#7201a8"
            ],
            [
             0.3333333333333333,
             "#9c179e"
            ],
            [
             0.4444444444444444,
             "#bd3786"
            ],
            [
             0.5555555555555556,
             "#d8576b"
            ],
            [
             0.6666666666666666,
             "#ed7953"
            ],
            [
             0.7777777777777778,
             "#fb9f3a"
            ],
            [
             0.8888888888888888,
             "#fdca26"
            ],
            [
             1,
             "#f0f921"
            ]
           ],
           "sequentialminus": [
            [
             0,
             "#0d0887"
            ],
            [
             0.1111111111111111,
             "#46039f"
            ],
            [
             0.2222222222222222,
             "#7201a8"
            ],
            [
             0.3333333333333333,
             "#9c179e"
            ],
            [
             0.4444444444444444,
             "#bd3786"
            ],
            [
             0.5555555555555556,
             "#d8576b"
            ],
            [
             0.6666666666666666,
             "#ed7953"
            ],
            [
             0.7777777777777778,
             "#fb9f3a"
            ],
            [
             0.8888888888888888,
             "#fdca26"
            ],
            [
             1,
             "#f0f921"
            ]
           ]
          },
          "colorway": [
           "#636efa",
           "#EF553B",
           "#00cc96",
           "#ab63fa",
           "#FFA15A",
           "#19d3f3",
           "#FF6692",
           "#B6E880",
           "#FF97FF",
           "#FECB52"
          ],
          "font": {
           "color": "#2a3f5f"
          },
          "geo": {
           "bgcolor": "white",
           "lakecolor": "white",
           "landcolor": "#E5ECF6",
           "showlakes": true,
           "showland": true,
           "subunitcolor": "white"
          },
          "hoverlabel": {
           "align": "left"
          },
          "hovermode": "closest",
          "mapbox": {
           "style": "light"
          },
          "paper_bgcolor": "white",
          "plot_bgcolor": "#E5ECF6",
          "polar": {
           "angularaxis": {
            "gridcolor": "white",
            "linecolor": "white",
            "ticks": ""
           },
           "bgcolor": "#E5ECF6",
           "radialaxis": {
            "gridcolor": "white",
            "linecolor": "white",
            "ticks": ""
           }
          },
          "scene": {
           "xaxis": {
            "backgroundcolor": "#E5ECF6",
            "gridcolor": "white",
            "gridwidth": 2,
            "linecolor": "white",
            "showbackground": true,
            "ticks": "",
            "zerolinecolor": "white"
           },
           "yaxis": {
            "backgroundcolor": "#E5ECF6",
            "gridcolor": "white",
            "gridwidth": 2,
            "linecolor": "white",
            "showbackground": true,
            "ticks": "",
            "zerolinecolor": "white"
           },
           "zaxis": {
            "backgroundcolor": "#E5ECF6",
            "gridcolor": "white",
            "gridwidth": 2,
            "linecolor": "white",
            "showbackground": true,
            "ticks": "",
            "zerolinecolor": "white"
           }
          },
          "shapedefaults": {
           "line": {
            "color": "#2a3f5f"
           }
          },
          "ternary": {
           "aaxis": {
            "gridcolor": "white",
            "linecolor": "white",
            "ticks": ""
           },
           "baxis": {
            "gridcolor": "white",
            "linecolor": "white",
            "ticks": ""
           },
           "bgcolor": "#E5ECF6",
           "caxis": {
            "gridcolor": "white",
            "linecolor": "white",
            "ticks": ""
           }
          },
          "title": {
           "x": 0.05
          },
          "xaxis": {
           "automargin": true,
           "gridcolor": "white",
           "linecolor": "white",
           "ticks": "",
           "title": {
            "standoff": 15
           },
           "zerolinecolor": "white",
           "zerolinewidth": 2
          },
          "yaxis": {
           "automargin": true,
           "gridcolor": "white",
           "linecolor": "white",
           "ticks": "",
           "title": {
            "standoff": 15
           },
           "zerolinecolor": "white",
           "zerolinewidth": 2
          }
         }
        },
        "width": 1000,
        "xaxis": {
         "anchor": "y",
         "domain": [
          0,
          1
         ],
         "linecolor": "black",
         "showline": true,
         "ticks": "outside",
         "title": {
          "text": "Mean average precision - Standard CP"
         }
        },
        "yaxis": {
         "anchor": "x",
         "domain": [
          0,
          1
         ],
         "linecolor": "black",
         "showline": true,
         "ticks": "outside",
         "title": {
          "text": "Mean average precision - CP + Phenovue phalloidin 400LS"
         }
        }
       }
      }
     },
     "metadata": {},
     "output_type": "display_data"
    }
   ],
   "source": [
    "scatter_plot_comparison_colorblack(df_controls,col1='Standard CP', col2='CP + Phenovue phalloidin 400LS', cutoff=0.35)"
   ]
  },
  {
   "cell_type": "code",
   "execution_count": 9,
   "metadata": {},
   "outputs": [
    {
     "data": {
      "application/vnd.plotly.v1+json": {
       "config": {
        "plotlyServerURL": "https://plot.ly"
       },
       "data": [
        {
         "hovertemplate": "<b>%{hovertext}</b><br><br>color=Other<br>Mean average precision - Standard CP=%{x}<br>Mean average precision - ChromaLive + Hoechst=%{y}<extra></extra>",
         "hovertext": [
          "tumor necrosis factor production inhibitor",
          "antihistamine",
          "acetylcholine receptor antagonist",
          "pyruvate dehydrogenase kinase inhibitor",
          "protein tyrosine kinase inhibitor",
          "antihistamine",
          "hepatocyte growth factor receptor inhibitor",
          "CHK inhibitor",
          "glycogen synthase kinase inhibitor",
          "histone lysine methyltransferase inhibitor",
          "tumor necrosis factor production inhibitor",
          "inosine monophosphate dehydrogenase inhibitor",
          "CDC inhibitor",
          "PARP inhibitor",
          "bromodomain inhibitor",
          "glycogen synthase kinase inhibitor",
          "JAK inhibitor",
          "Apoptosis inducer (ATP-competitive kinase inhibitor)",
          "hepatocyte growth factor receptor inhibitor",
          "bromodomain inhibitor",
          "MEK inhibitor",
          "Aurora kinase inhibitor",
          "LXR agonist",
          "phospholipase inhibitor",
          "IGF-1 inhibitor",
          "histone lysine demethylase inhibitor",
          "phosphodiesterase inhibitor",
          "beta-catenin inhibitor",
          "JNK inhibitor",
          "LXR agonist",
          "DNA inhibitor",
          "kinesin inhibitor",
          "phosphoinositide dependent kinase inhibitor",
          "RAF inhibitor",
          "FGFR inhibitor",
          "Bcr-Abl kinase inhibitor",
          "AMPK inhibitor",
          "pyruvate dehydrogenase kinase inhibitor",
          "phospholipase inhibitor",
          "Aurora kinase inhibitor",
          "JAK inhibitor",
          "tricyclic antidepressant",
          "PARP inhibitor",
          "BCL inhibitor",
          "inosine monophosphate dehydrogenase inhibitor",
          "histone lysine methyltransferase inhibitor",
          "HDAC inhibitor",
          "HDAC inhibitor",
          "BCL inhibitor",
          "phosphodiesterase inhibitor",
          "kinesin inhibitor",
          "CDK inhibitor",
          "CDC inhibitor",
          "protein tyrosine kinase inhibitor",
          "MAP kinase inhibitor",
          "ER stressor (SERCA inhibitor)",
          "protein arginine N-methyltransferase inhibitor",
          "Apoptosis inducer (transcription inhibitor)",
          "phosphoinositide dependent kinase inhibitor",
          "FGFR inhibitor",
          "DNA inhibitor",
          "smoothened receptor agonist",
          "JNK inhibitor",
          "CHK inhibitor",
          "EGFR inhibitor",
          "androgen receptor modulator",
          "HMGCR inhibitor",
          "acetylcholine receptor antagonist",
          "mTOR inhibitor",
          "EGFR inhibitor",
          "HMGCR inhibitor",
          "IGF-1 inhibitor",
          "protein arginine N-methyltransferase inhibitor",
          "MAP kinase inhibitor",
          "ubiquitin specific protease inhibitor",
          "beta-catenin inhibitor",
          "CDK inhibitor",
          "histone lysine demethylase inhibitor",
          "hypoxia inducible factor inhibitor",
          "androgen receptor modulator",
          "mTOR inhibitor",
          "smoothened receptor agonist",
          "hypoxia inducible factor inhibitor"
         ],
         "legendgroup": "Other",
         "marker": {
          "color": "darkgrey",
          "size": 14,
          "symbol": "circle"
         },
         "mode": "markers",
         "name": "Other",
         "orientation": "v",
         "showlegend": true,
         "type": "scatter",
         "x": [
          0.2944622507122507,
          0.4792508417508417,
          0.319870857699805,
          1,
          0.2676155969634231,
          0.3374634502923976,
          1,
          1,
          1,
          0.3198193337163925,
          0.6796626984126983,
          1,
          1,
          0.2917989417989418,
          0.8875,
          1,
          0.3150836783988958,
          1,
          0.1536923878196257,
          1,
          0.675,
          1,
          1,
          0.3332581598099332,
          1,
          0.8377976190476191,
          0.3261078042328042,
          0.2779858077340915,
          0.3716928904428904,
          0.6833333333333333,
          0.279142501017501,
          1,
          1,
          0.3442460317460317,
          1,
          1,
          1,
          1,
          1,
          1,
          0.7496031746031745,
          0.2060171854289501,
          1,
          1,
          0.9583333333333334,
          1,
          1,
          1,
          0.9097222222222222,
          0.1116510292826082,
          1,
          1,
          0.3768786768786769,
          0.1934468952947214,
          0.4020197273486747,
          1,
          1,
          1,
          1,
          1,
          1,
          0.7472222222222222,
          0.4298340548340548,
          1,
          0.4321937321937322,
          0.1618973346914523,
          0.3379400691900692,
          0.2155818668046928,
          1,
          1,
          0.2000589225589225,
          1,
          0.4715078766549354,
          0.90625,
          1,
          1,
          1,
          1,
          0.2409419026679088,
          0.2155164108337482,
          1,
          0.8854166666666666,
          1
         ],
         "xaxis": "x",
         "y": [
          0.189047499341617,
          0.6853506787330317,
          0.174817977915804,
          0.6607905982905983,
          0.5802997076023391,
          0.3813746438746438,
          1,
          1,
          0.9513888888888888,
          0.2779517704517704,
          0.1735538615973398,
          0.7783909327387588,
          0.8225198412698412,
          0.1982682554373731,
          0.7391339869281046,
          0.8070779220779221,
          0.3232816951566951,
          1,
          0.1664300976800976,
          1,
          0.4539051226551227,
          0.9083333333333332,
          0.8480392156862745,
          0.7808333333333334,
          1,
          0.777281746031746,
          0.6037698412698413,
          0.509433621933622,
          0.1872257236227824,
          0.4828102453102453,
          0.1172151800441274,
          1,
          1,
          0.1873329761602072,
          0.7120273109243698,
          1,
          1,
          1,
          0.5517829900839054,
          0.629635989010989,
          0.3632051282051282,
          0.6292281792281793,
          1,
          0.7027738927738928,
          0.8571428571428572,
          1,
          1,
          0.7882936507936508,
          0.652948506066355,
          0.2503133182893244,
          1,
          1,
          0.3560874210330731,
          0.5712228592663375,
          0.5537253459736298,
          1,
          0.5040103415103415,
          1,
          1,
          0.6605555555555556,
          1,
          0.8546969696969697,
          0.1304476297123356,
          1,
          0.8638888888888889,
          0.3065434565434565,
          0.253114478114478,
          0.52109440267335,
          0.8288239538239538,
          1,
          0.3535014466919837,
          1,
          0.2289251207729468,
          0.3964794464794464,
          0.5664351851851852,
          0.6367658730158731,
          0.7203219696969697,
          1,
          0.2189301181561243,
          0.1412800162800163,
          1,
          1,
          1
         ],
         "yaxis": "y"
        },
        {
         "hovertemplate": "<b>%{hovertext}</b><br><br>color=ubiquitin specific protease inhibitor<br>Mean average precision - Standard CP=%{x}<br>Mean average precision - ChromaLive + Hoechst=%{y}<extra></extra>",
         "hovertext": [
          "ubiquitin specific protease inhibitor"
         ],
         "legendgroup": "ubiquitin specific protease inhibitor",
         "marker": {
          "color": "#00cc96",
          "size": 14,
          "symbol": "circle"
         },
         "mode": "markers",
         "name": "ubiquitin specific protease inhibitor",
         "orientation": "v",
         "showlegend": true,
         "type": "scatter",
         "x": [
          0.7805555555555556
         ],
         "xaxis": "x",
         "y": [
          0.133759065009065
         ],
         "yaxis": "y"
        },
        {
         "hovertemplate": "<b>%{hovertext}</b><br><br>color=tricyclic antidepressant<br>Mean average precision - Standard CP=%{x}<br>Mean average precision - ChromaLive + Hoechst=%{y}<extra></extra>",
         "hovertext": [
          "tricyclic antidepressant"
         ],
         "legendgroup": "tricyclic antidepressant",
         "marker": {
          "color": "#ab63fa",
          "size": 14,
          "symbol": "circle"
         },
         "mode": "markers",
         "name": "tricyclic antidepressant",
         "orientation": "v",
         "showlegend": true,
         "type": "scatter",
         "x": [
          0.1386736411736411
         ],
         "xaxis": "x",
         "y": [
          0.9345238095238096
         ],
         "yaxis": "y"
        },
        {
         "hovertemplate": "<b>%{hovertext}</b><br><br>color=MEK inhibitor<br>Mean average precision - Standard CP=%{x}<br>Mean average precision - ChromaLive + Hoechst=%{y}<extra></extra>",
         "hovertext": [
          "MEK inhibitor"
         ],
         "legendgroup": "MEK inhibitor",
         "marker": {
          "color": "#FFA15A",
          "size": 14,
          "symbol": "circle"
         },
         "mode": "markers",
         "name": "MEK inhibitor",
         "orientation": "v",
         "showlegend": true,
         "type": "scatter",
         "x": [
          1
         ],
         "xaxis": "x",
         "y": [
          0.3739064076020598
         ],
         "yaxis": "y"
        },
        {
         "hovertemplate": "<b>%{hovertext}</b><br><br>color=RAF inhibitor<br>Mean average precision - Standard CP=%{x}<br>Mean average precision - ChromaLive + Hoechst=%{y}<extra></extra>",
         "hovertext": [
          "RAF inhibitor"
         ],
         "legendgroup": "RAF inhibitor",
         "marker": {
          "color": "#19d3f3",
          "size": 14,
          "symbol": "circle"
         },
         "mode": "markers",
         "name": "RAF inhibitor",
         "orientation": "v",
         "showlegend": true,
         "type": "scatter",
         "x": [
          1
         ],
         "xaxis": "x",
         "y": [
          0.4362037037037036
         ],
         "yaxis": "y"
        },
        {
         "hovertemplate": "<b>%{hovertext}</b><br><br>color=p38 MAPK inhibitor<br>Mean average precision - Standard CP=%{x}<br>Mean average precision - ChromaLive + Hoechst=%{y}<extra></extra>",
         "hovertext": [
          "p38 MAPK inhibitor",
          "p38 MAPK inhibitor"
         ],
         "legendgroup": "p38 MAPK inhibitor",
         "marker": {
          "color": "#FF6692",
          "size": 14,
          "symbol": "circle"
         },
         "mode": "markers",
         "name": "p38 MAPK inhibitor",
         "orientation": "v",
         "showlegend": true,
         "type": "scatter",
         "x": [
          1,
          0.8236111111111111
         ],
         "xaxis": "x",
         "y": [
          0.2095706581000698,
          0.2178630110535481
         ],
         "yaxis": "y"
        },
        {
         "hovertemplate": "<b>%{hovertext}</b><br><br>color=Bcr-Abl kinase inhibitor<br>Mean average precision - Standard CP=%{x}<br>Mean average precision - ChromaLive + Hoechst=%{y}<extra></extra>",
         "hovertext": [
          "Bcr-Abl kinase inhibitor"
         ],
         "legendgroup": "Bcr-Abl kinase inhibitor",
         "marker": {
          "color": "#B6E880",
          "size": 14,
          "symbol": "circle"
         },
         "mode": "markers",
         "name": "Bcr-Abl kinase inhibitor",
         "orientation": "v",
         "showlegend": true,
         "type": "scatter",
         "x": [
          0.9666666666666668
         ],
         "xaxis": "x",
         "y": [
          0.3332036019536019
         ],
         "yaxis": "y"
        }
       ],
       "layout": {
        "font": {
         "color": "Black",
         "family": "sans serif",
         "size": 26
        },
        "height": 1200,
        "legend": {
         "orientation": "h",
         "title": {
          "text": "color"
         },
         "tracegroupgap": 0
        },
        "margin": {
         "t": 60
        },
        "plot_bgcolor": "rgba(0,0,0,0)",
        "shapes": [
         {
          "line": {
           "color": "lightgrey",
           "dash": "dashdot"
          },
          "type": "line",
          "x0": 0,
          "x1": 1,
          "y0": 0,
          "y1": 1
         }
        ],
        "template": {
         "data": {
          "bar": [
           {
            "error_x": {
             "color": "#2a3f5f"
            },
            "error_y": {
             "color": "#2a3f5f"
            },
            "marker": {
             "line": {
              "color": "#E5ECF6",
              "width": 0.5
             },
             "pattern": {
              "fillmode": "overlay",
              "size": 10,
              "solidity": 0.2
             }
            },
            "type": "bar"
           }
          ],
          "barpolar": [
           {
            "marker": {
             "line": {
              "color": "#E5ECF6",
              "width": 0.5
             },
             "pattern": {
              "fillmode": "overlay",
              "size": 10,
              "solidity": 0.2
             }
            },
            "type": "barpolar"
           }
          ],
          "carpet": [
           {
            "aaxis": {
             "endlinecolor": "#2a3f5f",
             "gridcolor": "white",
             "linecolor": "white",
             "minorgridcolor": "white",
             "startlinecolor": "#2a3f5f"
            },
            "baxis": {
             "endlinecolor": "#2a3f5f",
             "gridcolor": "white",
             "linecolor": "white",
             "minorgridcolor": "white",
             "startlinecolor": "#2a3f5f"
            },
            "type": "carpet"
           }
          ],
          "choropleth": [
           {
            "colorbar": {
             "outlinewidth": 0,
             "ticks": ""
            },
            "type": "choropleth"
           }
          ],
          "contour": [
           {
            "colorbar": {
             "outlinewidth": 0,
             "ticks": ""
            },
            "colorscale": [
             [
              0,
              "#0d0887"
             ],
             [
              0.1111111111111111,
              "#46039f"
             ],
             [
              0.2222222222222222,
              "#7201a8"
             ],
             [
              0.3333333333333333,
              "#9c179e"
             ],
             [
              0.4444444444444444,
              "#bd3786"
             ],
             [
              0.5555555555555556,
              "#d8576b"
             ],
             [
              0.6666666666666666,
              "#ed7953"
             ],
             [
              0.7777777777777778,
              "#fb9f3a"
             ],
             [
              0.8888888888888888,
              "#fdca26"
             ],
             [
              1,
              "#f0f921"
             ]
            ],
            "type": "contour"
           }
          ],
          "contourcarpet": [
           {
            "colorbar": {
             "outlinewidth": 0,
             "ticks": ""
            },
            "type": "contourcarpet"
           }
          ],
          "heatmap": [
           {
            "colorbar": {
             "outlinewidth": 0,
             "ticks": ""
            },
            "colorscale": [
             [
              0,
              "#0d0887"
             ],
             [
              0.1111111111111111,
              "#46039f"
             ],
             [
              0.2222222222222222,
              "#7201a8"
             ],
             [
              0.3333333333333333,
              "#9c179e"
             ],
             [
              0.4444444444444444,
              "#bd3786"
             ],
             [
              0.5555555555555556,
              "#d8576b"
             ],
             [
              0.6666666666666666,
              "#ed7953"
             ],
             [
              0.7777777777777778,
              "#fb9f3a"
             ],
             [
              0.8888888888888888,
              "#fdca26"
             ],
             [
              1,
              "#f0f921"
             ]
            ],
            "type": "heatmap"
           }
          ],
          "heatmapgl": [
           {
            "colorbar": {
             "outlinewidth": 0,
             "ticks": ""
            },
            "colorscale": [
             [
              0,
              "#0d0887"
             ],
             [
              0.1111111111111111,
              "#46039f"
             ],
             [
              0.2222222222222222,
              "#7201a8"
             ],
             [
              0.3333333333333333,
              "#9c179e"
             ],
             [
              0.4444444444444444,
              "#bd3786"
             ],
             [
              0.5555555555555556,
              "#d8576b"
             ],
             [
              0.6666666666666666,
              "#ed7953"
             ],
             [
              0.7777777777777778,
              "#fb9f3a"
             ],
             [
              0.8888888888888888,
              "#fdca26"
             ],
             [
              1,
              "#f0f921"
             ]
            ],
            "type": "heatmapgl"
           }
          ],
          "histogram": [
           {
            "marker": {
             "pattern": {
              "fillmode": "overlay",
              "size": 10,
              "solidity": 0.2
             }
            },
            "type": "histogram"
           }
          ],
          "histogram2d": [
           {
            "colorbar": {
             "outlinewidth": 0,
             "ticks": ""
            },
            "colorscale": [
             [
              0,
              "#0d0887"
             ],
             [
              0.1111111111111111,
              "#46039f"
             ],
             [
              0.2222222222222222,
              "#7201a8"
             ],
             [
              0.3333333333333333,
              "#9c179e"
             ],
             [
              0.4444444444444444,
              "#bd3786"
             ],
             [
              0.5555555555555556,
              "#d8576b"
             ],
             [
              0.6666666666666666,
              "#ed7953"
             ],
             [
              0.7777777777777778,
              "#fb9f3a"
             ],
             [
              0.8888888888888888,
              "#fdca26"
             ],
             [
              1,
              "#f0f921"
             ]
            ],
            "type": "histogram2d"
           }
          ],
          "histogram2dcontour": [
           {
            "colorbar": {
             "outlinewidth": 0,
             "ticks": ""
            },
            "colorscale": [
             [
              0,
              "#0d0887"
             ],
             [
              0.1111111111111111,
              "#46039f"
             ],
             [
              0.2222222222222222,
              "#7201a8"
             ],
             [
              0.3333333333333333,
              "#9c179e"
             ],
             [
              0.4444444444444444,
              "#bd3786"
             ],
             [
              0.5555555555555556,
              "#d8576b"
             ],
             [
              0.6666666666666666,
              "#ed7953"
             ],
             [
              0.7777777777777778,
              "#fb9f3a"
             ],
             [
              0.8888888888888888,
              "#fdca26"
             ],
             [
              1,
              "#f0f921"
             ]
            ],
            "type": "histogram2dcontour"
           }
          ],
          "mesh3d": [
           {
            "colorbar": {
             "outlinewidth": 0,
             "ticks": ""
            },
            "type": "mesh3d"
           }
          ],
          "parcoords": [
           {
            "line": {
             "colorbar": {
              "outlinewidth": 0,
              "ticks": ""
             }
            },
            "type": "parcoords"
           }
          ],
          "pie": [
           {
            "automargin": true,
            "type": "pie"
           }
          ],
          "scatter": [
           {
            "fillpattern": {
             "fillmode": "overlay",
             "size": 10,
             "solidity": 0.2
            },
            "type": "scatter"
           }
          ],
          "scatter3d": [
           {
            "line": {
             "colorbar": {
              "outlinewidth": 0,
              "ticks": ""
             }
            },
            "marker": {
             "colorbar": {
              "outlinewidth": 0,
              "ticks": ""
             }
            },
            "type": "scatter3d"
           }
          ],
          "scattercarpet": [
           {
            "marker": {
             "colorbar": {
              "outlinewidth": 0,
              "ticks": ""
             }
            },
            "type": "scattercarpet"
           }
          ],
          "scattergeo": [
           {
            "marker": {
             "colorbar": {
              "outlinewidth": 0,
              "ticks": ""
             }
            },
            "type": "scattergeo"
           }
          ],
          "scattergl": [
           {
            "marker": {
             "colorbar": {
              "outlinewidth": 0,
              "ticks": ""
             }
            },
            "type": "scattergl"
           }
          ],
          "scattermapbox": [
           {
            "marker": {
             "colorbar": {
              "outlinewidth": 0,
              "ticks": ""
             }
            },
            "type": "scattermapbox"
           }
          ],
          "scatterpolar": [
           {
            "marker": {
             "colorbar": {
              "outlinewidth": 0,
              "ticks": ""
             }
            },
            "type": "scatterpolar"
           }
          ],
          "scatterpolargl": [
           {
            "marker": {
             "colorbar": {
              "outlinewidth": 0,
              "ticks": ""
             }
            },
            "type": "scatterpolargl"
           }
          ],
          "scatterternary": [
           {
            "marker": {
             "colorbar": {
              "outlinewidth": 0,
              "ticks": ""
             }
            },
            "type": "scatterternary"
           }
          ],
          "surface": [
           {
            "colorbar": {
             "outlinewidth": 0,
             "ticks": ""
            },
            "colorscale": [
             [
              0,
              "#0d0887"
             ],
             [
              0.1111111111111111,
              "#46039f"
             ],
             [
              0.2222222222222222,
              "#7201a8"
             ],
             [
              0.3333333333333333,
              "#9c179e"
             ],
             [
              0.4444444444444444,
              "#bd3786"
             ],
             [
              0.5555555555555556,
              "#d8576b"
             ],
             [
              0.6666666666666666,
              "#ed7953"
             ],
             [
              0.7777777777777778,
              "#fb9f3a"
             ],
             [
              0.8888888888888888,
              "#fdca26"
             ],
             [
              1,
              "#f0f921"
             ]
            ],
            "type": "surface"
           }
          ],
          "table": [
           {
            "cells": {
             "fill": {
              "color": "#EBF0F8"
             },
             "line": {
              "color": "white"
             }
            },
            "header": {
             "fill": {
              "color": "#C8D4E3"
             },
             "line": {
              "color": "white"
             }
            },
            "type": "table"
           }
          ]
         },
         "layout": {
          "annotationdefaults": {
           "arrowcolor": "#2a3f5f",
           "arrowhead": 0,
           "arrowwidth": 1
          },
          "autotypenumbers": "strict",
          "coloraxis": {
           "colorbar": {
            "outlinewidth": 0,
            "ticks": ""
           }
          },
          "colorscale": {
           "diverging": [
            [
             0,
             "#8e0152"
            ],
            [
             0.1,
             "#c51b7d"
            ],
            [
             0.2,
             "#de77ae"
            ],
            [
             0.3,
             "#f1b6da"
            ],
            [
             0.4,
             "#fde0ef"
            ],
            [
             0.5,
             "#f7f7f7"
            ],
            [
             0.6,
             "#e6f5d0"
            ],
            [
             0.7,
             "#b8e186"
            ],
            [
             0.8,
             "#7fbc41"
            ],
            [
             0.9,
             "#4d9221"
            ],
            [
             1,
             "#276419"
            ]
           ],
           "sequential": [
            [
             0,
             "#0d0887"
            ],
            [
             0.1111111111111111,
             "#46039f"
            ],
            [
             0.2222222222222222,
             "#7201a8"
            ],
            [
             0.3333333333333333,
             "#9c179e"
            ],
            [
             0.4444444444444444,
             "#bd3786"
            ],
            [
             0.5555555555555556,
             "#d8576b"
            ],
            [
             0.6666666666666666,
             "#ed7953"
            ],
            [
             0.7777777777777778,
             "#fb9f3a"
            ],
            [
             0.8888888888888888,
             "#fdca26"
            ],
            [
             1,
             "#f0f921"
            ]
           ],
           "sequentialminus": [
            [
             0,
             "#0d0887"
            ],
            [
             0.1111111111111111,
             "#46039f"
            ],
            [
             0.2222222222222222,
             "#7201a8"
            ],
            [
             0.3333333333333333,
             "#9c179e"
            ],
            [
             0.4444444444444444,
             "#bd3786"
            ],
            [
             0.5555555555555556,
             "#d8576b"
            ],
            [
             0.6666666666666666,
             "#ed7953"
            ],
            [
             0.7777777777777778,
             "#fb9f3a"
            ],
            [
             0.8888888888888888,
             "#fdca26"
            ],
            [
             1,
             "#f0f921"
            ]
           ]
          },
          "colorway": [
           "#636efa",
           "#EF553B",
           "#00cc96",
           "#ab63fa",
           "#FFA15A",
           "#19d3f3",
           "#FF6692",
           "#B6E880",
           "#FF97FF",
           "#FECB52"
          ],
          "font": {
           "color": "#2a3f5f"
          },
          "geo": {
           "bgcolor": "white",
           "lakecolor": "white",
           "landcolor": "#E5ECF6",
           "showlakes": true,
           "showland": true,
           "subunitcolor": "white"
          },
          "hoverlabel": {
           "align": "left"
          },
          "hovermode": "closest",
          "mapbox": {
           "style": "light"
          },
          "paper_bgcolor": "white",
          "plot_bgcolor": "#E5ECF6",
          "polar": {
           "angularaxis": {
            "gridcolor": "white",
            "linecolor": "white",
            "ticks": ""
           },
           "bgcolor": "#E5ECF6",
           "radialaxis": {
            "gridcolor": "white",
            "linecolor": "white",
            "ticks": ""
           }
          },
          "scene": {
           "xaxis": {
            "backgroundcolor": "#E5ECF6",
            "gridcolor": "white",
            "gridwidth": 2,
            "linecolor": "white",
            "showbackground": true,
            "ticks": "",
            "zerolinecolor": "white"
           },
           "yaxis": {
            "backgroundcolor": "#E5ECF6",
            "gridcolor": "white",
            "gridwidth": 2,
            "linecolor": "white",
            "showbackground": true,
            "ticks": "",
            "zerolinecolor": "white"
           },
           "zaxis": {
            "backgroundcolor": "#E5ECF6",
            "gridcolor": "white",
            "gridwidth": 2,
            "linecolor": "white",
            "showbackground": true,
            "ticks": "",
            "zerolinecolor": "white"
           }
          },
          "shapedefaults": {
           "line": {
            "color": "#2a3f5f"
           }
          },
          "ternary": {
           "aaxis": {
            "gridcolor": "white",
            "linecolor": "white",
            "ticks": ""
           },
           "baxis": {
            "gridcolor": "white",
            "linecolor": "white",
            "ticks": ""
           },
           "bgcolor": "#E5ECF6",
           "caxis": {
            "gridcolor": "white",
            "linecolor": "white",
            "ticks": ""
           }
          },
          "title": {
           "x": 0.05
          },
          "xaxis": {
           "automargin": true,
           "gridcolor": "white",
           "linecolor": "white",
           "ticks": "",
           "title": {
            "standoff": 15
           },
           "zerolinecolor": "white",
           "zerolinewidth": 2
          },
          "yaxis": {
           "automargin": true,
           "gridcolor": "white",
           "linecolor": "white",
           "ticks": "",
           "title": {
            "standoff": 15
           },
           "zerolinecolor": "white",
           "zerolinewidth": 2
          }
         }
        },
        "width": 1000,
        "xaxis": {
         "anchor": "y",
         "domain": [
          0,
          1
         ],
         "linecolor": "black",
         "showline": true,
         "ticks": "outside",
         "title": {
          "text": "Mean average precision - Standard CP"
         }
        },
        "yaxis": {
         "anchor": "x",
         "domain": [
          0,
          1
         ],
         "linecolor": "black",
         "showline": true,
         "ticks": "outside",
         "title": {
          "text": "Mean average precision - ChromaLive + Hoechst"
         }
        }
       }
      }
     },
     "metadata": {},
     "output_type": "display_data"
    }
   ],
   "source": [
    "scatter_plot_comparison_colorblack(df_controls,col1='Standard CP', col2='ChromaLive + Hoechst', cutoff=0.55)"
   ]
  },
  {
   "cell_type": "markdown",
   "metadata": {},
   "source": [
    "### Plot with trendline"
   ]
  },
  {
   "cell_type": "code",
   "execution_count": 10,
   "metadata": {},
   "outputs": [
    {
     "data": {
      "application/vnd.plotly.v1+json": {
       "config": {
        "plotlyServerURL": "https://plot.ly"
       },
       "data": [
        {
         "hovertemplate": "<b>%{hovertext}</b><br><br>color=Other<br>Mean average precision - Standard CP=%{x}<br>Mean average precision - CP + MitoBrilliant=%{y}<extra></extra>",
         "hovertext": [
          "tumor necrosis factor production inhibitor",
          "antihistamine",
          "acetylcholine receptor antagonist",
          "pyruvate dehydrogenase kinase inhibitor",
          "protein tyrosine kinase inhibitor",
          "antihistamine",
          "hepatocyte growth factor receptor inhibitor",
          "CHK inhibitor",
          "glycogen synthase kinase inhibitor",
          "inosine monophosphate dehydrogenase inhibitor",
          "CDC inhibitor",
          "PARP inhibitor",
          "bromodomain inhibitor",
          "glycogen synthase kinase inhibitor",
          "JAK inhibitor",
          "Apoptosis inducer (ATP-competitive kinase inhibitor)",
          "hepatocyte growth factor receptor inhibitor",
          "bromodomain inhibitor",
          "MEK inhibitor",
          "Aurora kinase inhibitor",
          "phospholipase inhibitor",
          "IGF-1 inhibitor",
          "tricyclic antidepressant",
          "histone lysine demethylase inhibitor",
          "phosphodiesterase inhibitor",
          "beta-catenin inhibitor",
          "JNK inhibitor",
          "LXR agonist",
          "DNA inhibitor",
          "kinesin inhibitor",
          "phosphoinositide dependent kinase inhibitor",
          "RAF inhibitor",
          "FGFR inhibitor",
          "Bcr-Abl kinase inhibitor",
          "AMPK inhibitor",
          "pyruvate dehydrogenase kinase inhibitor",
          "phospholipase inhibitor",
          "Aurora kinase inhibitor",
          "JAK inhibitor",
          "tricyclic antidepressant",
          "PARP inhibitor",
          "BCL inhibitor",
          "inosine monophosphate dehydrogenase inhibitor",
          "MEK inhibitor",
          "histone lysine methyltransferase inhibitor",
          "HDAC inhibitor",
          "HDAC inhibitor",
          "BCL inhibitor",
          "phosphodiesterase inhibitor",
          "kinesin inhibitor",
          "CDK inhibitor",
          "CDC inhibitor",
          "RAF inhibitor",
          "protein tyrosine kinase inhibitor",
          "MAP kinase inhibitor",
          "ER stressor (SERCA inhibitor)",
          "protein arginine N-methyltransferase inhibitor",
          "Apoptosis inducer (transcription inhibitor)",
          "phosphoinositide dependent kinase inhibitor",
          "FGFR inhibitor",
          "DNA inhibitor",
          "smoothened receptor agonist",
          "JNK inhibitor",
          "CHK inhibitor",
          "androgen receptor modulator",
          "HMGCR inhibitor",
          "acetylcholine receptor antagonist",
          "p38 MAPK inhibitor",
          "mTOR inhibitor",
          "EGFR inhibitor",
          "HMGCR inhibitor",
          "IGF-1 inhibitor",
          "protein arginine N-methyltransferase inhibitor",
          "Bcr-Abl kinase inhibitor",
          "MAP kinase inhibitor",
          "p38 MAPK inhibitor",
          "ubiquitin specific protease inhibitor",
          "beta-catenin inhibitor",
          "CDK inhibitor",
          "histone lysine demethylase inhibitor",
          "hypoxia inducible factor inhibitor",
          "androgen receptor modulator",
          "mTOR inhibitor",
          "smoothened receptor agonist",
          "hypoxia inducible factor inhibitor"
         ],
         "legendgroup": "Other",
         "marker": {
          "color": "lightgrey",
          "symbol": "circle"
         },
         "mode": "markers",
         "name": "Other",
         "orientation": "v",
         "showlegend": true,
         "type": "scatter",
         "x": [
          0.2944622507122507,
          0.4792508417508417,
          0.319870857699805,
          1,
          0.2676155969634231,
          0.3374634502923976,
          1,
          1,
          1,
          1,
          1,
          0.2917989417989418,
          0.8875,
          1,
          0.3150836783988958,
          1,
          0.1536923878196257,
          1,
          0.675,
          1,
          0.3332581598099332,
          1,
          0.1386736411736411,
          0.8377976190476191,
          0.3261078042328042,
          0.2779858077340915,
          0.3716928904428904,
          0.6833333333333333,
          0.279142501017501,
          1,
          1,
          0.3442460317460317,
          1,
          1,
          1,
          1,
          1,
          1,
          0.7496031746031745,
          0.2060171854289501,
          1,
          1,
          0.9583333333333334,
          1,
          1,
          1,
          1,
          0.9097222222222222,
          0.1116510292826082,
          1,
          1,
          0.3768786768786769,
          1,
          0.1934468952947214,
          0.4020197273486747,
          1,
          1,
          1,
          1,
          1,
          1,
          0.7472222222222222,
          0.4298340548340548,
          1,
          0.1618973346914523,
          0.3379400691900692,
          0.2155818668046928,
          1,
          1,
          1,
          0.2000589225589225,
          1,
          0.4715078766549354,
          0.9666666666666668,
          0.90625,
          0.8236111111111111,
          1,
          1,
          1,
          1,
          0.2409419026679088,
          0.2155164108337482,
          1,
          0.8854166666666666,
          1
         ],
         "xaxis": "x",
         "y": [
          0.1938674615145203,
          0.3181547619047619,
          0.4426735301735301,
          0.8972222222222223,
          0.299443052074631,
          0.2940737865194387,
          1,
          1,
          1,
          1,
          1,
          0.1483847512136986,
          1,
          1,
          0.2308624124413598,
          1,
          0.1571415852665852,
          1,
          0.7509920634920635,
          1,
          0.238154876312771,
          0.9791666666666666,
          0.1375396226866815,
          1,
          0.1604999240525556,
          0.2005454448932709,
          0.5779220779220778,
          0.870436507936508,
          0.1962775260801576,
          1,
          1,
          0.6023809523809524,
          1,
          1,
          1,
          1,
          0.8833333333333333,
          0.7902777777777777,
          0.6001984126984127,
          0.2657634032634032,
          1,
          1,
          1,
          1,
          1,
          1,
          1,
          0.8833333333333333,
          0.229006919006919,
          1,
          1,
          0.2517676767676767,
          1,
          0.1172289076293652,
          0.4773141074611663,
          1,
          0.8312499999999999,
          1,
          1,
          1,
          1,
          0.8833333333333333,
          0.2399971505949766,
          1,
          0.1280925651862184,
          0.2419002634792108,
          0.2997685185185185,
          1,
          1,
          1,
          0.2160091066341066,
          1,
          0.1975700003445998,
          1,
          0.7916666666666666,
          0.6516106442577031,
          1,
          1,
          1,
          1,
          0.4537080036693039,
          0.2023872180451127,
          1,
          1,
          1
         ],
         "yaxis": "y"
        },
        {
         "hovertemplate": "<b>%{hovertext}</b><br><br>color=histone lysine methyltransferase inhibitor<br>Mean average precision - Standard CP=%{x}<br>Mean average precision - CP + MitoBrilliant=%{y}<extra></extra>",
         "hovertext": [
          "histone lysine methyltransferase inhibitor"
         ],
         "legendgroup": "histone lysine methyltransferase inhibitor",
         "marker": {
          "color": "#00cc96",
          "symbol": "circle"
         },
         "mode": "markers",
         "name": "histone lysine methyltransferase inhibitor",
         "orientation": "v",
         "showlegend": true,
         "type": "scatter",
         "x": [
          0.3198193337163925
         ],
         "xaxis": "x",
         "y": [
          0.6799603174603175
         ],
         "yaxis": "y"
        },
        {
         "hovertemplate": "<b>%{hovertext}</b><br><br>color=tumor necrosis factor production inhibitor<br>Mean average precision - Standard CP=%{x}<br>Mean average precision - CP + MitoBrilliant=%{y}<extra></extra>",
         "hovertext": [
          "tumor necrosis factor production inhibitor"
         ],
         "legendgroup": "tumor necrosis factor production inhibitor",
         "marker": {
          "color": "#ab63fa",
          "symbol": "circle"
         },
         "mode": "markers",
         "name": "tumor necrosis factor production inhibitor",
         "orientation": "v",
         "showlegend": true,
         "type": "scatter",
         "x": [
          0.6796626984126983
         ],
         "xaxis": "x",
         "y": [
          0.2330090741532389
         ],
         "yaxis": "y"
        },
        {
         "hovertemplate": "<b>%{hovertext}</b><br><br>color=ubiquitin specific protease inhibitor<br>Mean average precision - Standard CP=%{x}<br>Mean average precision - CP + MitoBrilliant=%{y}<extra></extra>",
         "hovertext": [
          "ubiquitin specific protease inhibitor"
         ],
         "legendgroup": "ubiquitin specific protease inhibitor",
         "marker": {
          "color": "#FFA15A",
          "symbol": "circle"
         },
         "mode": "markers",
         "name": "ubiquitin specific protease inhibitor",
         "orientation": "v",
         "showlegend": true,
         "type": "scatter",
         "x": [
          0.7805555555555556
         ],
         "xaxis": "x",
         "y": [
          0.3650613275613276
         ],
         "yaxis": "y"
        },
        {
         "hovertemplate": "<b>%{hovertext}</b><br><br>color=LXR agonist<br>Mean average precision - Standard CP=%{x}<br>Mean average precision - CP + MitoBrilliant=%{y}<extra></extra>",
         "hovertext": [
          "LXR agonist"
         ],
         "legendgroup": "LXR agonist",
         "marker": {
          "color": "#19d3f3",
          "symbol": "circle"
         },
         "mode": "markers",
         "name": "LXR agonist",
         "orientation": "v",
         "showlegend": true,
         "type": "scatter",
         "x": [
          1
         ],
         "xaxis": "x",
         "y": [
          0.6102272727272727
         ],
         "yaxis": "y"
        },
        {
         "hovertemplate": "<b>%{hovertext}</b><br><br>color=EGFR inhibitor<br>Mean average precision - Standard CP=%{x}<br>Mean average precision - CP + MitoBrilliant=%{y}<extra></extra>",
         "hovertext": [
          "EGFR inhibitor"
         ],
         "legendgroup": "EGFR inhibitor",
         "marker": {
          "color": "#FF6692",
          "symbol": "circle"
         },
         "mode": "markers",
         "name": "EGFR inhibitor",
         "orientation": "v",
         "showlegend": true,
         "type": "scatter",
         "x": [
          0.4321937321937322
         ],
         "xaxis": "x",
         "y": [
          0.7876984126984127
         ],
         "yaxis": "y"
        },
        {
         "hovertemplate": "<b>OLS trendline</b><br>y = 0.961192 * x + 0.0138361<br>R<sup>2</sup>=0.856276<br><br>Mean average precision - Standard CP=%{x}<br>Mean average precision - CP + MitoBrilliant=%{y} <b>(trend)</b><extra></extra>",
         "legendgroup": "Overall Trendline",
         "line": {
          "color": "#B6E880"
         },
         "mode": "lines",
         "name": "Overall Trendline",
         "showlegend": true,
         "type": "scatter",
         "x": [
          0.1116510292826082,
          0.1386736411736411,
          0.1536923878196257,
          0.1618973346914523,
          0.1934468952947214,
          0.2000589225589225,
          0.2060171854289501,
          0.2155164108337482,
          0.2155818668046928,
          0.2409419026679088,
          0.2676155969634231,
          0.2779858077340915,
          0.279142501017501,
          0.2917989417989418,
          0.2944622507122507,
          0.3150836783988958,
          0.3198193337163925,
          0.319870857699805,
          0.3261078042328042,
          0.3332581598099332,
          0.3374634502923976,
          0.3379400691900692,
          0.3442460317460317,
          0.3716928904428904,
          0.3768786768786769,
          0.4020197273486747,
          0.4298340548340548,
          0.4321937321937322,
          0.4715078766549354,
          0.4792508417508417,
          0.675,
          0.6796626984126983,
          0.6833333333333333,
          0.7472222222222222,
          0.7496031746031745,
          0.7805555555555556,
          0.8236111111111111,
          0.8377976190476191,
          0.8854166666666666,
          0.8875,
          0.90625,
          0.9097222222222222,
          0.9583333333333334,
          0.9666666666666668,
          1,
          1,
          1,
          1,
          1,
          1,
          1,
          1,
          1,
          1,
          1,
          1,
          1,
          1,
          1,
          1,
          1,
          1,
          1,
          1,
          1,
          1,
          1,
          1,
          1,
          1,
          1,
          1,
          1,
          1,
          1,
          1,
          1,
          1,
          1,
          1,
          1,
          1,
          1,
          1,
          1,
          1,
          1,
          1,
          1,
          1
         ],
         "xaxis": "x",
         "y": [
          0.1211541672296021,
          0.14712809538755786,
          0.1615639999543844,
          0.16945053222032672,
          0.1997757289048231,
          0.20613115901022286,
          0.21185819577322604,
          0.22098877867969663,
          0.22105169445903283,
          0.24542756723737574,
          0.27106611846746115,
          0.2810338858552458,
          0.28214569060473554,
          0.29431096481724245,
          0.29687091700305185,
          0.3166920757943357,
          0.3212439515158058,
          0.3212934759751351,
          0.327288381346473,
          0.3341612485146469,
          0.33820334160747306,
          0.3386614640516234,
          0.3447227070971071,
          0.3711044180445355,
          0.37608895635892087,
          0.4002543420498561,
          0.42698926119017994,
          0.42925736504569784,
          0.4670458204305616,
          0.4744882993419864,
          0.662640895169747,
          0.6671226452715507,
          0.670650831521907,
          0.7320603435551344,
          0.7343488967986086,
          0.7641000889637747,
          0.8054847601166019,
          0.819120723192303,
          0.8648917880617891,
          0.8668942721498292,
          0.8849166289421895,
          0.8882541024222561,
          0.9349787311431901,
          0.9429886674953502,
          0.9750284129039904,
          0.9750284129039904,
          0.9750284129039904,
          0.9750284129039904,
          0.9750284129039904,
          0.9750284129039904,
          0.9750284129039904,
          0.9750284129039904,
          0.9750284129039904,
          0.9750284129039904,
          0.9750284129039904,
          0.9750284129039904,
          0.9750284129039904,
          0.9750284129039904,
          0.9750284129039904,
          0.9750284129039904,
          0.9750284129039904,
          0.9750284129039904,
          0.9750284129039904,
          0.9750284129039904,
          0.9750284129039904,
          0.9750284129039904,
          0.9750284129039904,
          0.9750284129039904,
          0.9750284129039904,
          0.9750284129039904,
          0.9750284129039904,
          0.9750284129039904,
          0.9750284129039904,
          0.9750284129039904,
          0.9750284129039904,
          0.9750284129039904,
          0.9750284129039904,
          0.9750284129039904,
          0.9750284129039904,
          0.9750284129039904,
          0.9750284129039904,
          0.9750284129039904,
          0.9750284129039904,
          0.9750284129039904,
          0.9750284129039904,
          0.9750284129039904,
          0.9750284129039904,
          0.9750284129039904,
          0.9750284129039904,
          0.9750284129039904
         ],
         "yaxis": "y"
        }
       ],
       "layout": {
        "font": {
         "color": "Black",
         "family": "sans serif",
         "size": 20
        },
        "height": 800,
        "legend": {
         "orientation": "h",
         "title": {
          "text": "color"
         },
         "tracegroupgap": 0
        },
        "margin": {
         "t": 60
        },
        "shapes": [
         {
          "line": {
           "color": "grey",
           "dash": "dashdot"
          },
          "type": "line",
          "x0": 0,
          "x1": 1,
          "y0": 0,
          "y1": 1
         }
        ],
        "template": {
         "data": {
          "bar": [
           {
            "error_x": {
             "color": "#2a3f5f"
            },
            "error_y": {
             "color": "#2a3f5f"
            },
            "marker": {
             "line": {
              "color": "#E5ECF6",
              "width": 0.5
             },
             "pattern": {
              "fillmode": "overlay",
              "size": 10,
              "solidity": 0.2
             }
            },
            "type": "bar"
           }
          ],
          "barpolar": [
           {
            "marker": {
             "line": {
              "color": "#E5ECF6",
              "width": 0.5
             },
             "pattern": {
              "fillmode": "overlay",
              "size": 10,
              "solidity": 0.2
             }
            },
            "type": "barpolar"
           }
          ],
          "carpet": [
           {
            "aaxis": {
             "endlinecolor": "#2a3f5f",
             "gridcolor": "white",
             "linecolor": "white",
             "minorgridcolor": "white",
             "startlinecolor": "#2a3f5f"
            },
            "baxis": {
             "endlinecolor": "#2a3f5f",
             "gridcolor": "white",
             "linecolor": "white",
             "minorgridcolor": "white",
             "startlinecolor": "#2a3f5f"
            },
            "type": "carpet"
           }
          ],
          "choropleth": [
           {
            "colorbar": {
             "outlinewidth": 0,
             "ticks": ""
            },
            "type": "choropleth"
           }
          ],
          "contour": [
           {
            "colorbar": {
             "outlinewidth": 0,
             "ticks": ""
            },
            "colorscale": [
             [
              0,
              "#0d0887"
             ],
             [
              0.1111111111111111,
              "#46039f"
             ],
             [
              0.2222222222222222,
              "#7201a8"
             ],
             [
              0.3333333333333333,
              "#9c179e"
             ],
             [
              0.4444444444444444,
              "#bd3786"
             ],
             [
              0.5555555555555556,
              "#d8576b"
             ],
             [
              0.6666666666666666,
              "#ed7953"
             ],
             [
              0.7777777777777778,
              "#fb9f3a"
             ],
             [
              0.8888888888888888,
              "#fdca26"
             ],
             [
              1,
              "#f0f921"
             ]
            ],
            "type": "contour"
           }
          ],
          "contourcarpet": [
           {
            "colorbar": {
             "outlinewidth": 0,
             "ticks": ""
            },
            "type": "contourcarpet"
           }
          ],
          "heatmap": [
           {
            "colorbar": {
             "outlinewidth": 0,
             "ticks": ""
            },
            "colorscale": [
             [
              0,
              "#0d0887"
             ],
             [
              0.1111111111111111,
              "#46039f"
             ],
             [
              0.2222222222222222,
              "#7201a8"
             ],
             [
              0.3333333333333333,
              "#9c179e"
             ],
             [
              0.4444444444444444,
              "#bd3786"
             ],
             [
              0.5555555555555556,
              "#d8576b"
             ],
             [
              0.6666666666666666,
              "#ed7953"
             ],
             [
              0.7777777777777778,
              "#fb9f3a"
             ],
             [
              0.8888888888888888,
              "#fdca26"
             ],
             [
              1,
              "#f0f921"
             ]
            ],
            "type": "heatmap"
           }
          ],
          "heatmapgl": [
           {
            "colorbar": {
             "outlinewidth": 0,
             "ticks": ""
            },
            "colorscale": [
             [
              0,
              "#0d0887"
             ],
             [
              0.1111111111111111,
              "#46039f"
             ],
             [
              0.2222222222222222,
              "#7201a8"
             ],
             [
              0.3333333333333333,
              "#9c179e"
             ],
             [
              0.4444444444444444,
              "#bd3786"
             ],
             [
              0.5555555555555556,
              "#d8576b"
             ],
             [
              0.6666666666666666,
              "#ed7953"
             ],
             [
              0.7777777777777778,
              "#fb9f3a"
             ],
             [
              0.8888888888888888,
              "#fdca26"
             ],
             [
              1,
              "#f0f921"
             ]
            ],
            "type": "heatmapgl"
           }
          ],
          "histogram": [
           {
            "marker": {
             "pattern": {
              "fillmode": "overlay",
              "size": 10,
              "solidity": 0.2
             }
            },
            "type": "histogram"
           }
          ],
          "histogram2d": [
           {
            "colorbar": {
             "outlinewidth": 0,
             "ticks": ""
            },
            "colorscale": [
             [
              0,
              "#0d0887"
             ],
             [
              0.1111111111111111,
              "#46039f"
             ],
             [
              0.2222222222222222,
              "#7201a8"
             ],
             [
              0.3333333333333333,
              "#9c179e"
             ],
             [
              0.4444444444444444,
              "#bd3786"
             ],
             [
              0.5555555555555556,
              "#d8576b"
             ],
             [
              0.6666666666666666,
              "#ed7953"
             ],
             [
              0.7777777777777778,
              "#fb9f3a"
             ],
             [
              0.8888888888888888,
              "#fdca26"
             ],
             [
              1,
              "#f0f921"
             ]
            ],
            "type": "histogram2d"
           }
          ],
          "histogram2dcontour": [
           {
            "colorbar": {
             "outlinewidth": 0,
             "ticks": ""
            },
            "colorscale": [
             [
              0,
              "#0d0887"
             ],
             [
              0.1111111111111111,
              "#46039f"
             ],
             [
              0.2222222222222222,
              "#7201a8"
             ],
             [
              0.3333333333333333,
              "#9c179e"
             ],
             [
              0.4444444444444444,
              "#bd3786"
             ],
             [
              0.5555555555555556,
              "#d8576b"
             ],
             [
              0.6666666666666666,
              "#ed7953"
             ],
             [
              0.7777777777777778,
              "#fb9f3a"
             ],
             [
              0.8888888888888888,
              "#fdca26"
             ],
             [
              1,
              "#f0f921"
             ]
            ],
            "type": "histogram2dcontour"
           }
          ],
          "mesh3d": [
           {
            "colorbar": {
             "outlinewidth": 0,
             "ticks": ""
            },
            "type": "mesh3d"
           }
          ],
          "parcoords": [
           {
            "line": {
             "colorbar": {
              "outlinewidth": 0,
              "ticks": ""
             }
            },
            "type": "parcoords"
           }
          ],
          "pie": [
           {
            "automargin": true,
            "type": "pie"
           }
          ],
          "scatter": [
           {
            "fillpattern": {
             "fillmode": "overlay",
             "size": 10,
             "solidity": 0.2
            },
            "type": "scatter"
           }
          ],
          "scatter3d": [
           {
            "line": {
             "colorbar": {
              "outlinewidth": 0,
              "ticks": ""
             }
            },
            "marker": {
             "colorbar": {
              "outlinewidth": 0,
              "ticks": ""
             }
            },
            "type": "scatter3d"
           }
          ],
          "scattercarpet": [
           {
            "marker": {
             "colorbar": {
              "outlinewidth": 0,
              "ticks": ""
             }
            },
            "type": "scattercarpet"
           }
          ],
          "scattergeo": [
           {
            "marker": {
             "colorbar": {
              "outlinewidth": 0,
              "ticks": ""
             }
            },
            "type": "scattergeo"
           }
          ],
          "scattergl": [
           {
            "marker": {
             "colorbar": {
              "outlinewidth": 0,
              "ticks": ""
             }
            },
            "type": "scattergl"
           }
          ],
          "scattermapbox": [
           {
            "marker": {
             "colorbar": {
              "outlinewidth": 0,
              "ticks": ""
             }
            },
            "type": "scattermapbox"
           }
          ],
          "scatterpolar": [
           {
            "marker": {
             "colorbar": {
              "outlinewidth": 0,
              "ticks": ""
             }
            },
            "type": "scatterpolar"
           }
          ],
          "scatterpolargl": [
           {
            "marker": {
             "colorbar": {
              "outlinewidth": 0,
              "ticks": ""
             }
            },
            "type": "scatterpolargl"
           }
          ],
          "scatterternary": [
           {
            "marker": {
             "colorbar": {
              "outlinewidth": 0,
              "ticks": ""
             }
            },
            "type": "scatterternary"
           }
          ],
          "surface": [
           {
            "colorbar": {
             "outlinewidth": 0,
             "ticks": ""
            },
            "colorscale": [
             [
              0,
              "#0d0887"
             ],
             [
              0.1111111111111111,
              "#46039f"
             ],
             [
              0.2222222222222222,
              "#7201a8"
             ],
             [
              0.3333333333333333,
              "#9c179e"
             ],
             [
              0.4444444444444444,
              "#bd3786"
             ],
             [
              0.5555555555555556,
              "#d8576b"
             ],
             [
              0.6666666666666666,
              "#ed7953"
             ],
             [
              0.7777777777777778,
              "#fb9f3a"
             ],
             [
              0.8888888888888888,
              "#fdca26"
             ],
             [
              1,
              "#f0f921"
             ]
            ],
            "type": "surface"
           }
          ],
          "table": [
           {
            "cells": {
             "fill": {
              "color": "#EBF0F8"
             },
             "line": {
              "color": "white"
             }
            },
            "header": {
             "fill": {
              "color": "#C8D4E3"
             },
             "line": {
              "color": "white"
             }
            },
            "type": "table"
           }
          ]
         },
         "layout": {
          "annotationdefaults": {
           "arrowcolor": "#2a3f5f",
           "arrowhead": 0,
           "arrowwidth": 1
          },
          "autotypenumbers": "strict",
          "coloraxis": {
           "colorbar": {
            "outlinewidth": 0,
            "ticks": ""
           }
          },
          "colorscale": {
           "diverging": [
            [
             0,
             "#8e0152"
            ],
            [
             0.1,
             "#c51b7d"
            ],
            [
             0.2,
             "#de77ae"
            ],
            [
             0.3,
             "#f1b6da"
            ],
            [
             0.4,
             "#fde0ef"
            ],
            [
             0.5,
             "#f7f7f7"
            ],
            [
             0.6,
             "#e6f5d0"
            ],
            [
             0.7,
             "#b8e186"
            ],
            [
             0.8,
             "#7fbc41"
            ],
            [
             0.9,
             "#4d9221"
            ],
            [
             1,
             "#276419"
            ]
           ],
           "sequential": [
            [
             0,
             "#0d0887"
            ],
            [
             0.1111111111111111,
             "#46039f"
            ],
            [
             0.2222222222222222,
             "#7201a8"
            ],
            [
             0.3333333333333333,
             "#9c179e"
            ],
            [
             0.4444444444444444,
             "#bd3786"
            ],
            [
             0.5555555555555556,
             "#d8576b"
            ],
            [
             0.6666666666666666,
             "#ed7953"
            ],
            [
             0.7777777777777778,
             "#fb9f3a"
            ],
            [
             0.8888888888888888,
             "#fdca26"
            ],
            [
             1,
             "#f0f921"
            ]
           ],
           "sequentialminus": [
            [
             0,
             "#0d0887"
            ],
            [
             0.1111111111111111,
             "#46039f"
            ],
            [
             0.2222222222222222,
             "#7201a8"
            ],
            [
             0.3333333333333333,
             "#9c179e"
            ],
            [
             0.4444444444444444,
             "#bd3786"
            ],
            [
             0.5555555555555556,
             "#d8576b"
            ],
            [
             0.6666666666666666,
             "#ed7953"
            ],
            [
             0.7777777777777778,
             "#fb9f3a"
            ],
            [
             0.8888888888888888,
             "#fdca26"
            ],
            [
             1,
             "#f0f921"
            ]
           ]
          },
          "colorway": [
           "#636efa",
           "#EF553B",
           "#00cc96",
           "#ab63fa",
           "#FFA15A",
           "#19d3f3",
           "#FF6692",
           "#B6E880",
           "#FF97FF",
           "#FECB52"
          ],
          "font": {
           "color": "#2a3f5f"
          },
          "geo": {
           "bgcolor": "white",
           "lakecolor": "white",
           "landcolor": "#E5ECF6",
           "showlakes": true,
           "showland": true,
           "subunitcolor": "white"
          },
          "hoverlabel": {
           "align": "left"
          },
          "hovermode": "closest",
          "mapbox": {
           "style": "light"
          },
          "paper_bgcolor": "white",
          "plot_bgcolor": "#E5ECF6",
          "polar": {
           "angularaxis": {
            "gridcolor": "white",
            "linecolor": "white",
            "ticks": ""
           },
           "bgcolor": "#E5ECF6",
           "radialaxis": {
            "gridcolor": "white",
            "linecolor": "white",
            "ticks": ""
           }
          },
          "scene": {
           "xaxis": {
            "backgroundcolor": "#E5ECF6",
            "gridcolor": "white",
            "gridwidth": 2,
            "linecolor": "white",
            "showbackground": true,
            "ticks": "",
            "zerolinecolor": "white"
           },
           "yaxis": {
            "backgroundcolor": "#E5ECF6",
            "gridcolor": "white",
            "gridwidth": 2,
            "linecolor": "white",
            "showbackground": true,
            "ticks": "",
            "zerolinecolor": "white"
           },
           "zaxis": {
            "backgroundcolor": "#E5ECF6",
            "gridcolor": "white",
            "gridwidth": 2,
            "linecolor": "white",
            "showbackground": true,
            "ticks": "",
            "zerolinecolor": "white"
           }
          },
          "shapedefaults": {
           "line": {
            "color": "#2a3f5f"
           }
          },
          "ternary": {
           "aaxis": {
            "gridcolor": "white",
            "linecolor": "white",
            "ticks": ""
           },
           "baxis": {
            "gridcolor": "white",
            "linecolor": "white",
            "ticks": ""
           },
           "bgcolor": "#E5ECF6",
           "caxis": {
            "gridcolor": "white",
            "linecolor": "white",
            "ticks": ""
           }
          },
          "title": {
           "x": 0.05
          },
          "xaxis": {
           "automargin": true,
           "gridcolor": "white",
           "linecolor": "white",
           "ticks": "",
           "title": {
            "standoff": 15
           },
           "zerolinecolor": "white",
           "zerolinewidth": 2
          },
          "yaxis": {
           "automargin": true,
           "gridcolor": "white",
           "linecolor": "white",
           "ticks": "",
           "title": {
            "standoff": 15
           },
           "zerolinecolor": "white",
           "zerolinewidth": 2
          }
         }
        },
        "width": 1000,
        "xaxis": {
         "anchor": "y",
         "domain": [
          0,
          1
         ],
         "title": {
          "text": "Mean average precision - Standard CP"
         }
        },
        "yaxis": {
         "anchor": "x",
         "domain": [
          0,
          1
         ],
         "title": {
          "text": "Mean average precision - CP + MitoBrilliant"
         }
        }
       }
      }
     },
     "metadata": {},
     "output_type": "display_data"
    }
   ],
   "source": [
    "scatter_plot_comparison_colorblack_trendline(df_controls,col1='Standard CP', col2='CP + MitoBrilliant')"
   ]
  },
  {
   "cell_type": "code",
   "execution_count": 11,
   "metadata": {},
   "outputs": [
    {
     "data": {
      "application/vnd.plotly.v1+json": {
       "config": {
        "plotlyServerURL": "https://plot.ly"
       },
       "data": [
        {
         "hovertemplate": "<b>%{hovertext}</b><br><br>color=Other<br>Mean average precision - Standard CP=%{x}<br>Mean average precision - CP + Phenovue phalloidin 400LS=%{y}<extra></extra>",
         "hovertext": [
          "tumor necrosis factor production inhibitor",
          "acetylcholine receptor antagonist",
          "pyruvate dehydrogenase kinase inhibitor",
          "protein tyrosine kinase inhibitor",
          "antihistamine",
          "hepatocyte growth factor receptor inhibitor",
          "CHK inhibitor",
          "glycogen synthase kinase inhibitor",
          "histone lysine methyltransferase inhibitor",
          "inosine monophosphate dehydrogenase inhibitor",
          "CDC inhibitor",
          "PARP inhibitor",
          "bromodomain inhibitor",
          "glycogen synthase kinase inhibitor",
          "JAK inhibitor",
          "Apoptosis inducer (ATP-competitive kinase inhibitor)",
          "hepatocyte growth factor receptor inhibitor",
          "bromodomain inhibitor",
          "MEK inhibitor",
          "Aurora kinase inhibitor",
          "LXR agonist",
          "phospholipase inhibitor",
          "IGF-1 inhibitor",
          "tricyclic antidepressant",
          "phosphodiesterase inhibitor",
          "beta-catenin inhibitor",
          "JNK inhibitor",
          "LXR agonist",
          "DNA inhibitor",
          "kinesin inhibitor",
          "phosphoinositide dependent kinase inhibitor",
          "RAF inhibitor",
          "FGFR inhibitor",
          "Bcr-Abl kinase inhibitor",
          "AMPK inhibitor",
          "pyruvate dehydrogenase kinase inhibitor",
          "phospholipase inhibitor",
          "Aurora kinase inhibitor",
          "JAK inhibitor",
          "tricyclic antidepressant",
          "PARP inhibitor",
          "BCL inhibitor",
          "inosine monophosphate dehydrogenase inhibitor",
          "MEK inhibitor",
          "histone lysine methyltransferase inhibitor",
          "HDAC inhibitor",
          "HDAC inhibitor",
          "BCL inhibitor",
          "phosphodiesterase inhibitor",
          "kinesin inhibitor",
          "CDK inhibitor",
          "CDC inhibitor",
          "RAF inhibitor",
          "protein tyrosine kinase inhibitor",
          "MAP kinase inhibitor",
          "ER stressor (SERCA inhibitor)",
          "protein arginine N-methyltransferase inhibitor",
          "Apoptosis inducer (transcription inhibitor)",
          "phosphoinositide dependent kinase inhibitor",
          "FGFR inhibitor",
          "DNA inhibitor",
          "smoothened receptor agonist",
          "JNK inhibitor",
          "CHK inhibitor",
          "EGFR inhibitor",
          "androgen receptor modulator",
          "HMGCR inhibitor",
          "acetylcholine receptor antagonist",
          "p38 MAPK inhibitor",
          "mTOR inhibitor",
          "EGFR inhibitor",
          "HMGCR inhibitor",
          "IGF-1 inhibitor",
          "Bcr-Abl kinase inhibitor",
          "MAP kinase inhibitor",
          "p38 MAPK inhibitor",
          "ubiquitin specific protease inhibitor",
          "beta-catenin inhibitor",
          "CDK inhibitor",
          "histone lysine demethylase inhibitor",
          "androgen receptor modulator",
          "mTOR inhibitor",
          "smoothened receptor agonist",
          "hypoxia inducible factor inhibitor"
         ],
         "legendgroup": "Other",
         "marker": {
          "color": "lightgrey",
          "symbol": "circle"
         },
         "mode": "markers",
         "name": "Other",
         "orientation": "v",
         "showlegend": true,
         "type": "scatter",
         "x": [
          0.2944622507122507,
          0.319870857699805,
          1,
          0.2676155969634231,
          0.3374634502923976,
          1,
          1,
          1,
          0.3198193337163925,
          1,
          1,
          0.2917989417989418,
          0.8875,
          1,
          0.3150836783988958,
          1,
          0.1536923878196257,
          1,
          0.675,
          1,
          1,
          0.3332581598099332,
          1,
          0.1386736411736411,
          0.3261078042328042,
          0.2779858077340915,
          0.3716928904428904,
          0.6833333333333333,
          0.279142501017501,
          1,
          1,
          0.3442460317460317,
          1,
          1,
          1,
          1,
          1,
          1,
          0.7496031746031745,
          0.2060171854289501,
          1,
          1,
          0.9583333333333334,
          1,
          1,
          1,
          1,
          0.9097222222222222,
          0.1116510292826082,
          1,
          1,
          0.3768786768786769,
          1,
          0.1934468952947214,
          0.4020197273486747,
          1,
          1,
          1,
          1,
          1,
          1,
          0.7472222222222222,
          0.4298340548340548,
          1,
          0.4321937321937322,
          0.1618973346914523,
          0.3379400691900692,
          0.2155818668046928,
          1,
          1,
          1,
          0.2000589225589225,
          1,
          0.9666666666666668,
          0.90625,
          0.8236111111111111,
          1,
          1,
          1,
          1,
          0.2155164108337482,
          1,
          0.8854166666666666,
          1
         ],
         "xaxis": "x",
         "y": [
          0.2558751542575072,
          0.3335751054501055,
          0.8500000000000001,
          0.248718917391518,
          0.5228863728863729,
          1,
          1,
          1,
          0.3401785714285714,
          1,
          1,
          0.3268518518518518,
          1,
          1,
          0.3742799852067586,
          1,
          0.1680952643548551,
          1,
          0.7242063492063492,
          1,
          1,
          0.3908527678748266,
          1,
          0.3147934813724287,
          0.2237367614269788,
          0.240540293040293,
          0.2428185190413451,
          0.6048611111111111,
          0.1154631271135847,
          1,
          1,
          0.2824013949013949,
          1,
          1,
          0.9097222222222222,
          1,
          1,
          1,
          0.6797852474323063,
          0.2132009058479646,
          1,
          1,
          0.7871031746031747,
          1,
          0.8694444444444445,
          1,
          1,
          0.7999999999999999,
          0.1576762709914883,
          1,
          1,
          0.275005305152364,
          0.7676587301587302,
          0.2301143301143301,
          0.4014936330725804,
          1,
          0.9583333333333331,
          1,
          0.9513888888888888,
          1,
          1,
          0.5174693362193362,
          0.2016026747005007,
          1,
          0.5733987077737077,
          0.2232273391812865,
          0.365625,
          0.4890873015873015,
          1,
          1,
          1,
          0.1883964719491035,
          1,
          1,
          0.8694444444444445,
          0.5371031746031746,
          0.7583333333333333,
          0.8069444444444445,
          1,
          1,
          0.1651788790919225,
          1,
          0.8347222222222223,
          1
         ],
         "yaxis": "y"
        },
        {
         "hovertemplate": "<b>%{hovertext}</b><br><br>color=antihistamine<br>Mean average precision - Standard CP=%{x}<br>Mean average precision - CP + Phenovue phalloidin 400LS=%{y}<extra></extra>",
         "hovertext": [
          "antihistamine"
         ],
         "legendgroup": "antihistamine",
         "marker": {
          "color": "#00cc96",
          "symbol": "circle"
         },
         "mode": "markers",
         "name": "antihistamine",
         "orientation": "v",
         "showlegend": true,
         "type": "scatter",
         "x": [
          0.4792508417508417
         ],
         "xaxis": "x",
         "y": [
          0.1593121897881959
         ],
         "yaxis": "y"
        },
        {
         "hovertemplate": "<b>%{hovertext}</b><br><br>color=tumor necrosis factor production inhibitor<br>Mean average precision - Standard CP=%{x}<br>Mean average precision - CP + Phenovue phalloidin 400LS=%{y}<extra></extra>",
         "hovertext": [
          "tumor necrosis factor production inhibitor"
         ],
         "legendgroup": "tumor necrosis factor production inhibitor",
         "marker": {
          "color": "#ab63fa",
          "symbol": "circle"
         },
         "mode": "markers",
         "name": "tumor necrosis factor production inhibitor",
         "orientation": "v",
         "showlegend": true,
         "type": "scatter",
         "x": [
          0.6796626984126983
         ],
         "xaxis": "x",
         "y": [
          0.1566587347837347
         ],
         "yaxis": "y"
        },
        {
         "hovertemplate": "<b>%{hovertext}</b><br><br>color=ubiquitin specific protease inhibitor<br>Mean average precision - Standard CP=%{x}<br>Mean average precision - CP + Phenovue phalloidin 400LS=%{y}<extra></extra>",
         "hovertext": [
          "ubiquitin specific protease inhibitor"
         ],
         "legendgroup": "ubiquitin specific protease inhibitor",
         "marker": {
          "color": "#FFA15A",
          "symbol": "circle"
         },
         "mode": "markers",
         "name": "ubiquitin specific protease inhibitor",
         "orientation": "v",
         "showlegend": true,
         "type": "scatter",
         "x": [
          0.7805555555555556
         ],
         "xaxis": "x",
         "y": [
          0.3692045454545454
         ],
         "yaxis": "y"
        },
        {
         "hovertemplate": "<b>%{hovertext}</b><br><br>color=histone lysine demethylase inhibitor<br>Mean average precision - Standard CP=%{x}<br>Mean average precision - CP + Phenovue phalloidin 400LS=%{y}<extra></extra>",
         "hovertext": [
          "histone lysine demethylase inhibitor"
         ],
         "legendgroup": "histone lysine demethylase inhibitor",
         "marker": {
          "color": "#19d3f3",
          "symbol": "circle"
         },
         "mode": "markers",
         "name": "histone lysine demethylase inhibitor",
         "orientation": "v",
         "showlegend": true,
         "type": "scatter",
         "x": [
          0.8377976190476191
         ],
         "xaxis": "x",
         "y": [
          0.4847187412976886
         ],
         "yaxis": "y"
        },
        {
         "hovertemplate": "<b>%{hovertext}</b><br><br>color=protein arginine N-methyltransferase inhibitor<br>Mean average precision - Standard CP=%{x}<br>Mean average precision - CP + Phenovue phalloidin 400LS=%{y}<extra></extra>",
         "hovertext": [
          "protein arginine N-methyltransferase inhibitor"
         ],
         "legendgroup": "protein arginine N-methyltransferase inhibitor",
         "marker": {
          "color": "#FF6692",
          "symbol": "circle"
         },
         "mode": "markers",
         "name": "protein arginine N-methyltransferase inhibitor",
         "orientation": "v",
         "showlegend": true,
         "type": "scatter",
         "x": [
          0.4715078766549354
         ],
         "xaxis": "x",
         "y": [
          0.1587512025012024
         ],
         "yaxis": "y"
        },
        {
         "hovertemplate": "<b>%{hovertext}</b><br><br>color=hypoxia inducible factor inhibitor<br>Mean average precision - Standard CP=%{x}<br>Mean average precision - CP + Phenovue phalloidin 400LS=%{y}<extra></extra>",
         "hovertext": [
          "hypoxia inducible factor inhibitor"
         ],
         "legendgroup": "hypoxia inducible factor inhibitor",
         "marker": {
          "color": "#B6E880",
          "symbol": "circle"
         },
         "mode": "markers",
         "name": "hypoxia inducible factor inhibitor",
         "orientation": "v",
         "showlegend": true,
         "type": "scatter",
         "x": [
          0.2409419026679088
         ],
         "xaxis": "x",
         "y": [
          0.9055555555555556
         ],
         "yaxis": "y"
        },
        {
         "hovertemplate": "<b>OLS trendline</b><br>y = 0.922937 * x + 0.0233505<br>R<sup>2</sup>=0.821927<br><br>Mean average precision - Standard CP=%{x}<br>Mean average precision - CP + Phenovue phalloidin 400LS=%{y} <b>(trend)</b><extra></extra>",
         "legendgroup": "Overall Trendline",
         "line": {
          "color": "#FF97FF"
         },
         "mode": "lines",
         "name": "Overall Trendline",
         "showlegend": true,
         "type": "scatter",
         "x": [
          0.1116510292826082,
          0.1386736411736411,
          0.1536923878196257,
          0.1618973346914523,
          0.1934468952947214,
          0.2000589225589225,
          0.2060171854289501,
          0.2155164108337482,
          0.2155818668046928,
          0.2409419026679088,
          0.2676155969634231,
          0.2779858077340915,
          0.279142501017501,
          0.2917989417989418,
          0.2944622507122507,
          0.3150836783988958,
          0.3198193337163925,
          0.319870857699805,
          0.3261078042328042,
          0.3332581598099332,
          0.3374634502923976,
          0.3379400691900692,
          0.3442460317460317,
          0.3716928904428904,
          0.3768786768786769,
          0.4020197273486747,
          0.4298340548340548,
          0.4321937321937322,
          0.4715078766549354,
          0.4792508417508417,
          0.675,
          0.6796626984126983,
          0.6833333333333333,
          0.7472222222222222,
          0.7496031746031745,
          0.7805555555555556,
          0.8236111111111111,
          0.8377976190476191,
          0.8854166666666666,
          0.8875,
          0.90625,
          0.9097222222222222,
          0.9583333333333334,
          0.9666666666666668,
          1,
          1,
          1,
          1,
          1,
          1,
          1,
          1,
          1,
          1,
          1,
          1,
          1,
          1,
          1,
          1,
          1,
          1,
          1,
          1,
          1,
          1,
          1,
          1,
          1,
          1,
          1,
          1,
          1,
          1,
          1,
          1,
          1,
          1,
          1,
          1,
          1,
          1,
          1,
          1,
          1,
          1,
          1,
          1,
          1,
          1
         ],
         "xaxis": "x",
         "y": [
          0.12639737781715743,
          0.15133754686880038,
          0.1651989042314818,
          0.1727715534953011,
          0.2018898111279651,
          0.20799229590657267,
          0.21349139731956104,
          0.22225858416332958,
          0.22231899590248272,
          0.2457247119796254,
          0.27034285206336484,
          0.27991390355034057,
          0.28098145860924684,
          0.29266255642296285,
          0.2951206228305522,
          0.3141529019701502,
          0.3185236136047229,
          0.3185711669967379,
          0.3243274758808053,
          0.33092680379152184,
          0.3348080220825906,
          0.3352479113105109,
          0.3410679176375538,
          0.366399639774427,
          0.37118579408459385,
          0.394389400434197,
          0.42006027312187133,
          0.42223810672637263,
          0.4585225862924832,
          0.4656688554699996,
          0.6463330014133033,
          0.65063637841914,
          0.6540241432960755,
          0.7129895643973301,
          0.7151870335066934,
          0.7437541319284193,
          0.783491698322743,
          0.796584951766034,
          0.8405343339533045,
          0.8424571194239976,
          0.8597621886602353,
          0.8629668311113905,
          0.9078318254275625,
          0.9155229673103348,
          0.946287534841424,
          0.946287534841424,
          0.946287534841424,
          0.946287534841424,
          0.946287534841424,
          0.946287534841424,
          0.946287534841424,
          0.946287534841424,
          0.946287534841424,
          0.946287534841424,
          0.946287534841424,
          0.946287534841424,
          0.946287534841424,
          0.946287534841424,
          0.946287534841424,
          0.946287534841424,
          0.946287534841424,
          0.946287534841424,
          0.946287534841424,
          0.946287534841424,
          0.946287534841424,
          0.946287534841424,
          0.946287534841424,
          0.946287534841424,
          0.946287534841424,
          0.946287534841424,
          0.946287534841424,
          0.946287534841424,
          0.946287534841424,
          0.946287534841424,
          0.946287534841424,
          0.946287534841424,
          0.946287534841424,
          0.946287534841424,
          0.946287534841424,
          0.946287534841424,
          0.946287534841424,
          0.946287534841424,
          0.946287534841424,
          0.946287534841424,
          0.946287534841424,
          0.946287534841424,
          0.946287534841424,
          0.946287534841424,
          0.946287534841424,
          0.946287534841424
         ],
         "yaxis": "y"
        }
       ],
       "layout": {
        "font": {
         "color": "Black",
         "family": "sans serif",
         "size": 20
        },
        "height": 800,
        "legend": {
         "orientation": "h",
         "title": {
          "text": "color"
         },
         "tracegroupgap": 0
        },
        "margin": {
         "t": 60
        },
        "shapes": [
         {
          "line": {
           "color": "grey",
           "dash": "dashdot"
          },
          "type": "line",
          "x0": 0,
          "x1": 1,
          "y0": 0,
          "y1": 1
         }
        ],
        "template": {
         "data": {
          "bar": [
           {
            "error_x": {
             "color": "#2a3f5f"
            },
            "error_y": {
             "color": "#2a3f5f"
            },
            "marker": {
             "line": {
              "color": "#E5ECF6",
              "width": 0.5
             },
             "pattern": {
              "fillmode": "overlay",
              "size": 10,
              "solidity": 0.2
             }
            },
            "type": "bar"
           }
          ],
          "barpolar": [
           {
            "marker": {
             "line": {
              "color": "#E5ECF6",
              "width": 0.5
             },
             "pattern": {
              "fillmode": "overlay",
              "size": 10,
              "solidity": 0.2
             }
            },
            "type": "barpolar"
           }
          ],
          "carpet": [
           {
            "aaxis": {
             "endlinecolor": "#2a3f5f",
             "gridcolor": "white",
             "linecolor": "white",
             "minorgridcolor": "white",
             "startlinecolor": "#2a3f5f"
            },
            "baxis": {
             "endlinecolor": "#2a3f5f",
             "gridcolor": "white",
             "linecolor": "white",
             "minorgridcolor": "white",
             "startlinecolor": "#2a3f5f"
            },
            "type": "carpet"
           }
          ],
          "choropleth": [
           {
            "colorbar": {
             "outlinewidth": 0,
             "ticks": ""
            },
            "type": "choropleth"
           }
          ],
          "contour": [
           {
            "colorbar": {
             "outlinewidth": 0,
             "ticks": ""
            },
            "colorscale": [
             [
              0,
              "#0d0887"
             ],
             [
              0.1111111111111111,
              "#46039f"
             ],
             [
              0.2222222222222222,
              "#7201a8"
             ],
             [
              0.3333333333333333,
              "#9c179e"
             ],
             [
              0.4444444444444444,
              "#bd3786"
             ],
             [
              0.5555555555555556,
              "#d8576b"
             ],
             [
              0.6666666666666666,
              "#ed7953"
             ],
             [
              0.7777777777777778,
              "#fb9f3a"
             ],
             [
              0.8888888888888888,
              "#fdca26"
             ],
             [
              1,
              "#f0f921"
             ]
            ],
            "type": "contour"
           }
          ],
          "contourcarpet": [
           {
            "colorbar": {
             "outlinewidth": 0,
             "ticks": ""
            },
            "type": "contourcarpet"
           }
          ],
          "heatmap": [
           {
            "colorbar": {
             "outlinewidth": 0,
             "ticks": ""
            },
            "colorscale": [
             [
              0,
              "#0d0887"
             ],
             [
              0.1111111111111111,
              "#46039f"
             ],
             [
              0.2222222222222222,
              "#7201a8"
             ],
             [
              0.3333333333333333,
              "#9c179e"
             ],
             [
              0.4444444444444444,
              "#bd3786"
             ],
             [
              0.5555555555555556,
              "#d8576b"
             ],
             [
              0.6666666666666666,
              "#ed7953"
             ],
             [
              0.7777777777777778,
              "#fb9f3a"
             ],
             [
              0.8888888888888888,
              "#fdca26"
             ],
             [
              1,
              "#f0f921"
             ]
            ],
            "type": "heatmap"
           }
          ],
          "heatmapgl": [
           {
            "colorbar": {
             "outlinewidth": 0,
             "ticks": ""
            },
            "colorscale": [
             [
              0,
              "#0d0887"
             ],
             [
              0.1111111111111111,
              "#46039f"
             ],
             [
              0.2222222222222222,
              "#7201a8"
             ],
             [
              0.3333333333333333,
              "#9c179e"
             ],
             [
              0.4444444444444444,
              "#bd3786"
             ],
             [
              0.5555555555555556,
              "#d8576b"
             ],
             [
              0.6666666666666666,
              "#ed7953"
             ],
             [
              0.7777777777777778,
              "#fb9f3a"
             ],
             [
              0.8888888888888888,
              "#fdca26"
             ],
             [
              1,
              "#f0f921"
             ]
            ],
            "type": "heatmapgl"
           }
          ],
          "histogram": [
           {
            "marker": {
             "pattern": {
              "fillmode": "overlay",
              "size": 10,
              "solidity": 0.2
             }
            },
            "type": "histogram"
           }
          ],
          "histogram2d": [
           {
            "colorbar": {
             "outlinewidth": 0,
             "ticks": ""
            },
            "colorscale": [
             [
              0,
              "#0d0887"
             ],
             [
              0.1111111111111111,
              "#46039f"
             ],
             [
              0.2222222222222222,
              "#7201a8"
             ],
             [
              0.3333333333333333,
              "#9c179e"
             ],
             [
              0.4444444444444444,
              "#bd3786"
             ],
             [
              0.5555555555555556,
              "#d8576b"
             ],
             [
              0.6666666666666666,
              "#ed7953"
             ],
             [
              0.7777777777777778,
              "#fb9f3a"
             ],
             [
              0.8888888888888888,
              "#fdca26"
             ],
             [
              1,
              "#f0f921"
             ]
            ],
            "type": "histogram2d"
           }
          ],
          "histogram2dcontour": [
           {
            "colorbar": {
             "outlinewidth": 0,
             "ticks": ""
            },
            "colorscale": [
             [
              0,
              "#0d0887"
             ],
             [
              0.1111111111111111,
              "#46039f"
             ],
             [
              0.2222222222222222,
              "#7201a8"
             ],
             [
              0.3333333333333333,
              "#9c179e"
             ],
             [
              0.4444444444444444,
              "#bd3786"
             ],
             [
              0.5555555555555556,
              "#d8576b"
             ],
             [
              0.6666666666666666,
              "#ed7953"
             ],
             [
              0.7777777777777778,
              "#fb9f3a"
             ],
             [
              0.8888888888888888,
              "#fdca26"
             ],
             [
              1,
              "#f0f921"
             ]
            ],
            "type": "histogram2dcontour"
           }
          ],
          "mesh3d": [
           {
            "colorbar": {
             "outlinewidth": 0,
             "ticks": ""
            },
            "type": "mesh3d"
           }
          ],
          "parcoords": [
           {
            "line": {
             "colorbar": {
              "outlinewidth": 0,
              "ticks": ""
             }
            },
            "type": "parcoords"
           }
          ],
          "pie": [
           {
            "automargin": true,
            "type": "pie"
           }
          ],
          "scatter": [
           {
            "fillpattern": {
             "fillmode": "overlay",
             "size": 10,
             "solidity": 0.2
            },
            "type": "scatter"
           }
          ],
          "scatter3d": [
           {
            "line": {
             "colorbar": {
              "outlinewidth": 0,
              "ticks": ""
             }
            },
            "marker": {
             "colorbar": {
              "outlinewidth": 0,
              "ticks": ""
             }
            },
            "type": "scatter3d"
           }
          ],
          "scattercarpet": [
           {
            "marker": {
             "colorbar": {
              "outlinewidth": 0,
              "ticks": ""
             }
            },
            "type": "scattercarpet"
           }
          ],
          "scattergeo": [
           {
            "marker": {
             "colorbar": {
              "outlinewidth": 0,
              "ticks": ""
             }
            },
            "type": "scattergeo"
           }
          ],
          "scattergl": [
           {
            "marker": {
             "colorbar": {
              "outlinewidth": 0,
              "ticks": ""
             }
            },
            "type": "scattergl"
           }
          ],
          "scattermapbox": [
           {
            "marker": {
             "colorbar": {
              "outlinewidth": 0,
              "ticks": ""
             }
            },
            "type": "scattermapbox"
           }
          ],
          "scatterpolar": [
           {
            "marker": {
             "colorbar": {
              "outlinewidth": 0,
              "ticks": ""
             }
            },
            "type": "scatterpolar"
           }
          ],
          "scatterpolargl": [
           {
            "marker": {
             "colorbar": {
              "outlinewidth": 0,
              "ticks": ""
             }
            },
            "type": "scatterpolargl"
           }
          ],
          "scatterternary": [
           {
            "marker": {
             "colorbar": {
              "outlinewidth": 0,
              "ticks": ""
             }
            },
            "type": "scatterternary"
           }
          ],
          "surface": [
           {
            "colorbar": {
             "outlinewidth": 0,
             "ticks": ""
            },
            "colorscale": [
             [
              0,
              "#0d0887"
             ],
             [
              0.1111111111111111,
              "#46039f"
             ],
             [
              0.2222222222222222,
              "#7201a8"
             ],
             [
              0.3333333333333333,
              "#9c179e"
             ],
             [
              0.4444444444444444,
              "#bd3786"
             ],
             [
              0.5555555555555556,
              "#d8576b"
             ],
             [
              0.6666666666666666,
              "#ed7953"
             ],
             [
              0.7777777777777778,
              "#fb9f3a"
             ],
             [
              0.8888888888888888,
              "#fdca26"
             ],
             [
              1,
              "#f0f921"
             ]
            ],
            "type": "surface"
           }
          ],
          "table": [
           {
            "cells": {
             "fill": {
              "color": "#EBF0F8"
             },
             "line": {
              "color": "white"
             }
            },
            "header": {
             "fill": {
              "color": "#C8D4E3"
             },
             "line": {
              "color": "white"
             }
            },
            "type": "table"
           }
          ]
         },
         "layout": {
          "annotationdefaults": {
           "arrowcolor": "#2a3f5f",
           "arrowhead": 0,
           "arrowwidth": 1
          },
          "autotypenumbers": "strict",
          "coloraxis": {
           "colorbar": {
            "outlinewidth": 0,
            "ticks": ""
           }
          },
          "colorscale": {
           "diverging": [
            [
             0,
             "#8e0152"
            ],
            [
             0.1,
             "#c51b7d"
            ],
            [
             0.2,
             "#de77ae"
            ],
            [
             0.3,
             "#f1b6da"
            ],
            [
             0.4,
             "#fde0ef"
            ],
            [
             0.5,
             "#f7f7f7"
            ],
            [
             0.6,
             "#e6f5d0"
            ],
            [
             0.7,
             "#b8e186"
            ],
            [
             0.8,
             "#7fbc41"
            ],
            [
             0.9,
             "#4d9221"
            ],
            [
             1,
             "#276419"
            ]
           ],
           "sequential": [
            [
             0,
             "#0d0887"
            ],
            [
             0.1111111111111111,
             "#46039f"
            ],
            [
             0.2222222222222222,
             "#7201a8"
            ],
            [
             0.3333333333333333,
             "#9c179e"
            ],
            [
             0.4444444444444444,
             "#bd3786"
            ],
            [
             0.5555555555555556,
             "#d8576b"
            ],
            [
             0.6666666666666666,
             "#ed7953"
            ],
            [
             0.7777777777777778,
             "#fb9f3a"
            ],
            [
             0.8888888888888888,
             "#fdca26"
            ],
            [
             1,
             "#f0f921"
            ]
           ],
           "sequentialminus": [
            [
             0,
             "#0d0887"
            ],
            [
             0.1111111111111111,
             "#46039f"
            ],
            [
             0.2222222222222222,
             "#7201a8"
            ],
            [
             0.3333333333333333,
             "#9c179e"
            ],
            [
             0.4444444444444444,
             "#bd3786"
            ],
            [
             0.5555555555555556,
             "#d8576b"
            ],
            [
             0.6666666666666666,
             "#ed7953"
            ],
            [
             0.7777777777777778,
             "#fb9f3a"
            ],
            [
             0.8888888888888888,
             "#fdca26"
            ],
            [
             1,
             "#f0f921"
            ]
           ]
          },
          "colorway": [
           "#636efa",
           "#EF553B",
           "#00cc96",
           "#ab63fa",
           "#FFA15A",
           "#19d3f3",
           "#FF6692",
           "#B6E880",
           "#FF97FF",
           "#FECB52"
          ],
          "font": {
           "color": "#2a3f5f"
          },
          "geo": {
           "bgcolor": "white",
           "lakecolor": "white",
           "landcolor": "#E5ECF6",
           "showlakes": true,
           "showland": true,
           "subunitcolor": "white"
          },
          "hoverlabel": {
           "align": "left"
          },
          "hovermode": "closest",
          "mapbox": {
           "style": "light"
          },
          "paper_bgcolor": "white",
          "plot_bgcolor": "#E5ECF6",
          "polar": {
           "angularaxis": {
            "gridcolor": "white",
            "linecolor": "white",
            "ticks": ""
           },
           "bgcolor": "#E5ECF6",
           "radialaxis": {
            "gridcolor": "white",
            "linecolor": "white",
            "ticks": ""
           }
          },
          "scene": {
           "xaxis": {
            "backgroundcolor": "#E5ECF6",
            "gridcolor": "white",
            "gridwidth": 2,
            "linecolor": "white",
            "showbackground": true,
            "ticks": "",
            "zerolinecolor": "white"
           },
           "yaxis": {
            "backgroundcolor": "#E5ECF6",
            "gridcolor": "white",
            "gridwidth": 2,
            "linecolor": "white",
            "showbackground": true,
            "ticks": "",
            "zerolinecolor": "white"
           },
           "zaxis": {
            "backgroundcolor": "#E5ECF6",
            "gridcolor": "white",
            "gridwidth": 2,
            "linecolor": "white",
            "showbackground": true,
            "ticks": "",
            "zerolinecolor": "white"
           }
          },
          "shapedefaults": {
           "line": {
            "color": "#2a3f5f"
           }
          },
          "ternary": {
           "aaxis": {
            "gridcolor": "white",
            "linecolor": "white",
            "ticks": ""
           },
           "baxis": {
            "gridcolor": "white",
            "linecolor": "white",
            "ticks": ""
           },
           "bgcolor": "#E5ECF6",
           "caxis": {
            "gridcolor": "white",
            "linecolor": "white",
            "ticks": ""
           }
          },
          "title": {
           "x": 0.05
          },
          "xaxis": {
           "automargin": true,
           "gridcolor": "white",
           "linecolor": "white",
           "ticks": "",
           "title": {
            "standoff": 15
           },
           "zerolinecolor": "white",
           "zerolinewidth": 2
          },
          "yaxis": {
           "automargin": true,
           "gridcolor": "white",
           "linecolor": "white",
           "ticks": "",
           "title": {
            "standoff": 15
           },
           "zerolinecolor": "white",
           "zerolinewidth": 2
          }
         }
        },
        "width": 1000,
        "xaxis": {
         "anchor": "y",
         "domain": [
          0,
          1
         ],
         "title": {
          "text": "Mean average precision - Standard CP"
         }
        },
        "yaxis": {
         "anchor": "x",
         "domain": [
          0,
          1
         ],
         "title": {
          "text": "Mean average precision - CP + Phenovue phalloidin 400LS"
         }
        }
       }
      }
     },
     "metadata": {},
     "output_type": "display_data"
    }
   ],
   "source": [
    "scatter_plot_comparison_colorblack_trendline(df_controls,col1='Standard CP', col2='CP + Phenovue phalloidin 400LS')"
   ]
  },
  {
   "cell_type": "code",
   "execution_count": 12,
   "metadata": {},
   "outputs": [
    {
     "data": {
      "application/vnd.plotly.v1+json": {
       "config": {
        "plotlyServerURL": "https://plot.ly"
       },
       "data": [
        {
         "hovertemplate": "<b>%{hovertext}</b><br><br>color=Other<br>Mean average precision - Standard CP=%{x}<br>Mean average precision - ChromaLive + Hoechst=%{y}<extra></extra>",
         "hovertext": [
          "tumor necrosis factor production inhibitor",
          "antihistamine",
          "acetylcholine receptor antagonist",
          "antihistamine",
          "hepatocyte growth factor receptor inhibitor",
          "CHK inhibitor",
          "glycogen synthase kinase inhibitor",
          "histone lysine methyltransferase inhibitor",
          "inosine monophosphate dehydrogenase inhibitor",
          "CDC inhibitor",
          "PARP inhibitor",
          "bromodomain inhibitor",
          "glycogen synthase kinase inhibitor",
          "JAK inhibitor",
          "Apoptosis inducer (ATP-competitive kinase inhibitor)",
          "hepatocyte growth factor receptor inhibitor",
          "bromodomain inhibitor",
          "MEK inhibitor",
          "Aurora kinase inhibitor",
          "LXR agonist",
          "IGF-1 inhibitor",
          "histone lysine demethylase inhibitor",
          "phosphodiesterase inhibitor",
          "beta-catenin inhibitor",
          "JNK inhibitor",
          "LXR agonist",
          "DNA inhibitor",
          "kinesin inhibitor",
          "phosphoinositide dependent kinase inhibitor",
          "RAF inhibitor",
          "FGFR inhibitor",
          "Bcr-Abl kinase inhibitor",
          "AMPK inhibitor",
          "pyruvate dehydrogenase kinase inhibitor",
          "PARP inhibitor",
          "BCL inhibitor",
          "inosine monophosphate dehydrogenase inhibitor",
          "histone lysine methyltransferase inhibitor",
          "HDAC inhibitor",
          "HDAC inhibitor",
          "BCL inhibitor",
          "phosphodiesterase inhibitor",
          "kinesin inhibitor",
          "CDK inhibitor",
          "CDC inhibitor",
          "MAP kinase inhibitor",
          "ER stressor (SERCA inhibitor)",
          "Apoptosis inducer (transcription inhibitor)",
          "phosphoinositide dependent kinase inhibitor",
          "DNA inhibitor",
          "smoothened receptor agonist",
          "JNK inhibitor",
          "CHK inhibitor",
          "androgen receptor modulator",
          "HMGCR inhibitor",
          "mTOR inhibitor",
          "EGFR inhibitor",
          "HMGCR inhibitor",
          "IGF-1 inhibitor",
          "protein arginine N-methyltransferase inhibitor",
          "CDK inhibitor",
          "histone lysine demethylase inhibitor",
          "hypoxia inducible factor inhibitor",
          "androgen receptor modulator",
          "mTOR inhibitor",
          "smoothened receptor agonist",
          "hypoxia inducible factor inhibitor"
         ],
         "legendgroup": "Other",
         "marker": {
          "color": "lightgrey",
          "symbol": "circle"
         },
         "mode": "markers",
         "name": "Other",
         "orientation": "v",
         "showlegend": true,
         "type": "scatter",
         "x": [
          0.2944622507122507,
          0.4792508417508417,
          0.319870857699805,
          0.3374634502923976,
          1,
          1,
          1,
          0.3198193337163925,
          1,
          1,
          0.2917989417989418,
          0.8875,
          1,
          0.3150836783988958,
          1,
          0.1536923878196257,
          1,
          0.675,
          1,
          1,
          1,
          0.8377976190476191,
          0.3261078042328042,
          0.2779858077340915,
          0.3716928904428904,
          0.6833333333333333,
          0.279142501017501,
          1,
          1,
          0.3442460317460317,
          1,
          1,
          1,
          1,
          1,
          1,
          0.9583333333333334,
          1,
          1,
          1,
          0.9097222222222222,
          0.1116510292826082,
          1,
          1,
          0.3768786768786769,
          0.4020197273486747,
          1,
          1,
          1,
          1,
          0.7472222222222222,
          0.4298340548340548,
          1,
          0.1618973346914523,
          0.3379400691900692,
          1,
          1,
          0.2000589225589225,
          1,
          0.4715078766549354,
          1,
          1,
          0.2409419026679088,
          0.2155164108337482,
          1,
          0.8854166666666666,
          1
         ],
         "xaxis": "x",
         "y": [
          0.189047499341617,
          0.6853506787330317,
          0.174817977915804,
          0.3813746438746438,
          1,
          1,
          0.9513888888888888,
          0.2779517704517704,
          0.7783909327387588,
          0.8225198412698412,
          0.1982682554373731,
          0.7391339869281046,
          0.8070779220779221,
          0.3232816951566951,
          1,
          0.1664300976800976,
          1,
          0.4539051226551227,
          0.9083333333333332,
          0.8480392156862745,
          1,
          0.777281746031746,
          0.6037698412698413,
          0.509433621933622,
          0.1872257236227824,
          0.4828102453102453,
          0.1172151800441274,
          1,
          1,
          0.1873329761602072,
          0.7120273109243698,
          1,
          1,
          1,
          1,
          0.7027738927738928,
          0.8571428571428572,
          1,
          1,
          0.7882936507936508,
          0.652948506066355,
          0.2503133182893244,
          1,
          1,
          0.3560874210330731,
          0.5537253459736298,
          1,
          1,
          1,
          1,
          0.8546969696969697,
          0.1304476297123356,
          1,
          0.3065434565434565,
          0.253114478114478,
          0.8288239538239538,
          1,
          0.3535014466919837,
          1,
          0.2289251207729468,
          0.7203219696969697,
          1,
          0.2189301181561243,
          0.1412800162800163,
          1,
          1,
          1
         ],
         "yaxis": "y"
        },
        {
         "hovertemplate": "<b>%{hovertext}</b><br><br>color=pyruvate dehydrogenase kinase inhibitor<br>Mean average precision - Standard CP=%{x}<br>Mean average precision - ChromaLive + Hoechst=%{y}<extra></extra>",
         "hovertext": [
          "pyruvate dehydrogenase kinase inhibitor"
         ],
         "legendgroup": "pyruvate dehydrogenase kinase inhibitor",
         "marker": {
          "color": "#00cc96",
          "symbol": "circle"
         },
         "mode": "markers",
         "name": "pyruvate dehydrogenase kinase inhibitor",
         "orientation": "v",
         "showlegend": true,
         "type": "scatter",
         "x": [
          1
         ],
         "xaxis": "x",
         "y": [
          0.6607905982905983
         ],
         "yaxis": "y"
        },
        {
         "hovertemplate": "<b>%{hovertext}</b><br><br>color=protein tyrosine kinase inhibitor<br>Mean average precision - Standard CP=%{x}<br>Mean average precision - ChromaLive + Hoechst=%{y}<extra></extra>",
         "hovertext": [
          "protein tyrosine kinase inhibitor",
          "protein tyrosine kinase inhibitor"
         ],
         "legendgroup": "protein tyrosine kinase inhibitor",
         "marker": {
          "color": "#ab63fa",
          "symbol": "circle"
         },
         "mode": "markers",
         "name": "protein tyrosine kinase inhibitor",
         "orientation": "v",
         "showlegend": true,
         "type": "scatter",
         "x": [
          0.2676155969634231,
          0.1934468952947214
         ],
         "xaxis": "x",
         "y": [
          0.5802997076023391,
          0.5712228592663375
         ],
         "yaxis": "y"
        },
        {
         "hovertemplate": "<b>%{hovertext}</b><br><br>color=tumor necrosis factor production inhibitor<br>Mean average precision - Standard CP=%{x}<br>Mean average precision - ChromaLive + Hoechst=%{y}<extra></extra>",
         "hovertext": [
          "tumor necrosis factor production inhibitor"
         ],
         "legendgroup": "tumor necrosis factor production inhibitor",
         "marker": {
          "color": "#FFA15A",
          "symbol": "circle"
         },
         "mode": "markers",
         "name": "tumor necrosis factor production inhibitor",
         "orientation": "v",
         "showlegend": true,
         "type": "scatter",
         "x": [
          0.6796626984126983
         ],
         "xaxis": "x",
         "y": [
          0.1735538615973398
         ],
         "yaxis": "y"
        },
        {
         "hovertemplate": "<b>%{hovertext}</b><br><br>color=ubiquitin specific protease inhibitor<br>Mean average precision - Standard CP=%{x}<br>Mean average precision - ChromaLive + Hoechst=%{y}<extra></extra>",
         "hovertext": [
          "ubiquitin specific protease inhibitor",
          "ubiquitin specific protease inhibitor"
         ],
         "legendgroup": "ubiquitin specific protease inhibitor",
         "marker": {
          "color": "#19d3f3",
          "symbol": "circle"
         },
         "mode": "markers",
         "name": "ubiquitin specific protease inhibitor",
         "orientation": "v",
         "showlegend": true,
         "type": "scatter",
         "x": [
          0.7805555555555556,
          1
         ],
         "xaxis": "x",
         "y": [
          0.133759065009065,
          0.5664351851851852
         ],
         "yaxis": "y"
        },
        {
         "hovertemplate": "<b>%{hovertext}</b><br><br>color=phospholipase inhibitor<br>Mean average precision - Standard CP=%{x}<br>Mean average precision - ChromaLive + Hoechst=%{y}<extra></extra>",
         "hovertext": [
          "phospholipase inhibitor",
          "phospholipase inhibitor"
         ],
         "legendgroup": "phospholipase inhibitor",
         "marker": {
          "color": "#FF6692",
          "symbol": "circle"
         },
         "mode": "markers",
         "name": "phospholipase inhibitor",
         "orientation": "v",
         "showlegend": true,
         "type": "scatter",
         "x": [
          0.3332581598099332,
          1
         ],
         "xaxis": "x",
         "y": [
          0.7808333333333334,
          0.5517829900839054
         ],
         "yaxis": "y"
        },
        {
         "hovertemplate": "<b>%{hovertext}</b><br><br>color=tricyclic antidepressant<br>Mean average precision - Standard CP=%{x}<br>Mean average precision - ChromaLive + Hoechst=%{y}<extra></extra>",
         "hovertext": [
          "tricyclic antidepressant",
          "tricyclic antidepressant"
         ],
         "legendgroup": "tricyclic antidepressant",
         "marker": {
          "color": "#B6E880",
          "symbol": "circle"
         },
         "mode": "markers",
         "name": "tricyclic antidepressant",
         "orientation": "v",
         "showlegend": true,
         "type": "scatter",
         "x": [
          0.1386736411736411,
          0.2060171854289501
         ],
         "xaxis": "x",
         "y": [
          0.9345238095238096,
          0.6292281792281793
         ],
         "yaxis": "y"
        },
        {
         "hovertemplate": "<b>%{hovertext}</b><br><br>color=Aurora kinase inhibitor<br>Mean average precision - Standard CP=%{x}<br>Mean average precision - ChromaLive + Hoechst=%{y}<extra></extra>",
         "hovertext": [
          "Aurora kinase inhibitor"
         ],
         "legendgroup": "Aurora kinase inhibitor",
         "marker": {
          "color": "#FF97FF",
          "symbol": "circle"
         },
         "mode": "markers",
         "name": "Aurora kinase inhibitor",
         "orientation": "v",
         "showlegend": true,
         "type": "scatter",
         "x": [
          1
         ],
         "xaxis": "x",
         "y": [
          0.629635989010989
         ],
         "yaxis": "y"
        },
        {
         "hovertemplate": "<b>%{hovertext}</b><br><br>color=JAK inhibitor<br>Mean average precision - Standard CP=%{x}<br>Mean average precision - ChromaLive + Hoechst=%{y}<extra></extra>",
         "hovertext": [
          "JAK inhibitor"
         ],
         "legendgroup": "JAK inhibitor",
         "marker": {
          "color": "#FECB52",
          "symbol": "circle"
         },
         "mode": "markers",
         "name": "JAK inhibitor",
         "orientation": "v",
         "showlegend": true,
         "type": "scatter",
         "x": [
          0.7496031746031745
         ],
         "xaxis": "x",
         "y": [
          0.3632051282051282
         ],
         "yaxis": "y"
        },
        {
         "hovertemplate": "<b>%{hovertext}</b><br><br>color=MEK inhibitor<br>Mean average precision - Standard CP=%{x}<br>Mean average precision - ChromaLive + Hoechst=%{y}<extra></extra>",
         "hovertext": [
          "MEK inhibitor"
         ],
         "legendgroup": "MEK inhibitor",
         "marker": {
          "color": "#636efa",
          "symbol": "circle"
         },
         "mode": "markers",
         "name": "MEK inhibitor",
         "orientation": "v",
         "showlegend": true,
         "type": "scatter",
         "x": [
          1
         ],
         "xaxis": "x",
         "y": [
          0.3739064076020598
         ],
         "yaxis": "y"
        },
        {
         "hovertemplate": "<b>%{hovertext}</b><br><br>color=RAF inhibitor<br>Mean average precision - Standard CP=%{x}<br>Mean average precision - ChromaLive + Hoechst=%{y}<extra></extra>",
         "hovertext": [
          "RAF inhibitor"
         ],
         "legendgroup": "RAF inhibitor",
         "marker": {
          "color": "#EF553B",
          "symbol": "circle"
         },
         "mode": "markers",
         "name": "RAF inhibitor",
         "orientation": "v",
         "showlegend": true,
         "type": "scatter",
         "x": [
          1
         ],
         "xaxis": "x",
         "y": [
          0.4362037037037036
         ],
         "yaxis": "y"
        },
        {
         "hovertemplate": "<b>%{hovertext}</b><br><br>color=protein arginine N-methyltransferase inhibitor<br>Mean average precision - Standard CP=%{x}<br>Mean average precision - ChromaLive + Hoechst=%{y}<extra></extra>",
         "hovertext": [
          "protein arginine N-methyltransferase inhibitor"
         ],
         "legendgroup": "protein arginine N-methyltransferase inhibitor",
         "marker": {
          "color": "#00cc96",
          "symbol": "circle"
         },
         "mode": "markers",
         "name": "protein arginine N-methyltransferase inhibitor",
         "orientation": "v",
         "showlegend": true,
         "type": "scatter",
         "x": [
          1
         ],
         "xaxis": "x",
         "y": [
          0.5040103415103415
         ],
         "yaxis": "y"
        },
        {
         "hovertemplate": "<b>%{hovertext}</b><br><br>color=FGFR inhibitor<br>Mean average precision - Standard CP=%{x}<br>Mean average precision - ChromaLive + Hoechst=%{y}<extra></extra>",
         "hovertext": [
          "FGFR inhibitor"
         ],
         "legendgroup": "FGFR inhibitor",
         "marker": {
          "color": "#ab63fa",
          "symbol": "circle"
         },
         "mode": "markers",
         "name": "FGFR inhibitor",
         "orientation": "v",
         "showlegend": true,
         "type": "scatter",
         "x": [
          1
         ],
         "xaxis": "x",
         "y": [
          0.6605555555555556
         ],
         "yaxis": "y"
        },
        {
         "hovertemplate": "<b>%{hovertext}</b><br><br>color=EGFR inhibitor<br>Mean average precision - Standard CP=%{x}<br>Mean average precision - ChromaLive + Hoechst=%{y}<extra></extra>",
         "hovertext": [
          "EGFR inhibitor"
         ],
         "legendgroup": "EGFR inhibitor",
         "marker": {
          "color": "#FFA15A",
          "symbol": "circle"
         },
         "mode": "markers",
         "name": "EGFR inhibitor",
         "orientation": "v",
         "showlegend": true,
         "type": "scatter",
         "x": [
          0.4321937321937322
         ],
         "xaxis": "x",
         "y": [
          0.8638888888888889
         ],
         "yaxis": "y"
        },
        {
         "hovertemplate": "<b>%{hovertext}</b><br><br>color=acetylcholine receptor antagonist<br>Mean average precision - Standard CP=%{x}<br>Mean average precision - ChromaLive + Hoechst=%{y}<extra></extra>",
         "hovertext": [
          "acetylcholine receptor antagonist"
         ],
         "legendgroup": "acetylcholine receptor antagonist",
         "marker": {
          "color": "#19d3f3",
          "symbol": "circle"
         },
         "mode": "markers",
         "name": "acetylcholine receptor antagonist",
         "orientation": "v",
         "showlegend": true,
         "type": "scatter",
         "x": [
          0.2155818668046928
         ],
         "xaxis": "x",
         "y": [
          0.52109440267335
         ],
         "yaxis": "y"
        },
        {
         "hovertemplate": "<b>%{hovertext}</b><br><br>color=p38 MAPK inhibitor<br>Mean average precision - Standard CP=%{x}<br>Mean average precision - ChromaLive + Hoechst=%{y}<extra></extra>",
         "hovertext": [
          "p38 MAPK inhibitor",
          "p38 MAPK inhibitor"
         ],
         "legendgroup": "p38 MAPK inhibitor",
         "marker": {
          "color": "#FF6692",
          "symbol": "circle"
         },
         "mode": "markers",
         "name": "p38 MAPK inhibitor",
         "orientation": "v",
         "showlegend": true,
         "type": "scatter",
         "x": [
          1,
          0.8236111111111111
         ],
         "xaxis": "x",
         "y": [
          0.2095706581000698,
          0.2178630110535481
         ],
         "yaxis": "y"
        },
        {
         "hovertemplate": "<b>%{hovertext}</b><br><br>color=Bcr-Abl kinase inhibitor<br>Mean average precision - Standard CP=%{x}<br>Mean average precision - ChromaLive + Hoechst=%{y}<extra></extra>",
         "hovertext": [
          "Bcr-Abl kinase inhibitor"
         ],
         "legendgroup": "Bcr-Abl kinase inhibitor",
         "marker": {
          "color": "#B6E880",
          "symbol": "circle"
         },
         "mode": "markers",
         "name": "Bcr-Abl kinase inhibitor",
         "orientation": "v",
         "showlegend": true,
         "type": "scatter",
         "x": [
          0.9666666666666668
         ],
         "xaxis": "x",
         "y": [
          0.3332036019536019
         ],
         "yaxis": "y"
        },
        {
         "hovertemplate": "<b>%{hovertext}</b><br><br>color=MAP kinase inhibitor<br>Mean average precision - Standard CP=%{x}<br>Mean average precision - ChromaLive + Hoechst=%{y}<extra></extra>",
         "hovertext": [
          "MAP kinase inhibitor"
         ],
         "legendgroup": "MAP kinase inhibitor",
         "marker": {
          "color": "#FF97FF",
          "symbol": "circle"
         },
         "mode": "markers",
         "name": "MAP kinase inhibitor",
         "orientation": "v",
         "showlegend": true,
         "type": "scatter",
         "x": [
          0.90625
         ],
         "xaxis": "x",
         "y": [
          0.3964794464794464
         ],
         "yaxis": "y"
        },
        {
         "hovertemplate": "<b>%{hovertext}</b><br><br>color=beta-catenin inhibitor<br>Mean average precision - Standard CP=%{x}<br>Mean average precision - ChromaLive + Hoechst=%{y}<extra></extra>",
         "hovertext": [
          "beta-catenin inhibitor"
         ],
         "legendgroup": "beta-catenin inhibitor",
         "marker": {
          "color": "#FECB52",
          "symbol": "circle"
         },
         "mode": "markers",
         "name": "beta-catenin inhibitor",
         "orientation": "v",
         "showlegend": true,
         "type": "scatter",
         "x": [
          1
         ],
         "xaxis": "x",
         "y": [
          0.6367658730158731
         ],
         "yaxis": "y"
        },
        {
         "hovertemplate": "<b>OLS trendline</b><br>y = 0.616168 * x + 0.192609<br>R<sup>2</sup>=0.422767<br><br>Mean average precision - Standard CP=%{x}<br>Mean average precision - ChromaLive + Hoechst=%{y} <b>(trend)</b><extra></extra>",
         "legendgroup": "Overall Trendline",
         "line": {
          "color": "#636efa"
         },
         "mode": "lines",
         "name": "Overall Trendline",
         "showlegend": true,
         "type": "scatter",
         "x": [
          0.1116510292826082,
          0.1386736411736411,
          0.1536923878196257,
          0.1618973346914523,
          0.1934468952947214,
          0.2000589225589225,
          0.2060171854289501,
          0.2155164108337482,
          0.2155818668046928,
          0.2409419026679088,
          0.2676155969634231,
          0.2779858077340915,
          0.279142501017501,
          0.2917989417989418,
          0.2944622507122507,
          0.3150836783988958,
          0.3198193337163925,
          0.319870857699805,
          0.3261078042328042,
          0.3332581598099332,
          0.3374634502923976,
          0.3379400691900692,
          0.3442460317460317,
          0.3716928904428904,
          0.3768786768786769,
          0.4020197273486747,
          0.4298340548340548,
          0.4321937321937322,
          0.4715078766549354,
          0.4792508417508417,
          0.675,
          0.6796626984126983,
          0.6833333333333333,
          0.7472222222222222,
          0.7496031746031745,
          0.7805555555555556,
          0.8236111111111111,
          0.8377976190476191,
          0.8854166666666666,
          0.8875,
          0.90625,
          0.9097222222222222,
          0.9583333333333334,
          0.9666666666666668,
          1,
          1,
          1,
          1,
          1,
          1,
          1,
          1,
          1,
          1,
          1,
          1,
          1,
          1,
          1,
          1,
          1,
          1,
          1,
          1,
          1,
          1,
          1,
          1,
          1,
          1,
          1,
          1,
          1,
          1,
          1,
          1,
          1,
          1,
          1,
          1,
          1,
          1,
          1,
          1,
          1,
          1,
          1,
          1,
          1,
          1
         ],
         "xaxis": "x",
         "y": [
          0.26140448778602166,
          0.2780549508497166,
          0.2873090187873515,
          0.29236464277291685,
          0.31180446582254795,
          0.3158785840529644,
          0.3195498737210849,
          0.3254029904506631,
          0.32544332231165807,
          0.3410693595776775,
          0.3575048308574589,
          0.3638946207155238,
          0.3646073378603023,
          0.37240582901278607,
          0.37404687418144256,
          0.38675313371703834,
          0.38967109199081035,
          0.3897028394098298,
          0.3935458449748249,
          0.39795166377240676,
          0.40054282831759336,
          0.4008365055307044,
          0.4047220365460812,
          0.42163390682676827,
          0.4248292213971531,
          0.44032032691727124,
          0.45745861962947637,
          0.4589125768145916,
          0.4831366863444794,
          0.48790765203990316,
          0.6085219783796362,
          0.6113949829585734,
          0.6136567099675241,
          0.6530229854746655,
          0.6544900516426335,
          0.6735619118262175,
          0.7000913583636389,
          0.7088326276144483,
          0.7381739509738082,
          0.7394576338707802,
          0.7510107799435283,
          0.7531502514384817,
          0.7831028523678284,
          0.7882375839557164,
          0.8087765103072684,
          0.8087765103072684,
          0.8087765103072684,
          0.8087765103072684,
          0.8087765103072684,
          0.8087765103072684,
          0.8087765103072684,
          0.8087765103072684,
          0.8087765103072684,
          0.8087765103072684,
          0.8087765103072684,
          0.8087765103072684,
          0.8087765103072684,
          0.8087765103072684,
          0.8087765103072684,
          0.8087765103072684,
          0.8087765103072684,
          0.8087765103072684,
          0.8087765103072684,
          0.8087765103072684,
          0.8087765103072684,
          0.8087765103072684,
          0.8087765103072684,
          0.8087765103072684,
          0.8087765103072684,
          0.8087765103072684,
          0.8087765103072684,
          0.8087765103072684,
          0.8087765103072684,
          0.8087765103072684,
          0.8087765103072684,
          0.8087765103072684,
          0.8087765103072684,
          0.8087765103072684,
          0.8087765103072684,
          0.8087765103072684,
          0.8087765103072684,
          0.8087765103072684,
          0.8087765103072684,
          0.8087765103072684,
          0.8087765103072684,
          0.8087765103072684,
          0.8087765103072684,
          0.8087765103072684,
          0.8087765103072684,
          0.8087765103072684
         ],
         "yaxis": "y"
        }
       ],
       "layout": {
        "font": {
         "color": "Black",
         "family": "sans serif",
         "size": 20
        },
        "height": 800,
        "legend": {
         "orientation": "h",
         "title": {
          "text": "color"
         },
         "tracegroupgap": 0
        },
        "margin": {
         "t": 60
        },
        "shapes": [
         {
          "line": {
           "color": "grey",
           "dash": "dashdot"
          },
          "type": "line",
          "x0": 0,
          "x1": 1,
          "y0": 0,
          "y1": 1
         }
        ],
        "template": {
         "data": {
          "bar": [
           {
            "error_x": {
             "color": "#2a3f5f"
            },
            "error_y": {
             "color": "#2a3f5f"
            },
            "marker": {
             "line": {
              "color": "#E5ECF6",
              "width": 0.5
             },
             "pattern": {
              "fillmode": "overlay",
              "size": 10,
              "solidity": 0.2
             }
            },
            "type": "bar"
           }
          ],
          "barpolar": [
           {
            "marker": {
             "line": {
              "color": "#E5ECF6",
              "width": 0.5
             },
             "pattern": {
              "fillmode": "overlay",
              "size": 10,
              "solidity": 0.2
             }
            },
            "type": "barpolar"
           }
          ],
          "carpet": [
           {
            "aaxis": {
             "endlinecolor": "#2a3f5f",
             "gridcolor": "white",
             "linecolor": "white",
             "minorgridcolor": "white",
             "startlinecolor": "#2a3f5f"
            },
            "baxis": {
             "endlinecolor": "#2a3f5f",
             "gridcolor": "white",
             "linecolor": "white",
             "minorgridcolor": "white",
             "startlinecolor": "#2a3f5f"
            },
            "type": "carpet"
           }
          ],
          "choropleth": [
           {
            "colorbar": {
             "outlinewidth": 0,
             "ticks": ""
            },
            "type": "choropleth"
           }
          ],
          "contour": [
           {
            "colorbar": {
             "outlinewidth": 0,
             "ticks": ""
            },
            "colorscale": [
             [
              0,
              "#0d0887"
             ],
             [
              0.1111111111111111,
              "#46039f"
             ],
             [
              0.2222222222222222,
              "#7201a8"
             ],
             [
              0.3333333333333333,
              "#9c179e"
             ],
             [
              0.4444444444444444,
              "#bd3786"
             ],
             [
              0.5555555555555556,
              "#d8576b"
             ],
             [
              0.6666666666666666,
              "#ed7953"
             ],
             [
              0.7777777777777778,
              "#fb9f3a"
             ],
             [
              0.8888888888888888,
              "#fdca26"
             ],
             [
              1,
              "#f0f921"
             ]
            ],
            "type": "contour"
           }
          ],
          "contourcarpet": [
           {
            "colorbar": {
             "outlinewidth": 0,
             "ticks": ""
            },
            "type": "contourcarpet"
           }
          ],
          "heatmap": [
           {
            "colorbar": {
             "outlinewidth": 0,
             "ticks": ""
            },
            "colorscale": [
             [
              0,
              "#0d0887"
             ],
             [
              0.1111111111111111,
              "#46039f"
             ],
             [
              0.2222222222222222,
              "#7201a8"
             ],
             [
              0.3333333333333333,
              "#9c179e"
             ],
             [
              0.4444444444444444,
              "#bd3786"
             ],
             [
              0.5555555555555556,
              "#d8576b"
             ],
             [
              0.6666666666666666,
              "#ed7953"
             ],
             [
              0.7777777777777778,
              "#fb9f3a"
             ],
             [
              0.8888888888888888,
              "#fdca26"
             ],
             [
              1,
              "#f0f921"
             ]
            ],
            "type": "heatmap"
           }
          ],
          "heatmapgl": [
           {
            "colorbar": {
             "outlinewidth": 0,
             "ticks": ""
            },
            "colorscale": [
             [
              0,
              "#0d0887"
             ],
             [
              0.1111111111111111,
              "#46039f"
             ],
             [
              0.2222222222222222,
              "#7201a8"
             ],
             [
              0.3333333333333333,
              "#9c179e"
             ],
             [
              0.4444444444444444,
              "#bd3786"
             ],
             [
              0.5555555555555556,
              "#d8576b"
             ],
             [
              0.6666666666666666,
              "#ed7953"
             ],
             [
              0.7777777777777778,
              "#fb9f3a"
             ],
             [
              0.8888888888888888,
              "#fdca26"
             ],
             [
              1,
              "#f0f921"
             ]
            ],
            "type": "heatmapgl"
           }
          ],
          "histogram": [
           {
            "marker": {
             "pattern": {
              "fillmode": "overlay",
              "size": 10,
              "solidity": 0.2
             }
            },
            "type": "histogram"
           }
          ],
          "histogram2d": [
           {
            "colorbar": {
             "outlinewidth": 0,
             "ticks": ""
            },
            "colorscale": [
             [
              0,
              "#0d0887"
             ],
             [
              0.1111111111111111,
              "#46039f"
             ],
             [
              0.2222222222222222,
              "#7201a8"
             ],
             [
              0.3333333333333333,
              "#9c179e"
             ],
             [
              0.4444444444444444,
              "#bd3786"
             ],
             [
              0.5555555555555556,
              "#d8576b"
             ],
             [
              0.6666666666666666,
              "#ed7953"
             ],
             [
              0.7777777777777778,
              "#fb9f3a"
             ],
             [
              0.8888888888888888,
              "#fdca26"
             ],
             [
              1,
              "#f0f921"
             ]
            ],
            "type": "histogram2d"
           }
          ],
          "histogram2dcontour": [
           {
            "colorbar": {
             "outlinewidth": 0,
             "ticks": ""
            },
            "colorscale": [
             [
              0,
              "#0d0887"
             ],
             [
              0.1111111111111111,
              "#46039f"
             ],
             [
              0.2222222222222222,
              "#7201a8"
             ],
             [
              0.3333333333333333,
              "#9c179e"
             ],
             [
              0.4444444444444444,
              "#bd3786"
             ],
             [
              0.5555555555555556,
              "#d8576b"
             ],
             [
              0.6666666666666666,
              "#ed7953"
             ],
             [
              0.7777777777777778,
              "#fb9f3a"
             ],
             [
              0.8888888888888888,
              "#fdca26"
             ],
             [
              1,
              "#f0f921"
             ]
            ],
            "type": "histogram2dcontour"
           }
          ],
          "mesh3d": [
           {
            "colorbar": {
             "outlinewidth": 0,
             "ticks": ""
            },
            "type": "mesh3d"
           }
          ],
          "parcoords": [
           {
            "line": {
             "colorbar": {
              "outlinewidth": 0,
              "ticks": ""
             }
            },
            "type": "parcoords"
           }
          ],
          "pie": [
           {
            "automargin": true,
            "type": "pie"
           }
          ],
          "scatter": [
           {
            "fillpattern": {
             "fillmode": "overlay",
             "size": 10,
             "solidity": 0.2
            },
            "type": "scatter"
           }
          ],
          "scatter3d": [
           {
            "line": {
             "colorbar": {
              "outlinewidth": 0,
              "ticks": ""
             }
            },
            "marker": {
             "colorbar": {
              "outlinewidth": 0,
              "ticks": ""
             }
            },
            "type": "scatter3d"
           }
          ],
          "scattercarpet": [
           {
            "marker": {
             "colorbar": {
              "outlinewidth": 0,
              "ticks": ""
             }
            },
            "type": "scattercarpet"
           }
          ],
          "scattergeo": [
           {
            "marker": {
             "colorbar": {
              "outlinewidth": 0,
              "ticks": ""
             }
            },
            "type": "scattergeo"
           }
          ],
          "scattergl": [
           {
            "marker": {
             "colorbar": {
              "outlinewidth": 0,
              "ticks": ""
             }
            },
            "type": "scattergl"
           }
          ],
          "scattermapbox": [
           {
            "marker": {
             "colorbar": {
              "outlinewidth": 0,
              "ticks": ""
             }
            },
            "type": "scattermapbox"
           }
          ],
          "scatterpolar": [
           {
            "marker": {
             "colorbar": {
              "outlinewidth": 0,
              "ticks": ""
             }
            },
            "type": "scatterpolar"
           }
          ],
          "scatterpolargl": [
           {
            "marker": {
             "colorbar": {
              "outlinewidth": 0,
              "ticks": ""
             }
            },
            "type": "scatterpolargl"
           }
          ],
          "scatterternary": [
           {
            "marker": {
             "colorbar": {
              "outlinewidth": 0,
              "ticks": ""
             }
            },
            "type": "scatterternary"
           }
          ],
          "surface": [
           {
            "colorbar": {
             "outlinewidth": 0,
             "ticks": ""
            },
            "colorscale": [
             [
              0,
              "#0d0887"
             ],
             [
              0.1111111111111111,
              "#46039f"
             ],
             [
              0.2222222222222222,
              "#7201a8"
             ],
             [
              0.3333333333333333,
              "#9c179e"
             ],
             [
              0.4444444444444444,
              "#bd3786"
             ],
             [
              0.5555555555555556,
              "#d8576b"
             ],
             [
              0.6666666666666666,
              "#ed7953"
             ],
             [
              0.7777777777777778,
              "#fb9f3a"
             ],
             [
              0.8888888888888888,
              "#fdca26"
             ],
             [
              1,
              "#f0f921"
             ]
            ],
            "type": "surface"
           }
          ],
          "table": [
           {
            "cells": {
             "fill": {
              "color": "#EBF0F8"
             },
             "line": {
              "color": "white"
             }
            },
            "header": {
             "fill": {
              "color": "#C8D4E3"
             },
             "line": {
              "color": "white"
             }
            },
            "type": "table"
           }
          ]
         },
         "layout": {
          "annotationdefaults": {
           "arrowcolor": "#2a3f5f",
           "arrowhead": 0,
           "arrowwidth": 1
          },
          "autotypenumbers": "strict",
          "coloraxis": {
           "colorbar": {
            "outlinewidth": 0,
            "ticks": ""
           }
          },
          "colorscale": {
           "diverging": [
            [
             0,
             "#8e0152"
            ],
            [
             0.1,
             "#c51b7d"
            ],
            [
             0.2,
             "#de77ae"
            ],
            [
             0.3,
             "#f1b6da"
            ],
            [
             0.4,
             "#fde0ef"
            ],
            [
             0.5,
             "#f7f7f7"
            ],
            [
             0.6,
             "#e6f5d0"
            ],
            [
             0.7,
             "#b8e186"
            ],
            [
             0.8,
             "#7fbc41"
            ],
            [
             0.9,
             "#4d9221"
            ],
            [
             1,
             "#276419"
            ]
           ],
           "sequential": [
            [
             0,
             "#0d0887"
            ],
            [
             0.1111111111111111,
             "#46039f"
            ],
            [
             0.2222222222222222,
             "#7201a8"
            ],
            [
             0.3333333333333333,
             "#9c179e"
            ],
            [
             0.4444444444444444,
             "#bd3786"
            ],
            [
             0.5555555555555556,
             "#d8576b"
            ],
            [
             0.6666666666666666,
             "#ed7953"
            ],
            [
             0.7777777777777778,
             "#fb9f3a"
            ],
            [
             0.8888888888888888,
             "#fdca26"
            ],
            [
             1,
             "#f0f921"
            ]
           ],
           "sequentialminus": [
            [
             0,
             "#0d0887"
            ],
            [
             0.1111111111111111,
             "#46039f"
            ],
            [
             0.2222222222222222,
             "#7201a8"
            ],
            [
             0.3333333333333333,
             "#9c179e"
            ],
            [
             0.4444444444444444,
             "#bd3786"
            ],
            [
             0.5555555555555556,
             "#d8576b"
            ],
            [
             0.6666666666666666,
             "#ed7953"
            ],
            [
             0.7777777777777778,
             "#fb9f3a"
            ],
            [
             0.8888888888888888,
             "#fdca26"
            ],
            [
             1,
             "#f0f921"
            ]
           ]
          },
          "colorway": [
           "#636efa",
           "#EF553B",
           "#00cc96",
           "#ab63fa",
           "#FFA15A",
           "#19d3f3",
           "#FF6692",
           "#B6E880",
           "#FF97FF",
           "#FECB52"
          ],
          "font": {
           "color": "#2a3f5f"
          },
          "geo": {
           "bgcolor": "white",
           "lakecolor": "white",
           "landcolor": "#E5ECF6",
           "showlakes": true,
           "showland": true,
           "subunitcolor": "white"
          },
          "hoverlabel": {
           "align": "left"
          },
          "hovermode": "closest",
          "mapbox": {
           "style": "light"
          },
          "paper_bgcolor": "white",
          "plot_bgcolor": "#E5ECF6",
          "polar": {
           "angularaxis": {
            "gridcolor": "white",
            "linecolor": "white",
            "ticks": ""
           },
           "bgcolor": "#E5ECF6",
           "radialaxis": {
            "gridcolor": "white",
            "linecolor": "white",
            "ticks": ""
           }
          },
          "scene": {
           "xaxis": {
            "backgroundcolor": "#E5ECF6",
            "gridcolor": "white",
            "gridwidth": 2,
            "linecolor": "white",
            "showbackground": true,
            "ticks": "",
            "zerolinecolor": "white"
           },
           "yaxis": {
            "backgroundcolor": "#E5ECF6",
            "gridcolor": "white",
            "gridwidth": 2,
            "linecolor": "white",
            "showbackground": true,
            "ticks": "",
            "zerolinecolor": "white"
           },
           "zaxis": {
            "backgroundcolor": "#E5ECF6",
            "gridcolor": "white",
            "gridwidth": 2,
            "linecolor": "white",
            "showbackground": true,
            "ticks": "",
            "zerolinecolor": "white"
           }
          },
          "shapedefaults": {
           "line": {
            "color": "#2a3f5f"
           }
          },
          "ternary": {
           "aaxis": {
            "gridcolor": "white",
            "linecolor": "white",
            "ticks": ""
           },
           "baxis": {
            "gridcolor": "white",
            "linecolor": "white",
            "ticks": ""
           },
           "bgcolor": "#E5ECF6",
           "caxis": {
            "gridcolor": "white",
            "linecolor": "white",
            "ticks": ""
           }
          },
          "title": {
           "x": 0.05
          },
          "xaxis": {
           "automargin": true,
           "gridcolor": "white",
           "linecolor": "white",
           "ticks": "",
           "title": {
            "standoff": 15
           },
           "zerolinecolor": "white",
           "zerolinewidth": 2
          },
          "yaxis": {
           "automargin": true,
           "gridcolor": "white",
           "linecolor": "white",
           "ticks": "",
           "title": {
            "standoff": 15
           },
           "zerolinecolor": "white",
           "zerolinewidth": 2
          }
         }
        },
        "width": 1000,
        "xaxis": {
         "anchor": "y",
         "domain": [
          0,
          1
         ],
         "title": {
          "text": "Mean average precision - Standard CP"
         }
        },
        "yaxis": {
         "anchor": "x",
         "domain": [
          0,
          1
         ],
         "title": {
          "text": "Mean average precision - ChromaLive + Hoechst"
         }
        }
       }
      }
     },
     "metadata": {},
     "output_type": "display_data"
    }
   ],
   "source": [
    "scatter_plot_comparison_colorblack_trendline(df_controls,col1='Standard CP', col2='ChromaLive + Hoechst')"
   ]
  },
  {
   "cell_type": "markdown",
   "metadata": {},
   "source": [
    "### Phenotypic distinctiveness"
   ]
  },
  {
   "cell_type": "markdown",
   "metadata": {},
   "source": [
    "#### mAP with respect to treatments - MoA"
   ]
  },
  {
   "cell_type": "code",
   "execution_count": 13,
   "metadata": {},
   "outputs": [],
   "source": [
    "#Reading the result CSVs obtained from the copairs \n",
    "result_csv_trmts = {'c:\\\\Users\\\\ssivagur\\\\Documents\\\\Projects\\\\Cell_painting_projects\\\\CDoT\\\\Batch3_analysis_redo\\\\UpdatedCopairsVersion\\\\BR00122250_normalized_feature_select_negcon_batch_Result_NegconNorm_mAP_Distinctiveness.csv':'Standard CP',\n",
    "                    'c:\\\\Users\\\\ssivagur\\\\Documents\\\\Projects\\\\Cell_painting_projects\\\\CDoT\\\\Batch3_analysis_redo\\\\UpdatedCopairsVersion\\\\BR00122246_normalized_feature_select_negcon_batch_Result_NegconNorm_mAP_Distinctiveness.csv':'CP + MitoBrilliant',\n",
    "                    'c:\\\\Users\\\\ssivagur\\\\Documents\\\\Projects\\\\Cell_painting_projects\\\\CDoT\\\\Batch3_analysis_redo\\\\UpdatedCopairsVersion\\\\BR00122247_normalized_feature_select_negcon_batch_Result_NegconNorm_mAP_Distinctiveness.csv':'CP + Phenovue phalloidin 400LS',\n",
    "                    'c:\\\\Users\\\\ssivagur\\\\Documents\\\\Projects\\\\Cell_painting_projects\\\\CDoT\\\\Batch3_analysis_redo\\\\UpdatedCopairsVersion\\\\BR00122248_normalized_feature_select_negcon_batch_Result_NegconNorm_mAP_Distinctiveness.csv':'Standard CP (exposed to ChromaLive)',\n",
    "                    'c:\\\\Users\\\\ssivagur\\\\Documents\\\\Projects\\\\Cell_painting_projects\\\\CDoT\\\\Batch3_analysis_redo\\\\UpdatedCopairsVersion\\\\BR00122249_normalized_feature_select_negcon_batch_wo_phasefeatures_Result_NegconNorm_mAP_Distinctiveness.csv':'ChromaLive + Hoechst'}"
   ]
  },
  {
   "cell_type": "code",
   "execution_count": 14,
   "metadata": {},
   "outputs": [],
   "source": [
    "#Reading the aggregate CSV files obtained from the copairs package\n",
    "aggregate_files_trmt = {'c:\\\\Users\\\\ssivagur\\\\Documents\\\\Projects\\\\Cell_painting_projects\\\\CDoT\\\\Batch3_analysis_redo\\\\UpdatedCopairsVersion\\\\BR00122250_normalized_feature_select_negcon_batch_Aggregate_result_NegconNorm_mAP_Distinctiveness.csv':'Standard CP',\n",
    "                    'c:\\\\Users\\\\ssivagur\\\\Documents\\\\Projects\\\\Cell_painting_projects\\\\CDoT\\\\Batch3_analysis_redo\\\\UpdatedCopairsVersion\\\\BR00122246_normalized_feature_select_negcon_batch_Aggregate_result_NegconNorm_mAP_Distinctiveness.csv':'CP + MitoBrilliant',\n",
    "                    'c:\\\\Users\\\\ssivagur\\\\Documents\\\\Projects\\\\Cell_painting_projects\\\\CDoT\\\\Batch3_analysis_redo\\\\UpdatedCopairsVersion\\\\BR00122247_normalized_feature_select_negcon_batch_Aggregate_result_NegconNorm_mAP_Distinctiveness.csv':'CP + Phenovue phalloidin 400LS',\n",
    "                    'c:\\\\Users\\\\ssivagur\\\\Documents\\\\Projects\\\\Cell_painting_projects\\\\CDoT\\\\Batch3_analysis_redo\\\\UpdatedCopairsVersion\\\\BR00122248_normalized_feature_select_negcon_batch_Aggregate_result_NegconNorm_mAP_Distinctiveness.csv':'Standard CP (exposed to ChromaLive)',\n",
    "                    'c:\\\\Users\\\\ssivagur\\\\Documents\\\\Projects\\\\Cell_painting_projects\\\\CDoT\\\\Batch3_analysis_redo\\\\UpdatedCopairsVersion\\\\BR00122249_normalized_feature_select_negcon_batch_wo_phasefeatures_Aggregate_result_NegconNorm_mAP_Distinctiveness.csv':'ChromaLive + Hoechst'}"
   ]
  },
  {
   "cell_type": "code",
   "execution_count": 15,
   "metadata": {},
   "outputs": [],
   "source": [
    "mAP_treatment_plot_colorscheme, df_treatment = cell_count_norm_colorscheme(result_csv_trmts, aggregate_files_trmt)"
   ]
  },
  {
   "cell_type": "markdown",
   "metadata": {},
   "source": [
    "### Plot"
   ]
  },
  {
   "cell_type": "code",
   "execution_count": 16,
   "metadata": {},
   "outputs": [
    {
     "data": {
      "application/vnd.plotly.v1+json": {
       "config": {
        "plotlyServerURL": "https://plot.ly"
       },
       "data": [
        {
         "hovertemplate": "<b>%{hovertext}</b><br><br>color=Other<br>Mean average precision - Standard CP=%{x}<br>Mean average precision - CP + MitoBrilliant=%{y}<extra></extra>",
         "hovertext": [
          "tumor necrosis factor production inhibitor",
          "antihistamine",
          "acetylcholine receptor antagonist",
          "pyruvate dehydrogenase kinase inhibitor",
          "protein tyrosine kinase inhibitor",
          "antihistamine",
          "hepatocyte growth factor receptor inhibitor",
          "CHK inhibitor",
          "glycogen synthase kinase inhibitor",
          "histone lysine methyltransferase inhibitor",
          "tumor necrosis factor production inhibitor",
          "inosine monophosphate dehydrogenase inhibitor",
          "CDC inhibitor",
          "PARP inhibitor",
          "ubiquitin specific protease inhibitor",
          "glycogen synthase kinase inhibitor",
          "JAK inhibitor",
          "Apoptosis inducer (ATP-competitive kinase inhibitor)",
          "hepatocyte growth factor receptor inhibitor",
          "bromodomain inhibitor",
          "MEK inhibitor",
          "Aurora kinase inhibitor",
          "phospholipase inhibitor",
          "IGF-1 inhibitor",
          "tricyclic antidepressant",
          "histone lysine demethylase inhibitor",
          "phosphodiesterase inhibitor",
          "beta-catenin inhibitor",
          "JNK inhibitor",
          "LXR agonist",
          "DNA inhibitor",
          "kinesin inhibitor",
          "phosphoinositide dependent kinase inhibitor",
          "RAF inhibitor",
          "FGFR inhibitor",
          "Bcr-Abl kinase inhibitor",
          "AMPK inhibitor",
          "pyruvate dehydrogenase kinase inhibitor",
          "phospholipase inhibitor",
          "Aurora kinase inhibitor",
          "JAK inhibitor",
          "tricyclic antidepressant",
          "PARP inhibitor",
          "BCL inhibitor",
          "MEK inhibitor",
          "histone lysine methyltransferase inhibitor",
          "HDAC inhibitor",
          "BCL inhibitor",
          "phosphodiesterase inhibitor",
          "kinesin inhibitor",
          "CDK inhibitor",
          "CDC inhibitor",
          "RAF inhibitor",
          "protein tyrosine kinase inhibitor",
          "MAP kinase inhibitor",
          "ER stressor (SERCA inhibitor)",
          "Apoptosis inducer (transcription inhibitor)",
          "phosphoinositide dependent kinase inhibitor",
          "FGFR inhibitor",
          "DNA inhibitor",
          "smoothened receptor agonist",
          "JNK inhibitor",
          "CHK inhibitor",
          "EGFR inhibitor",
          "androgen receptor modulator",
          "HMGCR inhibitor",
          "acetylcholine receptor antagonist",
          "p38 MAPK inhibitor",
          "mTOR inhibitor",
          "EGFR inhibitor",
          "HMGCR inhibitor",
          "IGF-1 inhibitor",
          "protein arginine N-methyltransferase inhibitor",
          "Bcr-Abl kinase inhibitor",
          "MAP kinase inhibitor",
          "p38 MAPK inhibitor",
          "ubiquitin specific protease inhibitor",
          "beta-catenin inhibitor",
          "histone lysine demethylase inhibitor",
          "hypoxia inducible factor inhibitor",
          "androgen receptor modulator",
          "mTOR inhibitor",
          "smoothened receptor agonist",
          "hypoxia inducible factor inhibitor"
         ],
         "legendgroup": "Other",
         "marker": {
          "color": "darkgrey",
          "size": 14,
          "symbol": "circle"
         },
         "mode": "markers",
         "name": "Other",
         "orientation": "v",
         "showlegend": true,
         "type": "scatter",
         "x": [
          0.0751907630145189,
          0.0233801007027194,
          0.0433579017366559,
          0.1253876015988353,
          0.1738168196307123,
          0.0211695068186132,
          0.4437509212047515,
          1,
          0.6974747474747475,
          0.0154930737015808,
          0.0238431850113865,
          1,
          1,
          0.0268981326457728,
          0.1236165081603947,
          1,
          0.1365085928096441,
          1,
          0.0484138908748976,
          1,
          0.1992880588881083,
          0.8752976190476192,
          0.0100917990220209,
          0.9027777777777778,
          0.0110762565965278,
          0.0655699953550348,
          0.1048345644743013,
          0.0147191056292627,
          0.011663876467995,
          0.3301868721360246,
          0.045028432148368,
          1,
          0.6197956684237172,
          0.0971656631828945,
          0.8824404761904762,
          0.861111111111111,
          0.1882316051861195,
          0.525020664946182,
          0.9305555555555556,
          0.4852411033797771,
          0.1762929967714251,
          0.017578684743016,
          0.5149426842442,
          1,
          0.6494021851164709,
          1,
          0.4493806573112204,
          0.4884690845217161,
          0.0080332999614717,
          0.6329365079365079,
          0.7826388888888889,
          0.1298944286339244,
          0.9791666666666666,
          0.0310474514437055,
          0.0156393740585514,
          1,
          0.6779100529100529,
          0.856060606060606,
          0.4889772727272727,
          0.2138536977809366,
          0.2248132294830504,
          0.0154079521523467,
          0.8523809523809525,
          0.0565017143205006,
          0.0181747663103683,
          0.1291173127966729,
          0.0394905434933731,
          0.9375,
          1,
          1,
          0.0150193407677918,
          0.6476907230196705,
          0.1965126592157808,
          0.3972264202838758,
          0.3396643842722274,
          0.2862136202447207,
          0.1186731952613619,
          0.9666666666666668,
          0.7980158730158731,
          0.0263200192433433,
          0.1784945554351246,
          0.8409455128205128,
          0.3839489267989467,
          0.6168650793650794
         ],
         "xaxis": "x",
         "y": [
          0.0165401431494606,
          0.0166196859473905,
          0.1121356480133429,
          0.1443890093748225,
          0.176370159067379,
          0.0357238365778345,
          0.3491710531098527,
          1,
          0.6309523809523809,
          0.066208056333275,
          0.0124838385087934,
          0.8143601190476191,
          1,
          0.0109293223985318,
          0.0195866835930538,
          1,
          0.0280346338045006,
          0.9791666666666666,
          0.0234500844740706,
          0.9666666666666668,
          0.2376100364106361,
          1,
          0.0219482215645514,
          0.5264509718129778,
          0.0138308147489189,
          0.1285074537291864,
          0.0102287898392164,
          0.0130597852814869,
          0.0265905557251108,
          0.5367428465254552,
          0.0165138085886531,
          0.7360679779158039,
          0.7676188334083072,
          0.3456271329433094,
          1,
          0.4646825396825397,
          0.1528054053789347,
          0.7620967741935484,
          0.8621031746031746,
          0.3695504466838019,
          0.2125172430945178,
          0.0125276305687483,
          0.5149294780599707,
          0.763336825703847,
          0.5408081501831502,
          1,
          0.7951388888888888,
          0.2769199668011213,
          0.01393276636098,
          0.4435066077713137,
          0.8491161616161615,
          0.0293315590646834,
          1,
          0.0081144475898381,
          0.0855978107822178,
          0.7694940476190476,
          0.6167748917748918,
          0.6017524142524142,
          0.5264590665325959,
          0.4525146052434785,
          0.3725400457665903,
          0.0223873523049379,
          0.8958333333333333,
          0.1673105825676309,
          0.0146165586047949,
          0.0197637880622978,
          0.0758235831411658,
          0.776984126984127,
          1,
          0.7742456896551724,
          0.0164051871752492,
          0.6907738095238095,
          0.0309631338875194,
          0.7026587809036657,
          0.2432985043368273,
          0.2052237717417319,
          0.2509404094930411,
          0.5976172247911378,
          1,
          0.1682552018856305,
          0.0298484453121241,
          0.6898358585858586,
          0.5660426731078905,
          0.7324342324342324
         ],
         "yaxis": "y"
        },
        {
         "hovertemplate": "<b>%{hovertext}</b><br><br>color=bromodomain inhibitor<br>Mean average precision - Standard CP=%{x}<br>Mean average precision - CP + MitoBrilliant=%{y}<extra></extra>",
         "hovertext": [
          "bromodomain inhibitor"
         ],
         "legendgroup": "bromodomain inhibitor",
         "marker": {
          "color": "#00cc96",
          "size": 14,
          "symbol": "circle"
         },
         "mode": "markers",
         "name": "bromodomain inhibitor",
         "orientation": "v",
         "showlegend": true,
         "type": "scatter",
         "x": [
          0.2518778312022093
         ],
         "xaxis": "x",
         "y": [
          0.6732982295482296
         ],
         "yaxis": "y"
        },
        {
         "hovertemplate": "<b>%{hovertext}</b><br><br>color=LXR agonist<br>Mean average precision - Standard CP=%{x}<br>Mean average precision - CP + MitoBrilliant=%{y}<extra></extra>",
         "hovertext": [
          "LXR agonist"
         ],
         "legendgroup": "LXR agonist",
         "marker": {
          "color": "#ab63fa",
          "size": 14,
          "symbol": "circle"
         },
         "mode": "markers",
         "name": "LXR agonist",
         "orientation": "v",
         "showlegend": true,
         "type": "scatter",
         "x": [
          1
         ],
         "xaxis": "x",
         "y": [
          0.3003147790555369
         ],
         "yaxis": "y"
        },
        {
         "hovertemplate": "<b>%{hovertext}</b><br><br>color=inosine monophosphate dehydrogenase inhibitor<br>Mean average precision - Standard CP=%{x}<br>Mean average precision - CP + MitoBrilliant=%{y}<extra></extra>",
         "hovertext": [
          "inosine monophosphate dehydrogenase inhibitor"
         ],
         "legendgroup": "inosine monophosphate dehydrogenase inhibitor",
         "marker": {
          "color": "#FFA15A",
          "size": 14,
          "symbol": "circle"
         },
         "mode": "markers",
         "name": "inosine monophosphate dehydrogenase inhibitor",
         "orientation": "v",
         "showlegend": true,
         "type": "scatter",
         "x": [
          0.2037167657921614
         ],
         "xaxis": "x",
         "y": [
          0.9083333333333332
         ],
         "yaxis": "y"
        },
        {
         "hovertemplate": "<b>%{hovertext}</b><br><br>color=HDAC inhibitor<br>Mean average precision - Standard CP=%{x}<br>Mean average precision - CP + MitoBrilliant=%{y}<extra></extra>",
         "hovertext": [
          "HDAC inhibitor"
         ],
         "legendgroup": "HDAC inhibitor",
         "marker": {
          "color": "#19d3f3",
          "size": 14,
          "symbol": "circle"
         },
         "mode": "markers",
         "name": "HDAC inhibitor",
         "orientation": "v",
         "showlegend": true,
         "type": "scatter",
         "x": [
          0.5134242212230108
         ],
         "xaxis": "x",
         "y": [
          0.9791666666666666
         ],
         "yaxis": "y"
        },
        {
         "hovertemplate": "<b>%{hovertext}</b><br><br>color=protein arginine N-methyltransferase inhibitor<br>Mean average precision - Standard CP=%{x}<br>Mean average precision - CP + MitoBrilliant=%{y}<extra></extra>",
         "hovertext": [
          "protein arginine N-methyltransferase inhibitor"
         ],
         "legendgroup": "protein arginine N-methyltransferase inhibitor",
         "marker": {
          "color": "#FF6692",
          "size": 14,
          "symbol": "circle"
         },
         "mode": "markers",
         "name": "protein arginine N-methyltransferase inhibitor",
         "orientation": "v",
         "showlegend": true,
         "type": "scatter",
         "x": [
          0.7093142968142968
         ],
         "xaxis": "x",
         "y": [
          0.3087884075986485
         ],
         "yaxis": "y"
        },
        {
         "hovertemplate": "<b>%{hovertext}</b><br><br>color=CDK inhibitor<br>Mean average precision - Standard CP=%{x}<br>Mean average precision - CP + MitoBrilliant=%{y}<extra></extra>",
         "hovertext": [
          "CDK inhibitor"
         ],
         "legendgroup": "CDK inhibitor",
         "marker": {
          "color": "#B6E880",
          "size": 14,
          "symbol": "circle"
         },
         "mode": "markers",
         "name": "CDK inhibitor",
         "orientation": "v",
         "showlegend": true,
         "type": "scatter",
         "x": [
          0.4227250258428748
         ],
         "xaxis": "x",
         "y": [
          1
         ],
         "yaxis": "y"
        }
       ],
       "layout": {
        "font": {
         "color": "Black",
         "family": "sans serif",
         "size": 26
        },
        "height": 1200,
        "legend": {
         "orientation": "h",
         "title": {
          "text": "color"
         },
         "tracegroupgap": 0
        },
        "margin": {
         "t": 60
        },
        "plot_bgcolor": "rgba(0,0,0,0)",
        "shapes": [
         {
          "line": {
           "color": "lightgrey",
           "dash": "dashdot"
          },
          "type": "line",
          "x0": 0,
          "x1": 1,
          "y0": 0,
          "y1": 1
         }
        ],
        "template": {
         "data": {
          "bar": [
           {
            "error_x": {
             "color": "#2a3f5f"
            },
            "error_y": {
             "color": "#2a3f5f"
            },
            "marker": {
             "line": {
              "color": "#E5ECF6",
              "width": 0.5
             },
             "pattern": {
              "fillmode": "overlay",
              "size": 10,
              "solidity": 0.2
             }
            },
            "type": "bar"
           }
          ],
          "barpolar": [
           {
            "marker": {
             "line": {
              "color": "#E5ECF6",
              "width": 0.5
             },
             "pattern": {
              "fillmode": "overlay",
              "size": 10,
              "solidity": 0.2
             }
            },
            "type": "barpolar"
           }
          ],
          "carpet": [
           {
            "aaxis": {
             "endlinecolor": "#2a3f5f",
             "gridcolor": "white",
             "linecolor": "white",
             "minorgridcolor": "white",
             "startlinecolor": "#2a3f5f"
            },
            "baxis": {
             "endlinecolor": "#2a3f5f",
             "gridcolor": "white",
             "linecolor": "white",
             "minorgridcolor": "white",
             "startlinecolor": "#2a3f5f"
            },
            "type": "carpet"
           }
          ],
          "choropleth": [
           {
            "colorbar": {
             "outlinewidth": 0,
             "ticks": ""
            },
            "type": "choropleth"
           }
          ],
          "contour": [
           {
            "colorbar": {
             "outlinewidth": 0,
             "ticks": ""
            },
            "colorscale": [
             [
              0,
              "#0d0887"
             ],
             [
              0.1111111111111111,
              "#46039f"
             ],
             [
              0.2222222222222222,
              "#7201a8"
             ],
             [
              0.3333333333333333,
              "#9c179e"
             ],
             [
              0.4444444444444444,
              "#bd3786"
             ],
             [
              0.5555555555555556,
              "#d8576b"
             ],
             [
              0.6666666666666666,
              "#ed7953"
             ],
             [
              0.7777777777777778,
              "#fb9f3a"
             ],
             [
              0.8888888888888888,
              "#fdca26"
             ],
             [
              1,
              "#f0f921"
             ]
            ],
            "type": "contour"
           }
          ],
          "contourcarpet": [
           {
            "colorbar": {
             "outlinewidth": 0,
             "ticks": ""
            },
            "type": "contourcarpet"
           }
          ],
          "heatmap": [
           {
            "colorbar": {
             "outlinewidth": 0,
             "ticks": ""
            },
            "colorscale": [
             [
              0,
              "#0d0887"
             ],
             [
              0.1111111111111111,
              "#46039f"
             ],
             [
              0.2222222222222222,
              "#7201a8"
             ],
             [
              0.3333333333333333,
              "#9c179e"
             ],
             [
              0.4444444444444444,
              "#bd3786"
             ],
             [
              0.5555555555555556,
              "#d8576b"
             ],
             [
              0.6666666666666666,
              "#ed7953"
             ],
             [
              0.7777777777777778,
              "#fb9f3a"
             ],
             [
              0.8888888888888888,
              "#fdca26"
             ],
             [
              1,
              "#f0f921"
             ]
            ],
            "type": "heatmap"
           }
          ],
          "heatmapgl": [
           {
            "colorbar": {
             "outlinewidth": 0,
             "ticks": ""
            },
            "colorscale": [
             [
              0,
              "#0d0887"
             ],
             [
              0.1111111111111111,
              "#46039f"
             ],
             [
              0.2222222222222222,
              "#7201a8"
             ],
             [
              0.3333333333333333,
              "#9c179e"
             ],
             [
              0.4444444444444444,
              "#bd3786"
             ],
             [
              0.5555555555555556,
              "#d8576b"
             ],
             [
              0.6666666666666666,
              "#ed7953"
             ],
             [
              0.7777777777777778,
              "#fb9f3a"
             ],
             [
              0.8888888888888888,
              "#fdca26"
             ],
             [
              1,
              "#f0f921"
             ]
            ],
            "type": "heatmapgl"
           }
          ],
          "histogram": [
           {
            "marker": {
             "pattern": {
              "fillmode": "overlay",
              "size": 10,
              "solidity": 0.2
             }
            },
            "type": "histogram"
           }
          ],
          "histogram2d": [
           {
            "colorbar": {
             "outlinewidth": 0,
             "ticks": ""
            },
            "colorscale": [
             [
              0,
              "#0d0887"
             ],
             [
              0.1111111111111111,
              "#46039f"
             ],
             [
              0.2222222222222222,
              "#7201a8"
             ],
             [
              0.3333333333333333,
              "#9c179e"
             ],
             [
              0.4444444444444444,
              "#bd3786"
             ],
             [
              0.5555555555555556,
              "#d8576b"
             ],
             [
              0.6666666666666666,
              "#ed7953"
             ],
             [
              0.7777777777777778,
              "#fb9f3a"
             ],
             [
              0.8888888888888888,
              "#fdca26"
             ],
             [
              1,
              "#f0f921"
             ]
            ],
            "type": "histogram2d"
           }
          ],
          "histogram2dcontour": [
           {
            "colorbar": {
             "outlinewidth": 0,
             "ticks": ""
            },
            "colorscale": [
             [
              0,
              "#0d0887"
             ],
             [
              0.1111111111111111,
              "#46039f"
             ],
             [
              0.2222222222222222,
              "#7201a8"
             ],
             [
              0.3333333333333333,
              "#9c179e"
             ],
             [
              0.4444444444444444,
              "#bd3786"
             ],
             [
              0.5555555555555556,
              "#d8576b"
             ],
             [
              0.6666666666666666,
              "#ed7953"
             ],
             [
              0.7777777777777778,
              "#fb9f3a"
             ],
             [
              0.8888888888888888,
              "#fdca26"
             ],
             [
              1,
              "#f0f921"
             ]
            ],
            "type": "histogram2dcontour"
           }
          ],
          "mesh3d": [
           {
            "colorbar": {
             "outlinewidth": 0,
             "ticks": ""
            },
            "type": "mesh3d"
           }
          ],
          "parcoords": [
           {
            "line": {
             "colorbar": {
              "outlinewidth": 0,
              "ticks": ""
             }
            },
            "type": "parcoords"
           }
          ],
          "pie": [
           {
            "automargin": true,
            "type": "pie"
           }
          ],
          "scatter": [
           {
            "fillpattern": {
             "fillmode": "overlay",
             "size": 10,
             "solidity": 0.2
            },
            "type": "scatter"
           }
          ],
          "scatter3d": [
           {
            "line": {
             "colorbar": {
              "outlinewidth": 0,
              "ticks": ""
             }
            },
            "marker": {
             "colorbar": {
              "outlinewidth": 0,
              "ticks": ""
             }
            },
            "type": "scatter3d"
           }
          ],
          "scattercarpet": [
           {
            "marker": {
             "colorbar": {
              "outlinewidth": 0,
              "ticks": ""
             }
            },
            "type": "scattercarpet"
           }
          ],
          "scattergeo": [
           {
            "marker": {
             "colorbar": {
              "outlinewidth": 0,
              "ticks": ""
             }
            },
            "type": "scattergeo"
           }
          ],
          "scattergl": [
           {
            "marker": {
             "colorbar": {
              "outlinewidth": 0,
              "ticks": ""
             }
            },
            "type": "scattergl"
           }
          ],
          "scattermapbox": [
           {
            "marker": {
             "colorbar": {
              "outlinewidth": 0,
              "ticks": ""
             }
            },
            "type": "scattermapbox"
           }
          ],
          "scatterpolar": [
           {
            "marker": {
             "colorbar": {
              "outlinewidth": 0,
              "ticks": ""
             }
            },
            "type": "scatterpolar"
           }
          ],
          "scatterpolargl": [
           {
            "marker": {
             "colorbar": {
              "outlinewidth": 0,
              "ticks": ""
             }
            },
            "type": "scatterpolargl"
           }
          ],
          "scatterternary": [
           {
            "marker": {
             "colorbar": {
              "outlinewidth": 0,
              "ticks": ""
             }
            },
            "type": "scatterternary"
           }
          ],
          "surface": [
           {
            "colorbar": {
             "outlinewidth": 0,
             "ticks": ""
            },
            "colorscale": [
             [
              0,
              "#0d0887"
             ],
             [
              0.1111111111111111,
              "#46039f"
             ],
             [
              0.2222222222222222,
              "#7201a8"
             ],
             [
              0.3333333333333333,
              "#9c179e"
             ],
             [
              0.4444444444444444,
              "#bd3786"
             ],
             [
              0.5555555555555556,
              "#d8576b"
             ],
             [
              0.6666666666666666,
              "#ed7953"
             ],
             [
              0.7777777777777778,
              "#fb9f3a"
             ],
             [
              0.8888888888888888,
              "#fdca26"
             ],
             [
              1,
              "#f0f921"
             ]
            ],
            "type": "surface"
           }
          ],
          "table": [
           {
            "cells": {
             "fill": {
              "color": "#EBF0F8"
             },
             "line": {
              "color": "white"
             }
            },
            "header": {
             "fill": {
              "color": "#C8D4E3"
             },
             "line": {
              "color": "white"
             }
            },
            "type": "table"
           }
          ]
         },
         "layout": {
          "annotationdefaults": {
           "arrowcolor": "#2a3f5f",
           "arrowhead": 0,
           "arrowwidth": 1
          },
          "autotypenumbers": "strict",
          "coloraxis": {
           "colorbar": {
            "outlinewidth": 0,
            "ticks": ""
           }
          },
          "colorscale": {
           "diverging": [
            [
             0,
             "#8e0152"
            ],
            [
             0.1,
             "#c51b7d"
            ],
            [
             0.2,
             "#de77ae"
            ],
            [
             0.3,
             "#f1b6da"
            ],
            [
             0.4,
             "#fde0ef"
            ],
            [
             0.5,
             "#f7f7f7"
            ],
            [
             0.6,
             "#e6f5d0"
            ],
            [
             0.7,
             "#b8e186"
            ],
            [
             0.8,
             "#7fbc41"
            ],
            [
             0.9,
             "#4d9221"
            ],
            [
             1,
             "#276419"
            ]
           ],
           "sequential": [
            [
             0,
             "#0d0887"
            ],
            [
             0.1111111111111111,
             "#46039f"
            ],
            [
             0.2222222222222222,
             "#7201a8"
            ],
            [
             0.3333333333333333,
             "#9c179e"
            ],
            [
             0.4444444444444444,
             "#bd3786"
            ],
            [
             0.5555555555555556,
             "#d8576b"
            ],
            [
             0.6666666666666666,
             "#ed7953"
            ],
            [
             0.7777777777777778,
             "#fb9f3a"
            ],
            [
             0.8888888888888888,
             "#fdca26"
            ],
            [
             1,
             "#f0f921"
            ]
           ],
           "sequentialminus": [
            [
             0,
             "#0d0887"
            ],
            [
             0.1111111111111111,
             "#46039f"
            ],
            [
             0.2222222222222222,
             "#7201a8"
            ],
            [
             0.3333333333333333,
             "#9c179e"
            ],
            [
             0.4444444444444444,
             "#bd3786"
            ],
            [
             0.5555555555555556,
             "#d8576b"
            ],
            [
             0.6666666666666666,
             "#ed7953"
            ],
            [
             0.7777777777777778,
             "#fb9f3a"
            ],
            [
             0.8888888888888888,
             "#fdca26"
            ],
            [
             1,
             "#f0f921"
            ]
           ]
          },
          "colorway": [
           "#636efa",
           "#EF553B",
           "#00cc96",
           "#ab63fa",
           "#FFA15A",
           "#19d3f3",
           "#FF6692",
           "#B6E880",
           "#FF97FF",
           "#FECB52"
          ],
          "font": {
           "color": "#2a3f5f"
          },
          "geo": {
           "bgcolor": "white",
           "lakecolor": "white",
           "landcolor": "#E5ECF6",
           "showlakes": true,
           "showland": true,
           "subunitcolor": "white"
          },
          "hoverlabel": {
           "align": "left"
          },
          "hovermode": "closest",
          "mapbox": {
           "style": "light"
          },
          "paper_bgcolor": "white",
          "plot_bgcolor": "#E5ECF6",
          "polar": {
           "angularaxis": {
            "gridcolor": "white",
            "linecolor": "white",
            "ticks": ""
           },
           "bgcolor": "#E5ECF6",
           "radialaxis": {
            "gridcolor": "white",
            "linecolor": "white",
            "ticks": ""
           }
          },
          "scene": {
           "xaxis": {
            "backgroundcolor": "#E5ECF6",
            "gridcolor": "white",
            "gridwidth": 2,
            "linecolor": "white",
            "showbackground": true,
            "ticks": "",
            "zerolinecolor": "white"
           },
           "yaxis": {
            "backgroundcolor": "#E5ECF6",
            "gridcolor": "white",
            "gridwidth": 2,
            "linecolor": "white",
            "showbackground": true,
            "ticks": "",
            "zerolinecolor": "white"
           },
           "zaxis": {
            "backgroundcolor": "#E5ECF6",
            "gridcolor": "white",
            "gridwidth": 2,
            "linecolor": "white",
            "showbackground": true,
            "ticks": "",
            "zerolinecolor": "white"
           }
          },
          "shapedefaults": {
           "line": {
            "color": "#2a3f5f"
           }
          },
          "ternary": {
           "aaxis": {
            "gridcolor": "white",
            "linecolor": "white",
            "ticks": ""
           },
           "baxis": {
            "gridcolor": "white",
            "linecolor": "white",
            "ticks": ""
           },
           "bgcolor": "#E5ECF6",
           "caxis": {
            "gridcolor": "white",
            "linecolor": "white",
            "ticks": ""
           }
          },
          "title": {
           "x": 0.05
          },
          "xaxis": {
           "automargin": true,
           "gridcolor": "white",
           "linecolor": "white",
           "ticks": "",
           "title": {
            "standoff": 15
           },
           "zerolinecolor": "white",
           "zerolinewidth": 2
          },
          "yaxis": {
           "automargin": true,
           "gridcolor": "white",
           "linecolor": "white",
           "ticks": "",
           "title": {
            "standoff": 15
           },
           "zerolinecolor": "white",
           "zerolinewidth": 2
          }
         }
        },
        "width": 1000,
        "xaxis": {
         "anchor": "y",
         "domain": [
          0,
          1
         ],
         "linecolor": "black",
         "showline": true,
         "ticks": "outside",
         "title": {
          "text": "Mean average precision - Standard CP"
         }
        },
        "yaxis": {
         "anchor": "x",
         "domain": [
          0,
          1
         ],
         "linecolor": "black",
         "showline": true,
         "ticks": "outside",
         "title": {
          "text": "Mean average precision - CP + MitoBrilliant"
         }
        }
       }
      }
     },
     "metadata": {},
     "output_type": "display_data"
    }
   ],
   "source": [
    "scatter_plot_comparison_colorblack(df_treatment, col1='Standard CP', col2='CP + MitoBrilliant', cutoff=0.4)"
   ]
  },
  {
   "cell_type": "code",
   "execution_count": 17,
   "metadata": {},
   "outputs": [
    {
     "data": {
      "application/vnd.plotly.v1+json": {
       "config": {
        "plotlyServerURL": "https://plot.ly"
       },
       "data": [
        {
         "hovertemplate": "<b>%{hovertext}</b><br><br>color=Other<br>Mean average precision - Standard CP=%{x}<br>Mean average precision - CP + Phenovue phalloidin 400LS=%{y}<extra></extra>",
         "hovertext": [
          "tumor necrosis factor production inhibitor",
          "antihistamine",
          "acetylcholine receptor antagonist",
          "pyruvate dehydrogenase kinase inhibitor",
          "protein tyrosine kinase inhibitor",
          "antihistamine",
          "CHK inhibitor",
          "glycogen synthase kinase inhibitor",
          "histone lysine methyltransferase inhibitor",
          "tumor necrosis factor production inhibitor",
          "inosine monophosphate dehydrogenase inhibitor",
          "CDC inhibitor",
          "PARP inhibitor",
          "bromodomain inhibitor",
          "ubiquitin specific protease inhibitor",
          "glycogen synthase kinase inhibitor",
          "JAK inhibitor",
          "Apoptosis inducer (ATP-competitive kinase inhibitor)",
          "hepatocyte growth factor receptor inhibitor",
          "bromodomain inhibitor",
          "MEK inhibitor",
          "Aurora kinase inhibitor",
          "LXR agonist",
          "phospholipase inhibitor",
          "IGF-1 inhibitor",
          "tricyclic antidepressant",
          "histone lysine demethylase inhibitor",
          "phosphodiesterase inhibitor",
          "beta-catenin inhibitor",
          "JNK inhibitor",
          "LXR agonist",
          "DNA inhibitor",
          "kinesin inhibitor",
          "phosphoinositide dependent kinase inhibitor",
          "RAF inhibitor",
          "FGFR inhibitor",
          "Bcr-Abl kinase inhibitor",
          "AMPK inhibitor",
          "pyruvate dehydrogenase kinase inhibitor",
          "phospholipase inhibitor",
          "Aurora kinase inhibitor",
          "JAK inhibitor",
          "tricyclic antidepressant",
          "PARP inhibitor",
          "BCL inhibitor",
          "inosine monophosphate dehydrogenase inhibitor",
          "MEK inhibitor",
          "histone lysine methyltransferase inhibitor",
          "HDAC inhibitor",
          "HDAC inhibitor",
          "BCL inhibitor",
          "phosphodiesterase inhibitor",
          "kinesin inhibitor",
          "CDK inhibitor",
          "CDC inhibitor",
          "protein tyrosine kinase inhibitor",
          "MAP kinase inhibitor",
          "ER stressor (SERCA inhibitor)",
          "protein arginine N-methyltransferase inhibitor",
          "Apoptosis inducer (transcription inhibitor)",
          "phosphoinositide dependent kinase inhibitor",
          "FGFR inhibitor",
          "DNA inhibitor",
          "smoothened receptor agonist",
          "JNK inhibitor",
          "CHK inhibitor",
          "EGFR inhibitor",
          "androgen receptor modulator",
          "HMGCR inhibitor",
          "acetylcholine receptor antagonist",
          "mTOR inhibitor",
          "EGFR inhibitor",
          "HMGCR inhibitor",
          "IGF-1 inhibitor",
          "protein arginine N-methyltransferase inhibitor",
          "MAP kinase inhibitor",
          "p38 MAPK inhibitor",
          "ubiquitin specific protease inhibitor",
          "histone lysine demethylase inhibitor",
          "androgen receptor modulator",
          "mTOR inhibitor",
          "smoothened receptor agonist",
          "hypoxia inducible factor inhibitor"
         ],
         "legendgroup": "Other",
         "marker": {
          "color": "darkgrey",
          "size": 14,
          "symbol": "circle"
         },
         "mode": "markers",
         "name": "Other",
         "orientation": "v",
         "showlegend": true,
         "type": "scatter",
         "x": [
          0.0751907630145189,
          0.0233801007027194,
          0.0433579017366559,
          0.1253876015988353,
          0.1738168196307123,
          0.0211695068186132,
          1,
          0.6974747474747475,
          0.0154930737015808,
          0.0238431850113865,
          1,
          1,
          0.0268981326457728,
          0.2518778312022093,
          0.1236165081603947,
          1,
          0.1365085928096441,
          1,
          0.0484138908748976,
          1,
          0.1992880588881083,
          0.8752976190476192,
          1,
          0.0100917990220209,
          0.9027777777777778,
          0.0110762565965278,
          0.0655699953550348,
          0.1048345644743013,
          0.0147191056292627,
          0.011663876467995,
          0.3301868721360246,
          0.045028432148368,
          1,
          0.6197956684237172,
          0.0971656631828945,
          0.8824404761904762,
          0.861111111111111,
          0.1882316051861195,
          0.525020664946182,
          0.9305555555555556,
          0.4852411033797771,
          0.1762929967714251,
          0.017578684743016,
          0.5149426842442,
          1,
          0.2037167657921614,
          0.6494021851164709,
          1,
          0.4493806573112204,
          0.5134242212230108,
          0.4884690845217161,
          0.0080332999614717,
          0.6329365079365079,
          0.7826388888888889,
          0.1298944286339244,
          0.0310474514437055,
          0.0156393740585514,
          1,
          0.7093142968142968,
          0.6779100529100529,
          0.856060606060606,
          0.4889772727272727,
          0.2138536977809366,
          0.2248132294830504,
          0.0154079521523467,
          0.8523809523809525,
          0.0565017143205006,
          0.0181747663103683,
          0.1291173127966729,
          0.0394905434933731,
          1,
          1,
          0.0150193407677918,
          0.6476907230196705,
          0.1965126592157808,
          0.3396643842722274,
          0.2862136202447207,
          0.1186731952613619,
          0.7980158730158731,
          0.1784945554351246,
          0.8409455128205128,
          0.3839489267989467,
          0.6168650793650794
         ],
         "xaxis": "x",
         "y": [
          0.1112377281512826,
          0.010965474179758,
          0.122123155033031,
          0.0919639220595114,
          0.0465159455982445,
          0.0354565709463584,
          0.7405753968253969,
          0.6870879120879121,
          0.018788278316208,
          0.0112398712840726,
          1,
          0.8694444444444445,
          0.0301508788059263,
          0.6296642092278282,
          0.0201822185136621,
          1,
          0.0245637015938576,
          0.6898656898656899,
          0.0107791168214179,
          1,
          0.2915872797940906,
          1,
          0.9583333333333334,
          0.0444810835599682,
          0.5790053960180563,
          0.1361308789633265,
          0.0288476652710169,
          0.0174871651039855,
          0.0129714960554163,
          0.0120839764254917,
          0.1670026143862696,
          0.0096420458353618,
          0.8669642857142857,
          1,
          0.0315740660679131,
          0.790909090909091,
          0.5147837066315327,
          0.105425506775315,
          0.834090909090909,
          0.9791666666666666,
          0.4595219017094017,
          0.1163663460822716,
          0.0308560216324643,
          0.7041666666666666,
          0.9583333333333334,
          0.2617092042910354,
          0.9791666666666666,
          0.7038392857142857,
          0.5387896825396825,
          0.8396915584415584,
          0.3395326564969422,
          0.0086338866621751,
          0.480106964384305,
          0.4640505328005328,
          0.0225451889316297,
          0.0227245074953545,
          0.1904324197052552,
          1,
          0.8888888888888888,
          0.4832902001380262,
          0.5264890304412363,
          0.7786630036630037,
          0.4536352657004831,
          0.1617616659187257,
          0.0168998578257072,
          0.5600560897435898,
          0.1444461118846186,
          0.0293955481490052,
          0.2513746879129173,
          0.1450295844577917,
          1,
          1,
          0.0207472029477666,
          0.6679197994987469,
          0.0163489074159451,
          0.6117723842018197,
          0.1799989628926765,
          0.1043851654693055,
          1,
          0.0682356632559584,
          0.9208333333333332,
          0.2679947084742481,
          0.4835733153334221
         ],
         "yaxis": "y"
        },
        {
         "hovertemplate": "<b>%{hovertext}</b><br><br>color=hepatocyte growth factor receptor inhibitor<br>Mean average precision - Standard CP=%{x}<br>Mean average precision - CP + Phenovue phalloidin 400LS=%{y}<extra></extra>",
         "hovertext": [
          "hepatocyte growth factor receptor inhibitor"
         ],
         "legendgroup": "hepatocyte growth factor receptor inhibitor",
         "marker": {
          "color": "#00cc96",
          "size": 14,
          "symbol": "circle"
         },
         "mode": "markers",
         "name": "hepatocyte growth factor receptor inhibitor",
         "orientation": "v",
         "showlegend": true,
         "type": "scatter",
         "x": [
          0.4437509212047515
         ],
         "xaxis": "x",
         "y": [
          1
         ],
         "yaxis": "y"
        },
        {
         "hovertemplate": "<b>%{hovertext}</b><br><br>color=RAF inhibitor<br>Mean average precision - Standard CP=%{x}<br>Mean average precision - CP + Phenovue phalloidin 400LS=%{y}<extra></extra>",
         "hovertext": [
          "RAF inhibitor"
         ],
         "legendgroup": "RAF inhibitor",
         "marker": {
          "color": "#ab63fa",
          "size": 14,
          "symbol": "circle"
         },
         "mode": "markers",
         "name": "RAF inhibitor",
         "orientation": "v",
         "showlegend": true,
         "type": "scatter",
         "x": [
          0.9791666666666666
         ],
         "xaxis": "x",
         "y": [
          0.5644890410515411
         ],
         "yaxis": "y"
        },
        {
         "hovertemplate": "<b>%{hovertext}</b><br><br>color=p38 MAPK inhibitor<br>Mean average precision - Standard CP=%{x}<br>Mean average precision - CP + Phenovue phalloidin 400LS=%{y}<extra></extra>",
         "hovertext": [
          "p38 MAPK inhibitor"
         ],
         "legendgroup": "p38 MAPK inhibitor",
         "marker": {
          "color": "#FFA15A",
          "size": 14,
          "symbol": "circle"
         },
         "mode": "markers",
         "name": "p38 MAPK inhibitor",
         "orientation": "v",
         "showlegend": true,
         "type": "scatter",
         "x": [
          0.9375
         ],
         "xaxis": "x",
         "y": [
          0.5446661998132586
         ],
         "yaxis": "y"
        },
        {
         "hovertemplate": "<b>%{hovertext}</b><br><br>color=Bcr-Abl kinase inhibitor<br>Mean average precision - Standard CP=%{x}<br>Mean average precision - CP + Phenovue phalloidin 400LS=%{y}<extra></extra>",
         "hovertext": [
          "Bcr-Abl kinase inhibitor"
         ],
         "legendgroup": "Bcr-Abl kinase inhibitor",
         "marker": {
          "color": "#19d3f3",
          "size": 14,
          "symbol": "circle"
         },
         "mode": "markers",
         "name": "Bcr-Abl kinase inhibitor",
         "orientation": "v",
         "showlegend": true,
         "type": "scatter",
         "x": [
          0.3972264202838758
         ],
         "xaxis": "x",
         "y": [
          0.7873093681917211
         ],
         "yaxis": "y"
        },
        {
         "hovertemplate": "<b>%{hovertext}</b><br><br>color=beta-catenin inhibitor<br>Mean average precision - Standard CP=%{x}<br>Mean average precision - CP + Phenovue phalloidin 400LS=%{y}<extra></extra>",
         "hovertext": [
          "beta-catenin inhibitor"
         ],
         "legendgroup": "beta-catenin inhibitor",
         "marker": {
          "color": "#FF6692",
          "size": 14,
          "symbol": "circle"
         },
         "mode": "markers",
         "name": "beta-catenin inhibitor",
         "orientation": "v",
         "showlegend": true,
         "type": "scatter",
         "x": [
          0.9666666666666668
         ],
         "xaxis": "x",
         "y": [
          0.4906500226145805
         ],
         "yaxis": "y"
        },
        {
         "hovertemplate": "<b>%{hovertext}</b><br><br>color=CDK inhibitor<br>Mean average precision - Standard CP=%{x}<br>Mean average precision - CP + Phenovue phalloidin 400LS=%{y}<extra></extra>",
         "hovertext": [
          "CDK inhibitor"
         ],
         "legendgroup": "CDK inhibitor",
         "marker": {
          "color": "#B6E880",
          "size": 14,
          "symbol": "circle"
         },
         "mode": "markers",
         "name": "CDK inhibitor",
         "orientation": "v",
         "showlegend": true,
         "type": "scatter",
         "x": [
          0.4227250258428748
         ],
         "xaxis": "x",
         "y": [
          1
         ],
         "yaxis": "y"
        },
        {
         "hovertemplate": "<b>%{hovertext}</b><br><br>color=hypoxia inducible factor inhibitor<br>Mean average precision - Standard CP=%{x}<br>Mean average precision - CP + Phenovue phalloidin 400LS=%{y}<extra></extra>",
         "hovertext": [
          "hypoxia inducible factor inhibitor"
         ],
         "legendgroup": "hypoxia inducible factor inhibitor",
         "marker": {
          "color": "#FF97FF",
          "size": 14,
          "symbol": "circle"
         },
         "mode": "markers",
         "name": "hypoxia inducible factor inhibitor",
         "orientation": "v",
         "showlegend": true,
         "type": "scatter",
         "x": [
          0.0263200192433433
         ],
         "xaxis": "x",
         "y": [
          0.4226190476190475
         ],
         "yaxis": "y"
        }
       ],
       "layout": {
        "font": {
         "color": "Black",
         "family": "sans serif",
         "size": 26
        },
        "height": 1200,
        "legend": {
         "orientation": "h",
         "title": {
          "text": "color"
         },
         "tracegroupgap": 0
        },
        "margin": {
         "t": 60
        },
        "plot_bgcolor": "rgba(0,0,0,0)",
        "shapes": [
         {
          "line": {
           "color": "lightgrey",
           "dash": "dashdot"
          },
          "type": "line",
          "x0": 0,
          "x1": 1,
          "y0": 0,
          "y1": 1
         }
        ],
        "template": {
         "data": {
          "bar": [
           {
            "error_x": {
             "color": "#2a3f5f"
            },
            "error_y": {
             "color": "#2a3f5f"
            },
            "marker": {
             "line": {
              "color": "#E5ECF6",
              "width": 0.5
             },
             "pattern": {
              "fillmode": "overlay",
              "size": 10,
              "solidity": 0.2
             }
            },
            "type": "bar"
           }
          ],
          "barpolar": [
           {
            "marker": {
             "line": {
              "color": "#E5ECF6",
              "width": 0.5
             },
             "pattern": {
              "fillmode": "overlay",
              "size": 10,
              "solidity": 0.2
             }
            },
            "type": "barpolar"
           }
          ],
          "carpet": [
           {
            "aaxis": {
             "endlinecolor": "#2a3f5f",
             "gridcolor": "white",
             "linecolor": "white",
             "minorgridcolor": "white",
             "startlinecolor": "#2a3f5f"
            },
            "baxis": {
             "endlinecolor": "#2a3f5f",
             "gridcolor": "white",
             "linecolor": "white",
             "minorgridcolor": "white",
             "startlinecolor": "#2a3f5f"
            },
            "type": "carpet"
           }
          ],
          "choropleth": [
           {
            "colorbar": {
             "outlinewidth": 0,
             "ticks": ""
            },
            "type": "choropleth"
           }
          ],
          "contour": [
           {
            "colorbar": {
             "outlinewidth": 0,
             "ticks": ""
            },
            "colorscale": [
             [
              0,
              "#0d0887"
             ],
             [
              0.1111111111111111,
              "#46039f"
             ],
             [
              0.2222222222222222,
              "#7201a8"
             ],
             [
              0.3333333333333333,
              "#9c179e"
             ],
             [
              0.4444444444444444,
              "#bd3786"
             ],
             [
              0.5555555555555556,
              "#d8576b"
             ],
             [
              0.6666666666666666,
              "#ed7953"
             ],
             [
              0.7777777777777778,
              "#fb9f3a"
             ],
             [
              0.8888888888888888,
              "#fdca26"
             ],
             [
              1,
              "#f0f921"
             ]
            ],
            "type": "contour"
           }
          ],
          "contourcarpet": [
           {
            "colorbar": {
             "outlinewidth": 0,
             "ticks": ""
            },
            "type": "contourcarpet"
           }
          ],
          "heatmap": [
           {
            "colorbar": {
             "outlinewidth": 0,
             "ticks": ""
            },
            "colorscale": [
             [
              0,
              "#0d0887"
             ],
             [
              0.1111111111111111,
              "#46039f"
             ],
             [
              0.2222222222222222,
              "#7201a8"
             ],
             [
              0.3333333333333333,
              "#9c179e"
             ],
             [
              0.4444444444444444,
              "#bd3786"
             ],
             [
              0.5555555555555556,
              "#d8576b"
             ],
             [
              0.6666666666666666,
              "#ed7953"
             ],
             [
              0.7777777777777778,
              "#fb9f3a"
             ],
             [
              0.8888888888888888,
              "#fdca26"
             ],
             [
              1,
              "#f0f921"
             ]
            ],
            "type": "heatmap"
           }
          ],
          "heatmapgl": [
           {
            "colorbar": {
             "outlinewidth": 0,
             "ticks": ""
            },
            "colorscale": [
             [
              0,
              "#0d0887"
             ],
             [
              0.1111111111111111,
              "#46039f"
             ],
             [
              0.2222222222222222,
              "#7201a8"
             ],
             [
              0.3333333333333333,
              "#9c179e"
             ],
             [
              0.4444444444444444,
              "#bd3786"
             ],
             [
              0.5555555555555556,
              "#d8576b"
             ],
             [
              0.6666666666666666,
              "#ed7953"
             ],
             [
              0.7777777777777778,
              "#fb9f3a"
             ],
             [
              0.8888888888888888,
              "#fdca26"
             ],
             [
              1,
              "#f0f921"
             ]
            ],
            "type": "heatmapgl"
           }
          ],
          "histogram": [
           {
            "marker": {
             "pattern": {
              "fillmode": "overlay",
              "size": 10,
              "solidity": 0.2
             }
            },
            "type": "histogram"
           }
          ],
          "histogram2d": [
           {
            "colorbar": {
             "outlinewidth": 0,
             "ticks": ""
            },
            "colorscale": [
             [
              0,
              "#0d0887"
             ],
             [
              0.1111111111111111,
              "#46039f"
             ],
             [
              0.2222222222222222,
              "#7201a8"
             ],
             [
              0.3333333333333333,
              "#9c179e"
             ],
             [
              0.4444444444444444,
              "#bd3786"
             ],
             [
              0.5555555555555556,
              "#d8576b"
             ],
             [
              0.6666666666666666,
              "#ed7953"
             ],
             [
              0.7777777777777778,
              "#fb9f3a"
             ],
             [
              0.8888888888888888,
              "#fdca26"
             ],
             [
              1,
              "#f0f921"
             ]
            ],
            "type": "histogram2d"
           }
          ],
          "histogram2dcontour": [
           {
            "colorbar": {
             "outlinewidth": 0,
             "ticks": ""
            },
            "colorscale": [
             [
              0,
              "#0d0887"
             ],
             [
              0.1111111111111111,
              "#46039f"
             ],
             [
              0.2222222222222222,
              "#7201a8"
             ],
             [
              0.3333333333333333,
              "#9c179e"
             ],
             [
              0.4444444444444444,
              "#bd3786"
             ],
             [
              0.5555555555555556,
              "#d8576b"
             ],
             [
              0.6666666666666666,
              "#ed7953"
             ],
             [
              0.7777777777777778,
              "#fb9f3a"
             ],
             [
              0.8888888888888888,
              "#fdca26"
             ],
             [
              1,
              "#f0f921"
             ]
            ],
            "type": "histogram2dcontour"
           }
          ],
          "mesh3d": [
           {
            "colorbar": {
             "outlinewidth": 0,
             "ticks": ""
            },
            "type": "mesh3d"
           }
          ],
          "parcoords": [
           {
            "line": {
             "colorbar": {
              "outlinewidth": 0,
              "ticks": ""
             }
            },
            "type": "parcoords"
           }
          ],
          "pie": [
           {
            "automargin": true,
            "type": "pie"
           }
          ],
          "scatter": [
           {
            "fillpattern": {
             "fillmode": "overlay",
             "size": 10,
             "solidity": 0.2
            },
            "type": "scatter"
           }
          ],
          "scatter3d": [
           {
            "line": {
             "colorbar": {
              "outlinewidth": 0,
              "ticks": ""
             }
            },
            "marker": {
             "colorbar": {
              "outlinewidth": 0,
              "ticks": ""
             }
            },
            "type": "scatter3d"
           }
          ],
          "scattercarpet": [
           {
            "marker": {
             "colorbar": {
              "outlinewidth": 0,
              "ticks": ""
             }
            },
            "type": "scattercarpet"
           }
          ],
          "scattergeo": [
           {
            "marker": {
             "colorbar": {
              "outlinewidth": 0,
              "ticks": ""
             }
            },
            "type": "scattergeo"
           }
          ],
          "scattergl": [
           {
            "marker": {
             "colorbar": {
              "outlinewidth": 0,
              "ticks": ""
             }
            },
            "type": "scattergl"
           }
          ],
          "scattermapbox": [
           {
            "marker": {
             "colorbar": {
              "outlinewidth": 0,
              "ticks": ""
             }
            },
            "type": "scattermapbox"
           }
          ],
          "scatterpolar": [
           {
            "marker": {
             "colorbar": {
              "outlinewidth": 0,
              "ticks": ""
             }
            },
            "type": "scatterpolar"
           }
          ],
          "scatterpolargl": [
           {
            "marker": {
             "colorbar": {
              "outlinewidth": 0,
              "ticks": ""
             }
            },
            "type": "scatterpolargl"
           }
          ],
          "scatterternary": [
           {
            "marker": {
             "colorbar": {
              "outlinewidth": 0,
              "ticks": ""
             }
            },
            "type": "scatterternary"
           }
          ],
          "surface": [
           {
            "colorbar": {
             "outlinewidth": 0,
             "ticks": ""
            },
            "colorscale": [
             [
              0,
              "#0d0887"
             ],
             [
              0.1111111111111111,
              "#46039f"
             ],
             [
              0.2222222222222222,
              "#7201a8"
             ],
             [
              0.3333333333333333,
              "#9c179e"
             ],
             [
              0.4444444444444444,
              "#bd3786"
             ],
             [
              0.5555555555555556,
              "#d8576b"
             ],
             [
              0.6666666666666666,
              "#ed7953"
             ],
             [
              0.7777777777777778,
              "#fb9f3a"
             ],
             [
              0.8888888888888888,
              "#fdca26"
             ],
             [
              1,
              "#f0f921"
             ]
            ],
            "type": "surface"
           }
          ],
          "table": [
           {
            "cells": {
             "fill": {
              "color": "#EBF0F8"
             },
             "line": {
              "color": "white"
             }
            },
            "header": {
             "fill": {
              "color": "#C8D4E3"
             },
             "line": {
              "color": "white"
             }
            },
            "type": "table"
           }
          ]
         },
         "layout": {
          "annotationdefaults": {
           "arrowcolor": "#2a3f5f",
           "arrowhead": 0,
           "arrowwidth": 1
          },
          "autotypenumbers": "strict",
          "coloraxis": {
           "colorbar": {
            "outlinewidth": 0,
            "ticks": ""
           }
          },
          "colorscale": {
           "diverging": [
            [
             0,
             "#8e0152"
            ],
            [
             0.1,
             "#c51b7d"
            ],
            [
             0.2,
             "#de77ae"
            ],
            [
             0.3,
             "#f1b6da"
            ],
            [
             0.4,
             "#fde0ef"
            ],
            [
             0.5,
             "#f7f7f7"
            ],
            [
             0.6,
             "#e6f5d0"
            ],
            [
             0.7,
             "#b8e186"
            ],
            [
             0.8,
             "#7fbc41"
            ],
            [
             0.9,
             "#4d9221"
            ],
            [
             1,
             "#276419"
            ]
           ],
           "sequential": [
            [
             0,
             "#0d0887"
            ],
            [
             0.1111111111111111,
             "#46039f"
            ],
            [
             0.2222222222222222,
             "#7201a8"
            ],
            [
             0.3333333333333333,
             "#9c179e"
            ],
            [
             0.4444444444444444,
             "#bd3786"
            ],
            [
             0.5555555555555556,
             "#d8576b"
            ],
            [
             0.6666666666666666,
             "#ed7953"
            ],
            [
             0.7777777777777778,
             "#fb9f3a"
            ],
            [
             0.8888888888888888,
             "#fdca26"
            ],
            [
             1,
             "#f0f921"
            ]
           ],
           "sequentialminus": [
            [
             0,
             "#0d0887"
            ],
            [
             0.1111111111111111,
             "#46039f"
            ],
            [
             0.2222222222222222,
             "#7201a8"
            ],
            [
             0.3333333333333333,
             "#9c179e"
            ],
            [
             0.4444444444444444,
             "#bd3786"
            ],
            [
             0.5555555555555556,
             "#d8576b"
            ],
            [
             0.6666666666666666,
             "#ed7953"
            ],
            [
             0.7777777777777778,
             "#fb9f3a"
            ],
            [
             0.8888888888888888,
             "#fdca26"
            ],
            [
             1,
             "#f0f921"
            ]
           ]
          },
          "colorway": [
           "#636efa",
           "#EF553B",
           "#00cc96",
           "#ab63fa",
           "#FFA15A",
           "#19d3f3",
           "#FF6692",
           "#B6E880",
           "#FF97FF",
           "#FECB52"
          ],
          "font": {
           "color": "#2a3f5f"
          },
          "geo": {
           "bgcolor": "white",
           "lakecolor": "white",
           "landcolor": "#E5ECF6",
           "showlakes": true,
           "showland": true,
           "subunitcolor": "white"
          },
          "hoverlabel": {
           "align": "left"
          },
          "hovermode": "closest",
          "mapbox": {
           "style": "light"
          },
          "paper_bgcolor": "white",
          "plot_bgcolor": "#E5ECF6",
          "polar": {
           "angularaxis": {
            "gridcolor": "white",
            "linecolor": "white",
            "ticks": ""
           },
           "bgcolor": "#E5ECF6",
           "radialaxis": {
            "gridcolor": "white",
            "linecolor": "white",
            "ticks": ""
           }
          },
          "scene": {
           "xaxis": {
            "backgroundcolor": "#E5ECF6",
            "gridcolor": "white",
            "gridwidth": 2,
            "linecolor": "white",
            "showbackground": true,
            "ticks": "",
            "zerolinecolor": "white"
           },
           "yaxis": {
            "backgroundcolor": "#E5ECF6",
            "gridcolor": "white",
            "gridwidth": 2,
            "linecolor": "white",
            "showbackground": true,
            "ticks": "",
            "zerolinecolor": "white"
           },
           "zaxis": {
            "backgroundcolor": "#E5ECF6",
            "gridcolor": "white",
            "gridwidth": 2,
            "linecolor": "white",
            "showbackground": true,
            "ticks": "",
            "zerolinecolor": "white"
           }
          },
          "shapedefaults": {
           "line": {
            "color": "#2a3f5f"
           }
          },
          "ternary": {
           "aaxis": {
            "gridcolor": "white",
            "linecolor": "white",
            "ticks": ""
           },
           "baxis": {
            "gridcolor": "white",
            "linecolor": "white",
            "ticks": ""
           },
           "bgcolor": "#E5ECF6",
           "caxis": {
            "gridcolor": "white",
            "linecolor": "white",
            "ticks": ""
           }
          },
          "title": {
           "x": 0.05
          },
          "xaxis": {
           "automargin": true,
           "gridcolor": "white",
           "linecolor": "white",
           "ticks": "",
           "title": {
            "standoff": 15
           },
           "zerolinecolor": "white",
           "zerolinewidth": 2
          },
          "yaxis": {
           "automargin": true,
           "gridcolor": "white",
           "linecolor": "white",
           "ticks": "",
           "title": {
            "standoff": 15
           },
           "zerolinecolor": "white",
           "zerolinewidth": 2
          }
         }
        },
        "width": 1000,
        "xaxis": {
         "anchor": "y",
         "domain": [
          0,
          1
         ],
         "linecolor": "black",
         "showline": true,
         "ticks": "outside",
         "title": {
          "text": "Mean average precision - Standard CP"
         }
        },
        "yaxis": {
         "anchor": "x",
         "domain": [
          0,
          1
         ],
         "linecolor": "black",
         "showline": true,
         "ticks": "outside",
         "title": {
          "text": "Mean average precision - CP + Phenovue phalloidin 400LS"
         }
        }
       }
      }
     },
     "metadata": {},
     "output_type": "display_data"
    }
   ],
   "source": [
    "scatter_plot_comparison_colorblack(df_treatment, col1='Standard CP', col2='CP + Phenovue phalloidin 400LS', cutoff=0.39)"
   ]
  },
  {
   "cell_type": "code",
   "execution_count": 18,
   "metadata": {},
   "outputs": [
    {
     "data": {
      "application/vnd.plotly.v1+json": {
       "config": {
        "plotlyServerURL": "https://plot.ly"
       },
       "data": [
        {
         "hovertemplate": "<b>%{hovertext}</b><br><br>color=Other<br>Mean average precision - Standard CP=%{x}<br>Mean average precision - ChromaLive + Hoechst=%{y}<extra></extra>",
         "hovertext": [
          "tumor necrosis factor production inhibitor",
          "antihistamine",
          "acetylcholine receptor antagonist",
          "pyruvate dehydrogenase kinase inhibitor",
          "protein tyrosine kinase inhibitor",
          "antihistamine",
          "hepatocyte growth factor receptor inhibitor",
          "CHK inhibitor",
          "glycogen synthase kinase inhibitor",
          "histone lysine methyltransferase inhibitor",
          "tumor necrosis factor production inhibitor",
          "inosine monophosphate dehydrogenase inhibitor",
          "CDC inhibitor",
          "PARP inhibitor",
          "bromodomain inhibitor",
          "ubiquitin specific protease inhibitor",
          "glycogen synthase kinase inhibitor",
          "JAK inhibitor",
          "hepatocyte growth factor receptor inhibitor",
          "bromodomain inhibitor",
          "MEK inhibitor",
          "Aurora kinase inhibitor",
          "LXR agonist",
          "phospholipase inhibitor",
          "IGF-1 inhibitor",
          "tricyclic antidepressant",
          "histone lysine demethylase inhibitor",
          "phosphodiesterase inhibitor",
          "beta-catenin inhibitor",
          "JNK inhibitor",
          "LXR agonist",
          "DNA inhibitor",
          "kinesin inhibitor",
          "phosphoinositide dependent kinase inhibitor",
          "RAF inhibitor",
          "FGFR inhibitor",
          "Bcr-Abl kinase inhibitor",
          "pyruvate dehydrogenase kinase inhibitor",
          "phospholipase inhibitor",
          "Aurora kinase inhibitor",
          "JAK inhibitor",
          "tricyclic antidepressant",
          "PARP inhibitor",
          "BCL inhibitor",
          "inosine monophosphate dehydrogenase inhibitor",
          "MEK inhibitor",
          "histone lysine methyltransferase inhibitor",
          "HDAC inhibitor",
          "HDAC inhibitor",
          "BCL inhibitor",
          "phosphodiesterase inhibitor",
          "kinesin inhibitor",
          "CDK inhibitor",
          "CDC inhibitor",
          "protein tyrosine kinase inhibitor",
          "MAP kinase inhibitor",
          "protein arginine N-methyltransferase inhibitor",
          "Apoptosis inducer (transcription inhibitor)",
          "phosphoinositide dependent kinase inhibitor",
          "FGFR inhibitor",
          "DNA inhibitor",
          "smoothened receptor agonist",
          "JNK inhibitor",
          "CHK inhibitor",
          "EGFR inhibitor",
          "androgen receptor modulator",
          "HMGCR inhibitor",
          "acetylcholine receptor antagonist",
          "mTOR inhibitor",
          "EGFR inhibitor",
          "HMGCR inhibitor",
          "IGF-1 inhibitor",
          "protein arginine N-methyltransferase inhibitor",
          "Bcr-Abl kinase inhibitor",
          "MAP kinase inhibitor",
          "p38 MAPK inhibitor",
          "ubiquitin specific protease inhibitor",
          "CDK inhibitor",
          "histone lysine demethylase inhibitor",
          "hypoxia inducible factor inhibitor",
          "androgen receptor modulator",
          "mTOR inhibitor",
          "smoothened receptor agonist",
          "hypoxia inducible factor inhibitor"
         ],
         "legendgroup": "Other",
         "marker": {
          "color": "darkgrey",
          "size": 14,
          "symbol": "circle"
         },
         "mode": "markers",
         "name": "Other",
         "orientation": "v",
         "showlegend": true,
         "type": "scatter",
         "x": [
          0.0751907630145189,
          0.0233801007027194,
          0.0433579017366559,
          0.1253876015988353,
          0.1738168196307123,
          0.0211695068186132,
          0.4437509212047515,
          1,
          0.6974747474747475,
          0.0154930737015808,
          0.0238431850113865,
          1,
          1,
          0.0268981326457728,
          0.2518778312022093,
          0.1236165081603947,
          1,
          0.1365085928096441,
          0.0484138908748976,
          1,
          0.1992880588881083,
          0.8752976190476192,
          1,
          0.0100917990220209,
          0.9027777777777778,
          0.0110762565965278,
          0.0655699953550348,
          0.1048345644743013,
          0.0147191056292627,
          0.011663876467995,
          0.3301868721360246,
          0.045028432148368,
          1,
          0.6197956684237172,
          0.0971656631828945,
          0.8824404761904762,
          0.861111111111111,
          0.525020664946182,
          0.9305555555555556,
          0.4852411033797771,
          0.1762929967714251,
          0.017578684743016,
          0.5149426842442,
          1,
          0.2037167657921614,
          0.6494021851164709,
          1,
          0.4493806573112204,
          0.5134242212230108,
          0.4884690845217161,
          0.0080332999614717,
          0.6329365079365079,
          0.7826388888888889,
          0.1298944286339244,
          0.0310474514437055,
          0.0156393740585514,
          0.7093142968142968,
          0.6779100529100529,
          0.856060606060606,
          0.4889772727272727,
          0.2138536977809366,
          0.2248132294830504,
          0.0154079521523467,
          0.8523809523809525,
          0.0565017143205006,
          0.0181747663103683,
          0.1291173127966729,
          0.0394905434933731,
          1,
          1,
          0.0150193407677918,
          0.6476907230196705,
          0.1965126592157808,
          0.3972264202838758,
          0.3396643842722274,
          0.2862136202447207,
          0.1186731952613619,
          0.4227250258428748,
          0.7980158730158731,
          0.0263200192433433,
          0.1784945554351246,
          0.8409455128205128,
          0.3839489267989467,
          0.6168650793650794
         ],
         "xaxis": "x",
         "y": [
          0.038398695538574,
          0.1774041858179091,
          0.0224282023225964,
          0.4558580014195001,
          0.2431682002984587,
          0.0737327506100228,
          1,
          0.6218253968253968,
          0.6841463285129037,
          0.0315427144849486,
          0.0358498194682262,
          0.3820139724067746,
          0.5901484674329501,
          0.0642047298114143,
          0.4825140409699233,
          0.0167430330754792,
          0.6583026425980711,
          0.1733217500367276,
          0.0148187607569428,
          0.8233974358974359,
          0.1867437201099635,
          0.5007748988912065,
          0.6416005291005291,
          0.4922165063483849,
          1,
          0.7185019841269842,
          0.432972820105173,
          0.0803721613685519,
          0.2992612138483281,
          0.0263023051833263,
          0.2685810475054661,
          0.0138775609617116,
          0.6058661145617668,
          1,
          0.0642480177195702,
          0.4984652954633052,
          0.4620797720797721,
          0.9523809523809524,
          0.2563101449940149,
          0.4113821930775433,
          0.1886814994599948,
          0.1330426372583681,
          0.682936507936508,
          0.5510954070308213,
          0.5851869965753813,
          0.0843882713693281,
          0.8263888888888888,
          0.2343219159008632,
          0.4840616777013835,
          0.1569754253624423,
          0.0595452826084354,
          0.3558768045048532,
          0.3710494894598155,
          0.1391526808846964,
          0.4159576216440689,
          0.1585293542005851,
          0.3696216563827083,
          0.2581626600304761,
          1,
          0.2206921150459589,
          0.2480417274377241,
          0.1533878753955851,
          0.0188761296153692,
          0.7513888888888889,
          0.1807856767415591,
          0.1005030242617836,
          0.052499140004079,
          0.1678479712223636,
          0.5095602813242407,
          0.7915895061728395,
          0.1032999157214723,
          0.76875,
          0.0403081228528227,
          0.1272831172047267,
          0.0830733208082303,
          0.03979434185833,
          0.1043073732908898,
          0.331617807634722,
          0.8412698412698413,
          0.1052459406051185,
          0.0151806229175319,
          1,
          0.9791666666666666,
          1
         ],
         "yaxis": "y"
        },
        {
         "hovertemplate": "<b>%{hovertext}</b><br><br>color=Apoptosis inducer (ATP-competitive kinase inhibitor)<br>Mean average precision - Standard CP=%{x}<br>Mean average precision - ChromaLive + Hoechst=%{y}<extra></extra>",
         "hovertext": [
          "Apoptosis inducer (ATP-competitive kinase inhibitor)"
         ],
         "legendgroup": "Apoptosis inducer (ATP-competitive kinase inhibitor)",
         "marker": {
          "color": "#00cc96",
          "size": 14,
          "symbol": "circle"
         },
         "mode": "markers",
         "name": "Apoptosis inducer (ATP-competitive kinase inhibitor)",
         "orientation": "v",
         "showlegend": true,
         "type": "scatter",
         "x": [
          1
         ],
         "xaxis": "x",
         "y": [
          0.2740009402760479
         ],
         "yaxis": "y"
        },
        {
         "hovertemplate": "<b>%{hovertext}</b><br><br>color=AMPK inhibitor<br>Mean average precision - Standard CP=%{x}<br>Mean average precision - ChromaLive + Hoechst=%{y}<extra></extra>",
         "hovertext": [
          "AMPK inhibitor"
         ],
         "legendgroup": "AMPK inhibitor",
         "marker": {
          "color": "#ab63fa",
          "size": 14,
          "symbol": "circle"
         },
         "mode": "markers",
         "name": "AMPK inhibitor",
         "orientation": "v",
         "showlegend": true,
         "type": "scatter",
         "x": [
          0.1882316051861195
         ],
         "xaxis": "x",
         "y": [
          0.9027777777777776
         ],
         "yaxis": "y"
        },
        {
         "hovertemplate": "<b>%{hovertext}</b><br><br>color=RAF inhibitor<br>Mean average precision - Standard CP=%{x}<br>Mean average precision - ChromaLive + Hoechst=%{y}<extra></extra>",
         "hovertext": [
          "RAF inhibitor"
         ],
         "legendgroup": "RAF inhibitor",
         "marker": {
          "color": "#FFA15A",
          "size": 14,
          "symbol": "circle"
         },
         "mode": "markers",
         "name": "RAF inhibitor",
         "orientation": "v",
         "showlegend": true,
         "type": "scatter",
         "x": [
          0.9791666666666666
         ],
         "xaxis": "x",
         "y": [
          0.2317431651804856
         ],
         "yaxis": "y"
        },
        {
         "hovertemplate": "<b>%{hovertext}</b><br><br>color=ER stressor (SERCA inhibitor)<br>Mean average precision - Standard CP=%{x}<br>Mean average precision - ChromaLive + Hoechst=%{y}<extra></extra>",
         "hovertext": [
          "ER stressor (SERCA inhibitor)"
         ],
         "legendgroup": "ER stressor (SERCA inhibitor)",
         "marker": {
          "color": "#19d3f3",
          "size": 14,
          "symbol": "circle"
         },
         "mode": "markers",
         "name": "ER stressor (SERCA inhibitor)",
         "orientation": "v",
         "showlegend": true,
         "type": "scatter",
         "x": [
          1
         ],
         "xaxis": "x",
         "y": [
          0.2588279012831442
         ],
         "yaxis": "y"
        },
        {
         "hovertemplate": "<b>%{hovertext}</b><br><br>color=p38 MAPK inhibitor<br>Mean average precision - Standard CP=%{x}<br>Mean average precision - ChromaLive + Hoechst=%{y}<extra></extra>",
         "hovertext": [
          "p38 MAPK inhibitor"
         ],
         "legendgroup": "p38 MAPK inhibitor",
         "marker": {
          "color": "#FF6692",
          "size": 14,
          "symbol": "circle"
         },
         "mode": "markers",
         "name": "p38 MAPK inhibitor",
         "orientation": "v",
         "showlegend": true,
         "type": "scatter",
         "x": [
          0.9375
         ],
         "xaxis": "x",
         "y": [
          0.0584582593326552
         ],
         "yaxis": "y"
        },
        {
         "hovertemplate": "<b>%{hovertext}</b><br><br>color=beta-catenin inhibitor<br>Mean average precision - Standard CP=%{x}<br>Mean average precision - ChromaLive + Hoechst=%{y}<extra></extra>",
         "hovertext": [
          "beta-catenin inhibitor"
         ],
         "legendgroup": "beta-catenin inhibitor",
         "marker": {
          "color": "#B6E880",
          "size": 14,
          "symbol": "circle"
         },
         "mode": "markers",
         "name": "beta-catenin inhibitor",
         "orientation": "v",
         "showlegend": true,
         "type": "scatter",
         "x": [
          0.9666666666666668
         ],
         "xaxis": "x",
         "y": [
          0.2335522672232721
         ],
         "yaxis": "y"
        }
       ],
       "layout": {
        "font": {
         "color": "Black",
         "family": "sans serif",
         "size": 26
        },
        "height": 1200,
        "legend": {
         "orientation": "h",
         "title": {
          "text": "color"
         },
         "tracegroupgap": 0
        },
        "margin": {
         "t": 60
        },
        "plot_bgcolor": "rgba(0,0,0,0)",
        "shapes": [
         {
          "line": {
           "color": "lightgrey",
           "dash": "dashdot"
          },
          "type": "line",
          "x0": 0,
          "x1": 1,
          "y0": 0,
          "y1": 1
         }
        ],
        "template": {
         "data": {
          "bar": [
           {
            "error_x": {
             "color": "#2a3f5f"
            },
            "error_y": {
             "color": "#2a3f5f"
            },
            "marker": {
             "line": {
              "color": "#E5ECF6",
              "width": 0.5
             },
             "pattern": {
              "fillmode": "overlay",
              "size": 10,
              "solidity": 0.2
             }
            },
            "type": "bar"
           }
          ],
          "barpolar": [
           {
            "marker": {
             "line": {
              "color": "#E5ECF6",
              "width": 0.5
             },
             "pattern": {
              "fillmode": "overlay",
              "size": 10,
              "solidity": 0.2
             }
            },
            "type": "barpolar"
           }
          ],
          "carpet": [
           {
            "aaxis": {
             "endlinecolor": "#2a3f5f",
             "gridcolor": "white",
             "linecolor": "white",
             "minorgridcolor": "white",
             "startlinecolor": "#2a3f5f"
            },
            "baxis": {
             "endlinecolor": "#2a3f5f",
             "gridcolor": "white",
             "linecolor": "white",
             "minorgridcolor": "white",
             "startlinecolor": "#2a3f5f"
            },
            "type": "carpet"
           }
          ],
          "choropleth": [
           {
            "colorbar": {
             "outlinewidth": 0,
             "ticks": ""
            },
            "type": "choropleth"
           }
          ],
          "contour": [
           {
            "colorbar": {
             "outlinewidth": 0,
             "ticks": ""
            },
            "colorscale": [
             [
              0,
              "#0d0887"
             ],
             [
              0.1111111111111111,
              "#46039f"
             ],
             [
              0.2222222222222222,
              "#7201a8"
             ],
             [
              0.3333333333333333,
              "#9c179e"
             ],
             [
              0.4444444444444444,
              "#bd3786"
             ],
             [
              0.5555555555555556,
              "#d8576b"
             ],
             [
              0.6666666666666666,
              "#ed7953"
             ],
             [
              0.7777777777777778,
              "#fb9f3a"
             ],
             [
              0.8888888888888888,
              "#fdca26"
             ],
             [
              1,
              "#f0f921"
             ]
            ],
            "type": "contour"
           }
          ],
          "contourcarpet": [
           {
            "colorbar": {
             "outlinewidth": 0,
             "ticks": ""
            },
            "type": "contourcarpet"
           }
          ],
          "heatmap": [
           {
            "colorbar": {
             "outlinewidth": 0,
             "ticks": ""
            },
            "colorscale": [
             [
              0,
              "#0d0887"
             ],
             [
              0.1111111111111111,
              "#46039f"
             ],
             [
              0.2222222222222222,
              "#7201a8"
             ],
             [
              0.3333333333333333,
              "#9c179e"
             ],
             [
              0.4444444444444444,
              "#bd3786"
             ],
             [
              0.5555555555555556,
              "#d8576b"
             ],
             [
              0.6666666666666666,
              "#ed7953"
             ],
             [
              0.7777777777777778,
              "#fb9f3a"
             ],
             [
              0.8888888888888888,
              "#fdca26"
             ],
             [
              1,
              "#f0f921"
             ]
            ],
            "type": "heatmap"
           }
          ],
          "heatmapgl": [
           {
            "colorbar": {
             "outlinewidth": 0,
             "ticks": ""
            },
            "colorscale": [
             [
              0,
              "#0d0887"
             ],
             [
              0.1111111111111111,
              "#46039f"
             ],
             [
              0.2222222222222222,
              "#7201a8"
             ],
             [
              0.3333333333333333,
              "#9c179e"
             ],
             [
              0.4444444444444444,
              "#bd3786"
             ],
             [
              0.5555555555555556,
              "#d8576b"
             ],
             [
              0.6666666666666666,
              "#ed7953"
             ],
             [
              0.7777777777777778,
              "#fb9f3a"
             ],
             [
              0.8888888888888888,
              "#fdca26"
             ],
             [
              1,
              "#f0f921"
             ]
            ],
            "type": "heatmapgl"
           }
          ],
          "histogram": [
           {
            "marker": {
             "pattern": {
              "fillmode": "overlay",
              "size": 10,
              "solidity": 0.2
             }
            },
            "type": "histogram"
           }
          ],
          "histogram2d": [
           {
            "colorbar": {
             "outlinewidth": 0,
             "ticks": ""
            },
            "colorscale": [
             [
              0,
              "#0d0887"
             ],
             [
              0.1111111111111111,
              "#46039f"
             ],
             [
              0.2222222222222222,
              "#7201a8"
             ],
             [
              0.3333333333333333,
              "#9c179e"
             ],
             [
              0.4444444444444444,
              "#bd3786"
             ],
             [
              0.5555555555555556,
              "#d8576b"
             ],
             [
              0.6666666666666666,
              "#ed7953"
             ],
             [
              0.7777777777777778,
              "#fb9f3a"
             ],
             [
              0.8888888888888888,
              "#fdca26"
             ],
             [
              1,
              "#f0f921"
             ]
            ],
            "type": "histogram2d"
           }
          ],
          "histogram2dcontour": [
           {
            "colorbar": {
             "outlinewidth": 0,
             "ticks": ""
            },
            "colorscale": [
             [
              0,
              "#0d0887"
             ],
             [
              0.1111111111111111,
              "#46039f"
             ],
             [
              0.2222222222222222,
              "#7201a8"
             ],
             [
              0.3333333333333333,
              "#9c179e"
             ],
             [
              0.4444444444444444,
              "#bd3786"
             ],
             [
              0.5555555555555556,
              "#d8576b"
             ],
             [
              0.6666666666666666,
              "#ed7953"
             ],
             [
              0.7777777777777778,
              "#fb9f3a"
             ],
             [
              0.8888888888888888,
              "#fdca26"
             ],
             [
              1,
              "#f0f921"
             ]
            ],
            "type": "histogram2dcontour"
           }
          ],
          "mesh3d": [
           {
            "colorbar": {
             "outlinewidth": 0,
             "ticks": ""
            },
            "type": "mesh3d"
           }
          ],
          "parcoords": [
           {
            "line": {
             "colorbar": {
              "outlinewidth": 0,
              "ticks": ""
             }
            },
            "type": "parcoords"
           }
          ],
          "pie": [
           {
            "automargin": true,
            "type": "pie"
           }
          ],
          "scatter": [
           {
            "fillpattern": {
             "fillmode": "overlay",
             "size": 10,
             "solidity": 0.2
            },
            "type": "scatter"
           }
          ],
          "scatter3d": [
           {
            "line": {
             "colorbar": {
              "outlinewidth": 0,
              "ticks": ""
             }
            },
            "marker": {
             "colorbar": {
              "outlinewidth": 0,
              "ticks": ""
             }
            },
            "type": "scatter3d"
           }
          ],
          "scattercarpet": [
           {
            "marker": {
             "colorbar": {
              "outlinewidth": 0,
              "ticks": ""
             }
            },
            "type": "scattercarpet"
           }
          ],
          "scattergeo": [
           {
            "marker": {
             "colorbar": {
              "outlinewidth": 0,
              "ticks": ""
             }
            },
            "type": "scattergeo"
           }
          ],
          "scattergl": [
           {
            "marker": {
             "colorbar": {
              "outlinewidth": 0,
              "ticks": ""
             }
            },
            "type": "scattergl"
           }
          ],
          "scattermapbox": [
           {
            "marker": {
             "colorbar": {
              "outlinewidth": 0,
              "ticks": ""
             }
            },
            "type": "scattermapbox"
           }
          ],
          "scatterpolar": [
           {
            "marker": {
             "colorbar": {
              "outlinewidth": 0,
              "ticks": ""
             }
            },
            "type": "scatterpolar"
           }
          ],
          "scatterpolargl": [
           {
            "marker": {
             "colorbar": {
              "outlinewidth": 0,
              "ticks": ""
             }
            },
            "type": "scatterpolargl"
           }
          ],
          "scatterternary": [
           {
            "marker": {
             "colorbar": {
              "outlinewidth": 0,
              "ticks": ""
             }
            },
            "type": "scatterternary"
           }
          ],
          "surface": [
           {
            "colorbar": {
             "outlinewidth": 0,
             "ticks": ""
            },
            "colorscale": [
             [
              0,
              "#0d0887"
             ],
             [
              0.1111111111111111,
              "#46039f"
             ],
             [
              0.2222222222222222,
              "#7201a8"
             ],
             [
              0.3333333333333333,
              "#9c179e"
             ],
             [
              0.4444444444444444,
              "#bd3786"
             ],
             [
              0.5555555555555556,
              "#d8576b"
             ],
             [
              0.6666666666666666,
              "#ed7953"
             ],
             [
              0.7777777777777778,
              "#fb9f3a"
             ],
             [
              0.8888888888888888,
              "#fdca26"
             ],
             [
              1,
              "#f0f921"
             ]
            ],
            "type": "surface"
           }
          ],
          "table": [
           {
            "cells": {
             "fill": {
              "color": "#EBF0F8"
             },
             "line": {
              "color": "white"
             }
            },
            "header": {
             "fill": {
              "color": "#C8D4E3"
             },
             "line": {
              "color": "white"
             }
            },
            "type": "table"
           }
          ]
         },
         "layout": {
          "annotationdefaults": {
           "arrowcolor": "#2a3f5f",
           "arrowhead": 0,
           "arrowwidth": 1
          },
          "autotypenumbers": "strict",
          "coloraxis": {
           "colorbar": {
            "outlinewidth": 0,
            "ticks": ""
           }
          },
          "colorscale": {
           "diverging": [
            [
             0,
             "#8e0152"
            ],
            [
             0.1,
             "#c51b7d"
            ],
            [
             0.2,
             "#de77ae"
            ],
            [
             0.3,
             "#f1b6da"
            ],
            [
             0.4,
             "#fde0ef"
            ],
            [
             0.5,
             "#f7f7f7"
            ],
            [
             0.6,
             "#e6f5d0"
            ],
            [
             0.7,
             "#b8e186"
            ],
            [
             0.8,
             "#7fbc41"
            ],
            [
             0.9,
             "#4d9221"
            ],
            [
             1,
             "#276419"
            ]
           ],
           "sequential": [
            [
             0,
             "#0d0887"
            ],
            [
             0.1111111111111111,
             "#46039f"
            ],
            [
             0.2222222222222222,
             "#7201a8"
            ],
            [
             0.3333333333333333,
             "#9c179e"
            ],
            [
             0.4444444444444444,
             "#bd3786"
            ],
            [
             0.5555555555555556,
             "#d8576b"
            ],
            [
             0.6666666666666666,
             "#ed7953"
            ],
            [
             0.7777777777777778,
             "#fb9f3a"
            ],
            [
             0.8888888888888888,
             "#fdca26"
            ],
            [
             1,
             "#f0f921"
            ]
           ],
           "sequentialminus": [
            [
             0,
             "#0d0887"
            ],
            [
             0.1111111111111111,
             "#46039f"
            ],
            [
             0.2222222222222222,
             "#7201a8"
            ],
            [
             0.3333333333333333,
             "#9c179e"
            ],
            [
             0.4444444444444444,
             "#bd3786"
            ],
            [
             0.5555555555555556,
             "#d8576b"
            ],
            [
             0.6666666666666666,
             "#ed7953"
            ],
            [
             0.7777777777777778,
             "#fb9f3a"
            ],
            [
             0.8888888888888888,
             "#fdca26"
            ],
            [
             1,
             "#f0f921"
            ]
           ]
          },
          "colorway": [
           "#636efa",
           "#EF553B",
           "#00cc96",
           "#ab63fa",
           "#FFA15A",
           "#19d3f3",
           "#FF6692",
           "#B6E880",
           "#FF97FF",
           "#FECB52"
          ],
          "font": {
           "color": "#2a3f5f"
          },
          "geo": {
           "bgcolor": "white",
           "lakecolor": "white",
           "landcolor": "#E5ECF6",
           "showlakes": true,
           "showland": true,
           "subunitcolor": "white"
          },
          "hoverlabel": {
           "align": "left"
          },
          "hovermode": "closest",
          "mapbox": {
           "style": "light"
          },
          "paper_bgcolor": "white",
          "plot_bgcolor": "#E5ECF6",
          "polar": {
           "angularaxis": {
            "gridcolor": "white",
            "linecolor": "white",
            "ticks": ""
           },
           "bgcolor": "#E5ECF6",
           "radialaxis": {
            "gridcolor": "white",
            "linecolor": "white",
            "ticks": ""
           }
          },
          "scene": {
           "xaxis": {
            "backgroundcolor": "#E5ECF6",
            "gridcolor": "white",
            "gridwidth": 2,
            "linecolor": "white",
            "showbackground": true,
            "ticks": "",
            "zerolinecolor": "white"
           },
           "yaxis": {
            "backgroundcolor": "#E5ECF6",
            "gridcolor": "white",
            "gridwidth": 2,
            "linecolor": "white",
            "showbackground": true,
            "ticks": "",
            "zerolinecolor": "white"
           },
           "zaxis": {
            "backgroundcolor": "#E5ECF6",
            "gridcolor": "white",
            "gridwidth": 2,
            "linecolor": "white",
            "showbackground": true,
            "ticks": "",
            "zerolinecolor": "white"
           }
          },
          "shapedefaults": {
           "line": {
            "color": "#2a3f5f"
           }
          },
          "ternary": {
           "aaxis": {
            "gridcolor": "white",
            "linecolor": "white",
            "ticks": ""
           },
           "baxis": {
            "gridcolor": "white",
            "linecolor": "white",
            "ticks": ""
           },
           "bgcolor": "#E5ECF6",
           "caxis": {
            "gridcolor": "white",
            "linecolor": "white",
            "ticks": ""
           }
          },
          "title": {
           "x": 0.05
          },
          "xaxis": {
           "automargin": true,
           "gridcolor": "white",
           "linecolor": "white",
           "ticks": "",
           "title": {
            "standoff": 15
           },
           "zerolinecolor": "white",
           "zerolinewidth": 2
          },
          "yaxis": {
           "automargin": true,
           "gridcolor": "white",
           "linecolor": "white",
           "ticks": "",
           "title": {
            "standoff": 15
           },
           "zerolinecolor": "white",
           "zerolinewidth": 2
          }
         }
        },
        "width": 1000,
        "xaxis": {
         "anchor": "y",
         "domain": [
          0,
          1
         ],
         "linecolor": "black",
         "showline": true,
         "ticks": "outside",
         "title": {
          "text": "Mean average precision - Standard CP"
         }
        },
        "yaxis": {
         "anchor": "x",
         "domain": [
          0,
          1
         ],
         "linecolor": "black",
         "showline": true,
         "ticks": "outside",
         "title": {
          "text": "Mean average precision - ChromaLive + Hoechst"
         }
        }
       }
      }
     },
     "metadata": {},
     "output_type": "display_data"
    }
   ],
   "source": [
    "scatter_plot_comparison_colorblack(df_treatment, col1='Standard CP', col2='ChromaLive + Hoechst', cutoff=0.71)\n"
   ]
  },
  {
   "cell_type": "markdown",
   "metadata": {},
   "source": [
    "### Plot with trendline"
   ]
  },
  {
   "cell_type": "code",
   "execution_count": 19,
   "metadata": {},
   "outputs": [
    {
     "data": {
      "application/vnd.plotly.v1+json": {
       "config": {
        "plotlyServerURL": "https://plot.ly"
       },
       "data": [
        {
         "hovertemplate": "<b>%{hovertext}</b><br><br>color=Other<br>Mean average precision - Standard CP=%{x}<br>Mean average precision - CP + MitoBrilliant=%{y}<extra></extra>",
         "hovertext": [
          "tumor necrosis factor production inhibitor",
          "antihistamine",
          "acetylcholine receptor antagonist",
          "pyruvate dehydrogenase kinase inhibitor",
          "protein tyrosine kinase inhibitor",
          "antihistamine",
          "hepatocyte growth factor receptor inhibitor",
          "CHK inhibitor",
          "glycogen synthase kinase inhibitor",
          "histone lysine methyltransferase inhibitor",
          "tumor necrosis factor production inhibitor",
          "inosine monophosphate dehydrogenase inhibitor",
          "CDC inhibitor",
          "PARP inhibitor",
          "ubiquitin specific protease inhibitor",
          "glycogen synthase kinase inhibitor",
          "JAK inhibitor",
          "Apoptosis inducer (ATP-competitive kinase inhibitor)",
          "hepatocyte growth factor receptor inhibitor",
          "bromodomain inhibitor",
          "MEK inhibitor",
          "Aurora kinase inhibitor",
          "phospholipase inhibitor",
          "tricyclic antidepressant",
          "histone lysine demethylase inhibitor",
          "phosphodiesterase inhibitor",
          "beta-catenin inhibitor",
          "JNK inhibitor",
          "LXR agonist",
          "DNA inhibitor",
          "kinesin inhibitor",
          "phosphoinositide dependent kinase inhibitor",
          "RAF inhibitor",
          "FGFR inhibitor",
          "AMPK inhibitor",
          "pyruvate dehydrogenase kinase inhibitor",
          "phospholipase inhibitor",
          "Aurora kinase inhibitor",
          "JAK inhibitor",
          "tricyclic antidepressant",
          "PARP inhibitor",
          "BCL inhibitor",
          "MEK inhibitor",
          "histone lysine methyltransferase inhibitor",
          "BCL inhibitor",
          "phosphodiesterase inhibitor",
          "kinesin inhibitor",
          "CDK inhibitor",
          "CDC inhibitor",
          "RAF inhibitor",
          "protein tyrosine kinase inhibitor",
          "MAP kinase inhibitor",
          "ER stressor (SERCA inhibitor)",
          "Apoptosis inducer (transcription inhibitor)",
          "phosphoinositide dependent kinase inhibitor",
          "FGFR inhibitor",
          "DNA inhibitor",
          "smoothened receptor agonist",
          "JNK inhibitor",
          "CHK inhibitor",
          "EGFR inhibitor",
          "androgen receptor modulator",
          "HMGCR inhibitor",
          "acetylcholine receptor antagonist",
          "p38 MAPK inhibitor",
          "mTOR inhibitor",
          "EGFR inhibitor",
          "HMGCR inhibitor",
          "IGF-1 inhibitor",
          "protein arginine N-methyltransferase inhibitor",
          "MAP kinase inhibitor",
          "p38 MAPK inhibitor",
          "ubiquitin specific protease inhibitor",
          "histone lysine demethylase inhibitor",
          "hypoxia inducible factor inhibitor",
          "androgen receptor modulator",
          "mTOR inhibitor",
          "smoothened receptor agonist",
          "hypoxia inducible factor inhibitor"
         ],
         "legendgroup": "Other",
         "marker": {
          "color": "lightgrey",
          "symbol": "circle"
         },
         "mode": "markers",
         "name": "Other",
         "orientation": "v",
         "showlegend": true,
         "type": "scatter",
         "x": [
          0.0751907630145189,
          0.0233801007027194,
          0.0433579017366559,
          0.1253876015988353,
          0.1738168196307123,
          0.0211695068186132,
          0.4437509212047515,
          1,
          0.6974747474747475,
          0.0154930737015808,
          0.0238431850113865,
          1,
          1,
          0.0268981326457728,
          0.1236165081603947,
          1,
          0.1365085928096441,
          1,
          0.0484138908748976,
          1,
          0.1992880588881083,
          0.8752976190476192,
          0.0100917990220209,
          0.0110762565965278,
          0.0655699953550348,
          0.1048345644743013,
          0.0147191056292627,
          0.011663876467995,
          0.3301868721360246,
          0.045028432148368,
          1,
          0.6197956684237172,
          0.0971656631828945,
          0.8824404761904762,
          0.1882316051861195,
          0.525020664946182,
          0.9305555555555556,
          0.4852411033797771,
          0.1762929967714251,
          0.017578684743016,
          0.5149426842442,
          1,
          0.6494021851164709,
          1,
          0.4884690845217161,
          0.0080332999614717,
          0.6329365079365079,
          0.7826388888888889,
          0.1298944286339244,
          0.9791666666666666,
          0.0310474514437055,
          0.0156393740585514,
          1,
          0.6779100529100529,
          0.856060606060606,
          0.4889772727272727,
          0.2138536977809366,
          0.2248132294830504,
          0.0154079521523467,
          0.8523809523809525,
          0.0565017143205006,
          0.0181747663103683,
          0.1291173127966729,
          0.0394905434933731,
          0.9375,
          1,
          1,
          0.0150193407677918,
          0.6476907230196705,
          0.1965126592157808,
          0.3396643842722274,
          0.2862136202447207,
          0.1186731952613619,
          0.7980158730158731,
          0.0263200192433433,
          0.1784945554351246,
          0.8409455128205128,
          0.3839489267989467,
          0.6168650793650794
         ],
         "xaxis": "x",
         "y": [
          0.0165401431494606,
          0.0166196859473905,
          0.1121356480133429,
          0.1443890093748225,
          0.176370159067379,
          0.0357238365778345,
          0.3491710531098527,
          1,
          0.6309523809523809,
          0.066208056333275,
          0.0124838385087934,
          0.8143601190476191,
          1,
          0.0109293223985318,
          0.0195866835930538,
          1,
          0.0280346338045006,
          0.9791666666666666,
          0.0234500844740706,
          0.9666666666666668,
          0.2376100364106361,
          1,
          0.0219482215645514,
          0.0138308147489189,
          0.1285074537291864,
          0.0102287898392164,
          0.0130597852814869,
          0.0265905557251108,
          0.5367428465254552,
          0.0165138085886531,
          0.7360679779158039,
          0.7676188334083072,
          0.3456271329433094,
          1,
          0.1528054053789347,
          0.7620967741935484,
          0.8621031746031746,
          0.3695504466838019,
          0.2125172430945178,
          0.0125276305687483,
          0.5149294780599707,
          0.763336825703847,
          0.5408081501831502,
          1,
          0.2769199668011213,
          0.01393276636098,
          0.4435066077713137,
          0.8491161616161615,
          0.0293315590646834,
          1,
          0.0081144475898381,
          0.0855978107822178,
          0.7694940476190476,
          0.6167748917748918,
          0.6017524142524142,
          0.5264590665325959,
          0.4525146052434785,
          0.3725400457665903,
          0.0223873523049379,
          0.8958333333333333,
          0.1673105825676309,
          0.0146165586047949,
          0.0197637880622978,
          0.0758235831411658,
          0.776984126984127,
          1,
          0.7742456896551724,
          0.0164051871752492,
          0.6907738095238095,
          0.0309631338875194,
          0.2432985043368273,
          0.2052237717417319,
          0.2509404094930411,
          1,
          0.1682552018856305,
          0.0298484453121241,
          0.6898358585858586,
          0.5660426731078905,
          0.7324342324342324
         ],
         "yaxis": "y"
        },
        {
         "hovertemplate": "<b>%{hovertext}</b><br><br>color=bromodomain inhibitor<br>Mean average precision - Standard CP=%{x}<br>Mean average precision - CP + MitoBrilliant=%{y}<extra></extra>",
         "hovertext": [
          "bromodomain inhibitor"
         ],
         "legendgroup": "bromodomain inhibitor",
         "marker": {
          "color": "#00cc96",
          "symbol": "circle"
         },
         "mode": "markers",
         "name": "bromodomain inhibitor",
         "orientation": "v",
         "showlegend": true,
         "type": "scatter",
         "x": [
          0.2518778312022093
         ],
         "xaxis": "x",
         "y": [
          0.6732982295482296
         ],
         "yaxis": "y"
        },
        {
         "hovertemplate": "<b>%{hovertext}</b><br><br>color=LXR agonist<br>Mean average precision - Standard CP=%{x}<br>Mean average precision - CP + MitoBrilliant=%{y}<extra></extra>",
         "hovertext": [
          "LXR agonist"
         ],
         "legendgroup": "LXR agonist",
         "marker": {
          "color": "#ab63fa",
          "symbol": "circle"
         },
         "mode": "markers",
         "name": "LXR agonist",
         "orientation": "v",
         "showlegend": true,
         "type": "scatter",
         "x": [
          1
         ],
         "xaxis": "x",
         "y": [
          0.3003147790555369
         ],
         "yaxis": "y"
        },
        {
         "hovertemplate": "<b>%{hovertext}</b><br><br>color=IGF-1 inhibitor<br>Mean average precision - Standard CP=%{x}<br>Mean average precision - CP + MitoBrilliant=%{y}<extra></extra>",
         "hovertext": [
          "IGF-1 inhibitor"
         ],
         "legendgroup": "IGF-1 inhibitor",
         "marker": {
          "color": "#FFA15A",
          "symbol": "circle"
         },
         "mode": "markers",
         "name": "IGF-1 inhibitor",
         "orientation": "v",
         "showlegend": true,
         "type": "scatter",
         "x": [
          0.9027777777777778
         ],
         "xaxis": "x",
         "y": [
          0.5264509718129778
         ],
         "yaxis": "y"
        },
        {
         "hovertemplate": "<b>%{hovertext}</b><br><br>color=Bcr-Abl kinase inhibitor<br>Mean average precision - Standard CP=%{x}<br>Mean average precision - CP + MitoBrilliant=%{y}<extra></extra>",
         "hovertext": [
          "Bcr-Abl kinase inhibitor",
          "Bcr-Abl kinase inhibitor"
         ],
         "legendgroup": "Bcr-Abl kinase inhibitor",
         "marker": {
          "color": "#19d3f3",
          "symbol": "circle"
         },
         "mode": "markers",
         "name": "Bcr-Abl kinase inhibitor",
         "orientation": "v",
         "showlegend": true,
         "type": "scatter",
         "x": [
          0.861111111111111,
          0.3972264202838758
         ],
         "xaxis": "x",
         "y": [
          0.4646825396825397,
          0.7026587809036657
         ],
         "yaxis": "y"
        },
        {
         "hovertemplate": "<b>%{hovertext}</b><br><br>color=inosine monophosphate dehydrogenase inhibitor<br>Mean average precision - Standard CP=%{x}<br>Mean average precision - CP + MitoBrilliant=%{y}<extra></extra>",
         "hovertext": [
          "inosine monophosphate dehydrogenase inhibitor"
         ],
         "legendgroup": "inosine monophosphate dehydrogenase inhibitor",
         "marker": {
          "color": "#FF6692",
          "symbol": "circle"
         },
         "mode": "markers",
         "name": "inosine monophosphate dehydrogenase inhibitor",
         "orientation": "v",
         "showlegend": true,
         "type": "scatter",
         "x": [
          0.2037167657921614
         ],
         "xaxis": "x",
         "y": [
          0.9083333333333332
         ],
         "yaxis": "y"
        },
        {
         "hovertemplate": "<b>%{hovertext}</b><br><br>color=HDAC inhibitor<br>Mean average precision - Standard CP=%{x}<br>Mean average precision - CP + MitoBrilliant=%{y}<extra></extra>",
         "hovertext": [
          "HDAC inhibitor",
          "HDAC inhibitor"
         ],
         "legendgroup": "HDAC inhibitor",
         "marker": {
          "color": "#B6E880",
          "symbol": "circle"
         },
         "mode": "markers",
         "name": "HDAC inhibitor",
         "orientation": "v",
         "showlegend": true,
         "type": "scatter",
         "x": [
          0.4493806573112204,
          0.5134242212230108
         ],
         "xaxis": "x",
         "y": [
          0.7951388888888888,
          0.9791666666666666
         ],
         "yaxis": "y"
        },
        {
         "hovertemplate": "<b>%{hovertext}</b><br><br>color=protein arginine N-methyltransferase inhibitor<br>Mean average precision - Standard CP=%{x}<br>Mean average precision - CP + MitoBrilliant=%{y}<extra></extra>",
         "hovertext": [
          "protein arginine N-methyltransferase inhibitor"
         ],
         "legendgroup": "protein arginine N-methyltransferase inhibitor",
         "marker": {
          "color": "#FF97FF",
          "symbol": "circle"
         },
         "mode": "markers",
         "name": "protein arginine N-methyltransferase inhibitor",
         "orientation": "v",
         "showlegend": true,
         "type": "scatter",
         "x": [
          0.7093142968142968
         ],
         "xaxis": "x",
         "y": [
          0.3087884075986485
         ],
         "yaxis": "y"
        },
        {
         "hovertemplate": "<b>%{hovertext}</b><br><br>color=beta-catenin inhibitor<br>Mean average precision - Standard CP=%{x}<br>Mean average precision - CP + MitoBrilliant=%{y}<extra></extra>",
         "hovertext": [
          "beta-catenin inhibitor"
         ],
         "legendgroup": "beta-catenin inhibitor",
         "marker": {
          "color": "#FECB52",
          "symbol": "circle"
         },
         "mode": "markers",
         "name": "beta-catenin inhibitor",
         "orientation": "v",
         "showlegend": true,
         "type": "scatter",
         "x": [
          0.9666666666666668
         ],
         "xaxis": "x",
         "y": [
          0.5976172247911378
         ],
         "yaxis": "y"
        },
        {
         "hovertemplate": "<b>%{hovertext}</b><br><br>color=CDK inhibitor<br>Mean average precision - Standard CP=%{x}<br>Mean average precision - CP + MitoBrilliant=%{y}<extra></extra>",
         "hovertext": [
          "CDK inhibitor"
         ],
         "legendgroup": "CDK inhibitor",
         "marker": {
          "color": "#636efa",
          "symbol": "circle"
         },
         "mode": "markers",
         "name": "CDK inhibitor",
         "orientation": "v",
         "showlegend": true,
         "type": "scatter",
         "x": [
          0.4227250258428748
         ],
         "xaxis": "x",
         "y": [
          1
         ],
         "yaxis": "y"
        },
        {
         "hovertemplate": "<b>OLS trendline</b><br>y = 0.826317 * x + 0.0725951<br>R<sup>2</sup>=0.726689<br><br>Mean average precision - Standard CP=%{x}<br>Mean average precision - CP + MitoBrilliant=%{y} <b>(trend)</b><extra></extra>",
         "legendgroup": "Overall Trendline",
         "line": {
          "color": "#EF553B"
         },
         "mode": "lines",
         "name": "Overall Trendline",
         "showlegend": true,
         "type": "scatter",
         "x": [
          0.0080332999614717,
          0.0100917990220209,
          0.0110762565965278,
          0.011663876467995,
          0.0147191056292627,
          0.0150193407677918,
          0.0154079521523467,
          0.0154930737015808,
          0.0156393740585514,
          0.017578684743016,
          0.0181747663103683,
          0.0211695068186132,
          0.0233801007027194,
          0.0238431850113865,
          0.0263200192433433,
          0.0268981326457728,
          0.0310474514437055,
          0.0394905434933731,
          0.0433579017366559,
          0.045028432148368,
          0.0484138908748976,
          0.0565017143205006,
          0.0655699953550348,
          0.0751907630145189,
          0.0971656631828945,
          0.1048345644743013,
          0.1186731952613619,
          0.1236165081603947,
          0.1253876015988353,
          0.1291173127966729,
          0.1298944286339244,
          0.1365085928096441,
          0.1738168196307123,
          0.1762929967714251,
          0.1784945554351246,
          0.1882316051861195,
          0.1965126592157808,
          0.1992880588881083,
          0.2037167657921614,
          0.2138536977809366,
          0.2248132294830504,
          0.2518778312022093,
          0.2862136202447207,
          0.3301868721360246,
          0.3396643842722274,
          0.3839489267989467,
          0.3972264202838758,
          0.4227250258428748,
          0.4437509212047515,
          0.4493806573112204,
          0.4852411033797771,
          0.4884690845217161,
          0.4889772727272727,
          0.5134242212230108,
          0.5149426842442,
          0.525020664946182,
          0.6168650793650794,
          0.6197956684237172,
          0.6329365079365079,
          0.6476907230196705,
          0.6494021851164709,
          0.6779100529100529,
          0.6974747474747475,
          0.7093142968142968,
          0.7826388888888889,
          0.7980158730158731,
          0.8409455128205128,
          0.8523809523809525,
          0.856060606060606,
          0.861111111111111,
          0.8752976190476192,
          0.8824404761904762,
          0.9027777777777778,
          0.9305555555555556,
          0.9375,
          0.9666666666666668,
          0.9791666666666666,
          1,
          1,
          1,
          1,
          1,
          1,
          1,
          1,
          1,
          1,
          1,
          1,
          1
         ],
         "xaxis": "x",
         "y": [
          0.07923312214219375,
          0.08093409556037323,
          0.08174756990080599,
          0.082233130375676,
          0.08475771913520484,
          0.08500580862896696,
          0.08532692494512086,
          0.08539726235519615,
          0.08551815287346083,
          0.08712063887264593,
          0.08761319139334639,
          0.09008779733147632,
          0.09191444933599635,
          0.09229710391889842,
          0.09434375493299775,
          0.09482146004789031,
          0.09825011401917412,
          0.10522678717825519,
          0.10842245226087432,
          0.10980284046655299,
          0.11260030363402915,
          0.11928341219383058,
          0.12677668983672083,
          0.13472649674452547,
          0.15288473726545262,
          0.15922168319529195,
          0.17065678344086133,
          0.1747415284864846,
          0.17620501366247293,
          0.17928693860797937,
          0.17992908288064102,
          0.18539448126822772,
          0.21622291511027047,
          0.21826902315849686,
          0.22008820920394326,
          0.2281341020174745,
          0.23497688035481507,
          0.23727024116217618,
          0.24092975836336084,
          0.24930608079422936,
          0.2583621316121576,
          0.28072608065647825,
          0.3090983376921208,
          0.3454341971595831,
          0.3532656295479241,
          0.38985871385765997,
          0.4008301366339668,
          0.42190007593475504,
          0.4392741373513456,
          0.4439260857792035,
          0.4735581933160417,
          0.4762255300285287,
          0.4766454547424382,
          0.4968463916016269,
          0.4981011238893561,
          0.5064287338511619,
          0.5823213638400848,
          0.5847429603245742,
          0.5956014635574375,
          0.6077931269609014,
          0.6092073377267312,
          0.632763882519577,
          0.6489305284156736,
          0.658713753045577,
          0.7193031331468533,
          0.7320094013949379,
          0.7674829061242674,
          0.7769322078462301,
          0.7799727693976777,
          0.7841460891741746,
          0.795868646332085,
          0.8017709128731305,
          0.8185759773302745,
          0.8415292361010078,
          0.8472675507936911,
          0.871368472502961,
          0.8816974389497909,
          0.8989123830278408,
          0.8989123830278408,
          0.8989123830278408,
          0.8989123830278408,
          0.8989123830278408,
          0.8989123830278408,
          0.8989123830278408,
          0.8989123830278408,
          0.8989123830278408,
          0.8989123830278408,
          0.8989123830278408,
          0.8989123830278408,
          0.8989123830278408
         ],
         "yaxis": "y"
        }
       ],
       "layout": {
        "font": {
         "color": "Black",
         "family": "sans serif",
         "size": 20
        },
        "height": 800,
        "legend": {
         "orientation": "h",
         "title": {
          "text": "color"
         },
         "tracegroupgap": 0
        },
        "margin": {
         "t": 60
        },
        "shapes": [
         {
          "line": {
           "color": "grey",
           "dash": "dashdot"
          },
          "type": "line",
          "x0": 0,
          "x1": 1,
          "y0": 0,
          "y1": 1
         }
        ],
        "template": {
         "data": {
          "bar": [
           {
            "error_x": {
             "color": "#2a3f5f"
            },
            "error_y": {
             "color": "#2a3f5f"
            },
            "marker": {
             "line": {
              "color": "#E5ECF6",
              "width": 0.5
             },
             "pattern": {
              "fillmode": "overlay",
              "size": 10,
              "solidity": 0.2
             }
            },
            "type": "bar"
           }
          ],
          "barpolar": [
           {
            "marker": {
             "line": {
              "color": "#E5ECF6",
              "width": 0.5
             },
             "pattern": {
              "fillmode": "overlay",
              "size": 10,
              "solidity": 0.2
             }
            },
            "type": "barpolar"
           }
          ],
          "carpet": [
           {
            "aaxis": {
             "endlinecolor": "#2a3f5f",
             "gridcolor": "white",
             "linecolor": "white",
             "minorgridcolor": "white",
             "startlinecolor": "#2a3f5f"
            },
            "baxis": {
             "endlinecolor": "#2a3f5f",
             "gridcolor": "white",
             "linecolor": "white",
             "minorgridcolor": "white",
             "startlinecolor": "#2a3f5f"
            },
            "type": "carpet"
           }
          ],
          "choropleth": [
           {
            "colorbar": {
             "outlinewidth": 0,
             "ticks": ""
            },
            "type": "choropleth"
           }
          ],
          "contour": [
           {
            "colorbar": {
             "outlinewidth": 0,
             "ticks": ""
            },
            "colorscale": [
             [
              0,
              "#0d0887"
             ],
             [
              0.1111111111111111,
              "#46039f"
             ],
             [
              0.2222222222222222,
              "#7201a8"
             ],
             [
              0.3333333333333333,
              "#9c179e"
             ],
             [
              0.4444444444444444,
              "#bd3786"
             ],
             [
              0.5555555555555556,
              "#d8576b"
             ],
             [
              0.6666666666666666,
              "#ed7953"
             ],
             [
              0.7777777777777778,
              "#fb9f3a"
             ],
             [
              0.8888888888888888,
              "#fdca26"
             ],
             [
              1,
              "#f0f921"
             ]
            ],
            "type": "contour"
           }
          ],
          "contourcarpet": [
           {
            "colorbar": {
             "outlinewidth": 0,
             "ticks": ""
            },
            "type": "contourcarpet"
           }
          ],
          "heatmap": [
           {
            "colorbar": {
             "outlinewidth": 0,
             "ticks": ""
            },
            "colorscale": [
             [
              0,
              "#0d0887"
             ],
             [
              0.1111111111111111,
              "#46039f"
             ],
             [
              0.2222222222222222,
              "#7201a8"
             ],
             [
              0.3333333333333333,
              "#9c179e"
             ],
             [
              0.4444444444444444,
              "#bd3786"
             ],
             [
              0.5555555555555556,
              "#d8576b"
             ],
             [
              0.6666666666666666,
              "#ed7953"
             ],
             [
              0.7777777777777778,
              "#fb9f3a"
             ],
             [
              0.8888888888888888,
              "#fdca26"
             ],
             [
              1,
              "#f0f921"
             ]
            ],
            "type": "heatmap"
           }
          ],
          "heatmapgl": [
           {
            "colorbar": {
             "outlinewidth": 0,
             "ticks": ""
            },
            "colorscale": [
             [
              0,
              "#0d0887"
             ],
             [
              0.1111111111111111,
              "#46039f"
             ],
             [
              0.2222222222222222,
              "#7201a8"
             ],
             [
              0.3333333333333333,
              "#9c179e"
             ],
             [
              0.4444444444444444,
              "#bd3786"
             ],
             [
              0.5555555555555556,
              "#d8576b"
             ],
             [
              0.6666666666666666,
              "#ed7953"
             ],
             [
              0.7777777777777778,
              "#fb9f3a"
             ],
             [
              0.8888888888888888,
              "#fdca26"
             ],
             [
              1,
              "#f0f921"
             ]
            ],
            "type": "heatmapgl"
           }
          ],
          "histogram": [
           {
            "marker": {
             "pattern": {
              "fillmode": "overlay",
              "size": 10,
              "solidity": 0.2
             }
            },
            "type": "histogram"
           }
          ],
          "histogram2d": [
           {
            "colorbar": {
             "outlinewidth": 0,
             "ticks": ""
            },
            "colorscale": [
             [
              0,
              "#0d0887"
             ],
             [
              0.1111111111111111,
              "#46039f"
             ],
             [
              0.2222222222222222,
              "#7201a8"
             ],
             [
              0.3333333333333333,
              "#9c179e"
             ],
             [
              0.4444444444444444,
              "#bd3786"
             ],
             [
              0.5555555555555556,
              "#d8576b"
             ],
             [
              0.6666666666666666,
              "#ed7953"
             ],
             [
              0.7777777777777778,
              "#fb9f3a"
             ],
             [
              0.8888888888888888,
              "#fdca26"
             ],
             [
              1,
              "#f0f921"
             ]
            ],
            "type": "histogram2d"
           }
          ],
          "histogram2dcontour": [
           {
            "colorbar": {
             "outlinewidth": 0,
             "ticks": ""
            },
            "colorscale": [
             [
              0,
              "#0d0887"
             ],
             [
              0.1111111111111111,
              "#46039f"
             ],
             [
              0.2222222222222222,
              "#7201a8"
             ],
             [
              0.3333333333333333,
              "#9c179e"
             ],
             [
              0.4444444444444444,
              "#bd3786"
             ],
             [
              0.5555555555555556,
              "#d8576b"
             ],
             [
              0.6666666666666666,
              "#ed7953"
             ],
             [
              0.7777777777777778,
              "#fb9f3a"
             ],
             [
              0.8888888888888888,
              "#fdca26"
             ],
             [
              1,
              "#f0f921"
             ]
            ],
            "type": "histogram2dcontour"
           }
          ],
          "mesh3d": [
           {
            "colorbar": {
             "outlinewidth": 0,
             "ticks": ""
            },
            "type": "mesh3d"
           }
          ],
          "parcoords": [
           {
            "line": {
             "colorbar": {
              "outlinewidth": 0,
              "ticks": ""
             }
            },
            "type": "parcoords"
           }
          ],
          "pie": [
           {
            "automargin": true,
            "type": "pie"
           }
          ],
          "scatter": [
           {
            "fillpattern": {
             "fillmode": "overlay",
             "size": 10,
             "solidity": 0.2
            },
            "type": "scatter"
           }
          ],
          "scatter3d": [
           {
            "line": {
             "colorbar": {
              "outlinewidth": 0,
              "ticks": ""
             }
            },
            "marker": {
             "colorbar": {
              "outlinewidth": 0,
              "ticks": ""
             }
            },
            "type": "scatter3d"
           }
          ],
          "scattercarpet": [
           {
            "marker": {
             "colorbar": {
              "outlinewidth": 0,
              "ticks": ""
             }
            },
            "type": "scattercarpet"
           }
          ],
          "scattergeo": [
           {
            "marker": {
             "colorbar": {
              "outlinewidth": 0,
              "ticks": ""
             }
            },
            "type": "scattergeo"
           }
          ],
          "scattergl": [
           {
            "marker": {
             "colorbar": {
              "outlinewidth": 0,
              "ticks": ""
             }
            },
            "type": "scattergl"
           }
          ],
          "scattermapbox": [
           {
            "marker": {
             "colorbar": {
              "outlinewidth": 0,
              "ticks": ""
             }
            },
            "type": "scattermapbox"
           }
          ],
          "scatterpolar": [
           {
            "marker": {
             "colorbar": {
              "outlinewidth": 0,
              "ticks": ""
             }
            },
            "type": "scatterpolar"
           }
          ],
          "scatterpolargl": [
           {
            "marker": {
             "colorbar": {
              "outlinewidth": 0,
              "ticks": ""
             }
            },
            "type": "scatterpolargl"
           }
          ],
          "scatterternary": [
           {
            "marker": {
             "colorbar": {
              "outlinewidth": 0,
              "ticks": ""
             }
            },
            "type": "scatterternary"
           }
          ],
          "surface": [
           {
            "colorbar": {
             "outlinewidth": 0,
             "ticks": ""
            },
            "colorscale": [
             [
              0,
              "#0d0887"
             ],
             [
              0.1111111111111111,
              "#46039f"
             ],
             [
              0.2222222222222222,
              "#7201a8"
             ],
             [
              0.3333333333333333,
              "#9c179e"
             ],
             [
              0.4444444444444444,
              "#bd3786"
             ],
             [
              0.5555555555555556,
              "#d8576b"
             ],
             [
              0.6666666666666666,
              "#ed7953"
             ],
             [
              0.7777777777777778,
              "#fb9f3a"
             ],
             [
              0.8888888888888888,
              "#fdca26"
             ],
             [
              1,
              "#f0f921"
             ]
            ],
            "type": "surface"
           }
          ],
          "table": [
           {
            "cells": {
             "fill": {
              "color": "#EBF0F8"
             },
             "line": {
              "color": "white"
             }
            },
            "header": {
             "fill": {
              "color": "#C8D4E3"
             },
             "line": {
              "color": "white"
             }
            },
            "type": "table"
           }
          ]
         },
         "layout": {
          "annotationdefaults": {
           "arrowcolor": "#2a3f5f",
           "arrowhead": 0,
           "arrowwidth": 1
          },
          "autotypenumbers": "strict",
          "coloraxis": {
           "colorbar": {
            "outlinewidth": 0,
            "ticks": ""
           }
          },
          "colorscale": {
           "diverging": [
            [
             0,
             "#8e0152"
            ],
            [
             0.1,
             "#c51b7d"
            ],
            [
             0.2,
             "#de77ae"
            ],
            [
             0.3,
             "#f1b6da"
            ],
            [
             0.4,
             "#fde0ef"
            ],
            [
             0.5,
             "#f7f7f7"
            ],
            [
             0.6,
             "#e6f5d0"
            ],
            [
             0.7,
             "#b8e186"
            ],
            [
             0.8,
             "#7fbc41"
            ],
            [
             0.9,
             "#4d9221"
            ],
            [
             1,
             "#276419"
            ]
           ],
           "sequential": [
            [
             0,
             "#0d0887"
            ],
            [
             0.1111111111111111,
             "#46039f"
            ],
            [
             0.2222222222222222,
             "#7201a8"
            ],
            [
             0.3333333333333333,
             "#9c179e"
            ],
            [
             0.4444444444444444,
             "#bd3786"
            ],
            [
             0.5555555555555556,
             "#d8576b"
            ],
            [
             0.6666666666666666,
             "#ed7953"
            ],
            [
             0.7777777777777778,
             "#fb9f3a"
            ],
            [
             0.8888888888888888,
             "#fdca26"
            ],
            [
             1,
             "#f0f921"
            ]
           ],
           "sequentialminus": [
            [
             0,
             "#0d0887"
            ],
            [
             0.1111111111111111,
             "#46039f"
            ],
            [
             0.2222222222222222,
             "#7201a8"
            ],
            [
             0.3333333333333333,
             "#9c179e"
            ],
            [
             0.4444444444444444,
             "#bd3786"
            ],
            [
             0.5555555555555556,
             "#d8576b"
            ],
            [
             0.6666666666666666,
             "#ed7953"
            ],
            [
             0.7777777777777778,
             "#fb9f3a"
            ],
            [
             0.8888888888888888,
             "#fdca26"
            ],
            [
             1,
             "#f0f921"
            ]
           ]
          },
          "colorway": [
           "#636efa",
           "#EF553B",
           "#00cc96",
           "#ab63fa",
           "#FFA15A",
           "#19d3f3",
           "#FF6692",
           "#B6E880",
           "#FF97FF",
           "#FECB52"
          ],
          "font": {
           "color": "#2a3f5f"
          },
          "geo": {
           "bgcolor": "white",
           "lakecolor": "white",
           "landcolor": "#E5ECF6",
           "showlakes": true,
           "showland": true,
           "subunitcolor": "white"
          },
          "hoverlabel": {
           "align": "left"
          },
          "hovermode": "closest",
          "mapbox": {
           "style": "light"
          },
          "paper_bgcolor": "white",
          "plot_bgcolor": "#E5ECF6",
          "polar": {
           "angularaxis": {
            "gridcolor": "white",
            "linecolor": "white",
            "ticks": ""
           },
           "bgcolor": "#E5ECF6",
           "radialaxis": {
            "gridcolor": "white",
            "linecolor": "white",
            "ticks": ""
           }
          },
          "scene": {
           "xaxis": {
            "backgroundcolor": "#E5ECF6",
            "gridcolor": "white",
            "gridwidth": 2,
            "linecolor": "white",
            "showbackground": true,
            "ticks": "",
            "zerolinecolor": "white"
           },
           "yaxis": {
            "backgroundcolor": "#E5ECF6",
            "gridcolor": "white",
            "gridwidth": 2,
            "linecolor": "white",
            "showbackground": true,
            "ticks": "",
            "zerolinecolor": "white"
           },
           "zaxis": {
            "backgroundcolor": "#E5ECF6",
            "gridcolor": "white",
            "gridwidth": 2,
            "linecolor": "white",
            "showbackground": true,
            "ticks": "",
            "zerolinecolor": "white"
           }
          },
          "shapedefaults": {
           "line": {
            "color": "#2a3f5f"
           }
          },
          "ternary": {
           "aaxis": {
            "gridcolor": "white",
            "linecolor": "white",
            "ticks": ""
           },
           "baxis": {
            "gridcolor": "white",
            "linecolor": "white",
            "ticks": ""
           },
           "bgcolor": "#E5ECF6",
           "caxis": {
            "gridcolor": "white",
            "linecolor": "white",
            "ticks": ""
           }
          },
          "title": {
           "x": 0.05
          },
          "xaxis": {
           "automargin": true,
           "gridcolor": "white",
           "linecolor": "white",
           "ticks": "",
           "title": {
            "standoff": 15
           },
           "zerolinecolor": "white",
           "zerolinewidth": 2
          },
          "yaxis": {
           "automargin": true,
           "gridcolor": "white",
           "linecolor": "white",
           "ticks": "",
           "title": {
            "standoff": 15
           },
           "zerolinecolor": "white",
           "zerolinewidth": 2
          }
         }
        },
        "width": 1000,
        "xaxis": {
         "anchor": "y",
         "domain": [
          0,
          1
         ],
         "title": {
          "text": "Mean average precision - Standard CP"
         }
        },
        "yaxis": {
         "anchor": "x",
         "domain": [
          0,
          1
         ],
         "title": {
          "text": "Mean average precision - CP + MitoBrilliant"
         }
        }
       }
      }
     },
     "metadata": {},
     "output_type": "display_data"
    }
   ],
   "source": [
    "scatter_plot_comparison_colorblack_trendline(df_treatment, col1='Standard CP', col2='CP + MitoBrilliant')"
   ]
  },
  {
   "cell_type": "code",
   "execution_count": 20,
   "metadata": {},
   "outputs": [
    {
     "data": {
      "application/vnd.plotly.v1+json": {
       "config": {
        "plotlyServerURL": "https://plot.ly"
       },
       "data": [
        {
         "hovertemplate": "<b>%{hovertext}</b><br><br>color=Other<br>Mean average precision - Standard CP=%{x}<br>Mean average precision - CP + Phenovue phalloidin 400LS=%{y}<extra></extra>",
         "hovertext": [
          "tumor necrosis factor production inhibitor",
          "antihistamine",
          "acetylcholine receptor antagonist",
          "pyruvate dehydrogenase kinase inhibitor",
          "protein tyrosine kinase inhibitor",
          "antihistamine",
          "CHK inhibitor",
          "glycogen synthase kinase inhibitor",
          "histone lysine methyltransferase inhibitor",
          "tumor necrosis factor production inhibitor",
          "inosine monophosphate dehydrogenase inhibitor",
          "CDC inhibitor",
          "PARP inhibitor",
          "ubiquitin specific protease inhibitor",
          "glycogen synthase kinase inhibitor",
          "JAK inhibitor",
          "hepatocyte growth factor receptor inhibitor",
          "bromodomain inhibitor",
          "MEK inhibitor",
          "Aurora kinase inhibitor",
          "LXR agonist",
          "phospholipase inhibitor",
          "tricyclic antidepressant",
          "histone lysine demethylase inhibitor",
          "phosphodiesterase inhibitor",
          "beta-catenin inhibitor",
          "JNK inhibitor",
          "LXR agonist",
          "DNA inhibitor",
          "kinesin inhibitor",
          "RAF inhibitor",
          "FGFR inhibitor",
          "AMPK inhibitor",
          "phospholipase inhibitor",
          "Aurora kinase inhibitor",
          "JAK inhibitor",
          "tricyclic antidepressant",
          "PARP inhibitor",
          "BCL inhibitor",
          "inosine monophosphate dehydrogenase inhibitor",
          "histone lysine methyltransferase inhibitor",
          "HDAC inhibitor",
          "BCL inhibitor",
          "phosphodiesterase inhibitor",
          "kinesin inhibitor",
          "CDC inhibitor",
          "protein tyrosine kinase inhibitor",
          "MAP kinase inhibitor",
          "ER stressor (SERCA inhibitor)",
          "protein arginine N-methyltransferase inhibitor",
          "Apoptosis inducer (transcription inhibitor)",
          "FGFR inhibitor",
          "DNA inhibitor",
          "smoothened receptor agonist",
          "JNK inhibitor",
          "CHK inhibitor",
          "EGFR inhibitor",
          "androgen receptor modulator",
          "HMGCR inhibitor",
          "acetylcholine receptor antagonist",
          "mTOR inhibitor",
          "EGFR inhibitor",
          "HMGCR inhibitor",
          "IGF-1 inhibitor",
          "protein arginine N-methyltransferase inhibitor",
          "MAP kinase inhibitor",
          "p38 MAPK inhibitor",
          "ubiquitin specific protease inhibitor",
          "histone lysine demethylase inhibitor",
          "androgen receptor modulator",
          "mTOR inhibitor",
          "smoothened receptor agonist",
          "hypoxia inducible factor inhibitor"
         ],
         "legendgroup": "Other",
         "marker": {
          "color": "lightgrey",
          "symbol": "circle"
         },
         "mode": "markers",
         "name": "Other",
         "orientation": "v",
         "showlegend": true,
         "type": "scatter",
         "x": [
          0.0751907630145189,
          0.0233801007027194,
          0.0433579017366559,
          0.1253876015988353,
          0.1738168196307123,
          0.0211695068186132,
          1,
          0.6974747474747475,
          0.0154930737015808,
          0.0238431850113865,
          1,
          1,
          0.0268981326457728,
          0.1236165081603947,
          1,
          0.1365085928096441,
          0.0484138908748976,
          1,
          0.1992880588881083,
          0.8752976190476192,
          1,
          0.0100917990220209,
          0.0110762565965278,
          0.0655699953550348,
          0.1048345644743013,
          0.0147191056292627,
          0.011663876467995,
          0.3301868721360246,
          0.045028432148368,
          1,
          0.0971656631828945,
          0.8824404761904762,
          0.1882316051861195,
          0.9305555555555556,
          0.4852411033797771,
          0.1762929967714251,
          0.017578684743016,
          0.5149426842442,
          1,
          0.2037167657921614,
          1,
          0.4493806573112204,
          0.4884690845217161,
          0.0080332999614717,
          0.6329365079365079,
          0.1298944286339244,
          0.0310474514437055,
          0.0156393740585514,
          1,
          0.7093142968142968,
          0.6779100529100529,
          0.4889772727272727,
          0.2138536977809366,
          0.2248132294830504,
          0.0154079521523467,
          0.8523809523809525,
          0.0565017143205006,
          0.0181747663103683,
          0.1291173127966729,
          0.0394905434933731,
          1,
          1,
          0.0150193407677918,
          0.6476907230196705,
          0.1965126592157808,
          0.3396643842722274,
          0.2862136202447207,
          0.1186731952613619,
          0.7980158730158731,
          0.1784945554351246,
          0.8409455128205128,
          0.3839489267989467,
          0.6168650793650794
         ],
         "xaxis": "x",
         "y": [
          0.1112377281512826,
          0.010965474179758,
          0.122123155033031,
          0.0919639220595114,
          0.0465159455982445,
          0.0354565709463584,
          0.7405753968253969,
          0.6870879120879121,
          0.018788278316208,
          0.0112398712840726,
          1,
          0.8694444444444445,
          0.0301508788059263,
          0.0201822185136621,
          1,
          0.0245637015938576,
          0.0107791168214179,
          1,
          0.2915872797940906,
          1,
          0.9583333333333334,
          0.0444810835599682,
          0.1361308789633265,
          0.0288476652710169,
          0.0174871651039855,
          0.0129714960554163,
          0.0120839764254917,
          0.1670026143862696,
          0.0096420458353618,
          0.8669642857142857,
          0.0315740660679131,
          0.790909090909091,
          0.105425506775315,
          0.9791666666666666,
          0.4595219017094017,
          0.1163663460822716,
          0.0308560216324643,
          0.7041666666666666,
          0.9583333333333334,
          0.2617092042910354,
          0.7038392857142857,
          0.5387896825396825,
          0.3395326564969422,
          0.0086338866621751,
          0.480106964384305,
          0.0225451889316297,
          0.0227245074953545,
          0.1904324197052552,
          1,
          0.8888888888888888,
          0.4832902001380262,
          0.7786630036630037,
          0.4536352657004831,
          0.1617616659187257,
          0.0168998578257072,
          0.5600560897435898,
          0.1444461118846186,
          0.0293955481490052,
          0.2513746879129173,
          0.1450295844577917,
          1,
          1,
          0.0207472029477666,
          0.6679197994987469,
          0.0163489074159451,
          0.6117723842018197,
          0.1799989628926765,
          0.1043851654693055,
          1,
          0.0682356632559584,
          0.9208333333333332,
          0.2679947084742481,
          0.4835733153334221
         ],
         "yaxis": "y"
        },
        {
         "hovertemplate": "<b>%{hovertext}</b><br><br>color=hepatocyte growth factor receptor inhibitor<br>Mean average precision - Standard CP=%{x}<br>Mean average precision - CP + Phenovue phalloidin 400LS=%{y}<extra></extra>",
         "hovertext": [
          "hepatocyte growth factor receptor inhibitor"
         ],
         "legendgroup": "hepatocyte growth factor receptor inhibitor",
         "marker": {
          "color": "#00cc96",
          "symbol": "circle"
         },
         "mode": "markers",
         "name": "hepatocyte growth factor receptor inhibitor",
         "orientation": "v",
         "showlegend": true,
         "type": "scatter",
         "x": [
          0.4437509212047515
         ],
         "xaxis": "x",
         "y": [
          1
         ],
         "yaxis": "y"
        },
        {
         "hovertemplate": "<b>%{hovertext}</b><br><br>color=bromodomain inhibitor<br>Mean average precision - Standard CP=%{x}<br>Mean average precision - CP + Phenovue phalloidin 400LS=%{y}<extra></extra>",
         "hovertext": [
          "bromodomain inhibitor"
         ],
         "legendgroup": "bromodomain inhibitor",
         "marker": {
          "color": "#ab63fa",
          "symbol": "circle"
         },
         "mode": "markers",
         "name": "bromodomain inhibitor",
         "orientation": "v",
         "showlegend": true,
         "type": "scatter",
         "x": [
          0.2518778312022093
         ],
         "xaxis": "x",
         "y": [
          0.6296642092278282
         ],
         "yaxis": "y"
        },
        {
         "hovertemplate": "<b>%{hovertext}</b><br><br>color=Apoptosis inducer (ATP-competitive kinase inhibitor)<br>Mean average precision - Standard CP=%{x}<br>Mean average precision - CP + Phenovue phalloidin 400LS=%{y}<extra></extra>",
         "hovertext": [
          "Apoptosis inducer (ATP-competitive kinase inhibitor)"
         ],
         "legendgroup": "Apoptosis inducer (ATP-competitive kinase inhibitor)",
         "marker": {
          "color": "#FFA15A",
          "symbol": "circle"
         },
         "mode": "markers",
         "name": "Apoptosis inducer (ATP-competitive kinase inhibitor)",
         "orientation": "v",
         "showlegend": true,
         "type": "scatter",
         "x": [
          1
         ],
         "xaxis": "x",
         "y": [
          0.6898656898656899
         ],
         "yaxis": "y"
        },
        {
         "hovertemplate": "<b>%{hovertext}</b><br><br>color=IGF-1 inhibitor<br>Mean average precision - Standard CP=%{x}<br>Mean average precision - CP + Phenovue phalloidin 400LS=%{y}<extra></extra>",
         "hovertext": [
          "IGF-1 inhibitor"
         ],
         "legendgroup": "IGF-1 inhibitor",
         "marker": {
          "color": "#19d3f3",
          "symbol": "circle"
         },
         "mode": "markers",
         "name": "IGF-1 inhibitor",
         "orientation": "v",
         "showlegend": true,
         "type": "scatter",
         "x": [
          0.9027777777777778
         ],
         "xaxis": "x",
         "y": [
          0.5790053960180563
         ],
         "yaxis": "y"
        },
        {
         "hovertemplate": "<b>%{hovertext}</b><br><br>color=phosphoinositide dependent kinase inhibitor<br>Mean average precision - Standard CP=%{x}<br>Mean average precision - CP + Phenovue phalloidin 400LS=%{y}<extra></extra>",
         "hovertext": [
          "phosphoinositide dependent kinase inhibitor",
          "phosphoinositide dependent kinase inhibitor"
         ],
         "legendgroup": "phosphoinositide dependent kinase inhibitor",
         "marker": {
          "color": "#FF6692",
          "symbol": "circle"
         },
         "mode": "markers",
         "name": "phosphoinositide dependent kinase inhibitor",
         "orientation": "v",
         "showlegend": true,
         "type": "scatter",
         "x": [
          0.6197956684237172,
          0.856060606060606
         ],
         "xaxis": "x",
         "y": [
          1,
          0.5264890304412363
         ],
         "yaxis": "y"
        },
        {
         "hovertemplate": "<b>%{hovertext}</b><br><br>color=Bcr-Abl kinase inhibitor<br>Mean average precision - Standard CP=%{x}<br>Mean average precision - CP + Phenovue phalloidin 400LS=%{y}<extra></extra>",
         "hovertext": [
          "Bcr-Abl kinase inhibitor",
          "Bcr-Abl kinase inhibitor"
         ],
         "legendgroup": "Bcr-Abl kinase inhibitor",
         "marker": {
          "color": "#B6E880",
          "symbol": "circle"
         },
         "mode": "markers",
         "name": "Bcr-Abl kinase inhibitor",
         "orientation": "v",
         "showlegend": true,
         "type": "scatter",
         "x": [
          0.861111111111111,
          0.3972264202838758
         ],
         "xaxis": "x",
         "y": [
          0.5147837066315327,
          0.7873093681917211
         ],
         "yaxis": "y"
        },
        {
         "hovertemplate": "<b>%{hovertext}</b><br><br>color=pyruvate dehydrogenase kinase inhibitor<br>Mean average precision - Standard CP=%{x}<br>Mean average precision - CP + Phenovue phalloidin 400LS=%{y}<extra></extra>",
         "hovertext": [
          "pyruvate dehydrogenase kinase inhibitor"
         ],
         "legendgroup": "pyruvate dehydrogenase kinase inhibitor",
         "marker": {
          "color": "#FF97FF",
          "symbol": "circle"
         },
         "mode": "markers",
         "name": "pyruvate dehydrogenase kinase inhibitor",
         "orientation": "v",
         "showlegend": true,
         "type": "scatter",
         "x": [
          0.525020664946182
         ],
         "xaxis": "x",
         "y": [
          0.834090909090909
         ],
         "yaxis": "y"
        },
        {
         "hovertemplate": "<b>%{hovertext}</b><br><br>color=MEK inhibitor<br>Mean average precision - Standard CP=%{x}<br>Mean average precision - CP + Phenovue phalloidin 400LS=%{y}<extra></extra>",
         "hovertext": [
          "MEK inhibitor"
         ],
         "legendgroup": "MEK inhibitor",
         "marker": {
          "color": "#FECB52",
          "symbol": "circle"
         },
         "mode": "markers",
         "name": "MEK inhibitor",
         "orientation": "v",
         "showlegend": true,
         "type": "scatter",
         "x": [
          0.6494021851164709
         ],
         "xaxis": "x",
         "y": [
          0.9791666666666666
         ],
         "yaxis": "y"
        },
        {
         "hovertemplate": "<b>%{hovertext}</b><br><br>color=HDAC inhibitor<br>Mean average precision - Standard CP=%{x}<br>Mean average precision - CP + Phenovue phalloidin 400LS=%{y}<extra></extra>",
         "hovertext": [
          "HDAC inhibitor"
         ],
         "legendgroup": "HDAC inhibitor",
         "marker": {
          "color": "#636efa",
          "symbol": "circle"
         },
         "mode": "markers",
         "name": "HDAC inhibitor",
         "orientation": "v",
         "showlegend": true,
         "type": "scatter",
         "x": [
          0.5134242212230108
         ],
         "xaxis": "x",
         "y": [
          0.8396915584415584
         ],
         "yaxis": "y"
        },
        {
         "hovertemplate": "<b>%{hovertext}</b><br><br>color=CDK inhibitor<br>Mean average precision - Standard CP=%{x}<br>Mean average precision - CP + Phenovue phalloidin 400LS=%{y}<extra></extra>",
         "hovertext": [
          "CDK inhibitor",
          "CDK inhibitor"
         ],
         "legendgroup": "CDK inhibitor",
         "marker": {
          "color": "#EF553B",
          "symbol": "circle"
         },
         "mode": "markers",
         "name": "CDK inhibitor",
         "orientation": "v",
         "showlegend": true,
         "type": "scatter",
         "x": [
          0.7826388888888889,
          0.4227250258428748
         ],
         "xaxis": "x",
         "y": [
          0.4640505328005328,
          1
         ],
         "yaxis": "y"
        },
        {
         "hovertemplate": "<b>%{hovertext}</b><br><br>color=RAF inhibitor<br>Mean average precision - Standard CP=%{x}<br>Mean average precision - CP + Phenovue phalloidin 400LS=%{y}<extra></extra>",
         "hovertext": [
          "RAF inhibitor"
         ],
         "legendgroup": "RAF inhibitor",
         "marker": {
          "color": "#00cc96",
          "symbol": "circle"
         },
         "mode": "markers",
         "name": "RAF inhibitor",
         "orientation": "v",
         "showlegend": true,
         "type": "scatter",
         "x": [
          0.9791666666666666
         ],
         "xaxis": "x",
         "y": [
          0.5644890410515411
         ],
         "yaxis": "y"
        },
        {
         "hovertemplate": "<b>%{hovertext}</b><br><br>color=p38 MAPK inhibitor<br>Mean average precision - Standard CP=%{x}<br>Mean average precision - CP + Phenovue phalloidin 400LS=%{y}<extra></extra>",
         "hovertext": [
          "p38 MAPK inhibitor"
         ],
         "legendgroup": "p38 MAPK inhibitor",
         "marker": {
          "color": "#ab63fa",
          "symbol": "circle"
         },
         "mode": "markers",
         "name": "p38 MAPK inhibitor",
         "orientation": "v",
         "showlegend": true,
         "type": "scatter",
         "x": [
          0.9375
         ],
         "xaxis": "x",
         "y": [
          0.5446661998132586
         ],
         "yaxis": "y"
        },
        {
         "hovertemplate": "<b>%{hovertext}</b><br><br>color=beta-catenin inhibitor<br>Mean average precision - Standard CP=%{x}<br>Mean average precision - CP + Phenovue phalloidin 400LS=%{y}<extra></extra>",
         "hovertext": [
          "beta-catenin inhibitor"
         ],
         "legendgroup": "beta-catenin inhibitor",
         "marker": {
          "color": "#FFA15A",
          "symbol": "circle"
         },
         "mode": "markers",
         "name": "beta-catenin inhibitor",
         "orientation": "v",
         "showlegend": true,
         "type": "scatter",
         "x": [
          0.9666666666666668
         ],
         "xaxis": "x",
         "y": [
          0.4906500226145805
         ],
         "yaxis": "y"
        },
        {
         "hovertemplate": "<b>%{hovertext}</b><br><br>color=hypoxia inducible factor inhibitor<br>Mean average precision - Standard CP=%{x}<br>Mean average precision - CP + Phenovue phalloidin 400LS=%{y}<extra></extra>",
         "hovertext": [
          "hypoxia inducible factor inhibitor"
         ],
         "legendgroup": "hypoxia inducible factor inhibitor",
         "marker": {
          "color": "#19d3f3",
          "symbol": "circle"
         },
         "mode": "markers",
         "name": "hypoxia inducible factor inhibitor",
         "orientation": "v",
         "showlegend": true,
         "type": "scatter",
         "x": [
          0.0263200192433433
         ],
         "xaxis": "x",
         "y": [
          0.4226190476190475
         ],
         "yaxis": "y"
        },
        {
         "hovertemplate": "<b>OLS trendline</b><br>y = 0.841944 * x + 0.0671<br>R<sup>2</sup>=0.727365<br><br>Mean average precision - Standard CP=%{x}<br>Mean average precision - CP + Phenovue phalloidin 400LS=%{y} <b>(trend)</b><extra></extra>",
         "legendgroup": "Overall Trendline",
         "line": {
          "color": "#FF6692"
         },
         "mode": "lines",
         "name": "Overall Trendline",
         "showlegend": true,
         "type": "scatter",
         "x": [
          0.0080332999614717,
          0.0100917990220209,
          0.0110762565965278,
          0.011663876467995,
          0.0147191056292627,
          0.0150193407677918,
          0.0154079521523467,
          0.0154930737015808,
          0.0156393740585514,
          0.017578684743016,
          0.0181747663103683,
          0.0211695068186132,
          0.0233801007027194,
          0.0238431850113865,
          0.0263200192433433,
          0.0268981326457728,
          0.0310474514437055,
          0.0394905434933731,
          0.0433579017366559,
          0.045028432148368,
          0.0484138908748976,
          0.0565017143205006,
          0.0655699953550348,
          0.0751907630145189,
          0.0971656631828945,
          0.1048345644743013,
          0.1186731952613619,
          0.1236165081603947,
          0.1253876015988353,
          0.1291173127966729,
          0.1298944286339244,
          0.1365085928096441,
          0.1738168196307123,
          0.1762929967714251,
          0.1784945554351246,
          0.1882316051861195,
          0.1965126592157808,
          0.1992880588881083,
          0.2037167657921614,
          0.2138536977809366,
          0.2248132294830504,
          0.2518778312022093,
          0.2862136202447207,
          0.3301868721360246,
          0.3396643842722274,
          0.3839489267989467,
          0.3972264202838758,
          0.4227250258428748,
          0.4437509212047515,
          0.4493806573112204,
          0.4852411033797771,
          0.4884690845217161,
          0.4889772727272727,
          0.5134242212230108,
          0.5149426842442,
          0.525020664946182,
          0.6168650793650794,
          0.6197956684237172,
          0.6329365079365079,
          0.6476907230196705,
          0.6494021851164709,
          0.6779100529100529,
          0.6974747474747475,
          0.7093142968142968,
          0.7826388888888889,
          0.7980158730158731,
          0.8409455128205128,
          0.8523809523809525,
          0.856060606060606,
          0.861111111111111,
          0.8752976190476192,
          0.8824404761904762,
          0.9027777777777778,
          0.9305555555555556,
          0.9375,
          0.9666666666666668,
          0.9791666666666666,
          1,
          1,
          1,
          1,
          1,
          1,
          1,
          1,
          1,
          1,
          1,
          1,
          1
         ],
         "xaxis": "x",
         "y": [
          0.07386357421855005,
          0.07559671592151052,
          0.07642557443783067,
          0.07692031768267643,
          0.07949265068635596,
          0.07974543197212446,
          0.08007262114103164,
          0.08014428875051739,
          0.0802674655129863,
          0.08190025723325345,
          0.08240212475534436,
          0.08492352967791912,
          0.08678472676189139,
          0.08717461799027185,
          0.08925997463725478,
          0.08974671396397745,
          0.09324020958192362,
          0.10034882343249729,
          0.10360492394775966,
          0.10501141762953453,
          0.10786178555782228,
          0.11467128300593683,
          0.12230627120501991,
          0.13040642240970235,
          0.14890806597617728,
          0.15536485427341287,
          0.16701621160875627,
          0.1711782060931309,
          0.17266936824949453,
          0.17580957760924348,
          0.17646386591638133,
          0.1820326242329912,
          0.21344407590975342,
          0.21552887932246026,
          0.21738246925344304,
          0.2255805235108726,
          0.23255271036212416,
          0.23488944250190483,
          0.23861816736396796,
          0.24715290022176825,
          0.25638021628028673,
          0.27916710543289835,
          0.3080759298448721,
          0.3450989618822397,
          0.35307849990504775,
          0.3903636213415893,
          0.40154253228234876,
          0.42301093977817267,
          0.4407135740868953,
          0.44545349872896944,
          0.4756459995463362,
          0.4783637801082432,
          0.4787916463088563,
          0.49937461705686637,
          0.5006530784547181,
          0.5091381776082615,
          0.5864660656136642,
          0.5889334585841568,
          0.5999973144818864,
          0.6124195428642765,
          0.6138604987480307,
          0.6378625376522209,
          0.6543349221704384,
          0.6643031641278365,
          0.7260383919025508,
          0.7389849571777019,
          0.7751293258900405,
          0.7847573298924297,
          0.7878553936063659,
          0.7921076379196121,
          0.804051888463784,
          0.8100657768496604,
          0.8271886535038924,
          0.8505759972267459,
          0.8564228331574595,
          0.8809795440664556,
          0.8915038487417397,
          0.9090443565338799,
          0.9090443565338799,
          0.9090443565338799,
          0.9090443565338799,
          0.9090443565338799,
          0.9090443565338799,
          0.9090443565338799,
          0.9090443565338799,
          0.9090443565338799,
          0.9090443565338799,
          0.9090443565338799,
          0.9090443565338799,
          0.9090443565338799
         ],
         "yaxis": "y"
        }
       ],
       "layout": {
        "font": {
         "color": "Black",
         "family": "sans serif",
         "size": 20
        },
        "height": 800,
        "legend": {
         "orientation": "h",
         "title": {
          "text": "color"
         },
         "tracegroupgap": 0
        },
        "margin": {
         "t": 60
        },
        "shapes": [
         {
          "line": {
           "color": "grey",
           "dash": "dashdot"
          },
          "type": "line",
          "x0": 0,
          "x1": 1,
          "y0": 0,
          "y1": 1
         }
        ],
        "template": {
         "data": {
          "bar": [
           {
            "error_x": {
             "color": "#2a3f5f"
            },
            "error_y": {
             "color": "#2a3f5f"
            },
            "marker": {
             "line": {
              "color": "#E5ECF6",
              "width": 0.5
             },
             "pattern": {
              "fillmode": "overlay",
              "size": 10,
              "solidity": 0.2
             }
            },
            "type": "bar"
           }
          ],
          "barpolar": [
           {
            "marker": {
             "line": {
              "color": "#E5ECF6",
              "width": 0.5
             },
             "pattern": {
              "fillmode": "overlay",
              "size": 10,
              "solidity": 0.2
             }
            },
            "type": "barpolar"
           }
          ],
          "carpet": [
           {
            "aaxis": {
             "endlinecolor": "#2a3f5f",
             "gridcolor": "white",
             "linecolor": "white",
             "minorgridcolor": "white",
             "startlinecolor": "#2a3f5f"
            },
            "baxis": {
             "endlinecolor": "#2a3f5f",
             "gridcolor": "white",
             "linecolor": "white",
             "minorgridcolor": "white",
             "startlinecolor": "#2a3f5f"
            },
            "type": "carpet"
           }
          ],
          "choropleth": [
           {
            "colorbar": {
             "outlinewidth": 0,
             "ticks": ""
            },
            "type": "choropleth"
           }
          ],
          "contour": [
           {
            "colorbar": {
             "outlinewidth": 0,
             "ticks": ""
            },
            "colorscale": [
             [
              0,
              "#0d0887"
             ],
             [
              0.1111111111111111,
              "#46039f"
             ],
             [
              0.2222222222222222,
              "#7201a8"
             ],
             [
              0.3333333333333333,
              "#9c179e"
             ],
             [
              0.4444444444444444,
              "#bd3786"
             ],
             [
              0.5555555555555556,
              "#d8576b"
             ],
             [
              0.6666666666666666,
              "#ed7953"
             ],
             [
              0.7777777777777778,
              "#fb9f3a"
             ],
             [
              0.8888888888888888,
              "#fdca26"
             ],
             [
              1,
              "#f0f921"
             ]
            ],
            "type": "contour"
           }
          ],
          "contourcarpet": [
           {
            "colorbar": {
             "outlinewidth": 0,
             "ticks": ""
            },
            "type": "contourcarpet"
           }
          ],
          "heatmap": [
           {
            "colorbar": {
             "outlinewidth": 0,
             "ticks": ""
            },
            "colorscale": [
             [
              0,
              "#0d0887"
             ],
             [
              0.1111111111111111,
              "#46039f"
             ],
             [
              0.2222222222222222,
              "#7201a8"
             ],
             [
              0.3333333333333333,
              "#9c179e"
             ],
             [
              0.4444444444444444,
              "#bd3786"
             ],
             [
              0.5555555555555556,
              "#d8576b"
             ],
             [
              0.6666666666666666,
              "#ed7953"
             ],
             [
              0.7777777777777778,
              "#fb9f3a"
             ],
             [
              0.8888888888888888,
              "#fdca26"
             ],
             [
              1,
              "#f0f921"
             ]
            ],
            "type": "heatmap"
           }
          ],
          "heatmapgl": [
           {
            "colorbar": {
             "outlinewidth": 0,
             "ticks": ""
            },
            "colorscale": [
             [
              0,
              "#0d0887"
             ],
             [
              0.1111111111111111,
              "#46039f"
             ],
             [
              0.2222222222222222,
              "#7201a8"
             ],
             [
              0.3333333333333333,
              "#9c179e"
             ],
             [
              0.4444444444444444,
              "#bd3786"
             ],
             [
              0.5555555555555556,
              "#d8576b"
             ],
             [
              0.6666666666666666,
              "#ed7953"
             ],
             [
              0.7777777777777778,
              "#fb9f3a"
             ],
             [
              0.8888888888888888,
              "#fdca26"
             ],
             [
              1,
              "#f0f921"
             ]
            ],
            "type": "heatmapgl"
           }
          ],
          "histogram": [
           {
            "marker": {
             "pattern": {
              "fillmode": "overlay",
              "size": 10,
              "solidity": 0.2
             }
            },
            "type": "histogram"
           }
          ],
          "histogram2d": [
           {
            "colorbar": {
             "outlinewidth": 0,
             "ticks": ""
            },
            "colorscale": [
             [
              0,
              "#0d0887"
             ],
             [
              0.1111111111111111,
              "#46039f"
             ],
             [
              0.2222222222222222,
              "#7201a8"
             ],
             [
              0.3333333333333333,
              "#9c179e"
             ],
             [
              0.4444444444444444,
              "#bd3786"
             ],
             [
              0.5555555555555556,
              "#d8576b"
             ],
             [
              0.6666666666666666,
              "#ed7953"
             ],
             [
              0.7777777777777778,
              "#fb9f3a"
             ],
             [
              0.8888888888888888,
              "#fdca26"
             ],
             [
              1,
              "#f0f921"
             ]
            ],
            "type": "histogram2d"
           }
          ],
          "histogram2dcontour": [
           {
            "colorbar": {
             "outlinewidth": 0,
             "ticks": ""
            },
            "colorscale": [
             [
              0,
              "#0d0887"
             ],
             [
              0.1111111111111111,
              "#46039f"
             ],
             [
              0.2222222222222222,
              "#7201a8"
             ],
             [
              0.3333333333333333,
              "#9c179e"
             ],
             [
              0.4444444444444444,
              "#bd3786"
             ],
             [
              0.5555555555555556,
              "#d8576b"
             ],
             [
              0.6666666666666666,
              "#ed7953"
             ],
             [
              0.7777777777777778,
              "#fb9f3a"
             ],
             [
              0.8888888888888888,
              "#fdca26"
             ],
             [
              1,
              "#f0f921"
             ]
            ],
            "type": "histogram2dcontour"
           }
          ],
          "mesh3d": [
           {
            "colorbar": {
             "outlinewidth": 0,
             "ticks": ""
            },
            "type": "mesh3d"
           }
          ],
          "parcoords": [
           {
            "line": {
             "colorbar": {
              "outlinewidth": 0,
              "ticks": ""
             }
            },
            "type": "parcoords"
           }
          ],
          "pie": [
           {
            "automargin": true,
            "type": "pie"
           }
          ],
          "scatter": [
           {
            "fillpattern": {
             "fillmode": "overlay",
             "size": 10,
             "solidity": 0.2
            },
            "type": "scatter"
           }
          ],
          "scatter3d": [
           {
            "line": {
             "colorbar": {
              "outlinewidth": 0,
              "ticks": ""
             }
            },
            "marker": {
             "colorbar": {
              "outlinewidth": 0,
              "ticks": ""
             }
            },
            "type": "scatter3d"
           }
          ],
          "scattercarpet": [
           {
            "marker": {
             "colorbar": {
              "outlinewidth": 0,
              "ticks": ""
             }
            },
            "type": "scattercarpet"
           }
          ],
          "scattergeo": [
           {
            "marker": {
             "colorbar": {
              "outlinewidth": 0,
              "ticks": ""
             }
            },
            "type": "scattergeo"
           }
          ],
          "scattergl": [
           {
            "marker": {
             "colorbar": {
              "outlinewidth": 0,
              "ticks": ""
             }
            },
            "type": "scattergl"
           }
          ],
          "scattermapbox": [
           {
            "marker": {
             "colorbar": {
              "outlinewidth": 0,
              "ticks": ""
             }
            },
            "type": "scattermapbox"
           }
          ],
          "scatterpolar": [
           {
            "marker": {
             "colorbar": {
              "outlinewidth": 0,
              "ticks": ""
             }
            },
            "type": "scatterpolar"
           }
          ],
          "scatterpolargl": [
           {
            "marker": {
             "colorbar": {
              "outlinewidth": 0,
              "ticks": ""
             }
            },
            "type": "scatterpolargl"
           }
          ],
          "scatterternary": [
           {
            "marker": {
             "colorbar": {
              "outlinewidth": 0,
              "ticks": ""
             }
            },
            "type": "scatterternary"
           }
          ],
          "surface": [
           {
            "colorbar": {
             "outlinewidth": 0,
             "ticks": ""
            },
            "colorscale": [
             [
              0,
              "#0d0887"
             ],
             [
              0.1111111111111111,
              "#46039f"
             ],
             [
              0.2222222222222222,
              "#7201a8"
             ],
             [
              0.3333333333333333,
              "#9c179e"
             ],
             [
              0.4444444444444444,
              "#bd3786"
             ],
             [
              0.5555555555555556,
              "#d8576b"
             ],
             [
              0.6666666666666666,
              "#ed7953"
             ],
             [
              0.7777777777777778,
              "#fb9f3a"
             ],
             [
              0.8888888888888888,
              "#fdca26"
             ],
             [
              1,
              "#f0f921"
             ]
            ],
            "type": "surface"
           }
          ],
          "table": [
           {
            "cells": {
             "fill": {
              "color": "#EBF0F8"
             },
             "line": {
              "color": "white"
             }
            },
            "header": {
             "fill": {
              "color": "#C8D4E3"
             },
             "line": {
              "color": "white"
             }
            },
            "type": "table"
           }
          ]
         },
         "layout": {
          "annotationdefaults": {
           "arrowcolor": "#2a3f5f",
           "arrowhead": 0,
           "arrowwidth": 1
          },
          "autotypenumbers": "strict",
          "coloraxis": {
           "colorbar": {
            "outlinewidth": 0,
            "ticks": ""
           }
          },
          "colorscale": {
           "diverging": [
            [
             0,
             "#8e0152"
            ],
            [
             0.1,
             "#c51b7d"
            ],
            [
             0.2,
             "#de77ae"
            ],
            [
             0.3,
             "#f1b6da"
            ],
            [
             0.4,
             "#fde0ef"
            ],
            [
             0.5,
             "#f7f7f7"
            ],
            [
             0.6,
             "#e6f5d0"
            ],
            [
             0.7,
             "#b8e186"
            ],
            [
             0.8,
             "#7fbc41"
            ],
            [
             0.9,
             "#4d9221"
            ],
            [
             1,
             "#276419"
            ]
           ],
           "sequential": [
            [
             0,
             "#0d0887"
            ],
            [
             0.1111111111111111,
             "#46039f"
            ],
            [
             0.2222222222222222,
             "#7201a8"
            ],
            [
             0.3333333333333333,
             "#9c179e"
            ],
            [
             0.4444444444444444,
             "#bd3786"
            ],
            [
             0.5555555555555556,
             "#d8576b"
            ],
            [
             0.6666666666666666,
             "#ed7953"
            ],
            [
             0.7777777777777778,
             "#fb9f3a"
            ],
            [
             0.8888888888888888,
             "#fdca26"
            ],
            [
             1,
             "#f0f921"
            ]
           ],
           "sequentialminus": [
            [
             0,
             "#0d0887"
            ],
            [
             0.1111111111111111,
             "#46039f"
            ],
            [
             0.2222222222222222,
             "#7201a8"
            ],
            [
             0.3333333333333333,
             "#9c179e"
            ],
            [
             0.4444444444444444,
             "#bd3786"
            ],
            [
             0.5555555555555556,
             "#d8576b"
            ],
            [
             0.6666666666666666,
             "#ed7953"
            ],
            [
             0.7777777777777778,
             "#fb9f3a"
            ],
            [
             0.8888888888888888,
             "#fdca26"
            ],
            [
             1,
             "#f0f921"
            ]
           ]
          },
          "colorway": [
           "#636efa",
           "#EF553B",
           "#00cc96",
           "#ab63fa",
           "#FFA15A",
           "#19d3f3",
           "#FF6692",
           "#B6E880",
           "#FF97FF",
           "#FECB52"
          ],
          "font": {
           "color": "#2a3f5f"
          },
          "geo": {
           "bgcolor": "white",
           "lakecolor": "white",
           "landcolor": "#E5ECF6",
           "showlakes": true,
           "showland": true,
           "subunitcolor": "white"
          },
          "hoverlabel": {
           "align": "left"
          },
          "hovermode": "closest",
          "mapbox": {
           "style": "light"
          },
          "paper_bgcolor": "white",
          "plot_bgcolor": "#E5ECF6",
          "polar": {
           "angularaxis": {
            "gridcolor": "white",
            "linecolor": "white",
            "ticks": ""
           },
           "bgcolor": "#E5ECF6",
           "radialaxis": {
            "gridcolor": "white",
            "linecolor": "white",
            "ticks": ""
           }
          },
          "scene": {
           "xaxis": {
            "backgroundcolor": "#E5ECF6",
            "gridcolor": "white",
            "gridwidth": 2,
            "linecolor": "white",
            "showbackground": true,
            "ticks": "",
            "zerolinecolor": "white"
           },
           "yaxis": {
            "backgroundcolor": "#E5ECF6",
            "gridcolor": "white",
            "gridwidth": 2,
            "linecolor": "white",
            "showbackground": true,
            "ticks": "",
            "zerolinecolor": "white"
           },
           "zaxis": {
            "backgroundcolor": "#E5ECF6",
            "gridcolor": "white",
            "gridwidth": 2,
            "linecolor": "white",
            "showbackground": true,
            "ticks": "",
            "zerolinecolor": "white"
           }
          },
          "shapedefaults": {
           "line": {
            "color": "#2a3f5f"
           }
          },
          "ternary": {
           "aaxis": {
            "gridcolor": "white",
            "linecolor": "white",
            "ticks": ""
           },
           "baxis": {
            "gridcolor": "white",
            "linecolor": "white",
            "ticks": ""
           },
           "bgcolor": "#E5ECF6",
           "caxis": {
            "gridcolor": "white",
            "linecolor": "white",
            "ticks": ""
           }
          },
          "title": {
           "x": 0.05
          },
          "xaxis": {
           "automargin": true,
           "gridcolor": "white",
           "linecolor": "white",
           "ticks": "",
           "title": {
            "standoff": 15
           },
           "zerolinecolor": "white",
           "zerolinewidth": 2
          },
          "yaxis": {
           "automargin": true,
           "gridcolor": "white",
           "linecolor": "white",
           "ticks": "",
           "title": {
            "standoff": 15
           },
           "zerolinecolor": "white",
           "zerolinewidth": 2
          }
         }
        },
        "width": 1000,
        "xaxis": {
         "anchor": "y",
         "domain": [
          0,
          1
         ],
         "title": {
          "text": "Mean average precision - Standard CP"
         }
        },
        "yaxis": {
         "anchor": "x",
         "domain": [
          0,
          1
         ],
         "title": {
          "text": "Mean average precision - CP + Phenovue phalloidin 400LS"
         }
        }
       }
      }
     },
     "metadata": {},
     "output_type": "display_data"
    }
   ],
   "source": [
    "scatter_plot_comparison_colorblack_trendline(df_treatment, col1='Standard CP', col2='CP + Phenovue phalloidin 400LS')"
   ]
  },
  {
   "cell_type": "code",
   "execution_count": 21,
   "metadata": {},
   "outputs": [
    {
     "data": {
      "application/vnd.plotly.v1+json": {
       "config": {
        "plotlyServerURL": "https://plot.ly"
       },
       "data": [
        {
         "hovertemplate": "<b>%{hovertext}</b><br><br>color=Other<br>Mean average precision - Standard CP=%{x}<br>Mean average precision - ChromaLive + Hoechst=%{y}<extra></extra>",
         "hovertext": [
          "tumor necrosis factor production inhibitor",
          "antihistamine",
          "acetylcholine receptor antagonist",
          "protein tyrosine kinase inhibitor",
          "antihistamine",
          "glycogen synthase kinase inhibitor",
          "histone lysine methyltransferase inhibitor",
          "tumor necrosis factor production inhibitor",
          "PARP inhibitor",
          "bromodomain inhibitor",
          "ubiquitin specific protease inhibitor",
          "JAK inhibitor",
          "hepatocyte growth factor receptor inhibitor",
          "bromodomain inhibitor",
          "MEK inhibitor",
          "IGF-1 inhibitor",
          "phosphodiesterase inhibitor",
          "beta-catenin inhibitor",
          "JNK inhibitor",
          "LXR agonist",
          "DNA inhibitor",
          "RAF inhibitor",
          "Aurora kinase inhibitor",
          "JAK inhibitor",
          "tricyclic antidepressant",
          "PARP inhibitor",
          "histone lysine methyltransferase inhibitor",
          "HDAC inhibitor",
          "HDAC inhibitor",
          "phosphodiesterase inhibitor",
          "kinesin inhibitor",
          "CDC inhibitor",
          "MAP kinase inhibitor",
          "phosphoinositide dependent kinase inhibitor",
          "FGFR inhibitor",
          "DNA inhibitor",
          "smoothened receptor agonist",
          "JNK inhibitor",
          "CHK inhibitor",
          "EGFR inhibitor",
          "androgen receptor modulator",
          "HMGCR inhibitor",
          "acetylcholine receptor antagonist",
          "EGFR inhibitor",
          "HMGCR inhibitor",
          "IGF-1 inhibitor",
          "protein arginine N-methyltransferase inhibitor",
          "Bcr-Abl kinase inhibitor",
          "MAP kinase inhibitor",
          "p38 MAPK inhibitor",
          "ubiquitin specific protease inhibitor",
          "CDK inhibitor",
          "histone lysine demethylase inhibitor",
          "hypoxia inducible factor inhibitor",
          "androgen receptor modulator",
          "mTOR inhibitor"
         ],
         "legendgroup": "Other",
         "marker": {
          "color": "lightgrey",
          "symbol": "circle"
         },
         "mode": "markers",
         "name": "Other",
         "orientation": "v",
         "showlegend": true,
         "type": "scatter",
         "x": [
          0.0751907630145189,
          0.0233801007027194,
          0.0433579017366559,
          0.1738168196307123,
          0.0211695068186132,
          0.6974747474747475,
          0.0154930737015808,
          0.0238431850113865,
          0.0268981326457728,
          0.2518778312022093,
          0.1236165081603947,
          0.1365085928096441,
          0.0484138908748976,
          1,
          0.1992880588881083,
          0.9027777777777778,
          0.1048345644743013,
          0.0147191056292627,
          0.011663876467995,
          0.3301868721360246,
          0.045028432148368,
          0.0971656631828945,
          0.4852411033797771,
          0.1762929967714251,
          0.017578684743016,
          0.5149426842442,
          1,
          0.4493806573112204,
          0.5134242212230108,
          0.0080332999614717,
          0.6329365079365079,
          0.1298944286339244,
          0.0156393740585514,
          0.856060606060606,
          0.4889772727272727,
          0.2138536977809366,
          0.2248132294830504,
          0.0154079521523467,
          0.8523809523809525,
          0.0565017143205006,
          0.0181747663103683,
          0.1291173127966729,
          0.0394905434933731,
          1,
          0.0150193407677918,
          0.6476907230196705,
          0.1965126592157808,
          0.3972264202838758,
          0.3396643842722274,
          0.2862136202447207,
          0.1186731952613619,
          0.4227250258428748,
          0.7980158730158731,
          0.0263200192433433,
          0.1784945554351246,
          0.8409455128205128
         ],
         "xaxis": "x",
         "y": [
          0.038398695538574,
          0.1774041858179091,
          0.0224282023225964,
          0.2431682002984587,
          0.0737327506100228,
          0.6841463285129037,
          0.0315427144849486,
          0.0358498194682262,
          0.0642047298114143,
          0.4825140409699233,
          0.0167430330754792,
          0.1733217500367276,
          0.0148187607569428,
          0.8233974358974359,
          0.1867437201099635,
          1,
          0.0803721613685519,
          0.2992612138483281,
          0.0263023051833263,
          0.2685810475054661,
          0.0138775609617116,
          0.0642480177195702,
          0.4113821930775433,
          0.1886814994599948,
          0.1330426372583681,
          0.682936507936508,
          0.8263888888888888,
          0.2343219159008632,
          0.4840616777013835,
          0.0595452826084354,
          0.3558768045048532,
          0.1391526808846964,
          0.1585293542005851,
          1,
          0.2206921150459589,
          0.2480417274377241,
          0.1533878753955851,
          0.0188761296153692,
          0.7513888888888889,
          0.1807856767415591,
          0.1005030242617836,
          0.052499140004079,
          0.1678479712223636,
          0.7915895061728395,
          0.1032999157214723,
          0.76875,
          0.0403081228528227,
          0.1272831172047267,
          0.0830733208082303,
          0.03979434185833,
          0.1043073732908898,
          0.331617807634722,
          0.8412698412698413,
          0.1052459406051185,
          0.0151806229175319,
          1
         ],
         "yaxis": "y"
        },
        {
         "hovertemplate": "<b>%{hovertext}</b><br><br>color=pyruvate dehydrogenase kinase inhibitor<br>Mean average precision - Standard CP=%{x}<br>Mean average precision - ChromaLive + Hoechst=%{y}<extra></extra>",
         "hovertext": [
          "pyruvate dehydrogenase kinase inhibitor",
          "pyruvate dehydrogenase kinase inhibitor"
         ],
         "legendgroup": "pyruvate dehydrogenase kinase inhibitor",
         "marker": {
          "color": "#00cc96",
          "symbol": "circle"
         },
         "mode": "markers",
         "name": "pyruvate dehydrogenase kinase inhibitor",
         "orientation": "v",
         "showlegend": true,
         "type": "scatter",
         "x": [
          0.1253876015988353,
          0.525020664946182
         ],
         "xaxis": "x",
         "y": [
          0.4558580014195001,
          0.9523809523809524
         ],
         "yaxis": "y"
        },
        {
         "hovertemplate": "<b>%{hovertext}</b><br><br>color=hepatocyte growth factor receptor inhibitor<br>Mean average precision - Standard CP=%{x}<br>Mean average precision - ChromaLive + Hoechst=%{y}<extra></extra>",
         "hovertext": [
          "hepatocyte growth factor receptor inhibitor"
         ],
         "legendgroup": "hepatocyte growth factor receptor inhibitor",
         "marker": {
          "color": "#ab63fa",
          "symbol": "circle"
         },
         "mode": "markers",
         "name": "hepatocyte growth factor receptor inhibitor",
         "orientation": "v",
         "showlegend": true,
         "type": "scatter",
         "x": [
          0.4437509212047515
         ],
         "xaxis": "x",
         "y": [
          1
         ],
         "yaxis": "y"
        },
        {
         "hovertemplate": "<b>%{hovertext}</b><br><br>color=CHK inhibitor<br>Mean average precision - Standard CP=%{x}<br>Mean average precision - ChromaLive + Hoechst=%{y}<extra></extra>",
         "hovertext": [
          "CHK inhibitor"
         ],
         "legendgroup": "CHK inhibitor",
         "marker": {
          "color": "#FFA15A",
          "symbol": "circle"
         },
         "mode": "markers",
         "name": "CHK inhibitor",
         "orientation": "v",
         "showlegend": true,
         "type": "scatter",
         "x": [
          1
         ],
         "xaxis": "x",
         "y": [
          0.6218253968253968
         ],
         "yaxis": "y"
        },
        {
         "hovertemplate": "<b>%{hovertext}</b><br><br>color=inosine monophosphate dehydrogenase inhibitor<br>Mean average precision - Standard CP=%{x}<br>Mean average precision - ChromaLive + Hoechst=%{y}<extra></extra>",
         "hovertext": [
          "inosine monophosphate dehydrogenase inhibitor",
          "inosine monophosphate dehydrogenase inhibitor"
         ],
         "legendgroup": "inosine monophosphate dehydrogenase inhibitor",
         "marker": {
          "color": "#19d3f3",
          "symbol": "circle"
         },
         "mode": "markers",
         "name": "inosine monophosphate dehydrogenase inhibitor",
         "orientation": "v",
         "showlegend": true,
         "type": "scatter",
         "x": [
          1,
          0.2037167657921614
         ],
         "xaxis": "x",
         "y": [
          0.3820139724067746,
          0.5851869965753813
         ],
         "yaxis": "y"
        },
        {
         "hovertemplate": "<b>%{hovertext}</b><br><br>color=CDC inhibitor<br>Mean average precision - Standard CP=%{x}<br>Mean average precision - ChromaLive + Hoechst=%{y}<extra></extra>",
         "hovertext": [
          "CDC inhibitor"
         ],
         "legendgroup": "CDC inhibitor",
         "marker": {
          "color": "#FF6692",
          "symbol": "circle"
         },
         "mode": "markers",
         "name": "CDC inhibitor",
         "orientation": "v",
         "showlegend": true,
         "type": "scatter",
         "x": [
          1
         ],
         "xaxis": "x",
         "y": [
          0.5901484674329501
         ],
         "yaxis": "y"
        },
        {
         "hovertemplate": "<b>%{hovertext}</b><br><br>color=glycogen synthase kinase inhibitor<br>Mean average precision - Standard CP=%{x}<br>Mean average precision - ChromaLive + Hoechst=%{y}<extra></extra>",
         "hovertext": [
          "glycogen synthase kinase inhibitor"
         ],
         "legendgroup": "glycogen synthase kinase inhibitor",
         "marker": {
          "color": "#B6E880",
          "symbol": "circle"
         },
         "mode": "markers",
         "name": "glycogen synthase kinase inhibitor",
         "orientation": "v",
         "showlegend": true,
         "type": "scatter",
         "x": [
          1
         ],
         "xaxis": "x",
         "y": [
          0.6583026425980711
         ],
         "yaxis": "y"
        },
        {
         "hovertemplate": "<b>%{hovertext}</b><br><br>color=Apoptosis inducer (ATP-competitive kinase inhibitor)<br>Mean average precision - Standard CP=%{x}<br>Mean average precision - ChromaLive + Hoechst=%{y}<extra></extra>",
         "hovertext": [
          "Apoptosis inducer (ATP-competitive kinase inhibitor)"
         ],
         "legendgroup": "Apoptosis inducer (ATP-competitive kinase inhibitor)",
         "marker": {
          "color": "#FF97FF",
          "symbol": "circle"
         },
         "mode": "markers",
         "name": "Apoptosis inducer (ATP-competitive kinase inhibitor)",
         "orientation": "v",
         "showlegend": true,
         "type": "scatter",
         "x": [
          1
         ],
         "xaxis": "x",
         "y": [
          0.2740009402760479
         ],
         "yaxis": "y"
        },
        {
         "hovertemplate": "<b>%{hovertext}</b><br><br>color=Aurora kinase inhibitor<br>Mean average precision - Standard CP=%{x}<br>Mean average precision - ChromaLive + Hoechst=%{y}<extra></extra>",
         "hovertext": [
          "Aurora kinase inhibitor"
         ],
         "legendgroup": "Aurora kinase inhibitor",
         "marker": {
          "color": "#FECB52",
          "symbol": "circle"
         },
         "mode": "markers",
         "name": "Aurora kinase inhibitor",
         "orientation": "v",
         "showlegend": true,
         "type": "scatter",
         "x": [
          0.8752976190476192
         ],
         "xaxis": "x",
         "y": [
          0.5007748988912065
         ],
         "yaxis": "y"
        },
        {
         "hovertemplate": "<b>%{hovertext}</b><br><br>color=LXR agonist<br>Mean average precision - Standard CP=%{x}<br>Mean average precision - ChromaLive + Hoechst=%{y}<extra></extra>",
         "hovertext": [
          "LXR agonist"
         ],
         "legendgroup": "LXR agonist",
         "marker": {
          "color": "#636efa",
          "symbol": "circle"
         },
         "mode": "markers",
         "name": "LXR agonist",
         "orientation": "v",
         "showlegend": true,
         "type": "scatter",
         "x": [
          1
         ],
         "xaxis": "x",
         "y": [
          0.6416005291005291
         ],
         "yaxis": "y"
        },
        {
         "hovertemplate": "<b>%{hovertext}</b><br><br>color=phospholipase inhibitor<br>Mean average precision - Standard CP=%{x}<br>Mean average precision - ChromaLive + Hoechst=%{y}<extra></extra>",
         "hovertext": [
          "phospholipase inhibitor",
          "phospholipase inhibitor"
         ],
         "legendgroup": "phospholipase inhibitor",
         "marker": {
          "color": "#EF553B",
          "symbol": "circle"
         },
         "mode": "markers",
         "name": "phospholipase inhibitor",
         "orientation": "v",
         "showlegend": true,
         "type": "scatter",
         "x": [
          0.0100917990220209,
          0.9305555555555556
         ],
         "xaxis": "x",
         "y": [
          0.4922165063483849,
          0.2563101449940149
         ],
         "yaxis": "y"
        },
        {
         "hovertemplate": "<b>%{hovertext}</b><br><br>color=tricyclic antidepressant<br>Mean average precision - Standard CP=%{x}<br>Mean average precision - ChromaLive + Hoechst=%{y}<extra></extra>",
         "hovertext": [
          "tricyclic antidepressant"
         ],
         "legendgroup": "tricyclic antidepressant",
         "marker": {
          "color": "#00cc96",
          "symbol": "circle"
         },
         "mode": "markers",
         "name": "tricyclic antidepressant",
         "orientation": "v",
         "showlegend": true,
         "type": "scatter",
         "x": [
          0.0110762565965278
         ],
         "xaxis": "x",
         "y": [
          0.7185019841269842
         ],
         "yaxis": "y"
        },
        {
         "hovertemplate": "<b>%{hovertext}</b><br><br>color=histone lysine demethylase inhibitor<br>Mean average precision - Standard CP=%{x}<br>Mean average precision - ChromaLive + Hoechst=%{y}<extra></extra>",
         "hovertext": [
          "histone lysine demethylase inhibitor"
         ],
         "legendgroup": "histone lysine demethylase inhibitor",
         "marker": {
          "color": "#ab63fa",
          "symbol": "circle"
         },
         "mode": "markers",
         "name": "histone lysine demethylase inhibitor",
         "orientation": "v",
         "showlegend": true,
         "type": "scatter",
         "x": [
          0.0655699953550348
         ],
         "xaxis": "x",
         "y": [
          0.432972820105173
         ],
         "yaxis": "y"
        },
        {
         "hovertemplate": "<b>%{hovertext}</b><br><br>color=kinesin inhibitor<br>Mean average precision - Standard CP=%{x}<br>Mean average precision - ChromaLive + Hoechst=%{y}<extra></extra>",
         "hovertext": [
          "kinesin inhibitor"
         ],
         "legendgroup": "kinesin inhibitor",
         "marker": {
          "color": "#FFA15A",
          "symbol": "circle"
         },
         "mode": "markers",
         "name": "kinesin inhibitor",
         "orientation": "v",
         "showlegend": true,
         "type": "scatter",
         "x": [
          1
         ],
         "xaxis": "x",
         "y": [
          0.6058661145617668
         ],
         "yaxis": "y"
        },
        {
         "hovertemplate": "<b>%{hovertext}</b><br><br>color=phosphoinositide dependent kinase inhibitor<br>Mean average precision - Standard CP=%{x}<br>Mean average precision - ChromaLive + Hoechst=%{y}<extra></extra>",
         "hovertext": [
          "phosphoinositide dependent kinase inhibitor"
         ],
         "legendgroup": "phosphoinositide dependent kinase inhibitor",
         "marker": {
          "color": "#19d3f3",
          "symbol": "circle"
         },
         "mode": "markers",
         "name": "phosphoinositide dependent kinase inhibitor",
         "orientation": "v",
         "showlegend": true,
         "type": "scatter",
         "x": [
          0.6197956684237172
         ],
         "xaxis": "x",
         "y": [
          1
         ],
         "yaxis": "y"
        },
        {
         "hovertemplate": "<b>%{hovertext}</b><br><br>color=FGFR inhibitor<br>Mean average precision - Standard CP=%{x}<br>Mean average precision - ChromaLive + Hoechst=%{y}<extra></extra>",
         "hovertext": [
          "FGFR inhibitor"
         ],
         "legendgroup": "FGFR inhibitor",
         "marker": {
          "color": "#FF6692",
          "symbol": "circle"
         },
         "mode": "markers",
         "name": "FGFR inhibitor",
         "orientation": "v",
         "showlegend": true,
         "type": "scatter",
         "x": [
          0.8824404761904762
         ],
         "xaxis": "x",
         "y": [
          0.4984652954633052
         ],
         "yaxis": "y"
        },
        {
         "hovertemplate": "<b>%{hovertext}</b><br><br>color=Bcr-Abl kinase inhibitor<br>Mean average precision - Standard CP=%{x}<br>Mean average precision - ChromaLive + Hoechst=%{y}<extra></extra>",
         "hovertext": [
          "Bcr-Abl kinase inhibitor"
         ],
         "legendgroup": "Bcr-Abl kinase inhibitor",
         "marker": {
          "color": "#B6E880",
          "symbol": "circle"
         },
         "mode": "markers",
         "name": "Bcr-Abl kinase inhibitor",
         "orientation": "v",
         "showlegend": true,
         "type": "scatter",
         "x": [
          0.861111111111111
         ],
         "xaxis": "x",
         "y": [
          0.4620797720797721
         ],
         "yaxis": "y"
        },
        {
         "hovertemplate": "<b>%{hovertext}</b><br><br>color=AMPK inhibitor<br>Mean average precision - Standard CP=%{x}<br>Mean average precision - ChromaLive + Hoechst=%{y}<extra></extra>",
         "hovertext": [
          "AMPK inhibitor"
         ],
         "legendgroup": "AMPK inhibitor",
         "marker": {
          "color": "#FF97FF",
          "symbol": "circle"
         },
         "mode": "markers",
         "name": "AMPK inhibitor",
         "orientation": "v",
         "showlegend": true,
         "type": "scatter",
         "x": [
          0.1882316051861195
         ],
         "xaxis": "x",
         "y": [
          0.9027777777777776
         ],
         "yaxis": "y"
        },
        {
         "hovertemplate": "<b>%{hovertext}</b><br><br>color=BCL inhibitor<br>Mean average precision - Standard CP=%{x}<br>Mean average precision - ChromaLive + Hoechst=%{y}<extra></extra>",
         "hovertext": [
          "BCL inhibitor",
          "BCL inhibitor"
         ],
         "legendgroup": "BCL inhibitor",
         "marker": {
          "color": "#FECB52",
          "symbol": "circle"
         },
         "mode": "markers",
         "name": "BCL inhibitor",
         "orientation": "v",
         "showlegend": true,
         "type": "scatter",
         "x": [
          1,
          0.4884690845217161
         ],
         "xaxis": "x",
         "y": [
          0.5510954070308213,
          0.1569754253624423
         ],
         "yaxis": "y"
        },
        {
         "hovertemplate": "<b>%{hovertext}</b><br><br>color=MEK inhibitor<br>Mean average precision - Standard CP=%{x}<br>Mean average precision - ChromaLive + Hoechst=%{y}<extra></extra>",
         "hovertext": [
          "MEK inhibitor"
         ],
         "legendgroup": "MEK inhibitor",
         "marker": {
          "color": "#636efa",
          "symbol": "circle"
         },
         "mode": "markers",
         "name": "MEK inhibitor",
         "orientation": "v",
         "showlegend": true,
         "type": "scatter",
         "x": [
          0.6494021851164709
         ],
         "xaxis": "x",
         "y": [
          0.0843882713693281
         ],
         "yaxis": "y"
        },
        {
         "hovertemplate": "<b>%{hovertext}</b><br><br>color=CDK inhibitor<br>Mean average precision - Standard CP=%{x}<br>Mean average precision - ChromaLive + Hoechst=%{y}<extra></extra>",
         "hovertext": [
          "CDK inhibitor"
         ],
         "legendgroup": "CDK inhibitor",
         "marker": {
          "color": "#EF553B",
          "symbol": "circle"
         },
         "mode": "markers",
         "name": "CDK inhibitor",
         "orientation": "v",
         "showlegend": true,
         "type": "scatter",
         "x": [
          0.7826388888888889
         ],
         "xaxis": "x",
         "y": [
          0.3710494894598155
         ],
         "yaxis": "y"
        },
        {
         "hovertemplate": "<b>%{hovertext}</b><br><br>color=RAF inhibitor<br>Mean average precision - Standard CP=%{x}<br>Mean average precision - ChromaLive + Hoechst=%{y}<extra></extra>",
         "hovertext": [
          "RAF inhibitor"
         ],
         "legendgroup": "RAF inhibitor",
         "marker": {
          "color": "#00cc96",
          "symbol": "circle"
         },
         "mode": "markers",
         "name": "RAF inhibitor",
         "orientation": "v",
         "showlegend": true,
         "type": "scatter",
         "x": [
          0.9791666666666666
         ],
         "xaxis": "x",
         "y": [
          0.2317431651804856
         ],
         "yaxis": "y"
        },
        {
         "hovertemplate": "<b>%{hovertext}</b><br><br>color=protein tyrosine kinase inhibitor<br>Mean average precision - Standard CP=%{x}<br>Mean average precision - ChromaLive + Hoechst=%{y}<extra></extra>",
         "hovertext": [
          "protein tyrosine kinase inhibitor"
         ],
         "legendgroup": "protein tyrosine kinase inhibitor",
         "marker": {
          "color": "#ab63fa",
          "symbol": "circle"
         },
         "mode": "markers",
         "name": "protein tyrosine kinase inhibitor",
         "orientation": "v",
         "showlegend": true,
         "type": "scatter",
         "x": [
          0.0310474514437055
         ],
         "xaxis": "x",
         "y": [
          0.4159576216440689
         ],
         "yaxis": "y"
        },
        {
         "hovertemplate": "<b>%{hovertext}</b><br><br>color=ER stressor (SERCA inhibitor)<br>Mean average precision - Standard CP=%{x}<br>Mean average precision - ChromaLive + Hoechst=%{y}<extra></extra>",
         "hovertext": [
          "ER stressor (SERCA inhibitor)"
         ],
         "legendgroup": "ER stressor (SERCA inhibitor)",
         "marker": {
          "color": "#FFA15A",
          "symbol": "circle"
         },
         "mode": "markers",
         "name": "ER stressor (SERCA inhibitor)",
         "orientation": "v",
         "showlegend": true,
         "type": "scatter",
         "x": [
          1
         ],
         "xaxis": "x",
         "y": [
          0.2588279012831442
         ],
         "yaxis": "y"
        },
        {
         "hovertemplate": "<b>%{hovertext}</b><br><br>color=protein arginine N-methyltransferase inhibitor<br>Mean average precision - Standard CP=%{x}<br>Mean average precision - ChromaLive + Hoechst=%{y}<extra></extra>",
         "hovertext": [
          "protein arginine N-methyltransferase inhibitor"
         ],
         "legendgroup": "protein arginine N-methyltransferase inhibitor",
         "marker": {
          "color": "#19d3f3",
          "symbol": "circle"
         },
         "mode": "markers",
         "name": "protein arginine N-methyltransferase inhibitor",
         "orientation": "v",
         "showlegend": true,
         "type": "scatter",
         "x": [
          0.7093142968142968
         ],
         "xaxis": "x",
         "y": [
          0.3696216563827083
         ],
         "yaxis": "y"
        },
        {
         "hovertemplate": "<b>%{hovertext}</b><br><br>color=Apoptosis inducer (transcription inhibitor)<br>Mean average precision - Standard CP=%{x}<br>Mean average precision - ChromaLive + Hoechst=%{y}<extra></extra>",
         "hovertext": [
          "Apoptosis inducer (transcription inhibitor)"
         ],
         "legendgroup": "Apoptosis inducer (transcription inhibitor)",
         "marker": {
          "color": "#FF6692",
          "symbol": "circle"
         },
         "mode": "markers",
         "name": "Apoptosis inducer (transcription inhibitor)",
         "orientation": "v",
         "showlegend": true,
         "type": "scatter",
         "x": [
          0.6779100529100529
         ],
         "xaxis": "x",
         "y": [
          0.2581626600304761
         ],
         "yaxis": "y"
        },
        {
         "hovertemplate": "<b>%{hovertext}</b><br><br>color=p38 MAPK inhibitor<br>Mean average precision - Standard CP=%{x}<br>Mean average precision - ChromaLive + Hoechst=%{y}<extra></extra>",
         "hovertext": [
          "p38 MAPK inhibitor"
         ],
         "legendgroup": "p38 MAPK inhibitor",
         "marker": {
          "color": "#B6E880",
          "symbol": "circle"
         },
         "mode": "markers",
         "name": "p38 MAPK inhibitor",
         "orientation": "v",
         "showlegend": true,
         "type": "scatter",
         "x": [
          0.9375
         ],
         "xaxis": "x",
         "y": [
          0.0584582593326552
         ],
         "yaxis": "y"
        },
        {
         "hovertemplate": "<b>%{hovertext}</b><br><br>color=mTOR inhibitor<br>Mean average precision - Standard CP=%{x}<br>Mean average precision - ChromaLive + Hoechst=%{y}<extra></extra>",
         "hovertext": [
          "mTOR inhibitor"
         ],
         "legendgroup": "mTOR inhibitor",
         "marker": {
          "color": "#FF97FF",
          "symbol": "circle"
         },
         "mode": "markers",
         "name": "mTOR inhibitor",
         "orientation": "v",
         "showlegend": true,
         "type": "scatter",
         "x": [
          1
         ],
         "xaxis": "x",
         "y": [
          0.5095602813242407
         ],
         "yaxis": "y"
        },
        {
         "hovertemplate": "<b>%{hovertext}</b><br><br>color=beta-catenin inhibitor<br>Mean average precision - Standard CP=%{x}<br>Mean average precision - ChromaLive + Hoechst=%{y}<extra></extra>",
         "hovertext": [
          "beta-catenin inhibitor"
         ],
         "legendgroup": "beta-catenin inhibitor",
         "marker": {
          "color": "#FECB52",
          "symbol": "circle"
         },
         "mode": "markers",
         "name": "beta-catenin inhibitor",
         "orientation": "v",
         "showlegend": true,
         "type": "scatter",
         "x": [
          0.9666666666666668
         ],
         "xaxis": "x",
         "y": [
          0.2335522672232721
         ],
         "yaxis": "y"
        },
        {
         "hovertemplate": "<b>%{hovertext}</b><br><br>color=smoothened receptor agonist<br>Mean average precision - Standard CP=%{x}<br>Mean average precision - ChromaLive + Hoechst=%{y}<extra></extra>",
         "hovertext": [
          "smoothened receptor agonist"
         ],
         "legendgroup": "smoothened receptor agonist",
         "marker": {
          "color": "#636efa",
          "symbol": "circle"
         },
         "mode": "markers",
         "name": "smoothened receptor agonist",
         "orientation": "v",
         "showlegend": true,
         "type": "scatter",
         "x": [
          0.3839489267989467
         ],
         "xaxis": "x",
         "y": [
          0.9791666666666666
         ],
         "yaxis": "y"
        },
        {
         "hovertemplate": "<b>%{hovertext}</b><br><br>color=hypoxia inducible factor inhibitor<br>Mean average precision - Standard CP=%{x}<br>Mean average precision - ChromaLive + Hoechst=%{y}<extra></extra>",
         "hovertext": [
          "hypoxia inducible factor inhibitor"
         ],
         "legendgroup": "hypoxia inducible factor inhibitor",
         "marker": {
          "color": "#EF553B",
          "symbol": "circle"
         },
         "mode": "markers",
         "name": "hypoxia inducible factor inhibitor",
         "orientation": "v",
         "showlegend": true,
         "type": "scatter",
         "x": [
          0.6168650793650794
         ],
         "xaxis": "x",
         "y": [
          1
         ],
         "yaxis": "y"
        },
        {
         "hovertemplate": "<b>OLS trendline</b><br>y = 0.453067 * x + 0.17092<br>R<sup>2</sup>=0.302203<br><br>Mean average precision - Standard CP=%{x}<br>Mean average precision - ChromaLive + Hoechst=%{y} <b>(trend)</b><extra></extra>",
         "legendgroup": "Overall Trendline",
         "line": {
          "color": "#00cc96"
         },
         "mode": "lines",
         "name": "Overall Trendline",
         "showlegend": true,
         "type": "scatter",
         "x": [
          0.0080332999614717,
          0.0100917990220209,
          0.0110762565965278,
          0.011663876467995,
          0.0147191056292627,
          0.0150193407677918,
          0.0154079521523467,
          0.0154930737015808,
          0.0156393740585514,
          0.017578684743016,
          0.0181747663103683,
          0.0211695068186132,
          0.0233801007027194,
          0.0238431850113865,
          0.0263200192433433,
          0.0268981326457728,
          0.0310474514437055,
          0.0394905434933731,
          0.0433579017366559,
          0.045028432148368,
          0.0484138908748976,
          0.0565017143205006,
          0.0655699953550348,
          0.0751907630145189,
          0.0971656631828945,
          0.1048345644743013,
          0.1186731952613619,
          0.1236165081603947,
          0.1253876015988353,
          0.1291173127966729,
          0.1298944286339244,
          0.1365085928096441,
          0.1738168196307123,
          0.1762929967714251,
          0.1784945554351246,
          0.1882316051861195,
          0.1965126592157808,
          0.1992880588881083,
          0.2037167657921614,
          0.2138536977809366,
          0.2248132294830504,
          0.2518778312022093,
          0.2862136202447207,
          0.3301868721360246,
          0.3396643842722274,
          0.3839489267989467,
          0.3972264202838758,
          0.4227250258428748,
          0.4437509212047515,
          0.4493806573112204,
          0.4852411033797771,
          0.4884690845217161,
          0.4889772727272727,
          0.5134242212230108,
          0.5149426842442,
          0.525020664946182,
          0.6168650793650794,
          0.6197956684237172,
          0.6329365079365079,
          0.6476907230196705,
          0.6494021851164709,
          0.6779100529100529,
          0.6974747474747475,
          0.7093142968142968,
          0.7826388888888889,
          0.7980158730158731,
          0.8409455128205128,
          0.8523809523809525,
          0.856060606060606,
          0.861111111111111,
          0.8752976190476192,
          0.8824404761904762,
          0.9027777777777778,
          0.9305555555555556,
          0.9375,
          0.9666666666666668,
          0.9791666666666666,
          1,
          1,
          1,
          1,
          1,
          1,
          1,
          1,
          1,
          1,
          1,
          1,
          1
         ],
         "xaxis": "x",
         "y": [
          0.17455954766972326,
          0.1754921865963673,
          0.17593821228236872,
          0.17620444372094593,
          0.17758866861578562,
          0.17772469538534066,
          0.17790076255560025,
          0.17793932835911866,
          0.1780056122892441,
          0.1788842508418922,
          0.17915431599947326,
          0.18051113545434433,
          0.18151268359533237,
          0.18172249202364701,
          0.18284466500095753,
          0.18310658936781954,
          0.18498651066784455,
          0.18881180087937274,
          0.19056397502901795,
          0.1913208379880371,
          0.19285467915095988,
          0.19651900872086567,
          0.2006275517134955,
          0.20498640841418259,
          0.21494252046636683,
          0.21841705004280906,
          0.2246868832483797,
          0.22692653743359445,
          0.22772896222701303,
          0.22941877298034682,
          0.2297708588735213,
          0.23276752139123214,
          0.24967066469804047,
          0.2507925399686946,
          0.2517899945453845,
          0.2562015348771176,
          0.2599534109356105,
          0.2612108541965839,
          0.2632173571542851,
          0.26781007111304334,
          0.2727754782288735,
          0.285037568399889,
          0.300593996892764,
          0.32051684613322573,
          0.3248107984188322,
          0.3448746833146664,
          0.3508902834719012,
          0.36244287175101364,
          0.3719690206125045,
          0.37451967081208504,
          0.39076687178065506,
          0.3922293649754015,
          0.3924596085114063,
          0.4035357252032956,
          0.4042236913769856,
          0.4087896964263774,
          0.45040141135183276,
          0.4517291658728155,
          0.45768285256293273,
          0.4643675072136688,
          0.46514291498700344,
          0.4780589020425541,
          0.48692302838034657,
          0.49228714284588365,
          0.52550812902929,
          0.5324749400646016,
          0.5519249626348974,
          0.5571059881120264,
          0.5587731194330862,
          0.5610613388933645,
          0.5674887839130393,
          0.5707249800068614,
          0.5799391494406607,
          0.5925243564721916,
          0.5956706582300744,
          0.6088851256131818,
          0.6145484687773706,
          0.6239873740510187,
          0.6239873740510187,
          0.6239873740510187,
          0.6239873740510187,
          0.6239873740510187,
          0.6239873740510187,
          0.6239873740510187,
          0.6239873740510187,
          0.6239873740510187,
          0.6239873740510187,
          0.6239873740510187,
          0.6239873740510187,
          0.6239873740510187
         ],
         "yaxis": "y"
        }
       ],
       "layout": {
        "font": {
         "color": "Black",
         "family": "sans serif",
         "size": 20
        },
        "height": 800,
        "legend": {
         "orientation": "h",
         "title": {
          "text": "color"
         },
         "tracegroupgap": 0
        },
        "margin": {
         "t": 60
        },
        "shapes": [
         {
          "line": {
           "color": "grey",
           "dash": "dashdot"
          },
          "type": "line",
          "x0": 0,
          "x1": 1,
          "y0": 0,
          "y1": 1
         }
        ],
        "template": {
         "data": {
          "bar": [
           {
            "error_x": {
             "color": "#2a3f5f"
            },
            "error_y": {
             "color": "#2a3f5f"
            },
            "marker": {
             "line": {
              "color": "#E5ECF6",
              "width": 0.5
             },
             "pattern": {
              "fillmode": "overlay",
              "size": 10,
              "solidity": 0.2
             }
            },
            "type": "bar"
           }
          ],
          "barpolar": [
           {
            "marker": {
             "line": {
              "color": "#E5ECF6",
              "width": 0.5
             },
             "pattern": {
              "fillmode": "overlay",
              "size": 10,
              "solidity": 0.2
             }
            },
            "type": "barpolar"
           }
          ],
          "carpet": [
           {
            "aaxis": {
             "endlinecolor": "#2a3f5f",
             "gridcolor": "white",
             "linecolor": "white",
             "minorgridcolor": "white",
             "startlinecolor": "#2a3f5f"
            },
            "baxis": {
             "endlinecolor": "#2a3f5f",
             "gridcolor": "white",
             "linecolor": "white",
             "minorgridcolor": "white",
             "startlinecolor": "#2a3f5f"
            },
            "type": "carpet"
           }
          ],
          "choropleth": [
           {
            "colorbar": {
             "outlinewidth": 0,
             "ticks": ""
            },
            "type": "choropleth"
           }
          ],
          "contour": [
           {
            "colorbar": {
             "outlinewidth": 0,
             "ticks": ""
            },
            "colorscale": [
             [
              0,
              "#0d0887"
             ],
             [
              0.1111111111111111,
              "#46039f"
             ],
             [
              0.2222222222222222,
              "#7201a8"
             ],
             [
              0.3333333333333333,
              "#9c179e"
             ],
             [
              0.4444444444444444,
              "#bd3786"
             ],
             [
              0.5555555555555556,
              "#d8576b"
             ],
             [
              0.6666666666666666,
              "#ed7953"
             ],
             [
              0.7777777777777778,
              "#fb9f3a"
             ],
             [
              0.8888888888888888,
              "#fdca26"
             ],
             [
              1,
              "#f0f921"
             ]
            ],
            "type": "contour"
           }
          ],
          "contourcarpet": [
           {
            "colorbar": {
             "outlinewidth": 0,
             "ticks": ""
            },
            "type": "contourcarpet"
           }
          ],
          "heatmap": [
           {
            "colorbar": {
             "outlinewidth": 0,
             "ticks": ""
            },
            "colorscale": [
             [
              0,
              "#0d0887"
             ],
             [
              0.1111111111111111,
              "#46039f"
             ],
             [
              0.2222222222222222,
              "#7201a8"
             ],
             [
              0.3333333333333333,
              "#9c179e"
             ],
             [
              0.4444444444444444,
              "#bd3786"
             ],
             [
              0.5555555555555556,
              "#d8576b"
             ],
             [
              0.6666666666666666,
              "#ed7953"
             ],
             [
              0.7777777777777778,
              "#fb9f3a"
             ],
             [
              0.8888888888888888,
              "#fdca26"
             ],
             [
              1,
              "#f0f921"
             ]
            ],
            "type": "heatmap"
           }
          ],
          "heatmapgl": [
           {
            "colorbar": {
             "outlinewidth": 0,
             "ticks": ""
            },
            "colorscale": [
             [
              0,
              "#0d0887"
             ],
             [
              0.1111111111111111,
              "#46039f"
             ],
             [
              0.2222222222222222,
              "#7201a8"
             ],
             [
              0.3333333333333333,
              "#9c179e"
             ],
             [
              0.4444444444444444,
              "#bd3786"
             ],
             [
              0.5555555555555556,
              "#d8576b"
             ],
             [
              0.6666666666666666,
              "#ed7953"
             ],
             [
              0.7777777777777778,
              "#fb9f3a"
             ],
             [
              0.8888888888888888,
              "#fdca26"
             ],
             [
              1,
              "#f0f921"
             ]
            ],
            "type": "heatmapgl"
           }
          ],
          "histogram": [
           {
            "marker": {
             "pattern": {
              "fillmode": "overlay",
              "size": 10,
              "solidity": 0.2
             }
            },
            "type": "histogram"
           }
          ],
          "histogram2d": [
           {
            "colorbar": {
             "outlinewidth": 0,
             "ticks": ""
            },
            "colorscale": [
             [
              0,
              "#0d0887"
             ],
             [
              0.1111111111111111,
              "#46039f"
             ],
             [
              0.2222222222222222,
              "#7201a8"
             ],
             [
              0.3333333333333333,
              "#9c179e"
             ],
             [
              0.4444444444444444,
              "#bd3786"
             ],
             [
              0.5555555555555556,
              "#d8576b"
             ],
             [
              0.6666666666666666,
              "#ed7953"
             ],
             [
              0.7777777777777778,
              "#fb9f3a"
             ],
             [
              0.8888888888888888,
              "#fdca26"
             ],
             [
              1,
              "#f0f921"
             ]
            ],
            "type": "histogram2d"
           }
          ],
          "histogram2dcontour": [
           {
            "colorbar": {
             "outlinewidth": 0,
             "ticks": ""
            },
            "colorscale": [
             [
              0,
              "#0d0887"
             ],
             [
              0.1111111111111111,
              "#46039f"
             ],
             [
              0.2222222222222222,
              "#7201a8"
             ],
             [
              0.3333333333333333,
              "#9c179e"
             ],
             [
              0.4444444444444444,
              "#bd3786"
             ],
             [
              0.5555555555555556,
              "#d8576b"
             ],
             [
              0.6666666666666666,
              "#ed7953"
             ],
             [
              0.7777777777777778,
              "#fb9f3a"
             ],
             [
              0.8888888888888888,
              "#fdca26"
             ],
             [
              1,
              "#f0f921"
             ]
            ],
            "type": "histogram2dcontour"
           }
          ],
          "mesh3d": [
           {
            "colorbar": {
             "outlinewidth": 0,
             "ticks": ""
            },
            "type": "mesh3d"
           }
          ],
          "parcoords": [
           {
            "line": {
             "colorbar": {
              "outlinewidth": 0,
              "ticks": ""
             }
            },
            "type": "parcoords"
           }
          ],
          "pie": [
           {
            "automargin": true,
            "type": "pie"
           }
          ],
          "scatter": [
           {
            "fillpattern": {
             "fillmode": "overlay",
             "size": 10,
             "solidity": 0.2
            },
            "type": "scatter"
           }
          ],
          "scatter3d": [
           {
            "line": {
             "colorbar": {
              "outlinewidth": 0,
              "ticks": ""
             }
            },
            "marker": {
             "colorbar": {
              "outlinewidth": 0,
              "ticks": ""
             }
            },
            "type": "scatter3d"
           }
          ],
          "scattercarpet": [
           {
            "marker": {
             "colorbar": {
              "outlinewidth": 0,
              "ticks": ""
             }
            },
            "type": "scattercarpet"
           }
          ],
          "scattergeo": [
           {
            "marker": {
             "colorbar": {
              "outlinewidth": 0,
              "ticks": ""
             }
            },
            "type": "scattergeo"
           }
          ],
          "scattergl": [
           {
            "marker": {
             "colorbar": {
              "outlinewidth": 0,
              "ticks": ""
             }
            },
            "type": "scattergl"
           }
          ],
          "scattermapbox": [
           {
            "marker": {
             "colorbar": {
              "outlinewidth": 0,
              "ticks": ""
             }
            },
            "type": "scattermapbox"
           }
          ],
          "scatterpolar": [
           {
            "marker": {
             "colorbar": {
              "outlinewidth": 0,
              "ticks": ""
             }
            },
            "type": "scatterpolar"
           }
          ],
          "scatterpolargl": [
           {
            "marker": {
             "colorbar": {
              "outlinewidth": 0,
              "ticks": ""
             }
            },
            "type": "scatterpolargl"
           }
          ],
          "scatterternary": [
           {
            "marker": {
             "colorbar": {
              "outlinewidth": 0,
              "ticks": ""
             }
            },
            "type": "scatterternary"
           }
          ],
          "surface": [
           {
            "colorbar": {
             "outlinewidth": 0,
             "ticks": ""
            },
            "colorscale": [
             [
              0,
              "#0d0887"
             ],
             [
              0.1111111111111111,
              "#46039f"
             ],
             [
              0.2222222222222222,
              "#7201a8"
             ],
             [
              0.3333333333333333,
              "#9c179e"
             ],
             [
              0.4444444444444444,
              "#bd3786"
             ],
             [
              0.5555555555555556,
              "#d8576b"
             ],
             [
              0.6666666666666666,
              "#ed7953"
             ],
             [
              0.7777777777777778,
              "#fb9f3a"
             ],
             [
              0.8888888888888888,
              "#fdca26"
             ],
             [
              1,
              "#f0f921"
             ]
            ],
            "type": "surface"
           }
          ],
          "table": [
           {
            "cells": {
             "fill": {
              "color": "#EBF0F8"
             },
             "line": {
              "color": "white"
             }
            },
            "header": {
             "fill": {
              "color": "#C8D4E3"
             },
             "line": {
              "color": "white"
             }
            },
            "type": "table"
           }
          ]
         },
         "layout": {
          "annotationdefaults": {
           "arrowcolor": "#2a3f5f",
           "arrowhead": 0,
           "arrowwidth": 1
          },
          "autotypenumbers": "strict",
          "coloraxis": {
           "colorbar": {
            "outlinewidth": 0,
            "ticks": ""
           }
          },
          "colorscale": {
           "diverging": [
            [
             0,
             "#8e0152"
            ],
            [
             0.1,
             "#c51b7d"
            ],
            [
             0.2,
             "#de77ae"
            ],
            [
             0.3,
             "#f1b6da"
            ],
            [
             0.4,
             "#fde0ef"
            ],
            [
             0.5,
             "#f7f7f7"
            ],
            [
             0.6,
             "#e6f5d0"
            ],
            [
             0.7,
             "#b8e186"
            ],
            [
             0.8,
             "#7fbc41"
            ],
            [
             0.9,
             "#4d9221"
            ],
            [
             1,
             "#276419"
            ]
           ],
           "sequential": [
            [
             0,
             "#0d0887"
            ],
            [
             0.1111111111111111,
             "#46039f"
            ],
            [
             0.2222222222222222,
             "#7201a8"
            ],
            [
             0.3333333333333333,
             "#9c179e"
            ],
            [
             0.4444444444444444,
             "#bd3786"
            ],
            [
             0.5555555555555556,
             "#d8576b"
            ],
            [
             0.6666666666666666,
             "#ed7953"
            ],
            [
             0.7777777777777778,
             "#fb9f3a"
            ],
            [
             0.8888888888888888,
             "#fdca26"
            ],
            [
             1,
             "#f0f921"
            ]
           ],
           "sequentialminus": [
            [
             0,
             "#0d0887"
            ],
            [
             0.1111111111111111,
             "#46039f"
            ],
            [
             0.2222222222222222,
             "#7201a8"
            ],
            [
             0.3333333333333333,
             "#9c179e"
            ],
            [
             0.4444444444444444,
             "#bd3786"
            ],
            [
             0.5555555555555556,
             "#d8576b"
            ],
            [
             0.6666666666666666,
             "#ed7953"
            ],
            [
             0.7777777777777778,
             "#fb9f3a"
            ],
            [
             0.8888888888888888,
             "#fdca26"
            ],
            [
             1,
             "#f0f921"
            ]
           ]
          },
          "colorway": [
           "#636efa",
           "#EF553B",
           "#00cc96",
           "#ab63fa",
           "#FFA15A",
           "#19d3f3",
           "#FF6692",
           "#B6E880",
           "#FF97FF",
           "#FECB52"
          ],
          "font": {
           "color": "#2a3f5f"
          },
          "geo": {
           "bgcolor": "white",
           "lakecolor": "white",
           "landcolor": "#E5ECF6",
           "showlakes": true,
           "showland": true,
           "subunitcolor": "white"
          },
          "hoverlabel": {
           "align": "left"
          },
          "hovermode": "closest",
          "mapbox": {
           "style": "light"
          },
          "paper_bgcolor": "white",
          "plot_bgcolor": "#E5ECF6",
          "polar": {
           "angularaxis": {
            "gridcolor": "white",
            "linecolor": "white",
            "ticks": ""
           },
           "bgcolor": "#E5ECF6",
           "radialaxis": {
            "gridcolor": "white",
            "linecolor": "white",
            "ticks": ""
           }
          },
          "scene": {
           "xaxis": {
            "backgroundcolor": "#E5ECF6",
            "gridcolor": "white",
            "gridwidth": 2,
            "linecolor": "white",
            "showbackground": true,
            "ticks": "",
            "zerolinecolor": "white"
           },
           "yaxis": {
            "backgroundcolor": "#E5ECF6",
            "gridcolor": "white",
            "gridwidth": 2,
            "linecolor": "white",
            "showbackground": true,
            "ticks": "",
            "zerolinecolor": "white"
           },
           "zaxis": {
            "backgroundcolor": "#E5ECF6",
            "gridcolor": "white",
            "gridwidth": 2,
            "linecolor": "white",
            "showbackground": true,
            "ticks": "",
            "zerolinecolor": "white"
           }
          },
          "shapedefaults": {
           "line": {
            "color": "#2a3f5f"
           }
          },
          "ternary": {
           "aaxis": {
            "gridcolor": "white",
            "linecolor": "white",
            "ticks": ""
           },
           "baxis": {
            "gridcolor": "white",
            "linecolor": "white",
            "ticks": ""
           },
           "bgcolor": "#E5ECF6",
           "caxis": {
            "gridcolor": "white",
            "linecolor": "white",
            "ticks": ""
           }
          },
          "title": {
           "x": 0.05
          },
          "xaxis": {
           "automargin": true,
           "gridcolor": "white",
           "linecolor": "white",
           "ticks": "",
           "title": {
            "standoff": 15
           },
           "zerolinecolor": "white",
           "zerolinewidth": 2
          },
          "yaxis": {
           "automargin": true,
           "gridcolor": "white",
           "linecolor": "white",
           "ticks": "",
           "title": {
            "standoff": 15
           },
           "zerolinecolor": "white",
           "zerolinewidth": 2
          }
         }
        },
        "width": 1000,
        "xaxis": {
         "anchor": "y",
         "domain": [
          0,
          1
         ],
         "title": {
          "text": "Mean average precision - Standard CP"
         }
        },
        "yaxis": {
         "anchor": "x",
         "domain": [
          0,
          1
         ],
         "title": {
          "text": "Mean average precision - ChromaLive + Hoechst"
         }
        }
       }
      }
     },
     "metadata": {},
     "output_type": "display_data"
    }
   ],
   "source": [
    "scatter_plot_comparison_colorblack_trendline(df_treatment, col1='Standard CP', col2='ChromaLive + Hoechst')"
   ]
  },
  {
   "cell_type": "code",
   "execution_count": null,
   "metadata": {},
   "outputs": [],
   "source": []
  }
 ],
 "metadata": {
  "kernelspec": {
   "display_name": "copairs",
   "language": "python",
   "name": "python3"
  },
  "language_info": {
   "codemirror_mode": {
    "name": "ipython",
    "version": 3
   },
   "file_extension": ".py",
   "mimetype": "text/x-python",
   "name": "python",
   "nbconvert_exporter": "python",
   "pygments_lexer": "ipython3",
   "version": "3.12.2"
  }
 },
 "nbformat": 4,
 "nbformat_minor": 2
}
