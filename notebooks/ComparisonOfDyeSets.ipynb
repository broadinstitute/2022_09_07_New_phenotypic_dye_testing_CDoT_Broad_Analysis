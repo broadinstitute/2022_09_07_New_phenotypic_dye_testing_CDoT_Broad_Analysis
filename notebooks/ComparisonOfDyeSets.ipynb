{
 "cells": [
  {
   "cell_type": "code",
   "execution_count": 1,
   "metadata": {},
   "outputs": [
    {
     "name": "stdout",
     "output_type": "stream",
     "text": [
      "Python 3.12.2\n"
     ]
    }
   ],
   "source": [
    "!python --version"
   ]
  },
  {
   "cell_type": "code",
   "execution_count": 18,
   "metadata": {},
   "outputs": [
    {
     "name": "stdout",
     "output_type": "stream",
     "text": [
      "The autoreload extension is already loaded. To reload it, use:\n",
      "  %reload_ext autoreload\n"
     ]
    }
   ],
   "source": [
    "#importing necessary modules \n",
    "import pandas as pd\n",
    "import numpy as np\n",
    "import matplotlib.pyplot as plt\n",
    "from sklearn.decomposition import PCA\n",
    "from sklearn.preprocessing import StandardScaler\n",
    "import plotly.graph_objects as go\n",
    "from plotly.subplots import make_subplots\n",
    "import plotly.express as px\n",
    "import seaborn as sns\n",
    "import copairs\n",
    "import pycytominer\n",
    "from copairs.map import average_precision\n",
    "from copairs.map import mean_average_precision\n",
    "from utils import * \n",
    "\n",
    "%load_ext autoreload\n",
    "%autoreload 2"
   ]
  },
  {
   "cell_type": "code",
   "execution_count": 3,
   "metadata": {},
   "outputs": [
    {
     "name": "stdout",
     "output_type": "stream",
     "text": [
      "Name: copairs\n",
      "Version: 0.4.1\n",
      "Summary: Find pairs and compute metrics between them\n",
      "Home-page: \n",
      "Author: \n",
      "Author-email: John Arevalo <johnarevalo@gmail.com>\n",
      "License: \n",
      "Location: c:\\Users\\ssivagur\\Anaconda3\\envs\\copairs\\Lib\\site-packages\n",
      "Requires: pandas, statsmodels, tqdm\n",
      "Required-by: \n",
      "Note: you may need to restart the kernel to use updated packages.\n"
     ]
    }
   ],
   "source": [
    "pip show copairs"
   ]
  },
  {
   "cell_type": "markdown",
   "metadata": {},
   "source": [
    "### Phenotypic activity"
   ]
  },
  {
   "cell_type": "markdown",
   "metadata": {},
   "source": [
    "#### Reading the result csv of copairs to get add the cell count info "
   ]
  },
  {
   "cell_type": "code",
   "execution_count": 15,
   "metadata": {},
   "outputs": [],
   "source": [
    "result_csv ={'c:\\\\Users\\\\ssivagur\\\\Documents\\\\Projects\\\\Cell_painting_projects\\\\CDoT\\\\Batch3_analysis_redo\\\\UpdatedCopairsVersion\\\\BR00122250_normalized_feature_select_negcon_batch_Result_NegconNorm_mAP_wrt_Control_woNAN.csv':'Standard CP', \n",
    "             'c:\\\\Users\\\\ssivagur\\\\Documents\\\\Projects\\\\Cell_painting_projects\\\\CDoT\\\\Batch3_analysis_redo\\\\UpdatedCopairsVersion\\\\BR00122246_normalized_feature_select_negcon_batch_Result_NegconNorm_mAP_wrt_Control_woNAN.csv':'CP + MitoBrilliant',\n",
    "            'c:\\\\Users\\\\ssivagur\\\\Documents\\\\Projects\\\\Cell_painting_projects\\\\CDoT\\\\Batch3_analysis_redo\\\\UpdatedCopairsVersion\\\\BR00122247_normalized_feature_select_negcon_batch_Result_NegconNorm_mAP_wrt_Control_woNAN.csv':'CP + Phenovue phalloidin 400LS',\n",
    "            'c:\\\\Users\\\\ssivagur\\\\Documents\\\\Projects\\\\Cell_painting_projects\\\\CDoT\\\\Batch3_analysis_redo\\\\UpdatedCopairsVersion\\\\BR00122248_normalized_feature_select_negcon_batch_Result_NegconNorm_mAP_wrt_Control_woNAN.csv':'Standard CP (exposed to ChromaLive)',\n",
    "            'c:\\\\Users\\\\ssivagur\\\\Documents\\\\Projects\\\\Cell_painting_projects\\\\CDoT\\\\Batch3_analysis_redo\\\\UpdatedCopairsVersion\\\\BR00122249_normalized_feature_select_negcon_batch_wo_phasefeatures_Result_NegconNorm_mAP_wrt_Control_woNAN.csv':'ChromaLive + Hoechst'}"
   ]
  },
  {
   "cell_type": "markdown",
   "metadata": {},
   "source": [
    "#### Reading the aggregate csv files of copairs "
   ]
  },
  {
   "cell_type": "code",
   "execution_count": 16,
   "metadata": {},
   "outputs": [],
   "source": [
    "aggregate_files_dict = {'c:\\\\Users\\\\ssivagur\\\\Documents\\\\Projects\\\\Cell_painting_projects\\\\CDoT\\\\Batch3_analysis_redo\\\\UpdatedCopairsVersion\\\\BR00122250_normalized_feature_select_negcon_batch_Aggregate_result_NegconNorm_mAP_wrt_Control_woNAN.csv':'Standard CP',\n",
    "                        'c:\\\\Users\\\\ssivagur\\\\Documents\\\\Projects\\\\Cell_painting_projects\\\\CDoT\\\\Batch3_analysis_redo\\\\UpdatedCopairsVersion\\\\BR00122246_normalized_feature_select_negcon_batch_Aggregate_result_NegconNorm_mAP_wrt_Control_woNAN.csv':'CP + MitoBrilliant',\n",
    "                        'c:\\\\Users\\\\ssivagur\\\\Documents\\\\Projects\\\\Cell_painting_projects\\\\CDoT\\\\Batch3_analysis_redo\\\\UpdatedCopairsVersion\\\\BR00122247_normalized_feature_select_negcon_batch_Aggregate_result_NegconNorm_mAP_wrt_Control_woNAN.csv':'CP + Phenovue phalloidin 400LS',\n",
    "                        'c:\\\\Users\\\\ssivagur\\\\Documents\\\\Projects\\\\Cell_painting_projects\\\\CDoT\\\\Batch3_analysis_redo\\\\UpdatedCopairsVersion\\\\BR00122248_normalized_feature_select_negcon_batch_Aggregate_result_NegconNorm_mAP_wrt_Control_woNAN.csv':'Standard CP (exposed to ChromaLive)',\n",
    "                        'c:\\\\Users\\\\ssivagur\\\\Documents\\\\Projects\\\\Cell_painting_projects\\\\CDoT\\\\Batch3_analysis_redo\\\\UpdatedCopairsVersion\\\\BR00122249_normalized_feature_select_negcon_batch_wo_phasefeatures_Aggregate_result_NegconNorm_mAP_wrt_Control_woNAN.csv':'ChromaLive + Hoechst'}"
   ]
  },
  {
   "cell_type": "code",
   "execution_count": 17,
   "metadata": {},
   "outputs": [],
   "source": [
    "moA_control_plot, df_controls = cell_count_norm_colorscheme(result_csv, aggregate_files_dict)"
   ]
  },
  {
   "cell_type": "markdown",
   "metadata": {},
   "source": [
    "### Plot "
   ]
  },
  {
   "cell_type": "code",
   "execution_count": 9,
   "metadata": {},
   "outputs": [
    {
     "data": {
      "application/vnd.plotly.v1+json": {
       "config": {
        "plotlyServerURL": "https://plot.ly"
       },
       "data": [
        {
         "hovertemplate": "<b>%{hovertext}</b><br><br>color=Other<br>Mean average precision - Standard CP=%{x}<br>Mean average precision - Standard CP (exposed to ChromaLive)=%{y}<extra></extra>",
         "hovertext": [
          "tumor necrosis factor production inhibitor",
          "antihistamine",
          "acetylcholine receptor antagonist",
          "pyruvate dehydrogenase kinase inhibitor",
          "protein tyrosine kinase inhibitor",
          "antihistamine",
          "hepatocyte growth factor receptor inhibitor",
          "CHK inhibitor",
          "glycogen synthase kinase inhibitor",
          "histone lysine methyltransferase inhibitor",
          "inosine monophosphate dehydrogenase inhibitor",
          "CDC inhibitor",
          "PARP inhibitor",
          "bromodomain inhibitor",
          "glycogen synthase kinase inhibitor",
          "JAK inhibitor",
          "Apoptosis inducer (ATP-competitive kinase inhibitor)",
          "hepatocyte growth factor receptor inhibitor",
          "bromodomain inhibitor",
          "MEK inhibitor",
          "Aurora kinase inhibitor",
          "LXR agonist",
          "phospholipase inhibitor",
          "IGF-1 inhibitor",
          "tricyclic antidepressant",
          "histone lysine demethylase inhibitor",
          "phosphodiesterase inhibitor",
          "beta-catenin inhibitor",
          "JNK inhibitor",
          "LXR agonist",
          "DNA inhibitor",
          "kinesin inhibitor",
          "phosphoinositide dependent kinase inhibitor",
          "FGFR inhibitor",
          "Bcr-Abl kinase inhibitor",
          "AMPK inhibitor",
          "pyruvate dehydrogenase kinase inhibitor",
          "phospholipase inhibitor",
          "Aurora kinase inhibitor",
          "JAK inhibitor",
          "tricyclic antidepressant",
          "PARP inhibitor",
          "BCL inhibitor",
          "inosine monophosphate dehydrogenase inhibitor",
          "MEK inhibitor",
          "histone lysine methyltransferase inhibitor",
          "HDAC inhibitor",
          "HDAC inhibitor",
          "BCL inhibitor",
          "phosphodiesterase inhibitor",
          "kinesin inhibitor",
          "CDK inhibitor",
          "CDC inhibitor",
          "RAF inhibitor",
          "protein tyrosine kinase inhibitor",
          "MAP kinase inhibitor",
          "ER stressor (SERCA inhibitor)",
          "Apoptosis inducer (transcription inhibitor)",
          "phosphoinositide dependent kinase inhibitor",
          "FGFR inhibitor",
          "DNA inhibitor",
          "smoothened receptor agonist",
          "JNK inhibitor",
          "CHK inhibitor",
          "EGFR inhibitor",
          "androgen receptor modulator",
          "HMGCR inhibitor",
          "acetylcholine receptor antagonist",
          "p38 MAPK inhibitor",
          "EGFR inhibitor",
          "HMGCR inhibitor",
          "IGF-1 inhibitor",
          "protein arginine N-methyltransferase inhibitor",
          "Bcr-Abl kinase inhibitor",
          "MAP kinase inhibitor",
          "ubiquitin specific protease inhibitor",
          "beta-catenin inhibitor",
          "CDK inhibitor",
          "histone lysine demethylase inhibitor",
          "hypoxia inducible factor inhibitor",
          "androgen receptor modulator",
          "mTOR inhibitor",
          "hypoxia inducible factor inhibitor"
         ],
         "legendgroup": "Other",
         "marker": {
          "color": "darkgrey",
          "size": 14,
          "symbol": "circle"
         },
         "mode": "markers",
         "name": "Other",
         "orientation": "v",
         "showlegend": true,
         "type": "scatter",
         "x": [
          0.2944622507122507,
          0.4792508417508417,
          0.319870857699805,
          1,
          0.2676155969634231,
          0.3374634502923976,
          1,
          1,
          1,
          0.3198193337163925,
          1,
          1,
          0.2917989417989418,
          0.8875,
          1,
          0.3150836783988958,
          1,
          0.1536923878196257,
          1,
          0.675,
          1,
          1,
          0.3332581598099332,
          1,
          0.1386736411736411,
          0.8377976190476191,
          0.3261078042328042,
          0.2779858077340915,
          0.3716928904428904,
          0.6833333333333333,
          0.279142501017501,
          1,
          1,
          1,
          1,
          1,
          1,
          1,
          1,
          0.7496031746031745,
          0.2060171854289501,
          1,
          1,
          0.9583333333333334,
          1,
          1,
          1,
          1,
          0.9097222222222222,
          0.1116510292826082,
          1,
          1,
          0.3768786768786769,
          1,
          0.1934468952947214,
          0.4020197273486747,
          1,
          1,
          1,
          1,
          1,
          0.7472222222222222,
          0.4298340548340548,
          1,
          0.4321937321937322,
          0.1618973346914523,
          0.3379400691900692,
          0.2155818668046928,
          1,
          1,
          0.2000589225589225,
          1,
          0.4715078766549354,
          0.9666666666666668,
          0.90625,
          1,
          1,
          1,
          1,
          0.2409419026679088,
          0.2155164108337482,
          1,
          1
         ],
         "xaxis": "x",
         "y": [
          0.2581150793650794,
          0.1912890214360802,
          0.1658369408369408,
          0.8680555555555556,
          0.3758415568050949,
          0.2324854421893895,
          1,
          1,
          1,
          0.4154995331465919,
          1,
          1,
          0.1556814713064713,
          1,
          0.9791666666666666,
          0.2133162861104037,
          0.925,
          0.2154039552065867,
          1,
          0.4540824915824916,
          1,
          1,
          0.3401552492341966,
          1,
          0.2566279562931198,
          0.7777777777777777,
          0.1786914216674278,
          0.2303865711159761,
          0.5907828282828282,
          0.631547619047619,
          0.1203641845745426,
          1,
          1,
          1,
          1,
          0.7155753968253968,
          1,
          0.9666666666666668,
          0.8694444444444445,
          0.7222222222222222,
          0.1592156685906686,
          1,
          0.7791666666666667,
          1,
          1,
          0.9513888888888888,
          1,
          0.9375,
          0.8204365079365079,
          0.1582135797209326,
          1,
          1,
          0.249017649017649,
          0.8833333333333333,
          0.4066880341880342,
          0.2260547201336675,
          1,
          1,
          1,
          1,
          1,
          0.8833333333333333,
          0.2130186600838775,
          1,
          0.7258928571428571,
          0.1997802646699705,
          0.3300189393939394,
          0.350976800976801,
          0.7468253968253968,
          0.7375,
          0.1461048673548673,
          1,
          0.2863131031609292,
          1,
          1,
          0.9583333333333331,
          1,
          1,
          1,
          0.29921940267335,
          0.2008671761961235,
          1,
          1
         ],
         "yaxis": "y"
        },
        {
         "hovertemplate": "<b>%{hovertext}</b><br><br>color=tumor necrosis factor production inhibitor<br>Mean average precision - Standard CP=%{x}<br>Mean average precision - Standard CP (exposed to ChromaLive)=%{y}<extra></extra>",
         "hovertext": [
          "tumor necrosis factor production inhibitor"
         ],
         "legendgroup": "tumor necrosis factor production inhibitor",
         "marker": {
          "color": "#00cc96",
          "size": 14,
          "symbol": "circle"
         },
         "mode": "markers",
         "name": "tumor necrosis factor production inhibitor",
         "orientation": "v",
         "showlegend": true,
         "type": "scatter",
         "x": [
          0.6796626984126983
         ],
         "xaxis": "x",
         "y": [
          0.2168022691532753
         ],
         "yaxis": "y"
        },
        {
         "hovertemplate": "<b>%{hovertext}</b><br><br>color=ubiquitin specific protease inhibitor<br>Mean average precision - Standard CP=%{x}<br>Mean average precision - Standard CP (exposed to ChromaLive)=%{y}<extra></extra>",
         "hovertext": [
          "ubiquitin specific protease inhibitor"
         ],
         "legendgroup": "ubiquitin specific protease inhibitor",
         "marker": {
          "color": "#ab63fa",
          "size": 14,
          "symbol": "circle"
         },
         "mode": "markers",
         "name": "ubiquitin specific protease inhibitor",
         "orientation": "v",
         "showlegend": true,
         "type": "scatter",
         "x": [
          0.7805555555555556
         ],
         "xaxis": "x",
         "y": [
          0.451497113997114
         ],
         "yaxis": "y"
        },
        {
         "hovertemplate": "<b>%{hovertext}</b><br><br>color=RAF inhibitor<br>Mean average precision - Standard CP=%{x}<br>Mean average precision - Standard CP (exposed to ChromaLive)=%{y}<extra></extra>",
         "hovertext": [
          "RAF inhibitor"
         ],
         "legendgroup": "RAF inhibitor",
         "marker": {
          "color": "#FFA15A",
          "size": 14,
          "symbol": "circle"
         },
         "mode": "markers",
         "name": "RAF inhibitor",
         "orientation": "v",
         "showlegend": true,
         "type": "scatter",
         "x": [
          0.3442460317460317
         ],
         "xaxis": "x",
         "y": [
          0.6478174603174603
         ],
         "yaxis": "y"
        },
        {
         "hovertemplate": "<b>%{hovertext}</b><br><br>color=protein arginine N-methyltransferase inhibitor<br>Mean average precision - Standard CP=%{x}<br>Mean average precision - Standard CP (exposed to ChromaLive)=%{y}<extra></extra>",
         "hovertext": [
          "protein arginine N-methyltransferase inhibitor"
         ],
         "legendgroup": "protein arginine N-methyltransferase inhibitor",
         "marker": {
          "color": "#19d3f3",
          "size": 14,
          "symbol": "circle"
         },
         "mode": "markers",
         "name": "protein arginine N-methyltransferase inhibitor",
         "orientation": "v",
         "showlegend": true,
         "type": "scatter",
         "x": [
          1
         ],
         "xaxis": "x",
         "y": [
          0.6629807692307692
         ],
         "yaxis": "y"
        },
        {
         "hovertemplate": "<b>%{hovertext}</b><br><br>color=mTOR inhibitor<br>Mean average precision - Standard CP=%{x}<br>Mean average precision - Standard CP (exposed to ChromaLive)=%{y}<extra></extra>",
         "hovertext": [
          "mTOR inhibitor"
         ],
         "legendgroup": "mTOR inhibitor",
         "marker": {
          "color": "#FF6692",
          "size": 14,
          "symbol": "circle"
         },
         "mode": "markers",
         "name": "mTOR inhibitor",
         "orientation": "v",
         "showlegend": true,
         "type": "scatter",
         "x": [
          1
         ],
         "xaxis": "x",
         "y": [
          0.6791666666666666
         ],
         "yaxis": "y"
        },
        {
         "hovertemplate": "<b>%{hovertext}</b><br><br>color=p38 MAPK inhibitor<br>Mean average precision - Standard CP=%{x}<br>Mean average precision - Standard CP (exposed to ChromaLive)=%{y}<extra></extra>",
         "hovertext": [
          "p38 MAPK inhibitor"
         ],
         "legendgroup": "p38 MAPK inhibitor",
         "marker": {
          "color": "#B6E880",
          "size": 14,
          "symbol": "circle"
         },
         "mode": "markers",
         "name": "p38 MAPK inhibitor",
         "orientation": "v",
         "showlegend": true,
         "type": "scatter",
         "x": [
          0.8236111111111111
         ],
         "xaxis": "x",
         "y": [
          0.4768696581196581
         ],
         "yaxis": "y"
        },
        {
         "hovertemplate": "<b>%{hovertext}</b><br><br>color=smoothened receptor agonist<br>Mean average precision - Standard CP=%{x}<br>Mean average precision - Standard CP (exposed to ChromaLive)=%{y}<extra></extra>",
         "hovertext": [
          "smoothened receptor agonist"
         ],
         "legendgroup": "smoothened receptor agonist",
         "marker": {
          "color": "#FF97FF",
          "size": 14,
          "symbol": "circle"
         },
         "mode": "markers",
         "name": "smoothened receptor agonist",
         "orientation": "v",
         "showlegend": true,
         "type": "scatter",
         "x": [
          0.8854166666666666
         ],
         "xaxis": "x",
         "y": [
          0.5430555555555555
         ],
         "yaxis": "y"
        }
       ],
       "layout": {
        "font": {
         "color": "Black",
         "family": "sans serif",
         "size": 26
        },
        "height": 1200,
        "legend": {
         "orientation": "h",
         "title": {
          "text": "color"
         },
         "tracegroupgap": 0
        },
        "margin": {
         "t": 60
        },
        "plot_bgcolor": "rgba(0,0,0,0)",
        "shapes": [
         {
          "line": {
           "color": "lightgrey",
           "dash": "dashdot"
          },
          "type": "line",
          "x0": 0,
          "x1": 1,
          "y0": 0,
          "y1": 1
         }
        ],
        "template": {
         "data": {
          "bar": [
           {
            "error_x": {
             "color": "#2a3f5f"
            },
            "error_y": {
             "color": "#2a3f5f"
            },
            "marker": {
             "line": {
              "color": "#E5ECF6",
              "width": 0.5
             },
             "pattern": {
              "fillmode": "overlay",
              "size": 10,
              "solidity": 0.2
             }
            },
            "type": "bar"
           }
          ],
          "barpolar": [
           {
            "marker": {
             "line": {
              "color": "#E5ECF6",
              "width": 0.5
             },
             "pattern": {
              "fillmode": "overlay",
              "size": 10,
              "solidity": 0.2
             }
            },
            "type": "barpolar"
           }
          ],
          "carpet": [
           {
            "aaxis": {
             "endlinecolor": "#2a3f5f",
             "gridcolor": "white",
             "linecolor": "white",
             "minorgridcolor": "white",
             "startlinecolor": "#2a3f5f"
            },
            "baxis": {
             "endlinecolor": "#2a3f5f",
             "gridcolor": "white",
             "linecolor": "white",
             "minorgridcolor": "white",
             "startlinecolor": "#2a3f5f"
            },
            "type": "carpet"
           }
          ],
          "choropleth": [
           {
            "colorbar": {
             "outlinewidth": 0,
             "ticks": ""
            },
            "type": "choropleth"
           }
          ],
          "contour": [
           {
            "colorbar": {
             "outlinewidth": 0,
             "ticks": ""
            },
            "colorscale": [
             [
              0,
              "#0d0887"
             ],
             [
              0.1111111111111111,
              "#46039f"
             ],
             [
              0.2222222222222222,
              "#7201a8"
             ],
             [
              0.3333333333333333,
              "#9c179e"
             ],
             [
              0.4444444444444444,
              "#bd3786"
             ],
             [
              0.5555555555555556,
              "#d8576b"
             ],
             [
              0.6666666666666666,
              "#ed7953"
             ],
             [
              0.7777777777777778,
              "#fb9f3a"
             ],
             [
              0.8888888888888888,
              "#fdca26"
             ],
             [
              1,
              "#f0f921"
             ]
            ],
            "type": "contour"
           }
          ],
          "contourcarpet": [
           {
            "colorbar": {
             "outlinewidth": 0,
             "ticks": ""
            },
            "type": "contourcarpet"
           }
          ],
          "heatmap": [
           {
            "colorbar": {
             "outlinewidth": 0,
             "ticks": ""
            },
            "colorscale": [
             [
              0,
              "#0d0887"
             ],
             [
              0.1111111111111111,
              "#46039f"
             ],
             [
              0.2222222222222222,
              "#7201a8"
             ],
             [
              0.3333333333333333,
              "#9c179e"
             ],
             [
              0.4444444444444444,
              "#bd3786"
             ],
             [
              0.5555555555555556,
              "#d8576b"
             ],
             [
              0.6666666666666666,
              "#ed7953"
             ],
             [
              0.7777777777777778,
              "#fb9f3a"
             ],
             [
              0.8888888888888888,
              "#fdca26"
             ],
             [
              1,
              "#f0f921"
             ]
            ],
            "type": "heatmap"
           }
          ],
          "heatmapgl": [
           {
            "colorbar": {
             "outlinewidth": 0,
             "ticks": ""
            },
            "colorscale": [
             [
              0,
              "#0d0887"
             ],
             [
              0.1111111111111111,
              "#46039f"
             ],
             [
              0.2222222222222222,
              "#7201a8"
             ],
             [
              0.3333333333333333,
              "#9c179e"
             ],
             [
              0.4444444444444444,
              "#bd3786"
             ],
             [
              0.5555555555555556,
              "#d8576b"
             ],
             [
              0.6666666666666666,
              "#ed7953"
             ],
             [
              0.7777777777777778,
              "#fb9f3a"
             ],
             [
              0.8888888888888888,
              "#fdca26"
             ],
             [
              1,
              "#f0f921"
             ]
            ],
            "type": "heatmapgl"
           }
          ],
          "histogram": [
           {
            "marker": {
             "pattern": {
              "fillmode": "overlay",
              "size": 10,
              "solidity": 0.2
             }
            },
            "type": "histogram"
           }
          ],
          "histogram2d": [
           {
            "colorbar": {
             "outlinewidth": 0,
             "ticks": ""
            },
            "colorscale": [
             [
              0,
              "#0d0887"
             ],
             [
              0.1111111111111111,
              "#46039f"
             ],
             [
              0.2222222222222222,
              "#7201a8"
             ],
             [
              0.3333333333333333,
              "#9c179e"
             ],
             [
              0.4444444444444444,
              "#bd3786"
             ],
             [
              0.5555555555555556,
              "#d8576b"
             ],
             [
              0.6666666666666666,
              "#ed7953"
             ],
             [
              0.7777777777777778,
              "#fb9f3a"
             ],
             [
              0.8888888888888888,
              "#fdca26"
             ],
             [
              1,
              "#f0f921"
             ]
            ],
            "type": "histogram2d"
           }
          ],
          "histogram2dcontour": [
           {
            "colorbar": {
             "outlinewidth": 0,
             "ticks": ""
            },
            "colorscale": [
             [
              0,
              "#0d0887"
             ],
             [
              0.1111111111111111,
              "#46039f"
             ],
             [
              0.2222222222222222,
              "#7201a8"
             ],
             [
              0.3333333333333333,
              "#9c179e"
             ],
             [
              0.4444444444444444,
              "#bd3786"
             ],
             [
              0.5555555555555556,
              "#d8576b"
             ],
             [
              0.6666666666666666,
              "#ed7953"
             ],
             [
              0.7777777777777778,
              "#fb9f3a"
             ],
             [
              0.8888888888888888,
              "#fdca26"
             ],
             [
              1,
              "#f0f921"
             ]
            ],
            "type": "histogram2dcontour"
           }
          ],
          "mesh3d": [
           {
            "colorbar": {
             "outlinewidth": 0,
             "ticks": ""
            },
            "type": "mesh3d"
           }
          ],
          "parcoords": [
           {
            "line": {
             "colorbar": {
              "outlinewidth": 0,
              "ticks": ""
             }
            },
            "type": "parcoords"
           }
          ],
          "pie": [
           {
            "automargin": true,
            "type": "pie"
           }
          ],
          "scatter": [
           {
            "fillpattern": {
             "fillmode": "overlay",
             "size": 10,
             "solidity": 0.2
            },
            "type": "scatter"
           }
          ],
          "scatter3d": [
           {
            "line": {
             "colorbar": {
              "outlinewidth": 0,
              "ticks": ""
             }
            },
            "marker": {
             "colorbar": {
              "outlinewidth": 0,
              "ticks": ""
             }
            },
            "type": "scatter3d"
           }
          ],
          "scattercarpet": [
           {
            "marker": {
             "colorbar": {
              "outlinewidth": 0,
              "ticks": ""
             }
            },
            "type": "scattercarpet"
           }
          ],
          "scattergeo": [
           {
            "marker": {
             "colorbar": {
              "outlinewidth": 0,
              "ticks": ""
             }
            },
            "type": "scattergeo"
           }
          ],
          "scattergl": [
           {
            "marker": {
             "colorbar": {
              "outlinewidth": 0,
              "ticks": ""
             }
            },
            "type": "scattergl"
           }
          ],
          "scattermapbox": [
           {
            "marker": {
             "colorbar": {
              "outlinewidth": 0,
              "ticks": ""
             }
            },
            "type": "scattermapbox"
           }
          ],
          "scatterpolar": [
           {
            "marker": {
             "colorbar": {
              "outlinewidth": 0,
              "ticks": ""
             }
            },
            "type": "scatterpolar"
           }
          ],
          "scatterpolargl": [
           {
            "marker": {
             "colorbar": {
              "outlinewidth": 0,
              "ticks": ""
             }
            },
            "type": "scatterpolargl"
           }
          ],
          "scatterternary": [
           {
            "marker": {
             "colorbar": {
              "outlinewidth": 0,
              "ticks": ""
             }
            },
            "type": "scatterternary"
           }
          ],
          "surface": [
           {
            "colorbar": {
             "outlinewidth": 0,
             "ticks": ""
            },
            "colorscale": [
             [
              0,
              "#0d0887"
             ],
             [
              0.1111111111111111,
              "#46039f"
             ],
             [
              0.2222222222222222,
              "#7201a8"
             ],
             [
              0.3333333333333333,
              "#9c179e"
             ],
             [
              0.4444444444444444,
              "#bd3786"
             ],
             [
              0.5555555555555556,
              "#d8576b"
             ],
             [
              0.6666666666666666,
              "#ed7953"
             ],
             [
              0.7777777777777778,
              "#fb9f3a"
             ],
             [
              0.8888888888888888,
              "#fdca26"
             ],
             [
              1,
              "#f0f921"
             ]
            ],
            "type": "surface"
           }
          ],
          "table": [
           {
            "cells": {
             "fill": {
              "color": "#EBF0F8"
             },
             "line": {
              "color": "white"
             }
            },
            "header": {
             "fill": {
              "color": "#C8D4E3"
             },
             "line": {
              "color": "white"
             }
            },
            "type": "table"
           }
          ]
         },
         "layout": {
          "annotationdefaults": {
           "arrowcolor": "#2a3f5f",
           "arrowhead": 0,
           "arrowwidth": 1
          },
          "autotypenumbers": "strict",
          "coloraxis": {
           "colorbar": {
            "outlinewidth": 0,
            "ticks": ""
           }
          },
          "colorscale": {
           "diverging": [
            [
             0,
             "#8e0152"
            ],
            [
             0.1,
             "#c51b7d"
            ],
            [
             0.2,
             "#de77ae"
            ],
            [
             0.3,
             "#f1b6da"
            ],
            [
             0.4,
             "#fde0ef"
            ],
            [
             0.5,
             "#f7f7f7"
            ],
            [
             0.6,
             "#e6f5d0"
            ],
            [
             0.7,
             "#b8e186"
            ],
            [
             0.8,
             "#7fbc41"
            ],
            [
             0.9,
             "#4d9221"
            ],
            [
             1,
             "#276419"
            ]
           ],
           "sequential": [
            [
             0,
             "#0d0887"
            ],
            [
             0.1111111111111111,
             "#46039f"
            ],
            [
             0.2222222222222222,
             "#7201a8"
            ],
            [
             0.3333333333333333,
             "#9c179e"
            ],
            [
             0.4444444444444444,
             "#bd3786"
            ],
            [
             0.5555555555555556,
             "#d8576b"
            ],
            [
             0.6666666666666666,
             "#ed7953"
            ],
            [
             0.7777777777777778,
             "#fb9f3a"
            ],
            [
             0.8888888888888888,
             "#fdca26"
            ],
            [
             1,
             "#f0f921"
            ]
           ],
           "sequentialminus": [
            [
             0,
             "#0d0887"
            ],
            [
             0.1111111111111111,
             "#46039f"
            ],
            [
             0.2222222222222222,
             "#7201a8"
            ],
            [
             0.3333333333333333,
             "#9c179e"
            ],
            [
             0.4444444444444444,
             "#bd3786"
            ],
            [
             0.5555555555555556,
             "#d8576b"
            ],
            [
             0.6666666666666666,
             "#ed7953"
            ],
            [
             0.7777777777777778,
             "#fb9f3a"
            ],
            [
             0.8888888888888888,
             "#fdca26"
            ],
            [
             1,
             "#f0f921"
            ]
           ]
          },
          "colorway": [
           "#636efa",
           "#EF553B",
           "#00cc96",
           "#ab63fa",
           "#FFA15A",
           "#19d3f3",
           "#FF6692",
           "#B6E880",
           "#FF97FF",
           "#FECB52"
          ],
          "font": {
           "color": "#2a3f5f"
          },
          "geo": {
           "bgcolor": "white",
           "lakecolor": "white",
           "landcolor": "#E5ECF6",
           "showlakes": true,
           "showland": true,
           "subunitcolor": "white"
          },
          "hoverlabel": {
           "align": "left"
          },
          "hovermode": "closest",
          "mapbox": {
           "style": "light"
          },
          "paper_bgcolor": "white",
          "plot_bgcolor": "#E5ECF6",
          "polar": {
           "angularaxis": {
            "gridcolor": "white",
            "linecolor": "white",
            "ticks": ""
           },
           "bgcolor": "#E5ECF6",
           "radialaxis": {
            "gridcolor": "white",
            "linecolor": "white",
            "ticks": ""
           }
          },
          "scene": {
           "xaxis": {
            "backgroundcolor": "#E5ECF6",
            "gridcolor": "white",
            "gridwidth": 2,
            "linecolor": "white",
            "showbackground": true,
            "ticks": "",
            "zerolinecolor": "white"
           },
           "yaxis": {
            "backgroundcolor": "#E5ECF6",
            "gridcolor": "white",
            "gridwidth": 2,
            "linecolor": "white",
            "showbackground": true,
            "ticks": "",
            "zerolinecolor": "white"
           },
           "zaxis": {
            "backgroundcolor": "#E5ECF6",
            "gridcolor": "white",
            "gridwidth": 2,
            "linecolor": "white",
            "showbackground": true,
            "ticks": "",
            "zerolinecolor": "white"
           }
          },
          "shapedefaults": {
           "line": {
            "color": "#2a3f5f"
           }
          },
          "ternary": {
           "aaxis": {
            "gridcolor": "white",
            "linecolor": "white",
            "ticks": ""
           },
           "baxis": {
            "gridcolor": "white",
            "linecolor": "white",
            "ticks": ""
           },
           "bgcolor": "#E5ECF6",
           "caxis": {
            "gridcolor": "white",
            "linecolor": "white",
            "ticks": ""
           }
          },
          "title": {
           "x": 0.05
          },
          "xaxis": {
           "automargin": true,
           "gridcolor": "white",
           "linecolor": "white",
           "ticks": "",
           "title": {
            "standoff": 15
           },
           "zerolinecolor": "white",
           "zerolinewidth": 2
          },
          "yaxis": {
           "automargin": true,
           "gridcolor": "white",
           "linecolor": "white",
           "ticks": "",
           "title": {
            "standoff": 15
           },
           "zerolinecolor": "white",
           "zerolinewidth": 2
          }
         }
        },
        "width": 1000,
        "xaxis": {
         "anchor": "y",
         "domain": [
          0,
          1
         ],
         "linecolor": "black",
         "showline": true,
         "ticks": "outside",
         "title": {
          "text": "Mean average precision - Standard CP"
         }
        },
        "yaxis": {
         "anchor": "x",
         "domain": [
          0,
          1
         ],
         "linecolor": "black",
         "showline": true,
         "ticks": "outside",
         "title": {
          "text": "Mean average precision - Standard CP (exposed to ChromaLive)"
         }
        }
       }
      }
     },
     "metadata": {},
     "output_type": "display_data"
    }
   ],
   "source": [
    "scatter_plot_comparison_colorblack(df_controls,col1='Standard CP', col2='Standard CP (exposed to ChromaLive)', cutoff=0.3)"
   ]
  },
  {
   "cell_type": "markdown",
   "metadata": {},
   "source": [
    "### Plot with trendline"
   ]
  },
  {
   "cell_type": "code",
   "execution_count": 19,
   "metadata": {},
   "outputs": [
    {
     "data": {
      "application/vnd.plotly.v1+json": {
       "config": {
        "plotlyServerURL": "https://plot.ly"
       },
       "data": [
        {
         "hovertemplate": "<b>%{hovertext}</b><br><br>color=Other<br>Mean average precision - Standard CP=%{x}<br>Mean average precision - Standard CP (exposed to ChromaLive)=%{y}<extra></extra>",
         "hovertext": [
          "tumor necrosis factor production inhibitor",
          "antihistamine",
          "acetylcholine receptor antagonist",
          "pyruvate dehydrogenase kinase inhibitor",
          "protein tyrosine kinase inhibitor",
          "antihistamine",
          "hepatocyte growth factor receptor inhibitor",
          "CHK inhibitor",
          "glycogen synthase kinase inhibitor",
          "histone lysine methyltransferase inhibitor",
          "inosine monophosphate dehydrogenase inhibitor",
          "CDC inhibitor",
          "PARP inhibitor",
          "bromodomain inhibitor",
          "glycogen synthase kinase inhibitor",
          "JAK inhibitor",
          "Apoptosis inducer (ATP-competitive kinase inhibitor)",
          "hepatocyte growth factor receptor inhibitor",
          "bromodomain inhibitor",
          "MEK inhibitor",
          "Aurora kinase inhibitor",
          "LXR agonist",
          "phospholipase inhibitor",
          "IGF-1 inhibitor",
          "tricyclic antidepressant",
          "histone lysine demethylase inhibitor",
          "phosphodiesterase inhibitor",
          "beta-catenin inhibitor",
          "JNK inhibitor",
          "LXR agonist",
          "DNA inhibitor",
          "kinesin inhibitor",
          "phosphoinositide dependent kinase inhibitor",
          "FGFR inhibitor",
          "Bcr-Abl kinase inhibitor",
          "AMPK inhibitor",
          "pyruvate dehydrogenase kinase inhibitor",
          "phospholipase inhibitor",
          "Aurora kinase inhibitor",
          "JAK inhibitor",
          "tricyclic antidepressant",
          "PARP inhibitor",
          "BCL inhibitor",
          "inosine monophosphate dehydrogenase inhibitor",
          "MEK inhibitor",
          "histone lysine methyltransferase inhibitor",
          "HDAC inhibitor",
          "HDAC inhibitor",
          "BCL inhibitor",
          "phosphodiesterase inhibitor",
          "kinesin inhibitor",
          "CDK inhibitor",
          "CDC inhibitor",
          "RAF inhibitor",
          "protein tyrosine kinase inhibitor",
          "MAP kinase inhibitor",
          "ER stressor (SERCA inhibitor)",
          "Apoptosis inducer (transcription inhibitor)",
          "phosphoinositide dependent kinase inhibitor",
          "FGFR inhibitor",
          "DNA inhibitor",
          "smoothened receptor agonist",
          "JNK inhibitor",
          "CHK inhibitor",
          "EGFR inhibitor",
          "androgen receptor modulator",
          "HMGCR inhibitor",
          "acetylcholine receptor antagonist",
          "p38 MAPK inhibitor",
          "EGFR inhibitor",
          "HMGCR inhibitor",
          "IGF-1 inhibitor",
          "protein arginine N-methyltransferase inhibitor",
          "Bcr-Abl kinase inhibitor",
          "MAP kinase inhibitor",
          "ubiquitin specific protease inhibitor",
          "beta-catenin inhibitor",
          "CDK inhibitor",
          "histone lysine demethylase inhibitor",
          "hypoxia inducible factor inhibitor",
          "androgen receptor modulator",
          "mTOR inhibitor",
          "hypoxia inducible factor inhibitor"
         ],
         "legendgroup": "Other",
         "marker": {
          "color": "lightgrey",
          "symbol": "circle"
         },
         "mode": "markers",
         "name": "Other",
         "orientation": "v",
         "showlegend": true,
         "type": "scatter",
         "x": [
          0.2944622507122507,
          0.4792508417508417,
          0.319870857699805,
          1,
          0.2676155969634231,
          0.3374634502923976,
          1,
          1,
          1,
          0.3198193337163925,
          1,
          1,
          0.2917989417989418,
          0.8875,
          1,
          0.3150836783988958,
          1,
          0.1536923878196257,
          1,
          0.675,
          1,
          1,
          0.3332581598099332,
          1,
          0.1386736411736411,
          0.8377976190476191,
          0.3261078042328042,
          0.2779858077340915,
          0.3716928904428904,
          0.6833333333333333,
          0.279142501017501,
          1,
          1,
          1,
          1,
          1,
          1,
          1,
          1,
          0.7496031746031745,
          0.2060171854289501,
          1,
          1,
          0.9583333333333334,
          1,
          1,
          1,
          1,
          0.9097222222222222,
          0.1116510292826082,
          1,
          1,
          0.3768786768786769,
          1,
          0.1934468952947214,
          0.4020197273486747,
          1,
          1,
          1,
          1,
          1,
          0.7472222222222222,
          0.4298340548340548,
          1,
          0.4321937321937322,
          0.1618973346914523,
          0.3379400691900692,
          0.2155818668046928,
          1,
          1,
          0.2000589225589225,
          1,
          0.4715078766549354,
          0.9666666666666668,
          0.90625,
          1,
          1,
          1,
          1,
          0.2409419026679088,
          0.2155164108337482,
          1,
          1
         ],
         "xaxis": "x",
         "y": [
          0.2581150793650794,
          0.1912890214360802,
          0.1658369408369408,
          0.8680555555555556,
          0.3758415568050949,
          0.2324854421893895,
          1,
          1,
          1,
          0.4154995331465919,
          1,
          1,
          0.1556814713064713,
          1,
          0.9791666666666666,
          0.2133162861104037,
          0.925,
          0.2154039552065867,
          1,
          0.4540824915824916,
          1,
          1,
          0.3401552492341966,
          1,
          0.2566279562931198,
          0.7777777777777777,
          0.1786914216674278,
          0.2303865711159761,
          0.5907828282828282,
          0.631547619047619,
          0.1203641845745426,
          1,
          1,
          1,
          1,
          0.7155753968253968,
          1,
          0.9666666666666668,
          0.8694444444444445,
          0.7222222222222222,
          0.1592156685906686,
          1,
          0.7791666666666667,
          1,
          1,
          0.9513888888888888,
          1,
          0.9375,
          0.8204365079365079,
          0.1582135797209326,
          1,
          1,
          0.249017649017649,
          0.8833333333333333,
          0.4066880341880342,
          0.2260547201336675,
          1,
          1,
          1,
          1,
          1,
          0.8833333333333333,
          0.2130186600838775,
          1,
          0.7258928571428571,
          0.1997802646699705,
          0.3300189393939394,
          0.350976800976801,
          0.7468253968253968,
          0.7375,
          0.1461048673548673,
          1,
          0.2863131031609292,
          1,
          1,
          0.9583333333333331,
          1,
          1,
          1,
          0.29921940267335,
          0.2008671761961235,
          1,
          1
         ],
         "yaxis": "y"
        },
        {
         "hovertemplate": "<b>%{hovertext}</b><br><br>color=tumor necrosis factor production inhibitor<br>Mean average precision - Standard CP=%{x}<br>Mean average precision - Standard CP (exposed to ChromaLive)=%{y}<extra></extra>",
         "hovertext": [
          "tumor necrosis factor production inhibitor"
         ],
         "legendgroup": "tumor necrosis factor production inhibitor",
         "marker": {
          "color": "#00cc96",
          "symbol": "circle"
         },
         "mode": "markers",
         "name": "tumor necrosis factor production inhibitor",
         "orientation": "v",
         "showlegend": true,
         "type": "scatter",
         "x": [
          0.6796626984126983
         ],
         "xaxis": "x",
         "y": [
          0.2168022691532753
         ],
         "yaxis": "y"
        },
        {
         "hovertemplate": "<b>%{hovertext}</b><br><br>color=ubiquitin specific protease inhibitor<br>Mean average precision - Standard CP=%{x}<br>Mean average precision - Standard CP (exposed to ChromaLive)=%{y}<extra></extra>",
         "hovertext": [
          "ubiquitin specific protease inhibitor"
         ],
         "legendgroup": "ubiquitin specific protease inhibitor",
         "marker": {
          "color": "#ab63fa",
          "symbol": "circle"
         },
         "mode": "markers",
         "name": "ubiquitin specific protease inhibitor",
         "orientation": "v",
         "showlegend": true,
         "type": "scatter",
         "x": [
          0.7805555555555556
         ],
         "xaxis": "x",
         "y": [
          0.451497113997114
         ],
         "yaxis": "y"
        },
        {
         "hovertemplate": "<b>%{hovertext}</b><br><br>color=RAF inhibitor<br>Mean average precision - Standard CP=%{x}<br>Mean average precision - Standard CP (exposed to ChromaLive)=%{y}<extra></extra>",
         "hovertext": [
          "RAF inhibitor"
         ],
         "legendgroup": "RAF inhibitor",
         "marker": {
          "color": "#FFA15A",
          "symbol": "circle"
         },
         "mode": "markers",
         "name": "RAF inhibitor",
         "orientation": "v",
         "showlegend": true,
         "type": "scatter",
         "x": [
          0.3442460317460317
         ],
         "xaxis": "x",
         "y": [
          0.6478174603174603
         ],
         "yaxis": "y"
        },
        {
         "hovertemplate": "<b>%{hovertext}</b><br><br>color=protein arginine N-methyltransferase inhibitor<br>Mean average precision - Standard CP=%{x}<br>Mean average precision - Standard CP (exposed to ChromaLive)=%{y}<extra></extra>",
         "hovertext": [
          "protein arginine N-methyltransferase inhibitor"
         ],
         "legendgroup": "protein arginine N-methyltransferase inhibitor",
         "marker": {
          "color": "#19d3f3",
          "symbol": "circle"
         },
         "mode": "markers",
         "name": "protein arginine N-methyltransferase inhibitor",
         "orientation": "v",
         "showlegend": true,
         "type": "scatter",
         "x": [
          1
         ],
         "xaxis": "x",
         "y": [
          0.6629807692307692
         ],
         "yaxis": "y"
        },
        {
         "hovertemplate": "<b>%{hovertext}</b><br><br>color=mTOR inhibitor<br>Mean average precision - Standard CP=%{x}<br>Mean average precision - Standard CP (exposed to ChromaLive)=%{y}<extra></extra>",
         "hovertext": [
          "mTOR inhibitor"
         ],
         "legendgroup": "mTOR inhibitor",
         "marker": {
          "color": "#FF6692",
          "symbol": "circle"
         },
         "mode": "markers",
         "name": "mTOR inhibitor",
         "orientation": "v",
         "showlegend": true,
         "type": "scatter",
         "x": [
          1
         ],
         "xaxis": "x",
         "y": [
          0.6791666666666666
         ],
         "yaxis": "y"
        },
        {
         "hovertemplate": "<b>%{hovertext}</b><br><br>color=p38 MAPK inhibitor<br>Mean average precision - Standard CP=%{x}<br>Mean average precision - Standard CP (exposed to ChromaLive)=%{y}<extra></extra>",
         "hovertext": [
          "p38 MAPK inhibitor"
         ],
         "legendgroup": "p38 MAPK inhibitor",
         "marker": {
          "color": "#B6E880",
          "symbol": "circle"
         },
         "mode": "markers",
         "name": "p38 MAPK inhibitor",
         "orientation": "v",
         "showlegend": true,
         "type": "scatter",
         "x": [
          0.8236111111111111
         ],
         "xaxis": "x",
         "y": [
          0.4768696581196581
         ],
         "yaxis": "y"
        },
        {
         "hovertemplate": "<b>%{hovertext}</b><br><br>color=smoothened receptor agonist<br>Mean average precision - Standard CP=%{x}<br>Mean average precision - Standard CP (exposed to ChromaLive)=%{y}<extra></extra>",
         "hovertext": [
          "smoothened receptor agonist"
         ],
         "legendgroup": "smoothened receptor agonist",
         "marker": {
          "color": "#FF97FF",
          "symbol": "circle"
         },
         "mode": "markers",
         "name": "smoothened receptor agonist",
         "orientation": "v",
         "showlegend": true,
         "type": "scatter",
         "x": [
          0.8854166666666666
         ],
         "xaxis": "x",
         "y": [
          0.5430555555555555
         ],
         "yaxis": "y"
        },
        {
         "hovertemplate": "<b>OLS trendline</b><br>y = 0.931712 * x + 0.00412261<br>R<sup>2</sup>=0.835022<br><br>Mean average precision - Standard CP=%{x}<br>Mean average precision - Standard CP (exposed to ChromaLive)=%{y} <b>(trend)</b><extra></extra>",
         "legendgroup": "Overall Trendline",
         "line": {
          "color": "#FECB52"
         },
         "mode": "lines",
         "name": "Overall Trendline",
         "showlegend": true,
         "type": "scatter",
         "x": [
          0.1116510292826082,
          0.1386736411736411,
          0.1536923878196257,
          0.1618973346914523,
          0.1934468952947214,
          0.2000589225589225,
          0.2060171854289501,
          0.2155164108337482,
          0.2155818668046928,
          0.2409419026679088,
          0.2676155969634231,
          0.2779858077340915,
          0.279142501017501,
          0.2917989417989418,
          0.2944622507122507,
          0.3150836783988958,
          0.3198193337163925,
          0.319870857699805,
          0.3261078042328042,
          0.3332581598099332,
          0.3374634502923976,
          0.3379400691900692,
          0.3442460317460317,
          0.3716928904428904,
          0.3768786768786769,
          0.4020197273486747,
          0.4298340548340548,
          0.4321937321937322,
          0.4715078766549354,
          0.4792508417508417,
          0.675,
          0.6796626984126983,
          0.6833333333333333,
          0.7472222222222222,
          0.7496031746031745,
          0.7805555555555556,
          0.8236111111111111,
          0.8377976190476191,
          0.8854166666666666,
          0.8875,
          0.90625,
          0.9097222222222222,
          0.9583333333333334,
          0.9666666666666668,
          1,
          1,
          1,
          1,
          1,
          1,
          1,
          1,
          1,
          1,
          1,
          1,
          1,
          1,
          1,
          1,
          1,
          1,
          1,
          1,
          1,
          1,
          1,
          1,
          1,
          1,
          1,
          1,
          1,
          1,
          1,
          1,
          1,
          1,
          1,
          1,
          1,
          1,
          1,
          1,
          1,
          1,
          1,
          1,
          1,
          1
         ],
         "xaxis": "x",
         "y": [
          0.10814924688142234,
          0.1333265471005827,
          0.14731969827139677,
          0.1549643482966147,
          0.18435946236975462,
          0.19051996958346723,
          0.19607135646154844,
          0.20492190173194993,
          0.20498288786601626,
          0.22861114552932302,
          0.25346335492863425,
          0.2631254079885655,
          0.2642031133626915,
          0.27599527507323657,
          0.27847671278018876,
          0.29768995086050387,
          0.3021022192283385,
          0.3021502247580814,
          0.307961264636291,
          0.31462333896741296,
          0.31854145988824517,
          0.31898553158365317,
          0.32486087454022855,
          0.3504334507319843,
          0.35526511180504183,
          0.3786893380811941,
          0.4046042894677342,
          0.40680282991765526,
          0.4434323023739285,
          0.4506465182902961,
          0.6330284192242478,
          0.637372712745588,
          0.6407926884964307,
          0.7003187529164991,
          0.7025371155656941,
          0.7313758300052304,
          0.7714912212448418,
          0.7847089653629626,
          0.8290762183468645,
          0.8310172856649103,
          0.8484868915273217,
          0.8517220037240645,
          0.8970135744784645,
          0.9047778437506474,
          0.9358349208393787,
          0.9358349208393787,
          0.9358349208393787,
          0.9358349208393787,
          0.9358349208393787,
          0.9358349208393787,
          0.9358349208393787,
          0.9358349208393787,
          0.9358349208393787,
          0.9358349208393787,
          0.9358349208393787,
          0.9358349208393787,
          0.9358349208393787,
          0.9358349208393787,
          0.9358349208393787,
          0.9358349208393787,
          0.9358349208393787,
          0.9358349208393787,
          0.9358349208393787,
          0.9358349208393787,
          0.9358349208393787,
          0.9358349208393787,
          0.9358349208393787,
          0.9358349208393787,
          0.9358349208393787,
          0.9358349208393787,
          0.9358349208393787,
          0.9358349208393787,
          0.9358349208393787,
          0.9358349208393787,
          0.9358349208393787,
          0.9358349208393787,
          0.9358349208393787,
          0.9358349208393787,
          0.9358349208393787,
          0.9358349208393787,
          0.9358349208393787,
          0.9358349208393787,
          0.9358349208393787,
          0.9358349208393787,
          0.9358349208393787,
          0.9358349208393787,
          0.9358349208393787,
          0.9358349208393787,
          0.9358349208393787,
          0.9358349208393787
         ],
         "yaxis": "y"
        }
       ],
       "layout": {
        "font": {
         "color": "Black",
         "family": "sans serif",
         "size": 20
        },
        "height": 800,
        "legend": {
         "orientation": "h",
         "title": {
          "text": "color"
         },
         "tracegroupgap": 0
        },
        "margin": {
         "t": 60
        },
        "shapes": [
         {
          "line": {
           "color": "grey",
           "dash": "dashdot"
          },
          "type": "line",
          "x0": 0,
          "x1": 1,
          "y0": 0,
          "y1": 1
         }
        ],
        "template": {
         "data": {
          "bar": [
           {
            "error_x": {
             "color": "#2a3f5f"
            },
            "error_y": {
             "color": "#2a3f5f"
            },
            "marker": {
             "line": {
              "color": "#E5ECF6",
              "width": 0.5
             },
             "pattern": {
              "fillmode": "overlay",
              "size": 10,
              "solidity": 0.2
             }
            },
            "type": "bar"
           }
          ],
          "barpolar": [
           {
            "marker": {
             "line": {
              "color": "#E5ECF6",
              "width": 0.5
             },
             "pattern": {
              "fillmode": "overlay",
              "size": 10,
              "solidity": 0.2
             }
            },
            "type": "barpolar"
           }
          ],
          "carpet": [
           {
            "aaxis": {
             "endlinecolor": "#2a3f5f",
             "gridcolor": "white",
             "linecolor": "white",
             "minorgridcolor": "white",
             "startlinecolor": "#2a3f5f"
            },
            "baxis": {
             "endlinecolor": "#2a3f5f",
             "gridcolor": "white",
             "linecolor": "white",
             "minorgridcolor": "white",
             "startlinecolor": "#2a3f5f"
            },
            "type": "carpet"
           }
          ],
          "choropleth": [
           {
            "colorbar": {
             "outlinewidth": 0,
             "ticks": ""
            },
            "type": "choropleth"
           }
          ],
          "contour": [
           {
            "colorbar": {
             "outlinewidth": 0,
             "ticks": ""
            },
            "colorscale": [
             [
              0,
              "#0d0887"
             ],
             [
              0.1111111111111111,
              "#46039f"
             ],
             [
              0.2222222222222222,
              "#7201a8"
             ],
             [
              0.3333333333333333,
              "#9c179e"
             ],
             [
              0.4444444444444444,
              "#bd3786"
             ],
             [
              0.5555555555555556,
              "#d8576b"
             ],
             [
              0.6666666666666666,
              "#ed7953"
             ],
             [
              0.7777777777777778,
              "#fb9f3a"
             ],
             [
              0.8888888888888888,
              "#fdca26"
             ],
             [
              1,
              "#f0f921"
             ]
            ],
            "type": "contour"
           }
          ],
          "contourcarpet": [
           {
            "colorbar": {
             "outlinewidth": 0,
             "ticks": ""
            },
            "type": "contourcarpet"
           }
          ],
          "heatmap": [
           {
            "colorbar": {
             "outlinewidth": 0,
             "ticks": ""
            },
            "colorscale": [
             [
              0,
              "#0d0887"
             ],
             [
              0.1111111111111111,
              "#46039f"
             ],
             [
              0.2222222222222222,
              "#7201a8"
             ],
             [
              0.3333333333333333,
              "#9c179e"
             ],
             [
              0.4444444444444444,
              "#bd3786"
             ],
             [
              0.5555555555555556,
              "#d8576b"
             ],
             [
              0.6666666666666666,
              "#ed7953"
             ],
             [
              0.7777777777777778,
              "#fb9f3a"
             ],
             [
              0.8888888888888888,
              "#fdca26"
             ],
             [
              1,
              "#f0f921"
             ]
            ],
            "type": "heatmap"
           }
          ],
          "heatmapgl": [
           {
            "colorbar": {
             "outlinewidth": 0,
             "ticks": ""
            },
            "colorscale": [
             [
              0,
              "#0d0887"
             ],
             [
              0.1111111111111111,
              "#46039f"
             ],
             [
              0.2222222222222222,
              "#7201a8"
             ],
             [
              0.3333333333333333,
              "#9c179e"
             ],
             [
              0.4444444444444444,
              "#bd3786"
             ],
             [
              0.5555555555555556,
              "#d8576b"
             ],
             [
              0.6666666666666666,
              "#ed7953"
             ],
             [
              0.7777777777777778,
              "#fb9f3a"
             ],
             [
              0.8888888888888888,
              "#fdca26"
             ],
             [
              1,
              "#f0f921"
             ]
            ],
            "type": "heatmapgl"
           }
          ],
          "histogram": [
           {
            "marker": {
             "pattern": {
              "fillmode": "overlay",
              "size": 10,
              "solidity": 0.2
             }
            },
            "type": "histogram"
           }
          ],
          "histogram2d": [
           {
            "colorbar": {
             "outlinewidth": 0,
             "ticks": ""
            },
            "colorscale": [
             [
              0,
              "#0d0887"
             ],
             [
              0.1111111111111111,
              "#46039f"
             ],
             [
              0.2222222222222222,
              "#7201a8"
             ],
             [
              0.3333333333333333,
              "#9c179e"
             ],
             [
              0.4444444444444444,
              "#bd3786"
             ],
             [
              0.5555555555555556,
              "#d8576b"
             ],
             [
              0.6666666666666666,
              "#ed7953"
             ],
             [
              0.7777777777777778,
              "#fb9f3a"
             ],
             [
              0.8888888888888888,
              "#fdca26"
             ],
             [
              1,
              "#f0f921"
             ]
            ],
            "type": "histogram2d"
           }
          ],
          "histogram2dcontour": [
           {
            "colorbar": {
             "outlinewidth": 0,
             "ticks": ""
            },
            "colorscale": [
             [
              0,
              "#0d0887"
             ],
             [
              0.1111111111111111,
              "#46039f"
             ],
             [
              0.2222222222222222,
              "#7201a8"
             ],
             [
              0.3333333333333333,
              "#9c179e"
             ],
             [
              0.4444444444444444,
              "#bd3786"
             ],
             [
              0.5555555555555556,
              "#d8576b"
             ],
             [
              0.6666666666666666,
              "#ed7953"
             ],
             [
              0.7777777777777778,
              "#fb9f3a"
             ],
             [
              0.8888888888888888,
              "#fdca26"
             ],
             [
              1,
              "#f0f921"
             ]
            ],
            "type": "histogram2dcontour"
           }
          ],
          "mesh3d": [
           {
            "colorbar": {
             "outlinewidth": 0,
             "ticks": ""
            },
            "type": "mesh3d"
           }
          ],
          "parcoords": [
           {
            "line": {
             "colorbar": {
              "outlinewidth": 0,
              "ticks": ""
             }
            },
            "type": "parcoords"
           }
          ],
          "pie": [
           {
            "automargin": true,
            "type": "pie"
           }
          ],
          "scatter": [
           {
            "fillpattern": {
             "fillmode": "overlay",
             "size": 10,
             "solidity": 0.2
            },
            "type": "scatter"
           }
          ],
          "scatter3d": [
           {
            "line": {
             "colorbar": {
              "outlinewidth": 0,
              "ticks": ""
             }
            },
            "marker": {
             "colorbar": {
              "outlinewidth": 0,
              "ticks": ""
             }
            },
            "type": "scatter3d"
           }
          ],
          "scattercarpet": [
           {
            "marker": {
             "colorbar": {
              "outlinewidth": 0,
              "ticks": ""
             }
            },
            "type": "scattercarpet"
           }
          ],
          "scattergeo": [
           {
            "marker": {
             "colorbar": {
              "outlinewidth": 0,
              "ticks": ""
             }
            },
            "type": "scattergeo"
           }
          ],
          "scattergl": [
           {
            "marker": {
             "colorbar": {
              "outlinewidth": 0,
              "ticks": ""
             }
            },
            "type": "scattergl"
           }
          ],
          "scattermapbox": [
           {
            "marker": {
             "colorbar": {
              "outlinewidth": 0,
              "ticks": ""
             }
            },
            "type": "scattermapbox"
           }
          ],
          "scatterpolar": [
           {
            "marker": {
             "colorbar": {
              "outlinewidth": 0,
              "ticks": ""
             }
            },
            "type": "scatterpolar"
           }
          ],
          "scatterpolargl": [
           {
            "marker": {
             "colorbar": {
              "outlinewidth": 0,
              "ticks": ""
             }
            },
            "type": "scatterpolargl"
           }
          ],
          "scatterternary": [
           {
            "marker": {
             "colorbar": {
              "outlinewidth": 0,
              "ticks": ""
             }
            },
            "type": "scatterternary"
           }
          ],
          "surface": [
           {
            "colorbar": {
             "outlinewidth": 0,
             "ticks": ""
            },
            "colorscale": [
             [
              0,
              "#0d0887"
             ],
             [
              0.1111111111111111,
              "#46039f"
             ],
             [
              0.2222222222222222,
              "#7201a8"
             ],
             [
              0.3333333333333333,
              "#9c179e"
             ],
             [
              0.4444444444444444,
              "#bd3786"
             ],
             [
              0.5555555555555556,
              "#d8576b"
             ],
             [
              0.6666666666666666,
              "#ed7953"
             ],
             [
              0.7777777777777778,
              "#fb9f3a"
             ],
             [
              0.8888888888888888,
              "#fdca26"
             ],
             [
              1,
              "#f0f921"
             ]
            ],
            "type": "surface"
           }
          ],
          "table": [
           {
            "cells": {
             "fill": {
              "color": "#EBF0F8"
             },
             "line": {
              "color": "white"
             }
            },
            "header": {
             "fill": {
              "color": "#C8D4E3"
             },
             "line": {
              "color": "white"
             }
            },
            "type": "table"
           }
          ]
         },
         "layout": {
          "annotationdefaults": {
           "arrowcolor": "#2a3f5f",
           "arrowhead": 0,
           "arrowwidth": 1
          },
          "autotypenumbers": "strict",
          "coloraxis": {
           "colorbar": {
            "outlinewidth": 0,
            "ticks": ""
           }
          },
          "colorscale": {
           "diverging": [
            [
             0,
             "#8e0152"
            ],
            [
             0.1,
             "#c51b7d"
            ],
            [
             0.2,
             "#de77ae"
            ],
            [
             0.3,
             "#f1b6da"
            ],
            [
             0.4,
             "#fde0ef"
            ],
            [
             0.5,
             "#f7f7f7"
            ],
            [
             0.6,
             "#e6f5d0"
            ],
            [
             0.7,
             "#b8e186"
            ],
            [
             0.8,
             "#7fbc41"
            ],
            [
             0.9,
             "#4d9221"
            ],
            [
             1,
             "#276419"
            ]
           ],
           "sequential": [
            [
             0,
             "#0d0887"
            ],
            [
             0.1111111111111111,
             "#46039f"
            ],
            [
             0.2222222222222222,
             "#7201a8"
            ],
            [
             0.3333333333333333,
             "#9c179e"
            ],
            [
             0.4444444444444444,
             "#bd3786"
            ],
            [
             0.5555555555555556,
             "#d8576b"
            ],
            [
             0.6666666666666666,
             "#ed7953"
            ],
            [
             0.7777777777777778,
             "#fb9f3a"
            ],
            [
             0.8888888888888888,
             "#fdca26"
            ],
            [
             1,
             "#f0f921"
            ]
           ],
           "sequentialminus": [
            [
             0,
             "#0d0887"
            ],
            [
             0.1111111111111111,
             "#46039f"
            ],
            [
             0.2222222222222222,
             "#7201a8"
            ],
            [
             0.3333333333333333,
             "#9c179e"
            ],
            [
             0.4444444444444444,
             "#bd3786"
            ],
            [
             0.5555555555555556,
             "#d8576b"
            ],
            [
             0.6666666666666666,
             "#ed7953"
            ],
            [
             0.7777777777777778,
             "#fb9f3a"
            ],
            [
             0.8888888888888888,
             "#fdca26"
            ],
            [
             1,
             "#f0f921"
            ]
           ]
          },
          "colorway": [
           "#636efa",
           "#EF553B",
           "#00cc96",
           "#ab63fa",
           "#FFA15A",
           "#19d3f3",
           "#FF6692",
           "#B6E880",
           "#FF97FF",
           "#FECB52"
          ],
          "font": {
           "color": "#2a3f5f"
          },
          "geo": {
           "bgcolor": "white",
           "lakecolor": "white",
           "landcolor": "#E5ECF6",
           "showlakes": true,
           "showland": true,
           "subunitcolor": "white"
          },
          "hoverlabel": {
           "align": "left"
          },
          "hovermode": "closest",
          "mapbox": {
           "style": "light"
          },
          "paper_bgcolor": "white",
          "plot_bgcolor": "#E5ECF6",
          "polar": {
           "angularaxis": {
            "gridcolor": "white",
            "linecolor": "white",
            "ticks": ""
           },
           "bgcolor": "#E5ECF6",
           "radialaxis": {
            "gridcolor": "white",
            "linecolor": "white",
            "ticks": ""
           }
          },
          "scene": {
           "xaxis": {
            "backgroundcolor": "#E5ECF6",
            "gridcolor": "white",
            "gridwidth": 2,
            "linecolor": "white",
            "showbackground": true,
            "ticks": "",
            "zerolinecolor": "white"
           },
           "yaxis": {
            "backgroundcolor": "#E5ECF6",
            "gridcolor": "white",
            "gridwidth": 2,
            "linecolor": "white",
            "showbackground": true,
            "ticks": "",
            "zerolinecolor": "white"
           },
           "zaxis": {
            "backgroundcolor": "#E5ECF6",
            "gridcolor": "white",
            "gridwidth": 2,
            "linecolor": "white",
            "showbackground": true,
            "ticks": "",
            "zerolinecolor": "white"
           }
          },
          "shapedefaults": {
           "line": {
            "color": "#2a3f5f"
           }
          },
          "ternary": {
           "aaxis": {
            "gridcolor": "white",
            "linecolor": "white",
            "ticks": ""
           },
           "baxis": {
            "gridcolor": "white",
            "linecolor": "white",
            "ticks": ""
           },
           "bgcolor": "#E5ECF6",
           "caxis": {
            "gridcolor": "white",
            "linecolor": "white",
            "ticks": ""
           }
          },
          "title": {
           "x": 0.05
          },
          "xaxis": {
           "automargin": true,
           "gridcolor": "white",
           "linecolor": "white",
           "ticks": "",
           "title": {
            "standoff": 15
           },
           "zerolinecolor": "white",
           "zerolinewidth": 2
          },
          "yaxis": {
           "automargin": true,
           "gridcolor": "white",
           "linecolor": "white",
           "ticks": "",
           "title": {
            "standoff": 15
           },
           "zerolinecolor": "white",
           "zerolinewidth": 2
          }
         }
        },
        "width": 1000,
        "xaxis": {
         "anchor": "y",
         "domain": [
          0,
          1
         ],
         "title": {
          "text": "Mean average precision - Standard CP"
         }
        },
        "yaxis": {
         "anchor": "x",
         "domain": [
          0,
          1
         ],
         "title": {
          "text": "Mean average precision - Standard CP (exposed to ChromaLive)"
         }
        }
       }
      }
     },
     "metadata": {},
     "output_type": "display_data"
    }
   ],
   "source": [
    "scatter_plot_comparison_colorblack_trendline(df_controls,col1='Standard CP', col2='Standard CP (exposed to ChromaLive)')"
   ]
  },
  {
   "cell_type": "markdown",
   "metadata": {},
   "source": [
    "### Phenotypic distinctiveness"
   ]
  },
  {
   "cell_type": "markdown",
   "metadata": {},
   "source": [
    "#### mAP with respect to treatments - MoA"
   ]
  },
  {
   "cell_type": "code",
   "execution_count": 10,
   "metadata": {},
   "outputs": [],
   "source": [
    "#Reading the result CSVs obtained from the copairs \n",
    "result_csv_trmts = {'c:\\\\Users\\\\ssivagur\\\\Documents\\\\Projects\\\\Cell_painting_projects\\\\CDoT\\\\Batch3_analysis_redo\\\\UpdatedCopairsVersion\\\\BR00122250_normalized_feature_select_negcon_batch_Result_NegconNorm_mAP_wrt_Treatment_woNAN.csv':'Standard CP',\n",
    "                    'c:\\\\Users\\\\ssivagur\\\\Documents\\\\Projects\\\\Cell_painting_projects\\\\CDoT\\\\Batch3_analysis_redo\\\\UpdatedCopairsVersion\\\\BR00122246_normalized_feature_select_negcon_batch_Result_NegconNorm_mAP_wrt_Treatment_woNAN.csv':'CP + MitoBrilliant',\n",
    "                    'c:\\\\Users\\\\ssivagur\\\\Documents\\\\Projects\\\\Cell_painting_projects\\\\CDoT\\\\Batch3_analysis_redo\\\\UpdatedCopairsVersion\\\\BR00122247_normalized_feature_select_negcon_batch_Result_NegconNorm_mAP_wrt_Treatment_woNAN.csv':'CP + Phenovue phalloidin 400LS',\n",
    "                    'c:\\\\Users\\\\ssivagur\\\\Documents\\\\Projects\\\\Cell_painting_projects\\\\CDoT\\\\Batch3_analysis_redo\\\\UpdatedCopairsVersion\\\\BR00122248_normalized_feature_select_negcon_batch_Result_NegconNorm_mAP_wrt_Treatment_woNAN.csv':'Standard CP (exposed to ChromaLive)',\n",
    "                    'c:\\\\Users\\\\ssivagur\\\\Documents\\\\Projects\\\\Cell_painting_projects\\\\CDoT\\\\Batch3_analysis_redo\\\\UpdatedCopairsVersion\\\\BR00122249_normalized_feature_select_negcon_batch_wo_phasefeatures_Result_NegconNorm_mAP_wrt_Treatment_woNAN.csv':'ChromaLive + Hoechst'}"
   ]
  },
  {
   "cell_type": "code",
   "execution_count": 11,
   "metadata": {},
   "outputs": [],
   "source": [
    "#Reading the aggregate CSV files obtained from the copairs package\n",
    "aggregate_files_trmt = {'c:\\\\Users\\\\ssivagur\\\\Documents\\\\Projects\\\\Cell_painting_projects\\\\CDoT\\\\Batch3_analysis_redo\\\\UpdatedCopairsVersion\\\\BR00122250_normalized_feature_select_negcon_batch_Aggregate_result_NegconNorm_mAP_wrt_Treatment_woNAN.csv':'Standard CP',\n",
    "                    'c:\\\\Users\\\\ssivagur\\\\Documents\\\\Projects\\\\Cell_painting_projects\\\\CDoT\\\\Batch3_analysis_redo\\\\UpdatedCopairsVersion\\\\BR00122246_normalized_feature_select_negcon_batch_Aggregate_result_NegconNorm_mAP_wrt_Treatment_woNAN.csv':'CP + MitoBrilliant',\n",
    "                    'c:\\\\Users\\\\ssivagur\\\\Documents\\\\Projects\\\\Cell_painting_projects\\\\CDoT\\\\Batch3_analysis_redo\\\\UpdatedCopairsVersion\\\\BR00122247_normalized_feature_select_negcon_batch_Aggregate_result_NegconNorm_mAP_wrt_Treatment_woNAN.csv':'CP + Phenovue phalloidin 400LS',\n",
    "                    'c:\\\\Users\\\\ssivagur\\\\Documents\\\\Projects\\\\Cell_painting_projects\\\\CDoT\\\\Batch3_analysis_redo\\\\UpdatedCopairsVersion\\\\BR00122248_normalized_feature_select_negcon_batch_Aggregate_result_NegconNorm_mAP_wrt_Treatment_woNAN.csv':'Standard CP (exposed to ChromaLive)',\n",
    "                    'c:\\\\Users\\\\ssivagur\\\\Documents\\\\Projects\\\\Cell_painting_projects\\\\CDoT\\\\Batch3_analysis_redo\\\\UpdatedCopairsVersion\\\\BR00122249_normalized_feature_select_negcon_batch_wo_phasefeatures_Aggregate_result_NegconNorm_mAP_wrt_Treatment_woNAN.csv':'ChromaLive + Hoechst'}"
   ]
  },
  {
   "cell_type": "code",
   "execution_count": 13,
   "metadata": {},
   "outputs": [],
   "source": [
    "mAP_treatment_plot_colorscheme, df_treatment = cell_count_norm_colorscheme(result_csv_trmts, aggregate_files_trmt)"
   ]
  },
  {
   "cell_type": "markdown",
   "metadata": {},
   "source": [
    "### Plot "
   ]
  },
  {
   "cell_type": "code",
   "execution_count": null,
   "metadata": {},
   "outputs": [
    {
     "data": {
      "application/vnd.plotly.v1+json": {
       "config": {
        "plotlyServerURL": "https://plot.ly"
       },
       "data": [
        {
         "hovertemplate": "<b>%{hovertext}</b><br><br>color=Other<br>Mean average precision - Standard CP=%{x}<br>Mean average precision - Standard CP (exposed to ChromaLive)=%{y}<extra></extra>",
         "hovertext": [
          "tumor necrosis factor production inhibitor",
          "antihistamine",
          "acetylcholine receptor antagonist",
          "pyruvate dehydrogenase kinase inhibitor",
          "protein tyrosine kinase inhibitor",
          "antihistamine",
          "glycogen synthase kinase inhibitor",
          "histone lysine methyltransferase inhibitor",
          "tumor necrosis factor production inhibitor",
          "inosine monophosphate dehydrogenase inhibitor",
          "CDC inhibitor",
          "PARP inhibitor",
          "bromodomain inhibitor",
          "ubiquitin specific protease inhibitor",
          "glycogen synthase kinase inhibitor",
          "JAK inhibitor",
          "hepatocyte growth factor receptor inhibitor",
          "bromodomain inhibitor",
          "MEK inhibitor",
          "Aurora kinase inhibitor",
          "LXR agonist",
          "phospholipase inhibitor",
          "IGF-1 inhibitor",
          "tricyclic antidepressant",
          "histone lysine demethylase inhibitor",
          "phosphodiesterase inhibitor",
          "beta-catenin inhibitor",
          "JNK inhibitor",
          "LXR agonist",
          "DNA inhibitor",
          "kinesin inhibitor",
          "phosphoinositide dependent kinase inhibitor",
          "RAF inhibitor",
          "FGFR inhibitor",
          "Bcr-Abl kinase inhibitor",
          "AMPK inhibitor",
          "pyruvate dehydrogenase kinase inhibitor",
          "phospholipase inhibitor",
          "Aurora kinase inhibitor",
          "JAK inhibitor",
          "tricyclic antidepressant",
          "PARP inhibitor",
          "MEK inhibitor",
          "histone lysine methyltransferase inhibitor",
          "HDAC inhibitor",
          "HDAC inhibitor",
          "BCL inhibitor",
          "phosphodiesterase inhibitor",
          "kinesin inhibitor",
          "CDK inhibitor",
          "CDC inhibitor",
          "RAF inhibitor",
          "protein tyrosine kinase inhibitor",
          "MAP kinase inhibitor",
          "ER stressor (SERCA inhibitor)",
          "protein arginine N-methyltransferase inhibitor",
          "Apoptosis inducer (transcription inhibitor)",
          "phosphoinositide dependent kinase inhibitor",
          "DNA inhibitor",
          "smoothened receptor agonist",
          "JNK inhibitor",
          "CHK inhibitor",
          "EGFR inhibitor",
          "androgen receptor modulator",
          "HMGCR inhibitor",
          "acetylcholine receptor antagonist",
          "mTOR inhibitor",
          "HMGCR inhibitor",
          "IGF-1 inhibitor",
          "protein arginine N-methyltransferase inhibitor",
          "Bcr-Abl kinase inhibitor",
          "MAP kinase inhibitor",
          "p38 MAPK inhibitor",
          "ubiquitin specific protease inhibitor",
          "beta-catenin inhibitor",
          "CDK inhibitor",
          "histone lysine demethylase inhibitor",
          "hypoxia inducible factor inhibitor",
          "androgen receptor modulator",
          "mTOR inhibitor",
          "smoothened receptor agonist",
          "hypoxia inducible factor inhibitor"
         ],
         "legendgroup": "Other",
         "marker": {
          "color": "darkgrey",
          "size": 14,
          "symbol": "circle"
         },
         "mode": "markers",
         "name": "Other",
         "orientation": "v",
         "showlegend": true,
         "type": "scatter",
         "x": [
          0.071023303094339,
          0.0219834647947619,
          0.0376139874137184,
          0.1253876015988353,
          0.1733133388934256,
          0.0193372972941567,
          0.6974747474747475,
          0.0143009556744482,
          0.0229035103749266,
          1,
          1,
          0.0241782237420953,
          0.1354833864643504,
          0.1220441551476034,
          1,
          0.0897612296683392,
          0.0320925465559821,
          1,
          0.1973182339491302,
          0.8752976190476192,
          1,
          0.0096736822412798,
          0.8180555555555555,
          0.0101510772315614,
          0.0653791559703667,
          0.093313058931989,
          0.0137005690849828,
          0.0111673604903547,
          0.2919557809314043,
          0.0413061299341054,
          0.9305555555555556,
          0.6197956684237172,
          0.0719983639718025,
          0.8824404761904762,
          0.861111111111111,
          0.1882316051861195,
          0.525020664946182,
          0.9305555555555556,
          0.485050408866633,
          0.1736991326973489,
          0.0164202406081599,
          0.5149426842442,
          0.6494021851164709,
          1,
          0.4493806573112204,
          0.5131959806606946,
          0.4855452522119189,
          0.0073744888022016,
          0.417577086656034,
          0.7826388888888889,
          0.1240138751756181,
          0.9791666666666666,
          0.0257439848484493,
          0.0147444297366194,
          1,
          0.7093142968142968,
          0.6779100529100529,
          0.856060606060606,
          0.2138536977809366,
          0.2232066509105931,
          0.0147100516505244,
          0.8523809523809525,
          0.0501649129059263,
          0.0157564725863259,
          0.1208693970945824,
          0.0320166972988841,
          1,
          0.0138875417541322,
          0.58640432457568,
          0.1825953910244248,
          0.3971398401972957,
          0.3390996781437548,
          0.2729084033637367,
          0.1185057175353392,
          0.9666666666666668,
          0.4227250258428748,
          0.7980158730158731,
          0.025294515548691,
          0.1351022015850957,
          0.8409455128205128,
          0.3812469669200657,
          0.6168650793650794
         ],
         "xaxis": "x",
         "y": [
          0.0269324151570718,
          0.0098494416903003,
          0.0228206162770984,
          0.1633846851015161,
          0.0990423473255821,
          0.0308575624750373,
          0.9666666666666668,
          0.0183343892897364,
          0.0250433965227246,
          1,
          1,
          0.0105475914691692,
          0.3394398280267845,
          0.020888850405352,
          0.8423611111111111,
          0.0137128602726556,
          0.0162980311344704,
          1,
          0.2283126300318101,
          0.9791666666666666,
          1,
          0.0459869980249081,
          0.8194444444444444,
          0.0642318475197457,
          0.0433719298273689,
          0.0307873229995447,
          0.020155811432168,
          0.1028012408612393,
          0.2250306948691127,
          0.0076851014652721,
          0.6635149572649572,
          1,
          0.3434330228147008,
          0.4373503724328312,
          0.7027777777777778,
          0.1956734006955035,
          1,
          0.728030303030303,
          0.5446975002714567,
          0.2023101207044682,
          0.016386758715014,
          0.9097222222222222,
          0.6961309523809524,
          0.548907701597919,
          0.9458333333333332,
          0.6227891244733951,
          0.2592663723712792,
          0.0081758677676787,
          0.4521693326453388,
          0.7444444444444445,
          0.0265845803595738,
          0.7080026455026455,
          0.0433624801235798,
          0.0154589622278747,
          0.9513888888888888,
          0.30344499626356,
          0.5489087301587301,
          0.9107142857142858,
          0.4666514041514041,
          0.3011294259282414,
          0.0178644488442322,
          0.6259874384874384,
          0.157237160356866,
          0.0415357870859133,
          0.0132956663191299,
          0.0545590719950017,
          0.512403027892278,
          0.0120593151628269,
          1,
          0.1207348910330319,
          0.5965253581107239,
          0.4789773782980304,
          0.0878828863522244,
          0.2153727488972392,
          0.6685910954938814,
          0.6405753968253969,
          0.9791666666666666,
          0.0542794818669488,
          0.0244512206052027,
          1,
          0.1480178713376858,
          0.3900526556776557
         ],
         "yaxis": "y"
        },
        {
         "hovertemplate": "<b>%{hovertext}</b><br><br>color=hepatocyte growth factor receptor inhibitor<br>Mean average precision - Standard CP=%{x}<br>Mean average precision - Standard CP (exposed to ChromaLive)=%{y}<extra></extra>",
         "hovertext": [
          "hepatocyte growth factor receptor inhibitor"
         ],
         "legendgroup": "hepatocyte growth factor receptor inhibitor",
         "marker": {
          "color": "#00cc96",
          "size": 14,
          "symbol": "circle"
         },
         "mode": "markers",
         "name": "hepatocyte growth factor receptor inhibitor",
         "orientation": "v",
         "showlegend": true,
         "type": "scatter",
         "x": [
          0.4437509212047515
         ],
         "xaxis": "x",
         "y": [
          1
         ],
         "yaxis": "y"
        },
        {
         "hovertemplate": "<b>%{hovertext}</b><br><br>color=CHK inhibitor<br>Mean average precision - Standard CP=%{x}<br>Mean average precision - Standard CP (exposed to ChromaLive)=%{y}<extra></extra>",
         "hovertext": [
          "CHK inhibitor"
         ],
         "legendgroup": "CHK inhibitor",
         "marker": {
          "color": "#ab63fa",
          "size": 14,
          "symbol": "circle"
         },
         "mode": "markers",
         "name": "CHK inhibitor",
         "orientation": "v",
         "showlegend": true,
         "type": "scatter",
         "x": [
          1
         ],
         "xaxis": "x",
         "y": [
          0.4642586580086579
         ],
         "yaxis": "y"
        },
        {
         "hovertemplate": "<b>%{hovertext}</b><br><br>color=Apoptosis inducer (ATP-competitive kinase inhibitor)<br>Mean average precision - Standard CP=%{x}<br>Mean average precision - Standard CP (exposed to ChromaLive)=%{y}<extra></extra>",
         "hovertext": [
          "Apoptosis inducer (ATP-competitive kinase inhibitor)"
         ],
         "legendgroup": "Apoptosis inducer (ATP-competitive kinase inhibitor)",
         "marker": {
          "color": "#FFA15A",
          "size": 14,
          "symbol": "circle"
         },
         "mode": "markers",
         "name": "Apoptosis inducer (ATP-competitive kinase inhibitor)",
         "orientation": "v",
         "showlegend": true,
         "type": "scatter",
         "x": [
          1
         ],
         "xaxis": "x",
         "y": [
          0.2419434031822331
         ],
         "yaxis": "y"
        },
        {
         "hovertemplate": "<b>%{hovertext}</b><br><br>color=BCL inhibitor<br>Mean average precision - Standard CP=%{x}<br>Mean average precision - Standard CP (exposed to ChromaLive)=%{y}<extra></extra>",
         "hovertext": [
          "BCL inhibitor"
         ],
         "legendgroup": "BCL inhibitor",
         "marker": {
          "color": "#19d3f3",
          "size": 14,
          "symbol": "circle"
         },
         "mode": "markers",
         "name": "BCL inhibitor",
         "orientation": "v",
         "showlegend": true,
         "type": "scatter",
         "x": [
          1
         ],
         "xaxis": "x",
         "y": [
          0.3281051420130817
         ],
         "yaxis": "y"
        },
        {
         "hovertemplate": "<b>%{hovertext}</b><br><br>color=inosine monophosphate dehydrogenase inhibitor<br>Mean average precision - Standard CP=%{x}<br>Mean average precision - Standard CP (exposed to ChromaLive)=%{y}<extra></extra>",
         "hovertext": [
          "inosine monophosphate dehydrogenase inhibitor"
         ],
         "legendgroup": "inosine monophosphate dehydrogenase inhibitor",
         "marker": {
          "color": "#FF6692",
          "size": 14,
          "symbol": "circle"
         },
         "mode": "markers",
         "name": "inosine monophosphate dehydrogenase inhibitor",
         "orientation": "v",
         "showlegend": true,
         "type": "scatter",
         "x": [
          0.2032654623005413
         ],
         "xaxis": "x",
         "y": [
          1
         ],
         "yaxis": "y"
        },
        {
         "hovertemplate": "<b>%{hovertext}</b><br><br>color=FGFR inhibitor<br>Mean average precision - Standard CP=%{x}<br>Mean average precision - Standard CP (exposed to ChromaLive)=%{y}<extra></extra>",
         "hovertext": [
          "FGFR inhibitor"
         ],
         "legendgroup": "FGFR inhibitor",
         "marker": {
          "color": "#B6E880",
          "size": 14,
          "symbol": "circle"
         },
         "mode": "markers",
         "name": "FGFR inhibitor",
         "orientation": "v",
         "showlegend": true,
         "type": "scatter",
         "x": [
          0.4882847755692583
         ],
         "xaxis": "x",
         "y": [
          1
         ],
         "yaxis": "y"
        },
        {
         "hovertemplate": "<b>%{hovertext}</b><br><br>color=p38 MAPK inhibitor<br>Mean average precision - Standard CP=%{x}<br>Mean average precision - Standard CP (exposed to ChromaLive)=%{y}<extra></extra>",
         "hovertext": [
          "p38 MAPK inhibitor"
         ],
         "legendgroup": "p38 MAPK inhibitor",
         "marker": {
          "color": "#FF97FF",
          "size": 14,
          "symbol": "circle"
         },
         "mode": "markers",
         "name": "p38 MAPK inhibitor",
         "orientation": "v",
         "showlegend": true,
         "type": "scatter",
         "x": [
          0.9375
         ],
         "xaxis": "x",
         "y": [
          0.2374943145408665
         ],
         "yaxis": "y"
        },
        {
         "hovertemplate": "<b>%{hovertext}</b><br><br>color=EGFR inhibitor<br>Mean average precision - Standard CP=%{x}<br>Mean average precision - Standard CP (exposed to ChromaLive)=%{y}<extra></extra>",
         "hovertext": [
          "EGFR inhibitor"
         ],
         "legendgroup": "EGFR inhibitor",
         "marker": {
          "color": "#FECB52",
          "size": 14,
          "symbol": "circle"
         },
         "mode": "markers",
         "name": "EGFR inhibitor",
         "orientation": "v",
         "showlegend": true,
         "type": "scatter",
         "x": [
          1
         ],
         "xaxis": "x",
         "y": [
          0.4742806758065774
         ],
         "yaxis": "y"
        }
       ],
       "layout": {
        "font": {
         "color": "Black",
         "family": "sans serif",
         "size": 26
        },
        "height": 1200,
        "legend": {
         "orientation": "h",
         "title": {
          "text": "color"
         },
         "tracegroupgap": 0
        },
        "margin": {
         "t": 60
        },
        "plot_bgcolor": "rgba(0,0,0,0)",
        "shapes": [
         {
          "line": {
           "color": "lightgrey",
           "dash": "dashdot"
          },
          "type": "line",
          "x0": 0,
          "x1": 1,
          "y0": 0,
          "y1": 1
         }
        ],
        "template": {
         "data": {
          "bar": [
           {
            "error_x": {
             "color": "#2a3f5f"
            },
            "error_y": {
             "color": "#2a3f5f"
            },
            "marker": {
             "line": {
              "color": "#E5ECF6",
              "width": 0.5
             },
             "pattern": {
              "fillmode": "overlay",
              "size": 10,
              "solidity": 0.2
             }
            },
            "type": "bar"
           }
          ],
          "barpolar": [
           {
            "marker": {
             "line": {
              "color": "#E5ECF6",
              "width": 0.5
             },
             "pattern": {
              "fillmode": "overlay",
              "size": 10,
              "solidity": 0.2
             }
            },
            "type": "barpolar"
           }
          ],
          "carpet": [
           {
            "aaxis": {
             "endlinecolor": "#2a3f5f",
             "gridcolor": "white",
             "linecolor": "white",
             "minorgridcolor": "white",
             "startlinecolor": "#2a3f5f"
            },
            "baxis": {
             "endlinecolor": "#2a3f5f",
             "gridcolor": "white",
             "linecolor": "white",
             "minorgridcolor": "white",
             "startlinecolor": "#2a3f5f"
            },
            "type": "carpet"
           }
          ],
          "choropleth": [
           {
            "colorbar": {
             "outlinewidth": 0,
             "ticks": ""
            },
            "type": "choropleth"
           }
          ],
          "contour": [
           {
            "colorbar": {
             "outlinewidth": 0,
             "ticks": ""
            },
            "colorscale": [
             [
              0,
              "#0d0887"
             ],
             [
              0.1111111111111111,
              "#46039f"
             ],
             [
              0.2222222222222222,
              "#7201a8"
             ],
             [
              0.3333333333333333,
              "#9c179e"
             ],
             [
              0.4444444444444444,
              "#bd3786"
             ],
             [
              0.5555555555555556,
              "#d8576b"
             ],
             [
              0.6666666666666666,
              "#ed7953"
             ],
             [
              0.7777777777777778,
              "#fb9f3a"
             ],
             [
              0.8888888888888888,
              "#fdca26"
             ],
             [
              1,
              "#f0f921"
             ]
            ],
            "type": "contour"
           }
          ],
          "contourcarpet": [
           {
            "colorbar": {
             "outlinewidth": 0,
             "ticks": ""
            },
            "type": "contourcarpet"
           }
          ],
          "heatmap": [
           {
            "colorbar": {
             "outlinewidth": 0,
             "ticks": ""
            },
            "colorscale": [
             [
              0,
              "#0d0887"
             ],
             [
              0.1111111111111111,
              "#46039f"
             ],
             [
              0.2222222222222222,
              "#7201a8"
             ],
             [
              0.3333333333333333,
              "#9c179e"
             ],
             [
              0.4444444444444444,
              "#bd3786"
             ],
             [
              0.5555555555555556,
              "#d8576b"
             ],
             [
              0.6666666666666666,
              "#ed7953"
             ],
             [
              0.7777777777777778,
              "#fb9f3a"
             ],
             [
              0.8888888888888888,
              "#fdca26"
             ],
             [
              1,
              "#f0f921"
             ]
            ],
            "type": "heatmap"
           }
          ],
          "heatmapgl": [
           {
            "colorbar": {
             "outlinewidth": 0,
             "ticks": ""
            },
            "colorscale": [
             [
              0,
              "#0d0887"
             ],
             [
              0.1111111111111111,
              "#46039f"
             ],
             [
              0.2222222222222222,
              "#7201a8"
             ],
             [
              0.3333333333333333,
              "#9c179e"
             ],
             [
              0.4444444444444444,
              "#bd3786"
             ],
             [
              0.5555555555555556,
              "#d8576b"
             ],
             [
              0.6666666666666666,
              "#ed7953"
             ],
             [
              0.7777777777777778,
              "#fb9f3a"
             ],
             [
              0.8888888888888888,
              "#fdca26"
             ],
             [
              1,
              "#f0f921"
             ]
            ],
            "type": "heatmapgl"
           }
          ],
          "histogram": [
           {
            "marker": {
             "pattern": {
              "fillmode": "overlay",
              "size": 10,
              "solidity": 0.2
             }
            },
            "type": "histogram"
           }
          ],
          "histogram2d": [
           {
            "colorbar": {
             "outlinewidth": 0,
             "ticks": ""
            },
            "colorscale": [
             [
              0,
              "#0d0887"
             ],
             [
              0.1111111111111111,
              "#46039f"
             ],
             [
              0.2222222222222222,
              "#7201a8"
             ],
             [
              0.3333333333333333,
              "#9c179e"
             ],
             [
              0.4444444444444444,
              "#bd3786"
             ],
             [
              0.5555555555555556,
              "#d8576b"
             ],
             [
              0.6666666666666666,
              "#ed7953"
             ],
             [
              0.7777777777777778,
              "#fb9f3a"
             ],
             [
              0.8888888888888888,
              "#fdca26"
             ],
             [
              1,
              "#f0f921"
             ]
            ],
            "type": "histogram2d"
           }
          ],
          "histogram2dcontour": [
           {
            "colorbar": {
             "outlinewidth": 0,
             "ticks": ""
            },
            "colorscale": [
             [
              0,
              "#0d0887"
             ],
             [
              0.1111111111111111,
              "#46039f"
             ],
             [
              0.2222222222222222,
              "#7201a8"
             ],
             [
              0.3333333333333333,
              "#9c179e"
             ],
             [
              0.4444444444444444,
              "#bd3786"
             ],
             [
              0.5555555555555556,
              "#d8576b"
             ],
             [
              0.6666666666666666,
              "#ed7953"
             ],
             [
              0.7777777777777778,
              "#fb9f3a"
             ],
             [
              0.8888888888888888,
              "#fdca26"
             ],
             [
              1,
              "#f0f921"
             ]
            ],
            "type": "histogram2dcontour"
           }
          ],
          "mesh3d": [
           {
            "colorbar": {
             "outlinewidth": 0,
             "ticks": ""
            },
            "type": "mesh3d"
           }
          ],
          "parcoords": [
           {
            "line": {
             "colorbar": {
              "outlinewidth": 0,
              "ticks": ""
             }
            },
            "type": "parcoords"
           }
          ],
          "pie": [
           {
            "automargin": true,
            "type": "pie"
           }
          ],
          "scatter": [
           {
            "fillpattern": {
             "fillmode": "overlay",
             "size": 10,
             "solidity": 0.2
            },
            "type": "scatter"
           }
          ],
          "scatter3d": [
           {
            "line": {
             "colorbar": {
              "outlinewidth": 0,
              "ticks": ""
             }
            },
            "marker": {
             "colorbar": {
              "outlinewidth": 0,
              "ticks": ""
             }
            },
            "type": "scatter3d"
           }
          ],
          "scattercarpet": [
           {
            "marker": {
             "colorbar": {
              "outlinewidth": 0,
              "ticks": ""
             }
            },
            "type": "scattercarpet"
           }
          ],
          "scattergeo": [
           {
            "marker": {
             "colorbar": {
              "outlinewidth": 0,
              "ticks": ""
             }
            },
            "type": "scattergeo"
           }
          ],
          "scattergl": [
           {
            "marker": {
             "colorbar": {
              "outlinewidth": 0,
              "ticks": ""
             }
            },
            "type": "scattergl"
           }
          ],
          "scattermapbox": [
           {
            "marker": {
             "colorbar": {
              "outlinewidth": 0,
              "ticks": ""
             }
            },
            "type": "scattermapbox"
           }
          ],
          "scatterpolar": [
           {
            "marker": {
             "colorbar": {
              "outlinewidth": 0,
              "ticks": ""
             }
            },
            "type": "scatterpolar"
           }
          ],
          "scatterpolargl": [
           {
            "marker": {
             "colorbar": {
              "outlinewidth": 0,
              "ticks": ""
             }
            },
            "type": "scatterpolargl"
           }
          ],
          "scatterternary": [
           {
            "marker": {
             "colorbar": {
              "outlinewidth": 0,
              "ticks": ""
             }
            },
            "type": "scatterternary"
           }
          ],
          "surface": [
           {
            "colorbar": {
             "outlinewidth": 0,
             "ticks": ""
            },
            "colorscale": [
             [
              0,
              "#0d0887"
             ],
             [
              0.1111111111111111,
              "#46039f"
             ],
             [
              0.2222222222222222,
              "#7201a8"
             ],
             [
              0.3333333333333333,
              "#9c179e"
             ],
             [
              0.4444444444444444,
              "#bd3786"
             ],
             [
              0.5555555555555556,
              "#d8576b"
             ],
             [
              0.6666666666666666,
              "#ed7953"
             ],
             [
              0.7777777777777778,
              "#fb9f3a"
             ],
             [
              0.8888888888888888,
              "#fdca26"
             ],
             [
              1,
              "#f0f921"
             ]
            ],
            "type": "surface"
           }
          ],
          "table": [
           {
            "cells": {
             "fill": {
              "color": "#EBF0F8"
             },
             "line": {
              "color": "white"
             }
            },
            "header": {
             "fill": {
              "color": "#C8D4E3"
             },
             "line": {
              "color": "white"
             }
            },
            "type": "table"
           }
          ]
         },
         "layout": {
          "annotationdefaults": {
           "arrowcolor": "#2a3f5f",
           "arrowhead": 0,
           "arrowwidth": 1
          },
          "autotypenumbers": "strict",
          "coloraxis": {
           "colorbar": {
            "outlinewidth": 0,
            "ticks": ""
           }
          },
          "colorscale": {
           "diverging": [
            [
             0,
             "#8e0152"
            ],
            [
             0.1,
             "#c51b7d"
            ],
            [
             0.2,
             "#de77ae"
            ],
            [
             0.3,
             "#f1b6da"
            ],
            [
             0.4,
             "#fde0ef"
            ],
            [
             0.5,
             "#f7f7f7"
            ],
            [
             0.6,
             "#e6f5d0"
            ],
            [
             0.7,
             "#b8e186"
            ],
            [
             0.8,
             "#7fbc41"
            ],
            [
             0.9,
             "#4d9221"
            ],
            [
             1,
             "#276419"
            ]
           ],
           "sequential": [
            [
             0,
             "#0d0887"
            ],
            [
             0.1111111111111111,
             "#46039f"
            ],
            [
             0.2222222222222222,
             "#7201a8"
            ],
            [
             0.3333333333333333,
             "#9c179e"
            ],
            [
             0.4444444444444444,
             "#bd3786"
            ],
            [
             0.5555555555555556,
             "#d8576b"
            ],
            [
             0.6666666666666666,
             "#ed7953"
            ],
            [
             0.7777777777777778,
             "#fb9f3a"
            ],
            [
             0.8888888888888888,
             "#fdca26"
            ],
            [
             1,
             "#f0f921"
            ]
           ],
           "sequentialminus": [
            [
             0,
             "#0d0887"
            ],
            [
             0.1111111111111111,
             "#46039f"
            ],
            [
             0.2222222222222222,
             "#7201a8"
            ],
            [
             0.3333333333333333,
             "#9c179e"
            ],
            [
             0.4444444444444444,
             "#bd3786"
            ],
            [
             0.5555555555555556,
             "#d8576b"
            ],
            [
             0.6666666666666666,
             "#ed7953"
            ],
            [
             0.7777777777777778,
             "#fb9f3a"
            ],
            [
             0.8888888888888888,
             "#fdca26"
            ],
            [
             1,
             "#f0f921"
            ]
           ]
          },
          "colorway": [
           "#636efa",
           "#EF553B",
           "#00cc96",
           "#ab63fa",
           "#FFA15A",
           "#19d3f3",
           "#FF6692",
           "#B6E880",
           "#FF97FF",
           "#FECB52"
          ],
          "font": {
           "color": "#2a3f5f"
          },
          "geo": {
           "bgcolor": "white",
           "lakecolor": "white",
           "landcolor": "#E5ECF6",
           "showlakes": true,
           "showland": true,
           "subunitcolor": "white"
          },
          "hoverlabel": {
           "align": "left"
          },
          "hovermode": "closest",
          "mapbox": {
           "style": "light"
          },
          "paper_bgcolor": "white",
          "plot_bgcolor": "#E5ECF6",
          "polar": {
           "angularaxis": {
            "gridcolor": "white",
            "linecolor": "white",
            "ticks": ""
           },
           "bgcolor": "#E5ECF6",
           "radialaxis": {
            "gridcolor": "white",
            "linecolor": "white",
            "ticks": ""
           }
          },
          "scene": {
           "xaxis": {
            "backgroundcolor": "#E5ECF6",
            "gridcolor": "white",
            "gridwidth": 2,
            "linecolor": "white",
            "showbackground": true,
            "ticks": "",
            "zerolinecolor": "white"
           },
           "yaxis": {
            "backgroundcolor": "#E5ECF6",
            "gridcolor": "white",
            "gridwidth": 2,
            "linecolor": "white",
            "showbackground": true,
            "ticks": "",
            "zerolinecolor": "white"
           },
           "zaxis": {
            "backgroundcolor": "#E5ECF6",
            "gridcolor": "white",
            "gridwidth": 2,
            "linecolor": "white",
            "showbackground": true,
            "ticks": "",
            "zerolinecolor": "white"
           }
          },
          "shapedefaults": {
           "line": {
            "color": "#2a3f5f"
           }
          },
          "ternary": {
           "aaxis": {
            "gridcolor": "white",
            "linecolor": "white",
            "ticks": ""
           },
           "baxis": {
            "gridcolor": "white",
            "linecolor": "white",
            "ticks": ""
           },
           "bgcolor": "#E5ECF6",
           "caxis": {
            "gridcolor": "white",
            "linecolor": "white",
            "ticks": ""
           }
          },
          "title": {
           "x": 0.05
          },
          "xaxis": {
           "automargin": true,
           "gridcolor": "white",
           "linecolor": "white",
           "ticks": "",
           "title": {
            "standoff": 15
           },
           "zerolinecolor": "white",
           "zerolinewidth": 2
          },
          "yaxis": {
           "automargin": true,
           "gridcolor": "white",
           "linecolor": "white",
           "ticks": "",
           "title": {
            "standoff": 15
           },
           "zerolinecolor": "white",
           "zerolinewidth": 2
          }
         }
        },
        "width": 1000,
        "xaxis": {
         "anchor": "y",
         "domain": [
          0,
          1
         ],
         "linecolor": "black",
         "showline": true,
         "ticks": "outside",
         "title": {
          "text": "Mean average precision - Standard CP"
         }
        },
        "yaxis": {
         "anchor": "x",
         "domain": [
          0,
          1
         ],
         "linecolor": "black",
         "showline": true,
         "ticks": "outside",
         "title": {
          "text": "Mean average precision - Standard CP (exposed to ChromaLive)"
         }
        }
       }
      }
     },
     "metadata": {},
     "output_type": "display_data"
    }
   ],
   "source": [
    "scatter_plot_comparison_colorblack(df_treatment, col1='Standard CP', col2='Standard CP (exposed to ChromaLive)', cutoff=0.5)"
   ]
  },
  {
   "cell_type": "markdown",
   "metadata": {},
   "source": [
    "### Plot with trendline"
   ]
  },
  {
   "cell_type": "code",
   "execution_count": 20,
   "metadata": {},
   "outputs": [
    {
     "data": {
      "application/vnd.plotly.v1+json": {
       "config": {
        "plotlyServerURL": "https://plot.ly"
       },
       "data": [
        {
         "hovertemplate": "<b>%{hovertext}</b><br><br>color=Other<br>Mean average precision - Standard CP=%{x}<br>Mean average precision - Standard CP (exposed to ChromaLive)=%{y}<extra></extra>",
         "hovertext": [
          "tumor necrosis factor production inhibitor",
          "antihistamine",
          "acetylcholine receptor antagonist",
          "pyruvate dehydrogenase kinase inhibitor",
          "protein tyrosine kinase inhibitor",
          "antihistamine",
          "glycogen synthase kinase inhibitor",
          "histone lysine methyltransferase inhibitor",
          "tumor necrosis factor production inhibitor",
          "inosine monophosphate dehydrogenase inhibitor",
          "CDC inhibitor",
          "PARP inhibitor",
          "bromodomain inhibitor",
          "ubiquitin specific protease inhibitor",
          "glycogen synthase kinase inhibitor",
          "JAK inhibitor",
          "hepatocyte growth factor receptor inhibitor",
          "bromodomain inhibitor",
          "MEK inhibitor",
          "Aurora kinase inhibitor",
          "LXR agonist",
          "phospholipase inhibitor",
          "IGF-1 inhibitor",
          "tricyclic antidepressant",
          "histone lysine demethylase inhibitor",
          "phosphodiesterase inhibitor",
          "beta-catenin inhibitor",
          "JNK inhibitor",
          "LXR agonist",
          "DNA inhibitor",
          "kinesin inhibitor",
          "RAF inhibitor",
          "Bcr-Abl kinase inhibitor",
          "AMPK inhibitor",
          "phospholipase inhibitor",
          "Aurora kinase inhibitor",
          "JAK inhibitor",
          "tricyclic antidepressant",
          "MEK inhibitor",
          "HDAC inhibitor",
          "BCL inhibitor",
          "phosphodiesterase inhibitor",
          "kinesin inhibitor",
          "CDK inhibitor",
          "CDC inhibitor",
          "RAF inhibitor",
          "protein tyrosine kinase inhibitor",
          "MAP kinase inhibitor",
          "ER stressor (SERCA inhibitor)",
          "Apoptosis inducer (transcription inhibitor)",
          "phosphoinositide dependent kinase inhibitor",
          "DNA inhibitor",
          "smoothened receptor agonist",
          "JNK inhibitor",
          "CHK inhibitor",
          "EGFR inhibitor",
          "androgen receptor modulator",
          "HMGCR inhibitor",
          "acetylcholine receptor antagonist",
          "HMGCR inhibitor",
          "protein arginine N-methyltransferase inhibitor",
          "Bcr-Abl kinase inhibitor",
          "MAP kinase inhibitor",
          "p38 MAPK inhibitor",
          "ubiquitin specific protease inhibitor",
          "beta-catenin inhibitor",
          "CDK inhibitor",
          "histone lysine demethylase inhibitor",
          "hypoxia inducible factor inhibitor",
          "androgen receptor modulator",
          "mTOR inhibitor",
          "smoothened receptor agonist",
          "hypoxia inducible factor inhibitor"
         ],
         "legendgroup": "Other",
         "marker": {
          "color": "lightgrey",
          "symbol": "circle"
         },
         "mode": "markers",
         "name": "Other",
         "orientation": "v",
         "showlegend": true,
         "type": "scatter",
         "x": [
          0.071023303094339,
          0.0219834647947619,
          0.0376139874137184,
          0.1253876015988353,
          0.1733133388934256,
          0.0193372972941567,
          0.6974747474747475,
          0.0143009556744482,
          0.0229035103749266,
          1,
          1,
          0.0241782237420953,
          0.1354833864643504,
          0.1220441551476034,
          1,
          0.0897612296683392,
          0.0320925465559821,
          1,
          0.1973182339491302,
          0.8752976190476192,
          1,
          0.0096736822412798,
          0.8180555555555555,
          0.0101510772315614,
          0.0653791559703667,
          0.093313058931989,
          0.0137005690849828,
          0.0111673604903547,
          0.2919557809314043,
          0.0413061299341054,
          0.9305555555555556,
          0.0719983639718025,
          0.861111111111111,
          0.1882316051861195,
          0.9305555555555556,
          0.485050408866633,
          0.1736991326973489,
          0.0164202406081599,
          0.6494021851164709,
          0.5131959806606946,
          0.4855452522119189,
          0.0073744888022016,
          0.417577086656034,
          0.7826388888888889,
          0.1240138751756181,
          0.9791666666666666,
          0.0257439848484493,
          0.0147444297366194,
          1,
          0.6779100529100529,
          0.856060606060606,
          0.2138536977809366,
          0.2232066509105931,
          0.0147100516505244,
          0.8523809523809525,
          0.0501649129059263,
          0.0157564725863259,
          0.1208693970945824,
          0.0320166972988841,
          0.0138875417541322,
          0.1825953910244248,
          0.3971398401972957,
          0.3390996781437548,
          0.2729084033637367,
          0.1185057175353392,
          0.9666666666666668,
          0.4227250258428748,
          0.7980158730158731,
          0.025294515548691,
          0.1351022015850957,
          0.8409455128205128,
          0.3812469669200657,
          0.6168650793650794
         ],
         "xaxis": "x",
         "y": [
          0.0269324151570718,
          0.0098494416903003,
          0.0228206162770984,
          0.1633846851015161,
          0.0990423473255821,
          0.0308575624750373,
          0.9666666666666668,
          0.0183343892897364,
          0.0250433965227246,
          1,
          1,
          0.0105475914691692,
          0.3394398280267845,
          0.020888850405352,
          0.8423611111111111,
          0.0137128602726556,
          0.0162980311344704,
          1,
          0.2283126300318101,
          0.9791666666666666,
          1,
          0.0459869980249081,
          0.8194444444444444,
          0.0642318475197457,
          0.0433719298273689,
          0.0307873229995447,
          0.020155811432168,
          0.1028012408612393,
          0.2250306948691127,
          0.0076851014652721,
          0.6635149572649572,
          0.3434330228147008,
          0.7027777777777778,
          0.1956734006955035,
          0.728030303030303,
          0.5446975002714567,
          0.2023101207044682,
          0.016386758715014,
          0.6961309523809524,
          0.6227891244733951,
          0.2592663723712792,
          0.0081758677676787,
          0.4521693326453388,
          0.7444444444444445,
          0.0265845803595738,
          0.7080026455026455,
          0.0433624801235798,
          0.0154589622278747,
          0.9513888888888888,
          0.5489087301587301,
          0.9107142857142858,
          0.4666514041514041,
          0.3011294259282414,
          0.0178644488442322,
          0.6259874384874384,
          0.157237160356866,
          0.0415357870859133,
          0.0132956663191299,
          0.0545590719950017,
          0.0120593151628269,
          0.1207348910330319,
          0.5965253581107239,
          0.4789773782980304,
          0.0878828863522244,
          0.2153727488972392,
          0.6685910954938814,
          0.6405753968253969,
          0.9791666666666666,
          0.0542794818669488,
          0.0244512206052027,
          1,
          0.1480178713376858,
          0.3900526556776557
         ],
         "yaxis": "y"
        },
        {
         "hovertemplate": "<b>%{hovertext}</b><br><br>color=hepatocyte growth factor receptor inhibitor<br>Mean average precision - Standard CP=%{x}<br>Mean average precision - Standard CP (exposed to ChromaLive)=%{y}<extra></extra>",
         "hovertext": [
          "hepatocyte growth factor receptor inhibitor"
         ],
         "legendgroup": "hepatocyte growth factor receptor inhibitor",
         "marker": {
          "color": "#00cc96",
          "symbol": "circle"
         },
         "mode": "markers",
         "name": "hepatocyte growth factor receptor inhibitor",
         "orientation": "v",
         "showlegend": true,
         "type": "scatter",
         "x": [
          0.4437509212047515
         ],
         "xaxis": "x",
         "y": [
          1
         ],
         "yaxis": "y"
        },
        {
         "hovertemplate": "<b>%{hovertext}</b><br><br>color=CHK inhibitor<br>Mean average precision - Standard CP=%{x}<br>Mean average precision - Standard CP (exposed to ChromaLive)=%{y}<extra></extra>",
         "hovertext": [
          "CHK inhibitor"
         ],
         "legendgroup": "CHK inhibitor",
         "marker": {
          "color": "#ab63fa",
          "symbol": "circle"
         },
         "mode": "markers",
         "name": "CHK inhibitor",
         "orientation": "v",
         "showlegend": true,
         "type": "scatter",
         "x": [
          1
         ],
         "xaxis": "x",
         "y": [
          0.4642586580086579
         ],
         "yaxis": "y"
        },
        {
         "hovertemplate": "<b>%{hovertext}</b><br><br>color=Apoptosis inducer (ATP-competitive kinase inhibitor)<br>Mean average precision - Standard CP=%{x}<br>Mean average precision - Standard CP (exposed to ChromaLive)=%{y}<extra></extra>",
         "hovertext": [
          "Apoptosis inducer (ATP-competitive kinase inhibitor)"
         ],
         "legendgroup": "Apoptosis inducer (ATP-competitive kinase inhibitor)",
         "marker": {
          "color": "#FFA15A",
          "symbol": "circle"
         },
         "mode": "markers",
         "name": "Apoptosis inducer (ATP-competitive kinase inhibitor)",
         "orientation": "v",
         "showlegend": true,
         "type": "scatter",
         "x": [
          1
         ],
         "xaxis": "x",
         "y": [
          0.2419434031822331
         ],
         "yaxis": "y"
        },
        {
         "hovertemplate": "<b>%{hovertext}</b><br><br>color=phosphoinositide dependent kinase inhibitor<br>Mean average precision - Standard CP=%{x}<br>Mean average precision - Standard CP (exposed to ChromaLive)=%{y}<extra></extra>",
         "hovertext": [
          "phosphoinositide dependent kinase inhibitor"
         ],
         "legendgroup": "phosphoinositide dependent kinase inhibitor",
         "marker": {
          "color": "#19d3f3",
          "symbol": "circle"
         },
         "mode": "markers",
         "name": "phosphoinositide dependent kinase inhibitor",
         "orientation": "v",
         "showlegend": true,
         "type": "scatter",
         "x": [
          0.6197956684237172
         ],
         "xaxis": "x",
         "y": [
          1
         ],
         "yaxis": "y"
        },
        {
         "hovertemplate": "<b>%{hovertext}</b><br><br>color=FGFR inhibitor<br>Mean average precision - Standard CP=%{x}<br>Mean average precision - Standard CP (exposed to ChromaLive)=%{y}<extra></extra>",
         "hovertext": [
          "FGFR inhibitor",
          "FGFR inhibitor"
         ],
         "legendgroup": "FGFR inhibitor",
         "marker": {
          "color": "#FF6692",
          "symbol": "circle"
         },
         "mode": "markers",
         "name": "FGFR inhibitor",
         "orientation": "v",
         "showlegend": true,
         "type": "scatter",
         "x": [
          0.8824404761904762,
          0.4882847755692583
         ],
         "xaxis": "x",
         "y": [
          0.4373503724328312,
          1
         ],
         "yaxis": "y"
        },
        {
         "hovertemplate": "<b>%{hovertext}</b><br><br>color=pyruvate dehydrogenase kinase inhibitor<br>Mean average precision - Standard CP=%{x}<br>Mean average precision - Standard CP (exposed to ChromaLive)=%{y}<extra></extra>",
         "hovertext": [
          "pyruvate dehydrogenase kinase inhibitor"
         ],
         "legendgroup": "pyruvate dehydrogenase kinase inhibitor",
         "marker": {
          "color": "#B6E880",
          "symbol": "circle"
         },
         "mode": "markers",
         "name": "pyruvate dehydrogenase kinase inhibitor",
         "orientation": "v",
         "showlegend": true,
         "type": "scatter",
         "x": [
          0.525020664946182
         ],
         "xaxis": "x",
         "y": [
          1
         ],
         "yaxis": "y"
        },
        {
         "hovertemplate": "<b>%{hovertext}</b><br><br>color=PARP inhibitor<br>Mean average precision - Standard CP=%{x}<br>Mean average precision - Standard CP (exposed to ChromaLive)=%{y}<extra></extra>",
         "hovertext": [
          "PARP inhibitor"
         ],
         "legendgroup": "PARP inhibitor",
         "marker": {
          "color": "#FF97FF",
          "symbol": "circle"
         },
         "mode": "markers",
         "name": "PARP inhibitor",
         "orientation": "v",
         "showlegend": true,
         "type": "scatter",
         "x": [
          0.5149426842442
         ],
         "xaxis": "x",
         "y": [
          0.9097222222222222
         ],
         "yaxis": "y"
        },
        {
         "hovertemplate": "<b>%{hovertext}</b><br><br>color=BCL inhibitor<br>Mean average precision - Standard CP=%{x}<br>Mean average precision - Standard CP (exposed to ChromaLive)=%{y}<extra></extra>",
         "hovertext": [
          "BCL inhibitor"
         ],
         "legendgroup": "BCL inhibitor",
         "marker": {
          "color": "#FECB52",
          "symbol": "circle"
         },
         "mode": "markers",
         "name": "BCL inhibitor",
         "orientation": "v",
         "showlegend": true,
         "type": "scatter",
         "x": [
          1
         ],
         "xaxis": "x",
         "y": [
          0.3281051420130817
         ],
         "yaxis": "y"
        },
        {
         "hovertemplate": "<b>%{hovertext}</b><br><br>color=inosine monophosphate dehydrogenase inhibitor<br>Mean average precision - Standard CP=%{x}<br>Mean average precision - Standard CP (exposed to ChromaLive)=%{y}<extra></extra>",
         "hovertext": [
          "inosine monophosphate dehydrogenase inhibitor"
         ],
         "legendgroup": "inosine monophosphate dehydrogenase inhibitor",
         "marker": {
          "color": "#636efa",
          "symbol": "circle"
         },
         "mode": "markers",
         "name": "inosine monophosphate dehydrogenase inhibitor",
         "orientation": "v",
         "showlegend": true,
         "type": "scatter",
         "x": [
          0.2032654623005413
         ],
         "xaxis": "x",
         "y": [
          1
         ],
         "yaxis": "y"
        },
        {
         "hovertemplate": "<b>%{hovertext}</b><br><br>color=histone lysine methyltransferase inhibitor<br>Mean average precision - Standard CP=%{x}<br>Mean average precision - Standard CP (exposed to ChromaLive)=%{y}<extra></extra>",
         "hovertext": [
          "histone lysine methyltransferase inhibitor"
         ],
         "legendgroup": "histone lysine methyltransferase inhibitor",
         "marker": {
          "color": "#EF553B",
          "symbol": "circle"
         },
         "mode": "markers",
         "name": "histone lysine methyltransferase inhibitor",
         "orientation": "v",
         "showlegend": true,
         "type": "scatter",
         "x": [
          1
         ],
         "xaxis": "x",
         "y": [
          0.548907701597919
         ],
         "yaxis": "y"
        },
        {
         "hovertemplate": "<b>%{hovertext}</b><br><br>color=HDAC inhibitor<br>Mean average precision - Standard CP=%{x}<br>Mean average precision - Standard CP (exposed to ChromaLive)=%{y}<extra></extra>",
         "hovertext": [
          "HDAC inhibitor"
         ],
         "legendgroup": "HDAC inhibitor",
         "marker": {
          "color": "#00cc96",
          "symbol": "circle"
         },
         "mode": "markers",
         "name": "HDAC inhibitor",
         "orientation": "v",
         "showlegend": true,
         "type": "scatter",
         "x": [
          0.4493806573112204
         ],
         "xaxis": "x",
         "y": [
          0.9458333333333332
         ],
         "yaxis": "y"
        },
        {
         "hovertemplate": "<b>%{hovertext}</b><br><br>color=protein arginine N-methyltransferase inhibitor<br>Mean average precision - Standard CP=%{x}<br>Mean average precision - Standard CP (exposed to ChromaLive)=%{y}<extra></extra>",
         "hovertext": [
          "protein arginine N-methyltransferase inhibitor"
         ],
         "legendgroup": "protein arginine N-methyltransferase inhibitor",
         "marker": {
          "color": "#ab63fa",
          "symbol": "circle"
         },
         "mode": "markers",
         "name": "protein arginine N-methyltransferase inhibitor",
         "orientation": "v",
         "showlegend": true,
         "type": "scatter",
         "x": [
          0.7093142968142968
         ],
         "xaxis": "x",
         "y": [
          0.30344499626356
         ],
         "yaxis": "y"
        },
        {
         "hovertemplate": "<b>%{hovertext}</b><br><br>color=p38 MAPK inhibitor<br>Mean average precision - Standard CP=%{x}<br>Mean average precision - Standard CP (exposed to ChromaLive)=%{y}<extra></extra>",
         "hovertext": [
          "p38 MAPK inhibitor"
         ],
         "legendgroup": "p38 MAPK inhibitor",
         "marker": {
          "color": "#FFA15A",
          "symbol": "circle"
         },
         "mode": "markers",
         "name": "p38 MAPK inhibitor",
         "orientation": "v",
         "showlegend": true,
         "type": "scatter",
         "x": [
          0.9375
         ],
         "xaxis": "x",
         "y": [
          0.2374943145408665
         ],
         "yaxis": "y"
        },
        {
         "hovertemplate": "<b>%{hovertext}</b><br><br>color=mTOR inhibitor<br>Mean average precision - Standard CP=%{x}<br>Mean average precision - Standard CP (exposed to ChromaLive)=%{y}<extra></extra>",
         "hovertext": [
          "mTOR inhibitor"
         ],
         "legendgroup": "mTOR inhibitor",
         "marker": {
          "color": "#19d3f3",
          "symbol": "circle"
         },
         "mode": "markers",
         "name": "mTOR inhibitor",
         "orientation": "v",
         "showlegend": true,
         "type": "scatter",
         "x": [
          1
         ],
         "xaxis": "x",
         "y": [
          0.512403027892278
         ],
         "yaxis": "y"
        },
        {
         "hovertemplate": "<b>%{hovertext}</b><br><br>color=EGFR inhibitor<br>Mean average precision - Standard CP=%{x}<br>Mean average precision - Standard CP (exposed to ChromaLive)=%{y}<extra></extra>",
         "hovertext": [
          "EGFR inhibitor"
         ],
         "legendgroup": "EGFR inhibitor",
         "marker": {
          "color": "#FF6692",
          "symbol": "circle"
         },
         "mode": "markers",
         "name": "EGFR inhibitor",
         "orientation": "v",
         "showlegend": true,
         "type": "scatter",
         "x": [
          1
         ],
         "xaxis": "x",
         "y": [
          0.4742806758065774
         ],
         "yaxis": "y"
        },
        {
         "hovertemplate": "<b>%{hovertext}</b><br><br>color=IGF-1 inhibitor<br>Mean average precision - Standard CP=%{x}<br>Mean average precision - Standard CP (exposed to ChromaLive)=%{y}<extra></extra>",
         "hovertext": [
          "IGF-1 inhibitor"
         ],
         "legendgroup": "IGF-1 inhibitor",
         "marker": {
          "color": "#B6E880",
          "symbol": "circle"
         },
         "mode": "markers",
         "name": "IGF-1 inhibitor",
         "orientation": "v",
         "showlegend": true,
         "type": "scatter",
         "x": [
          0.58640432457568
         ],
         "xaxis": "x",
         "y": [
          1
         ],
         "yaxis": "y"
        },
        {
         "hovertemplate": "<b>OLS trendline</b><br>y = 0.735746 * x + 0.0961868<br>R<sup>2</sup>=0.563726<br><br>Mean average precision - Standard CP=%{x}<br>Mean average precision - Standard CP (exposed to ChromaLive)=%{y} <b>(trend)</b><extra></extra>",
         "legendgroup": "Overall Trendline",
         "line": {
          "color": "#FF97FF"
         },
         "mode": "lines",
         "name": "Overall Trendline",
         "showlegend": true,
         "type": "scatter",
         "x": [
          0.0073744888022016,
          0.0096736822412798,
          0.0101510772315614,
          0.0111673604903547,
          0.0137005690849828,
          0.0138875417541322,
          0.0143009556744482,
          0.0147100516505244,
          0.0147444297366194,
          0.0157564725863259,
          0.0164202406081599,
          0.0193372972941567,
          0.0219834647947619,
          0.0229035103749266,
          0.0241782237420953,
          0.025294515548691,
          0.0257439848484493,
          0.0320166972988841,
          0.0320925465559821,
          0.0376139874137184,
          0.0413061299341054,
          0.0501649129059263,
          0.0653791559703667,
          0.071023303094339,
          0.0719983639718025,
          0.0897612296683392,
          0.093313058931989,
          0.1185057175353392,
          0.1208693970945824,
          0.1220441551476034,
          0.1240138751756181,
          0.1253876015988353,
          0.1351022015850957,
          0.1354833864643504,
          0.1733133388934256,
          0.1736991326973489,
          0.1825953910244248,
          0.1882316051861195,
          0.1973182339491302,
          0.2032654623005413,
          0.2138536977809366,
          0.2232066509105931,
          0.2729084033637367,
          0.2919557809314043,
          0.3390996781437548,
          0.3812469669200657,
          0.3971398401972957,
          0.417577086656034,
          0.4227250258428748,
          0.4437509212047515,
          0.4493806573112204,
          0.485050408866633,
          0.4855452522119189,
          0.4882847755692583,
          0.5131959806606946,
          0.5149426842442,
          0.525020664946182,
          0.58640432457568,
          0.6168650793650794,
          0.6197956684237172,
          0.6494021851164709,
          0.6779100529100529,
          0.6974747474747475,
          0.7093142968142968,
          0.7826388888888889,
          0.7980158730158731,
          0.8180555555555555,
          0.8409455128205128,
          0.8523809523809525,
          0.856060606060606,
          0.861111111111111,
          0.8752976190476192,
          0.8824404761904762,
          0.9305555555555556,
          0.9305555555555556,
          0.9375,
          0.9666666666666668,
          0.9791666666666666,
          1,
          1,
          1,
          1,
          1,
          1,
          1,
          1,
          1,
          1,
          1,
          1
         ],
         "xaxis": "x",
         "y": [
          0.10161251346631571,
          0.1033041358460391,
          0.10365537730132612,
          0.10440310364548368,
          0.10626690174021843,
          0.10640446613395493,
          0.10670863377283621,
          0.10700962450150789,
          0.10703491804089518,
          0.10777952452102195,
          0.10826788918908106,
          0.11041410198226491,
          0.11236100914041823,
          0.11303792899732082,
          0.11397579426041052,
          0.11479710149374023,
          0.11512779673388261,
          0.11974291983852202,
          0.11979872562615675,
          0.12386110366034712,
          0.12657758275708597,
          0.13309539690770958,
          0.1442892154098524,
          0.14844187408879808,
          0.14915927123071548,
          0.16222822864402892,
          0.1648414728231509,
          0.18337687066042224,
          0.18511593844521623,
          0.18598026198558232,
          0.18742947562047985,
          0.18844018934366413,
          0.19558766744076905,
          0.19586812269155385,
          0.22370135893223833,
          0.22398520518091977,
          0.23053059167433104,
          0.23467741370800008,
          0.2413628644884746,
          0.24573851396867058,
          0.25352876588744744,
          0.2604101637558122,
          0.29697802939608586,
          0.3109920612826009,
          0.3456779951567709,
          0.3766876943525277,
          0.3883808123203003,
          0.40341743468617897,
          0.40720501035941437,
          0.42267472880212753,
          0.4268167846325659,
          0.4530606617177847,
          0.45342474073050076,
          0.4554403340869728,
          0.4737686536282153,
          0.47505378380577234,
          0.4824686178115307,
          0.5276313999479542,
          0.5500427784901936,
          0.5521989476724403,
          0.573981823950652,
          0.594956373694128,
          0.6093510194927692,
          0.6180619205801743,
          0.672010196018538,
          0.6833237506067447,
          0.6980678669087946,
          0.7149090614434477,
          0.7233226403766625,
          0.726029930858767,
          0.7297458197557734,
          0.7401834862468287,
          0.7454388148297375,
          0.7808392920896101,
          0.7808392920896101,
          0.7859486393229937,
          0.8074078977032052,
          0.8166047227232958,
          0.8319327644234468,
          0.8319327644234468,
          0.8319327644234468,
          0.8319327644234468,
          0.8319327644234468,
          0.8319327644234468,
          0.8319327644234468,
          0.8319327644234468,
          0.8319327644234468,
          0.8319327644234468,
          0.8319327644234468,
          0.8319327644234468
         ],
         "yaxis": "y"
        }
       ],
       "layout": {
        "font": {
         "color": "Black",
         "family": "sans serif",
         "size": 20
        },
        "height": 800,
        "legend": {
         "orientation": "h",
         "title": {
          "text": "color"
         },
         "tracegroupgap": 0
        },
        "margin": {
         "t": 60
        },
        "shapes": [
         {
          "line": {
           "color": "grey",
           "dash": "dashdot"
          },
          "type": "line",
          "x0": 0,
          "x1": 1,
          "y0": 0,
          "y1": 1
         }
        ],
        "template": {
         "data": {
          "bar": [
           {
            "error_x": {
             "color": "#2a3f5f"
            },
            "error_y": {
             "color": "#2a3f5f"
            },
            "marker": {
             "line": {
              "color": "#E5ECF6",
              "width": 0.5
             },
             "pattern": {
              "fillmode": "overlay",
              "size": 10,
              "solidity": 0.2
             }
            },
            "type": "bar"
           }
          ],
          "barpolar": [
           {
            "marker": {
             "line": {
              "color": "#E5ECF6",
              "width": 0.5
             },
             "pattern": {
              "fillmode": "overlay",
              "size": 10,
              "solidity": 0.2
             }
            },
            "type": "barpolar"
           }
          ],
          "carpet": [
           {
            "aaxis": {
             "endlinecolor": "#2a3f5f",
             "gridcolor": "white",
             "linecolor": "white",
             "minorgridcolor": "white",
             "startlinecolor": "#2a3f5f"
            },
            "baxis": {
             "endlinecolor": "#2a3f5f",
             "gridcolor": "white",
             "linecolor": "white",
             "minorgridcolor": "white",
             "startlinecolor": "#2a3f5f"
            },
            "type": "carpet"
           }
          ],
          "choropleth": [
           {
            "colorbar": {
             "outlinewidth": 0,
             "ticks": ""
            },
            "type": "choropleth"
           }
          ],
          "contour": [
           {
            "colorbar": {
             "outlinewidth": 0,
             "ticks": ""
            },
            "colorscale": [
             [
              0,
              "#0d0887"
             ],
             [
              0.1111111111111111,
              "#46039f"
             ],
             [
              0.2222222222222222,
              "#7201a8"
             ],
             [
              0.3333333333333333,
              "#9c179e"
             ],
             [
              0.4444444444444444,
              "#bd3786"
             ],
             [
              0.5555555555555556,
              "#d8576b"
             ],
             [
              0.6666666666666666,
              "#ed7953"
             ],
             [
              0.7777777777777778,
              "#fb9f3a"
             ],
             [
              0.8888888888888888,
              "#fdca26"
             ],
             [
              1,
              "#f0f921"
             ]
            ],
            "type": "contour"
           }
          ],
          "contourcarpet": [
           {
            "colorbar": {
             "outlinewidth": 0,
             "ticks": ""
            },
            "type": "contourcarpet"
           }
          ],
          "heatmap": [
           {
            "colorbar": {
             "outlinewidth": 0,
             "ticks": ""
            },
            "colorscale": [
             [
              0,
              "#0d0887"
             ],
             [
              0.1111111111111111,
              "#46039f"
             ],
             [
              0.2222222222222222,
              "#7201a8"
             ],
             [
              0.3333333333333333,
              "#9c179e"
             ],
             [
              0.4444444444444444,
              "#bd3786"
             ],
             [
              0.5555555555555556,
              "#d8576b"
             ],
             [
              0.6666666666666666,
              "#ed7953"
             ],
             [
              0.7777777777777778,
              "#fb9f3a"
             ],
             [
              0.8888888888888888,
              "#fdca26"
             ],
             [
              1,
              "#f0f921"
             ]
            ],
            "type": "heatmap"
           }
          ],
          "heatmapgl": [
           {
            "colorbar": {
             "outlinewidth": 0,
             "ticks": ""
            },
            "colorscale": [
             [
              0,
              "#0d0887"
             ],
             [
              0.1111111111111111,
              "#46039f"
             ],
             [
              0.2222222222222222,
              "#7201a8"
             ],
             [
              0.3333333333333333,
              "#9c179e"
             ],
             [
              0.4444444444444444,
              "#bd3786"
             ],
             [
              0.5555555555555556,
              "#d8576b"
             ],
             [
              0.6666666666666666,
              "#ed7953"
             ],
             [
              0.7777777777777778,
              "#fb9f3a"
             ],
             [
              0.8888888888888888,
              "#fdca26"
             ],
             [
              1,
              "#f0f921"
             ]
            ],
            "type": "heatmapgl"
           }
          ],
          "histogram": [
           {
            "marker": {
             "pattern": {
              "fillmode": "overlay",
              "size": 10,
              "solidity": 0.2
             }
            },
            "type": "histogram"
           }
          ],
          "histogram2d": [
           {
            "colorbar": {
             "outlinewidth": 0,
             "ticks": ""
            },
            "colorscale": [
             [
              0,
              "#0d0887"
             ],
             [
              0.1111111111111111,
              "#46039f"
             ],
             [
              0.2222222222222222,
              "#7201a8"
             ],
             [
              0.3333333333333333,
              "#9c179e"
             ],
             [
              0.4444444444444444,
              "#bd3786"
             ],
             [
              0.5555555555555556,
              "#d8576b"
             ],
             [
              0.6666666666666666,
              "#ed7953"
             ],
             [
              0.7777777777777778,
              "#fb9f3a"
             ],
             [
              0.8888888888888888,
              "#fdca26"
             ],
             [
              1,
              "#f0f921"
             ]
            ],
            "type": "histogram2d"
           }
          ],
          "histogram2dcontour": [
           {
            "colorbar": {
             "outlinewidth": 0,
             "ticks": ""
            },
            "colorscale": [
             [
              0,
              "#0d0887"
             ],
             [
              0.1111111111111111,
              "#46039f"
             ],
             [
              0.2222222222222222,
              "#7201a8"
             ],
             [
              0.3333333333333333,
              "#9c179e"
             ],
             [
              0.4444444444444444,
              "#bd3786"
             ],
             [
              0.5555555555555556,
              "#d8576b"
             ],
             [
              0.6666666666666666,
              "#ed7953"
             ],
             [
              0.7777777777777778,
              "#fb9f3a"
             ],
             [
              0.8888888888888888,
              "#fdca26"
             ],
             [
              1,
              "#f0f921"
             ]
            ],
            "type": "histogram2dcontour"
           }
          ],
          "mesh3d": [
           {
            "colorbar": {
             "outlinewidth": 0,
             "ticks": ""
            },
            "type": "mesh3d"
           }
          ],
          "parcoords": [
           {
            "line": {
             "colorbar": {
              "outlinewidth": 0,
              "ticks": ""
             }
            },
            "type": "parcoords"
           }
          ],
          "pie": [
           {
            "automargin": true,
            "type": "pie"
           }
          ],
          "scatter": [
           {
            "fillpattern": {
             "fillmode": "overlay",
             "size": 10,
             "solidity": 0.2
            },
            "type": "scatter"
           }
          ],
          "scatter3d": [
           {
            "line": {
             "colorbar": {
              "outlinewidth": 0,
              "ticks": ""
             }
            },
            "marker": {
             "colorbar": {
              "outlinewidth": 0,
              "ticks": ""
             }
            },
            "type": "scatter3d"
           }
          ],
          "scattercarpet": [
           {
            "marker": {
             "colorbar": {
              "outlinewidth": 0,
              "ticks": ""
             }
            },
            "type": "scattercarpet"
           }
          ],
          "scattergeo": [
           {
            "marker": {
             "colorbar": {
              "outlinewidth": 0,
              "ticks": ""
             }
            },
            "type": "scattergeo"
           }
          ],
          "scattergl": [
           {
            "marker": {
             "colorbar": {
              "outlinewidth": 0,
              "ticks": ""
             }
            },
            "type": "scattergl"
           }
          ],
          "scattermapbox": [
           {
            "marker": {
             "colorbar": {
              "outlinewidth": 0,
              "ticks": ""
             }
            },
            "type": "scattermapbox"
           }
          ],
          "scatterpolar": [
           {
            "marker": {
             "colorbar": {
              "outlinewidth": 0,
              "ticks": ""
             }
            },
            "type": "scatterpolar"
           }
          ],
          "scatterpolargl": [
           {
            "marker": {
             "colorbar": {
              "outlinewidth": 0,
              "ticks": ""
             }
            },
            "type": "scatterpolargl"
           }
          ],
          "scatterternary": [
           {
            "marker": {
             "colorbar": {
              "outlinewidth": 0,
              "ticks": ""
             }
            },
            "type": "scatterternary"
           }
          ],
          "surface": [
           {
            "colorbar": {
             "outlinewidth": 0,
             "ticks": ""
            },
            "colorscale": [
             [
              0,
              "#0d0887"
             ],
             [
              0.1111111111111111,
              "#46039f"
             ],
             [
              0.2222222222222222,
              "#7201a8"
             ],
             [
              0.3333333333333333,
              "#9c179e"
             ],
             [
              0.4444444444444444,
              "#bd3786"
             ],
             [
              0.5555555555555556,
              "#d8576b"
             ],
             [
              0.6666666666666666,
              "#ed7953"
             ],
             [
              0.7777777777777778,
              "#fb9f3a"
             ],
             [
              0.8888888888888888,
              "#fdca26"
             ],
             [
              1,
              "#f0f921"
             ]
            ],
            "type": "surface"
           }
          ],
          "table": [
           {
            "cells": {
             "fill": {
              "color": "#EBF0F8"
             },
             "line": {
              "color": "white"
             }
            },
            "header": {
             "fill": {
              "color": "#C8D4E3"
             },
             "line": {
              "color": "white"
             }
            },
            "type": "table"
           }
          ]
         },
         "layout": {
          "annotationdefaults": {
           "arrowcolor": "#2a3f5f",
           "arrowhead": 0,
           "arrowwidth": 1
          },
          "autotypenumbers": "strict",
          "coloraxis": {
           "colorbar": {
            "outlinewidth": 0,
            "ticks": ""
           }
          },
          "colorscale": {
           "diverging": [
            [
             0,
             "#8e0152"
            ],
            [
             0.1,
             "#c51b7d"
            ],
            [
             0.2,
             "#de77ae"
            ],
            [
             0.3,
             "#f1b6da"
            ],
            [
             0.4,
             "#fde0ef"
            ],
            [
             0.5,
             "#f7f7f7"
            ],
            [
             0.6,
             "#e6f5d0"
            ],
            [
             0.7,
             "#b8e186"
            ],
            [
             0.8,
             "#7fbc41"
            ],
            [
             0.9,
             "#4d9221"
            ],
            [
             1,
             "#276419"
            ]
           ],
           "sequential": [
            [
             0,
             "#0d0887"
            ],
            [
             0.1111111111111111,
             "#46039f"
            ],
            [
             0.2222222222222222,
             "#7201a8"
            ],
            [
             0.3333333333333333,
             "#9c179e"
            ],
            [
             0.4444444444444444,
             "#bd3786"
            ],
            [
             0.5555555555555556,
             "#d8576b"
            ],
            [
             0.6666666666666666,
             "#ed7953"
            ],
            [
             0.7777777777777778,
             "#fb9f3a"
            ],
            [
             0.8888888888888888,
             "#fdca26"
            ],
            [
             1,
             "#f0f921"
            ]
           ],
           "sequentialminus": [
            [
             0,
             "#0d0887"
            ],
            [
             0.1111111111111111,
             "#46039f"
            ],
            [
             0.2222222222222222,
             "#7201a8"
            ],
            [
             0.3333333333333333,
             "#9c179e"
            ],
            [
             0.4444444444444444,
             "#bd3786"
            ],
            [
             0.5555555555555556,
             "#d8576b"
            ],
            [
             0.6666666666666666,
             "#ed7953"
            ],
            [
             0.7777777777777778,
             "#fb9f3a"
            ],
            [
             0.8888888888888888,
             "#fdca26"
            ],
            [
             1,
             "#f0f921"
            ]
           ]
          },
          "colorway": [
           "#636efa",
           "#EF553B",
           "#00cc96",
           "#ab63fa",
           "#FFA15A",
           "#19d3f3",
           "#FF6692",
           "#B6E880",
           "#FF97FF",
           "#FECB52"
          ],
          "font": {
           "color": "#2a3f5f"
          },
          "geo": {
           "bgcolor": "white",
           "lakecolor": "white",
           "landcolor": "#E5ECF6",
           "showlakes": true,
           "showland": true,
           "subunitcolor": "white"
          },
          "hoverlabel": {
           "align": "left"
          },
          "hovermode": "closest",
          "mapbox": {
           "style": "light"
          },
          "paper_bgcolor": "white",
          "plot_bgcolor": "#E5ECF6",
          "polar": {
           "angularaxis": {
            "gridcolor": "white",
            "linecolor": "white",
            "ticks": ""
           },
           "bgcolor": "#E5ECF6",
           "radialaxis": {
            "gridcolor": "white",
            "linecolor": "white",
            "ticks": ""
           }
          },
          "scene": {
           "xaxis": {
            "backgroundcolor": "#E5ECF6",
            "gridcolor": "white",
            "gridwidth": 2,
            "linecolor": "white",
            "showbackground": true,
            "ticks": "",
            "zerolinecolor": "white"
           },
           "yaxis": {
            "backgroundcolor": "#E5ECF6",
            "gridcolor": "white",
            "gridwidth": 2,
            "linecolor": "white",
            "showbackground": true,
            "ticks": "",
            "zerolinecolor": "white"
           },
           "zaxis": {
            "backgroundcolor": "#E5ECF6",
            "gridcolor": "white",
            "gridwidth": 2,
            "linecolor": "white",
            "showbackground": true,
            "ticks": "",
            "zerolinecolor": "white"
           }
          },
          "shapedefaults": {
           "line": {
            "color": "#2a3f5f"
           }
          },
          "ternary": {
           "aaxis": {
            "gridcolor": "white",
            "linecolor": "white",
            "ticks": ""
           },
           "baxis": {
            "gridcolor": "white",
            "linecolor": "white",
            "ticks": ""
           },
           "bgcolor": "#E5ECF6",
           "caxis": {
            "gridcolor": "white",
            "linecolor": "white",
            "ticks": ""
           }
          },
          "title": {
           "x": 0.05
          },
          "xaxis": {
           "automargin": true,
           "gridcolor": "white",
           "linecolor": "white",
           "ticks": "",
           "title": {
            "standoff": 15
           },
           "zerolinecolor": "white",
           "zerolinewidth": 2
          },
          "yaxis": {
           "automargin": true,
           "gridcolor": "white",
           "linecolor": "white",
           "ticks": "",
           "title": {
            "standoff": 15
           },
           "zerolinecolor": "white",
           "zerolinewidth": 2
          }
         }
        },
        "width": 1000,
        "xaxis": {
         "anchor": "y",
         "domain": [
          0,
          1
         ],
         "title": {
          "text": "Mean average precision - Standard CP"
         }
        },
        "yaxis": {
         "anchor": "x",
         "domain": [
          0,
          1
         ],
         "title": {
          "text": "Mean average precision - Standard CP (exposed to ChromaLive)"
         }
        }
       }
      }
     },
     "metadata": {},
     "output_type": "display_data"
    }
   ],
   "source": [
    "scatter_plot_comparison_colorblack_trendline(df_treatment, col1='Standard CP', col2='Standard CP (exposed to ChromaLive)')"
   ]
  },
  {
   "cell_type": "markdown",
   "metadata": {},
   "source": []
  },
  {
   "cell_type": "markdown",
   "metadata": {},
   "source": []
  }
 ],
 "metadata": {
  "kernelspec": {
   "display_name": "copairs",
   "language": "python",
   "name": "python3"
  },
  "language_info": {
   "codemirror_mode": {
    "name": "ipython",
    "version": 3
   },
   "file_extension": ".py",
   "mimetype": "text/x-python",
   "name": "python",
   "nbconvert_exporter": "python",
   "pygments_lexer": "ipython3",
   "version": "3.12.2"
  }
 },
 "nbformat": 4,
 "nbformat_minor": 2
}
