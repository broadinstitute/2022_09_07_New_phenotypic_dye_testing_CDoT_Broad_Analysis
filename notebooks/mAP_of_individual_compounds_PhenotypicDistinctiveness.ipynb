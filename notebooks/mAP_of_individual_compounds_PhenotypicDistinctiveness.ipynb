{
 "cells": [
  {
   "cell_type": "code",
   "execution_count": 1,
   "metadata": {},
   "outputs": [
    {
     "name": "stdout",
     "output_type": "stream",
     "text": [
      "Python 3.12.2\n"
     ]
    }
   ],
   "source": [
    "!python --version"
   ]
  },
  {
   "cell_type": "code",
   "execution_count": 2,
   "metadata": {},
   "outputs": [
    {
     "name": "stderr",
     "output_type": "stream",
     "text": [
      "c:\\Users\\ssivagur\\Anaconda3\\envs\\copairs\\Lib\\site-packages\\tqdm\\auto.py:21: TqdmWarning: IProgress not found. Please update jupyter and ipywidgets. See https://ipywidgets.readthedocs.io/en/stable/user_install.html\n",
      "  from .autonotebook import tqdm as notebook_tqdm\n"
     ]
    }
   ],
   "source": [
    "#importing necessary modules \n",
    "import pandas as pd\n",
    "import numpy as np\n",
    "import matplotlib.pyplot as plt\n",
    "from sklearn.decomposition import PCA\n",
    "from sklearn.preprocessing import StandardScaler\n",
    "import plotly.graph_objects as go\n",
    "from plotly.subplots import make_subplots\n",
    "import plotly.express as px\n",
    "import seaborn as sns\n",
    "import copairs\n",
    "import pycytominer\n",
    "from copairs.map import average_precision\n",
    "from copairs.map import mean_average_precision\n",
    "from utils import * \n",
    "\n",
    "%load_ext autoreload\n",
    "%autoreload 2"
   ]
  },
  {
   "cell_type": "code",
   "execution_count": 3,
   "metadata": {},
   "outputs": [
    {
     "name": "stdout",
     "output_type": "stream",
     "text": [
      "Name: copairsNote: you may need to restart the kernel to use updated packages.\n",
      "\n",
      "Version: 0.4.1\n",
      "Summary: Find pairs and compute metrics between them\n",
      "Home-page: \n",
      "Author: \n",
      "Author-email: John Arevalo <johnarevalo@gmail.com>\n",
      "License: \n",
      "Location: c:\\Users\\ssivagur\\Anaconda3\\envs\\copairs\\Lib\\site-packages\n",
      "Requires: pandas, statsmodels, tqdm\n",
      "Required-by: \n"
     ]
    }
   ],
   "source": [
    "pip show copairs"
   ]
  },
  {
   "cell_type": "markdown",
   "metadata": {},
   "source": [
    "### Phenotypic distinctiveness"
   ]
  },
  {
   "cell_type": "markdown",
   "metadata": {},
   "source": [
    "#### Reading the result csv of copairs to get add the cell count info "
   ]
  },
  {
   "cell_type": "code",
   "execution_count": 4,
   "metadata": {},
   "outputs": [],
   "source": [
    "#Reading the result CSVs obtained from the copairs \n",
    "result_csv_trmts = {'c:\\\\Users\\\\ssivagur\\\\Documents\\\\Projects\\\\Cell_painting_projects\\\\CDoT\\\\Batch3_analysis_redo\\\\UpdatedCopairsVersion\\\\BR00122250_normalized_feature_select_negcon_batch_Result_NegconNorm_mAP_Distinctiveness.csv':'Standard CP',\n",
    "                    'c:\\\\Users\\\\ssivagur\\\\Documents\\\\Projects\\\\Cell_painting_projects\\\\CDoT\\\\Batch3_analysis_redo\\\\UpdatedCopairsVersion\\\\BR00122246_normalized_feature_select_negcon_batch_Result_NegconNorm_mAP_Distinctiveness.csv':'CP + MitoBrilliant',\n",
    "                    'c:\\\\Users\\\\ssivagur\\\\Documents\\\\Projects\\\\Cell_painting_projects\\\\CDoT\\\\Batch3_analysis_redo\\\\UpdatedCopairsVersion\\\\BR00122247_normalized_feature_select_negcon_batch_Result_NegconNorm_mAP_Distinctiveness.csv':'CP + Phenovue phalloidin 400LS',\n",
    "                    'c:\\\\Users\\\\ssivagur\\\\Documents\\\\Projects\\\\Cell_painting_projects\\\\CDoT\\\\Batch3_analysis_redo\\\\UpdatedCopairsVersion\\\\BR00122248_normalized_feature_select_negcon_batch_Result_NegconNorm_mAP_Distinctiveness.csv':'Standard CP (exposed to ChromaLive)',\n",
    "                    'c:\\\\Users\\\\ssivagur\\\\Documents\\\\Projects\\\\Cell_painting_projects\\\\CDoT\\\\Batch3_analysis_redo\\\\UpdatedCopairsVersion\\\\BR00122249_normalized_feature_select_negcon_batch_wo_phasefeatures_Result_NegconNorm_mAP_Distinctiveness.csv':'ChromaLive + Hoechst'}"
   ]
  },
  {
   "cell_type": "markdown",
   "metadata": {},
   "source": [
    "#### Reading the aggregate csv files of copairs "
   ]
  },
  {
   "cell_type": "code",
   "execution_count": 6,
   "metadata": {},
   "outputs": [],
   "source": [
    "#Reading the aggregate CSV files obtained from the copairs package\n",
    "aggregate_files_trmt = {'c:\\\\Users\\\\ssivagur\\\\Documents\\\\Projects\\\\Cell_painting_projects\\\\CDoT\\\\Batch3_analysis_redo\\\\UpdatedCopairsVersion\\\\BR00122250_normalized_feature_select_negcon_batch_Aggregate_result_NegconNorm_mAP_Distinctiveness.csv':'Standard CP',\n",
    "                    'c:\\\\Users\\\\ssivagur\\\\Documents\\\\Projects\\\\Cell_painting_projects\\\\CDoT\\\\Batch3_analysis_redo\\\\UpdatedCopairsVersion\\\\BR00122246_normalized_feature_select_negcon_batch_Aggregate_result_NegconNorm_mAP_Distinctiveness.csv':'CP + MitoBrilliant',\n",
    "                    'c:\\\\Users\\\\ssivagur\\\\Documents\\\\Projects\\\\Cell_painting_projects\\\\CDoT\\\\Batch3_analysis_redo\\\\UpdatedCopairsVersion\\\\BR00122247_normalized_feature_select_negcon_batch_Aggregate_result_NegconNorm_mAP_Distinctiveness.csv':'CP + Phenovue phalloidin 400LS',\n",
    "                    'c:\\\\Users\\\\ssivagur\\\\Documents\\\\Projects\\\\Cell_painting_projects\\\\CDoT\\\\Batch3_analysis_redo\\\\UpdatedCopairsVersion\\\\BR00122248_normalized_feature_select_negcon_batch_Aggregate_result_NegconNorm_mAP_Distinctiveness.csv':'Standard CP (exposed to ChromaLive)',\n",
    "                    'c:\\\\Users\\\\ssivagur\\\\Documents\\\\Projects\\\\Cell_painting_projects\\\\CDoT\\\\Batch3_analysis_redo\\\\UpdatedCopairsVersion\\\\BR00122249_normalized_feature_select_negcon_batch_wo_phasefeatures_Aggregate_result_NegconNorm_mAP_Distinctiveness.csv':'ChromaLive + Hoechst'}"
   ]
  },
  {
   "cell_type": "code",
   "execution_count": 7,
   "metadata": {},
   "outputs": [],
   "source": [
    "mAP_treatment_plot_colorscheme, df_treatment = cell_count_norm_colorscheme(result_csv_trmts, aggregate_files_trmt)"
   ]
  },
  {
   "cell_type": "code",
   "execution_count": 10,
   "metadata": {},
   "outputs": [],
   "source": [
    "list_of_MoA = df_treatment['MoA'].drop_duplicates()"
   ]
  },
  {
   "cell_type": "code",
   "execution_count": 11,
   "metadata": {},
   "outputs": [
    {
     "data": {
      "text/plain": [
       "47"
      ]
     },
     "execution_count": 11,
     "metadata": {},
     "output_type": "execute_result"
    }
   ],
   "source": [
    "len(list_of_MoA)"
   ]
  },
  {
   "cell_type": "code",
   "execution_count": 12,
   "metadata": {},
   "outputs": [
    {
     "data": {
      "text/plain": [
       "47"
      ]
     },
     "execution_count": 12,
     "metadata": {},
     "output_type": "execute_result"
    }
   ],
   "source": [
    "list_of_MoA.nunique()"
   ]
  },
  {
   "cell_type": "code",
   "execution_count": 13,
   "metadata": {},
   "outputs": [
    {
     "data": {
      "text/plain": [
       "0            tumor necrosis factor production inhibitor\n",
       "1                                         antihistamine\n",
       "2                     acetylcholine receptor antagonist\n",
       "3               pyruvate dehydrogenase kinase inhibitor\n",
       "4                     protein tyrosine kinase inhibitor\n",
       "6           hepatocyte growth factor receptor inhibitor\n",
       "7                                         CHK inhibitor\n",
       "8                    glycogen synthase kinase inhibitor\n",
       "9            histone lysine methyltransferase inhibitor\n",
       "11        inosine monophosphate dehydrogenase inhibitor\n",
       "12                                        CDC inhibitor\n",
       "13                                       PARP inhibitor\n",
       "14                                bromodomain inhibitor\n",
       "15                ubiquitin specific protease inhibitor\n",
       "17                                        JAK inhibitor\n",
       "18    Apoptosis inducer (ATP-competitive kinase inhi...\n",
       "21                                        MEK inhibitor\n",
       "22                              Aurora kinase inhibitor\n",
       "23                                          LXR agonist\n",
       "24                              phospholipase inhibitor\n",
       "25                                      IGF-1 inhibitor\n",
       "26                             tricyclic antidepressant\n",
       "27                 histone lysine demethylase inhibitor\n",
       "28                          phosphodiesterase inhibitor\n",
       "29                               beta-catenin inhibitor\n",
       "30                                        JNK inhibitor\n",
       "32                                        DNA inhibitor\n",
       "33                                    kinesin inhibitor\n",
       "34          phosphoinositide dependent kinase inhibitor\n",
       "35                                        RAF inhibitor\n",
       "36                                       FGFR inhibitor\n",
       "37                             Bcr-Abl kinase inhibitor\n",
       "38                                       AMPK inhibitor\n",
       "45                                        BCL inhibitor\n",
       "49                                       HDAC inhibitor\n",
       "54                                        CDK inhibitor\n",
       "58                                 MAP kinase inhibitor\n",
       "59                        ER stressor (SERCA inhibitor)\n",
       "60       protein arginine N-methyltransferase inhibitor\n",
       "61          Apoptosis inducer (transcription inhibitor)\n",
       "65                          smoothened receptor agonist\n",
       "68                                       EGFR inhibitor\n",
       "69                          androgen receptor modulator\n",
       "70                                      HMGCR inhibitor\n",
       "72                                   p38 MAPK inhibitor\n",
       "73                                       mTOR inhibitor\n",
       "85                   hypoxia inducible factor inhibitor\n",
       "Name: MoA, dtype: object"
      ]
     },
     "execution_count": 13,
     "metadata": {},
     "output_type": "execute_result"
    }
   ],
   "source": [
    "list_of_MoA"
   ]
  },
  {
   "cell_type": "code",
   "execution_count": 14,
   "metadata": {},
   "outputs": [],
   "source": [
    "plot, plot_dict = plot_precision_values_dyeset(df_treatment, list_of_MoA, rename_columns={'mean_average_precisionStandard CP':'Standard CP', 'mean_average_precisionCP + MitoBrilliant':'CP + MitoBrilliant', 'mean_average_precisionCP + Phenovue phalloidin 400LS':'CP + Phenovue phalloidin 400LS', 'mean_average_precisionStandard_CP (exposed to ChromaLive)':'Standard_CP (exposed to ChromaLive)', 'mean_average_precisionChromaLive + Hoechst':'ChromaLive + Hoechst'})"
   ]
  },
  {
   "cell_type": "code",
   "execution_count": 15,
   "metadata": {},
   "outputs": [
    {
     "data": {
      "application/vnd.plotly.v1+json": {
       "config": {
        "plotlyServerURL": "https://plot.ly"
       },
       "data": [
        {
         "marker": {
          "color": "#0173b2",
          "size": 12
         },
         "mode": "markers",
         "name": "pomalidomide",
         "showlegend": false,
         "type": "scatter",
         "x": [
          "Standard CP",
          "CP + MitoBrilliant",
          "CP + Phenovue phalloidin 400LS",
          "Standard CP (exposed to ChromaLive)",
          "ChromaLive + Hoechst"
         ],
         "xaxis": "x",
         "y": [
          0.0751907630145189,
          0.0165401431494606,
          0.1112377281512826,
          0.0288423114608326,
          0.038398695538574
         ],
         "yaxis": "y"
        },
        {
         "marker": {
          "color": "#de8f05",
          "size": 12
         },
         "mode": "markers",
         "name": "apratastat",
         "showlegend": false,
         "type": "scatter",
         "x": [
          "Standard CP",
          "CP + MitoBrilliant",
          "CP + Phenovue phalloidin 400LS",
          "Standard CP (exposed to ChromaLive)",
          "ChromaLive + Hoechst"
         ],
         "xaxis": "x",
         "y": [
          0.0238431850113865,
          0.0124838385087934,
          0.0112398712840726,
          0.0283199604968608,
          0.0358498194682262
         ],
         "yaxis": "y"
        },
        {
         "marker": {
          "color": "#0173b2",
          "size": 12
         },
         "mode": "markers",
         "name": "homochlorcyclizine",
         "showlegend": false,
         "type": "scatter",
         "x": [
          "Standard CP",
          "CP + MitoBrilliant",
          "CP + Phenovue phalloidin 400LS",
          "Standard CP (exposed to ChromaLive)",
          "ChromaLive + Hoechst"
         ],
         "xaxis": "x2",
         "y": [
          0.0233801007027194,
          0.0166196859473905,
          0.010965474179758,
          0.0104969904392095,
          0.1774041858179091
         ],
         "yaxis": "y2"
        },
        {
         "marker": {
          "color": "#de8f05",
          "size": 12
         },
         "mode": "markers",
         "name": "hydroxyzine",
         "showlegend": false,
         "type": "scatter",
         "x": [
          "Standard CP",
          "CP + MitoBrilliant",
          "CP + Phenovue phalloidin 400LS",
          "Standard CP (exposed to ChromaLive)",
          "ChromaLive + Hoechst"
         ],
         "xaxis": "x2",
         "y": [
          0.0211695068186132,
          0.0357238365778345,
          0.0354565709463584,
          0.0317320520845065,
          0.0737327506100228
         ],
         "yaxis": "y2"
        },
        {
         "marker": {
          "color": "#0173b2",
          "size": 12
         },
         "mode": "markers",
         "name": "orphenadrine",
         "showlegend": false,
         "type": "scatter",
         "x": [
          "Standard CP",
          "CP + MitoBrilliant",
          "CP + Phenovue phalloidin 400LS",
          "Standard CP (exposed to ChromaLive)",
          "ChromaLive + Hoechst"
         ],
         "xaxis": "x3",
         "y": [
          0.0433579017366559,
          0.1121356480133429,
          0.122123155033031,
          0.0277458439127761,
          0.0224282023225964
         ],
         "yaxis": "y3"
        },
        {
         "marker": {
          "color": "#de8f05",
          "size": 12
         },
         "mode": "markers",
         "name": "dimethindene-(S)-(+)",
         "showlegend": false,
         "type": "scatter",
         "x": [
          "Standard CP",
          "CP + MitoBrilliant",
          "CP + Phenovue phalloidin 400LS",
          "Standard CP (exposed to ChromaLive)",
          "ChromaLive + Hoechst"
         ],
         "xaxis": "x3",
         "y": [
          0.0394905434933731,
          0.0758235831411658,
          0.1450295844577917,
          0.0673511254092256,
          0.1678479712223636
         ],
         "yaxis": "y3"
        },
        {
         "marker": {
          "color": "#0173b2",
          "size": 12
         },
         "mode": "markers",
         "name": "AZD7545",
         "showlegend": false,
         "type": "scatter",
         "x": [
          "Standard CP",
          "CP + MitoBrilliant",
          "CP + Phenovue phalloidin 400LS",
          "Standard CP (exposed to ChromaLive)",
          "ChromaLive + Hoechst"
         ],
         "xaxis": "x4",
         "y": [
          0.1253876015988353,
          0.1443890093748225,
          0.0919639220595114,
          0.165281831458302,
          0.4558580014195001
         ],
         "yaxis": "y4"
        },
        {
         "marker": {
          "color": "#de8f05",
          "size": 12
         },
         "mode": "markers",
         "name": "BX-912",
         "showlegend": false,
         "type": "scatter",
         "x": [
          "Standard CP",
          "CP + MitoBrilliant",
          "CP + Phenovue phalloidin 400LS",
          "Standard CP (exposed to ChromaLive)",
          "ChromaLive + Hoechst"
         ],
         "xaxis": "x4",
         "y": [
          0.525020664946182,
          0.7620967741935484,
          0.834090909090909,
          1,
          0.9523809523809524
         ],
         "yaxis": "y4"
        },
        {
         "marker": {
          "color": "#0173b2",
          "size": 12
         },
         "mode": "markers",
         "name": "SHP099",
         "showlegend": false,
         "type": "scatter",
         "x": [
          "Standard CP",
          "CP + MitoBrilliant",
          "CP + Phenovue phalloidin 400LS",
          "Standard CP (exposed to ChromaLive)",
          "ChromaLive + Hoechst"
         ],
         "xaxis": "x5",
         "y": [
          0.1738168196307123,
          0.176370159067379,
          0.0465159455982445,
          0.1001946857833973,
          0.2431682002984587
         ],
         "yaxis": "y5"
        },
        {
         "marker": {
          "color": "#de8f05",
          "size": 12
         },
         "mode": "markers",
         "name": "rheochrysidin",
         "showlegend": false,
         "type": "scatter",
         "x": [
          "Standard CP",
          "CP + MitoBrilliant",
          "CP + Phenovue phalloidin 400LS",
          "Standard CP (exposed to ChromaLive)",
          "ChromaLive + Hoechst"
         ],
         "xaxis": "x5",
         "y": [
          0.0310474514437055,
          0.0081144475898381,
          0.0227245074953545,
          0.0441659781615773,
          0.4159576216440689
         ],
         "yaxis": "y5"
        },
        {
         "marker": {
          "color": "#0173b2",
          "size": 12
         },
         "mode": "markers",
         "name": "SU-11274",
         "showlegend": false,
         "type": "scatter",
         "x": [
          "Standard CP",
          "CP + MitoBrilliant",
          "CP + Phenovue phalloidin 400LS",
          "Standard CP (exposed to ChromaLive)",
          "ChromaLive + Hoechst"
         ],
         "xaxis": "x6",
         "y": [
          0.4437509212047515,
          0.3491710531098527,
          1,
          1,
          1
         ],
         "yaxis": "y6"
        },
        {
         "marker": {
          "color": "#de8f05",
          "size": 12
         },
         "mode": "markers",
         "name": "SGX523",
         "showlegend": false,
         "type": "scatter",
         "x": [
          "Standard CP",
          "CP + MitoBrilliant",
          "CP + Phenovue phalloidin 400LS",
          "Standard CP (exposed to ChromaLive)",
          "ChromaLive + Hoechst"
         ],
         "xaxis": "x6",
         "y": [
          0.0484138908748976,
          0.0234500844740706,
          0.0107791168214179,
          0.017918391610328,
          0.0148187607569428
         ],
         "yaxis": "y6"
        },
        {
         "marker": {
          "color": "#0173b2",
          "size": 12
         },
         "mode": "markers",
         "name": "PF-477736",
         "showlegend": false,
         "type": "scatter",
         "x": [
          "Standard CP",
          "CP + MitoBrilliant",
          "CP + Phenovue phalloidin 400LS",
          "Standard CP (exposed to ChromaLive)",
          "ChromaLive + Hoechst"
         ],
         "xaxis": "x7",
         "y": [
          1,
          1,
          0.7405753968253969,
          0.483008658008658,
          0.6218253968253968
         ],
         "yaxis": "y7"
        },
        {
         "marker": {
          "color": "#de8f05",
          "size": 12
         },
         "mode": "markers",
         "name": "SCH-900776",
         "showlegend": false,
         "type": "scatter",
         "x": [
          "Standard CP",
          "CP + MitoBrilliant",
          "CP + Phenovue phalloidin 400LS",
          "Standard CP (exposed to ChromaLive)",
          "ChromaLive + Hoechst"
         ],
         "xaxis": "x7",
         "y": [
          0.8523809523809525,
          0.8958333333333333,
          0.5600560897435898,
          0.6519287704632533,
          0.7513888888888889
         ],
         "yaxis": "y7"
        },
        {
         "marker": {
          "color": "#0173b2",
          "size": 12
         },
         "mode": "markers",
         "name": "GSK-3-inhibitor-IX",
         "showlegend": false,
         "type": "scatter",
         "x": [
          "Standard CP",
          "CP + MitoBrilliant",
          "CP + Phenovue phalloidin 400LS",
          "Standard CP (exposed to ChromaLive)",
          "ChromaLive + Hoechst"
         ],
         "xaxis": "x8",
         "y": [
          0.6974747474747475,
          0.6309523809523809,
          0.6870879120879121,
          0.9666666666666668,
          0.6841463285129037
         ],
         "yaxis": "y8"
        },
        {
         "marker": {
          "color": "#de8f05",
          "size": 12
         },
         "mode": "markers",
         "name": "CHIR-99021",
         "showlegend": false,
         "type": "scatter",
         "x": [
          "Standard CP",
          "CP + MitoBrilliant",
          "CP + Phenovue phalloidin 400LS",
          "Standard CP (exposed to ChromaLive)",
          "ChromaLive + Hoechst"
         ],
         "xaxis": "x8",
         "y": [
          1,
          1,
          1,
          0.8468253968253968,
          0.6583026425980711
         ],
         "yaxis": "y8"
        },
        {
         "marker": {
          "color": "#0173b2",
          "size": 12
         },
         "mode": "markers",
         "name": "A-366",
         "showlegend": false,
         "type": "scatter",
         "x": [
          "Standard CP",
          "CP + MitoBrilliant",
          "CP + Phenovue phalloidin 400LS",
          "Standard CP (exposed to ChromaLive)",
          "ChromaLive + Hoechst"
         ],
         "xaxis": "x9",
         "y": [
          0.0154930737015808,
          0.066208056333275,
          0.018788278316208,
          0.0195878788898618,
          0.0315427144849486
         ],
         "yaxis": "y9"
        },
        {
         "marker": {
          "color": "#de8f05",
          "size": 12
         },
         "mode": "markers",
         "name": "UNC0642",
         "showlegend": false,
         "type": "scatter",
         "x": [
          "Standard CP",
          "CP + MitoBrilliant",
          "CP + Phenovue phalloidin 400LS",
          "Standard CP (exposed to ChromaLive)",
          "ChromaLive + Hoechst"
         ],
         "xaxis": "x9",
         "y": [
          1,
          1,
          0.7038392857142857,
          0.5567614023112087,
          0.8263888888888888
         ],
         "yaxis": "y9"
        },
        {
         "marker": {
          "color": "#0173b2",
          "size": 12
         },
         "mode": "markers",
         "name": "merimepodib",
         "showlegend": false,
         "type": "scatter",
         "x": [
          "Standard CP",
          "CP + MitoBrilliant",
          "CP + Phenovue phalloidin 400LS",
          "Standard CP (exposed to ChromaLive)",
          "ChromaLive + Hoechst"
         ],
         "xaxis": "x10",
         "y": [
          1,
          0.8143601190476191,
          1,
          1,
          0.3820139724067746
         ],
         "yaxis": "y10"
        },
        {
         "marker": {
          "color": "#de8f05",
          "size": 12
         },
         "mode": "markers",
         "name": "BMS-566419",
         "showlegend": false,
         "type": "scatter",
         "x": [
          "Standard CP",
          "CP + MitoBrilliant",
          "CP + Phenovue phalloidin 400LS",
          "Standard CP (exposed to ChromaLive)",
          "ChromaLive + Hoechst"
         ],
         "xaxis": "x10",
         "y": [
          0.2037167657921614,
          0.9083333333333332,
          0.2617092042910354,
          1,
          0.5851869965753813
         ],
         "yaxis": "y10"
        },
        {
         "marker": {
          "color": "#0173b2",
          "size": 12
         },
         "mode": "markers",
         "name": "BMS-863233",
         "showlegend": false,
         "type": "scatter",
         "x": [
          "Standard CP",
          "CP + MitoBrilliant",
          "CP + Phenovue phalloidin 400LS",
          "Standard CP (exposed to ChromaLive)",
          "ChromaLive + Hoechst"
         ],
         "xaxis": "x11",
         "y": [
          1,
          1,
          0.8694444444444445,
          1,
          0.5901484674329501
         ],
         "yaxis": "y11"
        },
        {
         "marker": {
          "color": "#de8f05",
          "size": 12
         },
         "mode": "markers",
         "name": "KH-CB19",
         "showlegend": false,
         "type": "scatter",
         "x": [
          "Standard CP",
          "CP + MitoBrilliant",
          "CP + Phenovue phalloidin 400LS",
          "Standard CP (exposed to ChromaLive)",
          "ChromaLive + Hoechst"
         ],
         "xaxis": "x11",
         "y": [
          0.1298944286339244,
          0.0293315590646834,
          0.0225451889316297,
          0.0292793495428667,
          0.1391526808846964
         ],
         "yaxis": "y11"
        },
        {
         "marker": {
          "color": "#0173b2",
          "size": 12
         },
         "mode": "markers",
         "name": "veliparib",
         "showlegend": false,
         "type": "scatter",
         "x": [
          "Standard CP",
          "CP + MitoBrilliant",
          "CP + Phenovue phalloidin 400LS",
          "Standard CP (exposed to ChromaLive)",
          "ChromaLive + Hoechst"
         ],
         "xaxis": "x12",
         "y": [
          0.0268981326457728,
          0.0109293223985318,
          0.0301508788059263,
          0.011389426922266,
          0.0642047298114143
         ],
         "yaxis": "y12"
        },
        {
         "marker": {
          "color": "#de8f05",
          "size": 12
         },
         "mode": "markers",
         "name": "niraparib",
         "showlegend": false,
         "type": "scatter",
         "x": [
          "Standard CP",
          "CP + MitoBrilliant",
          "CP + Phenovue phalloidin 400LS",
          "Standard CP (exposed to ChromaLive)",
          "ChromaLive + Hoechst"
         ],
         "xaxis": "x12",
         "y": [
          0.5149426842442,
          0.5149294780599707,
          0.7041666666666666,
          0.9097222222222222,
          0.682936507936508
         ],
         "yaxis": "y12"
        },
        {
         "marker": {
          "color": "#0173b2",
          "size": 12
         },
         "mode": "markers",
         "name": "PFI-1",
         "showlegend": false,
         "type": "scatter",
         "x": [
          "Standard CP",
          "CP + MitoBrilliant",
          "CP + Phenovue phalloidin 400LS",
          "Standard CP (exposed to ChromaLive)",
          "ChromaLive + Hoechst"
         ],
         "xaxis": "x13",
         "y": [
          0.2518778312022093,
          0.6732982295482296,
          0.6296642092278282,
          0.5903769841269841,
          0.4825140409699233
         ],
         "yaxis": "y13"
        },
        {
         "marker": {
          "color": "#de8f05",
          "size": 12
         },
         "mode": "markers",
         "name": "CPI-0610",
         "showlegend": false,
         "type": "scatter",
         "x": [
          "Standard CP",
          "CP + MitoBrilliant",
          "CP + Phenovue phalloidin 400LS",
          "Standard CP (exposed to ChromaLive)",
          "ChromaLive + Hoechst"
         ],
         "xaxis": "x13",
         "y": [
          1,
          0.9666666666666668,
          1,
          1,
          0.8233974358974359
         ],
         "yaxis": "y13"
        },
        {
         "marker": {
          "color": "#0173b2",
          "size": 12
         },
         "mode": "markers",
         "name": "P5091",
         "showlegend": false,
         "type": "scatter",
         "x": [
          "Standard CP",
          "CP + MitoBrilliant",
          "CP + Phenovue phalloidin 400LS",
          "Standard CP (exposed to ChromaLive)",
          "ChromaLive + Hoechst"
         ],
         "xaxis": "x14",
         "y": [
          0.1236165081603947,
          0.0195866835930538,
          0.0201822185136621,
          0.0222565088309475,
          0.0167430330754792
         ],
         "yaxis": "y14"
        },
        {
         "marker": {
          "color": "#de8f05",
          "size": 12
         },
         "mode": "markers",
         "name": "ML-323",
         "showlegend": false,
         "type": "scatter",
         "x": [
          "Standard CP",
          "CP + MitoBrilliant",
          "CP + Phenovue phalloidin 400LS",
          "Standard CP (exposed to ChromaLive)",
          "ChromaLive + Hoechst"
         ],
         "xaxis": "x14",
         "y": [
          0.1186731952613619,
          0.2509404094930411,
          0.1043851654693055,
          0.2163750209750927,
          0.1043073732908898
         ],
         "yaxis": "y14"
        },
        {
         "marker": {
          "color": "#0173b2",
          "size": 12
         },
         "mode": "markers",
         "name": "filgotinib",
         "showlegend": false,
         "type": "scatter",
         "x": [
          "Standard CP",
          "CP + MitoBrilliant",
          "CP + Phenovue phalloidin 400LS",
          "Standard CP (exposed to ChromaLive)",
          "ChromaLive + Hoechst"
         ],
         "xaxis": "x15",
         "y": [
          0.1365085928096441,
          0.0280346338045006,
          0.0245637015938576,
          0.0153032205714899,
          0.1733217500367276
         ],
         "yaxis": "y15"
        },
        {
         "marker": {
          "color": "#de8f05",
          "size": 12
         },
         "mode": "markers",
         "name": "ruxolitinib",
         "showlegend": false,
         "type": "scatter",
         "x": [
          "Standard CP",
          "CP + MitoBrilliant",
          "CP + Phenovue phalloidin 400LS",
          "Standard CP (exposed to ChromaLive)",
          "ChromaLive + Hoechst"
         ],
         "xaxis": "x15",
         "y": [
          0.1762929967714251,
          0.2125172430945178,
          0.1163663460822716,
          0.2051908077997371,
          0.1886814994599948
         ],
         "yaxis": "y15"
        },
        {
         "marker": {
          "color": "#0173b2",
          "size": 12
         },
         "mode": "markers",
         "name": "Staurosporine",
         "showlegend": false,
         "type": "scatter",
         "x": [
          "Standard CP",
          "CP + MitoBrilliant",
          "CP + Phenovue phalloidin 400LS",
          "Standard CP (exposed to ChromaLive)",
          "ChromaLive + Hoechst"
         ],
         "xaxis": "x16",
         "y": [
          1,
          0.9791666666666666,
          0.6898656898656899,
          0.2420070396376544,
          0.2740009402760479
         ],
         "yaxis": "y16"
        },
        {
         "marker": {
          "color": "#0173b2",
          "size": 12
         },
         "mode": "markers",
         "name": "BIX-02188",
         "showlegend": false,
         "type": "scatter",
         "x": [
          "Standard CP",
          "CP + MitoBrilliant",
          "CP + Phenovue phalloidin 400LS",
          "Standard CP (exposed to ChromaLive)",
          "ChromaLive + Hoechst"
         ],
         "xaxis": "x17",
         "y": [
          0.1992880588881083,
          0.2376100364106361,
          0.2915872797940906,
          0.240917906402502,
          0.1867437201099635
         ],
         "yaxis": "y17"
        },
        {
         "marker": {
          "color": "#de8f05",
          "size": 12
         },
         "mode": "markers",
         "name": "selumetinib",
         "showlegend": false,
         "type": "scatter",
         "x": [
          "Standard CP",
          "CP + MitoBrilliant",
          "CP + Phenovue phalloidin 400LS",
          "Standard CP (exposed to ChromaLive)",
          "ChromaLive + Hoechst"
         ],
         "xaxis": "x17",
         "y": [
          0.6494021851164709,
          0.5408081501831502,
          0.9791666666666666,
          0.6961309523809524,
          0.0843882713693281
         ],
         "yaxis": "y17"
        },
        {
         "marker": {
          "color": "#0173b2",
          "size": 12
         },
         "mode": "markers",
         "name": "AMG900",
         "showlegend": false,
         "type": "scatter",
         "x": [
          "Standard CP",
          "CP + MitoBrilliant",
          "CP + Phenovue phalloidin 400LS",
          "Standard CP (exposed to ChromaLive)",
          "ChromaLive + Hoechst"
         ],
         "xaxis": "x18",
         "y": [
          0.8752976190476192,
          1,
          1,
          0.9791666666666666,
          0.5007748988912065
         ],
         "yaxis": "y18"
        },
        {
         "marker": {
          "color": "#de8f05",
          "size": 12
         },
         "mode": "markers",
         "name": "MK-5108",
         "showlegend": false,
         "type": "scatter",
         "x": [
          "Standard CP",
          "CP + MitoBrilliant",
          "CP + Phenovue phalloidin 400LS",
          "Standard CP (exposed to ChromaLive)",
          "ChromaLive + Hoechst"
         ],
         "xaxis": "x18",
         "y": [
          0.4852411033797771,
          0.3695504466838019,
          0.4595219017094017,
          0.5493676412154672,
          0.4113821930775433
         ],
         "yaxis": "y18"
        },
        {
         "marker": {
          "color": "#0173b2",
          "size": 12
         },
         "mode": "markers",
         "name": "T-0901317",
         "showlegend": false,
         "type": "scatter",
         "x": [
          "Standard CP",
          "CP + MitoBrilliant",
          "CP + Phenovue phalloidin 400LS",
          "Standard CP (exposed to ChromaLive)",
          "ChromaLive + Hoechst"
         ],
         "xaxis": "x19",
         "y": [
          1,
          0.3003147790555369,
          0.9583333333333334,
          1,
          0.6416005291005291
         ],
         "yaxis": "y19"
        },
        {
         "marker": {
          "color": "#de8f05",
          "size": 12
         },
         "mode": "markers",
         "name": "GW-3965",
         "showlegend": false,
         "type": "scatter",
         "x": [
          "Standard CP",
          "CP + MitoBrilliant",
          "CP + Phenovue phalloidin 400LS",
          "Standard CP (exposed to ChromaLive)",
          "ChromaLive + Hoechst"
         ],
         "xaxis": "x19",
         "y": [
          0.3301868721360246,
          0.5367428465254552,
          0.1670026143862696,
          0.2396492240126307,
          0.2685810475054661
         ],
         "yaxis": "y19"
        },
        {
         "marker": {
          "color": "#0173b2",
          "size": 12
         },
         "mode": "markers",
         "name": "ML-298",
         "showlegend": false,
         "type": "scatter",
         "x": [
          "Standard CP",
          "CP + MitoBrilliant",
          "CP + Phenovue phalloidin 400LS",
          "Standard CP (exposed to ChromaLive)",
          "ChromaLive + Hoechst"
         ],
         "xaxis": "x20",
         "y": [
          0.0100917990220209,
          0.0219482215645514,
          0.0444810835599682,
          0.0604908203088867,
          0.4922165063483849
         ],
         "yaxis": "y20"
        },
        {
         "marker": {
          "color": "#de8f05",
          "size": 12
         },
         "mode": "markers",
         "name": "halopemide",
         "showlegend": false,
         "type": "scatter",
         "x": [
          "Standard CP",
          "CP + MitoBrilliant",
          "CP + Phenovue phalloidin 400LS",
          "Standard CP (exposed to ChromaLive)",
          "ChromaLive + Hoechst"
         ],
         "xaxis": "x20",
         "y": [
          0.9305555555555556,
          0.8621031746031746,
          0.9791666666666666,
          0.7298245614035088,
          0.2563101449940149
         ],
         "yaxis": "y20"
        },
        {
         "marker": {
          "color": "#0173b2",
          "size": 12
         },
         "mode": "markers",
         "name": "NVP-AEW541",
         "showlegend": false,
         "type": "scatter",
         "x": [
          "Standard CP",
          "CP + MitoBrilliant",
          "CP + Phenovue phalloidin 400LS",
          "Standard CP (exposed to ChromaLive)",
          "ChromaLive + Hoechst"
         ],
         "xaxis": "x21",
         "y": [
          0.9027777777777778,
          0.5264509718129778,
          0.5790053960180563,
          1,
          1
         ],
         "yaxis": "y21"
        },
        {
         "marker": {
          "color": "#de8f05",
          "size": 12
         },
         "mode": "markers",
         "name": "linsitinib",
         "showlegend": false,
         "type": "scatter",
         "x": [
          "Standard CP",
          "CP + MitoBrilliant",
          "CP + Phenovue phalloidin 400LS",
          "Standard CP (exposed to ChromaLive)",
          "ChromaLive + Hoechst"
         ],
         "xaxis": "x21",
         "y": [
          0.6476907230196705,
          0.6907738095238095,
          0.6679197994987469,
          1,
          0.76875
         ],
         "yaxis": "y21"
        },
        {
         "marker": {
          "color": "#0173b2",
          "size": 12
         },
         "mode": "markers",
         "name": "maprotiline",
         "showlegend": false,
         "type": "scatter",
         "x": [
          "Standard CP",
          "CP + MitoBrilliant",
          "CP + Phenovue phalloidin 400LS",
          "Standard CP (exposed to ChromaLive)",
          "ChromaLive + Hoechst"
         ],
         "xaxis": "x22",
         "y": [
          0.0110762565965278,
          0.0138308147489189,
          0.1361308789633265,
          0.0678177410853839,
          0.7185019841269842
         ],
         "yaxis": "y22"
        },
        {
         "marker": {
          "color": "#de8f05",
          "size": 12
         },
         "mode": "markers",
         "name": "dosulepin",
         "showlegend": false,
         "type": "scatter",
         "x": [
          "Standard CP",
          "CP + MitoBrilliant",
          "CP + Phenovue phalloidin 400LS",
          "Standard CP (exposed to ChromaLive)",
          "ChromaLive + Hoechst"
         ],
         "xaxis": "x22",
         "y": [
          0.017578684743016,
          0.0125276305687483,
          0.0308560216324643,
          0.0186103139167198,
          0.1330426372583681
         ],
         "yaxis": "y22"
        },
        {
         "marker": {
          "color": "#0173b2",
          "size": 12
         },
         "mode": "markers",
         "name": "ML324",
         "showlegend": false,
         "type": "scatter",
         "x": [
          "Standard CP",
          "CP + MitoBrilliant",
          "CP + Phenovue phalloidin 400LS",
          "Standard CP (exposed to ChromaLive)",
          "ChromaLive + Hoechst"
         ],
         "xaxis": "x23",
         "y": [
          0.0655699953550348,
          0.1285074537291864,
          0.0288476652710169,
          0.0451909259752654,
          0.432972820105173
         ],
         "yaxis": "y23"
        },
        {
         "marker": {
          "color": "#de8f05",
          "size": 12
         },
         "mode": "markers",
         "name": "GSK-J4",
         "showlegend": false,
         "type": "scatter",
         "x": [
          "Standard CP",
          "CP + MitoBrilliant",
          "CP + Phenovue phalloidin 400LS",
          "Standard CP (exposed to ChromaLive)",
          "ChromaLive + Hoechst"
         ],
         "xaxis": "x23",
         "y": [
          0.7980158730158731,
          1,
          1,
          0.9791666666666666,
          0.8412698412698413
         ],
         "yaxis": "y23"
        },
        {
         "marker": {
          "color": "#0173b2",
          "size": 12
         },
         "mode": "markers",
         "name": "ketotifen",
         "showlegend": false,
         "type": "scatter",
         "x": [
          "Standard CP",
          "CP + MitoBrilliant",
          "CP + Phenovue phalloidin 400LS",
          "Standard CP (exposed to ChromaLive)",
          "ChromaLive + Hoechst"
         ],
         "xaxis": "x24",
         "y": [
          0.1048345644743013,
          0.0102287898392164,
          0.0174871651039855,
          0.0380664601676159,
          0.0803721613685519
         ],
         "yaxis": "y24"
        },
        {
         "marker": {
          "color": "#de8f05",
          "size": 12
         },
         "mode": "markers",
         "name": "quazinone",
         "showlegend": false,
         "type": "scatter",
         "x": [
          "Standard CP",
          "CP + MitoBrilliant",
          "CP + Phenovue phalloidin 400LS",
          "Standard CP (exposed to ChromaLive)",
          "ChromaLive + Hoechst"
         ],
         "xaxis": "x24",
         "y": [
          0.0080332999614717,
          0.01393276636098,
          0.0086338866621751,
          0.0086823709436916,
          0.0595452826084354
         ],
         "yaxis": "y24"
        },
        {
         "marker": {
          "color": "#0173b2",
          "size": 12
         },
         "mode": "markers",
         "name": "PNU-74654",
         "showlegend": false,
         "type": "scatter",
         "x": [
          "Standard CP",
          "CP + MitoBrilliant",
          "CP + Phenovue phalloidin 400LS",
          "Standard CP (exposed to ChromaLive)",
          "ChromaLive + Hoechst"
         ],
         "xaxis": "x25",
         "y": [
          0.0147191056292627,
          0.0130597852814869,
          0.0129714960554163,
          0.0208825392643514,
          0.2992612138483281
         ],
         "yaxis": "y25"
        },
        {
         "marker": {
          "color": "#de8f05",
          "size": 12
         },
         "mode": "markers",
         "name": "ICG-001",
         "showlegend": false,
         "type": "scatter",
         "x": [
          "Standard CP",
          "CP + MitoBrilliant",
          "CP + Phenovue phalloidin 400LS",
          "Standard CP (exposed to ChromaLive)",
          "ChromaLive + Hoechst"
         ],
         "xaxis": "x25",
         "y": [
          0.9666666666666668,
          0.5976172247911378,
          0.4906500226145805,
          0.6685910954938814,
          0.2335522672232721
         ],
         "yaxis": "y25"
        },
        {
         "marker": {
          "color": "#0173b2",
          "size": 12
         },
         "mode": "markers",
         "name": "SU3327",
         "showlegend": false,
         "type": "scatter",
         "x": [
          "Standard CP",
          "CP + MitoBrilliant",
          "CP + Phenovue phalloidin 400LS",
          "Standard CP (exposed to ChromaLive)",
          "ChromaLive + Hoechst"
         ],
         "xaxis": "x26",
         "y": [
          0.011663876467995,
          0.0265905557251108,
          0.0120839764254917,
          0.1040078162722452,
          0.0263023051833263
         ],
         "yaxis": "y26"
        },
        {
         "marker": {
          "color": "#de8f05",
          "size": 12
         },
         "mode": "markers",
         "name": "BI-78D3",
         "showlegend": false,
         "type": "scatter",
         "x": [
          "Standard CP",
          "CP + MitoBrilliant",
          "CP + Phenovue phalloidin 400LS",
          "Standard CP (exposed to ChromaLive)",
          "ChromaLive + Hoechst"
         ],
         "xaxis": "x26",
         "y": [
          0.0154079521523467,
          0.0223873523049379,
          0.0168998578257072,
          0.0193526738409178,
          0.0188761296153692
         ],
         "yaxis": "y26"
        },
        {
         "marker": {
          "color": "#0173b2",
          "size": 12
         },
         "mode": "markers",
         "name": "carmustine",
         "showlegend": false,
         "type": "scatter",
         "x": [
          "Standard CP",
          "CP + MitoBrilliant",
          "CP + Phenovue phalloidin 400LS",
          "Standard CP (exposed to ChromaLive)",
          "ChromaLive + Hoechst"
         ],
         "xaxis": "x27",
         "y": [
          0.045028432148368,
          0.0165138085886531,
          0.0096420458353618,
          0.0082605460988746,
          0.0138775609617116
         ],
         "yaxis": "y27"
        },
        {
         "marker": {
          "color": "#de8f05",
          "size": 12
         },
         "mode": "markers",
         "name": "valrubicin",
         "showlegend": false,
         "type": "scatter",
         "x": [
          "Standard CP",
          "CP + MitoBrilliant",
          "CP + Phenovue phalloidin 400LS",
          "Standard CP (exposed to ChromaLive)",
          "ChromaLive + Hoechst"
         ],
         "xaxis": "x27",
         "y": [
          0.2138536977809366,
          0.4525146052434785,
          0.4536352657004831,
          0.4666514041514041,
          0.2480417274377241
         ],
         "yaxis": "y27"
        },
        {
         "marker": {
          "color": "#0173b2",
          "size": 12
         },
         "mode": "markers",
         "name": "filanesib",
         "showlegend": false,
         "type": "scatter",
         "x": [
          "Standard CP",
          "CP + MitoBrilliant",
          "CP + Phenovue phalloidin 400LS",
          "Standard CP (exposed to ChromaLive)",
          "ChromaLive + Hoechst"
         ],
         "xaxis": "x28",
         "y": [
          1,
          0.7360679779158039,
          0.8669642857142857,
          0.6747685185185186,
          0.6058661145617668
         ],
         "yaxis": "y28"
        },
        {
         "marker": {
          "color": "#de8f05",
          "size": 12
         },
         "mode": "markers",
         "name": "ispinesib",
         "showlegend": false,
         "type": "scatter",
         "x": [
          "Standard CP",
          "CP + MitoBrilliant",
          "CP + Phenovue phalloidin 400LS",
          "Standard CP (exposed to ChromaLive)",
          "ChromaLive + Hoechst"
         ],
         "xaxis": "x28",
         "y": [
          0.6329365079365079,
          0.4435066077713137,
          0.480106964384305,
          0.467671783625731,
          0.3558768045048532
         ],
         "yaxis": "y28"
        },
        {
         "marker": {
          "color": "#0173b2",
          "size": 12
         },
         "mode": "markers",
         "name": "APY0201",
         "showlegend": false,
         "type": "scatter",
         "x": [
          "Standard CP",
          "CP + MitoBrilliant",
          "CP + Phenovue phalloidin 400LS",
          "Standard CP (exposed to ChromaLive)",
          "ChromaLive + Hoechst"
         ],
         "xaxis": "x29",
         "y": [
          0.6197956684237172,
          0.7676188334083072,
          1,
          1,
          1
         ],
         "yaxis": "y29"
        },
        {
         "marker": {
          "color": "#de8f05",
          "size": 12
         },
         "mode": "markers",
         "name": "GSK2334470",
         "showlegend": false,
         "type": "scatter",
         "x": [
          "Standard CP",
          "CP + MitoBrilliant",
          "CP + Phenovue phalloidin 400LS",
          "Standard CP (exposed to ChromaLive)",
          "ChromaLive + Hoechst"
         ],
         "xaxis": "x29",
         "y": [
          0.856060606060606,
          0.6017524142524142,
          0.5264890304412363,
          0.9107142857142858,
          1
         ],
         "yaxis": "y29"
        },
        {
         "marker": {
          "color": "#0173b2",
          "size": 12
         },
         "mode": "markers",
         "name": "GW-5074",
         "showlegend": false,
         "type": "scatter",
         "x": [
          "Standard CP",
          "CP + MitoBrilliant",
          "CP + Phenovue phalloidin 400LS",
          "Standard CP (exposed to ChromaLive)",
          "ChromaLive + Hoechst"
         ],
         "xaxis": "x30",
         "y": [
          0.0971656631828945,
          0.3456271329433094,
          0.0315740660679131,
          0.429954236080397,
          0.0642480177195702
         ],
         "yaxis": "y30"
        },
        {
         "marker": {
          "color": "#de8f05",
          "size": 12
         },
         "mode": "markers",
         "name": "GDC-0879",
         "showlegend": false,
         "type": "scatter",
         "x": [
          "Standard CP",
          "CP + MitoBrilliant",
          "CP + Phenovue phalloidin 400LS",
          "Standard CP (exposed to ChromaLive)",
          "ChromaLive + Hoechst"
         ],
         "xaxis": "x30",
         "y": [
          0.9791666666666666,
          1,
          0.5644890410515411,
          0.7268939393939393,
          0.2317431651804856
         ],
         "yaxis": "y30"
        },
        {
         "marker": {
          "color": "#0173b2",
          "size": 12
         },
         "mode": "markers",
         "name": "lenvatinib",
         "showlegend": false,
         "type": "scatter",
         "x": [
          "Standard CP",
          "CP + MitoBrilliant",
          "CP + Phenovue phalloidin 400LS",
          "Standard CP (exposed to ChromaLive)",
          "ChromaLive + Hoechst"
         ],
         "xaxis": "x31",
         "y": [
          0.8824404761904762,
          1,
          0.790909090909091,
          0.4394112695583284,
          0.4984652954633052
         ],
         "yaxis": "y31"
        },
        {
         "marker": {
          "color": "#de8f05",
          "size": 12
         },
         "mode": "markers",
         "name": "BLU9931",
         "showlegend": false,
         "type": "scatter",
         "x": [
          "Standard CP",
          "CP + MitoBrilliant",
          "CP + Phenovue phalloidin 400LS",
          "Standard CP (exposed to ChromaLive)",
          "ChromaLive + Hoechst"
         ],
         "xaxis": "x31",
         "y": [
          0.4889772727272727,
          0.5264590665325959,
          0.7786630036630037,
          1,
          0.2206921150459589
         ],
         "yaxis": "y31"
        },
        {
         "marker": {
          "color": "#0173b2",
          "size": 12
         },
         "mode": "markers",
         "name": "ponatinib",
         "showlegend": false,
         "type": "scatter",
         "x": [
          "Standard CP",
          "CP + MitoBrilliant",
          "CP + Phenovue phalloidin 400LS",
          "Standard CP (exposed to ChromaLive)",
          "ChromaLive + Hoechst"
         ],
         "xaxis": "x32",
         "y": [
          0.861111111111111,
          0.4646825396825397,
          0.5147837066315327,
          0.7027777777777778,
          0.4620797720797721
         ],
         "yaxis": "y32"
        },
        {
         "marker": {
          "color": "#de8f05",
          "size": 12
         },
         "mode": "markers",
         "name": "GNF-5",
         "showlegend": false,
         "type": "scatter",
         "x": [
          "Standard CP",
          "CP + MitoBrilliant",
          "CP + Phenovue phalloidin 400LS",
          "Standard CP (exposed to ChromaLive)",
          "ChromaLive + Hoechst"
         ],
         "xaxis": "x32",
         "y": [
          0.3972264202838758,
          0.7026587809036657,
          0.7873093681917211,
          0.5965253581107239,
          0.1272831172047267
         ],
         "yaxis": "y32"
        },
        {
         "marker": {
          "color": "#0173b2",
          "size": 12
         },
         "mode": "markers",
         "name": "WZ4003",
         "showlegend": false,
         "type": "scatter",
         "x": [
          "Standard CP",
          "CP + MitoBrilliant",
          "CP + Phenovue phalloidin 400LS",
          "Standard CP (exposed to ChromaLive)",
          "ChromaLive + Hoechst"
         ],
         "xaxis": "x33",
         "y": [
          0.1882316051861195,
          0.1528054053789347,
          0.105425506775315,
          0.1961503255194022,
          0.9027777777777776
         ],
         "yaxis": "y33"
        },
        {
         "marker": {
          "color": "#0173b2",
          "size": 12
         },
         "mode": "markers",
         "name": "ABT-737",
         "showlegend": false,
         "type": "scatter",
         "x": [
          "Standard CP",
          "CP + MitoBrilliant",
          "CP + Phenovue phalloidin 400LS",
          "Standard CP (exposed to ChromaLive)",
          "ChromaLive + Hoechst"
         ],
         "xaxis": "x34",
         "y": [
          1,
          0.763336825703847,
          0.9583333333333334,
          0.3306483539690649,
          0.5510954070308213
         ],
         "yaxis": "y34"
        },
        {
         "marker": {
          "color": "#de8f05",
          "size": 12
         },
         "mode": "markers",
         "name": "venetoclax",
         "showlegend": false,
         "type": "scatter",
         "x": [
          "Standard CP",
          "CP + MitoBrilliant",
          "CP + Phenovue phalloidin 400LS",
          "Standard CP (exposed to ChromaLive)",
          "ChromaLive + Hoechst"
         ],
         "xaxis": "x34",
         "y": [
          0.4884690845217161,
          0.2769199668011213,
          0.3395326564969422,
          0.2768532927004281,
          0.1569754253624423
         ],
         "yaxis": "y34"
        },
        {
         "marker": {
          "color": "#0173b2",
          "size": 12
         },
         "mode": "markers",
         "name": "romidepsin",
         "showlegend": false,
         "type": "scatter",
         "x": [
          "Standard CP",
          "CP + MitoBrilliant",
          "CP + Phenovue phalloidin 400LS",
          "Standard CP (exposed to ChromaLive)",
          "ChromaLive + Hoechst"
         ],
         "xaxis": "x35",
         "y": [
          0.4493806573112204,
          0.7951388888888888,
          0.5387896825396825,
          0.9458333333333332,
          0.2343219159008632
         ],
         "yaxis": "y35"
        },
        {
         "marker": {
          "color": "#de8f05",
          "size": 12
         },
         "mode": "markers",
         "name": "RGFP966",
         "showlegend": false,
         "type": "scatter",
         "x": [
          "Standard CP",
          "CP + MitoBrilliant",
          "CP + Phenovue phalloidin 400LS",
          "Standard CP (exposed to ChromaLive)",
          "ChromaLive + Hoechst"
         ],
         "xaxis": "x35",
         "y": [
          0.5134242212230108,
          0.9791666666666666,
          0.8396915584415584,
          0.6228397267955776,
          0.4840616777013835
         ],
         "yaxis": "y35"
        },
        {
         "marker": {
          "color": "#0173b2",
          "size": 12
         },
         "mode": "markers",
         "name": "THZ1",
         "showlegend": false,
         "type": "scatter",
         "x": [
          "Standard CP",
          "CP + MitoBrilliant",
          "CP + Phenovue phalloidin 400LS",
          "Standard CP (exposed to ChromaLive)",
          "ChromaLive + Hoechst"
         ],
         "xaxis": "x36",
         "y": [
          0.7826388888888889,
          0.8491161616161615,
          0.4640505328005328,
          0.7444444444444445,
          0.3710494894598155
         ],
         "yaxis": "y36"
        },
        {
         "marker": {
          "color": "#de8f05",
          "size": 12
         },
         "mode": "markers",
         "name": "AMG-925",
         "showlegend": false,
         "type": "scatter",
         "x": [
          "Standard CP",
          "CP + MitoBrilliant",
          "CP + Phenovue phalloidin 400LS",
          "Standard CP (exposed to ChromaLive)",
          "ChromaLive + Hoechst"
         ],
         "xaxis": "x36",
         "y": [
          0.4227250258428748,
          1,
          1,
          0.6405753968253969,
          0.331617807634722
         ],
         "yaxis": "y36"
        },
        {
         "marker": {
          "color": "#0173b2",
          "size": 12
         },
         "mode": "markers",
         "name": "FR-180204",
         "showlegend": false,
         "type": "scatter",
         "x": [
          "Standard CP",
          "CP + MitoBrilliant",
          "CP + Phenovue phalloidin 400LS",
          "Standard CP (exposed to ChromaLive)",
          "ChromaLive + Hoechst"
         ],
         "xaxis": "x37",
         "y": [
          0.0156393740585514,
          0.0855978107822178,
          0.1904324197052552,
          0.0168104187658768,
          0.1585293542005851
         ],
         "yaxis": "y37"
        },
        {
         "marker": {
          "color": "#de8f05",
          "size": 12
         },
         "mode": "markers",
         "name": "PD-198306",
         "showlegend": false,
         "type": "scatter",
         "x": [
          "Standard CP",
          "CP + MitoBrilliant",
          "CP + Phenovue phalloidin 400LS",
          "Standard CP (exposed to ChromaLive)",
          "ChromaLive + Hoechst"
         ],
         "xaxis": "x37",
         "y": [
          0.3396643842722274,
          0.2432985043368273,
          0.6117723842018197,
          0.4789773782980304,
          0.0830733208082303
         ],
         "yaxis": "y37"
        },
        {
         "marker": {
          "color": "#0173b2",
          "size": 12
         },
         "mode": "markers",
         "name": "Thapsigargin",
         "showlegend": false,
         "type": "scatter",
         "x": [
          "Standard CP",
          "CP + MitoBrilliant",
          "CP + Phenovue phalloidin 400LS",
          "Standard CP (exposed to ChromaLive)",
          "ChromaLive + Hoechst"
         ],
         "xaxis": "x38",
         "y": [
          1,
          0.7694940476190476,
          1,
          0.9513888888888888,
          0.2588279012831442
         ],
         "yaxis": "y38"
        },
        {
         "marker": {
          "color": "#0173b2",
          "size": 12
         },
         "mode": "markers",
         "name": "EPZ015666",
         "showlegend": false,
         "type": "scatter",
         "x": [
          "Standard CP",
          "CP + MitoBrilliant",
          "CP + Phenovue phalloidin 400LS",
          "Standard CP (exposed to ChromaLive)",
          "ChromaLive + Hoechst"
         ],
         "xaxis": "x39",
         "y": [
          0.7093142968142968,
          0.3087884075986485,
          0.8888888888888888,
          0.3040060152845412,
          0.3696216563827083
         ],
         "yaxis": "y39"
        },
        {
         "marker": {
          "color": "#de8f05",
          "size": 12
         },
         "mode": "markers",
         "name": "SGC-707",
         "showlegend": false,
         "type": "scatter",
         "x": [
          "Standard CP",
          "CP + MitoBrilliant",
          "CP + Phenovue phalloidin 400LS",
          "Standard CP (exposed to ChromaLive)",
          "ChromaLive + Hoechst"
         ],
         "xaxis": "x39",
         "y": [
          0.1965126592157808,
          0.0309631338875194,
          0.0163489074159451,
          0.1216062105805423,
          0.0403081228528227
         ],
         "yaxis": "y39"
        },
        {
         "marker": {
          "color": "#0173b2",
          "size": 12
         },
         "mode": "markers",
         "name": "DACTINOMYCIN",
         "showlegend": false,
         "type": "scatter",
         "x": [
          "Standard CP",
          "CP + MitoBrilliant",
          "CP + Phenovue phalloidin 400LS",
          "Standard CP (exposed to ChromaLive)",
          "ChromaLive + Hoechst"
         ],
         "xaxis": "x40",
         "y": [
          0.6779100529100529,
          0.6167748917748918,
          0.4832902001380262,
          0.5489087301587301,
          0.2581626600304761
         ],
         "yaxis": "y40"
        },
        {
         "marker": {
          "color": "#0173b2",
          "size": 12
         },
         "mode": "markers",
         "name": "purmorphamine",
         "showlegend": false,
         "type": "scatter",
         "x": [
          "Standard CP",
          "CP + MitoBrilliant",
          "CP + Phenovue phalloidin 400LS",
          "Standard CP (exposed to ChromaLive)",
          "ChromaLive + Hoechst"
         ],
         "xaxis": "x41",
         "y": [
          0.2248132294830504,
          0.3725400457665903,
          0.1617616659187257,
          0.3032023803762934,
          0.1533878753955851
         ],
         "yaxis": "y41"
        },
        {
         "marker": {
          "color": "#de8f05",
          "size": 12
         },
         "mode": "markers",
         "name": "SAG",
         "showlegend": false,
         "type": "scatter",
         "x": [
          "Standard CP",
          "CP + MitoBrilliant",
          "CP + Phenovue phalloidin 400LS",
          "Standard CP (exposed to ChromaLive)",
          "ChromaLive + Hoechst"
         ],
         "xaxis": "x41",
         "y": [
          0.3839489267989467,
          0.5660426731078905,
          0.2679947084742481,
          0.153145852826469,
          0.9791666666666666
         ],
         "yaxis": "y41"
        },
        {
         "marker": {
          "color": "#0173b2",
          "size": 12
         },
         "mode": "markers",
         "name": "CP-724714",
         "showlegend": false,
         "type": "scatter",
         "x": [
          "Standard CP",
          "CP + MitoBrilliant",
          "CP + Phenovue phalloidin 400LS",
          "Standard CP (exposed to ChromaLive)",
          "ChromaLive + Hoechst"
         ],
         "xaxis": "x42",
         "y": [
          0.0565017143205006,
          0.1673105825676309,
          0.1444461118846186,
          0.1575514163387108,
          0.1807856767415591
         ],
         "yaxis": "y42"
        },
        {
         "marker": {
          "color": "#de8f05",
          "size": 12
         },
         "mode": "markers",
         "name": "neratinib",
         "showlegend": false,
         "type": "scatter",
         "x": [
          "Standard CP",
          "CP + MitoBrilliant",
          "CP + Phenovue phalloidin 400LS",
          "Standard CP (exposed to ChromaLive)",
          "ChromaLive + Hoechst"
         ],
         "xaxis": "x42",
         "y": [
          1,
          0.7742456896551724,
          1,
          0.4752870179754186,
          0.7915895061728395
         ],
         "yaxis": "y42"
        },
        {
         "marker": {
          "color": "#0173b2",
          "size": 12
         },
         "mode": "markers",
         "name": "andarine",
         "showlegend": false,
         "type": "scatter",
         "x": [
          "Standard CP",
          "CP + MitoBrilliant",
          "CP + Phenovue phalloidin 400LS",
          "Standard CP (exposed to ChromaLive)",
          "ChromaLive + Hoechst"
         ],
         "xaxis": "x43",
         "y": [
          0.0181747663103683,
          0.0146165586047949,
          0.0293955481490052,
          0.0536585290020322,
          0.1005030242617836
         ],
         "yaxis": "y43"
        },
        {
         "marker": {
          "color": "#de8f05",
          "size": 12
         },
         "mode": "markers",
         "name": "PS178990",
         "showlegend": false,
         "type": "scatter",
         "x": [
          "Standard CP",
          "CP + MitoBrilliant",
          "CP + Phenovue phalloidin 400LS",
          "Standard CP (exposed to ChromaLive)",
          "ChromaLive + Hoechst"
         ],
         "xaxis": "x43",
         "y": [
          0.1784945554351246,
          0.0298484453121241,
          0.0682356632559584,
          0.0273950426531645,
          0.0151806229175319
         ],
         "yaxis": "y43"
        },
        {
         "marker": {
          "color": "#0173b2",
          "size": 12
         },
         "mode": "markers",
         "name": "rosuvastatin",
         "showlegend": false,
         "type": "scatter",
         "x": [
          "Standard CP",
          "CP + MitoBrilliant",
          "CP + Phenovue phalloidin 400LS",
          "Standard CP (exposed to ChromaLive)",
          "ChromaLive + Hoechst"
         ],
         "xaxis": "x44",
         "y": [
          0.1291173127966729,
          0.0197637880622978,
          0.2513746879129173,
          0.0137597034406874,
          0.052499140004079
         ],
         "yaxis": "y44"
        },
        {
         "marker": {
          "color": "#de8f05",
          "size": 12
         },
         "mode": "markers",
         "name": "delta-Tocotrienol",
         "showlegend": false,
         "type": "scatter",
         "x": [
          "Standard CP",
          "CP + MitoBrilliant",
          "CP + Phenovue phalloidin 400LS",
          "Standard CP (exposed to ChromaLive)",
          "ChromaLive + Hoechst"
         ],
         "xaxis": "x44",
         "y": [
          0.0150193407677918,
          0.0164051871752492,
          0.0207472029477666,
          0.0133130784367843,
          0.1032999157214723
         ],
         "yaxis": "y44"
        },
        {
         "marker": {
          "color": "#0173b2",
          "size": 12
         },
         "mode": "markers",
         "name": "skepinone-l",
         "showlegend": false,
         "type": "scatter",
         "x": [
          "Standard CP",
          "CP + MitoBrilliant",
          "CP + Phenovue phalloidin 400LS",
          "Standard CP (exposed to ChromaLive)",
          "ChromaLive + Hoechst"
         ],
         "xaxis": "x45",
         "y": [
          0.9375,
          0.776984126984127,
          0.5446661998132586,
          0.2392137449225853,
          0.0584582593326552
         ],
         "yaxis": "y45"
        },
        {
         "marker": {
          "color": "#de8f05",
          "size": 12
         },
         "mode": "markers",
         "name": "VX-745",
         "showlegend": false,
         "type": "scatter",
         "x": [
          "Standard CP",
          "CP + MitoBrilliant",
          "CP + Phenovue phalloidin 400LS",
          "Standard CP (exposed to ChromaLive)",
          "ChromaLive + Hoechst"
         ],
         "xaxis": "x45",
         "y": [
          0.2862136202447207,
          0.2052237717417319,
          0.1799989628926765,
          0.0975291033217929,
          0.03979434185833
         ],
         "yaxis": "y45"
        },
        {
         "marker": {
          "color": "#0173b2",
          "size": 12
         },
         "mode": "markers",
         "name": "sirolimus",
         "showlegend": false,
         "type": "scatter",
         "x": [
          "Standard CP",
          "CP + MitoBrilliant",
          "CP + Phenovue phalloidin 400LS",
          "Standard CP (exposed to ChromaLive)",
          "ChromaLive + Hoechst"
         ],
         "xaxis": "x46",
         "y": [
          1,
          1,
          1,
          0.5131544639432165,
          0.5095602813242407
         ],
         "yaxis": "y46"
        },
        {
         "marker": {
          "color": "#de8f05",
          "size": 12
         },
         "mode": "markers",
         "name": "AZD2014",
         "showlegend": false,
         "type": "scatter",
         "x": [
          "Standard CP",
          "CP + MitoBrilliant",
          "CP + Phenovue phalloidin 400LS",
          "Standard CP (exposed to ChromaLive)",
          "ChromaLive + Hoechst"
         ],
         "xaxis": "x46",
         "y": [
          0.8409455128205128,
          0.6898358585858586,
          0.9208333333333332,
          1,
          1
         ],
         "yaxis": "y46"
        },
        {
         "marker": {
          "color": "#0173b2",
          "size": 12
         },
         "mode": "markers",
         "name": "IOX2",
         "showlegend": false,
         "type": "scatter",
         "x": [
          "Standard CP",
          "CP + MitoBrilliant",
          "CP + Phenovue phalloidin 400LS",
          "Standard CP (exposed to ChromaLive)",
          "ChromaLive + Hoechst"
         ],
         "xaxis": "x47",
         "y": [
          0.0263200192433433,
          0.1682552018856305,
          0.4226190476190475,
          0.0633435871892131,
          0.1052459406051185
         ],
         "yaxis": "y47"
        },
        {
         "marker": {
          "color": "#de8f05",
          "size": 12
         },
         "mode": "markers",
         "name": "acriflavine",
         "showlegend": false,
         "type": "scatter",
         "x": [
          "Standard CP",
          "CP + MitoBrilliant",
          "CP + Phenovue phalloidin 400LS",
          "Standard CP (exposed to ChromaLive)",
          "ChromaLive + Hoechst"
         ],
         "xaxis": "x47",
         "y": [
          0.6168650793650794,
          0.7324342324342324,
          0.4835733153334221,
          0.3900526556776557,
          1
         ],
         "yaxis": "y47"
        }
       ],
       "layout": {
        "annotations": [
         {
          "font": {
           "size": 19
          },
          "showarrow": false,
          "text": "tumor necrosis factor production inhibitor",
          "x": 0.092,
          "xanchor": "center",
          "xref": "paper",
          "y": 0.9999999999999999,
          "yanchor": "bottom",
          "yref": "paper"
         },
         {
          "font": {
           "size": 19
          },
          "showarrow": false,
          "text": "antihistamine",
          "x": 0.296,
          "xanchor": "center",
          "xref": "paper",
          "y": 0.9999999999999999,
          "yanchor": "bottom",
          "yref": "paper"
         },
         {
          "font": {
           "size": 19
          },
          "showarrow": false,
          "text": "acetylcholine receptor antagonist",
          "x": 0.5,
          "xanchor": "center",
          "xref": "paper",
          "y": 0.9999999999999999,
          "yanchor": "bottom",
          "yref": "paper"
         },
         {
          "font": {
           "size": 19
          },
          "showarrow": false,
          "text": "pyruvate dehydrogenase kinase inhibitor",
          "x": 0.7040000000000001,
          "xanchor": "center",
          "xref": "paper",
          "y": 0.9999999999999999,
          "yanchor": "bottom",
          "yref": "paper"
         },
         {
          "font": {
           "size": 19
          },
          "showarrow": false,
          "text": "protein tyrosine kinase inhibitor",
          "x": 0.9079999999999999,
          "xanchor": "center",
          "xref": "paper",
          "y": 0.9999999999999999,
          "yanchor": "bottom",
          "yref": "paper"
         },
         {
          "font": {
           "size": 19
          },
          "showarrow": false,
          "text": "hepatocyte growth factor receptor inhibitor",
          "x": 0.092,
          "xanchor": "center",
          "xref": "paper",
          "y": 0.898,
          "yanchor": "bottom",
          "yref": "paper"
         },
         {
          "font": {
           "size": 19
          },
          "showarrow": false,
          "text": "CHK inhibitor",
          "x": 0.296,
          "xanchor": "center",
          "xref": "paper",
          "y": 0.898,
          "yanchor": "bottom",
          "yref": "paper"
         },
         {
          "font": {
           "size": 19
          },
          "showarrow": false,
          "text": "glycogen synthase kinase inhibitor",
          "x": 0.5,
          "xanchor": "center",
          "xref": "paper",
          "y": 0.898,
          "yanchor": "bottom",
          "yref": "paper"
         },
         {
          "font": {
           "size": 19
          },
          "showarrow": false,
          "text": "histone lysine methyltransferase inhibitor",
          "x": 0.7040000000000001,
          "xanchor": "center",
          "xref": "paper",
          "y": 0.898,
          "yanchor": "bottom",
          "yref": "paper"
         },
         {
          "font": {
           "size": 19
          },
          "showarrow": false,
          "text": "inosine monophosphate dehydrogenase inhibitor",
          "x": 0.9079999999999999,
          "xanchor": "center",
          "xref": "paper",
          "y": 0.898,
          "yanchor": "bottom",
          "yref": "paper"
         },
         {
          "font": {
           "size": 19
          },
          "showarrow": false,
          "text": "CDC inhibitor",
          "x": 0.092,
          "xanchor": "center",
          "xref": "paper",
          "y": 0.796,
          "yanchor": "bottom",
          "yref": "paper"
         },
         {
          "font": {
           "size": 19
          },
          "showarrow": false,
          "text": "PARP inhibitor",
          "x": 0.296,
          "xanchor": "center",
          "xref": "paper",
          "y": 0.796,
          "yanchor": "bottom",
          "yref": "paper"
         },
         {
          "font": {
           "size": 19
          },
          "showarrow": false,
          "text": "bromodomain inhibitor",
          "x": 0.5,
          "xanchor": "center",
          "xref": "paper",
          "y": 0.796,
          "yanchor": "bottom",
          "yref": "paper"
         },
         {
          "font": {
           "size": 19
          },
          "showarrow": false,
          "text": "ubiquitin specific protease inhibitor",
          "x": 0.7040000000000001,
          "xanchor": "center",
          "xref": "paper",
          "y": 0.796,
          "yanchor": "bottom",
          "yref": "paper"
         },
         {
          "font": {
           "size": 19
          },
          "showarrow": false,
          "text": "JAK inhibitor",
          "x": 0.9079999999999999,
          "xanchor": "center",
          "xref": "paper",
          "y": 0.796,
          "yanchor": "bottom",
          "yref": "paper"
         },
         {
          "font": {
           "size": 19
          },
          "showarrow": false,
          "text": "Apoptosis inducer (ATP-competitive kinase inhibitor)",
          "x": 0.092,
          "xanchor": "center",
          "xref": "paper",
          "y": 0.694,
          "yanchor": "bottom",
          "yref": "paper"
         },
         {
          "font": {
           "size": 19
          },
          "showarrow": false,
          "text": "MEK inhibitor",
          "x": 0.296,
          "xanchor": "center",
          "xref": "paper",
          "y": 0.694,
          "yanchor": "bottom",
          "yref": "paper"
         },
         {
          "font": {
           "size": 19
          },
          "showarrow": false,
          "text": "Aurora kinase inhibitor",
          "x": 0.5,
          "xanchor": "center",
          "xref": "paper",
          "y": 0.694,
          "yanchor": "bottom",
          "yref": "paper"
         },
         {
          "font": {
           "size": 19
          },
          "showarrow": false,
          "text": "LXR agonist",
          "x": 0.7040000000000001,
          "xanchor": "center",
          "xref": "paper",
          "y": 0.694,
          "yanchor": "bottom",
          "yref": "paper"
         },
         {
          "font": {
           "size": 19
          },
          "showarrow": false,
          "text": "phospholipase inhibitor",
          "x": 0.9079999999999999,
          "xanchor": "center",
          "xref": "paper",
          "y": 0.694,
          "yanchor": "bottom",
          "yref": "paper"
         },
         {
          "font": {
           "size": 19
          },
          "showarrow": false,
          "text": "IGF-1 inhibitor",
          "x": 0.092,
          "xanchor": "center",
          "xref": "paper",
          "y": 0.592,
          "yanchor": "bottom",
          "yref": "paper"
         },
         {
          "font": {
           "size": 19
          },
          "showarrow": false,
          "text": "tricyclic antidepressant",
          "x": 0.296,
          "xanchor": "center",
          "xref": "paper",
          "y": 0.592,
          "yanchor": "bottom",
          "yref": "paper"
         },
         {
          "font": {
           "size": 19
          },
          "showarrow": false,
          "text": "histone lysine demethylase inhibitor",
          "x": 0.5,
          "xanchor": "center",
          "xref": "paper",
          "y": 0.592,
          "yanchor": "bottom",
          "yref": "paper"
         },
         {
          "font": {
           "size": 19
          },
          "showarrow": false,
          "text": "phosphodiesterase inhibitor",
          "x": 0.7040000000000001,
          "xanchor": "center",
          "xref": "paper",
          "y": 0.592,
          "yanchor": "bottom",
          "yref": "paper"
         },
         {
          "font": {
           "size": 19
          },
          "showarrow": false,
          "text": "beta-catenin inhibitor",
          "x": 0.9079999999999999,
          "xanchor": "center",
          "xref": "paper",
          "y": 0.592,
          "yanchor": "bottom",
          "yref": "paper"
         },
         {
          "font": {
           "size": 19
          },
          "showarrow": false,
          "text": "JNK inhibitor",
          "x": 0.092,
          "xanchor": "center",
          "xref": "paper",
          "y": 0.49000000000000005,
          "yanchor": "bottom",
          "yref": "paper"
         },
         {
          "font": {
           "size": 19
          },
          "showarrow": false,
          "text": "DNA inhibitor",
          "x": 0.296,
          "xanchor": "center",
          "xref": "paper",
          "y": 0.49000000000000005,
          "yanchor": "bottom",
          "yref": "paper"
         },
         {
          "font": {
           "size": 19
          },
          "showarrow": false,
          "text": "kinesin inhibitor",
          "x": 0.5,
          "xanchor": "center",
          "xref": "paper",
          "y": 0.49000000000000005,
          "yanchor": "bottom",
          "yref": "paper"
         },
         {
          "font": {
           "size": 19
          },
          "showarrow": false,
          "text": "phosphoinositide dependent kinase inhibitor",
          "x": 0.7040000000000001,
          "xanchor": "center",
          "xref": "paper",
          "y": 0.49000000000000005,
          "yanchor": "bottom",
          "yref": "paper"
         },
         {
          "font": {
           "size": 19
          },
          "showarrow": false,
          "text": "RAF inhibitor",
          "x": 0.9079999999999999,
          "xanchor": "center",
          "xref": "paper",
          "y": 0.49000000000000005,
          "yanchor": "bottom",
          "yref": "paper"
         },
         {
          "font": {
           "size": 19
          },
          "showarrow": false,
          "text": "FGFR inhibitor",
          "x": 0.092,
          "xanchor": "center",
          "xref": "paper",
          "y": 0.388,
          "yanchor": "bottom",
          "yref": "paper"
         },
         {
          "font": {
           "size": 19
          },
          "showarrow": false,
          "text": "Bcr-Abl kinase inhibitor",
          "x": 0.296,
          "xanchor": "center",
          "xref": "paper",
          "y": 0.388,
          "yanchor": "bottom",
          "yref": "paper"
         },
         {
          "font": {
           "size": 19
          },
          "showarrow": false,
          "text": "AMPK inhibitor",
          "x": 0.5,
          "xanchor": "center",
          "xref": "paper",
          "y": 0.388,
          "yanchor": "bottom",
          "yref": "paper"
         },
         {
          "font": {
           "size": 19
          },
          "showarrow": false,
          "text": "BCL inhibitor",
          "x": 0.7040000000000001,
          "xanchor": "center",
          "xref": "paper",
          "y": 0.388,
          "yanchor": "bottom",
          "yref": "paper"
         },
         {
          "font": {
           "size": 19
          },
          "showarrow": false,
          "text": "HDAC inhibitor",
          "x": 0.9079999999999999,
          "xanchor": "center",
          "xref": "paper",
          "y": 0.388,
          "yanchor": "bottom",
          "yref": "paper"
         },
         {
          "font": {
           "size": 19
          },
          "showarrow": false,
          "text": "CDK inhibitor",
          "x": 0.092,
          "xanchor": "center",
          "xref": "paper",
          "y": 0.28600000000000003,
          "yanchor": "bottom",
          "yref": "paper"
         },
         {
          "font": {
           "size": 19
          },
          "showarrow": false,
          "text": "MAP kinase inhibitor",
          "x": 0.296,
          "xanchor": "center",
          "xref": "paper",
          "y": 0.28600000000000003,
          "yanchor": "bottom",
          "yref": "paper"
         },
         {
          "font": {
           "size": 19
          },
          "showarrow": false,
          "text": "ER stressor (SERCA inhibitor)",
          "x": 0.5,
          "xanchor": "center",
          "xref": "paper",
          "y": 0.28600000000000003,
          "yanchor": "bottom",
          "yref": "paper"
         },
         {
          "font": {
           "size": 19
          },
          "showarrow": false,
          "text": "protein arginine N-methyltransferase inhibitor",
          "x": 0.7040000000000001,
          "xanchor": "center",
          "xref": "paper",
          "y": 0.28600000000000003,
          "yanchor": "bottom",
          "yref": "paper"
         },
         {
          "font": {
           "size": 19
          },
          "showarrow": false,
          "text": "Apoptosis inducer (transcription inhibitor)",
          "x": 0.9079999999999999,
          "xanchor": "center",
          "xref": "paper",
          "y": 0.28600000000000003,
          "yanchor": "bottom",
          "yref": "paper"
         },
         {
          "font": {
           "size": 19
          },
          "showarrow": false,
          "text": "smoothened receptor agonist",
          "x": 0.092,
          "xanchor": "center",
          "xref": "paper",
          "y": 0.184,
          "yanchor": "bottom",
          "yref": "paper"
         },
         {
          "font": {
           "size": 19
          },
          "showarrow": false,
          "text": "EGFR inhibitor",
          "x": 0.296,
          "xanchor": "center",
          "xref": "paper",
          "y": 0.184,
          "yanchor": "bottom",
          "yref": "paper"
         },
         {
          "font": {
           "size": 19
          },
          "showarrow": false,
          "text": "androgen receptor modulator",
          "x": 0.5,
          "xanchor": "center",
          "xref": "paper",
          "y": 0.184,
          "yanchor": "bottom",
          "yref": "paper"
         },
         {
          "font": {
           "size": 19
          },
          "showarrow": false,
          "text": "HMGCR inhibitor",
          "x": 0.7040000000000001,
          "xanchor": "center",
          "xref": "paper",
          "y": 0.184,
          "yanchor": "bottom",
          "yref": "paper"
         },
         {
          "font": {
           "size": 19
          },
          "showarrow": false,
          "text": "p38 MAPK inhibitor",
          "x": 0.9079999999999999,
          "xanchor": "center",
          "xref": "paper",
          "y": 0.184,
          "yanchor": "bottom",
          "yref": "paper"
         },
         {
          "font": {
           "size": 19
          },
          "showarrow": false,
          "text": "mTOR inhibitor",
          "x": 0.092,
          "xanchor": "center",
          "xref": "paper",
          "y": 0.082,
          "yanchor": "bottom",
          "yref": "paper"
         },
         {
          "font": {
           "size": 19
          },
          "showarrow": false,
          "text": "hypoxia inducible factor inhibitor",
          "x": 0.296,
          "xanchor": "center",
          "xref": "paper",
          "y": 0.082,
          "yanchor": "bottom",
          "yref": "paper"
         },
         {
          "font": {
           "size": 19
          },
          "showarrow": false,
          "text": "Mean Average Precision",
          "textangle": -90,
          "x": 0,
          "xanchor": "right",
          "xref": "paper",
          "xshift": -40,
          "y": 0.5,
          "yanchor": "middle",
          "yref": "paper"
         },
         {
          "font": {
           "color": "#0173b2",
           "size": 19
          },
          "showarrow": false,
          "text": "pomalidomide",
          "x": 0.1,
          "xref": "x domain",
          "y": 0.95,
          "yref": "y domain"
         },
         {
          "font": {
           "color": "#de8f05",
           "size": 19
          },
          "showarrow": false,
          "text": "apratastat",
          "x": 0.9,
          "xref": "x domain",
          "y": 0.95,
          "yref": "y domain"
         },
         {
          "font": {
           "color": "#0173b2",
           "size": 19
          },
          "showarrow": false,
          "text": "homochlorcyclizine",
          "x": 0.1,
          "xref": "x2 domain",
          "y": 0.95,
          "yref": "y2 domain"
         },
         {
          "font": {
           "color": "#de8f05",
           "size": 19
          },
          "showarrow": false,
          "text": "hydroxyzine",
          "x": 0.9,
          "xref": "x2 domain",
          "y": 0.95,
          "yref": "y2 domain"
         },
         {
          "font": {
           "color": "#0173b2",
           "size": 19
          },
          "showarrow": false,
          "text": "orphenadrine",
          "x": 0.1,
          "xref": "x3 domain",
          "y": 0.95,
          "yref": "y3 domain"
         },
         {
          "font": {
           "color": "#de8f05",
           "size": 19
          },
          "showarrow": false,
          "text": "dimethindene-(S)-(+)",
          "x": 0.9,
          "xref": "x3 domain",
          "y": 0.95,
          "yref": "y3 domain"
         },
         {
          "font": {
           "color": "#0173b2",
           "size": 19
          },
          "showarrow": false,
          "text": "AZD7545",
          "x": 0.1,
          "xref": "x4 domain",
          "y": 0.95,
          "yref": "y4 domain"
         },
         {
          "font": {
           "color": "#de8f05",
           "size": 19
          },
          "showarrow": false,
          "text": "BX-912",
          "x": 0.9,
          "xref": "x4 domain",
          "y": 0.95,
          "yref": "y4 domain"
         },
         {
          "font": {
           "color": "#0173b2",
           "size": 19
          },
          "showarrow": false,
          "text": "SHP099",
          "x": 0.1,
          "xref": "x5 domain",
          "y": 0.95,
          "yref": "y5 domain"
         },
         {
          "font": {
           "color": "#de8f05",
           "size": 19
          },
          "showarrow": false,
          "text": "rheochrysidin",
          "x": 0.9,
          "xref": "x5 domain",
          "y": 0.95,
          "yref": "y5 domain"
         },
         {
          "font": {
           "color": "#0173b2",
           "size": 19
          },
          "showarrow": false,
          "text": "SU-11274",
          "x": 0.1,
          "xref": "x6 domain",
          "y": 0.95,
          "yref": "y6 domain"
         },
         {
          "font": {
           "color": "#de8f05",
           "size": 19
          },
          "showarrow": false,
          "text": "SGX523",
          "x": 0.9,
          "xref": "x6 domain",
          "y": 0.95,
          "yref": "y6 domain"
         },
         {
          "font": {
           "color": "#0173b2",
           "size": 19
          },
          "showarrow": false,
          "text": "PF-477736",
          "x": 0.1,
          "xref": "x7 domain",
          "y": 0.95,
          "yref": "y7 domain"
         },
         {
          "font": {
           "color": "#de8f05",
           "size": 19
          },
          "showarrow": false,
          "text": "SCH-900776",
          "x": 0.9,
          "xref": "x7 domain",
          "y": 0.95,
          "yref": "y7 domain"
         },
         {
          "font": {
           "color": "#0173b2",
           "size": 19
          },
          "showarrow": false,
          "text": "GSK-3-inhibitor-IX",
          "x": 0.1,
          "xref": "x8 domain",
          "y": 0.95,
          "yref": "y8 domain"
         },
         {
          "font": {
           "color": "#de8f05",
           "size": 19
          },
          "showarrow": false,
          "text": "CHIR-99021",
          "x": 0.9,
          "xref": "x8 domain",
          "y": 0.95,
          "yref": "y8 domain"
         },
         {
          "font": {
           "color": "#0173b2",
           "size": 19
          },
          "showarrow": false,
          "text": "A-366",
          "x": 0.1,
          "xref": "x9 domain",
          "y": 0.95,
          "yref": "y9 domain"
         },
         {
          "font": {
           "color": "#de8f05",
           "size": 19
          },
          "showarrow": false,
          "text": "UNC0642",
          "x": 0.9,
          "xref": "x9 domain",
          "y": 0.95,
          "yref": "y9 domain"
         },
         {
          "font": {
           "color": "#0173b2",
           "size": 19
          },
          "showarrow": false,
          "text": "merimepodib",
          "x": 0.1,
          "xref": "x10 domain",
          "y": 0.95,
          "yref": "y10 domain"
         },
         {
          "font": {
           "color": "#de8f05",
           "size": 19
          },
          "showarrow": false,
          "text": "BMS-566419",
          "x": 0.9,
          "xref": "x10 domain",
          "y": 0.95,
          "yref": "y10 domain"
         },
         {
          "font": {
           "color": "#0173b2",
           "size": 19
          },
          "showarrow": false,
          "text": "BMS-863233",
          "x": 0.1,
          "xref": "x11 domain",
          "y": 0.95,
          "yref": "y11 domain"
         },
         {
          "font": {
           "color": "#de8f05",
           "size": 19
          },
          "showarrow": false,
          "text": "KH-CB19",
          "x": 0.9,
          "xref": "x11 domain",
          "y": 0.95,
          "yref": "y11 domain"
         },
         {
          "font": {
           "color": "#0173b2",
           "size": 19
          },
          "showarrow": false,
          "text": "veliparib",
          "x": 0.1,
          "xref": "x12 domain",
          "y": 0.95,
          "yref": "y12 domain"
         },
         {
          "font": {
           "color": "#de8f05",
           "size": 19
          },
          "showarrow": false,
          "text": "niraparib",
          "x": 0.9,
          "xref": "x12 domain",
          "y": 0.95,
          "yref": "y12 domain"
         },
         {
          "font": {
           "color": "#0173b2",
           "size": 19
          },
          "showarrow": false,
          "text": "PFI-1",
          "x": 0.1,
          "xref": "x13 domain",
          "y": 0.95,
          "yref": "y13 domain"
         },
         {
          "font": {
           "color": "#de8f05",
           "size": 19
          },
          "showarrow": false,
          "text": "CPI-0610",
          "x": 0.9,
          "xref": "x13 domain",
          "y": 0.95,
          "yref": "y13 domain"
         },
         {
          "font": {
           "color": "#0173b2",
           "size": 19
          },
          "showarrow": false,
          "text": "P5091",
          "x": 0.1,
          "xref": "x14 domain",
          "y": 0.95,
          "yref": "y14 domain"
         },
         {
          "font": {
           "color": "#de8f05",
           "size": 19
          },
          "showarrow": false,
          "text": "ML-323",
          "x": 0.9,
          "xref": "x14 domain",
          "y": 0.95,
          "yref": "y14 domain"
         },
         {
          "font": {
           "color": "#0173b2",
           "size": 19
          },
          "showarrow": false,
          "text": "filgotinib",
          "x": 0.1,
          "xref": "x15 domain",
          "y": 0.95,
          "yref": "y15 domain"
         },
         {
          "font": {
           "color": "#de8f05",
           "size": 19
          },
          "showarrow": false,
          "text": "ruxolitinib",
          "x": 0.9,
          "xref": "x15 domain",
          "y": 0.95,
          "yref": "y15 domain"
         },
         {
          "font": {
           "color": "#0173b2",
           "size": 19
          },
          "showarrow": false,
          "text": "Staurosporine",
          "x": 0.5,
          "xref": "x16 domain",
          "y": 0.95,
          "yref": "y16 domain"
         },
         {
          "font": {
           "color": "#0173b2",
           "size": 19
          },
          "showarrow": false,
          "text": "BIX-02188",
          "x": 0.1,
          "xref": "x17 domain",
          "y": 0.95,
          "yref": "y17 domain"
         },
         {
          "font": {
           "color": "#de8f05",
           "size": 19
          },
          "showarrow": false,
          "text": "selumetinib",
          "x": 0.9,
          "xref": "x17 domain",
          "y": 0.95,
          "yref": "y17 domain"
         },
         {
          "font": {
           "color": "#0173b2",
           "size": 19
          },
          "showarrow": false,
          "text": "AMG900",
          "x": 0.1,
          "xref": "x18 domain",
          "y": 0.95,
          "yref": "y18 domain"
         },
         {
          "font": {
           "color": "#de8f05",
           "size": 19
          },
          "showarrow": false,
          "text": "MK-5108",
          "x": 0.9,
          "xref": "x18 domain",
          "y": 0.95,
          "yref": "y18 domain"
         },
         {
          "font": {
           "color": "#0173b2",
           "size": 19
          },
          "showarrow": false,
          "text": "T-0901317",
          "x": 0.1,
          "xref": "x19 domain",
          "y": 0.95,
          "yref": "y19 domain"
         },
         {
          "font": {
           "color": "#de8f05",
           "size": 19
          },
          "showarrow": false,
          "text": "GW-3965",
          "x": 0.9,
          "xref": "x19 domain",
          "y": 0.95,
          "yref": "y19 domain"
         },
         {
          "font": {
           "color": "#0173b2",
           "size": 19
          },
          "showarrow": false,
          "text": "ML-298",
          "x": 0.1,
          "xref": "x20 domain",
          "y": 0.95,
          "yref": "y20 domain"
         },
         {
          "font": {
           "color": "#de8f05",
           "size": 19
          },
          "showarrow": false,
          "text": "halopemide",
          "x": 0.9,
          "xref": "x20 domain",
          "y": 0.95,
          "yref": "y20 domain"
         },
         {
          "font": {
           "color": "#0173b2",
           "size": 19
          },
          "showarrow": false,
          "text": "NVP-AEW541",
          "x": 0.1,
          "xref": "x21 domain",
          "y": 0.95,
          "yref": "y21 domain"
         },
         {
          "font": {
           "color": "#de8f05",
           "size": 19
          },
          "showarrow": false,
          "text": "linsitinib",
          "x": 0.9,
          "xref": "x21 domain",
          "y": 0.95,
          "yref": "y21 domain"
         },
         {
          "font": {
           "color": "#0173b2",
           "size": 19
          },
          "showarrow": false,
          "text": "maprotiline",
          "x": 0.1,
          "xref": "x22 domain",
          "y": 0.95,
          "yref": "y22 domain"
         },
         {
          "font": {
           "color": "#de8f05",
           "size": 19
          },
          "showarrow": false,
          "text": "dosulepin",
          "x": 0.9,
          "xref": "x22 domain",
          "y": 0.95,
          "yref": "y22 domain"
         },
         {
          "font": {
           "color": "#0173b2",
           "size": 19
          },
          "showarrow": false,
          "text": "ML324",
          "x": 0.1,
          "xref": "x23 domain",
          "y": 0.95,
          "yref": "y23 domain"
         },
         {
          "font": {
           "color": "#de8f05",
           "size": 19
          },
          "showarrow": false,
          "text": "GSK-J4",
          "x": 0.9,
          "xref": "x23 domain",
          "y": 0.95,
          "yref": "y23 domain"
         },
         {
          "font": {
           "color": "#0173b2",
           "size": 19
          },
          "showarrow": false,
          "text": "ketotifen",
          "x": 0.1,
          "xref": "x24 domain",
          "y": 0.95,
          "yref": "y24 domain"
         },
         {
          "font": {
           "color": "#de8f05",
           "size": 19
          },
          "showarrow": false,
          "text": "quazinone",
          "x": 0.9,
          "xref": "x24 domain",
          "y": 0.95,
          "yref": "y24 domain"
         },
         {
          "font": {
           "color": "#0173b2",
           "size": 19
          },
          "showarrow": false,
          "text": "PNU-74654",
          "x": 0.1,
          "xref": "x25 domain",
          "y": 0.95,
          "yref": "y25 domain"
         },
         {
          "font": {
           "color": "#de8f05",
           "size": 19
          },
          "showarrow": false,
          "text": "ICG-001",
          "x": 0.9,
          "xref": "x25 domain",
          "y": 0.95,
          "yref": "y25 domain"
         },
         {
          "font": {
           "color": "#0173b2",
           "size": 19
          },
          "showarrow": false,
          "text": "SU3327",
          "x": 0.1,
          "xref": "x26 domain",
          "y": 0.95,
          "yref": "y26 domain"
         },
         {
          "font": {
           "color": "#de8f05",
           "size": 19
          },
          "showarrow": false,
          "text": "BI-78D3",
          "x": 0.9,
          "xref": "x26 domain",
          "y": 0.95,
          "yref": "y26 domain"
         },
         {
          "font": {
           "color": "#0173b2",
           "size": 19
          },
          "showarrow": false,
          "text": "carmustine",
          "x": 0.1,
          "xref": "x27 domain",
          "y": 0.95,
          "yref": "y27 domain"
         },
         {
          "font": {
           "color": "#de8f05",
           "size": 19
          },
          "showarrow": false,
          "text": "valrubicin",
          "x": 0.9,
          "xref": "x27 domain",
          "y": 0.95,
          "yref": "y27 domain"
         },
         {
          "font": {
           "color": "#0173b2",
           "size": 19
          },
          "showarrow": false,
          "text": "filanesib",
          "x": 0.1,
          "xref": "x28 domain",
          "y": 0.95,
          "yref": "y28 domain"
         },
         {
          "font": {
           "color": "#de8f05",
           "size": 19
          },
          "showarrow": false,
          "text": "ispinesib",
          "x": 0.9,
          "xref": "x28 domain",
          "y": 0.95,
          "yref": "y28 domain"
         },
         {
          "font": {
           "color": "#0173b2",
           "size": 19
          },
          "showarrow": false,
          "text": "APY0201",
          "x": 0.1,
          "xref": "x29 domain",
          "y": 0.95,
          "yref": "y29 domain"
         },
         {
          "font": {
           "color": "#de8f05",
           "size": 19
          },
          "showarrow": false,
          "text": "GSK2334470",
          "x": 0.9,
          "xref": "x29 domain",
          "y": 0.95,
          "yref": "y29 domain"
         },
         {
          "font": {
           "color": "#0173b2",
           "size": 19
          },
          "showarrow": false,
          "text": "GW-5074",
          "x": 0.1,
          "xref": "x30 domain",
          "y": 0.95,
          "yref": "y30 domain"
         },
         {
          "font": {
           "color": "#de8f05",
           "size": 19
          },
          "showarrow": false,
          "text": "GDC-0879",
          "x": 0.9,
          "xref": "x30 domain",
          "y": 0.95,
          "yref": "y30 domain"
         },
         {
          "font": {
           "color": "#0173b2",
           "size": 19
          },
          "showarrow": false,
          "text": "lenvatinib",
          "x": 0.1,
          "xref": "x31 domain",
          "y": 0.95,
          "yref": "y31 domain"
         },
         {
          "font": {
           "color": "#de8f05",
           "size": 19
          },
          "showarrow": false,
          "text": "BLU9931",
          "x": 0.9,
          "xref": "x31 domain",
          "y": 0.95,
          "yref": "y31 domain"
         },
         {
          "font": {
           "color": "#0173b2",
           "size": 19
          },
          "showarrow": false,
          "text": "ponatinib",
          "x": 0.1,
          "xref": "x32 domain",
          "y": 0.95,
          "yref": "y32 domain"
         },
         {
          "font": {
           "color": "#de8f05",
           "size": 19
          },
          "showarrow": false,
          "text": "GNF-5",
          "x": 0.9,
          "xref": "x32 domain",
          "y": 0.95,
          "yref": "y32 domain"
         },
         {
          "font": {
           "color": "#0173b2",
           "size": 19
          },
          "showarrow": false,
          "text": "WZ4003",
          "x": 0.5,
          "xref": "x33 domain",
          "y": 0.95,
          "yref": "y33 domain"
         },
         {
          "font": {
           "color": "#0173b2",
           "size": 19
          },
          "showarrow": false,
          "text": "ABT-737",
          "x": 0.1,
          "xref": "x34 domain",
          "y": 0.95,
          "yref": "y34 domain"
         },
         {
          "font": {
           "color": "#de8f05",
           "size": 19
          },
          "showarrow": false,
          "text": "venetoclax",
          "x": 0.9,
          "xref": "x34 domain",
          "y": 0.95,
          "yref": "y34 domain"
         },
         {
          "font": {
           "color": "#0173b2",
           "size": 19
          },
          "showarrow": false,
          "text": "romidepsin",
          "x": 0.1,
          "xref": "x35 domain",
          "y": 0.95,
          "yref": "y35 domain"
         },
         {
          "font": {
           "color": "#de8f05",
           "size": 19
          },
          "showarrow": false,
          "text": "RGFP966",
          "x": 0.9,
          "xref": "x35 domain",
          "y": 0.95,
          "yref": "y35 domain"
         },
         {
          "font": {
           "color": "#0173b2",
           "size": 19
          },
          "showarrow": false,
          "text": "THZ1",
          "x": 0.1,
          "xref": "x36 domain",
          "y": 0.95,
          "yref": "y36 domain"
         },
         {
          "font": {
           "color": "#de8f05",
           "size": 19
          },
          "showarrow": false,
          "text": "AMG-925",
          "x": 0.9,
          "xref": "x36 domain",
          "y": 0.95,
          "yref": "y36 domain"
         },
         {
          "font": {
           "color": "#0173b2",
           "size": 19
          },
          "showarrow": false,
          "text": "FR-180204",
          "x": 0.1,
          "xref": "x37 domain",
          "y": 0.95,
          "yref": "y37 domain"
         },
         {
          "font": {
           "color": "#de8f05",
           "size": 19
          },
          "showarrow": false,
          "text": "PD-198306",
          "x": 0.9,
          "xref": "x37 domain",
          "y": 0.95,
          "yref": "y37 domain"
         },
         {
          "font": {
           "color": "#0173b2",
           "size": 19
          },
          "showarrow": false,
          "text": "Thapsigargin",
          "x": 0.5,
          "xref": "x38 domain",
          "y": 0.95,
          "yref": "y38 domain"
         },
         {
          "font": {
           "color": "#0173b2",
           "size": 19
          },
          "showarrow": false,
          "text": "EPZ015666",
          "x": 0.1,
          "xref": "x39 domain",
          "y": 0.95,
          "yref": "y39 domain"
         },
         {
          "font": {
           "color": "#de8f05",
           "size": 19
          },
          "showarrow": false,
          "text": "SGC-707",
          "x": 0.9,
          "xref": "x39 domain",
          "y": 0.95,
          "yref": "y39 domain"
         },
         {
          "font": {
           "color": "#0173b2",
           "size": 19
          },
          "showarrow": false,
          "text": "DACTINOMYCIN",
          "x": 0.5,
          "xref": "x40 domain",
          "y": 0.95,
          "yref": "y40 domain"
         },
         {
          "font": {
           "color": "#0173b2",
           "size": 19
          },
          "showarrow": false,
          "text": "purmorphamine",
          "x": 0.1,
          "xref": "x41 domain",
          "y": 0.95,
          "yref": "y41 domain"
         },
         {
          "font": {
           "color": "#de8f05",
           "size": 19
          },
          "showarrow": false,
          "text": "SAG",
          "x": 0.9,
          "xref": "x41 domain",
          "y": 0.95,
          "yref": "y41 domain"
         },
         {
          "font": {
           "color": "#0173b2",
           "size": 19
          },
          "showarrow": false,
          "text": "CP-724714",
          "x": 0.1,
          "xref": "x42 domain",
          "y": 0.95,
          "yref": "y42 domain"
         },
         {
          "font": {
           "color": "#de8f05",
           "size": 19
          },
          "showarrow": false,
          "text": "neratinib",
          "x": 0.9,
          "xref": "x42 domain",
          "y": 0.95,
          "yref": "y42 domain"
         },
         {
          "font": {
           "color": "#0173b2",
           "size": 19
          },
          "showarrow": false,
          "text": "andarine",
          "x": 0.1,
          "xref": "x43 domain",
          "y": 0.95,
          "yref": "y43 domain"
         },
         {
          "font": {
           "color": "#de8f05",
           "size": 19
          },
          "showarrow": false,
          "text": "PS178990",
          "x": 0.9,
          "xref": "x43 domain",
          "y": 0.95,
          "yref": "y43 domain"
         },
         {
          "font": {
           "color": "#0173b2",
           "size": 19
          },
          "showarrow": false,
          "text": "rosuvastatin",
          "x": 0.1,
          "xref": "x44 domain",
          "y": 0.95,
          "yref": "y44 domain"
         },
         {
          "font": {
           "color": "#de8f05",
           "size": 19
          },
          "showarrow": false,
          "text": "delta-Tocotrienol",
          "x": 0.9,
          "xref": "x44 domain",
          "y": 0.95,
          "yref": "y44 domain"
         },
         {
          "font": {
           "color": "#0173b2",
           "size": 19
          },
          "showarrow": false,
          "text": "skepinone-l",
          "x": 0.1,
          "xref": "x45 domain",
          "y": 0.95,
          "yref": "y45 domain"
         },
         {
          "font": {
           "color": "#de8f05",
           "size": 19
          },
          "showarrow": false,
          "text": "VX-745",
          "x": 0.9,
          "xref": "x45 domain",
          "y": 0.95,
          "yref": "y45 domain"
         },
         {
          "font": {
           "color": "#0173b2",
           "size": 19
          },
          "showarrow": false,
          "text": "sirolimus",
          "x": 0.1,
          "xref": "x46 domain",
          "y": 0.95,
          "yref": "y46 domain"
         },
         {
          "font": {
           "color": "#de8f05",
           "size": 19
          },
          "showarrow": false,
          "text": "AZD2014",
          "x": 0.9,
          "xref": "x46 domain",
          "y": 0.95,
          "yref": "y46 domain"
         },
         {
          "font": {
           "color": "#0173b2",
           "size": 19
          },
          "showarrow": false,
          "text": "IOX2",
          "x": 0.1,
          "xref": "x47 domain",
          "y": 0.95,
          "yref": "y47 domain"
         },
         {
          "font": {
           "color": "#de8f05",
           "size": 19
          },
          "showarrow": false,
          "text": "acriflavine",
          "x": 0.9,
          "xref": "x47 domain",
          "y": 0.95,
          "yref": "y47 domain"
         }
        ],
        "font": {
         "color": "Black",
         "family": "sans serif",
         "size": 19
        },
        "height": 2500,
        "plot_bgcolor": "rgba(0,0,0,0)",
        "template": {
         "data": {
          "bar": [
           {
            "error_x": {
             "color": "#2a3f5f"
            },
            "error_y": {
             "color": "#2a3f5f"
            },
            "marker": {
             "line": {
              "color": "#E5ECF6",
              "width": 0.5
             },
             "pattern": {
              "fillmode": "overlay",
              "size": 10,
              "solidity": 0.2
             }
            },
            "type": "bar"
           }
          ],
          "barpolar": [
           {
            "marker": {
             "line": {
              "color": "#E5ECF6",
              "width": 0.5
             },
             "pattern": {
              "fillmode": "overlay",
              "size": 10,
              "solidity": 0.2
             }
            },
            "type": "barpolar"
           }
          ],
          "carpet": [
           {
            "aaxis": {
             "endlinecolor": "#2a3f5f",
             "gridcolor": "white",
             "linecolor": "white",
             "minorgridcolor": "white",
             "startlinecolor": "#2a3f5f"
            },
            "baxis": {
             "endlinecolor": "#2a3f5f",
             "gridcolor": "white",
             "linecolor": "white",
             "minorgridcolor": "white",
             "startlinecolor": "#2a3f5f"
            },
            "type": "carpet"
           }
          ],
          "choropleth": [
           {
            "colorbar": {
             "outlinewidth": 0,
             "ticks": ""
            },
            "type": "choropleth"
           }
          ],
          "contour": [
           {
            "colorbar": {
             "outlinewidth": 0,
             "ticks": ""
            },
            "colorscale": [
             [
              0,
              "#0d0887"
             ],
             [
              0.1111111111111111,
              "#46039f"
             ],
             [
              0.2222222222222222,
              "#7201a8"
             ],
             [
              0.3333333333333333,
              "#9c179e"
             ],
             [
              0.4444444444444444,
              "#bd3786"
             ],
             [
              0.5555555555555556,
              "#d8576b"
             ],
             [
              0.6666666666666666,
              "#ed7953"
             ],
             [
              0.7777777777777778,
              "#fb9f3a"
             ],
             [
              0.8888888888888888,
              "#fdca26"
             ],
             [
              1,
              "#f0f921"
             ]
            ],
            "type": "contour"
           }
          ],
          "contourcarpet": [
           {
            "colorbar": {
             "outlinewidth": 0,
             "ticks": ""
            },
            "type": "contourcarpet"
           }
          ],
          "heatmap": [
           {
            "colorbar": {
             "outlinewidth": 0,
             "ticks": ""
            },
            "colorscale": [
             [
              0,
              "#0d0887"
             ],
             [
              0.1111111111111111,
              "#46039f"
             ],
             [
              0.2222222222222222,
              "#7201a8"
             ],
             [
              0.3333333333333333,
              "#9c179e"
             ],
             [
              0.4444444444444444,
              "#bd3786"
             ],
             [
              0.5555555555555556,
              "#d8576b"
             ],
             [
              0.6666666666666666,
              "#ed7953"
             ],
             [
              0.7777777777777778,
              "#fb9f3a"
             ],
             [
              0.8888888888888888,
              "#fdca26"
             ],
             [
              1,
              "#f0f921"
             ]
            ],
            "type": "heatmap"
           }
          ],
          "heatmapgl": [
           {
            "colorbar": {
             "outlinewidth": 0,
             "ticks": ""
            },
            "colorscale": [
             [
              0,
              "#0d0887"
             ],
             [
              0.1111111111111111,
              "#46039f"
             ],
             [
              0.2222222222222222,
              "#7201a8"
             ],
             [
              0.3333333333333333,
              "#9c179e"
             ],
             [
              0.4444444444444444,
              "#bd3786"
             ],
             [
              0.5555555555555556,
              "#d8576b"
             ],
             [
              0.6666666666666666,
              "#ed7953"
             ],
             [
              0.7777777777777778,
              "#fb9f3a"
             ],
             [
              0.8888888888888888,
              "#fdca26"
             ],
             [
              1,
              "#f0f921"
             ]
            ],
            "type": "heatmapgl"
           }
          ],
          "histogram": [
           {
            "marker": {
             "pattern": {
              "fillmode": "overlay",
              "size": 10,
              "solidity": 0.2
             }
            },
            "type": "histogram"
           }
          ],
          "histogram2d": [
           {
            "colorbar": {
             "outlinewidth": 0,
             "ticks": ""
            },
            "colorscale": [
             [
              0,
              "#0d0887"
             ],
             [
              0.1111111111111111,
              "#46039f"
             ],
             [
              0.2222222222222222,
              "#7201a8"
             ],
             [
              0.3333333333333333,
              "#9c179e"
             ],
             [
              0.4444444444444444,
              "#bd3786"
             ],
             [
              0.5555555555555556,
              "#d8576b"
             ],
             [
              0.6666666666666666,
              "#ed7953"
             ],
             [
              0.7777777777777778,
              "#fb9f3a"
             ],
             [
              0.8888888888888888,
              "#fdca26"
             ],
             [
              1,
              "#f0f921"
             ]
            ],
            "type": "histogram2d"
           }
          ],
          "histogram2dcontour": [
           {
            "colorbar": {
             "outlinewidth": 0,
             "ticks": ""
            },
            "colorscale": [
             [
              0,
              "#0d0887"
             ],
             [
              0.1111111111111111,
              "#46039f"
             ],
             [
              0.2222222222222222,
              "#7201a8"
             ],
             [
              0.3333333333333333,
              "#9c179e"
             ],
             [
              0.4444444444444444,
              "#bd3786"
             ],
             [
              0.5555555555555556,
              "#d8576b"
             ],
             [
              0.6666666666666666,
              "#ed7953"
             ],
             [
              0.7777777777777778,
              "#fb9f3a"
             ],
             [
              0.8888888888888888,
              "#fdca26"
             ],
             [
              1,
              "#f0f921"
             ]
            ],
            "type": "histogram2dcontour"
           }
          ],
          "mesh3d": [
           {
            "colorbar": {
             "outlinewidth": 0,
             "ticks": ""
            },
            "type": "mesh3d"
           }
          ],
          "parcoords": [
           {
            "line": {
             "colorbar": {
              "outlinewidth": 0,
              "ticks": ""
             }
            },
            "type": "parcoords"
           }
          ],
          "pie": [
           {
            "automargin": true,
            "type": "pie"
           }
          ],
          "scatter": [
           {
            "fillpattern": {
             "fillmode": "overlay",
             "size": 10,
             "solidity": 0.2
            },
            "type": "scatter"
           }
          ],
          "scatter3d": [
           {
            "line": {
             "colorbar": {
              "outlinewidth": 0,
              "ticks": ""
             }
            },
            "marker": {
             "colorbar": {
              "outlinewidth": 0,
              "ticks": ""
             }
            },
            "type": "scatter3d"
           }
          ],
          "scattercarpet": [
           {
            "marker": {
             "colorbar": {
              "outlinewidth": 0,
              "ticks": ""
             }
            },
            "type": "scattercarpet"
           }
          ],
          "scattergeo": [
           {
            "marker": {
             "colorbar": {
              "outlinewidth": 0,
              "ticks": ""
             }
            },
            "type": "scattergeo"
           }
          ],
          "scattergl": [
           {
            "marker": {
             "colorbar": {
              "outlinewidth": 0,
              "ticks": ""
             }
            },
            "type": "scattergl"
           }
          ],
          "scattermapbox": [
           {
            "marker": {
             "colorbar": {
              "outlinewidth": 0,
              "ticks": ""
             }
            },
            "type": "scattermapbox"
           }
          ],
          "scatterpolar": [
           {
            "marker": {
             "colorbar": {
              "outlinewidth": 0,
              "ticks": ""
             }
            },
            "type": "scatterpolar"
           }
          ],
          "scatterpolargl": [
           {
            "marker": {
             "colorbar": {
              "outlinewidth": 0,
              "ticks": ""
             }
            },
            "type": "scatterpolargl"
           }
          ],
          "scatterternary": [
           {
            "marker": {
             "colorbar": {
              "outlinewidth": 0,
              "ticks": ""
             }
            },
            "type": "scatterternary"
           }
          ],
          "surface": [
           {
            "colorbar": {
             "outlinewidth": 0,
             "ticks": ""
            },
            "colorscale": [
             [
              0,
              "#0d0887"
             ],
             [
              0.1111111111111111,
              "#46039f"
             ],
             [
              0.2222222222222222,
              "#7201a8"
             ],
             [
              0.3333333333333333,
              "#9c179e"
             ],
             [
              0.4444444444444444,
              "#bd3786"
             ],
             [
              0.5555555555555556,
              "#d8576b"
             ],
             [
              0.6666666666666666,
              "#ed7953"
             ],
             [
              0.7777777777777778,
              "#fb9f3a"
             ],
             [
              0.8888888888888888,
              "#fdca26"
             ],
             [
              1,
              "#f0f921"
             ]
            ],
            "type": "surface"
           }
          ],
          "table": [
           {
            "cells": {
             "fill": {
              "color": "#EBF0F8"
             },
             "line": {
              "color": "white"
             }
            },
            "header": {
             "fill": {
              "color": "#C8D4E3"
             },
             "line": {
              "color": "white"
             }
            },
            "type": "table"
           }
          ]
         },
         "layout": {
          "annotationdefaults": {
           "arrowcolor": "#2a3f5f",
           "arrowhead": 0,
           "arrowwidth": 1
          },
          "autotypenumbers": "strict",
          "coloraxis": {
           "colorbar": {
            "outlinewidth": 0,
            "ticks": ""
           }
          },
          "colorscale": {
           "diverging": [
            [
             0,
             "#8e0152"
            ],
            [
             0.1,
             "#c51b7d"
            ],
            [
             0.2,
             "#de77ae"
            ],
            [
             0.3,
             "#f1b6da"
            ],
            [
             0.4,
             "#fde0ef"
            ],
            [
             0.5,
             "#f7f7f7"
            ],
            [
             0.6,
             "#e6f5d0"
            ],
            [
             0.7,
             "#b8e186"
            ],
            [
             0.8,
             "#7fbc41"
            ],
            [
             0.9,
             "#4d9221"
            ],
            [
             1,
             "#276419"
            ]
           ],
           "sequential": [
            [
             0,
             "#0d0887"
            ],
            [
             0.1111111111111111,
             "#46039f"
            ],
            [
             0.2222222222222222,
             "#7201a8"
            ],
            [
             0.3333333333333333,
             "#9c179e"
            ],
            [
             0.4444444444444444,
             "#bd3786"
            ],
            [
             0.5555555555555556,
             "#d8576b"
            ],
            [
             0.6666666666666666,
             "#ed7953"
            ],
            [
             0.7777777777777778,
             "#fb9f3a"
            ],
            [
             0.8888888888888888,
             "#fdca26"
            ],
            [
             1,
             "#f0f921"
            ]
           ],
           "sequentialminus": [
            [
             0,
             "#0d0887"
            ],
            [
             0.1111111111111111,
             "#46039f"
            ],
            [
             0.2222222222222222,
             "#7201a8"
            ],
            [
             0.3333333333333333,
             "#9c179e"
            ],
            [
             0.4444444444444444,
             "#bd3786"
            ],
            [
             0.5555555555555556,
             "#d8576b"
            ],
            [
             0.6666666666666666,
             "#ed7953"
            ],
            [
             0.7777777777777778,
             "#fb9f3a"
            ],
            [
             0.8888888888888888,
             "#fdca26"
            ],
            [
             1,
             "#f0f921"
            ]
           ]
          },
          "colorway": [
           "#636efa",
           "#EF553B",
           "#00cc96",
           "#ab63fa",
           "#FFA15A",
           "#19d3f3",
           "#FF6692",
           "#B6E880",
           "#FF97FF",
           "#FECB52"
          ],
          "font": {
           "color": "#2a3f5f"
          },
          "geo": {
           "bgcolor": "white",
           "lakecolor": "white",
           "landcolor": "#E5ECF6",
           "showlakes": true,
           "showland": true,
           "subunitcolor": "white"
          },
          "hoverlabel": {
           "align": "left"
          },
          "hovermode": "closest",
          "mapbox": {
           "style": "light"
          },
          "paper_bgcolor": "white",
          "plot_bgcolor": "#E5ECF6",
          "polar": {
           "angularaxis": {
            "gridcolor": "white",
            "linecolor": "white",
            "ticks": ""
           },
           "bgcolor": "#E5ECF6",
           "radialaxis": {
            "gridcolor": "white",
            "linecolor": "white",
            "ticks": ""
           }
          },
          "scene": {
           "xaxis": {
            "backgroundcolor": "#E5ECF6",
            "gridcolor": "white",
            "gridwidth": 2,
            "linecolor": "white",
            "showbackground": true,
            "ticks": "",
            "zerolinecolor": "white"
           },
           "yaxis": {
            "backgroundcolor": "#E5ECF6",
            "gridcolor": "white",
            "gridwidth": 2,
            "linecolor": "white",
            "showbackground": true,
            "ticks": "",
            "zerolinecolor": "white"
           },
           "zaxis": {
            "backgroundcolor": "#E5ECF6",
            "gridcolor": "white",
            "gridwidth": 2,
            "linecolor": "white",
            "showbackground": true,
            "ticks": "",
            "zerolinecolor": "white"
           }
          },
          "shapedefaults": {
           "line": {
            "color": "#2a3f5f"
           }
          },
          "ternary": {
           "aaxis": {
            "gridcolor": "white",
            "linecolor": "white",
            "ticks": ""
           },
           "baxis": {
            "gridcolor": "white",
            "linecolor": "white",
            "ticks": ""
           },
           "bgcolor": "#E5ECF6",
           "caxis": {
            "gridcolor": "white",
            "linecolor": "white",
            "ticks": ""
           }
          },
          "title": {
           "x": 0.05
          },
          "xaxis": {
           "automargin": true,
           "gridcolor": "white",
           "linecolor": "white",
           "ticks": "",
           "title": {
            "standoff": 15
           },
           "zerolinecolor": "white",
           "zerolinewidth": 2
          },
          "yaxis": {
           "automargin": true,
           "gridcolor": "white",
           "linecolor": "white",
           "ticks": "",
           "title": {
            "standoff": 15
           },
           "zerolinecolor": "white",
           "zerolinewidth": 2
          }
         }
        },
        "width": 2000,
        "xaxis": {
         "anchor": "y",
         "domain": [
          0,
          0.184
         ],
         "linecolor": "black",
         "matches": "x46",
         "showticklabels": false,
         "tickangle": 90,
         "tickfont": {
          "size": 24
         }
        },
        "xaxis10": {
         "anchor": "y10",
         "domain": [
          0.816,
          1
         ],
         "linecolor": "black",
         "matches": "x50",
         "showticklabels": false,
         "tickangle": 90,
         "tickfont": {
          "size": 24
         }
        },
        "xaxis11": {
         "anchor": "y11",
         "domain": [
          0,
          0.184
         ],
         "linecolor": "black",
         "matches": "x46",
         "showticklabels": false,
         "tickangle": 90,
         "tickfont": {
          "size": 24
         }
        },
        "xaxis12": {
         "anchor": "y12",
         "domain": [
          0.204,
          0.388
         ],
         "linecolor": "black",
         "matches": "x47",
         "showticklabels": false,
         "tickangle": 90,
         "tickfont": {
          "size": 24
         }
        },
        "xaxis13": {
         "anchor": "y13",
         "domain": [
          0.408,
          0.592
         ],
         "linecolor": "black",
         "matches": "x48",
         "showticklabels": false,
         "tickangle": 90,
         "tickfont": {
          "size": 24
         }
        },
        "xaxis14": {
         "anchor": "y14",
         "domain": [
          0.6120000000000001,
          0.796
         ],
         "linecolor": "black",
         "matches": "x49",
         "showticklabels": false,
         "tickangle": 90,
         "tickfont": {
          "size": 24
         }
        },
        "xaxis15": {
         "anchor": "y15",
         "domain": [
          0.816,
          1
         ],
         "linecolor": "black",
         "matches": "x50",
         "showticklabels": false,
         "tickangle": 90,
         "tickfont": {
          "size": 24
         }
        },
        "xaxis16": {
         "anchor": "y16",
         "domain": [
          0,
          0.184
         ],
         "linecolor": "black",
         "matches": "x46",
         "showticklabels": false,
         "tickangle": 90,
         "tickfont": {
          "size": 24
         }
        },
        "xaxis17": {
         "anchor": "y17",
         "domain": [
          0.204,
          0.388
         ],
         "linecolor": "black",
         "matches": "x47",
         "showticklabels": false,
         "tickangle": 90,
         "tickfont": {
          "size": 24
         }
        },
        "xaxis18": {
         "anchor": "y18",
         "domain": [
          0.408,
          0.592
         ],
         "linecolor": "black",
         "matches": "x48",
         "showticklabels": false,
         "tickangle": 90,
         "tickfont": {
          "size": 24
         }
        },
        "xaxis19": {
         "anchor": "y19",
         "domain": [
          0.6120000000000001,
          0.796
         ],
         "linecolor": "black",
         "matches": "x49",
         "showticklabels": false,
         "tickangle": 90,
         "tickfont": {
          "size": 24
         }
        },
        "xaxis2": {
         "anchor": "y2",
         "domain": [
          0.204,
          0.388
         ],
         "linecolor": "black",
         "matches": "x47",
         "showticklabels": false,
         "tickangle": 90,
         "tickfont": {
          "size": 24
         }
        },
        "xaxis20": {
         "anchor": "y20",
         "domain": [
          0.816,
          1
         ],
         "linecolor": "black",
         "matches": "x50",
         "showticklabels": false,
         "tickangle": 90,
         "tickfont": {
          "size": 24
         }
        },
        "xaxis21": {
         "anchor": "y21",
         "domain": [
          0,
          0.184
         ],
         "linecolor": "black",
         "matches": "x46",
         "showticklabels": false,
         "tickangle": 90,
         "tickfont": {
          "size": 24
         }
        },
        "xaxis22": {
         "anchor": "y22",
         "domain": [
          0.204,
          0.388
         ],
         "linecolor": "black",
         "matches": "x47",
         "showticklabels": false,
         "tickangle": 90,
         "tickfont": {
          "size": 24
         }
        },
        "xaxis23": {
         "anchor": "y23",
         "domain": [
          0.408,
          0.592
         ],
         "linecolor": "black",
         "matches": "x48",
         "showticklabels": false,
         "tickangle": 90,
         "tickfont": {
          "size": 24
         }
        },
        "xaxis24": {
         "anchor": "y24",
         "domain": [
          0.6120000000000001,
          0.796
         ],
         "linecolor": "black",
         "matches": "x49",
         "showticklabels": false,
         "tickangle": 90,
         "tickfont": {
          "size": 24
         }
        },
        "xaxis25": {
         "anchor": "y25",
         "domain": [
          0.816,
          1
         ],
         "linecolor": "black",
         "matches": "x50",
         "showticklabels": false,
         "tickangle": 90,
         "tickfont": {
          "size": 24
         }
        },
        "xaxis26": {
         "anchor": "y26",
         "domain": [
          0,
          0.184
         ],
         "linecolor": "black",
         "matches": "x46",
         "showticklabels": false,
         "tickangle": 90,
         "tickfont": {
          "size": 24
         }
        },
        "xaxis27": {
         "anchor": "y27",
         "domain": [
          0.204,
          0.388
         ],
         "linecolor": "black",
         "matches": "x47",
         "showticklabels": false,
         "tickangle": 90,
         "tickfont": {
          "size": 24
         }
        },
        "xaxis28": {
         "anchor": "y28",
         "domain": [
          0.408,
          0.592
         ],
         "linecolor": "black",
         "matches": "x48",
         "showticklabels": false,
         "tickangle": 90,
         "tickfont": {
          "size": 24
         }
        },
        "xaxis29": {
         "anchor": "y29",
         "domain": [
          0.6120000000000001,
          0.796
         ],
         "linecolor": "black",
         "matches": "x49",
         "showticklabels": false,
         "tickangle": 90,
         "tickfont": {
          "size": 24
         }
        },
        "xaxis3": {
         "anchor": "y3",
         "domain": [
          0.408,
          0.592
         ],
         "linecolor": "black",
         "matches": "x48",
         "showticklabels": false,
         "tickangle": 90,
         "tickfont": {
          "size": 24
         }
        },
        "xaxis30": {
         "anchor": "y30",
         "domain": [
          0.816,
          1
         ],
         "linecolor": "black",
         "matches": "x50",
         "showticklabels": false,
         "tickangle": 90,
         "tickfont": {
          "size": 24
         }
        },
        "xaxis31": {
         "anchor": "y31",
         "domain": [
          0,
          0.184
         ],
         "linecolor": "black",
         "matches": "x46",
         "showticklabels": false,
         "tickangle": 90,
         "tickfont": {
          "size": 24
         }
        },
        "xaxis32": {
         "anchor": "y32",
         "domain": [
          0.204,
          0.388
         ],
         "linecolor": "black",
         "matches": "x47",
         "showticklabels": false,
         "tickangle": 90,
         "tickfont": {
          "size": 24
         }
        },
        "xaxis33": {
         "anchor": "y33",
         "domain": [
          0.408,
          0.592
         ],
         "linecolor": "black",
         "matches": "x48",
         "showticklabels": false,
         "tickangle": 90,
         "tickfont": {
          "size": 24
         }
        },
        "xaxis34": {
         "anchor": "y34",
         "domain": [
          0.6120000000000001,
          0.796
         ],
         "linecolor": "black",
         "matches": "x49",
         "showticklabels": false,
         "tickangle": 90,
         "tickfont": {
          "size": 24
         }
        },
        "xaxis35": {
         "anchor": "y35",
         "domain": [
          0.816,
          1
         ],
         "linecolor": "black",
         "matches": "x50",
         "showticklabels": false,
         "tickangle": 90,
         "tickfont": {
          "size": 24
         }
        },
        "xaxis36": {
         "anchor": "y36",
         "domain": [
          0,
          0.184
         ],
         "linecolor": "black",
         "matches": "x46",
         "showticklabels": false,
         "tickangle": 90,
         "tickfont": {
          "size": 24
         }
        },
        "xaxis37": {
         "anchor": "y37",
         "domain": [
          0.204,
          0.388
         ],
         "linecolor": "black",
         "matches": "x47",
         "showticklabels": false,
         "tickangle": 90,
         "tickfont": {
          "size": 24
         }
        },
        "xaxis38": {
         "anchor": "y38",
         "domain": [
          0.408,
          0.592
         ],
         "linecolor": "black",
         "matches": "x48",
         "showticklabels": false,
         "tickangle": 90,
         "tickfont": {
          "size": 24
         }
        },
        "xaxis39": {
         "anchor": "y39",
         "domain": [
          0.6120000000000001,
          0.796
         ],
         "linecolor": "black",
         "matches": "x49",
         "showticklabels": false,
         "tickangle": 90,
         "tickfont": {
          "size": 24
         }
        },
        "xaxis4": {
         "anchor": "y4",
         "domain": [
          0.6120000000000001,
          0.796
         ],
         "linecolor": "black",
         "matches": "x49",
         "showticklabels": false,
         "tickangle": 90,
         "tickfont": {
          "size": 24
         }
        },
        "xaxis40": {
         "anchor": "y40",
         "domain": [
          0.816,
          1
         ],
         "linecolor": "black",
         "matches": "x50",
         "showticklabels": false,
         "tickangle": 90,
         "tickfont": {
          "size": 24
         }
        },
        "xaxis41": {
         "anchor": "y41",
         "domain": [
          0,
          0.184
         ],
         "linecolor": "black",
         "matches": "x46",
         "showticklabels": false,
         "tickangle": 90,
         "tickfont": {
          "size": 24
         }
        },
        "xaxis42": {
         "anchor": "y42",
         "domain": [
          0.204,
          0.388
         ],
         "linecolor": "black",
         "matches": "x47",
         "showticklabels": false,
         "tickangle": 90,
         "tickfont": {
          "size": 24
         }
        },
        "xaxis43": {
         "anchor": "y43",
         "domain": [
          0.408,
          0.592
         ],
         "linecolor": "black",
         "matches": "x48",
         "showticklabels": false,
         "tickangle": 90,
         "tickfont": {
          "size": 24
         }
        },
        "xaxis44": {
         "anchor": "y44",
         "domain": [
          0.6120000000000001,
          0.796
         ],
         "linecolor": "black",
         "matches": "x49",
         "showticklabels": false,
         "tickangle": 90,
         "tickfont": {
          "size": 24
         }
        },
        "xaxis45": {
         "anchor": "y45",
         "domain": [
          0.816,
          1
         ],
         "linecolor": "black",
         "matches": "x50",
         "showticklabels": false,
         "tickangle": 90,
         "tickfont": {
          "size": 24
         }
        },
        "xaxis46": {
         "anchor": "y46",
         "domain": [
          0,
          0.184
         ],
         "linecolor": "black",
         "tickangle": 90,
         "tickfont": {
          "size": 24
         }
        },
        "xaxis47": {
         "anchor": "y47",
         "domain": [
          0.204,
          0.388
         ],
         "linecolor": "black",
         "tickangle": 90,
         "tickfont": {
          "size": 24
         }
        },
        "xaxis48": {
         "anchor": "y48",
         "domain": [
          0.408,
          0.592
         ],
         "linecolor": "black",
         "tickangle": 90,
         "tickfont": {
          "size": 24
         }
        },
        "xaxis49": {
         "anchor": "y49",
         "domain": [
          0.6120000000000001,
          0.796
         ],
         "linecolor": "black",
         "tickangle": 90,
         "tickfont": {
          "size": 24
         }
        },
        "xaxis5": {
         "anchor": "y5",
         "domain": [
          0.816,
          1
         ],
         "linecolor": "black",
         "matches": "x50",
         "showticklabels": false,
         "tickangle": 90,
         "tickfont": {
          "size": 24
         }
        },
        "xaxis50": {
         "anchor": "y50",
         "domain": [
          0.816,
          1
         ],
         "linecolor": "black",
         "tickangle": 90,
         "tickfont": {
          "size": 24
         }
        },
        "xaxis6": {
         "anchor": "y6",
         "domain": [
          0,
          0.184
         ],
         "linecolor": "black",
         "matches": "x46",
         "showticklabels": false,
         "tickangle": 90,
         "tickfont": {
          "size": 24
         }
        },
        "xaxis7": {
         "anchor": "y7",
         "domain": [
          0.204,
          0.388
         ],
         "linecolor": "black",
         "matches": "x47",
         "showticklabels": false,
         "tickangle": 90,
         "tickfont": {
          "size": 24
         }
        },
        "xaxis8": {
         "anchor": "y8",
         "domain": [
          0.408,
          0.592
         ],
         "linecolor": "black",
         "matches": "x48",
         "showticklabels": false,
         "tickangle": 90,
         "tickfont": {
          "size": 24
         }
        },
        "xaxis9": {
         "anchor": "y9",
         "domain": [
          0.6120000000000001,
          0.796
         ],
         "linecolor": "black",
         "matches": "x49",
         "showticklabels": false,
         "tickangle": 90,
         "tickfont": {
          "size": 24
         }
        },
        "yaxis": {
         "anchor": "x",
         "domain": [
          0.9179999999999999,
          0.9999999999999999
         ],
         "linecolor": "black",
         "range": [
          0,
          1.3
         ],
         "tickfont": {
          "size": 24
         },
         "title": {
          "font": {
           "size": 34
          }
         }
        },
        "yaxis10": {
         "anchor": "x10",
         "domain": [
          0.8160000000000001,
          0.898
         ],
         "linecolor": "black",
         "range": [
          0,
          1.3
         ],
         "tickfont": {
          "size": 24
         }
        },
        "yaxis11": {
         "anchor": "x11",
         "domain": [
          0.7140000000000001,
          0.796
         ],
         "linecolor": "black",
         "range": [
          0,
          1.3
         ],
         "tickfont": {
          "size": 24
         }
        },
        "yaxis12": {
         "anchor": "x12",
         "domain": [
          0.7140000000000001,
          0.796
         ],
         "linecolor": "black",
         "range": [
          0,
          1.3
         ],
         "tickfont": {
          "size": 24
         }
        },
        "yaxis13": {
         "anchor": "x13",
         "domain": [
          0.7140000000000001,
          0.796
         ],
         "linecolor": "black",
         "range": [
          0,
          1.3
         ],
         "tickfont": {
          "size": 24
         }
        },
        "yaxis14": {
         "anchor": "x14",
         "domain": [
          0.7140000000000001,
          0.796
         ],
         "linecolor": "black",
         "range": [
          0,
          1.3
         ],
         "tickfont": {
          "size": 24
         }
        },
        "yaxis15": {
         "anchor": "x15",
         "domain": [
          0.7140000000000001,
          0.796
         ],
         "linecolor": "black",
         "range": [
          0,
          1.3
         ],
         "tickfont": {
          "size": 24
         }
        },
        "yaxis16": {
         "anchor": "x16",
         "domain": [
          0.612,
          0.694
         ],
         "linecolor": "black",
         "range": [
          0,
          1.3
         ],
         "tickfont": {
          "size": 24
         }
        },
        "yaxis17": {
         "anchor": "x17",
         "domain": [
          0.612,
          0.694
         ],
         "linecolor": "black",
         "range": [
          0,
          1.3
         ],
         "tickfont": {
          "size": 24
         }
        },
        "yaxis18": {
         "anchor": "x18",
         "domain": [
          0.612,
          0.694
         ],
         "linecolor": "black",
         "range": [
          0,
          1.3
         ],
         "tickfont": {
          "size": 24
         }
        },
        "yaxis19": {
         "anchor": "x19",
         "domain": [
          0.612,
          0.694
         ],
         "linecolor": "black",
         "range": [
          0,
          1.3
         ],
         "tickfont": {
          "size": 24
         }
        },
        "yaxis2": {
         "anchor": "x2",
         "domain": [
          0.9179999999999999,
          0.9999999999999999
         ],
         "linecolor": "black",
         "range": [
          0,
          1.3
         ],
         "tickfont": {
          "size": 24
         }
        },
        "yaxis20": {
         "anchor": "x20",
         "domain": [
          0.612,
          0.694
         ],
         "linecolor": "black",
         "range": [
          0,
          1.3
         ],
         "tickfont": {
          "size": 24
         }
        },
        "yaxis21": {
         "anchor": "x21",
         "domain": [
          0.51,
          0.592
         ],
         "linecolor": "black",
         "range": [
          0,
          1.3
         ],
         "tickfont": {
          "size": 24
         }
        },
        "yaxis22": {
         "anchor": "x22",
         "domain": [
          0.51,
          0.592
         ],
         "linecolor": "black",
         "range": [
          0,
          1.3
         ],
         "tickfont": {
          "size": 24
         }
        },
        "yaxis23": {
         "anchor": "x23",
         "domain": [
          0.51,
          0.592
         ],
         "linecolor": "black",
         "range": [
          0,
          1.3
         ],
         "tickfont": {
          "size": 24
         }
        },
        "yaxis24": {
         "anchor": "x24",
         "domain": [
          0.51,
          0.592
         ],
         "linecolor": "black",
         "range": [
          0,
          1.3
         ],
         "tickfont": {
          "size": 24
         }
        },
        "yaxis25": {
         "anchor": "x25",
         "domain": [
          0.51,
          0.592
         ],
         "linecolor": "black",
         "range": [
          0,
          1.3
         ],
         "tickfont": {
          "size": 24
         }
        },
        "yaxis26": {
         "anchor": "x26",
         "domain": [
          0.40800000000000003,
          0.49000000000000005
         ],
         "linecolor": "black",
         "range": [
          0,
          1.3
         ],
         "tickfont": {
          "size": 24
         }
        },
        "yaxis27": {
         "anchor": "x27",
         "domain": [
          0.40800000000000003,
          0.49000000000000005
         ],
         "linecolor": "black",
         "range": [
          0,
          1.3
         ],
         "tickfont": {
          "size": 24
         }
        },
        "yaxis28": {
         "anchor": "x28",
         "domain": [
          0.40800000000000003,
          0.49000000000000005
         ],
         "linecolor": "black",
         "range": [
          0,
          1.3
         ],
         "tickfont": {
          "size": 24
         }
        },
        "yaxis29": {
         "anchor": "x29",
         "domain": [
          0.40800000000000003,
          0.49000000000000005
         ],
         "linecolor": "black",
         "range": [
          0,
          1.3
         ],
         "tickfont": {
          "size": 24
         }
        },
        "yaxis3": {
         "anchor": "x3",
         "domain": [
          0.9179999999999999,
          0.9999999999999999
         ],
         "linecolor": "black",
         "range": [
          0,
          1.3
         ],
         "tickfont": {
          "size": 24
         }
        },
        "yaxis30": {
         "anchor": "x30",
         "domain": [
          0.40800000000000003,
          0.49000000000000005
         ],
         "linecolor": "black",
         "range": [
          0,
          1.3
         ],
         "tickfont": {
          "size": 24
         }
        },
        "yaxis31": {
         "anchor": "x31",
         "domain": [
          0.306,
          0.388
         ],
         "linecolor": "black",
         "range": [
          0,
          1.3
         ],
         "tickfont": {
          "size": 24
         }
        },
        "yaxis32": {
         "anchor": "x32",
         "domain": [
          0.306,
          0.388
         ],
         "linecolor": "black",
         "range": [
          0,
          1.3
         ],
         "tickfont": {
          "size": 24
         }
        },
        "yaxis33": {
         "anchor": "x33",
         "domain": [
          0.306,
          0.388
         ],
         "linecolor": "black",
         "range": [
          0,
          1.3
         ],
         "tickfont": {
          "size": 24
         }
        },
        "yaxis34": {
         "anchor": "x34",
         "domain": [
          0.306,
          0.388
         ],
         "linecolor": "black",
         "range": [
          0,
          1.3
         ],
         "tickfont": {
          "size": 24
         }
        },
        "yaxis35": {
         "anchor": "x35",
         "domain": [
          0.306,
          0.388
         ],
         "linecolor": "black",
         "range": [
          0,
          1.3
         ],
         "tickfont": {
          "size": 24
         }
        },
        "yaxis36": {
         "anchor": "x36",
         "domain": [
          0.20400000000000001,
          0.28600000000000003
         ],
         "linecolor": "black",
         "range": [
          0,
          1.3
         ],
         "tickfont": {
          "size": 24
         }
        },
        "yaxis37": {
         "anchor": "x37",
         "domain": [
          0.20400000000000001,
          0.28600000000000003
         ],
         "linecolor": "black",
         "range": [
          0,
          1.3
         ],
         "tickfont": {
          "size": 24
         }
        },
        "yaxis38": {
         "anchor": "x38",
         "domain": [
          0.20400000000000001,
          0.28600000000000003
         ],
         "linecolor": "black",
         "range": [
          0,
          1.3
         ],
         "tickfont": {
          "size": 24
         }
        },
        "yaxis39": {
         "anchor": "x39",
         "domain": [
          0.20400000000000001,
          0.28600000000000003
         ],
         "linecolor": "black",
         "range": [
          0,
          1.3
         ],
         "tickfont": {
          "size": 24
         }
        },
        "yaxis4": {
         "anchor": "x4",
         "domain": [
          0.9179999999999999,
          0.9999999999999999
         ],
         "linecolor": "black",
         "range": [
          0,
          1.3
         ],
         "tickfont": {
          "size": 24
         }
        },
        "yaxis40": {
         "anchor": "x40",
         "domain": [
          0.20400000000000001,
          0.28600000000000003
         ],
         "linecolor": "black",
         "range": [
          0,
          1.3
         ],
         "tickfont": {
          "size": 24
         }
        },
        "yaxis41": {
         "anchor": "x41",
         "domain": [
          0.10200000000000001,
          0.184
         ],
         "linecolor": "black",
         "range": [
          0,
          1.3
         ],
         "tickfont": {
          "size": 24
         }
        },
        "yaxis42": {
         "anchor": "x42",
         "domain": [
          0.10200000000000001,
          0.184
         ],
         "linecolor": "black",
         "range": [
          0,
          1.3
         ],
         "tickfont": {
          "size": 24
         }
        },
        "yaxis43": {
         "anchor": "x43",
         "domain": [
          0.10200000000000001,
          0.184
         ],
         "linecolor": "black",
         "range": [
          0,
          1.3
         ],
         "tickfont": {
          "size": 24
         }
        },
        "yaxis44": {
         "anchor": "x44",
         "domain": [
          0.10200000000000001,
          0.184
         ],
         "linecolor": "black",
         "range": [
          0,
          1.3
         ],
         "tickfont": {
          "size": 24
         }
        },
        "yaxis45": {
         "anchor": "x45",
         "domain": [
          0.10200000000000001,
          0.184
         ],
         "linecolor": "black",
         "range": [
          0,
          1.3
         ],
         "tickfont": {
          "size": 24
         }
        },
        "yaxis46": {
         "anchor": "x46",
         "domain": [
          0,
          0.082
         ],
         "linecolor": "black",
         "range": [
          0,
          1.3
         ],
         "tickfont": {
          "size": 24
         }
        },
        "yaxis47": {
         "anchor": "x47",
         "domain": [
          0,
          0.082
         ],
         "linecolor": "black",
         "range": [
          0,
          1.3
         ],
         "tickfont": {
          "size": 24
         }
        },
        "yaxis48": {
         "anchor": "x48",
         "domain": [
          0,
          0.082
         ],
         "linecolor": "black",
         "range": [
          0,
          1.3
         ],
         "tickfont": {
          "size": 24
         }
        },
        "yaxis49": {
         "anchor": "x49",
         "domain": [
          0,
          0.082
         ],
         "linecolor": "black",
         "range": [
          0,
          1.3
         ],
         "tickfont": {
          "size": 24
         }
        },
        "yaxis5": {
         "anchor": "x5",
         "domain": [
          0.9179999999999999,
          0.9999999999999999
         ],
         "linecolor": "black",
         "range": [
          0,
          1.3
         ],
         "tickfont": {
          "size": 24
         }
        },
        "yaxis50": {
         "anchor": "x50",
         "domain": [
          0,
          0.082
         ],
         "linecolor": "black",
         "range": [
          0,
          1.3
         ],
         "tickfont": {
          "size": 24
         }
        },
        "yaxis6": {
         "anchor": "x6",
         "domain": [
          0.8160000000000001,
          0.898
         ],
         "linecolor": "black",
         "range": [
          0,
          1.3
         ],
         "tickfont": {
          "size": 24
         }
        },
        "yaxis7": {
         "anchor": "x7",
         "domain": [
          0.8160000000000001,
          0.898
         ],
         "linecolor": "black",
         "range": [
          0,
          1.3
         ],
         "tickfont": {
          "size": 24
         }
        },
        "yaxis8": {
         "anchor": "x8",
         "domain": [
          0.8160000000000001,
          0.898
         ],
         "linecolor": "black",
         "range": [
          0,
          1.3
         ],
         "tickfont": {
          "size": 24
         }
        },
        "yaxis9": {
         "anchor": "x9",
         "domain": [
          0.8160000000000001,
          0.898
         ],
         "linecolor": "black",
         "range": [
          0,
          1.3
         ],
         "tickfont": {
          "size": 24
         }
        }
       }
      }
     },
     "metadata": {},
     "output_type": "display_data"
    }
   ],
   "source": [
    "plot"
   ]
  }
 ],
 "metadata": {
  "kernelspec": {
   "display_name": "copairs",
   "language": "python",
   "name": "python3"
  },
  "language_info": {
   "codemirror_mode": {
    "name": "ipython",
    "version": 3
   },
   "file_extension": ".py",
   "mimetype": "text/x-python",
   "name": "python",
   "nbconvert_exporter": "python",
   "pygments_lexer": "ipython3",
   "version": "3.12.2"
  }
 },
 "nbformat": 4,
 "nbformat_minor": 2
}
