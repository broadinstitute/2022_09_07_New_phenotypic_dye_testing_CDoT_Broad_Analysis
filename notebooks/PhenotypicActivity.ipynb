{
 "cells": [
  {
   "cell_type": "code",
   "execution_count": 20,
   "metadata": {},
   "outputs": [
    {
     "name": "stdout",
     "output_type": "stream",
     "text": [
      "Python 3.12.2\n"
     ]
    }
   ],
   "source": [
    "!python --version"
   ]
  },
  {
   "cell_type": "code",
   "execution_count": 21,
   "metadata": {},
   "outputs": [
    {
     "name": "stdout",
     "output_type": "stream",
     "text": [
      "The autoreload extension is already loaded. To reload it, use:\n",
      "  %reload_ext autoreload\n"
     ]
    }
   ],
   "source": [
    "#importing necessary modules \n",
    "import pandas as pd\n",
    "import numpy as np\n",
    "import matplotlib.pyplot as plt\n",
    "from sklearn.decomposition import PCA\n",
    "from sklearn.preprocessing import StandardScaler\n",
    "import plotly.graph_objects as go\n",
    "from plotly.subplots import make_subplots\n",
    "import plotly.express as px\n",
    "import seaborn as sns\n",
    "import copairs\n",
    "import pycytominer\n",
    "from copairs.map import average_precision\n",
    "from copairs.map import mean_average_precision\n",
    "from utils import * \n",
    "\n",
    "%load_ext autoreload\n",
    "%autoreload 2"
   ]
  },
  {
   "cell_type": "code",
   "execution_count": 23,
   "metadata": {},
   "outputs": [
    {
     "name": "stdout",
     "output_type": "stream",
     "text": [
      "Name: copairs\n",
      "Version: 0.4.1\n",
      "Summary: Find pairs and compute metrics between them\n",
      "Home-page: \n",
      "Author: \n",
      "Author-email: John Arevalo <johnarevalo@gmail.com>\n",
      "License: \n",
      "Location: c:\\Users\\ssivagur\\Anaconda3\\envs\\copairs\\Lib\\site-packages\n",
      "Requires: pandas, statsmodels, tqdm\n",
      "Required-by: \n",
      "Note: you may need to restart the kernel to use updated packages.\n"
     ]
    }
   ],
   "source": [
    "pip show copairs"
   ]
  },
  {
   "cell_type": "markdown",
   "metadata": {},
   "source": [
    "#### Reading the dataframes "
   ]
  },
  {
   "cell_type": "code",
   "execution_count": 24,
   "metadata": {},
   "outputs": [],
   "source": [
    "#Reading the normalized and feature selected files for copairs - fixed cells and 48h time point\n",
    "dict_to_load_feature_selected = {'c:\\\\Users\\\\ssivagur\\\\Documents\\\\Projects\\\\Cell_painting_projects\\\\CDoT\\\\Batch3_analysis_redo\\\\UpdatedCopairsVersion\\\\BR00122250_normalized_feature_select_negcon_batch.csv':'Standard CP',\n",
    "                                 'c:\\\\Users\\\\ssivagur\\\\Documents\\\\Projects\\\\Cell_painting_projects\\\\CDoT\\\\Batch3_analysis_redo\\\\UpdatedCopairsVersion\\\\BR00122246_normalized_feature_select_negcon_batch.csv':'CP + MitoBrilliant',\n",
    "                                 'c:\\\\Users\\\\ssivagur\\\\Documents\\\\Projects\\\\Cell_painting_projects\\\\CDoT\\\\Batch3_analysis_redo\\\\UpdatedCopairsVersion\\\\BR00122247_normalized_feature_select_negcon_batch.csv':'CP + Phenovue phalloidin 400LS',\n",
    "                                 'c:\\\\Users\\\\ssivagur\\\\Documents\\\\Projects\\\\Cell_painting_projects\\\\CDoT\\\\Batch3_analysis_redo\\\\UpdatedCopairsVersion\\\\BR00122248_normalized_feature_select_negcon_batch.csv':'Standard CP (exposed to ChromaLive)',\n",
    "                                 'c:\\\\Users\\\\ssivagur\\\\Documents\\\\Projects\\\\Cell_painting_projects\\\\CDoT\\\\Batch3_analysis_redo\\\\UpdatedCopairsVersion\\\\BR00122249_normalized_feature_select_negcon_batch_wo_phasefeatures.csv':'ChromaLive + Hoechst'\n",
    "\n",
    "}\n"
   ]
  },
  {
   "cell_type": "markdown",
   "metadata": {},
   "source": [
    "#### Overall mAP"
   ]
  },
  {
   "cell_type": "code",
   "execution_count": 25,
   "metadata": {},
   "outputs": [
    {
     "name": "stderr",
     "output_type": "stream",
     "text": [
      "c:\\Users\\ssivagur\\Documents\\GitHub\\2022_09_07_New_phenotypic_dye_testing_CDoT_Broad_Analysis\\notebooks\\utils.py:53: FutureWarning:\n",
      "\n",
      "A value is trying to be set on a copy of a DataFrame or Series through chained assignment using an inplace method.\n",
      "The behavior will change in pandas 3.0. This inplace method will never work because the intermediate object on which we are setting values always behaves as a copy.\n",
      "\n",
      "For example, when doing 'df[col].method(value, inplace=True)', try using 'df.method({col: value}, inplace=True)' or df[col] = df[col].method(value) instead, to perform the operation inplace on the original object.\n",
      "\n",
      "\n",
      "\n",
      "c:\\Users\\ssivagur\\Documents\\GitHub\\2022_09_07_New_phenotypic_dye_testing_CDoT_Broad_Analysis\\notebooks\\utils.py:54: FutureWarning:\n",
      "\n",
      "A value is trying to be set on a copy of a DataFrame or Series through chained assignment using an inplace method.\n",
      "The behavior will change in pandas 3.0. This inplace method will never work because the intermediate object on which we are setting values always behaves as a copy.\n",
      "\n",
      "For example, when doing 'df[col].method(value, inplace=True)', try using 'df.method({col: value}, inplace=True)' or df[col] = df[col].method(value) instead, to perform the operation inplace on the original object.\n",
      "\n",
      "\n",
      "\n",
      "c:\\Users\\ssivagur\\Documents\\GitHub\\2022_09_07_New_phenotypic_dye_testing_CDoT_Broad_Analysis\\notebooks\\utils.py:53: FutureWarning:\n",
      "\n",
      "A value is trying to be set on a copy of a DataFrame or Series through chained assignment using an inplace method.\n",
      "The behavior will change in pandas 3.0. This inplace method will never work because the intermediate object on which we are setting values always behaves as a copy.\n",
      "\n",
      "For example, when doing 'df[col].method(value, inplace=True)', try using 'df.method({col: value}, inplace=True)' or df[col] = df[col].method(value) instead, to perform the operation inplace on the original object.\n",
      "\n",
      "\n",
      "\n",
      "c:\\Users\\ssivagur\\Documents\\GitHub\\2022_09_07_New_phenotypic_dye_testing_CDoT_Broad_Analysis\\notebooks\\utils.py:54: FutureWarning:\n",
      "\n",
      "A value is trying to be set on a copy of a DataFrame or Series through chained assignment using an inplace method.\n",
      "The behavior will change in pandas 3.0. This inplace method will never work because the intermediate object on which we are setting values always behaves as a copy.\n",
      "\n",
      "For example, when doing 'df[col].method(value, inplace=True)', try using 'df.method({col: value}, inplace=True)' or df[col] = df[col].method(value) instead, to perform the operation inplace on the original object.\n",
      "\n",
      "\n",
      "\n",
      "c:\\Users\\ssivagur\\Documents\\GitHub\\2022_09_07_New_phenotypic_dye_testing_CDoT_Broad_Analysis\\notebooks\\utils.py:53: FutureWarning:\n",
      "\n",
      "A value is trying to be set on a copy of a DataFrame or Series through chained assignment using an inplace method.\n",
      "The behavior will change in pandas 3.0. This inplace method will never work because the intermediate object on which we are setting values always behaves as a copy.\n",
      "\n",
      "For example, when doing 'df[col].method(value, inplace=True)', try using 'df.method({col: value}, inplace=True)' or df[col] = df[col].method(value) instead, to perform the operation inplace on the original object.\n",
      "\n",
      "\n",
      "\n",
      "c:\\Users\\ssivagur\\Documents\\GitHub\\2022_09_07_New_phenotypic_dye_testing_CDoT_Broad_Analysis\\notebooks\\utils.py:54: FutureWarning:\n",
      "\n",
      "A value is trying to be set on a copy of a DataFrame or Series through chained assignment using an inplace method.\n",
      "The behavior will change in pandas 3.0. This inplace method will never work because the intermediate object on which we are setting values always behaves as a copy.\n",
      "\n",
      "For example, when doing 'df[col].method(value, inplace=True)', try using 'df.method({col: value}, inplace=True)' or df[col] = df[col].method(value) instead, to perform the operation inplace on the original object.\n",
      "\n",
      "\n",
      "\n",
      "c:\\Users\\ssivagur\\Documents\\GitHub\\2022_09_07_New_phenotypic_dye_testing_CDoT_Broad_Analysis\\notebooks\\utils.py:53: FutureWarning:\n",
      "\n",
      "A value is trying to be set on a copy of a DataFrame or Series through chained assignment using an inplace method.\n",
      "The behavior will change in pandas 3.0. This inplace method will never work because the intermediate object on which we are setting values always behaves as a copy.\n",
      "\n",
      "For example, when doing 'df[col].method(value, inplace=True)', try using 'df.method({col: value}, inplace=True)' or df[col] = df[col].method(value) instead, to perform the operation inplace on the original object.\n",
      "\n",
      "\n",
      "\n",
      "c:\\Users\\ssivagur\\Documents\\GitHub\\2022_09_07_New_phenotypic_dye_testing_CDoT_Broad_Analysis\\notebooks\\utils.py:54: FutureWarning:\n",
      "\n",
      "A value is trying to be set on a copy of a DataFrame or Series through chained assignment using an inplace method.\n",
      "The behavior will change in pandas 3.0. This inplace method will never work because the intermediate object on which we are setting values always behaves as a copy.\n",
      "\n",
      "For example, when doing 'df[col].method(value, inplace=True)', try using 'df.method({col: value}, inplace=True)' or df[col] = df[col].method(value) instead, to perform the operation inplace on the original object.\n",
      "\n",
      "\n",
      "\n",
      "c:\\Users\\ssivagur\\Documents\\GitHub\\2022_09_07_New_phenotypic_dye_testing_CDoT_Broad_Analysis\\notebooks\\utils.py:53: FutureWarning:\n",
      "\n",
      "A value is trying to be set on a copy of a DataFrame or Series through chained assignment using an inplace method.\n",
      "The behavior will change in pandas 3.0. This inplace method will never work because the intermediate object on which we are setting values always behaves as a copy.\n",
      "\n",
      "For example, when doing 'df[col].method(value, inplace=True)', try using 'df.method({col: value}, inplace=True)' or df[col] = df[col].method(value) instead, to perform the operation inplace on the original object.\n",
      "\n",
      "\n",
      "\n",
      "c:\\Users\\ssivagur\\Documents\\GitHub\\2022_09_07_New_phenotypic_dye_testing_CDoT_Broad_Analysis\\notebooks\\utils.py:54: FutureWarning:\n",
      "\n",
      "A value is trying to be set on a copy of a DataFrame or Series through chained assignment using an inplace method.\n",
      "The behavior will change in pandas 3.0. This inplace method will never work because the intermediate object on which we are setting values always behaves as a copy.\n",
      "\n",
      "For example, when doing 'df[col].method(value, inplace=True)', try using 'df.method({col: value}, inplace=True)' or df[col] = df[col].method(value) instead, to perform the operation inplace on the original object.\n",
      "\n",
      "\n",
      "\n",
      "                                             \r"
     ]
    },
    {
     "data": {
      "application/vnd.plotly.v1+json": {
       "config": {
        "plotlyServerURL": "https://plot.ly"
       },
       "data": [
        {
         "alignmentgroup": "True",
         "box": {
          "visible": true
         },
         "hovertemplate": "color=ChromaLive + Hoechst<br>x=%{x}<br>y=%{y}<extra></extra>",
         "legendgroup": "ChromaLive + Hoechst",
         "marker": {
          "color": "#cc78bc"
         },
         "name": "ChromaLive + Hoechst",
         "offsetgroup": "ChromaLive + Hoechst",
         "orientation": "h",
         "points": "all",
         "scalegroup": "True",
         "showlegend": true,
         "type": "violin",
         "width": 0.5,
         "x": [
          0.189047499341617,
          0.6853506787330317,
          0.17481797791580403,
          0.6607905982905983,
          0.5802997076023391,
          0.38137464387464387,
          1,
          1,
          0.9513888888888888,
          0.27795177045177044,
          0.17355386159733985,
          0.7783909327387588,
          0.8225198412698412,
          0.1982682554373731,
          0.7391339869281046,
          0.133759065009065,
          0.8070779220779221,
          0.32328169515669514,
          1,
          0.16643009768009767,
          1,
          0.4539051226551227,
          0.9083333333333333,
          0.8480392156862745,
          0.7808333333333334,
          1,
          0.9345238095238095,
          0.777281746031746,
          0.6037698412698413,
          0.509433621933622,
          0.18722572362278245,
          0.48281024531024536,
          0.11721518004412741,
          1,
          1,
          0.18733297616020728,
          0.7120273109243698,
          1,
          1,
          1,
          0.5517829900839054,
          0.629635989010989,
          0.3632051282051282,
          0.6292281792281793,
          1,
          0.7027738927738928,
          0.8571428571428572,
          0.3739064076020598,
          1,
          1,
          0.7882936507936508,
          0.652948506066355,
          0.25031331828932446,
          1,
          1,
          0.35608742103307317,
          0.43620370370370365,
          0.5712228592663375,
          0.5537253459736298,
          1,
          0.5040103415103415,
          1,
          1,
          0.6605555555555556,
          1,
          0.8546969696969697,
          0.1304476297123356,
          1,
          0.8638888888888889,
          0.30654345654345655,
          0.25311447811447807,
          0.52109440267335,
          0.20957065810006986,
          0.8288239538239538,
          1,
          0.35350144669198375,
          1,
          0.22892512077294686,
          0.33320360195360194,
          0.39647944647944644,
          0.21786301105354813,
          0.5664351851851852,
          0.6367658730158731,
          0.7203219696969697,
          1,
          0.21893011815612434,
          0.1412800162800163,
          1,
          1,
          1,
          0.134263461509009
         ],
         "x0": " ",
         "xaxis": "x",
         "y": [
          "ChromaLive + Hoechst",
          "ChromaLive + Hoechst",
          "ChromaLive + Hoechst",
          "ChromaLive + Hoechst",
          "ChromaLive + Hoechst",
          "ChromaLive + Hoechst",
          "ChromaLive + Hoechst",
          "ChromaLive + Hoechst",
          "ChromaLive + Hoechst",
          "ChromaLive + Hoechst",
          "ChromaLive + Hoechst",
          "ChromaLive + Hoechst",
          "ChromaLive + Hoechst",
          "ChromaLive + Hoechst",
          "ChromaLive + Hoechst",
          "ChromaLive + Hoechst",
          "ChromaLive + Hoechst",
          "ChromaLive + Hoechst",
          "ChromaLive + Hoechst",
          "ChromaLive + Hoechst",
          "ChromaLive + Hoechst",
          "ChromaLive + Hoechst",
          "ChromaLive + Hoechst",
          "ChromaLive + Hoechst",
          "ChromaLive + Hoechst",
          "ChromaLive + Hoechst",
          "ChromaLive + Hoechst",
          "ChromaLive + Hoechst",
          "ChromaLive + Hoechst",
          "ChromaLive + Hoechst",
          "ChromaLive + Hoechst",
          "ChromaLive + Hoechst",
          "ChromaLive + Hoechst",
          "ChromaLive + Hoechst",
          "ChromaLive + Hoechst",
          "ChromaLive + Hoechst",
          "ChromaLive + Hoechst",
          "ChromaLive + Hoechst",
          "ChromaLive + Hoechst",
          "ChromaLive + Hoechst",
          "ChromaLive + Hoechst",
          "ChromaLive + Hoechst",
          "ChromaLive + Hoechst",
          "ChromaLive + Hoechst",
          "ChromaLive + Hoechst",
          "ChromaLive + Hoechst",
          "ChromaLive + Hoechst",
          "ChromaLive + Hoechst",
          "ChromaLive + Hoechst",
          "ChromaLive + Hoechst",
          "ChromaLive + Hoechst",
          "ChromaLive + Hoechst",
          "ChromaLive + Hoechst",
          "ChromaLive + Hoechst",
          "ChromaLive + Hoechst",
          "ChromaLive + Hoechst",
          "ChromaLive + Hoechst",
          "ChromaLive + Hoechst",
          "ChromaLive + Hoechst",
          "ChromaLive + Hoechst",
          "ChromaLive + Hoechst",
          "ChromaLive + Hoechst",
          "ChromaLive + Hoechst",
          "ChromaLive + Hoechst",
          "ChromaLive + Hoechst",
          "ChromaLive + Hoechst",
          "ChromaLive + Hoechst",
          "ChromaLive + Hoechst",
          "ChromaLive + Hoechst",
          "ChromaLive + Hoechst",
          "ChromaLive + Hoechst",
          "ChromaLive + Hoechst",
          "ChromaLive + Hoechst",
          "ChromaLive + Hoechst",
          "ChromaLive + Hoechst",
          "ChromaLive + Hoechst",
          "ChromaLive + Hoechst",
          "ChromaLive + Hoechst",
          "ChromaLive + Hoechst",
          "ChromaLive + Hoechst",
          "ChromaLive + Hoechst",
          "ChromaLive + Hoechst",
          "ChromaLive + Hoechst",
          "ChromaLive + Hoechst",
          "ChromaLive + Hoechst",
          "ChromaLive + Hoechst",
          "ChromaLive + Hoechst",
          "ChromaLive + Hoechst",
          "ChromaLive + Hoechst",
          "ChromaLive + Hoechst",
          "ChromaLive + Hoechst"
         ],
         "y0": " ",
         "yaxis": "y"
        },
        {
         "alignmentgroup": "True",
         "box": {
          "visible": true
         },
         "hovertemplate": "color=Standard CP (exposed to ChromaLive)<br>x=%{x}<br>y=%{y}<extra></extra>",
         "legendgroup": "Standard CP (exposed to ChromaLive)",
         "marker": {
          "color": "#d55e00"
         },
         "name": "Standard CP (exposed to ChromaLive)",
         "offsetgroup": "Standard CP (exposed to ChromaLive)",
         "orientation": "h",
         "points": "all",
         "scalegroup": "True",
         "showlegend": true,
         "type": "violin",
         "width": 0.5,
         "x": [
          0.2581150793650794,
          0.19128902143608026,
          0.16583694083694084,
          0.8680555555555556,
          0.37584155680509496,
          0.23248544218938955,
          1,
          1,
          1,
          0.41549953314659194,
          0.21680226915327536,
          1,
          1,
          0.1556814713064713,
          1,
          0.451497113997114,
          0.9791666666666666,
          0.21331628611040376,
          0.925,
          0.21540395520658678,
          1,
          0.4540824915824916,
          1,
          1,
          0.3401552492341966,
          1,
          0.25662795629311985,
          0.7777777777777777,
          0.17869142166742785,
          0.23038657111597616,
          0.5907828282828282,
          0.631547619047619,
          0.12036418457454263,
          1,
          1,
          0.6478174603174603,
          1,
          1,
          0.7155753968253968,
          1,
          0.9666666666666667,
          0.8694444444444445,
          0.7222222222222222,
          0.1592156685906686,
          1,
          0.7791666666666667,
          1,
          1,
          0.9513888888888888,
          1,
          0.9375,
          0.8204365079365079,
          0.15821357972093264,
          1,
          1,
          0.249017649017649,
          0.8833333333333333,
          0.40668803418803423,
          0.2260547201336675,
          1,
          0.6629807692307692,
          1,
          1,
          1,
          1,
          0.8833333333333333,
          0.2130186600838775,
          1,
          0.7258928571428571,
          0.19978026466997056,
          0.3300189393939394,
          0.350976800976801,
          0.7468253968253968,
          0.6791666666666666,
          0.7375,
          0.14610486735486736,
          1,
          0.2863131031609292,
          1,
          1,
          0.4768696581196581,
          0.9583333333333333,
          1,
          1,
          1,
          0.29921940267335,
          0.20086717619612357,
          1,
          0.5430555555555555,
          1,
          0.08428744668892785
         ],
         "x0": " ",
         "xaxis": "x",
         "y": [
          "Standard CP (exposed to ChromaLive)",
          "Standard CP (exposed to ChromaLive)",
          "Standard CP (exposed to ChromaLive)",
          "Standard CP (exposed to ChromaLive)",
          "Standard CP (exposed to ChromaLive)",
          "Standard CP (exposed to ChromaLive)",
          "Standard CP (exposed to ChromaLive)",
          "Standard CP (exposed to ChromaLive)",
          "Standard CP (exposed to ChromaLive)",
          "Standard CP (exposed to ChromaLive)",
          "Standard CP (exposed to ChromaLive)",
          "Standard CP (exposed to ChromaLive)",
          "Standard CP (exposed to ChromaLive)",
          "Standard CP (exposed to ChromaLive)",
          "Standard CP (exposed to ChromaLive)",
          "Standard CP (exposed to ChromaLive)",
          "Standard CP (exposed to ChromaLive)",
          "Standard CP (exposed to ChromaLive)",
          "Standard CP (exposed to ChromaLive)",
          "Standard CP (exposed to ChromaLive)",
          "Standard CP (exposed to ChromaLive)",
          "Standard CP (exposed to ChromaLive)",
          "Standard CP (exposed to ChromaLive)",
          "Standard CP (exposed to ChromaLive)",
          "Standard CP (exposed to ChromaLive)",
          "Standard CP (exposed to ChromaLive)",
          "Standard CP (exposed to ChromaLive)",
          "Standard CP (exposed to ChromaLive)",
          "Standard CP (exposed to ChromaLive)",
          "Standard CP (exposed to ChromaLive)",
          "Standard CP (exposed to ChromaLive)",
          "Standard CP (exposed to ChromaLive)",
          "Standard CP (exposed to ChromaLive)",
          "Standard CP (exposed to ChromaLive)",
          "Standard CP (exposed to ChromaLive)",
          "Standard CP (exposed to ChromaLive)",
          "Standard CP (exposed to ChromaLive)",
          "Standard CP (exposed to ChromaLive)",
          "Standard CP (exposed to ChromaLive)",
          "Standard CP (exposed to ChromaLive)",
          "Standard CP (exposed to ChromaLive)",
          "Standard CP (exposed to ChromaLive)",
          "Standard CP (exposed to ChromaLive)",
          "Standard CP (exposed to ChromaLive)",
          "Standard CP (exposed to ChromaLive)",
          "Standard CP (exposed to ChromaLive)",
          "Standard CP (exposed to ChromaLive)",
          "Standard CP (exposed to ChromaLive)",
          "Standard CP (exposed to ChromaLive)",
          "Standard CP (exposed to ChromaLive)",
          "Standard CP (exposed to ChromaLive)",
          "Standard CP (exposed to ChromaLive)",
          "Standard CP (exposed to ChromaLive)",
          "Standard CP (exposed to ChromaLive)",
          "Standard CP (exposed to ChromaLive)",
          "Standard CP (exposed to ChromaLive)",
          "Standard CP (exposed to ChromaLive)",
          "Standard CP (exposed to ChromaLive)",
          "Standard CP (exposed to ChromaLive)",
          "Standard CP (exposed to ChromaLive)",
          "Standard CP (exposed to ChromaLive)",
          "Standard CP (exposed to ChromaLive)",
          "Standard CP (exposed to ChromaLive)",
          "Standard CP (exposed to ChromaLive)",
          "Standard CP (exposed to ChromaLive)",
          "Standard CP (exposed to ChromaLive)",
          "Standard CP (exposed to ChromaLive)",
          "Standard CP (exposed to ChromaLive)",
          "Standard CP (exposed to ChromaLive)",
          "Standard CP (exposed to ChromaLive)",
          "Standard CP (exposed to ChromaLive)",
          "Standard CP (exposed to ChromaLive)",
          "Standard CP (exposed to ChromaLive)",
          "Standard CP (exposed to ChromaLive)",
          "Standard CP (exposed to ChromaLive)",
          "Standard CP (exposed to ChromaLive)",
          "Standard CP (exposed to ChromaLive)",
          "Standard CP (exposed to ChromaLive)",
          "Standard CP (exposed to ChromaLive)",
          "Standard CP (exposed to ChromaLive)",
          "Standard CP (exposed to ChromaLive)",
          "Standard CP (exposed to ChromaLive)",
          "Standard CP (exposed to ChromaLive)",
          "Standard CP (exposed to ChromaLive)",
          "Standard CP (exposed to ChromaLive)",
          "Standard CP (exposed to ChromaLive)",
          "Standard CP (exposed to ChromaLive)",
          "Standard CP (exposed to ChromaLive)",
          "Standard CP (exposed to ChromaLive)",
          "Standard CP (exposed to ChromaLive)",
          "Standard CP (exposed to ChromaLive)"
         ],
         "y0": " ",
         "yaxis": "y"
        },
        {
         "alignmentgroup": "True",
         "box": {
          "visible": true
         },
         "hovertemplate": "color=CP + Phenovue phalloidin 400LS<br>x=%{x}<br>y=%{y}<extra></extra>",
         "legendgroup": "CP + Phenovue phalloidin 400LS",
         "marker": {
          "color": "#029e73"
         },
         "name": "CP + Phenovue phalloidin 400LS",
         "offsetgroup": "CP + Phenovue phalloidin 400LS",
         "orientation": "h",
         "points": "all",
         "scalegroup": "True",
         "showlegend": true,
         "type": "violin",
         "width": 0.5,
         "x": [
          0.2558751542575072,
          0.15931218978819597,
          0.3335751054501055,
          0.8500000000000001,
          0.248718917391518,
          0.5228863728863729,
          1,
          1,
          1,
          0.34017857142857144,
          0.15665873478373477,
          1,
          1,
          0.32685185185185184,
          1,
          0.36920454545454545,
          1,
          0.37427998520675865,
          1,
          0.16809526435485517,
          1,
          0.7242063492063492,
          1,
          1,
          0.39085276787482665,
          1,
          0.31479348137242874,
          0.48471874129768866,
          0.22373676142697882,
          0.24054029304029304,
          0.24281851904134513,
          0.6048611111111111,
          0.11546312711358478,
          1,
          1,
          0.2824013949013949,
          1,
          1,
          0.9097222222222222,
          1,
          1,
          1,
          0.6797852474323063,
          0.21320090584796467,
          1,
          1,
          0.7871031746031747,
          1,
          0.8694444444444445,
          1,
          1,
          0.7999999999999999,
          0.15767627099148837,
          1,
          1,
          0.275005305152364,
          0.7676587301587302,
          0.2301143301143301,
          0.4014936330725804,
          1,
          0.9583333333333333,
          1,
          0.9513888888888888,
          1,
          1,
          0.5174693362193362,
          0.20160267470050078,
          1,
          0.5733987077737077,
          0.22322733918128654,
          0.365625,
          0.4890873015873015,
          1,
          1,
          1,
          0.18839647194910353,
          1,
          0.15875120250120248,
          1,
          0.8694444444444445,
          0.5371031746031746,
          0.7583333333333333,
          0.8069444444444445,
          1,
          1,
          0.9055555555555556,
          0.16517887909192258,
          1,
          0.8347222222222223,
          1,
          0.0840733566068706
         ],
         "x0": " ",
         "xaxis": "x",
         "y": [
          "CP + Phenovue phalloidin 400LS",
          "CP + Phenovue phalloidin 400LS",
          "CP + Phenovue phalloidin 400LS",
          "CP + Phenovue phalloidin 400LS",
          "CP + Phenovue phalloidin 400LS",
          "CP + Phenovue phalloidin 400LS",
          "CP + Phenovue phalloidin 400LS",
          "CP + Phenovue phalloidin 400LS",
          "CP + Phenovue phalloidin 400LS",
          "CP + Phenovue phalloidin 400LS",
          "CP + Phenovue phalloidin 400LS",
          "CP + Phenovue phalloidin 400LS",
          "CP + Phenovue phalloidin 400LS",
          "CP + Phenovue phalloidin 400LS",
          "CP + Phenovue phalloidin 400LS",
          "CP + Phenovue phalloidin 400LS",
          "CP + Phenovue phalloidin 400LS",
          "CP + Phenovue phalloidin 400LS",
          "CP + Phenovue phalloidin 400LS",
          "CP + Phenovue phalloidin 400LS",
          "CP + Phenovue phalloidin 400LS",
          "CP + Phenovue phalloidin 400LS",
          "CP + Phenovue phalloidin 400LS",
          "CP + Phenovue phalloidin 400LS",
          "CP + Phenovue phalloidin 400LS",
          "CP + Phenovue phalloidin 400LS",
          "CP + Phenovue phalloidin 400LS",
          "CP + Phenovue phalloidin 400LS",
          "CP + Phenovue phalloidin 400LS",
          "CP + Phenovue phalloidin 400LS",
          "CP + Phenovue phalloidin 400LS",
          "CP + Phenovue phalloidin 400LS",
          "CP + Phenovue phalloidin 400LS",
          "CP + Phenovue phalloidin 400LS",
          "CP + Phenovue phalloidin 400LS",
          "CP + Phenovue phalloidin 400LS",
          "CP + Phenovue phalloidin 400LS",
          "CP + Phenovue phalloidin 400LS",
          "CP + Phenovue phalloidin 400LS",
          "CP + Phenovue phalloidin 400LS",
          "CP + Phenovue phalloidin 400LS",
          "CP + Phenovue phalloidin 400LS",
          "CP + Phenovue phalloidin 400LS",
          "CP + Phenovue phalloidin 400LS",
          "CP + Phenovue phalloidin 400LS",
          "CP + Phenovue phalloidin 400LS",
          "CP + Phenovue phalloidin 400LS",
          "CP + Phenovue phalloidin 400LS",
          "CP + Phenovue phalloidin 400LS",
          "CP + Phenovue phalloidin 400LS",
          "CP + Phenovue phalloidin 400LS",
          "CP + Phenovue phalloidin 400LS",
          "CP + Phenovue phalloidin 400LS",
          "CP + Phenovue phalloidin 400LS",
          "CP + Phenovue phalloidin 400LS",
          "CP + Phenovue phalloidin 400LS",
          "CP + Phenovue phalloidin 400LS",
          "CP + Phenovue phalloidin 400LS",
          "CP + Phenovue phalloidin 400LS",
          "CP + Phenovue phalloidin 400LS",
          "CP + Phenovue phalloidin 400LS",
          "CP + Phenovue phalloidin 400LS",
          "CP + Phenovue phalloidin 400LS",
          "CP + Phenovue phalloidin 400LS",
          "CP + Phenovue phalloidin 400LS",
          "CP + Phenovue phalloidin 400LS",
          "CP + Phenovue phalloidin 400LS",
          "CP + Phenovue phalloidin 400LS",
          "CP + Phenovue phalloidin 400LS",
          "CP + Phenovue phalloidin 400LS",
          "CP + Phenovue phalloidin 400LS",
          "CP + Phenovue phalloidin 400LS",
          "CP + Phenovue phalloidin 400LS",
          "CP + Phenovue phalloidin 400LS",
          "CP + Phenovue phalloidin 400LS",
          "CP + Phenovue phalloidin 400LS",
          "CP + Phenovue phalloidin 400LS",
          "CP + Phenovue phalloidin 400LS",
          "CP + Phenovue phalloidin 400LS",
          "CP + Phenovue phalloidin 400LS",
          "CP + Phenovue phalloidin 400LS",
          "CP + Phenovue phalloidin 400LS",
          "CP + Phenovue phalloidin 400LS",
          "CP + Phenovue phalloidin 400LS",
          "CP + Phenovue phalloidin 400LS",
          "CP + Phenovue phalloidin 400LS",
          "CP + Phenovue phalloidin 400LS",
          "CP + Phenovue phalloidin 400LS",
          "CP + Phenovue phalloidin 400LS",
          "CP + Phenovue phalloidin 400LS",
          "CP + Phenovue phalloidin 400LS"
         ],
         "y0": " ",
         "yaxis": "y"
        },
        {
         "alignmentgroup": "True",
         "box": {
          "visible": true
         },
         "hovertemplate": "color=CP + MitoBrilliant<br>x=%{x}<br>y=%{y}<extra></extra>",
         "legendgroup": "CP + MitoBrilliant",
         "marker": {
          "color": "#de8f05"
         },
         "name": "CP + MitoBrilliant",
         "offsetgroup": "CP + MitoBrilliant",
         "orientation": "h",
         "points": "all",
         "scalegroup": "True",
         "showlegend": true,
         "type": "violin",
         "width": 0.5,
         "x": [
          0.19386746151452033,
          0.3181547619047619,
          0.44267353017353017,
          0.8972222222222223,
          0.299443052074631,
          0.2940737865194387,
          1,
          1,
          1,
          0.6799603174603175,
          0.2330090741532389,
          1,
          1,
          0.1483847512136986,
          1,
          0.3650613275613276,
          1,
          0.2308624124413598,
          1,
          0.15714158526658528,
          1,
          0.7509920634920635,
          1,
          0.6102272727272727,
          0.23815487631277105,
          0.9791666666666666,
          0.13753962268668152,
          1,
          0.16049992405255561,
          0.20054544489327097,
          0.5779220779220778,
          0.870436507936508,
          0.19627752608015764,
          1,
          1,
          0.6023809523809524,
          1,
          1,
          1,
          1,
          0.8833333333333333,
          0.7902777777777777,
          0.6001984126984127,
          0.26576340326340325,
          1,
          1,
          1,
          1,
          1,
          1,
          1,
          0.8833333333333333,
          0.229006919006919,
          1,
          1,
          0.25176767676767675,
          1,
          0.11722890762936529,
          0.4773141074611663,
          1,
          0.8312499999999999,
          1,
          1,
          1,
          1,
          0.8833333333333333,
          0.23999715059497667,
          1,
          0.7876984126984127,
          0.12809256518621842,
          0.24190026347921084,
          0.2997685185185185,
          1,
          1,
          1,
          0.2160091066341066,
          1,
          0.19757000034459987,
          1,
          0.7916666666666666,
          0.6516106442577031,
          1,
          1,
          1,
          1,
          0.45370800366930397,
          0.20238721804511278,
          1,
          1,
          1,
          0.0798449372817101
         ],
         "x0": " ",
         "xaxis": "x",
         "y": [
          "CP + MitoBrilliant",
          "CP + MitoBrilliant",
          "CP + MitoBrilliant",
          "CP + MitoBrilliant",
          "CP + MitoBrilliant",
          "CP + MitoBrilliant",
          "CP + MitoBrilliant",
          "CP + MitoBrilliant",
          "CP + MitoBrilliant",
          "CP + MitoBrilliant",
          "CP + MitoBrilliant",
          "CP + MitoBrilliant",
          "CP + MitoBrilliant",
          "CP + MitoBrilliant",
          "CP + MitoBrilliant",
          "CP + MitoBrilliant",
          "CP + MitoBrilliant",
          "CP + MitoBrilliant",
          "CP + MitoBrilliant",
          "CP + MitoBrilliant",
          "CP + MitoBrilliant",
          "CP + MitoBrilliant",
          "CP + MitoBrilliant",
          "CP + MitoBrilliant",
          "CP + MitoBrilliant",
          "CP + MitoBrilliant",
          "CP + MitoBrilliant",
          "CP + MitoBrilliant",
          "CP + MitoBrilliant",
          "CP + MitoBrilliant",
          "CP + MitoBrilliant",
          "CP + MitoBrilliant",
          "CP + MitoBrilliant",
          "CP + MitoBrilliant",
          "CP + MitoBrilliant",
          "CP + MitoBrilliant",
          "CP + MitoBrilliant",
          "CP + MitoBrilliant",
          "CP + MitoBrilliant",
          "CP + MitoBrilliant",
          "CP + MitoBrilliant",
          "CP + MitoBrilliant",
          "CP + MitoBrilliant",
          "CP + MitoBrilliant",
          "CP + MitoBrilliant",
          "CP + MitoBrilliant",
          "CP + MitoBrilliant",
          "CP + MitoBrilliant",
          "CP + MitoBrilliant",
          "CP + MitoBrilliant",
          "CP + MitoBrilliant",
          "CP + MitoBrilliant",
          "CP + MitoBrilliant",
          "CP + MitoBrilliant",
          "CP + MitoBrilliant",
          "CP + MitoBrilliant",
          "CP + MitoBrilliant",
          "CP + MitoBrilliant",
          "CP + MitoBrilliant",
          "CP + MitoBrilliant",
          "CP + MitoBrilliant",
          "CP + MitoBrilliant",
          "CP + MitoBrilliant",
          "CP + MitoBrilliant",
          "CP + MitoBrilliant",
          "CP + MitoBrilliant",
          "CP + MitoBrilliant",
          "CP + MitoBrilliant",
          "CP + MitoBrilliant",
          "CP + MitoBrilliant",
          "CP + MitoBrilliant",
          "CP + MitoBrilliant",
          "CP + MitoBrilliant",
          "CP + MitoBrilliant",
          "CP + MitoBrilliant",
          "CP + MitoBrilliant",
          "CP + MitoBrilliant",
          "CP + MitoBrilliant",
          "CP + MitoBrilliant",
          "CP + MitoBrilliant",
          "CP + MitoBrilliant",
          "CP + MitoBrilliant",
          "CP + MitoBrilliant",
          "CP + MitoBrilliant",
          "CP + MitoBrilliant",
          "CP + MitoBrilliant",
          "CP + MitoBrilliant",
          "CP + MitoBrilliant",
          "CP + MitoBrilliant",
          "CP + MitoBrilliant",
          "CP + MitoBrilliant"
         ],
         "y0": " ",
         "yaxis": "y"
        },
        {
         "alignmentgroup": "True",
         "box": {
          "visible": true
         },
         "hovertemplate": "color=Standard CP<br>x=%{x}<br>y=%{y}<extra></extra>",
         "legendgroup": "Standard CP",
         "marker": {
          "color": "#0173b2"
         },
         "name": "Standard CP",
         "offsetgroup": "Standard CP",
         "orientation": "h",
         "points": "all",
         "scalegroup": "True",
         "showlegend": true,
         "type": "violin",
         "width": 0.5,
         "x": [
          0.29446225071225074,
          0.4792508417508417,
          0.31987085769980506,
          1,
          0.2676155969634231,
          0.33746345029239766,
          1,
          1,
          1,
          0.31981933371639254,
          0.6796626984126983,
          1,
          1,
          0.2917989417989418,
          0.8875,
          0.7805555555555556,
          1,
          0.3150836783988958,
          1,
          0.1536923878196257,
          1,
          0.675,
          1,
          1,
          0.33325815980993323,
          1,
          0.13867364117364117,
          0.8377976190476191,
          0.3261078042328042,
          0.2779858077340915,
          0.37169289044289044,
          0.6833333333333333,
          0.27914250101750104,
          1,
          1,
          0.34424603174603174,
          1,
          1,
          1,
          1,
          1,
          1,
          0.7496031746031745,
          0.20601718542895014,
          1,
          1,
          0.9583333333333334,
          1,
          1,
          1,
          1,
          0.9097222222222222,
          0.11165102928260823,
          1,
          1,
          0.3768786768786769,
          1,
          0.1934468952947214,
          0.40201972734867475,
          1,
          1,
          1,
          1,
          1,
          1,
          0.7472222222222222,
          0.4298340548340548,
          1,
          0.4321937321937322,
          0.16189733469145234,
          0.3379400691900692,
          0.21558186680469288,
          1,
          1,
          1,
          0.20005892255892255,
          1,
          0.47150787665493543,
          0.9666666666666667,
          0.90625,
          0.8236111111111111,
          1,
          1,
          1,
          1,
          0.24094190266790888,
          0.21551641083374828,
          1,
          0.8854166666666666,
          1,
          0.08649063621554494
         ],
         "x0": " ",
         "xaxis": "x",
         "y": [
          "Standard CP",
          "Standard CP",
          "Standard CP",
          "Standard CP",
          "Standard CP",
          "Standard CP",
          "Standard CP",
          "Standard CP",
          "Standard CP",
          "Standard CP",
          "Standard CP",
          "Standard CP",
          "Standard CP",
          "Standard CP",
          "Standard CP",
          "Standard CP",
          "Standard CP",
          "Standard CP",
          "Standard CP",
          "Standard CP",
          "Standard CP",
          "Standard CP",
          "Standard CP",
          "Standard CP",
          "Standard CP",
          "Standard CP",
          "Standard CP",
          "Standard CP",
          "Standard CP",
          "Standard CP",
          "Standard CP",
          "Standard CP",
          "Standard CP",
          "Standard CP",
          "Standard CP",
          "Standard CP",
          "Standard CP",
          "Standard CP",
          "Standard CP",
          "Standard CP",
          "Standard CP",
          "Standard CP",
          "Standard CP",
          "Standard CP",
          "Standard CP",
          "Standard CP",
          "Standard CP",
          "Standard CP",
          "Standard CP",
          "Standard CP",
          "Standard CP",
          "Standard CP",
          "Standard CP",
          "Standard CP",
          "Standard CP",
          "Standard CP",
          "Standard CP",
          "Standard CP",
          "Standard CP",
          "Standard CP",
          "Standard CP",
          "Standard CP",
          "Standard CP",
          "Standard CP",
          "Standard CP",
          "Standard CP",
          "Standard CP",
          "Standard CP",
          "Standard CP",
          "Standard CP",
          "Standard CP",
          "Standard CP",
          "Standard CP",
          "Standard CP",
          "Standard CP",
          "Standard CP",
          "Standard CP",
          "Standard CP",
          "Standard CP",
          "Standard CP",
          "Standard CP",
          "Standard CP",
          "Standard CP",
          "Standard CP",
          "Standard CP",
          "Standard CP",
          "Standard CP",
          "Standard CP",
          "Standard CP",
          "Standard CP",
          "Standard CP"
         ],
         "y0": " ",
         "yaxis": "y"
        }
       ],
       "layout": {
        "font": {
         "color": "black",
         "family": "sans serif",
         "size": 95
        },
        "height": 2500,
        "legend": {
         "title": {
          "text": "color"
         },
         "tracegroupgap": 0
        },
        "margin": {
         "t": 60
        },
        "plot_bgcolor": "rgba(0,0,0,0)",
        "showlegend": false,
        "template": {
         "data": {
          "bar": [
           {
            "error_x": {
             "color": "#2a3f5f"
            },
            "error_y": {
             "color": "#2a3f5f"
            },
            "marker": {
             "line": {
              "color": "#E5ECF6",
              "width": 0.5
             },
             "pattern": {
              "fillmode": "overlay",
              "size": 10,
              "solidity": 0.2
             }
            },
            "type": "bar"
           }
          ],
          "barpolar": [
           {
            "marker": {
             "line": {
              "color": "#E5ECF6",
              "width": 0.5
             },
             "pattern": {
              "fillmode": "overlay",
              "size": 10,
              "solidity": 0.2
             }
            },
            "type": "barpolar"
           }
          ],
          "carpet": [
           {
            "aaxis": {
             "endlinecolor": "#2a3f5f",
             "gridcolor": "white",
             "linecolor": "white",
             "minorgridcolor": "white",
             "startlinecolor": "#2a3f5f"
            },
            "baxis": {
             "endlinecolor": "#2a3f5f",
             "gridcolor": "white",
             "linecolor": "white",
             "minorgridcolor": "white",
             "startlinecolor": "#2a3f5f"
            },
            "type": "carpet"
           }
          ],
          "choropleth": [
           {
            "colorbar": {
             "outlinewidth": 0,
             "ticks": ""
            },
            "type": "choropleth"
           }
          ],
          "contour": [
           {
            "colorbar": {
             "outlinewidth": 0,
             "ticks": ""
            },
            "colorscale": [
             [
              0,
              "#0d0887"
             ],
             [
              0.1111111111111111,
              "#46039f"
             ],
             [
              0.2222222222222222,
              "#7201a8"
             ],
             [
              0.3333333333333333,
              "#9c179e"
             ],
             [
              0.4444444444444444,
              "#bd3786"
             ],
             [
              0.5555555555555556,
              "#d8576b"
             ],
             [
              0.6666666666666666,
              "#ed7953"
             ],
             [
              0.7777777777777778,
              "#fb9f3a"
             ],
             [
              0.8888888888888888,
              "#fdca26"
             ],
             [
              1,
              "#f0f921"
             ]
            ],
            "type": "contour"
           }
          ],
          "contourcarpet": [
           {
            "colorbar": {
             "outlinewidth": 0,
             "ticks": ""
            },
            "type": "contourcarpet"
           }
          ],
          "heatmap": [
           {
            "colorbar": {
             "outlinewidth": 0,
             "ticks": ""
            },
            "colorscale": [
             [
              0,
              "#0d0887"
             ],
             [
              0.1111111111111111,
              "#46039f"
             ],
             [
              0.2222222222222222,
              "#7201a8"
             ],
             [
              0.3333333333333333,
              "#9c179e"
             ],
             [
              0.4444444444444444,
              "#bd3786"
             ],
             [
              0.5555555555555556,
              "#d8576b"
             ],
             [
              0.6666666666666666,
              "#ed7953"
             ],
             [
              0.7777777777777778,
              "#fb9f3a"
             ],
             [
              0.8888888888888888,
              "#fdca26"
             ],
             [
              1,
              "#f0f921"
             ]
            ],
            "type": "heatmap"
           }
          ],
          "heatmapgl": [
           {
            "colorbar": {
             "outlinewidth": 0,
             "ticks": ""
            },
            "colorscale": [
             [
              0,
              "#0d0887"
             ],
             [
              0.1111111111111111,
              "#46039f"
             ],
             [
              0.2222222222222222,
              "#7201a8"
             ],
             [
              0.3333333333333333,
              "#9c179e"
             ],
             [
              0.4444444444444444,
              "#bd3786"
             ],
             [
              0.5555555555555556,
              "#d8576b"
             ],
             [
              0.6666666666666666,
              "#ed7953"
             ],
             [
              0.7777777777777778,
              "#fb9f3a"
             ],
             [
              0.8888888888888888,
              "#fdca26"
             ],
             [
              1,
              "#f0f921"
             ]
            ],
            "type": "heatmapgl"
           }
          ],
          "histogram": [
           {
            "marker": {
             "pattern": {
              "fillmode": "overlay",
              "size": 10,
              "solidity": 0.2
             }
            },
            "type": "histogram"
           }
          ],
          "histogram2d": [
           {
            "colorbar": {
             "outlinewidth": 0,
             "ticks": ""
            },
            "colorscale": [
             [
              0,
              "#0d0887"
             ],
             [
              0.1111111111111111,
              "#46039f"
             ],
             [
              0.2222222222222222,
              "#7201a8"
             ],
             [
              0.3333333333333333,
              "#9c179e"
             ],
             [
              0.4444444444444444,
              "#bd3786"
             ],
             [
              0.5555555555555556,
              "#d8576b"
             ],
             [
              0.6666666666666666,
              "#ed7953"
             ],
             [
              0.7777777777777778,
              "#fb9f3a"
             ],
             [
              0.8888888888888888,
              "#fdca26"
             ],
             [
              1,
              "#f0f921"
             ]
            ],
            "type": "histogram2d"
           }
          ],
          "histogram2dcontour": [
           {
            "colorbar": {
             "outlinewidth": 0,
             "ticks": ""
            },
            "colorscale": [
             [
              0,
              "#0d0887"
             ],
             [
              0.1111111111111111,
              "#46039f"
             ],
             [
              0.2222222222222222,
              "#7201a8"
             ],
             [
              0.3333333333333333,
              "#9c179e"
             ],
             [
              0.4444444444444444,
              "#bd3786"
             ],
             [
              0.5555555555555556,
              "#d8576b"
             ],
             [
              0.6666666666666666,
              "#ed7953"
             ],
             [
              0.7777777777777778,
              "#fb9f3a"
             ],
             [
              0.8888888888888888,
              "#fdca26"
             ],
             [
              1,
              "#f0f921"
             ]
            ],
            "type": "histogram2dcontour"
           }
          ],
          "mesh3d": [
           {
            "colorbar": {
             "outlinewidth": 0,
             "ticks": ""
            },
            "type": "mesh3d"
           }
          ],
          "parcoords": [
           {
            "line": {
             "colorbar": {
              "outlinewidth": 0,
              "ticks": ""
             }
            },
            "type": "parcoords"
           }
          ],
          "pie": [
           {
            "automargin": true,
            "type": "pie"
           }
          ],
          "scatter": [
           {
            "fillpattern": {
             "fillmode": "overlay",
             "size": 10,
             "solidity": 0.2
            },
            "type": "scatter"
           }
          ],
          "scatter3d": [
           {
            "line": {
             "colorbar": {
              "outlinewidth": 0,
              "ticks": ""
             }
            },
            "marker": {
             "colorbar": {
              "outlinewidth": 0,
              "ticks": ""
             }
            },
            "type": "scatter3d"
           }
          ],
          "scattercarpet": [
           {
            "marker": {
             "colorbar": {
              "outlinewidth": 0,
              "ticks": ""
             }
            },
            "type": "scattercarpet"
           }
          ],
          "scattergeo": [
           {
            "marker": {
             "colorbar": {
              "outlinewidth": 0,
              "ticks": ""
             }
            },
            "type": "scattergeo"
           }
          ],
          "scattergl": [
           {
            "marker": {
             "colorbar": {
              "outlinewidth": 0,
              "ticks": ""
             }
            },
            "type": "scattergl"
           }
          ],
          "scattermapbox": [
           {
            "marker": {
             "colorbar": {
              "outlinewidth": 0,
              "ticks": ""
             }
            },
            "type": "scattermapbox"
           }
          ],
          "scatterpolar": [
           {
            "marker": {
             "colorbar": {
              "outlinewidth": 0,
              "ticks": ""
             }
            },
            "type": "scatterpolar"
           }
          ],
          "scatterpolargl": [
           {
            "marker": {
             "colorbar": {
              "outlinewidth": 0,
              "ticks": ""
             }
            },
            "type": "scatterpolargl"
           }
          ],
          "scatterternary": [
           {
            "marker": {
             "colorbar": {
              "outlinewidth": 0,
              "ticks": ""
             }
            },
            "type": "scatterternary"
           }
          ],
          "surface": [
           {
            "colorbar": {
             "outlinewidth": 0,
             "ticks": ""
            },
            "colorscale": [
             [
              0,
              "#0d0887"
             ],
             [
              0.1111111111111111,
              "#46039f"
             ],
             [
              0.2222222222222222,
              "#7201a8"
             ],
             [
              0.3333333333333333,
              "#9c179e"
             ],
             [
              0.4444444444444444,
              "#bd3786"
             ],
             [
              0.5555555555555556,
              "#d8576b"
             ],
             [
              0.6666666666666666,
              "#ed7953"
             ],
             [
              0.7777777777777778,
              "#fb9f3a"
             ],
             [
              0.8888888888888888,
              "#fdca26"
             ],
             [
              1,
              "#f0f921"
             ]
            ],
            "type": "surface"
           }
          ],
          "table": [
           {
            "cells": {
             "fill": {
              "color": "#EBF0F8"
             },
             "line": {
              "color": "white"
             }
            },
            "header": {
             "fill": {
              "color": "#C8D4E3"
             },
             "line": {
              "color": "white"
             }
            },
            "type": "table"
           }
          ]
         },
         "layout": {
          "annotationdefaults": {
           "arrowcolor": "#2a3f5f",
           "arrowhead": 0,
           "arrowwidth": 1
          },
          "autotypenumbers": "strict",
          "coloraxis": {
           "colorbar": {
            "outlinewidth": 0,
            "ticks": ""
           }
          },
          "colorscale": {
           "diverging": [
            [
             0,
             "#8e0152"
            ],
            [
             0.1,
             "#c51b7d"
            ],
            [
             0.2,
             "#de77ae"
            ],
            [
             0.3,
             "#f1b6da"
            ],
            [
             0.4,
             "#fde0ef"
            ],
            [
             0.5,
             "#f7f7f7"
            ],
            [
             0.6,
             "#e6f5d0"
            ],
            [
             0.7,
             "#b8e186"
            ],
            [
             0.8,
             "#7fbc41"
            ],
            [
             0.9,
             "#4d9221"
            ],
            [
             1,
             "#276419"
            ]
           ],
           "sequential": [
            [
             0,
             "#0d0887"
            ],
            [
             0.1111111111111111,
             "#46039f"
            ],
            [
             0.2222222222222222,
             "#7201a8"
            ],
            [
             0.3333333333333333,
             "#9c179e"
            ],
            [
             0.4444444444444444,
             "#bd3786"
            ],
            [
             0.5555555555555556,
             "#d8576b"
            ],
            [
             0.6666666666666666,
             "#ed7953"
            ],
            [
             0.7777777777777778,
             "#fb9f3a"
            ],
            [
             0.8888888888888888,
             "#fdca26"
            ],
            [
             1,
             "#f0f921"
            ]
           ],
           "sequentialminus": [
            [
             0,
             "#0d0887"
            ],
            [
             0.1111111111111111,
             "#46039f"
            ],
            [
             0.2222222222222222,
             "#7201a8"
            ],
            [
             0.3333333333333333,
             "#9c179e"
            ],
            [
             0.4444444444444444,
             "#bd3786"
            ],
            [
             0.5555555555555556,
             "#d8576b"
            ],
            [
             0.6666666666666666,
             "#ed7953"
            ],
            [
             0.7777777777777778,
             "#fb9f3a"
            ],
            [
             0.8888888888888888,
             "#fdca26"
            ],
            [
             1,
             "#f0f921"
            ]
           ]
          },
          "colorway": [
           "#636efa",
           "#EF553B",
           "#00cc96",
           "#ab63fa",
           "#FFA15A",
           "#19d3f3",
           "#FF6692",
           "#B6E880",
           "#FF97FF",
           "#FECB52"
          ],
          "font": {
           "color": "#2a3f5f"
          },
          "geo": {
           "bgcolor": "white",
           "lakecolor": "white",
           "landcolor": "#E5ECF6",
           "showlakes": true,
           "showland": true,
           "subunitcolor": "white"
          },
          "hoverlabel": {
           "align": "left"
          },
          "hovermode": "closest",
          "mapbox": {
           "style": "light"
          },
          "paper_bgcolor": "white",
          "plot_bgcolor": "#E5ECF6",
          "polar": {
           "angularaxis": {
            "gridcolor": "white",
            "linecolor": "white",
            "ticks": ""
           },
           "bgcolor": "#E5ECF6",
           "radialaxis": {
            "gridcolor": "white",
            "linecolor": "white",
            "ticks": ""
           }
          },
          "scene": {
           "xaxis": {
            "backgroundcolor": "#E5ECF6",
            "gridcolor": "white",
            "gridwidth": 2,
            "linecolor": "white",
            "showbackground": true,
            "ticks": "",
            "zerolinecolor": "white"
           },
           "yaxis": {
            "backgroundcolor": "#E5ECF6",
            "gridcolor": "white",
            "gridwidth": 2,
            "linecolor": "white",
            "showbackground": true,
            "ticks": "",
            "zerolinecolor": "white"
           },
           "zaxis": {
            "backgroundcolor": "#E5ECF6",
            "gridcolor": "white",
            "gridwidth": 2,
            "linecolor": "white",
            "showbackground": true,
            "ticks": "",
            "zerolinecolor": "white"
           }
          },
          "shapedefaults": {
           "line": {
            "color": "#2a3f5f"
           }
          },
          "ternary": {
           "aaxis": {
            "gridcolor": "white",
            "linecolor": "white",
            "ticks": ""
           },
           "baxis": {
            "gridcolor": "white",
            "linecolor": "white",
            "ticks": ""
           },
           "bgcolor": "#E5ECF6",
           "caxis": {
            "gridcolor": "white",
            "linecolor": "white",
            "ticks": ""
           }
          },
          "title": {
           "x": 0.05
          },
          "xaxis": {
           "automargin": true,
           "gridcolor": "white",
           "linecolor": "white",
           "ticks": "",
           "title": {
            "standoff": 15
           },
           "zerolinecolor": "white",
           "zerolinewidth": 2
          },
          "yaxis": {
           "automargin": true,
           "gridcolor": "white",
           "linecolor": "white",
           "ticks": "",
           "title": {
            "standoff": 15
           },
           "zerolinecolor": "white",
           "zerolinewidth": 2
          }
         }
        },
        "violinmode": "group",
        "width": 2750,
        "xaxis": {
         "anchor": "y",
         "domain": [
          0,
          1
         ],
         "linecolor": "black",
         "linewidth": 1,
         "range": [
          0,
          1.02
         ],
         "showline": true,
         "tickangle": 90,
         "title": {
          "text": "Mean Average Precision"
         }
        },
        "yaxis": {
         "anchor": "x",
         "domain": [
          0,
          1
         ],
         "linecolor": "black",
         "linewidth": 1,
         "showline": true,
         "title": {
          "text": ""
         }
        }
       }
      }
     },
     "metadata": {},
     "output_type": "display_data"
    }
   ],
   "source": [
    "### Copairs on standard feature selected batches - mAP with respect to controls\n",
    "mAP_control_plot, mAP_control_dict = copairs_batches_newerversion(dict_to_load_feature_selected,negdiffby_parameters=['Metadata_control_type'], filename='PhenotypicActivity')"
   ]
  },
  {
   "cell_type": "markdown",
   "metadata": {},
   "source": [
    "#### mAP based on MoA"
   ]
  },
  {
   "cell_type": "markdown",
   "metadata": {},
   "source": [
    "#### Reading the result csv of copairs to get add the cell count info "
   ]
  },
  {
   "cell_type": "code",
   "execution_count": 26,
   "metadata": {},
   "outputs": [],
   "source": [
    "result_csv ={'c:\\\\Users\\\\ssivagur\\\\Documents\\\\Projects\\\\Cell_painting_projects\\\\CDoT\\\\Batch3_analysis_redo\\\\UpdatedCopairsVersion\\\\BR00122250_normalized_feature_select_negcon_batch_Result_NegconNorm_mAP_PhenotypicActivity.csv':'Standard CP', \n",
    "             'c:\\\\Users\\\\ssivagur\\\\Documents\\\\Projects\\\\Cell_painting_projects\\\\CDoT\\\\Batch3_analysis_redo\\\\UpdatedCopairsVersion\\\\BR00122246_normalized_feature_select_negcon_batch_Result_NegconNorm_mAP_PhenotypicActivity.csv':'CP + MitoBrilliant',\n",
    "            'c:\\\\Users\\\\ssivagur\\\\Documents\\\\Projects\\\\Cell_painting_projects\\\\CDoT\\\\Batch3_analysis_redo\\\\UpdatedCopairsVersion\\\\BR00122247_normalized_feature_select_negcon_batch_Result_NegconNorm_mAP_PhenotypicActivity.csv':'CP + Phenovue phalloidin 400LS',\n",
    "            'c:\\\\Users\\\\ssivagur\\\\Documents\\\\Projects\\\\Cell_painting_projects\\\\CDoT\\\\Batch3_analysis_redo\\\\UpdatedCopairsVersion\\\\BR00122248_normalized_feature_select_negcon_batch_Result_NegconNorm_mAP_PhenotypicActivity.csv':'Standard CP (exposed to ChromaLive)',\n",
    "            'c:\\\\Users\\\\ssivagur\\\\Documents\\\\Projects\\\\Cell_painting_projects\\\\CDoT\\\\Batch3_analysis_redo\\\\UpdatedCopairsVersion\\\\BR00122249_normalized_feature_select_negcon_batch_wo_phasefeatures_Result_NegconNorm_mAP_PhenotypicActivity.csv':'ChromaLive + Hoechst'}"
   ]
  },
  {
   "cell_type": "markdown",
   "metadata": {},
   "source": [
    "#### Reading the aggregate csv files of copairs "
   ]
  },
  {
   "cell_type": "code",
   "execution_count": 27,
   "metadata": {},
   "outputs": [],
   "source": [
    "aggregate_files_dict = {'c:\\\\Users\\\\ssivagur\\\\Documents\\\\Projects\\\\Cell_painting_projects\\\\CDoT\\\\Batch3_analysis_redo\\\\UpdatedCopairsVersion\\\\BR00122250_normalized_feature_select_negcon_batch_Aggregate_result_NegconNorm_mAP_PhenotypicActivity.csv':'Standard CP',\n",
    "                        'c:\\\\Users\\\\ssivagur\\\\Documents\\\\Projects\\\\Cell_painting_projects\\\\CDoT\\\\Batch3_analysis_redo\\\\UpdatedCopairsVersion\\\\BR00122246_normalized_feature_select_negcon_batch_Aggregate_result_NegconNorm_mAP_PhenotypicActivity.csv':'CP + MitoBrilliant',\n",
    "                        'c:\\\\Users\\\\ssivagur\\\\Documents\\\\Projects\\\\Cell_painting_projects\\\\CDoT\\\\Batch3_analysis_redo\\\\UpdatedCopairsVersion\\\\BR00122247_normalized_feature_select_negcon_batch_Aggregate_result_NegconNorm_mAP_PhenotypicActivity.csv':'CP + Phenovue phalloidin 400LS',\n",
    "                        'c:\\\\Users\\\\ssivagur\\\\Documents\\\\Projects\\\\Cell_painting_projects\\\\CDoT\\\\Batch3_analysis_redo\\\\UpdatedCopairsVersion\\\\BR00122248_normalized_feature_select_negcon_batch_Aggregate_result_NegconNorm_mAP_PhenotypicActivity.csv':'Standard CP (exposed to ChromaLive)',\n",
    "                        'c:\\\\Users\\\\ssivagur\\\\Documents\\\\Projects\\\\Cell_painting_projects\\\\CDoT\\\\Batch3_analysis_redo\\\\UpdatedCopairsVersion\\\\BR00122249_normalized_feature_select_negcon_batch_wo_phasefeatures_Aggregate_result_NegconNorm_mAP_PhenotypicActivity.csv':'ChromaLive + Hoechst'}"
   ]
  },
  {
   "cell_type": "markdown",
   "metadata": {},
   "source": [
    "#### Plot generation"
   ]
  },
  {
   "cell_type": "code",
   "execution_count": 28,
   "metadata": {},
   "outputs": [],
   "source": [
    "moA_control_plot, df_controls = cell_count_norm_colorscheme(result_csv, aggregate_files_dict)"
   ]
  },
  {
   "cell_type": "markdown",
   "metadata": {},
   "source": []
  },
  {
   "cell_type": "code",
   "execution_count": 29,
   "metadata": {},
   "outputs": [
    {
     "data": {
      "application/vnd.plotly.v1+json": {
       "config": {
        "plotlyServerURL": "https://plot.ly"
       },
       "data": [
        {
         "hovertext": [
          "pomalidomide",
          "homochlorcyclizine",
          "orphenadrine",
          "AZD7545",
          "SHP099",
          "hydroxyzine",
          "SU-11274",
          "PF-477736",
          "GSK-3-inhibitor-IX",
          "A-366",
          "apratastat",
          "merimepodib",
          "BMS-863233",
          "veliparib",
          "PFI-1",
          "P5091",
          "CHIR-99021",
          "filgotinib",
          "Staurosporine",
          "SGX523",
          "CPI-0610",
          "BIX-02188",
          "AMG900",
          "T-0901317",
          "ML-298",
          "NVP-AEW541",
          "maprotiline",
          "ML324",
          "ketotifen",
          "PNU-74654",
          "SU3327",
          "GW-3965",
          "carmustine",
          "filanesib",
          "APY0201",
          "GW-5074",
          "lenvatinib",
          "ponatinib",
          "WZ4003",
          "BX-912",
          "halopemide",
          "MK-5108",
          "ruxolitinib",
          "dosulepin",
          "niraparib",
          "ABT-737",
          "BMS-566419",
          "selumetinib",
          "UNC0642",
          "romidepsin",
          "RGFP966",
          "venetoclax",
          "quazinone",
          "ispinesib",
          "THZ1",
          "KH-CB19",
          "GDC-0879",
          "rheochrysidin",
          "FR-180204",
          "Thapsigargin",
          "EPZ015666",
          "DACTINOMYCIN",
          "GSK2334470",
          "BLU9931",
          "valrubicin",
          "purmorphamine",
          "BI-78D3",
          "SCH-900776",
          "CP-724714",
          "andarine",
          "rosuvastatin",
          "dimethindene-(S)-(+)",
          "skepinone-l",
          "sirolimus",
          "neratinib",
          "delta-Tocotrienol",
          "linsitinib",
          "SGC-707",
          "GNF-5",
          "PD-198306",
          "VX-745",
          "ML-323",
          "ICG-001",
          "AMG-925",
          "GSK-J4",
          "IOX2",
          "PS178990",
          "AZD2014",
          "SAG",
          "acriflavine"
         ],
         "marker": {
          "color": "#0173b2",
          "size": [
           40.85,
           38.2775,
           41.74,
           36.2775,
           39.725,
           38.835,
           18.455,
           2.565,
           16.01,
           38.58,
           38.8175,
           13.7125,
           31.88,
           38.5075,
           36.8375,
           36.7525,
           34.2775,
           39.25,
           8.5575,
           39,
           31.8125,
           37.85,
           7.27,
           39.56,
           37.6625,
           31.2375,
           39.4875,
           34.0825,
           41.11,
           38.915,
           30.89,
           41.8925,
           37.835,
           4.9725,
           22.245,
           41.8525,
           32.485,
           3.5425,
           33.615,
           12.465,
           37.6025,
           25.435,
           40.3225,
           39.3725,
           20.57,
           30.7175,
           24.695,
           34.7025,
           37.075,
           2.9775,
           25.465,
           34.0825,
           37.8625,
           4.815,
           1.2325,
           41.71,
           44.21,
           40.0725,
           39.035,
           0.9025,
           35.455,
           2.0825,
           30.39,
           25.3925,
           1.98,
           38.5375,
           37.7525,
           5.7,
           37.97,
           40.5525,
           38.5125,
           40.465,
           30.8075,
           27.385,
           16.3675,
           39.2675,
           31.145,
           38.775,
           38.32,
           36.675,
           38.0625,
           35.7725,
           29.245,
           20.545,
           12.7625,
           39.7425,
           40.4825,
           13.4375,
           38.385,
           0.7425
          ],
          "sizemin": 3,
          "sizemode": "area",
          "sizeref": 0.1
         },
         "mode": "markers",
         "name": "Standard CP",
         "type": "scatter",
         "x": [
          "tumor necrosis factor production inhibitor",
          "antihistamine",
          "acetylcholine receptor antagonist",
          "pyruvate dehydrogenase kinase inhibitor",
          "protein tyrosine kinase inhibitor",
          "antihistamine",
          "hepatocyte growth factor receptor inhibitor",
          "CHK inhibitor",
          "glycogen synthase kinase inhibitor",
          "histone lysine methyltransferase inhibitor",
          "tumor necrosis factor production inhibitor",
          "inosine monophosphate dehydrogenase inhibitor",
          "CDC inhibitor",
          "PARP inhibitor",
          "bromodomain inhibitor",
          "ubiquitin specific protease inhibitor",
          "glycogen synthase kinase inhibitor",
          "JAK inhibitor",
          "Apoptosis inducer (ATP-competitive kinase inhibitor)",
          "hepatocyte growth factor receptor inhibitor",
          "bromodomain inhibitor",
          "MEK inhibitor",
          "Aurora kinase inhibitor",
          "LXR agonist",
          "phospholipase inhibitor",
          "IGF-1 inhibitor",
          "tricyclic antidepressant",
          "histone lysine demethylase inhibitor",
          "phosphodiesterase inhibitor",
          "beta-catenin inhibitor",
          "JNK inhibitor",
          "LXR agonist",
          "DNA inhibitor",
          "kinesin inhibitor",
          "phosphoinositide dependent kinase inhibitor",
          "RAF inhibitor",
          "FGFR inhibitor",
          "Bcr-Abl kinase inhibitor",
          "AMPK inhibitor",
          "pyruvate dehydrogenase kinase inhibitor",
          "phospholipase inhibitor",
          "Aurora kinase inhibitor",
          "JAK inhibitor",
          "tricyclic antidepressant",
          "PARP inhibitor",
          "BCL inhibitor",
          "inosine monophosphate dehydrogenase inhibitor",
          "MEK inhibitor",
          "histone lysine methyltransferase inhibitor",
          "HDAC inhibitor",
          "HDAC inhibitor",
          "BCL inhibitor",
          "phosphodiesterase inhibitor",
          "kinesin inhibitor",
          "CDK inhibitor",
          "CDC inhibitor",
          "RAF inhibitor",
          "protein tyrosine kinase inhibitor",
          "MAP kinase inhibitor",
          "ER stressor (SERCA inhibitor)",
          "protein arginine N-methyltransferase inhibitor",
          "Apoptosis inducer (transcription inhibitor)",
          "phosphoinositide dependent kinase inhibitor",
          "FGFR inhibitor",
          "DNA inhibitor",
          "smoothened receptor agonist",
          "JNK inhibitor",
          "CHK inhibitor",
          "EGFR inhibitor",
          "androgen receptor modulator",
          "HMGCR inhibitor",
          "acetylcholine receptor antagonist",
          "p38 MAPK inhibitor",
          "mTOR inhibitor",
          "EGFR inhibitor",
          "HMGCR inhibitor",
          "IGF-1 inhibitor",
          "protein arginine N-methyltransferase inhibitor",
          "Bcr-Abl kinase inhibitor",
          "MAP kinase inhibitor",
          "p38 MAPK inhibitor",
          "ubiquitin specific protease inhibitor",
          "beta-catenin inhibitor",
          "CDK inhibitor",
          "histone lysine demethylase inhibitor",
          "hypoxia inducible factor inhibitor",
          "androgen receptor modulator",
          "mTOR inhibitor",
          "smoothened receptor agonist",
          "hypoxia inducible factor inhibitor"
         ],
         "y": [
          0.2944622507122507,
          0.4792508417508417,
          0.319870857699805,
          1,
          0.2676155969634231,
          0.3374634502923976,
          1,
          1,
          1,
          0.3198193337163925,
          0.6796626984126983,
          1,
          1,
          0.2917989417989418,
          0.8875,
          0.7805555555555556,
          1,
          0.3150836783988958,
          1,
          0.1536923878196257,
          1,
          0.675,
          1,
          1,
          0.3332581598099332,
          1,
          0.1386736411736411,
          0.8377976190476191,
          0.3261078042328042,
          0.2779858077340915,
          0.3716928904428904,
          0.6833333333333333,
          0.279142501017501,
          1,
          1,
          0.3442460317460317,
          1,
          1,
          1,
          1,
          1,
          1,
          0.7496031746031745,
          0.2060171854289501,
          1,
          1,
          0.9583333333333334,
          1,
          1,
          1,
          1,
          0.9097222222222222,
          0.1116510292826082,
          1,
          1,
          0.3768786768786769,
          1,
          0.1934468952947214,
          0.4020197273486747,
          1,
          1,
          1,
          1,
          1,
          1,
          0.7472222222222222,
          0.4298340548340548,
          1,
          0.4321937321937322,
          0.1618973346914523,
          0.3379400691900692,
          0.2155818668046928,
          1,
          1,
          1,
          0.2000589225589225,
          1,
          0.4715078766549354,
          0.9666666666666668,
          0.90625,
          0.8236111111111111,
          1,
          1,
          1,
          1,
          0.2409419026679088,
          0.2155164108337482,
          1,
          0.8854166666666666,
          1
         ]
        },
        {
         "hovertext": [
          "pomalidomide",
          "homochlorcyclizine",
          "orphenadrine",
          "AZD7545",
          "SHP099",
          "hydroxyzine",
          "SU-11274",
          "PF-477736",
          "GSK-3-inhibitor-IX",
          "A-366",
          "apratastat",
          "merimepodib",
          "BMS-863233",
          "veliparib",
          "PFI-1",
          "P5091",
          "CHIR-99021",
          "filgotinib",
          "Staurosporine",
          "SGX523",
          "CPI-0610",
          "BIX-02188",
          "AMG900",
          "T-0901317",
          "ML-298",
          "NVP-AEW541",
          "maprotiline",
          "ML324",
          "ketotifen",
          "PNU-74654",
          "SU3327",
          "GW-3965",
          "carmustine",
          "filanesib",
          "APY0201",
          "GW-5074",
          "lenvatinib",
          "ponatinib",
          "WZ4003",
          "BX-912",
          "halopemide",
          "MK-5108",
          "ruxolitinib",
          "dosulepin",
          "niraparib",
          "ABT-737",
          "BMS-566419",
          "selumetinib",
          "UNC0642",
          "romidepsin",
          "RGFP966",
          "venetoclax",
          "quazinone",
          "ispinesib",
          "THZ1",
          "KH-CB19",
          "GDC-0879",
          "rheochrysidin",
          "FR-180204",
          "Thapsigargin",
          "EPZ015666",
          "DACTINOMYCIN",
          "GSK2334470",
          "BLU9931",
          "valrubicin",
          "purmorphamine",
          "BI-78D3",
          "SCH-900776",
          "CP-724714",
          "andarine",
          "rosuvastatin",
          "dimethindene-(S)-(+)",
          "skepinone-l",
          "sirolimus",
          "neratinib",
          "delta-Tocotrienol",
          "linsitinib",
          "SGC-707",
          "GNF-5",
          "PD-198306",
          "VX-745",
          "ML-323",
          "ICG-001",
          "AMG-925",
          "GSK-J4",
          "IOX2",
          "PS178990",
          "AZD2014",
          "SAG",
          "acriflavine"
         ],
         "marker": {
          "color": "#de8f05",
          "size": [
           40.66,
           41.45,
           40.87,
           36.9,
           41.18,
           41.1975,
           19.455,
           2.6375,
           16.6975,
           40.635,
           40.4625,
           13.9925,
           33.4725,
           40.265,
           37.26,
           38.6975,
           35.5525,
           41.0825,
           8.9475,
           41.73,
           32.18,
           39.535,
           7.37,
           39.0525,
           40.1475,
           31.9925,
           41.005,
           36.4525,
           40.6375,
           40.29,
           29.366666666666664,
           41.0425,
           38.5525,
           5.2,
           22.495,
           41.9275,
           32.8775,
           3.9675,
           35.0125,
           12.49,
           40.29,
           26.5625,
           40.8525,
           40.4275,
           21.8,
           31.9975,
           26.7175,
           35.295,
           37.6675,
           3.025,
           26.09,
           35.84,
           39.975,
           4.765,
           1.49,
           40.5675,
           45.7025,
           40.81,
           39.88,
           0.9425,
           35.81,
           2.355,
           30.7375,
           26.0775,
           1.9225,
           41.055,
           40.0275,
           6.79,
           39.96,
           41.48,
           40.24,
           41.8125,
           31.89,
           28.8,
           17.2275,
           40.1525,
           32.2075,
           41.8075,
           39.835,
           37.825,
           39.175,
           35.995,
           30.6925,
           21.595,
           12.405,
           42.435,
           40.6825,
           13.7625,
           39.49,
           0.5
          ],
          "sizemin": 3,
          "sizemode": "area",
          "sizeref": 0.1
         },
         "mode": "markers",
         "name": "CP + MitoBrilliant",
         "type": "scatter",
         "x": [
          "tumor necrosis factor production inhibitor",
          "antihistamine",
          "acetylcholine receptor antagonist",
          "pyruvate dehydrogenase kinase inhibitor",
          "protein tyrosine kinase inhibitor",
          "antihistamine",
          "hepatocyte growth factor receptor inhibitor",
          "CHK inhibitor",
          "glycogen synthase kinase inhibitor",
          "histone lysine methyltransferase inhibitor",
          "tumor necrosis factor production inhibitor",
          "inosine monophosphate dehydrogenase inhibitor",
          "CDC inhibitor",
          "PARP inhibitor",
          "bromodomain inhibitor",
          "ubiquitin specific protease inhibitor",
          "glycogen synthase kinase inhibitor",
          "JAK inhibitor",
          "Apoptosis inducer (ATP-competitive kinase inhibitor)",
          "hepatocyte growth factor receptor inhibitor",
          "bromodomain inhibitor",
          "MEK inhibitor",
          "Aurora kinase inhibitor",
          "LXR agonist",
          "phospholipase inhibitor",
          "IGF-1 inhibitor",
          "tricyclic antidepressant",
          "histone lysine demethylase inhibitor",
          "phosphodiesterase inhibitor",
          "beta-catenin inhibitor",
          "JNK inhibitor",
          "LXR agonist",
          "DNA inhibitor",
          "kinesin inhibitor",
          "phosphoinositide dependent kinase inhibitor",
          "RAF inhibitor",
          "FGFR inhibitor",
          "Bcr-Abl kinase inhibitor",
          "AMPK inhibitor",
          "pyruvate dehydrogenase kinase inhibitor",
          "phospholipase inhibitor",
          "Aurora kinase inhibitor",
          "JAK inhibitor",
          "tricyclic antidepressant",
          "PARP inhibitor",
          "BCL inhibitor",
          "inosine monophosphate dehydrogenase inhibitor",
          "MEK inhibitor",
          "histone lysine methyltransferase inhibitor",
          "HDAC inhibitor",
          "HDAC inhibitor",
          "BCL inhibitor",
          "phosphodiesterase inhibitor",
          "kinesin inhibitor",
          "CDK inhibitor",
          "CDC inhibitor",
          "RAF inhibitor",
          "protein tyrosine kinase inhibitor",
          "MAP kinase inhibitor",
          "ER stressor (SERCA inhibitor)",
          "protein arginine N-methyltransferase inhibitor",
          "Apoptosis inducer (transcription inhibitor)",
          "phosphoinositide dependent kinase inhibitor",
          "FGFR inhibitor",
          "DNA inhibitor",
          "smoothened receptor agonist",
          "JNK inhibitor",
          "CHK inhibitor",
          "EGFR inhibitor",
          "androgen receptor modulator",
          "HMGCR inhibitor",
          "acetylcholine receptor antagonist",
          "p38 MAPK inhibitor",
          "mTOR inhibitor",
          "EGFR inhibitor",
          "HMGCR inhibitor",
          "IGF-1 inhibitor",
          "protein arginine N-methyltransferase inhibitor",
          "Bcr-Abl kinase inhibitor",
          "MAP kinase inhibitor",
          "p38 MAPK inhibitor",
          "ubiquitin specific protease inhibitor",
          "beta-catenin inhibitor",
          "CDK inhibitor",
          "histone lysine demethylase inhibitor",
          "hypoxia inducible factor inhibitor",
          "androgen receptor modulator",
          "mTOR inhibitor",
          "smoothened receptor agonist",
          "hypoxia inducible factor inhibitor"
         ],
         "y": [
          0.1938674615145203,
          0.3181547619047619,
          0.4426735301735301,
          0.8972222222222223,
          0.299443052074631,
          0.2940737865194387,
          1,
          1,
          1,
          0.6799603174603175,
          0.2330090741532389,
          1,
          1,
          0.1483847512136986,
          1,
          0.3650613275613276,
          1,
          0.2308624124413598,
          1,
          0.1571415852665852,
          1,
          0.7509920634920635,
          1,
          0.6102272727272727,
          0.238154876312771,
          0.9791666666666666,
          0.1375396226866815,
          1,
          0.1604999240525556,
          0.2005454448932709,
          0.5779220779220778,
          0.870436507936508,
          0.1962775260801576,
          1,
          1,
          0.6023809523809524,
          1,
          1,
          1,
          1,
          0.8833333333333333,
          0.7902777777777777,
          0.6001984126984127,
          0.2657634032634032,
          1,
          1,
          1,
          1,
          1,
          1,
          1,
          0.8833333333333333,
          0.229006919006919,
          1,
          1,
          0.2517676767676767,
          1,
          0.1172289076293652,
          0.4773141074611663,
          1,
          0.8312499999999999,
          1,
          1,
          1,
          1,
          0.8833333333333333,
          0.2399971505949766,
          1,
          0.7876984126984127,
          0.1280925651862184,
          0.2419002634792108,
          0.2997685185185185,
          1,
          1,
          1,
          0.2160091066341066,
          1,
          0.1975700003445998,
          1,
          0.7916666666666666,
          0.6516106442577031,
          1,
          1,
          1,
          1,
          0.4537080036693039,
          0.2023872180451127,
          1,
          1,
          1
         ]
        },
        {
         "hovertext": [
          "pomalidomide",
          "homochlorcyclizine",
          "orphenadrine",
          "AZD7545",
          "SHP099",
          "hydroxyzine",
          "SU-11274",
          "PF-477736",
          "GSK-3-inhibitor-IX",
          "A-366",
          "apratastat",
          "merimepodib",
          "BMS-863233",
          "veliparib",
          "PFI-1",
          "P5091",
          "CHIR-99021",
          "filgotinib",
          "Staurosporine",
          "SGX523",
          "CPI-0610",
          "BIX-02188",
          "AMG900",
          "T-0901317",
          "ML-298",
          "NVP-AEW541",
          "maprotiline",
          "ML324",
          "ketotifen",
          "PNU-74654",
          "SU3327",
          "GW-3965",
          "carmustine",
          "filanesib",
          "APY0201",
          "GW-5074",
          "lenvatinib",
          "ponatinib",
          "WZ4003",
          "BX-912",
          "halopemide",
          "MK-5108",
          "ruxolitinib",
          "dosulepin",
          "niraparib",
          "ABT-737",
          "BMS-566419",
          "selumetinib",
          "UNC0642",
          "romidepsin",
          "RGFP966",
          "venetoclax",
          "quazinone",
          "ispinesib",
          "THZ1",
          "KH-CB19",
          "GDC-0879",
          "rheochrysidin",
          "FR-180204",
          "Thapsigargin",
          "EPZ015666",
          "DACTINOMYCIN",
          "GSK2334470",
          "BLU9931",
          "valrubicin",
          "purmorphamine",
          "BI-78D3",
          "SCH-900776",
          "CP-724714",
          "andarine",
          "rosuvastatin",
          "dimethindene-(S)-(+)",
          "skepinone-l",
          "sirolimus",
          "neratinib",
          "delta-Tocotrienol",
          "linsitinib",
          "SGC-707",
          "GNF-5",
          "PD-198306",
          "VX-745",
          "ML-323",
          "ICG-001",
          "AMG-925",
          "GSK-J4",
          "IOX2",
          "PS178990",
          "AZD2014",
          "SAG",
          "acriflavine"
         ],
         "marker": {
          "color": "#029e73",
          "size": [
           42.05,
           40.9625,
           41.4825,
           35.9925,
           41.9875,
           38.1925,
           19.3825,
           2.6325,
           15.85,
           39.6525,
           41.615,
           14.575,
           33.995,
           39.12,
           37.95,
           38.8525,
           34.6775,
           40.81,
           9.4975,
           40.4525,
           33.03,
           39.575,
           7.275,
           40.375,
           39.18,
           31.8725,
           40.5925,
           36.2625,
           39.9525,
           39.4825,
           30.5725,
           40.155,
           39.5625,
           5.015,
           22.48,
           42.7025,
           30.9875,
           3.2975,
           35.795,
           11.7525,
           42.1475,
           26.01,
           42.2225,
           41.1125,
           21.405,
           31.0275,
           25.53,
           35.825,
           38.495,
           2.8025,
           25.85,
           35.47,
           40.135,
           4.505,
           1.1375,
           41.285,
           45.5475,
           41.3475,
           42.5925,
           0.845,
           38.3,
           1.9225,
           29.885,
           25.8775,
           1.795,
           40.01,
           40.025,
           5.57,
           39.395,
           41.8925,
           40.8425,
           42.325,
           32.725,
           27.37,
           17.315,
           39.5125,
           32.02,
           41.1375,
           39.585,
           37.84,
           40.695,
           36.9275,
           30.0475,
           21.685,
           13.35,
           43.505,
           39.6775,
           14.5225,
           39.65,
           0.54
          ],
          "sizemin": 3,
          "sizemode": "area",
          "sizeref": 0.1
         },
         "mode": "markers",
         "name": "CP + Phenovue phalloidin 400LS",
         "type": "scatter",
         "x": [
          "tumor necrosis factor production inhibitor",
          "antihistamine",
          "acetylcholine receptor antagonist",
          "pyruvate dehydrogenase kinase inhibitor",
          "protein tyrosine kinase inhibitor",
          "antihistamine",
          "hepatocyte growth factor receptor inhibitor",
          "CHK inhibitor",
          "glycogen synthase kinase inhibitor",
          "histone lysine methyltransferase inhibitor",
          "tumor necrosis factor production inhibitor",
          "inosine monophosphate dehydrogenase inhibitor",
          "CDC inhibitor",
          "PARP inhibitor",
          "bromodomain inhibitor",
          "ubiquitin specific protease inhibitor",
          "glycogen synthase kinase inhibitor",
          "JAK inhibitor",
          "Apoptosis inducer (ATP-competitive kinase inhibitor)",
          "hepatocyte growth factor receptor inhibitor",
          "bromodomain inhibitor",
          "MEK inhibitor",
          "Aurora kinase inhibitor",
          "LXR agonist",
          "phospholipase inhibitor",
          "IGF-1 inhibitor",
          "tricyclic antidepressant",
          "histone lysine demethylase inhibitor",
          "phosphodiesterase inhibitor",
          "beta-catenin inhibitor",
          "JNK inhibitor",
          "LXR agonist",
          "DNA inhibitor",
          "kinesin inhibitor",
          "phosphoinositide dependent kinase inhibitor",
          "RAF inhibitor",
          "FGFR inhibitor",
          "Bcr-Abl kinase inhibitor",
          "AMPK inhibitor",
          "pyruvate dehydrogenase kinase inhibitor",
          "phospholipase inhibitor",
          "Aurora kinase inhibitor",
          "JAK inhibitor",
          "tricyclic antidepressant",
          "PARP inhibitor",
          "BCL inhibitor",
          "inosine monophosphate dehydrogenase inhibitor",
          "MEK inhibitor",
          "histone lysine methyltransferase inhibitor",
          "HDAC inhibitor",
          "HDAC inhibitor",
          "BCL inhibitor",
          "phosphodiesterase inhibitor",
          "kinesin inhibitor",
          "CDK inhibitor",
          "CDC inhibitor",
          "RAF inhibitor",
          "protein tyrosine kinase inhibitor",
          "MAP kinase inhibitor",
          "ER stressor (SERCA inhibitor)",
          "protein arginine N-methyltransferase inhibitor",
          "Apoptosis inducer (transcription inhibitor)",
          "phosphoinositide dependent kinase inhibitor",
          "FGFR inhibitor",
          "DNA inhibitor",
          "smoothened receptor agonist",
          "JNK inhibitor",
          "CHK inhibitor",
          "EGFR inhibitor",
          "androgen receptor modulator",
          "HMGCR inhibitor",
          "acetylcholine receptor antagonist",
          "p38 MAPK inhibitor",
          "mTOR inhibitor",
          "EGFR inhibitor",
          "HMGCR inhibitor",
          "IGF-1 inhibitor",
          "protein arginine N-methyltransferase inhibitor",
          "Bcr-Abl kinase inhibitor",
          "MAP kinase inhibitor",
          "p38 MAPK inhibitor",
          "ubiquitin specific protease inhibitor",
          "beta-catenin inhibitor",
          "CDK inhibitor",
          "histone lysine demethylase inhibitor",
          "hypoxia inducible factor inhibitor",
          "androgen receptor modulator",
          "mTOR inhibitor",
          "smoothened receptor agonist",
          "hypoxia inducible factor inhibitor"
         ],
         "y": [
          0.2558751542575072,
          0.1593121897881959,
          0.3335751054501055,
          0.8500000000000001,
          0.248718917391518,
          0.5228863728863729,
          1,
          1,
          1,
          0.3401785714285714,
          0.1566587347837347,
          1,
          1,
          0.3268518518518518,
          1,
          0.3692045454545454,
          1,
          0.3742799852067586,
          1,
          0.1680952643548551,
          1,
          0.7242063492063492,
          1,
          1,
          0.3908527678748266,
          1,
          0.3147934813724287,
          0.4847187412976886,
          0.2237367614269788,
          0.240540293040293,
          0.2428185190413451,
          0.6048611111111111,
          0.1154631271135847,
          1,
          1,
          0.2824013949013949,
          1,
          1,
          0.9097222222222222,
          1,
          1,
          1,
          0.6797852474323063,
          0.2132009058479646,
          1,
          1,
          0.7871031746031747,
          1,
          0.8694444444444445,
          1,
          1,
          0.7999999999999999,
          0.1576762709914883,
          1,
          1,
          0.275005305152364,
          0.7676587301587302,
          0.2301143301143301,
          0.4014936330725804,
          1,
          0.9583333333333331,
          1,
          0.9513888888888888,
          1,
          1,
          0.5174693362193362,
          0.2016026747005007,
          1,
          0.5733987077737077,
          0.2232273391812865,
          0.365625,
          0.4890873015873015,
          1,
          1,
          1,
          0.1883964719491035,
          1,
          0.1587512025012024,
          1,
          0.8694444444444445,
          0.5371031746031746,
          0.7583333333333333,
          0.8069444444444445,
          1,
          1,
          0.9055555555555556,
          0.1651788790919225,
          1,
          0.8347222222222223,
          1
         ]
        },
        {
         "hovertext": [
          "pomalidomide",
          "homochlorcyclizine",
          "orphenadrine",
          "AZD7545",
          "SHP099",
          "hydroxyzine",
          "SU-11274",
          "PF-477736",
          "GSK-3-inhibitor-IX",
          "A-366",
          "apratastat",
          "merimepodib",
          "BMS-863233",
          "veliparib",
          "PFI-1",
          "P5091",
          "CHIR-99021",
          "filgotinib",
          "Staurosporine",
          "SGX523",
          "CPI-0610",
          "BIX-02188",
          "AMG900",
          "T-0901317",
          "ML-298",
          "NVP-AEW541",
          "maprotiline",
          "ML324",
          "ketotifen",
          "PNU-74654",
          "SU3327",
          "GW-3965",
          "carmustine",
          "filanesib",
          "APY0201",
          "GW-5074",
          "lenvatinib",
          "ponatinib",
          "WZ4003",
          "BX-912",
          "halopemide",
          "MK-5108",
          "ruxolitinib",
          "dosulepin",
          "niraparib",
          "ABT-737",
          "BMS-566419",
          "selumetinib",
          "UNC0642",
          "romidepsin",
          "RGFP966",
          "venetoclax",
          "quazinone",
          "ispinesib",
          "THZ1",
          "KH-CB19",
          "GDC-0879",
          "rheochrysidin",
          "FR-180204",
          "Thapsigargin",
          "EPZ015666",
          "DACTINOMYCIN",
          "GSK2334470",
          "BLU9931",
          "valrubicin",
          "purmorphamine",
          "BI-78D3",
          "SCH-900776",
          "CP-724714",
          "andarine",
          "rosuvastatin",
          "dimethindene-(S)-(+)",
          "skepinone-l",
          "sirolimus",
          "neratinib",
          "delta-Tocotrienol",
          "linsitinib",
          "SGC-707",
          "GNF-5",
          "PD-198306",
          "VX-745",
          "ML-323",
          "ICG-001",
          "AMG-925",
          "GSK-J4",
          "IOX2",
          "PS178990",
          "AZD2014",
          "SAG",
          "acriflavine"
         ],
         "marker": {
          "color": "#d55e00",
          "size": [
           37.9075,
           36.8675,
           39.0075,
           32.935,
           37.4375,
           37.56,
           19.0225,
           2.8125,
           17.5,
           35.715,
           37.9025,
           15.455,
           29.0075,
           36.675,
           33.2325,
           33.315,
           34.385,
           36.1275,
           10,
           36.12,
           27.2975,
           37.115,
           9.46,
           35.9,
           36.4625,
           28.455,
           39.0575,
           32.44,
           37.475,
           36.1075,
           26.865,
           36.8225,
           35.415,
           6.1375,
           22.8,
           39.1275,
           32.725,
           3.9075,
           31.4175,
           15.3575,
           38.9225,
           25.7925,
           35.44,
           38.46,
           22.5525,
           30.7775,
           25.18,
           32.845,
           34.545,
           2.515,
           25.6125,
           32.6375,
           36.3825,
           5.38,
           1.3575,
           38.43,
           42.345,
           36.8175,
           36.53,
           2.295,
           33.535,
           2.1825,
           26.305,
           22.6325,
           2.8575,
           34.795,
           37.6075,
           6.1025,
           35.6575,
           38.19,
           33.4125,
           39.4025,
           32.1425,
           26.075,
           17.6925,
           37.12,
           28.0825,
           37.76,
           36.185,
           34.685,
           37.6475,
           33.3475,
           27.8875,
           21.34,
           13.7125,
           38.7225,
           36.1075,
           13.67,
           35.1425,
           0.965
          ],
          "sizemin": 3,
          "sizemode": "area",
          "sizeref": 0.1
         },
         "mode": "markers",
         "name": "Standard CP (exposed to ChromaLive)",
         "type": "scatter",
         "x": [
          "tumor necrosis factor production inhibitor",
          "antihistamine",
          "acetylcholine receptor antagonist",
          "pyruvate dehydrogenase kinase inhibitor",
          "protein tyrosine kinase inhibitor",
          "antihistamine",
          "hepatocyte growth factor receptor inhibitor",
          "CHK inhibitor",
          "glycogen synthase kinase inhibitor",
          "histone lysine methyltransferase inhibitor",
          "tumor necrosis factor production inhibitor",
          "inosine monophosphate dehydrogenase inhibitor",
          "CDC inhibitor",
          "PARP inhibitor",
          "bromodomain inhibitor",
          "ubiquitin specific protease inhibitor",
          "glycogen synthase kinase inhibitor",
          "JAK inhibitor",
          "Apoptosis inducer (ATP-competitive kinase inhibitor)",
          "hepatocyte growth factor receptor inhibitor",
          "bromodomain inhibitor",
          "MEK inhibitor",
          "Aurora kinase inhibitor",
          "LXR agonist",
          "phospholipase inhibitor",
          "IGF-1 inhibitor",
          "tricyclic antidepressant",
          "histone lysine demethylase inhibitor",
          "phosphodiesterase inhibitor",
          "beta-catenin inhibitor",
          "JNK inhibitor",
          "LXR agonist",
          "DNA inhibitor",
          "kinesin inhibitor",
          "phosphoinositide dependent kinase inhibitor",
          "RAF inhibitor",
          "FGFR inhibitor",
          "Bcr-Abl kinase inhibitor",
          "AMPK inhibitor",
          "pyruvate dehydrogenase kinase inhibitor",
          "phospholipase inhibitor",
          "Aurora kinase inhibitor",
          "JAK inhibitor",
          "tricyclic antidepressant",
          "PARP inhibitor",
          "BCL inhibitor",
          "inosine monophosphate dehydrogenase inhibitor",
          "MEK inhibitor",
          "histone lysine methyltransferase inhibitor",
          "HDAC inhibitor",
          "HDAC inhibitor",
          "BCL inhibitor",
          "phosphodiesterase inhibitor",
          "kinesin inhibitor",
          "CDK inhibitor",
          "CDC inhibitor",
          "RAF inhibitor",
          "protein tyrosine kinase inhibitor",
          "MAP kinase inhibitor",
          "ER stressor (SERCA inhibitor)",
          "protein arginine N-methyltransferase inhibitor",
          "Apoptosis inducer (transcription inhibitor)",
          "phosphoinositide dependent kinase inhibitor",
          "FGFR inhibitor",
          "DNA inhibitor",
          "smoothened receptor agonist",
          "JNK inhibitor",
          "CHK inhibitor",
          "EGFR inhibitor",
          "androgen receptor modulator",
          "HMGCR inhibitor",
          "acetylcholine receptor antagonist",
          "p38 MAPK inhibitor",
          "mTOR inhibitor",
          "EGFR inhibitor",
          "HMGCR inhibitor",
          "IGF-1 inhibitor",
          "protein arginine N-methyltransferase inhibitor",
          "Bcr-Abl kinase inhibitor",
          "MAP kinase inhibitor",
          "p38 MAPK inhibitor",
          "ubiquitin specific protease inhibitor",
          "beta-catenin inhibitor",
          "CDK inhibitor",
          "histone lysine demethylase inhibitor",
          "hypoxia inducible factor inhibitor",
          "androgen receptor modulator",
          "mTOR inhibitor",
          "smoothened receptor agonist",
          "hypoxia inducible factor inhibitor"
         ],
         "y": [
          0.2581150793650794,
          0.1912890214360802,
          0.1658369408369408,
          0.8680555555555556,
          0.3758415568050949,
          0.2324854421893895,
          1,
          1,
          1,
          0.4154995331465919,
          0.2168022691532753,
          1,
          1,
          0.1556814713064713,
          1,
          0.451497113997114,
          0.9791666666666666,
          0.2133162861104037,
          0.925,
          0.2154039552065867,
          1,
          0.4540824915824916,
          1,
          1,
          0.3401552492341966,
          1,
          0.2566279562931198,
          0.7777777777777777,
          0.1786914216674278,
          0.2303865711159761,
          0.5907828282828282,
          0.631547619047619,
          0.1203641845745426,
          1,
          1,
          0.6478174603174603,
          1,
          1,
          0.7155753968253968,
          1,
          0.9666666666666668,
          0.8694444444444445,
          0.7222222222222222,
          0.1592156685906686,
          1,
          0.7791666666666667,
          1,
          1,
          0.9513888888888888,
          1,
          0.9375,
          0.8204365079365079,
          0.1582135797209326,
          1,
          1,
          0.249017649017649,
          0.8833333333333333,
          0.4066880341880342,
          0.2260547201336675,
          1,
          0.6629807692307692,
          1,
          1,
          1,
          1,
          0.8833333333333333,
          0.2130186600838775,
          1,
          0.7258928571428571,
          0.1997802646699705,
          0.3300189393939394,
          0.350976800976801,
          0.7468253968253968,
          0.6791666666666666,
          0.7375,
          0.1461048673548673,
          1,
          0.2863131031609292,
          1,
          1,
          0.4768696581196581,
          0.9583333333333331,
          1,
          1,
          1,
          0.29921940267335,
          0.2008671761961235,
          1,
          0.5430555555555555,
          1
         ]
        },
        {
         "hovertext": [
          "pomalidomide",
          "homochlorcyclizine",
          "orphenadrine",
          "AZD7545",
          "SHP099",
          "hydroxyzine",
          "SU-11274",
          "PF-477736",
          "GSK-3-inhibitor-IX",
          "A-366",
          "apratastat",
          "merimepodib",
          "BMS-863233",
          "veliparib",
          "PFI-1",
          "P5091",
          "CHIR-99021",
          "filgotinib",
          "Staurosporine",
          "SGX523",
          "CPI-0610",
          "BIX-02188",
          "AMG900",
          "T-0901317",
          "ML-298",
          "NVP-AEW541",
          "maprotiline",
          "ML324",
          "ketotifen",
          "PNU-74654",
          "SU3327",
          "GW-3965",
          "carmustine",
          "filanesib",
          "APY0201",
          "GW-5074",
          "lenvatinib",
          "ponatinib",
          "WZ4003",
          "BX-912",
          "halopemide",
          "MK-5108",
          "ruxolitinib",
          "dosulepin",
          "niraparib",
          "ABT-737",
          "BMS-566419",
          "selumetinib",
          "UNC0642",
          "romidepsin",
          "RGFP966",
          "venetoclax",
          "quazinone",
          "ispinesib",
          "THZ1",
          "KH-CB19",
          "GDC-0879",
          "rheochrysidin",
          "FR-180204",
          "Thapsigargin",
          "EPZ015666",
          "DACTINOMYCIN",
          "GSK2334470",
          "BLU9931",
          "valrubicin",
          "purmorphamine",
          "BI-78D3",
          "SCH-900776",
          "CP-724714",
          "andarine",
          "rosuvastatin",
          "dimethindene-(S)-(+)",
          "skepinone-l",
          "sirolimus",
          "neratinib",
          "delta-Tocotrienol",
          "linsitinib",
          "SGC-707",
          "GNF-5",
          "PD-198306",
          "VX-745",
          "ML-323",
          "ICG-001",
          "AMG-925",
          "GSK-J4",
          "IOX2",
          "PS178990",
          "AZD2014",
          "SAG",
          "acriflavine"
         ],
         "marker": {
          "color": "#cc78bc",
          "size": [
           37.57,
           39.9075,
           39.9775,
           33.2775,
           41.2675,
           39.42,
           19.425,
           3.915,
           16.9075,
           37.97,
           39.23,
           15.1675,
           31.93,
           37.195,
           37.2675,
           37.4025,
           34.34,
           38.7225,
           10.115,
           38.28,
           31.2275,
           39.2125,
           9.5375,
           35.4975,
           38.1675,
           29.095,
           37.9825,
           34.015,
           39.3175,
           37.255,
           34.975,
           38.085,
           36.5375,
           6.7675,
           22.035,
           39.1625,
           31.955,
           7.2975,
           33.36,
           14.295,
           38.995,
           26.5925,
           38.7925,
           38.44,
           20.5725,
           30.285,
           23.895,
           35.8925,
           36.2525,
           6.2025,
           26.755,
           34.6875,
           38.17,
           6.745,
           3.445,
           40.74,
           43.005,
           36.99,
           40.53,
           3.3275,
           36.205,
           5.1225,
           27.625,
           22.8675,
           4.52,
           36.885,
           40.0725,
           7.2875,
           38.26,
           39.305,
           37.0625,
           39.7775,
           32.885,
           25.8675,
           17.0825,
           38.6275,
           30.085,
           39.2375,
           37.695,
           35.8975,
           38.1475,
           35.6,
           27.9,
           22.25,
           14.46,
           41.59,
           39.3475,
           14.165,
           36.945,
           3.6225
          ],
          "sizemin": 3,
          "sizemode": "area",
          "sizeref": 0.1
         },
         "mode": "markers",
         "name": "ChromaLive + Hoechst",
         "type": "scatter",
         "x": [
          "tumor necrosis factor production inhibitor",
          "antihistamine",
          "acetylcholine receptor antagonist",
          "pyruvate dehydrogenase kinase inhibitor",
          "protein tyrosine kinase inhibitor",
          "antihistamine",
          "hepatocyte growth factor receptor inhibitor",
          "CHK inhibitor",
          "glycogen synthase kinase inhibitor",
          "histone lysine methyltransferase inhibitor",
          "tumor necrosis factor production inhibitor",
          "inosine monophosphate dehydrogenase inhibitor",
          "CDC inhibitor",
          "PARP inhibitor",
          "bromodomain inhibitor",
          "ubiquitin specific protease inhibitor",
          "glycogen synthase kinase inhibitor",
          "JAK inhibitor",
          "Apoptosis inducer (ATP-competitive kinase inhibitor)",
          "hepatocyte growth factor receptor inhibitor",
          "bromodomain inhibitor",
          "MEK inhibitor",
          "Aurora kinase inhibitor",
          "LXR agonist",
          "phospholipase inhibitor",
          "IGF-1 inhibitor",
          "tricyclic antidepressant",
          "histone lysine demethylase inhibitor",
          "phosphodiesterase inhibitor",
          "beta-catenin inhibitor",
          "JNK inhibitor",
          "LXR agonist",
          "DNA inhibitor",
          "kinesin inhibitor",
          "phosphoinositide dependent kinase inhibitor",
          "RAF inhibitor",
          "FGFR inhibitor",
          "Bcr-Abl kinase inhibitor",
          "AMPK inhibitor",
          "pyruvate dehydrogenase kinase inhibitor",
          "phospholipase inhibitor",
          "Aurora kinase inhibitor",
          "JAK inhibitor",
          "tricyclic antidepressant",
          "PARP inhibitor",
          "BCL inhibitor",
          "inosine monophosphate dehydrogenase inhibitor",
          "MEK inhibitor",
          "histone lysine methyltransferase inhibitor",
          "HDAC inhibitor",
          "HDAC inhibitor",
          "BCL inhibitor",
          "phosphodiesterase inhibitor",
          "kinesin inhibitor",
          "CDK inhibitor",
          "CDC inhibitor",
          "RAF inhibitor",
          "protein tyrosine kinase inhibitor",
          "MAP kinase inhibitor",
          "ER stressor (SERCA inhibitor)",
          "protein arginine N-methyltransferase inhibitor",
          "Apoptosis inducer (transcription inhibitor)",
          "phosphoinositide dependent kinase inhibitor",
          "FGFR inhibitor",
          "DNA inhibitor",
          "smoothened receptor agonist",
          "JNK inhibitor",
          "CHK inhibitor",
          "EGFR inhibitor",
          "androgen receptor modulator",
          "HMGCR inhibitor",
          "acetylcholine receptor antagonist",
          "p38 MAPK inhibitor",
          "mTOR inhibitor",
          "EGFR inhibitor",
          "HMGCR inhibitor",
          "IGF-1 inhibitor",
          "protein arginine N-methyltransferase inhibitor",
          "Bcr-Abl kinase inhibitor",
          "MAP kinase inhibitor",
          "p38 MAPK inhibitor",
          "ubiquitin specific protease inhibitor",
          "beta-catenin inhibitor",
          "CDK inhibitor",
          "histone lysine demethylase inhibitor",
          "hypoxia inducible factor inhibitor",
          "androgen receptor modulator",
          "mTOR inhibitor",
          "smoothened receptor agonist",
          "hypoxia inducible factor inhibitor"
         ],
         "y": [
          0.189047499341617,
          0.6853506787330317,
          0.174817977915804,
          0.6607905982905983,
          0.5802997076023391,
          0.3813746438746438,
          1,
          1,
          0.9513888888888888,
          0.2779517704517704,
          0.1735538615973398,
          0.7783909327387588,
          0.8225198412698412,
          0.1982682554373731,
          0.7391339869281046,
          0.133759065009065,
          0.8070779220779221,
          0.3232816951566951,
          1,
          0.1664300976800976,
          1,
          0.4539051226551227,
          0.9083333333333332,
          0.8480392156862745,
          0.7808333333333334,
          1,
          0.9345238095238096,
          0.777281746031746,
          0.6037698412698413,
          0.509433621933622,
          0.1872257236227824,
          0.4828102453102453,
          0.1172151800441274,
          1,
          1,
          0.1873329761602072,
          0.7120273109243698,
          1,
          1,
          1,
          0.5517829900839054,
          0.629635989010989,
          0.3632051282051282,
          0.6292281792281793,
          1,
          0.7027738927738928,
          0.8571428571428572,
          0.3739064076020598,
          1,
          1,
          0.7882936507936508,
          0.652948506066355,
          0.2503133182893244,
          1,
          1,
          0.3560874210330731,
          0.4362037037037036,
          0.5712228592663375,
          0.5537253459736298,
          1,
          0.5040103415103415,
          1,
          1,
          0.6605555555555556,
          1,
          0.8546969696969697,
          0.1304476297123356,
          1,
          0.8638888888888889,
          0.3065434565434565,
          0.253114478114478,
          0.52109440267335,
          0.2095706581000698,
          0.8288239538239538,
          1,
          0.3535014466919837,
          1,
          0.2289251207729468,
          0.3332036019536019,
          0.3964794464794464,
          0.2178630110535481,
          0.5664351851851852,
          0.6367658730158731,
          0.7203219696969697,
          1,
          0.2189301181561243,
          0.1412800162800163,
          1,
          1,
          1
         ]
        }
       ],
       "layout": {
        "boxmode": "group",
        "font": {
         "color": "Black",
         "family": "sans serif",
         "size": 24
        },
        "height": 1250,
        "legend": {
         "x": 1,
         "xanchor": "right",
         "y": 0,
         "yanchor": "bottom"
        },
        "plot_bgcolor": "rgba(0,0,0,0)",
        "template": {
         "data": {
          "bar": [
           {
            "error_x": {
             "color": "#2a3f5f"
            },
            "error_y": {
             "color": "#2a3f5f"
            },
            "marker": {
             "line": {
              "color": "#E5ECF6",
              "width": 0.5
             },
             "pattern": {
              "fillmode": "overlay",
              "size": 10,
              "solidity": 0.2
             }
            },
            "type": "bar"
           }
          ],
          "barpolar": [
           {
            "marker": {
             "line": {
              "color": "#E5ECF6",
              "width": 0.5
             },
             "pattern": {
              "fillmode": "overlay",
              "size": 10,
              "solidity": 0.2
             }
            },
            "type": "barpolar"
           }
          ],
          "carpet": [
           {
            "aaxis": {
             "endlinecolor": "#2a3f5f",
             "gridcolor": "white",
             "linecolor": "white",
             "minorgridcolor": "white",
             "startlinecolor": "#2a3f5f"
            },
            "baxis": {
             "endlinecolor": "#2a3f5f",
             "gridcolor": "white",
             "linecolor": "white",
             "minorgridcolor": "white",
             "startlinecolor": "#2a3f5f"
            },
            "type": "carpet"
           }
          ],
          "choropleth": [
           {
            "colorbar": {
             "outlinewidth": 0,
             "ticks": ""
            },
            "type": "choropleth"
           }
          ],
          "contour": [
           {
            "colorbar": {
             "outlinewidth": 0,
             "ticks": ""
            },
            "colorscale": [
             [
              0,
              "#0d0887"
             ],
             [
              0.1111111111111111,
              "#46039f"
             ],
             [
              0.2222222222222222,
              "#7201a8"
             ],
             [
              0.3333333333333333,
              "#9c179e"
             ],
             [
              0.4444444444444444,
              "#bd3786"
             ],
             [
              0.5555555555555556,
              "#d8576b"
             ],
             [
              0.6666666666666666,
              "#ed7953"
             ],
             [
              0.7777777777777778,
              "#fb9f3a"
             ],
             [
              0.8888888888888888,
              "#fdca26"
             ],
             [
              1,
              "#f0f921"
             ]
            ],
            "type": "contour"
           }
          ],
          "contourcarpet": [
           {
            "colorbar": {
             "outlinewidth": 0,
             "ticks": ""
            },
            "type": "contourcarpet"
           }
          ],
          "heatmap": [
           {
            "colorbar": {
             "outlinewidth": 0,
             "ticks": ""
            },
            "colorscale": [
             [
              0,
              "#0d0887"
             ],
             [
              0.1111111111111111,
              "#46039f"
             ],
             [
              0.2222222222222222,
              "#7201a8"
             ],
             [
              0.3333333333333333,
              "#9c179e"
             ],
             [
              0.4444444444444444,
              "#bd3786"
             ],
             [
              0.5555555555555556,
              "#d8576b"
             ],
             [
              0.6666666666666666,
              "#ed7953"
             ],
             [
              0.7777777777777778,
              "#fb9f3a"
             ],
             [
              0.8888888888888888,
              "#fdca26"
             ],
             [
              1,
              "#f0f921"
             ]
            ],
            "type": "heatmap"
           }
          ],
          "heatmapgl": [
           {
            "colorbar": {
             "outlinewidth": 0,
             "ticks": ""
            },
            "colorscale": [
             [
              0,
              "#0d0887"
             ],
             [
              0.1111111111111111,
              "#46039f"
             ],
             [
              0.2222222222222222,
              "#7201a8"
             ],
             [
              0.3333333333333333,
              "#9c179e"
             ],
             [
              0.4444444444444444,
              "#bd3786"
             ],
             [
              0.5555555555555556,
              "#d8576b"
             ],
             [
              0.6666666666666666,
              "#ed7953"
             ],
             [
              0.7777777777777778,
              "#fb9f3a"
             ],
             [
              0.8888888888888888,
              "#fdca26"
             ],
             [
              1,
              "#f0f921"
             ]
            ],
            "type": "heatmapgl"
           }
          ],
          "histogram": [
           {
            "marker": {
             "pattern": {
              "fillmode": "overlay",
              "size": 10,
              "solidity": 0.2
             }
            },
            "type": "histogram"
           }
          ],
          "histogram2d": [
           {
            "colorbar": {
             "outlinewidth": 0,
             "ticks": ""
            },
            "colorscale": [
             [
              0,
              "#0d0887"
             ],
             [
              0.1111111111111111,
              "#46039f"
             ],
             [
              0.2222222222222222,
              "#7201a8"
             ],
             [
              0.3333333333333333,
              "#9c179e"
             ],
             [
              0.4444444444444444,
              "#bd3786"
             ],
             [
              0.5555555555555556,
              "#d8576b"
             ],
             [
              0.6666666666666666,
              "#ed7953"
             ],
             [
              0.7777777777777778,
              "#fb9f3a"
             ],
             [
              0.8888888888888888,
              "#fdca26"
             ],
             [
              1,
              "#f0f921"
             ]
            ],
            "type": "histogram2d"
           }
          ],
          "histogram2dcontour": [
           {
            "colorbar": {
             "outlinewidth": 0,
             "ticks": ""
            },
            "colorscale": [
             [
              0,
              "#0d0887"
             ],
             [
              0.1111111111111111,
              "#46039f"
             ],
             [
              0.2222222222222222,
              "#7201a8"
             ],
             [
              0.3333333333333333,
              "#9c179e"
             ],
             [
              0.4444444444444444,
              "#bd3786"
             ],
             [
              0.5555555555555556,
              "#d8576b"
             ],
             [
              0.6666666666666666,
              "#ed7953"
             ],
             [
              0.7777777777777778,
              "#fb9f3a"
             ],
             [
              0.8888888888888888,
              "#fdca26"
             ],
             [
              1,
              "#f0f921"
             ]
            ],
            "type": "histogram2dcontour"
           }
          ],
          "mesh3d": [
           {
            "colorbar": {
             "outlinewidth": 0,
             "ticks": ""
            },
            "type": "mesh3d"
           }
          ],
          "parcoords": [
           {
            "line": {
             "colorbar": {
              "outlinewidth": 0,
              "ticks": ""
             }
            },
            "type": "parcoords"
           }
          ],
          "pie": [
           {
            "automargin": true,
            "type": "pie"
           }
          ],
          "scatter": [
           {
            "fillpattern": {
             "fillmode": "overlay",
             "size": 10,
             "solidity": 0.2
            },
            "type": "scatter"
           }
          ],
          "scatter3d": [
           {
            "line": {
             "colorbar": {
              "outlinewidth": 0,
              "ticks": ""
             }
            },
            "marker": {
             "colorbar": {
              "outlinewidth": 0,
              "ticks": ""
             }
            },
            "type": "scatter3d"
           }
          ],
          "scattercarpet": [
           {
            "marker": {
             "colorbar": {
              "outlinewidth": 0,
              "ticks": ""
             }
            },
            "type": "scattercarpet"
           }
          ],
          "scattergeo": [
           {
            "marker": {
             "colorbar": {
              "outlinewidth": 0,
              "ticks": ""
             }
            },
            "type": "scattergeo"
           }
          ],
          "scattergl": [
           {
            "marker": {
             "colorbar": {
              "outlinewidth": 0,
              "ticks": ""
             }
            },
            "type": "scattergl"
           }
          ],
          "scattermapbox": [
           {
            "marker": {
             "colorbar": {
              "outlinewidth": 0,
              "ticks": ""
             }
            },
            "type": "scattermapbox"
           }
          ],
          "scatterpolar": [
           {
            "marker": {
             "colorbar": {
              "outlinewidth": 0,
              "ticks": ""
             }
            },
            "type": "scatterpolar"
           }
          ],
          "scatterpolargl": [
           {
            "marker": {
             "colorbar": {
              "outlinewidth": 0,
              "ticks": ""
             }
            },
            "type": "scatterpolargl"
           }
          ],
          "scatterternary": [
           {
            "marker": {
             "colorbar": {
              "outlinewidth": 0,
              "ticks": ""
             }
            },
            "type": "scatterternary"
           }
          ],
          "surface": [
           {
            "colorbar": {
             "outlinewidth": 0,
             "ticks": ""
            },
            "colorscale": [
             [
              0,
              "#0d0887"
             ],
             [
              0.1111111111111111,
              "#46039f"
             ],
             [
              0.2222222222222222,
              "#7201a8"
             ],
             [
              0.3333333333333333,
              "#9c179e"
             ],
             [
              0.4444444444444444,
              "#bd3786"
             ],
             [
              0.5555555555555556,
              "#d8576b"
             ],
             [
              0.6666666666666666,
              "#ed7953"
             ],
             [
              0.7777777777777778,
              "#fb9f3a"
             ],
             [
              0.8888888888888888,
              "#fdca26"
             ],
             [
              1,
              "#f0f921"
             ]
            ],
            "type": "surface"
           }
          ],
          "table": [
           {
            "cells": {
             "fill": {
              "color": "#EBF0F8"
             },
             "line": {
              "color": "white"
             }
            },
            "header": {
             "fill": {
              "color": "#C8D4E3"
             },
             "line": {
              "color": "white"
             }
            },
            "type": "table"
           }
          ]
         },
         "layout": {
          "annotationdefaults": {
           "arrowcolor": "#2a3f5f",
           "arrowhead": 0,
           "arrowwidth": 1
          },
          "autotypenumbers": "strict",
          "coloraxis": {
           "colorbar": {
            "outlinewidth": 0,
            "ticks": ""
           }
          },
          "colorscale": {
           "diverging": [
            [
             0,
             "#8e0152"
            ],
            [
             0.1,
             "#c51b7d"
            ],
            [
             0.2,
             "#de77ae"
            ],
            [
             0.3,
             "#f1b6da"
            ],
            [
             0.4,
             "#fde0ef"
            ],
            [
             0.5,
             "#f7f7f7"
            ],
            [
             0.6,
             "#e6f5d0"
            ],
            [
             0.7,
             "#b8e186"
            ],
            [
             0.8,
             "#7fbc41"
            ],
            [
             0.9,
             "#4d9221"
            ],
            [
             1,
             "#276419"
            ]
           ],
           "sequential": [
            [
             0,
             "#0d0887"
            ],
            [
             0.1111111111111111,
             "#46039f"
            ],
            [
             0.2222222222222222,
             "#7201a8"
            ],
            [
             0.3333333333333333,
             "#9c179e"
            ],
            [
             0.4444444444444444,
             "#bd3786"
            ],
            [
             0.5555555555555556,
             "#d8576b"
            ],
            [
             0.6666666666666666,
             "#ed7953"
            ],
            [
             0.7777777777777778,
             "#fb9f3a"
            ],
            [
             0.8888888888888888,
             "#fdca26"
            ],
            [
             1,
             "#f0f921"
            ]
           ],
           "sequentialminus": [
            [
             0,
             "#0d0887"
            ],
            [
             0.1111111111111111,
             "#46039f"
            ],
            [
             0.2222222222222222,
             "#7201a8"
            ],
            [
             0.3333333333333333,
             "#9c179e"
            ],
            [
             0.4444444444444444,
             "#bd3786"
            ],
            [
             0.5555555555555556,
             "#d8576b"
            ],
            [
             0.6666666666666666,
             "#ed7953"
            ],
            [
             0.7777777777777778,
             "#fb9f3a"
            ],
            [
             0.8888888888888888,
             "#fdca26"
            ],
            [
             1,
             "#f0f921"
            ]
           ]
          },
          "colorway": [
           "#636efa",
           "#EF553B",
           "#00cc96",
           "#ab63fa",
           "#FFA15A",
           "#19d3f3",
           "#FF6692",
           "#B6E880",
           "#FF97FF",
           "#FECB52"
          ],
          "font": {
           "color": "#2a3f5f"
          },
          "geo": {
           "bgcolor": "white",
           "lakecolor": "white",
           "landcolor": "#E5ECF6",
           "showlakes": true,
           "showland": true,
           "subunitcolor": "white"
          },
          "hoverlabel": {
           "align": "left"
          },
          "hovermode": "closest",
          "mapbox": {
           "style": "light"
          },
          "paper_bgcolor": "white",
          "plot_bgcolor": "#E5ECF6",
          "polar": {
           "angularaxis": {
            "gridcolor": "white",
            "linecolor": "white",
            "ticks": ""
           },
           "bgcolor": "#E5ECF6",
           "radialaxis": {
            "gridcolor": "white",
            "linecolor": "white",
            "ticks": ""
           }
          },
          "scene": {
           "xaxis": {
            "backgroundcolor": "#E5ECF6",
            "gridcolor": "white",
            "gridwidth": 2,
            "linecolor": "white",
            "showbackground": true,
            "ticks": "",
            "zerolinecolor": "white"
           },
           "yaxis": {
            "backgroundcolor": "#E5ECF6",
            "gridcolor": "white",
            "gridwidth": 2,
            "linecolor": "white",
            "showbackground": true,
            "ticks": "",
            "zerolinecolor": "white"
           },
           "zaxis": {
            "backgroundcolor": "#E5ECF6",
            "gridcolor": "white",
            "gridwidth": 2,
            "linecolor": "white",
            "showbackground": true,
            "ticks": "",
            "zerolinecolor": "white"
           }
          },
          "shapedefaults": {
           "line": {
            "color": "#2a3f5f"
           }
          },
          "ternary": {
           "aaxis": {
            "gridcolor": "white",
            "linecolor": "white",
            "ticks": ""
           },
           "baxis": {
            "gridcolor": "white",
            "linecolor": "white",
            "ticks": ""
           },
           "bgcolor": "#E5ECF6",
           "caxis": {
            "gridcolor": "white",
            "linecolor": "white",
            "ticks": ""
           }
          },
          "title": {
           "x": 0.05
          },
          "xaxis": {
           "automargin": true,
           "gridcolor": "white",
           "linecolor": "white",
           "ticks": "",
           "title": {
            "standoff": 15
           },
           "zerolinecolor": "white",
           "zerolinewidth": 2
          },
          "yaxis": {
           "automargin": true,
           "gridcolor": "white",
           "linecolor": "white",
           "ticks": "",
           "title": {
            "standoff": 15
           },
           "zerolinecolor": "white",
           "zerolinewidth": 2
          }
         }
        },
        "width": 2000,
        "xaxis": {
         "categoryorder": "mean ascending",
         "linecolor": "black",
         "tickangle": 90
        },
        "yaxis": {
         "linecolor": "black",
         "title": {
          "text": "Mean average precision"
         }
        }
       }
      }
     },
     "metadata": {},
     "output_type": "display_data"
    }
   ],
   "source": [
    "moA_control_plot"
   ]
  }
 ],
 "metadata": {
  "kernelspec": {
   "display_name": "copairs",
   "language": "python",
   "name": "python3"
  },
  "language_info": {
   "codemirror_mode": {
    "name": "ipython",
    "version": 3
   },
   "file_extension": ".py",
   "mimetype": "text/x-python",
   "name": "python",
   "nbconvert_exporter": "python",
   "pygments_lexer": "ipython3",
   "version": "3.12.2"
  }
 },
 "nbformat": 4,
 "nbformat_minor": 2
}
