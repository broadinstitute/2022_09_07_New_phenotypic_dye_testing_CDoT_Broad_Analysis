{
 "cells": [
  {
   "cell_type": "code",
   "execution_count": 1,
   "metadata": {},
   "outputs": [
    {
     "name": "stdout",
     "output_type": "stream",
     "text": [
      "Python 3.12.2\n"
     ]
    }
   ],
   "source": [
    "!python --version"
   ]
  },
  {
   "cell_type": "code",
   "execution_count": 23,
   "metadata": {},
   "outputs": [
    {
     "name": "stdout",
     "output_type": "stream",
     "text": [
      "The autoreload extension is already loaded. To reload it, use:\n",
      "  %reload_ext autoreload\n"
     ]
    }
   ],
   "source": [
    "#importing necessary modules \n",
    "import pandas as pd\n",
    "import numpy as np\n",
    "import matplotlib.pyplot as plt\n",
    "from sklearn.decomposition import PCA\n",
    "from sklearn.preprocessing import StandardScaler\n",
    "import plotly.graph_objects as go\n",
    "from plotly.subplots import make_subplots\n",
    "import plotly.express as px\n",
    "import seaborn as sns\n",
    "import copairs\n",
    "import pycytominer\n",
    "from copairs.map import average_precision\n",
    "from copairs.map import mean_average_precision\n",
    "from utils import * \n",
    "\n",
    "%load_ext autoreload\n",
    "%autoreload 2"
   ]
  },
  {
   "cell_type": "code",
   "execution_count": 3,
   "metadata": {},
   "outputs": [
    {
     "name": "stdout",
     "output_type": "stream",
     "text": [
      "Name: copairs\n",
      "Version: 0.4.1\n",
      "Summary: Find pairs and compute metrics between them\n",
      "Home-page: \n",
      "Author: \n",
      "Author-email: John Arevalo <johnarevalo@gmail.com>\n",
      "License: \n",
      "Location: c:\\Users\\ssivagur\\Anaconda3\\envs\\copairs\\Lib\\site-packages\n",
      "Requires: pandas, statsmodels, tqdm\n",
      "Required-by: \n",
      "Note: you may need to restart the kernel to use updated packages.\n"
     ]
    }
   ],
   "source": [
    "pip show copairs"
   ]
  },
  {
   "cell_type": "markdown",
   "metadata": {},
   "source": [
    "### Phenotypic activity"
   ]
  },
  {
   "cell_type": "markdown",
   "metadata": {},
   "source": [
    "#### Reading the result csv of copairs to get add the cell count info "
   ]
  },
  {
   "cell_type": "code",
   "execution_count": 4,
   "metadata": {},
   "outputs": [],
   "source": [
    "result_csv ={'c:\\\\Users\\\\ssivagur\\\\Documents\\\\Projects\\\\Cell_painting_projects\\\\CDoT\\\\Batch3_analysis_redo\\\\UpdatedCopairsVersion\\\\BR00122250_normalized_feature_select_negcon_batch_Result_NegconNorm_mAP_PhenotypicActivity.csv':'Standard CP', \n",
    "             'c:\\\\Users\\\\ssivagur\\\\Documents\\\\Projects\\\\Cell_painting_projects\\\\CDoT\\\\Batch3_analysis_redo\\\\UpdatedCopairsVersion\\\\BR00122246_normalized_feature_select_negcon_batch_Result_NegconNorm_mAP_PhenotypicActivity.csv':'CP + MitoBrilliant',\n",
    "            'c:\\\\Users\\\\ssivagur\\\\Documents\\\\Projects\\\\Cell_painting_projects\\\\CDoT\\\\Batch3_analysis_redo\\\\UpdatedCopairsVersion\\\\BR00122247_normalized_feature_select_negcon_batch_Result_NegconNorm_mAP_PhenotypicActivity.csv':'CP + Phenovue phalloidin 400LS',\n",
    "            'c:\\\\Users\\\\ssivagur\\\\Documents\\\\Projects\\\\Cell_painting_projects\\\\CDoT\\\\Batch3_analysis_redo\\\\UpdatedCopairsVersion\\\\BR00122248_normalized_feature_select_negcon_batch_Result_NegconNorm_mAP_PhenotypicActivity.csv':'Standard CP (exposed to ChromaLive)',\n",
    "            'c:\\\\Users\\\\ssivagur\\\\Documents\\\\Projects\\\\Cell_painting_projects\\\\CDoT\\\\Batch3_analysis_redo\\\\UpdatedCopairsVersion\\\\BR00122249_normalized_feature_select_negcon_batch_wo_phasefeatures_Result_NegconNorm_mAP_PhenotypicActivity.csv':'ChromaLive + Hoechst'}"
   ]
  },
  {
   "cell_type": "markdown",
   "metadata": {},
   "source": [
    "#### Reading the aggregate csv files of copairs "
   ]
  },
  {
   "cell_type": "code",
   "execution_count": 5,
   "metadata": {},
   "outputs": [],
   "source": [
    "aggregate_files_dict = {'c:\\\\Users\\\\ssivagur\\\\Documents\\\\Projects\\\\Cell_painting_projects\\\\CDoT\\\\Batch3_analysis_redo\\\\UpdatedCopairsVersion\\\\BR00122250_normalized_feature_select_negcon_batch_Aggregate_result_NegconNorm_mAP_PhenotypicActivity.csv':'Standard CP',\n",
    "                        'c:\\\\Users\\\\ssivagur\\\\Documents\\\\Projects\\\\Cell_painting_projects\\\\CDoT\\\\Batch3_analysis_redo\\\\UpdatedCopairsVersion\\\\BR00122246_normalized_feature_select_negcon_batch_Aggregate_result_NegconNorm_mAP_PhenotypicActivity.csv':'CP + MitoBrilliant',\n",
    "                        'c:\\\\Users\\\\ssivagur\\\\Documents\\\\Projects\\\\Cell_painting_projects\\\\CDoT\\\\Batch3_analysis_redo\\\\UpdatedCopairsVersion\\\\BR00122247_normalized_feature_select_negcon_batch_Aggregate_result_NegconNorm_mAP_PhenotypicActivity.csv':'CP + Phenovue phalloidin 400LS',\n",
    "                        'c:\\\\Users\\\\ssivagur\\\\Documents\\\\Projects\\\\Cell_painting_projects\\\\CDoT\\\\Batch3_analysis_redo\\\\UpdatedCopairsVersion\\\\BR00122248_normalized_feature_select_negcon_batch_Aggregate_result_NegconNorm_mAP_PhenotypicActivity.csv':'Standard CP (exposed to ChromaLive)',\n",
    "                        'c:\\\\Users\\\\ssivagur\\\\Documents\\\\Projects\\\\Cell_painting_projects\\\\CDoT\\\\Batch3_analysis_redo\\\\UpdatedCopairsVersion\\\\BR00122249_normalized_feature_select_negcon_batch_wo_phasefeatures_Aggregate_result_NegconNorm_mAP_PhenotypicActivity.csv':'ChromaLive + Hoechst'}"
   ]
  },
  {
   "cell_type": "code",
   "execution_count": 6,
   "metadata": {},
   "outputs": [],
   "source": [
    "moA_control_plot, df_controls = cell_count_norm_colorscheme(result_csv, aggregate_files_dict)"
   ]
  },
  {
   "cell_type": "code",
   "execution_count": 7,
   "metadata": {},
   "outputs": [],
   "source": [
    "list_of_MoA = df_controls['MoA'].drop_duplicates()"
   ]
  },
  {
   "cell_type": "code",
   "execution_count": 8,
   "metadata": {},
   "outputs": [
    {
     "data": {
      "text/plain": [
       "47"
      ]
     },
     "execution_count": 8,
     "metadata": {},
     "output_type": "execute_result"
    }
   ],
   "source": [
    "len(list_of_MoA)"
   ]
  },
  {
   "cell_type": "code",
   "execution_count": 9,
   "metadata": {},
   "outputs": [
    {
     "data": {
      "text/plain": [
       "47"
      ]
     },
     "execution_count": 9,
     "metadata": {},
     "output_type": "execute_result"
    }
   ],
   "source": [
    "list_of_MoA.nunique()"
   ]
  },
  {
   "cell_type": "code",
   "execution_count": 10,
   "metadata": {},
   "outputs": [
    {
     "data": {
      "text/plain": [
       "0            tumor necrosis factor production inhibitor\n",
       "1                                         antihistamine\n",
       "2                     acetylcholine receptor antagonist\n",
       "3               pyruvate dehydrogenase kinase inhibitor\n",
       "4                     protein tyrosine kinase inhibitor\n",
       "6           hepatocyte growth factor receptor inhibitor\n",
       "7                                         CHK inhibitor\n",
       "8                    glycogen synthase kinase inhibitor\n",
       "9            histone lysine methyltransferase inhibitor\n",
       "11        inosine monophosphate dehydrogenase inhibitor\n",
       "12                                        CDC inhibitor\n",
       "13                                       PARP inhibitor\n",
       "14                                bromodomain inhibitor\n",
       "15                ubiquitin specific protease inhibitor\n",
       "17                                        JAK inhibitor\n",
       "18    Apoptosis inducer (ATP-competitive kinase inhi...\n",
       "21                                        MEK inhibitor\n",
       "22                              Aurora kinase inhibitor\n",
       "23                                          LXR agonist\n",
       "24                              phospholipase inhibitor\n",
       "25                                      IGF-1 inhibitor\n",
       "26                             tricyclic antidepressant\n",
       "27                 histone lysine demethylase inhibitor\n",
       "28                          phosphodiesterase inhibitor\n",
       "29                               beta-catenin inhibitor\n",
       "30                                        JNK inhibitor\n",
       "32                                        DNA inhibitor\n",
       "33                                    kinesin inhibitor\n",
       "34          phosphoinositide dependent kinase inhibitor\n",
       "35                                        RAF inhibitor\n",
       "36                                       FGFR inhibitor\n",
       "37                             Bcr-Abl kinase inhibitor\n",
       "38                                       AMPK inhibitor\n",
       "45                                        BCL inhibitor\n",
       "49                                       HDAC inhibitor\n",
       "54                                        CDK inhibitor\n",
       "58                                 MAP kinase inhibitor\n",
       "59                        ER stressor (SERCA inhibitor)\n",
       "60       protein arginine N-methyltransferase inhibitor\n",
       "61          Apoptosis inducer (transcription inhibitor)\n",
       "65                          smoothened receptor agonist\n",
       "68                                       EGFR inhibitor\n",
       "69                          androgen receptor modulator\n",
       "70                                      HMGCR inhibitor\n",
       "72                                   p38 MAPK inhibitor\n",
       "73                                       mTOR inhibitor\n",
       "85                   hypoxia inducible factor inhibitor\n",
       "Name: MoA, dtype: object"
      ]
     },
     "execution_count": 10,
     "metadata": {},
     "output_type": "execute_result"
    }
   ],
   "source": [
    "list_of_MoA"
   ]
  },
  {
   "cell_type": "code",
   "execution_count": 24,
   "metadata": {},
   "outputs": [],
   "source": [
    "plot, plot_dict = plot_precision_values_dyeset(df_controls, list_of_MoA, rename_columns={'mean_average_precisionStandard CP':'Standard CP', 'mean_average_precisionCP + MitoBrilliant':'CP + MitoBrilliant', 'mean_average_precisionCP + Phenovue phalloidin 400LS':'CP + Phenovue phalloidin 400LS', 'mean_average_precisionStandard_CP (exposed to ChromaLive)':'Standard_CP (exposed to ChromaLive)', 'mean_average_precisionChromaLive + Hoechst':'ChromaLive + Hoechst'})"
   ]
  },
  {
   "cell_type": "code",
   "execution_count": 25,
   "metadata": {},
   "outputs": [
    {
     "data": {
      "application/vnd.plotly.v1+json": {
       "config": {
        "plotlyServerURL": "https://plot.ly"
       },
       "data": [
        {
         "marker": {
          "color": "#0173b2",
          "size": 12
         },
         "mode": "markers",
         "name": "pomalidomide",
         "showlegend": false,
         "type": "scatter",
         "x": [
          "Standard CP",
          "CP + MitoBrilliant",
          "CP + Phenovue phalloidin 400LS",
          "Standard CP (exposed to ChromaLive)",
          "ChromaLive + Hoechst"
         ],
         "xaxis": "x",
         "y": [
          0.2944622507122507,
          0.1938674615145203,
          0.2558751542575072,
          0.2581150793650794,
          0.189047499341617
         ],
         "yaxis": "y"
        },
        {
         "marker": {
          "color": "#de8f05",
          "size": 12
         },
         "mode": "markers",
         "name": "apratastat",
         "showlegend": false,
         "type": "scatter",
         "x": [
          "Standard CP",
          "CP + MitoBrilliant",
          "CP + Phenovue phalloidin 400LS",
          "Standard CP (exposed to ChromaLive)",
          "ChromaLive + Hoechst"
         ],
         "xaxis": "x",
         "y": [
          0.6796626984126983,
          0.2330090741532389,
          0.1566587347837347,
          0.2168022691532753,
          0.1735538615973398
         ],
         "yaxis": "y"
        },
        {
         "marker": {
          "color": "#0173b2",
          "size": 12
         },
         "mode": "markers",
         "name": "homochlorcyclizine",
         "showlegend": false,
         "type": "scatter",
         "x": [
          "Standard CP",
          "CP + MitoBrilliant",
          "CP + Phenovue phalloidin 400LS",
          "Standard CP (exposed to ChromaLive)",
          "ChromaLive + Hoechst"
         ],
         "xaxis": "x2",
         "y": [
          0.4792508417508417,
          0.3181547619047619,
          0.1593121897881959,
          0.1912890214360802,
          0.6853506787330317
         ],
         "yaxis": "y2"
        },
        {
         "marker": {
          "color": "#de8f05",
          "size": 12
         },
         "mode": "markers",
         "name": "hydroxyzine",
         "showlegend": false,
         "type": "scatter",
         "x": [
          "Standard CP",
          "CP + MitoBrilliant",
          "CP + Phenovue phalloidin 400LS",
          "Standard CP (exposed to ChromaLive)",
          "ChromaLive + Hoechst"
         ],
         "xaxis": "x2",
         "y": [
          0.3374634502923976,
          0.2940737865194387,
          0.5228863728863729,
          0.2324854421893895,
          0.3813746438746438
         ],
         "yaxis": "y2"
        },
        {
         "marker": {
          "color": "#0173b2",
          "size": 12
         },
         "mode": "markers",
         "name": "orphenadrine",
         "showlegend": false,
         "type": "scatter",
         "x": [
          "Standard CP",
          "CP + MitoBrilliant",
          "CP + Phenovue phalloidin 400LS",
          "Standard CP (exposed to ChromaLive)",
          "ChromaLive + Hoechst"
         ],
         "xaxis": "x3",
         "y": [
          0.319870857699805,
          0.4426735301735301,
          0.3335751054501055,
          0.1658369408369408,
          0.174817977915804
         ],
         "yaxis": "y3"
        },
        {
         "marker": {
          "color": "#de8f05",
          "size": 12
         },
         "mode": "markers",
         "name": "dimethindene-(S)-(+)",
         "showlegend": false,
         "type": "scatter",
         "x": [
          "Standard CP",
          "CP + MitoBrilliant",
          "CP + Phenovue phalloidin 400LS",
          "Standard CP (exposed to ChromaLive)",
          "ChromaLive + Hoechst"
         ],
         "xaxis": "x3",
         "y": [
          0.2155818668046928,
          0.2997685185185185,
          0.4890873015873015,
          0.350976800976801,
          0.52109440267335
         ],
         "yaxis": "y3"
        },
        {
         "marker": {
          "color": "#0173b2",
          "size": 12
         },
         "mode": "markers",
         "name": "AZD7545",
         "showlegend": false,
         "type": "scatter",
         "x": [
          "Standard CP",
          "CP + MitoBrilliant",
          "CP + Phenovue phalloidin 400LS",
          "Standard CP (exposed to ChromaLive)",
          "ChromaLive + Hoechst"
         ],
         "xaxis": "x4",
         "y": [
          1,
          0.8972222222222223,
          0.8500000000000001,
          0.8680555555555556,
          0.6607905982905983
         ],
         "yaxis": "y4"
        },
        {
         "marker": {
          "color": "#de8f05",
          "size": 12
         },
         "mode": "markers",
         "name": "BX-912",
         "showlegend": false,
         "type": "scatter",
         "x": [
          "Standard CP",
          "CP + MitoBrilliant",
          "CP + Phenovue phalloidin 400LS",
          "Standard CP (exposed to ChromaLive)",
          "ChromaLive + Hoechst"
         ],
         "xaxis": "x4",
         "y": [
          1,
          1,
          1,
          1,
          1
         ],
         "yaxis": "y4"
        },
        {
         "marker": {
          "color": "#0173b2",
          "size": 12
         },
         "mode": "markers",
         "name": "SHP099",
         "showlegend": false,
         "type": "scatter",
         "x": [
          "Standard CP",
          "CP + MitoBrilliant",
          "CP + Phenovue phalloidin 400LS",
          "Standard CP (exposed to ChromaLive)",
          "ChromaLive + Hoechst"
         ],
         "xaxis": "x5",
         "y": [
          0.2676155969634231,
          0.299443052074631,
          0.248718917391518,
          0.3758415568050949,
          0.5802997076023391
         ],
         "yaxis": "y5"
        },
        {
         "marker": {
          "color": "#de8f05",
          "size": 12
         },
         "mode": "markers",
         "name": "rheochrysidin",
         "showlegend": false,
         "type": "scatter",
         "x": [
          "Standard CP",
          "CP + MitoBrilliant",
          "CP + Phenovue phalloidin 400LS",
          "Standard CP (exposed to ChromaLive)",
          "ChromaLive + Hoechst"
         ],
         "xaxis": "x5",
         "y": [
          0.1934468952947214,
          0.1172289076293652,
          0.2301143301143301,
          0.4066880341880342,
          0.5712228592663375
         ],
         "yaxis": "y5"
        },
        {
         "marker": {
          "color": "#0173b2",
          "size": 12
         },
         "mode": "markers",
         "name": "SU-11274",
         "showlegend": false,
         "type": "scatter",
         "x": [
          "Standard CP",
          "CP + MitoBrilliant",
          "CP + Phenovue phalloidin 400LS",
          "Standard CP (exposed to ChromaLive)",
          "ChromaLive + Hoechst"
         ],
         "xaxis": "x6",
         "y": [
          1,
          1,
          1,
          1,
          1
         ],
         "yaxis": "y6"
        },
        {
         "marker": {
          "color": "#de8f05",
          "size": 12
         },
         "mode": "markers",
         "name": "SGX523",
         "showlegend": false,
         "type": "scatter",
         "x": [
          "Standard CP",
          "CP + MitoBrilliant",
          "CP + Phenovue phalloidin 400LS",
          "Standard CP (exposed to ChromaLive)",
          "ChromaLive + Hoechst"
         ],
         "xaxis": "x6",
         "y": [
          0.1536923878196257,
          0.1571415852665852,
          0.1680952643548551,
          0.2154039552065867,
          0.1664300976800976
         ],
         "yaxis": "y6"
        },
        {
         "marker": {
          "color": "#0173b2",
          "size": 12
         },
         "mode": "markers",
         "name": "PF-477736",
         "showlegend": false,
         "type": "scatter",
         "x": [
          "Standard CP",
          "CP + MitoBrilliant",
          "CP + Phenovue phalloidin 400LS",
          "Standard CP (exposed to ChromaLive)",
          "ChromaLive + Hoechst"
         ],
         "xaxis": "x7",
         "y": [
          1,
          1,
          1,
          1,
          1
         ],
         "yaxis": "y7"
        },
        {
         "marker": {
          "color": "#de8f05",
          "size": 12
         },
         "mode": "markers",
         "name": "SCH-900776",
         "showlegend": false,
         "type": "scatter",
         "x": [
          "Standard CP",
          "CP + MitoBrilliant",
          "CP + Phenovue phalloidin 400LS",
          "Standard CP (exposed to ChromaLive)",
          "ChromaLive + Hoechst"
         ],
         "xaxis": "x7",
         "y": [
          1,
          1,
          1,
          1,
          1
         ],
         "yaxis": "y7"
        },
        {
         "marker": {
          "color": "#0173b2",
          "size": 12
         },
         "mode": "markers",
         "name": "GSK-3-inhibitor-IX",
         "showlegend": false,
         "type": "scatter",
         "x": [
          "Standard CP",
          "CP + MitoBrilliant",
          "CP + Phenovue phalloidin 400LS",
          "Standard CP (exposed to ChromaLive)",
          "ChromaLive + Hoechst"
         ],
         "xaxis": "x8",
         "y": [
          1,
          1,
          1,
          1,
          0.9513888888888888
         ],
         "yaxis": "y8"
        },
        {
         "marker": {
          "color": "#de8f05",
          "size": 12
         },
         "mode": "markers",
         "name": "CHIR-99021",
         "showlegend": false,
         "type": "scatter",
         "x": [
          "Standard CP",
          "CP + MitoBrilliant",
          "CP + Phenovue phalloidin 400LS",
          "Standard CP (exposed to ChromaLive)",
          "ChromaLive + Hoechst"
         ],
         "xaxis": "x8",
         "y": [
          1,
          1,
          1,
          0.9791666666666666,
          0.8070779220779221
         ],
         "yaxis": "y8"
        },
        {
         "marker": {
          "color": "#0173b2",
          "size": 12
         },
         "mode": "markers",
         "name": "A-366",
         "showlegend": false,
         "type": "scatter",
         "x": [
          "Standard CP",
          "CP + MitoBrilliant",
          "CP + Phenovue phalloidin 400LS",
          "Standard CP (exposed to ChromaLive)",
          "ChromaLive + Hoechst"
         ],
         "xaxis": "x9",
         "y": [
          0.3198193337163925,
          0.6799603174603175,
          0.3401785714285714,
          0.4154995331465919,
          0.2779517704517704
         ],
         "yaxis": "y9"
        },
        {
         "marker": {
          "color": "#de8f05",
          "size": 12
         },
         "mode": "markers",
         "name": "UNC0642",
         "showlegend": false,
         "type": "scatter",
         "x": [
          "Standard CP",
          "CP + MitoBrilliant",
          "CP + Phenovue phalloidin 400LS",
          "Standard CP (exposed to ChromaLive)",
          "ChromaLive + Hoechst"
         ],
         "xaxis": "x9",
         "y": [
          1,
          1,
          0.8694444444444445,
          0.9513888888888888,
          1
         ],
         "yaxis": "y9"
        },
        {
         "marker": {
          "color": "#0173b2",
          "size": 12
         },
         "mode": "markers",
         "name": "merimepodib",
         "showlegend": false,
         "type": "scatter",
         "x": [
          "Standard CP",
          "CP + MitoBrilliant",
          "CP + Phenovue phalloidin 400LS",
          "Standard CP (exposed to ChromaLive)",
          "ChromaLive + Hoechst"
         ],
         "xaxis": "x10",
         "y": [
          1,
          1,
          1,
          1,
          0.7783909327387588
         ],
         "yaxis": "y10"
        },
        {
         "marker": {
          "color": "#de8f05",
          "size": 12
         },
         "mode": "markers",
         "name": "BMS-566419",
         "showlegend": false,
         "type": "scatter",
         "x": [
          "Standard CP",
          "CP + MitoBrilliant",
          "CP + Phenovue phalloidin 400LS",
          "Standard CP (exposed to ChromaLive)",
          "ChromaLive + Hoechst"
         ],
         "xaxis": "x10",
         "y": [
          0.9583333333333334,
          1,
          0.7871031746031747,
          1,
          0.8571428571428572
         ],
         "yaxis": "y10"
        },
        {
         "marker": {
          "color": "#0173b2",
          "size": 12
         },
         "mode": "markers",
         "name": "BMS-863233",
         "showlegend": false,
         "type": "scatter",
         "x": [
          "Standard CP",
          "CP + MitoBrilliant",
          "CP + Phenovue phalloidin 400LS",
          "Standard CP (exposed to ChromaLive)",
          "ChromaLive + Hoechst"
         ],
         "xaxis": "x11",
         "y": [
          1,
          1,
          1,
          1,
          0.8225198412698412
         ],
         "yaxis": "y11"
        },
        {
         "marker": {
          "color": "#de8f05",
          "size": 12
         },
         "mode": "markers",
         "name": "KH-CB19",
         "showlegend": false,
         "type": "scatter",
         "x": [
          "Standard CP",
          "CP + MitoBrilliant",
          "CP + Phenovue phalloidin 400LS",
          "Standard CP (exposed to ChromaLive)",
          "ChromaLive + Hoechst"
         ],
         "xaxis": "x11",
         "y": [
          0.3768786768786769,
          0.2517676767676767,
          0.275005305152364,
          0.249017649017649,
          0.3560874210330731
         ],
         "yaxis": "y11"
        },
        {
         "marker": {
          "color": "#0173b2",
          "size": 12
         },
         "mode": "markers",
         "name": "veliparib",
         "showlegend": false,
         "type": "scatter",
         "x": [
          "Standard CP",
          "CP + MitoBrilliant",
          "CP + Phenovue phalloidin 400LS",
          "Standard CP (exposed to ChromaLive)",
          "ChromaLive + Hoechst"
         ],
         "xaxis": "x12",
         "y": [
          0.2917989417989418,
          0.1483847512136986,
          0.3268518518518518,
          0.1556814713064713,
          0.1982682554373731
         ],
         "yaxis": "y12"
        },
        {
         "marker": {
          "color": "#de8f05",
          "size": 12
         },
         "mode": "markers",
         "name": "niraparib",
         "showlegend": false,
         "type": "scatter",
         "x": [
          "Standard CP",
          "CP + MitoBrilliant",
          "CP + Phenovue phalloidin 400LS",
          "Standard CP (exposed to ChromaLive)",
          "ChromaLive + Hoechst"
         ],
         "xaxis": "x12",
         "y": [
          1,
          1,
          1,
          1,
          1
         ],
         "yaxis": "y12"
        },
        {
         "marker": {
          "color": "#0173b2",
          "size": 12
         },
         "mode": "markers",
         "name": "PFI-1",
         "showlegend": false,
         "type": "scatter",
         "x": [
          "Standard CP",
          "CP + MitoBrilliant",
          "CP + Phenovue phalloidin 400LS",
          "Standard CP (exposed to ChromaLive)",
          "ChromaLive + Hoechst"
         ],
         "xaxis": "x13",
         "y": [
          0.8875,
          1,
          1,
          1,
          0.7391339869281046
         ],
         "yaxis": "y13"
        },
        {
         "marker": {
          "color": "#de8f05",
          "size": 12
         },
         "mode": "markers",
         "name": "CPI-0610",
         "showlegend": false,
         "type": "scatter",
         "x": [
          "Standard CP",
          "CP + MitoBrilliant",
          "CP + Phenovue phalloidin 400LS",
          "Standard CP (exposed to ChromaLive)",
          "ChromaLive + Hoechst"
         ],
         "xaxis": "x13",
         "y": [
          1,
          1,
          1,
          1,
          1
         ],
         "yaxis": "y13"
        },
        {
         "marker": {
          "color": "#0173b2",
          "size": 12
         },
         "mode": "markers",
         "name": "P5091",
         "showlegend": false,
         "type": "scatter",
         "x": [
          "Standard CP",
          "CP + MitoBrilliant",
          "CP + Phenovue phalloidin 400LS",
          "Standard CP (exposed to ChromaLive)",
          "ChromaLive + Hoechst"
         ],
         "xaxis": "x14",
         "y": [
          0.7805555555555556,
          0.3650613275613276,
          0.3692045454545454,
          0.451497113997114,
          0.133759065009065
         ],
         "yaxis": "y14"
        },
        {
         "marker": {
          "color": "#de8f05",
          "size": 12
         },
         "mode": "markers",
         "name": "ML-323",
         "showlegend": false,
         "type": "scatter",
         "x": [
          "Standard CP",
          "CP + MitoBrilliant",
          "CP + Phenovue phalloidin 400LS",
          "Standard CP (exposed to ChromaLive)",
          "ChromaLive + Hoechst"
         ],
         "xaxis": "x14",
         "y": [
          1,
          1,
          0.7583333333333333,
          0.9583333333333331,
          0.5664351851851852
         ],
         "yaxis": "y14"
        },
        {
         "marker": {
          "color": "#0173b2",
          "size": 12
         },
         "mode": "markers",
         "name": "filgotinib",
         "showlegend": false,
         "type": "scatter",
         "x": [
          "Standard CP",
          "CP + MitoBrilliant",
          "CP + Phenovue phalloidin 400LS",
          "Standard CP (exposed to ChromaLive)",
          "ChromaLive + Hoechst"
         ],
         "xaxis": "x15",
         "y": [
          0.3150836783988958,
          0.2308624124413598,
          0.3742799852067586,
          0.2133162861104037,
          0.3232816951566951
         ],
         "yaxis": "y15"
        },
        {
         "marker": {
          "color": "#de8f05",
          "size": 12
         },
         "mode": "markers",
         "name": "ruxolitinib",
         "showlegend": false,
         "type": "scatter",
         "x": [
          "Standard CP",
          "CP + MitoBrilliant",
          "CP + Phenovue phalloidin 400LS",
          "Standard CP (exposed to ChromaLive)",
          "ChromaLive + Hoechst"
         ],
         "xaxis": "x15",
         "y": [
          0.7496031746031745,
          0.6001984126984127,
          0.6797852474323063,
          0.7222222222222222,
          0.3632051282051282
         ],
         "yaxis": "y15"
        },
        {
         "marker": {
          "color": "#0173b2",
          "size": 12
         },
         "mode": "markers",
         "name": "Staurosporine",
         "showlegend": false,
         "type": "scatter",
         "x": [
          "Standard CP",
          "CP + MitoBrilliant",
          "CP + Phenovue phalloidin 400LS",
          "Standard CP (exposed to ChromaLive)",
          "ChromaLive + Hoechst"
         ],
         "xaxis": "x16",
         "y": [
          1,
          1,
          1,
          0.925,
          1
         ],
         "yaxis": "y16"
        },
        {
         "marker": {
          "color": "#0173b2",
          "size": 12
         },
         "mode": "markers",
         "name": "BIX-02188",
         "showlegend": false,
         "type": "scatter",
         "x": [
          "Standard CP",
          "CP + MitoBrilliant",
          "CP + Phenovue phalloidin 400LS",
          "Standard CP (exposed to ChromaLive)",
          "ChromaLive + Hoechst"
         ],
         "xaxis": "x17",
         "y": [
          0.675,
          0.7509920634920635,
          0.7242063492063492,
          0.4540824915824916,
          0.4539051226551227
         ],
         "yaxis": "y17"
        },
        {
         "marker": {
          "color": "#de8f05",
          "size": 12
         },
         "mode": "markers",
         "name": "selumetinib",
         "showlegend": false,
         "type": "scatter",
         "x": [
          "Standard CP",
          "CP + MitoBrilliant",
          "CP + Phenovue phalloidin 400LS",
          "Standard CP (exposed to ChromaLive)",
          "ChromaLive + Hoechst"
         ],
         "xaxis": "x17",
         "y": [
          1,
          1,
          1,
          1,
          0.3739064076020598
         ],
         "yaxis": "y17"
        },
        {
         "marker": {
          "color": "#0173b2",
          "size": 12
         },
         "mode": "markers",
         "name": "AMG900",
         "showlegend": false,
         "type": "scatter",
         "x": [
          "Standard CP",
          "CP + MitoBrilliant",
          "CP + Phenovue phalloidin 400LS",
          "Standard CP (exposed to ChromaLive)",
          "ChromaLive + Hoechst"
         ],
         "xaxis": "x18",
         "y": [
          1,
          1,
          1,
          1,
          0.9083333333333332
         ],
         "yaxis": "y18"
        },
        {
         "marker": {
          "color": "#de8f05",
          "size": 12
         },
         "mode": "markers",
         "name": "MK-5108",
         "showlegend": false,
         "type": "scatter",
         "x": [
          "Standard CP",
          "CP + MitoBrilliant",
          "CP + Phenovue phalloidin 400LS",
          "Standard CP (exposed to ChromaLive)",
          "ChromaLive + Hoechst"
         ],
         "xaxis": "x18",
         "y": [
          1,
          0.7902777777777777,
          1,
          0.8694444444444445,
          0.629635989010989
         ],
         "yaxis": "y18"
        },
        {
         "marker": {
          "color": "#0173b2",
          "size": 12
         },
         "mode": "markers",
         "name": "T-0901317",
         "showlegend": false,
         "type": "scatter",
         "x": [
          "Standard CP",
          "CP + MitoBrilliant",
          "CP + Phenovue phalloidin 400LS",
          "Standard CP (exposed to ChromaLive)",
          "ChromaLive + Hoechst"
         ],
         "xaxis": "x19",
         "y": [
          1,
          0.6102272727272727,
          1,
          1,
          0.8480392156862745
         ],
         "yaxis": "y19"
        },
        {
         "marker": {
          "color": "#de8f05",
          "size": 12
         },
         "mode": "markers",
         "name": "GW-3965",
         "showlegend": false,
         "type": "scatter",
         "x": [
          "Standard CP",
          "CP + MitoBrilliant",
          "CP + Phenovue phalloidin 400LS",
          "Standard CP (exposed to ChromaLive)",
          "ChromaLive + Hoechst"
         ],
         "xaxis": "x19",
         "y": [
          0.6833333333333333,
          0.870436507936508,
          0.6048611111111111,
          0.631547619047619,
          0.4828102453102453
         ],
         "yaxis": "y19"
        },
        {
         "marker": {
          "color": "#0173b2",
          "size": 12
         },
         "mode": "markers",
         "name": "ML-298",
         "showlegend": false,
         "type": "scatter",
         "x": [
          "Standard CP",
          "CP + MitoBrilliant",
          "CP + Phenovue phalloidin 400LS",
          "Standard CP (exposed to ChromaLive)",
          "ChromaLive + Hoechst"
         ],
         "xaxis": "x20",
         "y": [
          0.3332581598099332,
          0.238154876312771,
          0.3908527678748266,
          0.3401552492341966,
          0.7808333333333334
         ],
         "yaxis": "y20"
        },
        {
         "marker": {
          "color": "#de8f05",
          "size": 12
         },
         "mode": "markers",
         "name": "halopemide",
         "showlegend": false,
         "type": "scatter",
         "x": [
          "Standard CP",
          "CP + MitoBrilliant",
          "CP + Phenovue phalloidin 400LS",
          "Standard CP (exposed to ChromaLive)",
          "ChromaLive + Hoechst"
         ],
         "xaxis": "x20",
         "y": [
          1,
          0.8833333333333333,
          1,
          0.9666666666666668,
          0.5517829900839054
         ],
         "yaxis": "y20"
        },
        {
         "marker": {
          "color": "#0173b2",
          "size": 12
         },
         "mode": "markers",
         "name": "NVP-AEW541",
         "showlegend": false,
         "type": "scatter",
         "x": [
          "Standard CP",
          "CP + MitoBrilliant",
          "CP + Phenovue phalloidin 400LS",
          "Standard CP (exposed to ChromaLive)",
          "ChromaLive + Hoechst"
         ],
         "xaxis": "x21",
         "y": [
          1,
          0.9791666666666666,
          1,
          1,
          1
         ],
         "yaxis": "y21"
        },
        {
         "marker": {
          "color": "#de8f05",
          "size": 12
         },
         "mode": "markers",
         "name": "linsitinib",
         "showlegend": false,
         "type": "scatter",
         "x": [
          "Standard CP",
          "CP + MitoBrilliant",
          "CP + Phenovue phalloidin 400LS",
          "Standard CP (exposed to ChromaLive)",
          "ChromaLive + Hoechst"
         ],
         "xaxis": "x21",
         "y": [
          1,
          1,
          1,
          1,
          1
         ],
         "yaxis": "y21"
        },
        {
         "marker": {
          "color": "#0173b2",
          "size": 12
         },
         "mode": "markers",
         "name": "maprotiline",
         "showlegend": false,
         "type": "scatter",
         "x": [
          "Standard CP",
          "CP + MitoBrilliant",
          "CP + Phenovue phalloidin 400LS",
          "Standard CP (exposed to ChromaLive)",
          "ChromaLive + Hoechst"
         ],
         "xaxis": "x22",
         "y": [
          0.1386736411736411,
          0.1375396226866815,
          0.3147934813724287,
          0.2566279562931198,
          0.9345238095238096
         ],
         "yaxis": "y22"
        },
        {
         "marker": {
          "color": "#de8f05",
          "size": 12
         },
         "mode": "markers",
         "name": "dosulepin",
         "showlegend": false,
         "type": "scatter",
         "x": [
          "Standard CP",
          "CP + MitoBrilliant",
          "CP + Phenovue phalloidin 400LS",
          "Standard CP (exposed to ChromaLive)",
          "ChromaLive + Hoechst"
         ],
         "xaxis": "x22",
         "y": [
          0.2060171854289501,
          0.2657634032634032,
          0.2132009058479646,
          0.1592156685906686,
          0.6292281792281793
         ],
         "yaxis": "y22"
        },
        {
         "marker": {
          "color": "#0173b2",
          "size": 12
         },
         "mode": "markers",
         "name": "ML324",
         "showlegend": false,
         "type": "scatter",
         "x": [
          "Standard CP",
          "CP + MitoBrilliant",
          "CP + Phenovue phalloidin 400LS",
          "Standard CP (exposed to ChromaLive)",
          "ChromaLive + Hoechst"
         ],
         "xaxis": "x23",
         "y": [
          0.8377976190476191,
          1,
          0.4847187412976886,
          0.7777777777777777,
          0.777281746031746
         ],
         "yaxis": "y23"
        },
        {
         "marker": {
          "color": "#de8f05",
          "size": 12
         },
         "mode": "markers",
         "name": "GSK-J4",
         "showlegend": false,
         "type": "scatter",
         "x": [
          "Standard CP",
          "CP + MitoBrilliant",
          "CP + Phenovue phalloidin 400LS",
          "Standard CP (exposed to ChromaLive)",
          "ChromaLive + Hoechst"
         ],
         "xaxis": "x23",
         "y": [
          1,
          1,
          1,
          1,
          1
         ],
         "yaxis": "y23"
        },
        {
         "marker": {
          "color": "#0173b2",
          "size": 12
         },
         "mode": "markers",
         "name": "ketotifen",
         "showlegend": false,
         "type": "scatter",
         "x": [
          "Standard CP",
          "CP + MitoBrilliant",
          "CP + Phenovue phalloidin 400LS",
          "Standard CP (exposed to ChromaLive)",
          "ChromaLive + Hoechst"
         ],
         "xaxis": "x24",
         "y": [
          0.3261078042328042,
          0.1604999240525556,
          0.2237367614269788,
          0.1786914216674278,
          0.6037698412698413
         ],
         "yaxis": "y24"
        },
        {
         "marker": {
          "color": "#de8f05",
          "size": 12
         },
         "mode": "markers",
         "name": "quazinone",
         "showlegend": false,
         "type": "scatter",
         "x": [
          "Standard CP",
          "CP + MitoBrilliant",
          "CP + Phenovue phalloidin 400LS",
          "Standard CP (exposed to ChromaLive)",
          "ChromaLive + Hoechst"
         ],
         "xaxis": "x24",
         "y": [
          0.1116510292826082,
          0.229006919006919,
          0.1576762709914883,
          0.1582135797209326,
          0.2503133182893244
         ],
         "yaxis": "y24"
        },
        {
         "marker": {
          "color": "#0173b2",
          "size": 12
         },
         "mode": "markers",
         "name": "PNU-74654",
         "showlegend": false,
         "type": "scatter",
         "x": [
          "Standard CP",
          "CP + MitoBrilliant",
          "CP + Phenovue phalloidin 400LS",
          "Standard CP (exposed to ChromaLive)",
          "ChromaLive + Hoechst"
         ],
         "xaxis": "x25",
         "y": [
          0.2779858077340915,
          0.2005454448932709,
          0.240540293040293,
          0.2303865711159761,
          0.509433621933622
         ],
         "yaxis": "y25"
        },
        {
         "marker": {
          "color": "#de8f05",
          "size": 12
         },
         "mode": "markers",
         "name": "ICG-001",
         "showlegend": false,
         "type": "scatter",
         "x": [
          "Standard CP",
          "CP + MitoBrilliant",
          "CP + Phenovue phalloidin 400LS",
          "Standard CP (exposed to ChromaLive)",
          "ChromaLive + Hoechst"
         ],
         "xaxis": "x25",
         "y": [
          1,
          1,
          0.8069444444444445,
          1,
          0.6367658730158731
         ],
         "yaxis": "y25"
        },
        {
         "marker": {
          "color": "#0173b2",
          "size": 12
         },
         "mode": "markers",
         "name": "SU3327",
         "showlegend": false,
         "type": "scatter",
         "x": [
          "Standard CP",
          "CP + MitoBrilliant",
          "CP + Phenovue phalloidin 400LS",
          "Standard CP (exposed to ChromaLive)",
          "ChromaLive + Hoechst"
         ],
         "xaxis": "x26",
         "y": [
          0.3716928904428904,
          0.5779220779220778,
          0.2428185190413451,
          0.5907828282828282,
          0.1872257236227824
         ],
         "yaxis": "y26"
        },
        {
         "marker": {
          "color": "#de8f05",
          "size": 12
         },
         "mode": "markers",
         "name": "BI-78D3",
         "showlegend": false,
         "type": "scatter",
         "x": [
          "Standard CP",
          "CP + MitoBrilliant",
          "CP + Phenovue phalloidin 400LS",
          "Standard CP (exposed to ChromaLive)",
          "ChromaLive + Hoechst"
         ],
         "xaxis": "x26",
         "y": [
          0.4298340548340548,
          0.2399971505949766,
          0.2016026747005007,
          0.2130186600838775,
          0.1304476297123356
         ],
         "yaxis": "y26"
        },
        {
         "marker": {
          "color": "#0173b2",
          "size": 12
         },
         "mode": "markers",
         "name": "carmustine",
         "showlegend": false,
         "type": "scatter",
         "x": [
          "Standard CP",
          "CP + MitoBrilliant",
          "CP + Phenovue phalloidin 400LS",
          "Standard CP (exposed to ChromaLive)",
          "ChromaLive + Hoechst"
         ],
         "xaxis": "x27",
         "y": [
          0.279142501017501,
          0.1962775260801576,
          0.1154631271135847,
          0.1203641845745426,
          0.1172151800441274
         ],
         "yaxis": "y27"
        },
        {
         "marker": {
          "color": "#de8f05",
          "size": 12
         },
         "mode": "markers",
         "name": "valrubicin",
         "showlegend": false,
         "type": "scatter",
         "x": [
          "Standard CP",
          "CP + MitoBrilliant",
          "CP + Phenovue phalloidin 400LS",
          "Standard CP (exposed to ChromaLive)",
          "ChromaLive + Hoechst"
         ],
         "xaxis": "x27",
         "y": [
          1,
          1,
          1,
          1,
          1
         ],
         "yaxis": "y27"
        },
        {
         "marker": {
          "color": "#0173b2",
          "size": 12
         },
         "mode": "markers",
         "name": "filanesib",
         "showlegend": false,
         "type": "scatter",
         "x": [
          "Standard CP",
          "CP + MitoBrilliant",
          "CP + Phenovue phalloidin 400LS",
          "Standard CP (exposed to ChromaLive)",
          "ChromaLive + Hoechst"
         ],
         "xaxis": "x28",
         "y": [
          1,
          1,
          1,
          1,
          1
         ],
         "yaxis": "y28"
        },
        {
         "marker": {
          "color": "#de8f05",
          "size": 12
         },
         "mode": "markers",
         "name": "ispinesib",
         "showlegend": false,
         "type": "scatter",
         "x": [
          "Standard CP",
          "CP + MitoBrilliant",
          "CP + Phenovue phalloidin 400LS",
          "Standard CP (exposed to ChromaLive)",
          "ChromaLive + Hoechst"
         ],
         "xaxis": "x28",
         "y": [
          1,
          1,
          1,
          1,
          1
         ],
         "yaxis": "y28"
        },
        {
         "marker": {
          "color": "#0173b2",
          "size": 12
         },
         "mode": "markers",
         "name": "APY0201",
         "showlegend": false,
         "type": "scatter",
         "x": [
          "Standard CP",
          "CP + MitoBrilliant",
          "CP + Phenovue phalloidin 400LS",
          "Standard CP (exposed to ChromaLive)",
          "ChromaLive + Hoechst"
         ],
         "xaxis": "x29",
         "y": [
          1,
          1,
          1,
          1,
          1
         ],
         "yaxis": "y29"
        },
        {
         "marker": {
          "color": "#de8f05",
          "size": 12
         },
         "mode": "markers",
         "name": "GSK2334470",
         "showlegend": false,
         "type": "scatter",
         "x": [
          "Standard CP",
          "CP + MitoBrilliant",
          "CP + Phenovue phalloidin 400LS",
          "Standard CP (exposed to ChromaLive)",
          "ChromaLive + Hoechst"
         ],
         "xaxis": "x29",
         "y": [
          1,
          1,
          0.9513888888888888,
          1,
          1
         ],
         "yaxis": "y29"
        },
        {
         "marker": {
          "color": "#0173b2",
          "size": 12
         },
         "mode": "markers",
         "name": "GW-5074",
         "showlegend": false,
         "type": "scatter",
         "x": [
          "Standard CP",
          "CP + MitoBrilliant",
          "CP + Phenovue phalloidin 400LS",
          "Standard CP (exposed to ChromaLive)",
          "ChromaLive + Hoechst"
         ],
         "xaxis": "x30",
         "y": [
          0.3442460317460317,
          0.6023809523809524,
          0.2824013949013949,
          0.6478174603174603,
          0.1873329761602072
         ],
         "yaxis": "y30"
        },
        {
         "marker": {
          "color": "#de8f05",
          "size": 12
         },
         "mode": "markers",
         "name": "GDC-0879",
         "showlegend": false,
         "type": "scatter",
         "x": [
          "Standard CP",
          "CP + MitoBrilliant",
          "CP + Phenovue phalloidin 400LS",
          "Standard CP (exposed to ChromaLive)",
          "ChromaLive + Hoechst"
         ],
         "xaxis": "x30",
         "y": [
          1,
          1,
          0.7676587301587302,
          0.8833333333333333,
          0.4362037037037036
         ],
         "yaxis": "y30"
        },
        {
         "marker": {
          "color": "#0173b2",
          "size": 12
         },
         "mode": "markers",
         "name": "lenvatinib",
         "showlegend": false,
         "type": "scatter",
         "x": [
          "Standard CP",
          "CP + MitoBrilliant",
          "CP + Phenovue phalloidin 400LS",
          "Standard CP (exposed to ChromaLive)",
          "ChromaLive + Hoechst"
         ],
         "xaxis": "x31",
         "y": [
          1,
          1,
          1,
          1,
          0.7120273109243698
         ],
         "yaxis": "y31"
        },
        {
         "marker": {
          "color": "#de8f05",
          "size": 12
         },
         "mode": "markers",
         "name": "BLU9931",
         "showlegend": false,
         "type": "scatter",
         "x": [
          "Standard CP",
          "CP + MitoBrilliant",
          "CP + Phenovue phalloidin 400LS",
          "Standard CP (exposed to ChromaLive)",
          "ChromaLive + Hoechst"
         ],
         "xaxis": "x31",
         "y": [
          1,
          1,
          1,
          1,
          0.6605555555555556
         ],
         "yaxis": "y31"
        },
        {
         "marker": {
          "color": "#0173b2",
          "size": 12
         },
         "mode": "markers",
         "name": "ponatinib",
         "showlegend": false,
         "type": "scatter",
         "x": [
          "Standard CP",
          "CP + MitoBrilliant",
          "CP + Phenovue phalloidin 400LS",
          "Standard CP (exposed to ChromaLive)",
          "ChromaLive + Hoechst"
         ],
         "xaxis": "x32",
         "y": [
          1,
          1,
          1,
          1,
          1
         ],
         "yaxis": "y32"
        },
        {
         "marker": {
          "color": "#de8f05",
          "size": 12
         },
         "mode": "markers",
         "name": "GNF-5",
         "showlegend": false,
         "type": "scatter",
         "x": [
          "Standard CP",
          "CP + MitoBrilliant",
          "CP + Phenovue phalloidin 400LS",
          "Standard CP (exposed to ChromaLive)",
          "ChromaLive + Hoechst"
         ],
         "xaxis": "x32",
         "y": [
          0.9666666666666668,
          1,
          1,
          1,
          0.3332036019536019
         ],
         "yaxis": "y32"
        },
        {
         "marker": {
          "color": "#0173b2",
          "size": 12
         },
         "mode": "markers",
         "name": "WZ4003",
         "showlegend": false,
         "type": "scatter",
         "x": [
          "Standard CP",
          "CP + MitoBrilliant",
          "CP + Phenovue phalloidin 400LS",
          "Standard CP (exposed to ChromaLive)",
          "ChromaLive + Hoechst"
         ],
         "xaxis": "x33",
         "y": [
          1,
          1,
          0.9097222222222222,
          0.7155753968253968,
          1
         ],
         "yaxis": "y33"
        },
        {
         "marker": {
          "color": "#0173b2",
          "size": 12
         },
         "mode": "markers",
         "name": "ABT-737",
         "showlegend": false,
         "type": "scatter",
         "x": [
          "Standard CP",
          "CP + MitoBrilliant",
          "CP + Phenovue phalloidin 400LS",
          "Standard CP (exposed to ChromaLive)",
          "ChromaLive + Hoechst"
         ],
         "xaxis": "x34",
         "y": [
          1,
          1,
          1,
          0.7791666666666667,
          0.7027738927738928
         ],
         "yaxis": "y34"
        },
        {
         "marker": {
          "color": "#de8f05",
          "size": 12
         },
         "mode": "markers",
         "name": "venetoclax",
         "showlegend": false,
         "type": "scatter",
         "x": [
          "Standard CP",
          "CP + MitoBrilliant",
          "CP + Phenovue phalloidin 400LS",
          "Standard CP (exposed to ChromaLive)",
          "ChromaLive + Hoechst"
         ],
         "xaxis": "x34",
         "y": [
          0.9097222222222222,
          0.8833333333333333,
          0.7999999999999999,
          0.8204365079365079,
          0.652948506066355
         ],
         "yaxis": "y34"
        },
        {
         "marker": {
          "color": "#0173b2",
          "size": 12
         },
         "mode": "markers",
         "name": "romidepsin",
         "showlegend": false,
         "type": "scatter",
         "x": [
          "Standard CP",
          "CP + MitoBrilliant",
          "CP + Phenovue phalloidin 400LS",
          "Standard CP (exposed to ChromaLive)",
          "ChromaLive + Hoechst"
         ],
         "xaxis": "x35",
         "y": [
          1,
          1,
          1,
          1,
          1
         ],
         "yaxis": "y35"
        },
        {
         "marker": {
          "color": "#de8f05",
          "size": 12
         },
         "mode": "markers",
         "name": "RGFP966",
         "showlegend": false,
         "type": "scatter",
         "x": [
          "Standard CP",
          "CP + MitoBrilliant",
          "CP + Phenovue phalloidin 400LS",
          "Standard CP (exposed to ChromaLive)",
          "ChromaLive + Hoechst"
         ],
         "xaxis": "x35",
         "y": [
          1,
          1,
          1,
          0.9375,
          0.7882936507936508
         ],
         "yaxis": "y35"
        },
        {
         "marker": {
          "color": "#0173b2",
          "size": 12
         },
         "mode": "markers",
         "name": "THZ1",
         "showlegend": false,
         "type": "scatter",
         "x": [
          "Standard CP",
          "CP + MitoBrilliant",
          "CP + Phenovue phalloidin 400LS",
          "Standard CP (exposed to ChromaLive)",
          "ChromaLive + Hoechst"
         ],
         "xaxis": "x36",
         "y": [
          1,
          1,
          1,
          1,
          1
         ],
         "yaxis": "y36"
        },
        {
         "marker": {
          "color": "#de8f05",
          "size": 12
         },
         "mode": "markers",
         "name": "AMG-925",
         "showlegend": false,
         "type": "scatter",
         "x": [
          "Standard CP",
          "CP + MitoBrilliant",
          "CP + Phenovue phalloidin 400LS",
          "Standard CP (exposed to ChromaLive)",
          "ChromaLive + Hoechst"
         ],
         "xaxis": "x36",
         "y": [
          1,
          1,
          1,
          1,
          0.7203219696969697
         ],
         "yaxis": "y36"
        },
        {
         "marker": {
          "color": "#0173b2",
          "size": 12
         },
         "mode": "markers",
         "name": "FR-180204",
         "showlegend": false,
         "type": "scatter",
         "x": [
          "Standard CP",
          "CP + MitoBrilliant",
          "CP + Phenovue phalloidin 400LS",
          "Standard CP (exposed to ChromaLive)",
          "ChromaLive + Hoechst"
         ],
         "xaxis": "x37",
         "y": [
          0.4020197273486747,
          0.4773141074611663,
          0.4014936330725804,
          0.2260547201336675,
          0.5537253459736298
         ],
         "yaxis": "y37"
        },
        {
         "marker": {
          "color": "#de8f05",
          "size": 12
         },
         "mode": "markers",
         "name": "PD-198306",
         "showlegend": false,
         "type": "scatter",
         "x": [
          "Standard CP",
          "CP + MitoBrilliant",
          "CP + Phenovue phalloidin 400LS",
          "Standard CP (exposed to ChromaLive)",
          "ChromaLive + Hoechst"
         ],
         "xaxis": "x37",
         "y": [
          0.90625,
          0.7916666666666666,
          0.8694444444444445,
          1,
          0.3964794464794464
         ],
         "yaxis": "y37"
        },
        {
         "marker": {
          "color": "#0173b2",
          "size": 12
         },
         "mode": "markers",
         "name": "Thapsigargin",
         "showlegend": false,
         "type": "scatter",
         "x": [
          "Standard CP",
          "CP + MitoBrilliant",
          "CP + Phenovue phalloidin 400LS",
          "Standard CP (exposed to ChromaLive)",
          "ChromaLive + Hoechst"
         ],
         "xaxis": "x38",
         "y": [
          1,
          1,
          1,
          1,
          1
         ],
         "yaxis": "y38"
        },
        {
         "marker": {
          "color": "#0173b2",
          "size": 12
         },
         "mode": "markers",
         "name": "EPZ015666",
         "showlegend": false,
         "type": "scatter",
         "x": [
          "Standard CP",
          "CP + MitoBrilliant",
          "CP + Phenovue phalloidin 400LS",
          "Standard CP (exposed to ChromaLive)",
          "ChromaLive + Hoechst"
         ],
         "xaxis": "x39",
         "y": [
          1,
          0.8312499999999999,
          0.9583333333333331,
          0.6629807692307692,
          0.5040103415103415
         ],
         "yaxis": "y39"
        },
        {
         "marker": {
          "color": "#de8f05",
          "size": 12
         },
         "mode": "markers",
         "name": "SGC-707",
         "showlegend": false,
         "type": "scatter",
         "x": [
          "Standard CP",
          "CP + MitoBrilliant",
          "CP + Phenovue phalloidin 400LS",
          "Standard CP (exposed to ChromaLive)",
          "ChromaLive + Hoechst"
         ],
         "xaxis": "x39",
         "y": [
          0.4715078766549354,
          0.1975700003445998,
          0.1587512025012024,
          0.2863131031609292,
          0.2289251207729468
         ],
         "yaxis": "y39"
        },
        {
         "marker": {
          "color": "#0173b2",
          "size": 12
         },
         "mode": "markers",
         "name": "DACTINOMYCIN",
         "showlegend": false,
         "type": "scatter",
         "x": [
          "Standard CP",
          "CP + MitoBrilliant",
          "CP + Phenovue phalloidin 400LS",
          "Standard CP (exposed to ChromaLive)",
          "ChromaLive + Hoechst"
         ],
         "xaxis": "x40",
         "y": [
          1,
          1,
          1,
          1,
          1
         ],
         "yaxis": "y40"
        },
        {
         "marker": {
          "color": "#0173b2",
          "size": 12
         },
         "mode": "markers",
         "name": "purmorphamine",
         "showlegend": false,
         "type": "scatter",
         "x": [
          "Standard CP",
          "CP + MitoBrilliant",
          "CP + Phenovue phalloidin 400LS",
          "Standard CP (exposed to ChromaLive)",
          "ChromaLive + Hoechst"
         ],
         "xaxis": "x41",
         "y": [
          0.7472222222222222,
          0.8833333333333333,
          0.5174693362193362,
          0.8833333333333333,
          0.8546969696969697
         ],
         "yaxis": "y41"
        },
        {
         "marker": {
          "color": "#de8f05",
          "size": 12
         },
         "mode": "markers",
         "name": "SAG",
         "showlegend": false,
         "type": "scatter",
         "x": [
          "Standard CP",
          "CP + MitoBrilliant",
          "CP + Phenovue phalloidin 400LS",
          "Standard CP (exposed to ChromaLive)",
          "ChromaLive + Hoechst"
         ],
         "xaxis": "x41",
         "y": [
          0.8854166666666666,
          1,
          0.8347222222222223,
          0.5430555555555555,
          1
         ],
         "yaxis": "y41"
        },
        {
         "marker": {
          "color": "#0173b2",
          "size": 12
         },
         "mode": "markers",
         "name": "CP-724714",
         "showlegend": false,
         "type": "scatter",
         "x": [
          "Standard CP",
          "CP + MitoBrilliant",
          "CP + Phenovue phalloidin 400LS",
          "Standard CP (exposed to ChromaLive)",
          "ChromaLive + Hoechst"
         ],
         "xaxis": "x42",
         "y": [
          0.4321937321937322,
          0.7876984126984127,
          0.5733987077737077,
          0.7258928571428571,
          0.8638888888888889
         ],
         "yaxis": "y42"
        },
        {
         "marker": {
          "color": "#de8f05",
          "size": 12
         },
         "mode": "markers",
         "name": "neratinib",
         "showlegend": false,
         "type": "scatter",
         "x": [
          "Standard CP",
          "CP + MitoBrilliant",
          "CP + Phenovue phalloidin 400LS",
          "Standard CP (exposed to ChromaLive)",
          "ChromaLive + Hoechst"
         ],
         "xaxis": "x42",
         "y": [
          1,
          1,
          1,
          0.7375,
          1
         ],
         "yaxis": "y42"
        },
        {
         "marker": {
          "color": "#0173b2",
          "size": 12
         },
         "mode": "markers",
         "name": "andarine",
         "showlegend": false,
         "type": "scatter",
         "x": [
          "Standard CP",
          "CP + MitoBrilliant",
          "CP + Phenovue phalloidin 400LS",
          "Standard CP (exposed to ChromaLive)",
          "ChromaLive + Hoechst"
         ],
         "xaxis": "x43",
         "y": [
          0.1618973346914523,
          0.1280925651862184,
          0.2232273391812865,
          0.1997802646699705,
          0.3065434565434565
         ],
         "yaxis": "y43"
        },
        {
         "marker": {
          "color": "#de8f05",
          "size": 12
         },
         "mode": "markers",
         "name": "PS178990",
         "showlegend": false,
         "type": "scatter",
         "x": [
          "Standard CP",
          "CP + MitoBrilliant",
          "CP + Phenovue phalloidin 400LS",
          "Standard CP (exposed to ChromaLive)",
          "ChromaLive + Hoechst"
         ],
         "xaxis": "x43",
         "y": [
          0.2155164108337482,
          0.2023872180451127,
          0.1651788790919225,
          0.2008671761961235,
          0.1412800162800163
         ],
         "yaxis": "y43"
        },
        {
         "marker": {
          "color": "#0173b2",
          "size": 12
         },
         "mode": "markers",
         "name": "rosuvastatin",
         "showlegend": false,
         "type": "scatter",
         "x": [
          "Standard CP",
          "CP + MitoBrilliant",
          "CP + Phenovue phalloidin 400LS",
          "Standard CP (exposed to ChromaLive)",
          "ChromaLive + Hoechst"
         ],
         "xaxis": "x44",
         "y": [
          0.3379400691900692,
          0.2419002634792108,
          0.365625,
          0.3300189393939394,
          0.253114478114478
         ],
         "yaxis": "y44"
        },
        {
         "marker": {
          "color": "#de8f05",
          "size": 12
         },
         "mode": "markers",
         "name": "delta-Tocotrienol",
         "showlegend": false,
         "type": "scatter",
         "x": [
          "Standard CP",
          "CP + MitoBrilliant",
          "CP + Phenovue phalloidin 400LS",
          "Standard CP (exposed to ChromaLive)",
          "ChromaLive + Hoechst"
         ],
         "xaxis": "x44",
         "y": [
          0.2000589225589225,
          0.2160091066341066,
          0.1883964719491035,
          0.1461048673548673,
          0.3535014466919837
         ],
         "yaxis": "y44"
        },
        {
         "marker": {
          "color": "#0173b2",
          "size": 12
         },
         "mode": "markers",
         "name": "skepinone-l",
         "showlegend": false,
         "type": "scatter",
         "x": [
          "Standard CP",
          "CP + MitoBrilliant",
          "CP + Phenovue phalloidin 400LS",
          "Standard CP (exposed to ChromaLive)",
          "ChromaLive + Hoechst"
         ],
         "xaxis": "x45",
         "y": [
          1,
          1,
          1,
          0.7468253968253968,
          0.2095706581000698
         ],
         "yaxis": "y45"
        },
        {
         "marker": {
          "color": "#de8f05",
          "size": 12
         },
         "mode": "markers",
         "name": "VX-745",
         "showlegend": false,
         "type": "scatter",
         "x": [
          "Standard CP",
          "CP + MitoBrilliant",
          "CP + Phenovue phalloidin 400LS",
          "Standard CP (exposed to ChromaLive)",
          "ChromaLive + Hoechst"
         ],
         "xaxis": "x45",
         "y": [
          0.8236111111111111,
          0.6516106442577031,
          0.5371031746031746,
          0.4768696581196581,
          0.2178630110535481
         ],
         "yaxis": "y45"
        },
        {
         "marker": {
          "color": "#0173b2",
          "size": 12
         },
         "mode": "markers",
         "name": "sirolimus",
         "showlegend": false,
         "type": "scatter",
         "x": [
          "Standard CP",
          "CP + MitoBrilliant",
          "CP + Phenovue phalloidin 400LS",
          "Standard CP (exposed to ChromaLive)",
          "ChromaLive + Hoechst"
         ],
         "xaxis": "x46",
         "y": [
          1,
          1,
          1,
          0.6791666666666666,
          0.8288239538239538
         ],
         "yaxis": "y46"
        },
        {
         "marker": {
          "color": "#de8f05",
          "size": 12
         },
         "mode": "markers",
         "name": "AZD2014",
         "showlegend": false,
         "type": "scatter",
         "x": [
          "Standard CP",
          "CP + MitoBrilliant",
          "CP + Phenovue phalloidin 400LS",
          "Standard CP (exposed to ChromaLive)",
          "ChromaLive + Hoechst"
         ],
         "xaxis": "x46",
         "y": [
          1,
          1,
          1,
          1,
          1
         ],
         "yaxis": "y46"
        },
        {
         "marker": {
          "color": "#0173b2",
          "size": 12
         },
         "mode": "markers",
         "name": "IOX2",
         "showlegend": false,
         "type": "scatter",
         "x": [
          "Standard CP",
          "CP + MitoBrilliant",
          "CP + Phenovue phalloidin 400LS",
          "Standard CP (exposed to ChromaLive)",
          "ChromaLive + Hoechst"
         ],
         "xaxis": "x47",
         "y": [
          0.2409419026679088,
          0.4537080036693039,
          0.9055555555555556,
          0.29921940267335,
          0.2189301181561243
         ],
         "yaxis": "y47"
        },
        {
         "marker": {
          "color": "#de8f05",
          "size": 12
         },
         "mode": "markers",
         "name": "acriflavine",
         "showlegend": false,
         "type": "scatter",
         "x": [
          "Standard CP",
          "CP + MitoBrilliant",
          "CP + Phenovue phalloidin 400LS",
          "Standard CP (exposed to ChromaLive)",
          "ChromaLive + Hoechst"
         ],
         "xaxis": "x47",
         "y": [
          1,
          1,
          1,
          1,
          1
         ],
         "yaxis": "y47"
        }
       ],
       "layout": {
        "annotations": [
         {
          "font": {
           "size": 19
          },
          "showarrow": false,
          "text": "tumor necrosis factor production inhibitor",
          "x": 0.092,
          "xanchor": "center",
          "xref": "paper",
          "y": 0.9999999999999999,
          "yanchor": "bottom",
          "yref": "paper"
         },
         {
          "font": {
           "size": 19
          },
          "showarrow": false,
          "text": "antihistamine",
          "x": 0.296,
          "xanchor": "center",
          "xref": "paper",
          "y": 0.9999999999999999,
          "yanchor": "bottom",
          "yref": "paper"
         },
         {
          "font": {
           "size": 19
          },
          "showarrow": false,
          "text": "acetylcholine receptor antagonist",
          "x": 0.5,
          "xanchor": "center",
          "xref": "paper",
          "y": 0.9999999999999999,
          "yanchor": "bottom",
          "yref": "paper"
         },
         {
          "font": {
           "size": 19
          },
          "showarrow": false,
          "text": "pyruvate dehydrogenase kinase inhibitor",
          "x": 0.7040000000000001,
          "xanchor": "center",
          "xref": "paper",
          "y": 0.9999999999999999,
          "yanchor": "bottom",
          "yref": "paper"
         },
         {
          "font": {
           "size": 19
          },
          "showarrow": false,
          "text": "protein tyrosine kinase inhibitor",
          "x": 0.9079999999999999,
          "xanchor": "center",
          "xref": "paper",
          "y": 0.9999999999999999,
          "yanchor": "bottom",
          "yref": "paper"
         },
         {
          "font": {
           "size": 19
          },
          "showarrow": false,
          "text": "hepatocyte growth factor receptor inhibitor",
          "x": 0.092,
          "xanchor": "center",
          "xref": "paper",
          "y": 0.898,
          "yanchor": "bottom",
          "yref": "paper"
         },
         {
          "font": {
           "size": 19
          },
          "showarrow": false,
          "text": "CHK inhibitor",
          "x": 0.296,
          "xanchor": "center",
          "xref": "paper",
          "y": 0.898,
          "yanchor": "bottom",
          "yref": "paper"
         },
         {
          "font": {
           "size": 19
          },
          "showarrow": false,
          "text": "glycogen synthase kinase inhibitor",
          "x": 0.5,
          "xanchor": "center",
          "xref": "paper",
          "y": 0.898,
          "yanchor": "bottom",
          "yref": "paper"
         },
         {
          "font": {
           "size": 19
          },
          "showarrow": false,
          "text": "histone lysine methyltransferase inhibitor",
          "x": 0.7040000000000001,
          "xanchor": "center",
          "xref": "paper",
          "y": 0.898,
          "yanchor": "bottom",
          "yref": "paper"
         },
         {
          "font": {
           "size": 19
          },
          "showarrow": false,
          "text": "inosine monophosphate dehydrogenase inhibitor",
          "x": 0.9079999999999999,
          "xanchor": "center",
          "xref": "paper",
          "y": 0.898,
          "yanchor": "bottom",
          "yref": "paper"
         },
         {
          "font": {
           "size": 19
          },
          "showarrow": false,
          "text": "CDC inhibitor",
          "x": 0.092,
          "xanchor": "center",
          "xref": "paper",
          "y": 0.796,
          "yanchor": "bottom",
          "yref": "paper"
         },
         {
          "font": {
           "size": 19
          },
          "showarrow": false,
          "text": "PARP inhibitor",
          "x": 0.296,
          "xanchor": "center",
          "xref": "paper",
          "y": 0.796,
          "yanchor": "bottom",
          "yref": "paper"
         },
         {
          "font": {
           "size": 19
          },
          "showarrow": false,
          "text": "bromodomain inhibitor",
          "x": 0.5,
          "xanchor": "center",
          "xref": "paper",
          "y": 0.796,
          "yanchor": "bottom",
          "yref": "paper"
         },
         {
          "font": {
           "size": 19
          },
          "showarrow": false,
          "text": "ubiquitin specific protease inhibitor",
          "x": 0.7040000000000001,
          "xanchor": "center",
          "xref": "paper",
          "y": 0.796,
          "yanchor": "bottom",
          "yref": "paper"
         },
         {
          "font": {
           "size": 19
          },
          "showarrow": false,
          "text": "JAK inhibitor",
          "x": 0.9079999999999999,
          "xanchor": "center",
          "xref": "paper",
          "y": 0.796,
          "yanchor": "bottom",
          "yref": "paper"
         },
         {
          "font": {
           "size": 19
          },
          "showarrow": false,
          "text": "Apoptosis inducer (ATP-competitive kinase inhibitor)",
          "x": 0.092,
          "xanchor": "center",
          "xref": "paper",
          "y": 0.694,
          "yanchor": "bottom",
          "yref": "paper"
         },
         {
          "font": {
           "size": 19
          },
          "showarrow": false,
          "text": "MEK inhibitor",
          "x": 0.296,
          "xanchor": "center",
          "xref": "paper",
          "y": 0.694,
          "yanchor": "bottom",
          "yref": "paper"
         },
         {
          "font": {
           "size": 19
          },
          "showarrow": false,
          "text": "Aurora kinase inhibitor",
          "x": 0.5,
          "xanchor": "center",
          "xref": "paper",
          "y": 0.694,
          "yanchor": "bottom",
          "yref": "paper"
         },
         {
          "font": {
           "size": 19
          },
          "showarrow": false,
          "text": "LXR agonist",
          "x": 0.7040000000000001,
          "xanchor": "center",
          "xref": "paper",
          "y": 0.694,
          "yanchor": "bottom",
          "yref": "paper"
         },
         {
          "font": {
           "size": 19
          },
          "showarrow": false,
          "text": "phospholipase inhibitor",
          "x": 0.9079999999999999,
          "xanchor": "center",
          "xref": "paper",
          "y": 0.694,
          "yanchor": "bottom",
          "yref": "paper"
         },
         {
          "font": {
           "size": 19
          },
          "showarrow": false,
          "text": "IGF-1 inhibitor",
          "x": 0.092,
          "xanchor": "center",
          "xref": "paper",
          "y": 0.592,
          "yanchor": "bottom",
          "yref": "paper"
         },
         {
          "font": {
           "size": 19
          },
          "showarrow": false,
          "text": "tricyclic antidepressant",
          "x": 0.296,
          "xanchor": "center",
          "xref": "paper",
          "y": 0.592,
          "yanchor": "bottom",
          "yref": "paper"
         },
         {
          "font": {
           "size": 19
          },
          "showarrow": false,
          "text": "histone lysine demethylase inhibitor",
          "x": 0.5,
          "xanchor": "center",
          "xref": "paper",
          "y": 0.592,
          "yanchor": "bottom",
          "yref": "paper"
         },
         {
          "font": {
           "size": 19
          },
          "showarrow": false,
          "text": "phosphodiesterase inhibitor",
          "x": 0.7040000000000001,
          "xanchor": "center",
          "xref": "paper",
          "y": 0.592,
          "yanchor": "bottom",
          "yref": "paper"
         },
         {
          "font": {
           "size": 19
          },
          "showarrow": false,
          "text": "beta-catenin inhibitor",
          "x": 0.9079999999999999,
          "xanchor": "center",
          "xref": "paper",
          "y": 0.592,
          "yanchor": "bottom",
          "yref": "paper"
         },
         {
          "font": {
           "size": 19
          },
          "showarrow": false,
          "text": "JNK inhibitor",
          "x": 0.092,
          "xanchor": "center",
          "xref": "paper",
          "y": 0.49000000000000005,
          "yanchor": "bottom",
          "yref": "paper"
         },
         {
          "font": {
           "size": 19
          },
          "showarrow": false,
          "text": "DNA inhibitor",
          "x": 0.296,
          "xanchor": "center",
          "xref": "paper",
          "y": 0.49000000000000005,
          "yanchor": "bottom",
          "yref": "paper"
         },
         {
          "font": {
           "size": 19
          },
          "showarrow": false,
          "text": "kinesin inhibitor",
          "x": 0.5,
          "xanchor": "center",
          "xref": "paper",
          "y": 0.49000000000000005,
          "yanchor": "bottom",
          "yref": "paper"
         },
         {
          "font": {
           "size": 19
          },
          "showarrow": false,
          "text": "phosphoinositide dependent kinase inhibitor",
          "x": 0.7040000000000001,
          "xanchor": "center",
          "xref": "paper",
          "y": 0.49000000000000005,
          "yanchor": "bottom",
          "yref": "paper"
         },
         {
          "font": {
           "size": 19
          },
          "showarrow": false,
          "text": "RAF inhibitor",
          "x": 0.9079999999999999,
          "xanchor": "center",
          "xref": "paper",
          "y": 0.49000000000000005,
          "yanchor": "bottom",
          "yref": "paper"
         },
         {
          "font": {
           "size": 19
          },
          "showarrow": false,
          "text": "FGFR inhibitor",
          "x": 0.092,
          "xanchor": "center",
          "xref": "paper",
          "y": 0.388,
          "yanchor": "bottom",
          "yref": "paper"
         },
         {
          "font": {
           "size": 19
          },
          "showarrow": false,
          "text": "Bcr-Abl kinase inhibitor",
          "x": 0.296,
          "xanchor": "center",
          "xref": "paper",
          "y": 0.388,
          "yanchor": "bottom",
          "yref": "paper"
         },
         {
          "font": {
           "size": 19
          },
          "showarrow": false,
          "text": "AMPK inhibitor",
          "x": 0.5,
          "xanchor": "center",
          "xref": "paper",
          "y": 0.388,
          "yanchor": "bottom",
          "yref": "paper"
         },
         {
          "font": {
           "size": 19
          },
          "showarrow": false,
          "text": "BCL inhibitor",
          "x": 0.7040000000000001,
          "xanchor": "center",
          "xref": "paper",
          "y": 0.388,
          "yanchor": "bottom",
          "yref": "paper"
         },
         {
          "font": {
           "size": 19
          },
          "showarrow": false,
          "text": "HDAC inhibitor",
          "x": 0.9079999999999999,
          "xanchor": "center",
          "xref": "paper",
          "y": 0.388,
          "yanchor": "bottom",
          "yref": "paper"
         },
         {
          "font": {
           "size": 19
          },
          "showarrow": false,
          "text": "CDK inhibitor",
          "x": 0.092,
          "xanchor": "center",
          "xref": "paper",
          "y": 0.28600000000000003,
          "yanchor": "bottom",
          "yref": "paper"
         },
         {
          "font": {
           "size": 19
          },
          "showarrow": false,
          "text": "MAP kinase inhibitor",
          "x": 0.296,
          "xanchor": "center",
          "xref": "paper",
          "y": 0.28600000000000003,
          "yanchor": "bottom",
          "yref": "paper"
         },
         {
          "font": {
           "size": 19
          },
          "showarrow": false,
          "text": "ER stressor (SERCA inhibitor)",
          "x": 0.5,
          "xanchor": "center",
          "xref": "paper",
          "y": 0.28600000000000003,
          "yanchor": "bottom",
          "yref": "paper"
         },
         {
          "font": {
           "size": 19
          },
          "showarrow": false,
          "text": "protein arginine N-methyltransferase inhibitor",
          "x": 0.7040000000000001,
          "xanchor": "center",
          "xref": "paper",
          "y": 0.28600000000000003,
          "yanchor": "bottom",
          "yref": "paper"
         },
         {
          "font": {
           "size": 19
          },
          "showarrow": false,
          "text": "Apoptosis inducer (transcription inhibitor)",
          "x": 0.9079999999999999,
          "xanchor": "center",
          "xref": "paper",
          "y": 0.28600000000000003,
          "yanchor": "bottom",
          "yref": "paper"
         },
         {
          "font": {
           "size": 19
          },
          "showarrow": false,
          "text": "smoothened receptor agonist",
          "x": 0.092,
          "xanchor": "center",
          "xref": "paper",
          "y": 0.184,
          "yanchor": "bottom",
          "yref": "paper"
         },
         {
          "font": {
           "size": 19
          },
          "showarrow": false,
          "text": "EGFR inhibitor",
          "x": 0.296,
          "xanchor": "center",
          "xref": "paper",
          "y": 0.184,
          "yanchor": "bottom",
          "yref": "paper"
         },
         {
          "font": {
           "size": 19
          },
          "showarrow": false,
          "text": "androgen receptor modulator",
          "x": 0.5,
          "xanchor": "center",
          "xref": "paper",
          "y": 0.184,
          "yanchor": "bottom",
          "yref": "paper"
         },
         {
          "font": {
           "size": 19
          },
          "showarrow": false,
          "text": "HMGCR inhibitor",
          "x": 0.7040000000000001,
          "xanchor": "center",
          "xref": "paper",
          "y": 0.184,
          "yanchor": "bottom",
          "yref": "paper"
         },
         {
          "font": {
           "size": 19
          },
          "showarrow": false,
          "text": "p38 MAPK inhibitor",
          "x": 0.9079999999999999,
          "xanchor": "center",
          "xref": "paper",
          "y": 0.184,
          "yanchor": "bottom",
          "yref": "paper"
         },
         {
          "font": {
           "size": 19
          },
          "showarrow": false,
          "text": "mTOR inhibitor",
          "x": 0.092,
          "xanchor": "center",
          "xref": "paper",
          "y": 0.082,
          "yanchor": "bottom",
          "yref": "paper"
         },
         {
          "font": {
           "size": 19
          },
          "showarrow": false,
          "text": "hypoxia inducible factor inhibitor",
          "x": 0.296,
          "xanchor": "center",
          "xref": "paper",
          "y": 0.082,
          "yanchor": "bottom",
          "yref": "paper"
         },
         {
          "font": {
           "size": 19
          },
          "showarrow": false,
          "text": "Mean Average Precision",
          "textangle": -90,
          "x": 0,
          "xanchor": "right",
          "xref": "paper",
          "xshift": -40,
          "y": 0.5,
          "yanchor": "middle",
          "yref": "paper"
         },
         {
          "font": {
           "color": "#0173b2",
           "size": 19
          },
          "showarrow": false,
          "text": "pomalidomide",
          "x": 0.1,
          "xref": "x domain",
          "y": 0.95,
          "yref": "y domain"
         },
         {
          "font": {
           "color": "#de8f05",
           "size": 19
          },
          "showarrow": false,
          "text": "apratastat",
          "x": 0.9,
          "xref": "x domain",
          "y": 0.95,
          "yref": "y domain"
         },
         {
          "font": {
           "color": "#0173b2",
           "size": 19
          },
          "showarrow": false,
          "text": "homochlorcyclizine",
          "x": 0.1,
          "xref": "x2 domain",
          "y": 0.95,
          "yref": "y2 domain"
         },
         {
          "font": {
           "color": "#de8f05",
           "size": 19
          },
          "showarrow": false,
          "text": "hydroxyzine",
          "x": 0.9,
          "xref": "x2 domain",
          "y": 0.95,
          "yref": "y2 domain"
         },
         {
          "font": {
           "color": "#0173b2",
           "size": 19
          },
          "showarrow": false,
          "text": "orphenadrine",
          "x": 0.1,
          "xref": "x3 domain",
          "y": 0.95,
          "yref": "y3 domain"
         },
         {
          "font": {
           "color": "#de8f05",
           "size": 19
          },
          "showarrow": false,
          "text": "dimethindene-(S)-(+)",
          "x": 0.9,
          "xref": "x3 domain",
          "y": 0.95,
          "yref": "y3 domain"
         },
         {
          "font": {
           "color": "#0173b2",
           "size": 19
          },
          "showarrow": false,
          "text": "AZD7545",
          "x": 0.1,
          "xref": "x4 domain",
          "y": 0.95,
          "yref": "y4 domain"
         },
         {
          "font": {
           "color": "#de8f05",
           "size": 19
          },
          "showarrow": false,
          "text": "BX-912",
          "x": 0.9,
          "xref": "x4 domain",
          "y": 0.95,
          "yref": "y4 domain"
         },
         {
          "font": {
           "color": "#0173b2",
           "size": 19
          },
          "showarrow": false,
          "text": "SHP099",
          "x": 0.1,
          "xref": "x5 domain",
          "y": 0.95,
          "yref": "y5 domain"
         },
         {
          "font": {
           "color": "#de8f05",
           "size": 19
          },
          "showarrow": false,
          "text": "rheochrysidin",
          "x": 0.9,
          "xref": "x5 domain",
          "y": 0.95,
          "yref": "y5 domain"
         },
         {
          "font": {
           "color": "#0173b2",
           "size": 19
          },
          "showarrow": false,
          "text": "SU-11274",
          "x": 0.1,
          "xref": "x6 domain",
          "y": 0.95,
          "yref": "y6 domain"
         },
         {
          "font": {
           "color": "#de8f05",
           "size": 19
          },
          "showarrow": false,
          "text": "SGX523",
          "x": 0.9,
          "xref": "x6 domain",
          "y": 0.95,
          "yref": "y6 domain"
         },
         {
          "font": {
           "color": "#0173b2",
           "size": 19
          },
          "showarrow": false,
          "text": "PF-477736",
          "x": 0.1,
          "xref": "x7 domain",
          "y": 0.95,
          "yref": "y7 domain"
         },
         {
          "font": {
           "color": "#de8f05",
           "size": 19
          },
          "showarrow": false,
          "text": "SCH-900776",
          "x": 0.9,
          "xref": "x7 domain",
          "y": 0.95,
          "yref": "y7 domain"
         },
         {
          "font": {
           "color": "#0173b2",
           "size": 19
          },
          "showarrow": false,
          "text": "GSK-3-inhibitor-IX",
          "x": 0.1,
          "xref": "x8 domain",
          "y": 0.95,
          "yref": "y8 domain"
         },
         {
          "font": {
           "color": "#de8f05",
           "size": 19
          },
          "showarrow": false,
          "text": "CHIR-99021",
          "x": 0.9,
          "xref": "x8 domain",
          "y": 0.95,
          "yref": "y8 domain"
         },
         {
          "font": {
           "color": "#0173b2",
           "size": 19
          },
          "showarrow": false,
          "text": "A-366",
          "x": 0.1,
          "xref": "x9 domain",
          "y": 0.95,
          "yref": "y9 domain"
         },
         {
          "font": {
           "color": "#de8f05",
           "size": 19
          },
          "showarrow": false,
          "text": "UNC0642",
          "x": 0.9,
          "xref": "x9 domain",
          "y": 0.95,
          "yref": "y9 domain"
         },
         {
          "font": {
           "color": "#0173b2",
           "size": 19
          },
          "showarrow": false,
          "text": "merimepodib",
          "x": 0.1,
          "xref": "x10 domain",
          "y": 0.95,
          "yref": "y10 domain"
         },
         {
          "font": {
           "color": "#de8f05",
           "size": 19
          },
          "showarrow": false,
          "text": "BMS-566419",
          "x": 0.9,
          "xref": "x10 domain",
          "y": 0.95,
          "yref": "y10 domain"
         },
         {
          "font": {
           "color": "#0173b2",
           "size": 19
          },
          "showarrow": false,
          "text": "BMS-863233",
          "x": 0.1,
          "xref": "x11 domain",
          "y": 0.95,
          "yref": "y11 domain"
         },
         {
          "font": {
           "color": "#de8f05",
           "size": 19
          },
          "showarrow": false,
          "text": "KH-CB19",
          "x": 0.9,
          "xref": "x11 domain",
          "y": 0.95,
          "yref": "y11 domain"
         },
         {
          "font": {
           "color": "#0173b2",
           "size": 19
          },
          "showarrow": false,
          "text": "veliparib",
          "x": 0.1,
          "xref": "x12 domain",
          "y": 0.95,
          "yref": "y12 domain"
         },
         {
          "font": {
           "color": "#de8f05",
           "size": 19
          },
          "showarrow": false,
          "text": "niraparib",
          "x": 0.9,
          "xref": "x12 domain",
          "y": 0.95,
          "yref": "y12 domain"
         },
         {
          "font": {
           "color": "#0173b2",
           "size": 19
          },
          "showarrow": false,
          "text": "PFI-1",
          "x": 0.1,
          "xref": "x13 domain",
          "y": 0.95,
          "yref": "y13 domain"
         },
         {
          "font": {
           "color": "#de8f05",
           "size": 19
          },
          "showarrow": false,
          "text": "CPI-0610",
          "x": 0.9,
          "xref": "x13 domain",
          "y": 0.95,
          "yref": "y13 domain"
         },
         {
          "font": {
           "color": "#0173b2",
           "size": 19
          },
          "showarrow": false,
          "text": "P5091",
          "x": 0.1,
          "xref": "x14 domain",
          "y": 0.95,
          "yref": "y14 domain"
         },
         {
          "font": {
           "color": "#de8f05",
           "size": 19
          },
          "showarrow": false,
          "text": "ML-323",
          "x": 0.9,
          "xref": "x14 domain",
          "y": 0.95,
          "yref": "y14 domain"
         },
         {
          "font": {
           "color": "#0173b2",
           "size": 19
          },
          "showarrow": false,
          "text": "filgotinib",
          "x": 0.1,
          "xref": "x15 domain",
          "y": 0.95,
          "yref": "y15 domain"
         },
         {
          "font": {
           "color": "#de8f05",
           "size": 19
          },
          "showarrow": false,
          "text": "ruxolitinib",
          "x": 0.9,
          "xref": "x15 domain",
          "y": 0.95,
          "yref": "y15 domain"
         },
         {
          "font": {
           "color": "#0173b2",
           "size": 19
          },
          "showarrow": false,
          "text": "Staurosporine",
          "x": 0.5,
          "xref": "x16 domain",
          "y": 0.95,
          "yref": "y16 domain"
         },
         {
          "font": {
           "color": "#0173b2",
           "size": 19
          },
          "showarrow": false,
          "text": "BIX-02188",
          "x": 0.1,
          "xref": "x17 domain",
          "y": 0.95,
          "yref": "y17 domain"
         },
         {
          "font": {
           "color": "#de8f05",
           "size": 19
          },
          "showarrow": false,
          "text": "selumetinib",
          "x": 0.9,
          "xref": "x17 domain",
          "y": 0.95,
          "yref": "y17 domain"
         },
         {
          "font": {
           "color": "#0173b2",
           "size": 19
          },
          "showarrow": false,
          "text": "AMG900",
          "x": 0.1,
          "xref": "x18 domain",
          "y": 0.95,
          "yref": "y18 domain"
         },
         {
          "font": {
           "color": "#de8f05",
           "size": 19
          },
          "showarrow": false,
          "text": "MK-5108",
          "x": 0.9,
          "xref": "x18 domain",
          "y": 0.95,
          "yref": "y18 domain"
         },
         {
          "font": {
           "color": "#0173b2",
           "size": 19
          },
          "showarrow": false,
          "text": "T-0901317",
          "x": 0.1,
          "xref": "x19 domain",
          "y": 0.95,
          "yref": "y19 domain"
         },
         {
          "font": {
           "color": "#de8f05",
           "size": 19
          },
          "showarrow": false,
          "text": "GW-3965",
          "x": 0.9,
          "xref": "x19 domain",
          "y": 0.95,
          "yref": "y19 domain"
         },
         {
          "font": {
           "color": "#0173b2",
           "size": 19
          },
          "showarrow": false,
          "text": "ML-298",
          "x": 0.1,
          "xref": "x20 domain",
          "y": 0.95,
          "yref": "y20 domain"
         },
         {
          "font": {
           "color": "#de8f05",
           "size": 19
          },
          "showarrow": false,
          "text": "halopemide",
          "x": 0.9,
          "xref": "x20 domain",
          "y": 0.95,
          "yref": "y20 domain"
         },
         {
          "font": {
           "color": "#0173b2",
           "size": 19
          },
          "showarrow": false,
          "text": "NVP-AEW541",
          "x": 0.1,
          "xref": "x21 domain",
          "y": 0.95,
          "yref": "y21 domain"
         },
         {
          "font": {
           "color": "#de8f05",
           "size": 19
          },
          "showarrow": false,
          "text": "linsitinib",
          "x": 0.9,
          "xref": "x21 domain",
          "y": 0.95,
          "yref": "y21 domain"
         },
         {
          "font": {
           "color": "#0173b2",
           "size": 19
          },
          "showarrow": false,
          "text": "maprotiline",
          "x": 0.1,
          "xref": "x22 domain",
          "y": 0.95,
          "yref": "y22 domain"
         },
         {
          "font": {
           "color": "#de8f05",
           "size": 19
          },
          "showarrow": false,
          "text": "dosulepin",
          "x": 0.9,
          "xref": "x22 domain",
          "y": 0.95,
          "yref": "y22 domain"
         },
         {
          "font": {
           "color": "#0173b2",
           "size": 19
          },
          "showarrow": false,
          "text": "ML324",
          "x": 0.1,
          "xref": "x23 domain",
          "y": 0.95,
          "yref": "y23 domain"
         },
         {
          "font": {
           "color": "#de8f05",
           "size": 19
          },
          "showarrow": false,
          "text": "GSK-J4",
          "x": 0.9,
          "xref": "x23 domain",
          "y": 0.95,
          "yref": "y23 domain"
         },
         {
          "font": {
           "color": "#0173b2",
           "size": 19
          },
          "showarrow": false,
          "text": "ketotifen",
          "x": 0.1,
          "xref": "x24 domain",
          "y": 0.95,
          "yref": "y24 domain"
         },
         {
          "font": {
           "color": "#de8f05",
           "size": 19
          },
          "showarrow": false,
          "text": "quazinone",
          "x": 0.9,
          "xref": "x24 domain",
          "y": 0.95,
          "yref": "y24 domain"
         },
         {
          "font": {
           "color": "#0173b2",
           "size": 19
          },
          "showarrow": false,
          "text": "PNU-74654",
          "x": 0.1,
          "xref": "x25 domain",
          "y": 0.95,
          "yref": "y25 domain"
         },
         {
          "font": {
           "color": "#de8f05",
           "size": 19
          },
          "showarrow": false,
          "text": "ICG-001",
          "x": 0.9,
          "xref": "x25 domain",
          "y": 0.95,
          "yref": "y25 domain"
         },
         {
          "font": {
           "color": "#0173b2",
           "size": 19
          },
          "showarrow": false,
          "text": "SU3327",
          "x": 0.1,
          "xref": "x26 domain",
          "y": 0.95,
          "yref": "y26 domain"
         },
         {
          "font": {
           "color": "#de8f05",
           "size": 19
          },
          "showarrow": false,
          "text": "BI-78D3",
          "x": 0.9,
          "xref": "x26 domain",
          "y": 0.95,
          "yref": "y26 domain"
         },
         {
          "font": {
           "color": "#0173b2",
           "size": 19
          },
          "showarrow": false,
          "text": "carmustine",
          "x": 0.1,
          "xref": "x27 domain",
          "y": 0.95,
          "yref": "y27 domain"
         },
         {
          "font": {
           "color": "#de8f05",
           "size": 19
          },
          "showarrow": false,
          "text": "valrubicin",
          "x": 0.9,
          "xref": "x27 domain",
          "y": 0.95,
          "yref": "y27 domain"
         },
         {
          "font": {
           "color": "#0173b2",
           "size": 19
          },
          "showarrow": false,
          "text": "filanesib",
          "x": 0.1,
          "xref": "x28 domain",
          "y": 0.95,
          "yref": "y28 domain"
         },
         {
          "font": {
           "color": "#de8f05",
           "size": 19
          },
          "showarrow": false,
          "text": "ispinesib",
          "x": 0.9,
          "xref": "x28 domain",
          "y": 0.95,
          "yref": "y28 domain"
         },
         {
          "font": {
           "color": "#0173b2",
           "size": 19
          },
          "showarrow": false,
          "text": "APY0201",
          "x": 0.1,
          "xref": "x29 domain",
          "y": 0.95,
          "yref": "y29 domain"
         },
         {
          "font": {
           "color": "#de8f05",
           "size": 19
          },
          "showarrow": false,
          "text": "GSK2334470",
          "x": 0.9,
          "xref": "x29 domain",
          "y": 0.95,
          "yref": "y29 domain"
         },
         {
          "font": {
           "color": "#0173b2",
           "size": 19
          },
          "showarrow": false,
          "text": "GW-5074",
          "x": 0.1,
          "xref": "x30 domain",
          "y": 0.95,
          "yref": "y30 domain"
         },
         {
          "font": {
           "color": "#de8f05",
           "size": 19
          },
          "showarrow": false,
          "text": "GDC-0879",
          "x": 0.9,
          "xref": "x30 domain",
          "y": 0.95,
          "yref": "y30 domain"
         },
         {
          "font": {
           "color": "#0173b2",
           "size": 19
          },
          "showarrow": false,
          "text": "lenvatinib",
          "x": 0.1,
          "xref": "x31 domain",
          "y": 0.95,
          "yref": "y31 domain"
         },
         {
          "font": {
           "color": "#de8f05",
           "size": 19
          },
          "showarrow": false,
          "text": "BLU9931",
          "x": 0.9,
          "xref": "x31 domain",
          "y": 0.95,
          "yref": "y31 domain"
         },
         {
          "font": {
           "color": "#0173b2",
           "size": 19
          },
          "showarrow": false,
          "text": "ponatinib",
          "x": 0.1,
          "xref": "x32 domain",
          "y": 0.95,
          "yref": "y32 domain"
         },
         {
          "font": {
           "color": "#de8f05",
           "size": 19
          },
          "showarrow": false,
          "text": "GNF-5",
          "x": 0.9,
          "xref": "x32 domain",
          "y": 0.95,
          "yref": "y32 domain"
         },
         {
          "font": {
           "color": "#0173b2",
           "size": 19
          },
          "showarrow": false,
          "text": "WZ4003",
          "x": 0.5,
          "xref": "x33 domain",
          "y": 0.95,
          "yref": "y33 domain"
         },
         {
          "font": {
           "color": "#0173b2",
           "size": 19
          },
          "showarrow": false,
          "text": "ABT-737",
          "x": 0.1,
          "xref": "x34 domain",
          "y": 0.95,
          "yref": "y34 domain"
         },
         {
          "font": {
           "color": "#de8f05",
           "size": 19
          },
          "showarrow": false,
          "text": "venetoclax",
          "x": 0.9,
          "xref": "x34 domain",
          "y": 0.95,
          "yref": "y34 domain"
         },
         {
          "font": {
           "color": "#0173b2",
           "size": 19
          },
          "showarrow": false,
          "text": "romidepsin",
          "x": 0.1,
          "xref": "x35 domain",
          "y": 0.95,
          "yref": "y35 domain"
         },
         {
          "font": {
           "color": "#de8f05",
           "size": 19
          },
          "showarrow": false,
          "text": "RGFP966",
          "x": 0.9,
          "xref": "x35 domain",
          "y": 0.95,
          "yref": "y35 domain"
         },
         {
          "font": {
           "color": "#0173b2",
           "size": 19
          },
          "showarrow": false,
          "text": "THZ1",
          "x": 0.1,
          "xref": "x36 domain",
          "y": 0.95,
          "yref": "y36 domain"
         },
         {
          "font": {
           "color": "#de8f05",
           "size": 19
          },
          "showarrow": false,
          "text": "AMG-925",
          "x": 0.9,
          "xref": "x36 domain",
          "y": 0.95,
          "yref": "y36 domain"
         },
         {
          "font": {
           "color": "#0173b2",
           "size": 19
          },
          "showarrow": false,
          "text": "FR-180204",
          "x": 0.1,
          "xref": "x37 domain",
          "y": 0.95,
          "yref": "y37 domain"
         },
         {
          "font": {
           "color": "#de8f05",
           "size": 19
          },
          "showarrow": false,
          "text": "PD-198306",
          "x": 0.9,
          "xref": "x37 domain",
          "y": 0.95,
          "yref": "y37 domain"
         },
         {
          "font": {
           "color": "#0173b2",
           "size": 19
          },
          "showarrow": false,
          "text": "Thapsigargin",
          "x": 0.5,
          "xref": "x38 domain",
          "y": 0.95,
          "yref": "y38 domain"
         },
         {
          "font": {
           "color": "#0173b2",
           "size": 19
          },
          "showarrow": false,
          "text": "EPZ015666",
          "x": 0.1,
          "xref": "x39 domain",
          "y": 0.95,
          "yref": "y39 domain"
         },
         {
          "font": {
           "color": "#de8f05",
           "size": 19
          },
          "showarrow": false,
          "text": "SGC-707",
          "x": 0.9,
          "xref": "x39 domain",
          "y": 0.95,
          "yref": "y39 domain"
         },
         {
          "font": {
           "color": "#0173b2",
           "size": 19
          },
          "showarrow": false,
          "text": "DACTINOMYCIN",
          "x": 0.5,
          "xref": "x40 domain",
          "y": 0.95,
          "yref": "y40 domain"
         },
         {
          "font": {
           "color": "#0173b2",
           "size": 19
          },
          "showarrow": false,
          "text": "purmorphamine",
          "x": 0.1,
          "xref": "x41 domain",
          "y": 0.95,
          "yref": "y41 domain"
         },
         {
          "font": {
           "color": "#de8f05",
           "size": 19
          },
          "showarrow": false,
          "text": "SAG",
          "x": 0.9,
          "xref": "x41 domain",
          "y": 0.95,
          "yref": "y41 domain"
         },
         {
          "font": {
           "color": "#0173b2",
           "size": 19
          },
          "showarrow": false,
          "text": "CP-724714",
          "x": 0.1,
          "xref": "x42 domain",
          "y": 0.95,
          "yref": "y42 domain"
         },
         {
          "font": {
           "color": "#de8f05",
           "size": 19
          },
          "showarrow": false,
          "text": "neratinib",
          "x": 0.9,
          "xref": "x42 domain",
          "y": 0.95,
          "yref": "y42 domain"
         },
         {
          "font": {
           "color": "#0173b2",
           "size": 19
          },
          "showarrow": false,
          "text": "andarine",
          "x": 0.1,
          "xref": "x43 domain",
          "y": 0.95,
          "yref": "y43 domain"
         },
         {
          "font": {
           "color": "#de8f05",
           "size": 19
          },
          "showarrow": false,
          "text": "PS178990",
          "x": 0.9,
          "xref": "x43 domain",
          "y": 0.95,
          "yref": "y43 domain"
         },
         {
          "font": {
           "color": "#0173b2",
           "size": 19
          },
          "showarrow": false,
          "text": "rosuvastatin",
          "x": 0.1,
          "xref": "x44 domain",
          "y": 0.95,
          "yref": "y44 domain"
         },
         {
          "font": {
           "color": "#de8f05",
           "size": 19
          },
          "showarrow": false,
          "text": "delta-Tocotrienol",
          "x": 0.9,
          "xref": "x44 domain",
          "y": 0.95,
          "yref": "y44 domain"
         },
         {
          "font": {
           "color": "#0173b2",
           "size": 19
          },
          "showarrow": false,
          "text": "skepinone-l",
          "x": 0.1,
          "xref": "x45 domain",
          "y": 0.95,
          "yref": "y45 domain"
         },
         {
          "font": {
           "color": "#de8f05",
           "size": 19
          },
          "showarrow": false,
          "text": "VX-745",
          "x": 0.9,
          "xref": "x45 domain",
          "y": 0.95,
          "yref": "y45 domain"
         },
         {
          "font": {
           "color": "#0173b2",
           "size": 19
          },
          "showarrow": false,
          "text": "sirolimus",
          "x": 0.1,
          "xref": "x46 domain",
          "y": 0.95,
          "yref": "y46 domain"
         },
         {
          "font": {
           "color": "#de8f05",
           "size": 19
          },
          "showarrow": false,
          "text": "AZD2014",
          "x": 0.9,
          "xref": "x46 domain",
          "y": 0.95,
          "yref": "y46 domain"
         },
         {
          "font": {
           "color": "#0173b2",
           "size": 19
          },
          "showarrow": false,
          "text": "IOX2",
          "x": 0.1,
          "xref": "x47 domain",
          "y": 0.95,
          "yref": "y47 domain"
         },
         {
          "font": {
           "color": "#de8f05",
           "size": 19
          },
          "showarrow": false,
          "text": "acriflavine",
          "x": 0.9,
          "xref": "x47 domain",
          "y": 0.95,
          "yref": "y47 domain"
         }
        ],
        "font": {
         "color": "Black",
         "family": "sans serif",
         "size": 19
        },
        "height": 2500,
        "plot_bgcolor": "rgba(0,0,0,0)",
        "template": {
         "data": {
          "bar": [
           {
            "error_x": {
             "color": "#2a3f5f"
            },
            "error_y": {
             "color": "#2a3f5f"
            },
            "marker": {
             "line": {
              "color": "#E5ECF6",
              "width": 0.5
             },
             "pattern": {
              "fillmode": "overlay",
              "size": 10,
              "solidity": 0.2
             }
            },
            "type": "bar"
           }
          ],
          "barpolar": [
           {
            "marker": {
             "line": {
              "color": "#E5ECF6",
              "width": 0.5
             },
             "pattern": {
              "fillmode": "overlay",
              "size": 10,
              "solidity": 0.2
             }
            },
            "type": "barpolar"
           }
          ],
          "carpet": [
           {
            "aaxis": {
             "endlinecolor": "#2a3f5f",
             "gridcolor": "white",
             "linecolor": "white",
             "minorgridcolor": "white",
             "startlinecolor": "#2a3f5f"
            },
            "baxis": {
             "endlinecolor": "#2a3f5f",
             "gridcolor": "white",
             "linecolor": "white",
             "minorgridcolor": "white",
             "startlinecolor": "#2a3f5f"
            },
            "type": "carpet"
           }
          ],
          "choropleth": [
           {
            "colorbar": {
             "outlinewidth": 0,
             "ticks": ""
            },
            "type": "choropleth"
           }
          ],
          "contour": [
           {
            "colorbar": {
             "outlinewidth": 0,
             "ticks": ""
            },
            "colorscale": [
             [
              0,
              "#0d0887"
             ],
             [
              0.1111111111111111,
              "#46039f"
             ],
             [
              0.2222222222222222,
              "#7201a8"
             ],
             [
              0.3333333333333333,
              "#9c179e"
             ],
             [
              0.4444444444444444,
              "#bd3786"
             ],
             [
              0.5555555555555556,
              "#d8576b"
             ],
             [
              0.6666666666666666,
              "#ed7953"
             ],
             [
              0.7777777777777778,
              "#fb9f3a"
             ],
             [
              0.8888888888888888,
              "#fdca26"
             ],
             [
              1,
              "#f0f921"
             ]
            ],
            "type": "contour"
           }
          ],
          "contourcarpet": [
           {
            "colorbar": {
             "outlinewidth": 0,
             "ticks": ""
            },
            "type": "contourcarpet"
           }
          ],
          "heatmap": [
           {
            "colorbar": {
             "outlinewidth": 0,
             "ticks": ""
            },
            "colorscale": [
             [
              0,
              "#0d0887"
             ],
             [
              0.1111111111111111,
              "#46039f"
             ],
             [
              0.2222222222222222,
              "#7201a8"
             ],
             [
              0.3333333333333333,
              "#9c179e"
             ],
             [
              0.4444444444444444,
              "#bd3786"
             ],
             [
              0.5555555555555556,
              "#d8576b"
             ],
             [
              0.6666666666666666,
              "#ed7953"
             ],
             [
              0.7777777777777778,
              "#fb9f3a"
             ],
             [
              0.8888888888888888,
              "#fdca26"
             ],
             [
              1,
              "#f0f921"
             ]
            ],
            "type": "heatmap"
           }
          ],
          "heatmapgl": [
           {
            "colorbar": {
             "outlinewidth": 0,
             "ticks": ""
            },
            "colorscale": [
             [
              0,
              "#0d0887"
             ],
             [
              0.1111111111111111,
              "#46039f"
             ],
             [
              0.2222222222222222,
              "#7201a8"
             ],
             [
              0.3333333333333333,
              "#9c179e"
             ],
             [
              0.4444444444444444,
              "#bd3786"
             ],
             [
              0.5555555555555556,
              "#d8576b"
             ],
             [
              0.6666666666666666,
              "#ed7953"
             ],
             [
              0.7777777777777778,
              "#fb9f3a"
             ],
             [
              0.8888888888888888,
              "#fdca26"
             ],
             [
              1,
              "#f0f921"
             ]
            ],
            "type": "heatmapgl"
           }
          ],
          "histogram": [
           {
            "marker": {
             "pattern": {
              "fillmode": "overlay",
              "size": 10,
              "solidity": 0.2
             }
            },
            "type": "histogram"
           }
          ],
          "histogram2d": [
           {
            "colorbar": {
             "outlinewidth": 0,
             "ticks": ""
            },
            "colorscale": [
             [
              0,
              "#0d0887"
             ],
             [
              0.1111111111111111,
              "#46039f"
             ],
             [
              0.2222222222222222,
              "#7201a8"
             ],
             [
              0.3333333333333333,
              "#9c179e"
             ],
             [
              0.4444444444444444,
              "#bd3786"
             ],
             [
              0.5555555555555556,
              "#d8576b"
             ],
             [
              0.6666666666666666,
              "#ed7953"
             ],
             [
              0.7777777777777778,
              "#fb9f3a"
             ],
             [
              0.8888888888888888,
              "#fdca26"
             ],
             [
              1,
              "#f0f921"
             ]
            ],
            "type": "histogram2d"
           }
          ],
          "histogram2dcontour": [
           {
            "colorbar": {
             "outlinewidth": 0,
             "ticks": ""
            },
            "colorscale": [
             [
              0,
              "#0d0887"
             ],
             [
              0.1111111111111111,
              "#46039f"
             ],
             [
              0.2222222222222222,
              "#7201a8"
             ],
             [
              0.3333333333333333,
              "#9c179e"
             ],
             [
              0.4444444444444444,
              "#bd3786"
             ],
             [
              0.5555555555555556,
              "#d8576b"
             ],
             [
              0.6666666666666666,
              "#ed7953"
             ],
             [
              0.7777777777777778,
              "#fb9f3a"
             ],
             [
              0.8888888888888888,
              "#fdca26"
             ],
             [
              1,
              "#f0f921"
             ]
            ],
            "type": "histogram2dcontour"
           }
          ],
          "mesh3d": [
           {
            "colorbar": {
             "outlinewidth": 0,
             "ticks": ""
            },
            "type": "mesh3d"
           }
          ],
          "parcoords": [
           {
            "line": {
             "colorbar": {
              "outlinewidth": 0,
              "ticks": ""
             }
            },
            "type": "parcoords"
           }
          ],
          "pie": [
           {
            "automargin": true,
            "type": "pie"
           }
          ],
          "scatter": [
           {
            "fillpattern": {
             "fillmode": "overlay",
             "size": 10,
             "solidity": 0.2
            },
            "type": "scatter"
           }
          ],
          "scatter3d": [
           {
            "line": {
             "colorbar": {
              "outlinewidth": 0,
              "ticks": ""
             }
            },
            "marker": {
             "colorbar": {
              "outlinewidth": 0,
              "ticks": ""
             }
            },
            "type": "scatter3d"
           }
          ],
          "scattercarpet": [
           {
            "marker": {
             "colorbar": {
              "outlinewidth": 0,
              "ticks": ""
             }
            },
            "type": "scattercarpet"
           }
          ],
          "scattergeo": [
           {
            "marker": {
             "colorbar": {
              "outlinewidth": 0,
              "ticks": ""
             }
            },
            "type": "scattergeo"
           }
          ],
          "scattergl": [
           {
            "marker": {
             "colorbar": {
              "outlinewidth": 0,
              "ticks": ""
             }
            },
            "type": "scattergl"
           }
          ],
          "scattermapbox": [
           {
            "marker": {
             "colorbar": {
              "outlinewidth": 0,
              "ticks": ""
             }
            },
            "type": "scattermapbox"
           }
          ],
          "scatterpolar": [
           {
            "marker": {
             "colorbar": {
              "outlinewidth": 0,
              "ticks": ""
             }
            },
            "type": "scatterpolar"
           }
          ],
          "scatterpolargl": [
           {
            "marker": {
             "colorbar": {
              "outlinewidth": 0,
              "ticks": ""
             }
            },
            "type": "scatterpolargl"
           }
          ],
          "scatterternary": [
           {
            "marker": {
             "colorbar": {
              "outlinewidth": 0,
              "ticks": ""
             }
            },
            "type": "scatterternary"
           }
          ],
          "surface": [
           {
            "colorbar": {
             "outlinewidth": 0,
             "ticks": ""
            },
            "colorscale": [
             [
              0,
              "#0d0887"
             ],
             [
              0.1111111111111111,
              "#46039f"
             ],
             [
              0.2222222222222222,
              "#7201a8"
             ],
             [
              0.3333333333333333,
              "#9c179e"
             ],
             [
              0.4444444444444444,
              "#bd3786"
             ],
             [
              0.5555555555555556,
              "#d8576b"
             ],
             [
              0.6666666666666666,
              "#ed7953"
             ],
             [
              0.7777777777777778,
              "#fb9f3a"
             ],
             [
              0.8888888888888888,
              "#fdca26"
             ],
             [
              1,
              "#f0f921"
             ]
            ],
            "type": "surface"
           }
          ],
          "table": [
           {
            "cells": {
             "fill": {
              "color": "#EBF0F8"
             },
             "line": {
              "color": "white"
             }
            },
            "header": {
             "fill": {
              "color": "#C8D4E3"
             },
             "line": {
              "color": "white"
             }
            },
            "type": "table"
           }
          ]
         },
         "layout": {
          "annotationdefaults": {
           "arrowcolor": "#2a3f5f",
           "arrowhead": 0,
           "arrowwidth": 1
          },
          "autotypenumbers": "strict",
          "coloraxis": {
           "colorbar": {
            "outlinewidth": 0,
            "ticks": ""
           }
          },
          "colorscale": {
           "diverging": [
            [
             0,
             "#8e0152"
            ],
            [
             0.1,
             "#c51b7d"
            ],
            [
             0.2,
             "#de77ae"
            ],
            [
             0.3,
             "#f1b6da"
            ],
            [
             0.4,
             "#fde0ef"
            ],
            [
             0.5,
             "#f7f7f7"
            ],
            [
             0.6,
             "#e6f5d0"
            ],
            [
             0.7,
             "#b8e186"
            ],
            [
             0.8,
             "#7fbc41"
            ],
            [
             0.9,
             "#4d9221"
            ],
            [
             1,
             "#276419"
            ]
           ],
           "sequential": [
            [
             0,
             "#0d0887"
            ],
            [
             0.1111111111111111,
             "#46039f"
            ],
            [
             0.2222222222222222,
             "#7201a8"
            ],
            [
             0.3333333333333333,
             "#9c179e"
            ],
            [
             0.4444444444444444,
             "#bd3786"
            ],
            [
             0.5555555555555556,
             "#d8576b"
            ],
            [
             0.6666666666666666,
             "#ed7953"
            ],
            [
             0.7777777777777778,
             "#fb9f3a"
            ],
            [
             0.8888888888888888,
             "#fdca26"
            ],
            [
             1,
             "#f0f921"
            ]
           ],
           "sequentialminus": [
            [
             0,
             "#0d0887"
            ],
            [
             0.1111111111111111,
             "#46039f"
            ],
            [
             0.2222222222222222,
             "#7201a8"
            ],
            [
             0.3333333333333333,
             "#9c179e"
            ],
            [
             0.4444444444444444,
             "#bd3786"
            ],
            [
             0.5555555555555556,
             "#d8576b"
            ],
            [
             0.6666666666666666,
             "#ed7953"
            ],
            [
             0.7777777777777778,
             "#fb9f3a"
            ],
            [
             0.8888888888888888,
             "#fdca26"
            ],
            [
             1,
             "#f0f921"
            ]
           ]
          },
          "colorway": [
           "#636efa",
           "#EF553B",
           "#00cc96",
           "#ab63fa",
           "#FFA15A",
           "#19d3f3",
           "#FF6692",
           "#B6E880",
           "#FF97FF",
           "#FECB52"
          ],
          "font": {
           "color": "#2a3f5f"
          },
          "geo": {
           "bgcolor": "white",
           "lakecolor": "white",
           "landcolor": "#E5ECF6",
           "showlakes": true,
           "showland": true,
           "subunitcolor": "white"
          },
          "hoverlabel": {
           "align": "left"
          },
          "hovermode": "closest",
          "mapbox": {
           "style": "light"
          },
          "paper_bgcolor": "white",
          "plot_bgcolor": "#E5ECF6",
          "polar": {
           "angularaxis": {
            "gridcolor": "white",
            "linecolor": "white",
            "ticks": ""
           },
           "bgcolor": "#E5ECF6",
           "radialaxis": {
            "gridcolor": "white",
            "linecolor": "white",
            "ticks": ""
           }
          },
          "scene": {
           "xaxis": {
            "backgroundcolor": "#E5ECF6",
            "gridcolor": "white",
            "gridwidth": 2,
            "linecolor": "white",
            "showbackground": true,
            "ticks": "",
            "zerolinecolor": "white"
           },
           "yaxis": {
            "backgroundcolor": "#E5ECF6",
            "gridcolor": "white",
            "gridwidth": 2,
            "linecolor": "white",
            "showbackground": true,
            "ticks": "",
            "zerolinecolor": "white"
           },
           "zaxis": {
            "backgroundcolor": "#E5ECF6",
            "gridcolor": "white",
            "gridwidth": 2,
            "linecolor": "white",
            "showbackground": true,
            "ticks": "",
            "zerolinecolor": "white"
           }
          },
          "shapedefaults": {
           "line": {
            "color": "#2a3f5f"
           }
          },
          "ternary": {
           "aaxis": {
            "gridcolor": "white",
            "linecolor": "white",
            "ticks": ""
           },
           "baxis": {
            "gridcolor": "white",
            "linecolor": "white",
            "ticks": ""
           },
           "bgcolor": "#E5ECF6",
           "caxis": {
            "gridcolor": "white",
            "linecolor": "white",
            "ticks": ""
           }
          },
          "title": {
           "x": 0.05
          },
          "xaxis": {
           "automargin": true,
           "gridcolor": "white",
           "linecolor": "white",
           "ticks": "",
           "title": {
            "standoff": 15
           },
           "zerolinecolor": "white",
           "zerolinewidth": 2
          },
          "yaxis": {
           "automargin": true,
           "gridcolor": "white",
           "linecolor": "white",
           "ticks": "",
           "title": {
            "standoff": 15
           },
           "zerolinecolor": "white",
           "zerolinewidth": 2
          }
         }
        },
        "width": 2000,
        "xaxis": {
         "anchor": "y",
         "domain": [
          0,
          0.184
         ],
         "linecolor": "black",
         "matches": "x46",
         "showticklabels": false,
         "tickangle": 90,
         "tickfont": {
          "size": 24
         }
        },
        "xaxis10": {
         "anchor": "y10",
         "domain": [
          0.816,
          1
         ],
         "linecolor": "black",
         "matches": "x50",
         "showticklabels": false,
         "tickangle": 90,
         "tickfont": {
          "size": 24
         }
        },
        "xaxis11": {
         "anchor": "y11",
         "domain": [
          0,
          0.184
         ],
         "linecolor": "black",
         "matches": "x46",
         "showticklabels": false,
         "tickangle": 90,
         "tickfont": {
          "size": 24
         }
        },
        "xaxis12": {
         "anchor": "y12",
         "domain": [
          0.204,
          0.388
         ],
         "linecolor": "black",
         "matches": "x47",
         "showticklabels": false,
         "tickangle": 90,
         "tickfont": {
          "size": 24
         }
        },
        "xaxis13": {
         "anchor": "y13",
         "domain": [
          0.408,
          0.592
         ],
         "linecolor": "black",
         "matches": "x48",
         "showticklabels": false,
         "tickangle": 90,
         "tickfont": {
          "size": 24
         }
        },
        "xaxis14": {
         "anchor": "y14",
         "domain": [
          0.6120000000000001,
          0.796
         ],
         "linecolor": "black",
         "matches": "x49",
         "showticklabels": false,
         "tickangle": 90,
         "tickfont": {
          "size": 24
         }
        },
        "xaxis15": {
         "anchor": "y15",
         "domain": [
          0.816,
          1
         ],
         "linecolor": "black",
         "matches": "x50",
         "showticklabels": false,
         "tickangle": 90,
         "tickfont": {
          "size": 24
         }
        },
        "xaxis16": {
         "anchor": "y16",
         "domain": [
          0,
          0.184
         ],
         "linecolor": "black",
         "matches": "x46",
         "showticklabels": false,
         "tickangle": 90,
         "tickfont": {
          "size": 24
         }
        },
        "xaxis17": {
         "anchor": "y17",
         "domain": [
          0.204,
          0.388
         ],
         "linecolor": "black",
         "matches": "x47",
         "showticklabels": false,
         "tickangle": 90,
         "tickfont": {
          "size": 24
         }
        },
        "xaxis18": {
         "anchor": "y18",
         "domain": [
          0.408,
          0.592
         ],
         "linecolor": "black",
         "matches": "x48",
         "showticklabels": false,
         "tickangle": 90,
         "tickfont": {
          "size": 24
         }
        },
        "xaxis19": {
         "anchor": "y19",
         "domain": [
          0.6120000000000001,
          0.796
         ],
         "linecolor": "black",
         "matches": "x49",
         "showticklabels": false,
         "tickangle": 90,
         "tickfont": {
          "size": 24
         }
        },
        "xaxis2": {
         "anchor": "y2",
         "domain": [
          0.204,
          0.388
         ],
         "linecolor": "black",
         "matches": "x47",
         "showticklabels": false,
         "tickangle": 90,
         "tickfont": {
          "size": 24
         }
        },
        "xaxis20": {
         "anchor": "y20",
         "domain": [
          0.816,
          1
         ],
         "linecolor": "black",
         "matches": "x50",
         "showticklabels": false,
         "tickangle": 90,
         "tickfont": {
          "size": 24
         }
        },
        "xaxis21": {
         "anchor": "y21",
         "domain": [
          0,
          0.184
         ],
         "linecolor": "black",
         "matches": "x46",
         "showticklabels": false,
         "tickangle": 90,
         "tickfont": {
          "size": 24
         }
        },
        "xaxis22": {
         "anchor": "y22",
         "domain": [
          0.204,
          0.388
         ],
         "linecolor": "black",
         "matches": "x47",
         "showticklabels": false,
         "tickangle": 90,
         "tickfont": {
          "size": 24
         }
        },
        "xaxis23": {
         "anchor": "y23",
         "domain": [
          0.408,
          0.592
         ],
         "linecolor": "black",
         "matches": "x48",
         "showticklabels": false,
         "tickangle": 90,
         "tickfont": {
          "size": 24
         }
        },
        "xaxis24": {
         "anchor": "y24",
         "domain": [
          0.6120000000000001,
          0.796
         ],
         "linecolor": "black",
         "matches": "x49",
         "showticklabels": false,
         "tickangle": 90,
         "tickfont": {
          "size": 24
         }
        },
        "xaxis25": {
         "anchor": "y25",
         "domain": [
          0.816,
          1
         ],
         "linecolor": "black",
         "matches": "x50",
         "showticklabels": false,
         "tickangle": 90,
         "tickfont": {
          "size": 24
         }
        },
        "xaxis26": {
         "anchor": "y26",
         "domain": [
          0,
          0.184
         ],
         "linecolor": "black",
         "matches": "x46",
         "showticklabels": false,
         "tickangle": 90,
         "tickfont": {
          "size": 24
         }
        },
        "xaxis27": {
         "anchor": "y27",
         "domain": [
          0.204,
          0.388
         ],
         "linecolor": "black",
         "matches": "x47",
         "showticklabels": false,
         "tickangle": 90,
         "tickfont": {
          "size": 24
         }
        },
        "xaxis28": {
         "anchor": "y28",
         "domain": [
          0.408,
          0.592
         ],
         "linecolor": "black",
         "matches": "x48",
         "showticklabels": false,
         "tickangle": 90,
         "tickfont": {
          "size": 24
         }
        },
        "xaxis29": {
         "anchor": "y29",
         "domain": [
          0.6120000000000001,
          0.796
         ],
         "linecolor": "black",
         "matches": "x49",
         "showticklabels": false,
         "tickangle": 90,
         "tickfont": {
          "size": 24
         }
        },
        "xaxis3": {
         "anchor": "y3",
         "domain": [
          0.408,
          0.592
         ],
         "linecolor": "black",
         "matches": "x48",
         "showticklabels": false,
         "tickangle": 90,
         "tickfont": {
          "size": 24
         }
        },
        "xaxis30": {
         "anchor": "y30",
         "domain": [
          0.816,
          1
         ],
         "linecolor": "black",
         "matches": "x50",
         "showticklabels": false,
         "tickangle": 90,
         "tickfont": {
          "size": 24
         }
        },
        "xaxis31": {
         "anchor": "y31",
         "domain": [
          0,
          0.184
         ],
         "linecolor": "black",
         "matches": "x46",
         "showticklabels": false,
         "tickangle": 90,
         "tickfont": {
          "size": 24
         }
        },
        "xaxis32": {
         "anchor": "y32",
         "domain": [
          0.204,
          0.388
         ],
         "linecolor": "black",
         "matches": "x47",
         "showticklabels": false,
         "tickangle": 90,
         "tickfont": {
          "size": 24
         }
        },
        "xaxis33": {
         "anchor": "y33",
         "domain": [
          0.408,
          0.592
         ],
         "linecolor": "black",
         "matches": "x48",
         "showticklabels": false,
         "tickangle": 90,
         "tickfont": {
          "size": 24
         }
        },
        "xaxis34": {
         "anchor": "y34",
         "domain": [
          0.6120000000000001,
          0.796
         ],
         "linecolor": "black",
         "matches": "x49",
         "showticklabels": false,
         "tickangle": 90,
         "tickfont": {
          "size": 24
         }
        },
        "xaxis35": {
         "anchor": "y35",
         "domain": [
          0.816,
          1
         ],
         "linecolor": "black",
         "matches": "x50",
         "showticklabels": false,
         "tickangle": 90,
         "tickfont": {
          "size": 24
         }
        },
        "xaxis36": {
         "anchor": "y36",
         "domain": [
          0,
          0.184
         ],
         "linecolor": "black",
         "matches": "x46",
         "showticklabels": false,
         "tickangle": 90,
         "tickfont": {
          "size": 24
         }
        },
        "xaxis37": {
         "anchor": "y37",
         "domain": [
          0.204,
          0.388
         ],
         "linecolor": "black",
         "matches": "x47",
         "showticklabels": false,
         "tickangle": 90,
         "tickfont": {
          "size": 24
         }
        },
        "xaxis38": {
         "anchor": "y38",
         "domain": [
          0.408,
          0.592
         ],
         "linecolor": "black",
         "matches": "x48",
         "showticklabels": false,
         "tickangle": 90,
         "tickfont": {
          "size": 24
         }
        },
        "xaxis39": {
         "anchor": "y39",
         "domain": [
          0.6120000000000001,
          0.796
         ],
         "linecolor": "black",
         "matches": "x49",
         "showticklabels": false,
         "tickangle": 90,
         "tickfont": {
          "size": 24
         }
        },
        "xaxis4": {
         "anchor": "y4",
         "domain": [
          0.6120000000000001,
          0.796
         ],
         "linecolor": "black",
         "matches": "x49",
         "showticklabels": false,
         "tickangle": 90,
         "tickfont": {
          "size": 24
         }
        },
        "xaxis40": {
         "anchor": "y40",
         "domain": [
          0.816,
          1
         ],
         "linecolor": "black",
         "matches": "x50",
         "showticklabels": false,
         "tickangle": 90,
         "tickfont": {
          "size": 24
         }
        },
        "xaxis41": {
         "anchor": "y41",
         "domain": [
          0,
          0.184
         ],
         "linecolor": "black",
         "matches": "x46",
         "showticklabels": false,
         "tickangle": 90,
         "tickfont": {
          "size": 24
         }
        },
        "xaxis42": {
         "anchor": "y42",
         "domain": [
          0.204,
          0.388
         ],
         "linecolor": "black",
         "matches": "x47",
         "showticklabels": false,
         "tickangle": 90,
         "tickfont": {
          "size": 24
         }
        },
        "xaxis43": {
         "anchor": "y43",
         "domain": [
          0.408,
          0.592
         ],
         "linecolor": "black",
         "matches": "x48",
         "showticklabels": false,
         "tickangle": 90,
         "tickfont": {
          "size": 24
         }
        },
        "xaxis44": {
         "anchor": "y44",
         "domain": [
          0.6120000000000001,
          0.796
         ],
         "linecolor": "black",
         "matches": "x49",
         "showticklabels": false,
         "tickangle": 90,
         "tickfont": {
          "size": 24
         }
        },
        "xaxis45": {
         "anchor": "y45",
         "domain": [
          0.816,
          1
         ],
         "linecolor": "black",
         "matches": "x50",
         "showticklabels": false,
         "tickangle": 90,
         "tickfont": {
          "size": 24
         }
        },
        "xaxis46": {
         "anchor": "y46",
         "domain": [
          0,
          0.184
         ],
         "linecolor": "black",
         "tickangle": 90,
         "tickfont": {
          "size": 24
         }
        },
        "xaxis47": {
         "anchor": "y47",
         "domain": [
          0.204,
          0.388
         ],
         "linecolor": "black",
         "tickangle": 90,
         "tickfont": {
          "size": 24
         }
        },
        "xaxis48": {
         "anchor": "y48",
         "domain": [
          0.408,
          0.592
         ],
         "linecolor": "black",
         "tickangle": 90,
         "tickfont": {
          "size": 24
         }
        },
        "xaxis49": {
         "anchor": "y49",
         "domain": [
          0.6120000000000001,
          0.796
         ],
         "linecolor": "black",
         "tickangle": 90,
         "tickfont": {
          "size": 24
         }
        },
        "xaxis5": {
         "anchor": "y5",
         "domain": [
          0.816,
          1
         ],
         "linecolor": "black",
         "matches": "x50",
         "showticklabels": false,
         "tickangle": 90,
         "tickfont": {
          "size": 24
         }
        },
        "xaxis50": {
         "anchor": "y50",
         "domain": [
          0.816,
          1
         ],
         "linecolor": "black",
         "tickangle": 90,
         "tickfont": {
          "size": 24
         }
        },
        "xaxis6": {
         "anchor": "y6",
         "domain": [
          0,
          0.184
         ],
         "linecolor": "black",
         "matches": "x46",
         "showticklabels": false,
         "tickangle": 90,
         "tickfont": {
          "size": 24
         }
        },
        "xaxis7": {
         "anchor": "y7",
         "domain": [
          0.204,
          0.388
         ],
         "linecolor": "black",
         "matches": "x47",
         "showticklabels": false,
         "tickangle": 90,
         "tickfont": {
          "size": 24
         }
        },
        "xaxis8": {
         "anchor": "y8",
         "domain": [
          0.408,
          0.592
         ],
         "linecolor": "black",
         "matches": "x48",
         "showticklabels": false,
         "tickangle": 90,
         "tickfont": {
          "size": 24
         }
        },
        "xaxis9": {
         "anchor": "y9",
         "domain": [
          0.6120000000000001,
          0.796
         ],
         "linecolor": "black",
         "matches": "x49",
         "showticklabels": false,
         "tickangle": 90,
         "tickfont": {
          "size": 24
         }
        },
        "yaxis": {
         "anchor": "x",
         "domain": [
          0.9179999999999999,
          0.9999999999999999
         ],
         "linecolor": "black",
         "range": [
          0,
          1.3
         ],
         "tickfont": {
          "size": 24
         },
         "title": {
          "font": {
           "size": 34
          }
         }
        },
        "yaxis10": {
         "anchor": "x10",
         "domain": [
          0.8160000000000001,
          0.898
         ],
         "linecolor": "black",
         "range": [
          0,
          1.3
         ],
         "tickfont": {
          "size": 24
         }
        },
        "yaxis11": {
         "anchor": "x11",
         "domain": [
          0.7140000000000001,
          0.796
         ],
         "linecolor": "black",
         "range": [
          0,
          1.3
         ],
         "tickfont": {
          "size": 24
         }
        },
        "yaxis12": {
         "anchor": "x12",
         "domain": [
          0.7140000000000001,
          0.796
         ],
         "linecolor": "black",
         "range": [
          0,
          1.3
         ],
         "tickfont": {
          "size": 24
         }
        },
        "yaxis13": {
         "anchor": "x13",
         "domain": [
          0.7140000000000001,
          0.796
         ],
         "linecolor": "black",
         "range": [
          0,
          1.3
         ],
         "tickfont": {
          "size": 24
         }
        },
        "yaxis14": {
         "anchor": "x14",
         "domain": [
          0.7140000000000001,
          0.796
         ],
         "linecolor": "black",
         "range": [
          0,
          1.3
         ],
         "tickfont": {
          "size": 24
         }
        },
        "yaxis15": {
         "anchor": "x15",
         "domain": [
          0.7140000000000001,
          0.796
         ],
         "linecolor": "black",
         "range": [
          0,
          1.3
         ],
         "tickfont": {
          "size": 24
         }
        },
        "yaxis16": {
         "anchor": "x16",
         "domain": [
          0.612,
          0.694
         ],
         "linecolor": "black",
         "range": [
          0,
          1.3
         ],
         "tickfont": {
          "size": 24
         }
        },
        "yaxis17": {
         "anchor": "x17",
         "domain": [
          0.612,
          0.694
         ],
         "linecolor": "black",
         "range": [
          0,
          1.3
         ],
         "tickfont": {
          "size": 24
         }
        },
        "yaxis18": {
         "anchor": "x18",
         "domain": [
          0.612,
          0.694
         ],
         "linecolor": "black",
         "range": [
          0,
          1.3
         ],
         "tickfont": {
          "size": 24
         }
        },
        "yaxis19": {
         "anchor": "x19",
         "domain": [
          0.612,
          0.694
         ],
         "linecolor": "black",
         "range": [
          0,
          1.3
         ],
         "tickfont": {
          "size": 24
         }
        },
        "yaxis2": {
         "anchor": "x2",
         "domain": [
          0.9179999999999999,
          0.9999999999999999
         ],
         "linecolor": "black",
         "range": [
          0,
          1.3
         ],
         "tickfont": {
          "size": 24
         }
        },
        "yaxis20": {
         "anchor": "x20",
         "domain": [
          0.612,
          0.694
         ],
         "linecolor": "black",
         "range": [
          0,
          1.3
         ],
         "tickfont": {
          "size": 24
         }
        },
        "yaxis21": {
         "anchor": "x21",
         "domain": [
          0.51,
          0.592
         ],
         "linecolor": "black",
         "range": [
          0,
          1.3
         ],
         "tickfont": {
          "size": 24
         }
        },
        "yaxis22": {
         "anchor": "x22",
         "domain": [
          0.51,
          0.592
         ],
         "linecolor": "black",
         "range": [
          0,
          1.3
         ],
         "tickfont": {
          "size": 24
         }
        },
        "yaxis23": {
         "anchor": "x23",
         "domain": [
          0.51,
          0.592
         ],
         "linecolor": "black",
         "range": [
          0,
          1.3
         ],
         "tickfont": {
          "size": 24
         }
        },
        "yaxis24": {
         "anchor": "x24",
         "domain": [
          0.51,
          0.592
         ],
         "linecolor": "black",
         "range": [
          0,
          1.3
         ],
         "tickfont": {
          "size": 24
         }
        },
        "yaxis25": {
         "anchor": "x25",
         "domain": [
          0.51,
          0.592
         ],
         "linecolor": "black",
         "range": [
          0,
          1.3
         ],
         "tickfont": {
          "size": 24
         }
        },
        "yaxis26": {
         "anchor": "x26",
         "domain": [
          0.40800000000000003,
          0.49000000000000005
         ],
         "linecolor": "black",
         "range": [
          0,
          1.3
         ],
         "tickfont": {
          "size": 24
         }
        },
        "yaxis27": {
         "anchor": "x27",
         "domain": [
          0.40800000000000003,
          0.49000000000000005
         ],
         "linecolor": "black",
         "range": [
          0,
          1.3
         ],
         "tickfont": {
          "size": 24
         }
        },
        "yaxis28": {
         "anchor": "x28",
         "domain": [
          0.40800000000000003,
          0.49000000000000005
         ],
         "linecolor": "black",
         "range": [
          0,
          1.3
         ],
         "tickfont": {
          "size": 24
         }
        },
        "yaxis29": {
         "anchor": "x29",
         "domain": [
          0.40800000000000003,
          0.49000000000000005
         ],
         "linecolor": "black",
         "range": [
          0,
          1.3
         ],
         "tickfont": {
          "size": 24
         }
        },
        "yaxis3": {
         "anchor": "x3",
         "domain": [
          0.9179999999999999,
          0.9999999999999999
         ],
         "linecolor": "black",
         "range": [
          0,
          1.3
         ],
         "tickfont": {
          "size": 24
         }
        },
        "yaxis30": {
         "anchor": "x30",
         "domain": [
          0.40800000000000003,
          0.49000000000000005
         ],
         "linecolor": "black",
         "range": [
          0,
          1.3
         ],
         "tickfont": {
          "size": 24
         }
        },
        "yaxis31": {
         "anchor": "x31",
         "domain": [
          0.306,
          0.388
         ],
         "linecolor": "black",
         "range": [
          0,
          1.3
         ],
         "tickfont": {
          "size": 24
         }
        },
        "yaxis32": {
         "anchor": "x32",
         "domain": [
          0.306,
          0.388
         ],
         "linecolor": "black",
         "range": [
          0,
          1.3
         ],
         "tickfont": {
          "size": 24
         }
        },
        "yaxis33": {
         "anchor": "x33",
         "domain": [
          0.306,
          0.388
         ],
         "linecolor": "black",
         "range": [
          0,
          1.3
         ],
         "tickfont": {
          "size": 24
         }
        },
        "yaxis34": {
         "anchor": "x34",
         "domain": [
          0.306,
          0.388
         ],
         "linecolor": "black",
         "range": [
          0,
          1.3
         ],
         "tickfont": {
          "size": 24
         }
        },
        "yaxis35": {
         "anchor": "x35",
         "domain": [
          0.306,
          0.388
         ],
         "linecolor": "black",
         "range": [
          0,
          1.3
         ],
         "tickfont": {
          "size": 24
         }
        },
        "yaxis36": {
         "anchor": "x36",
         "domain": [
          0.20400000000000001,
          0.28600000000000003
         ],
         "linecolor": "black",
         "range": [
          0,
          1.3
         ],
         "tickfont": {
          "size": 24
         }
        },
        "yaxis37": {
         "anchor": "x37",
         "domain": [
          0.20400000000000001,
          0.28600000000000003
         ],
         "linecolor": "black",
         "range": [
          0,
          1.3
         ],
         "tickfont": {
          "size": 24
         }
        },
        "yaxis38": {
         "anchor": "x38",
         "domain": [
          0.20400000000000001,
          0.28600000000000003
         ],
         "linecolor": "black",
         "range": [
          0,
          1.3
         ],
         "tickfont": {
          "size": 24
         }
        },
        "yaxis39": {
         "anchor": "x39",
         "domain": [
          0.20400000000000001,
          0.28600000000000003
         ],
         "linecolor": "black",
         "range": [
          0,
          1.3
         ],
         "tickfont": {
          "size": 24
         }
        },
        "yaxis4": {
         "anchor": "x4",
         "domain": [
          0.9179999999999999,
          0.9999999999999999
         ],
         "linecolor": "black",
         "range": [
          0,
          1.3
         ],
         "tickfont": {
          "size": 24
         }
        },
        "yaxis40": {
         "anchor": "x40",
         "domain": [
          0.20400000000000001,
          0.28600000000000003
         ],
         "linecolor": "black",
         "range": [
          0,
          1.3
         ],
         "tickfont": {
          "size": 24
         }
        },
        "yaxis41": {
         "anchor": "x41",
         "domain": [
          0.10200000000000001,
          0.184
         ],
         "linecolor": "black",
         "range": [
          0,
          1.3
         ],
         "tickfont": {
          "size": 24
         }
        },
        "yaxis42": {
         "anchor": "x42",
         "domain": [
          0.10200000000000001,
          0.184
         ],
         "linecolor": "black",
         "range": [
          0,
          1.3
         ],
         "tickfont": {
          "size": 24
         }
        },
        "yaxis43": {
         "anchor": "x43",
         "domain": [
          0.10200000000000001,
          0.184
         ],
         "linecolor": "black",
         "range": [
          0,
          1.3
         ],
         "tickfont": {
          "size": 24
         }
        },
        "yaxis44": {
         "anchor": "x44",
         "domain": [
          0.10200000000000001,
          0.184
         ],
         "linecolor": "black",
         "range": [
          0,
          1.3
         ],
         "tickfont": {
          "size": 24
         }
        },
        "yaxis45": {
         "anchor": "x45",
         "domain": [
          0.10200000000000001,
          0.184
         ],
         "linecolor": "black",
         "range": [
          0,
          1.3
         ],
         "tickfont": {
          "size": 24
         }
        },
        "yaxis46": {
         "anchor": "x46",
         "domain": [
          0,
          0.082
         ],
         "linecolor": "black",
         "range": [
          0,
          1.3
         ],
         "tickfont": {
          "size": 24
         }
        },
        "yaxis47": {
         "anchor": "x47",
         "domain": [
          0,
          0.082
         ],
         "linecolor": "black",
         "range": [
          0,
          1.3
         ],
         "tickfont": {
          "size": 24
         }
        },
        "yaxis48": {
         "anchor": "x48",
         "domain": [
          0,
          0.082
         ],
         "linecolor": "black",
         "range": [
          0,
          1.3
         ],
         "tickfont": {
          "size": 24
         }
        },
        "yaxis49": {
         "anchor": "x49",
         "domain": [
          0,
          0.082
         ],
         "linecolor": "black",
         "range": [
          0,
          1.3
         ],
         "tickfont": {
          "size": 24
         }
        },
        "yaxis5": {
         "anchor": "x5",
         "domain": [
          0.9179999999999999,
          0.9999999999999999
         ],
         "linecolor": "black",
         "range": [
          0,
          1.3
         ],
         "tickfont": {
          "size": 24
         }
        },
        "yaxis50": {
         "anchor": "x50",
         "domain": [
          0,
          0.082
         ],
         "linecolor": "black",
         "range": [
          0,
          1.3
         ],
         "tickfont": {
          "size": 24
         }
        },
        "yaxis6": {
         "anchor": "x6",
         "domain": [
          0.8160000000000001,
          0.898
         ],
         "linecolor": "black",
         "range": [
          0,
          1.3
         ],
         "tickfont": {
          "size": 24
         }
        },
        "yaxis7": {
         "anchor": "x7",
         "domain": [
          0.8160000000000001,
          0.898
         ],
         "linecolor": "black",
         "range": [
          0,
          1.3
         ],
         "tickfont": {
          "size": 24
         }
        },
        "yaxis8": {
         "anchor": "x8",
         "domain": [
          0.8160000000000001,
          0.898
         ],
         "linecolor": "black",
         "range": [
          0,
          1.3
         ],
         "tickfont": {
          "size": 24
         }
        },
        "yaxis9": {
         "anchor": "x9",
         "domain": [
          0.8160000000000001,
          0.898
         ],
         "linecolor": "black",
         "range": [
          0,
          1.3
         ],
         "tickfont": {
          "size": 24
         }
        }
       }
      }
     },
     "metadata": {},
     "output_type": "display_data"
    }
   ],
   "source": [
    "plot"
   ]
  },
  {
   "cell_type": "code",
   "execution_count": null,
   "metadata": {},
   "outputs": [],
   "source": []
  }
 ],
 "metadata": {
  "kernelspec": {
   "display_name": "copairs",
   "language": "python",
   "name": "python3"
  },
  "language_info": {
   "codemirror_mode": {
    "name": "ipython",
    "version": 3
   },
   "file_extension": ".py",
   "mimetype": "text/x-python",
   "name": "python",
   "nbconvert_exporter": "python",
   "pygments_lexer": "ipython3",
   "version": "3.12.2"
  }
 },
 "nbformat": 4,
 "nbformat_minor": 2
}
