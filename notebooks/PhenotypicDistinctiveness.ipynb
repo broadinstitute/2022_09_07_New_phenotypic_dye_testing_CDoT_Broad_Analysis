{
 "cells": [
  {
   "cell_type": "code",
   "execution_count": 1,
   "metadata": {},
   "outputs": [
    {
     "name": "stdout",
     "output_type": "stream",
     "text": [
      "Python 3.12.2\n"
     ]
    }
   ],
   "source": [
    "!python --version"
   ]
  },
  {
   "cell_type": "code",
   "execution_count": 2,
   "metadata": {},
   "outputs": [
    {
     "name": "stderr",
     "output_type": "stream",
     "text": [
      "c:\\Users\\ssivagur\\Anaconda3\\envs\\copairs\\Lib\\site-packages\\tqdm\\auto.py:21: TqdmWarning: IProgress not found. Please update jupyter and ipywidgets. See https://ipywidgets.readthedocs.io/en/stable/user_install.html\n",
      "  from .autonotebook import tqdm as notebook_tqdm\n"
     ]
    }
   ],
   "source": [
    "#importing necessary modules \n",
    "import pandas as pd\n",
    "import numpy as np\n",
    "import matplotlib.pyplot as plt\n",
    "from sklearn.decomposition import PCA\n",
    "from sklearn.preprocessing import StandardScaler\n",
    "import plotly.graph_objects as go\n",
    "from plotly.subplots import make_subplots\n",
    "import plotly.express as px\n",
    "import seaborn as sns\n",
    "import copairs\n",
    "import pycytominer\n",
    "from copairs.map import average_precision\n",
    "from copairs.map import mean_average_precision\n",
    "from utils import * \n",
    "\n",
    "%load_ext autoreload\n",
    "%autoreload 2"
   ]
  },
  {
   "cell_type": "code",
   "execution_count": 3,
   "metadata": {},
   "outputs": [
    {
     "name": "stdout",
     "output_type": "stream",
     "text": [
      "Name: copairs\n",
      "Version: 0.4.1\n",
      "Summary: Find pairs and compute metrics between them\n",
      "Home-page: \n",
      "Author: \n",
      "Author-email: John Arevalo <johnarevalo@gmail.com>\n",
      "License: \n",
      "Location: c:\\Users\\ssivagur\\Anaconda3\\envs\\copairs\\Lib\\site-packages\n",
      "Requires: pandas, statsmodels, tqdm\n",
      "Required-by: \n",
      "Note: you may need to restart the kernel to use updated packages.\n"
     ]
    }
   ],
   "source": [
    "pip show copairs"
   ]
  },
  {
   "cell_type": "markdown",
   "metadata": {},
   "source": [
    "#### Reading the dataframes "
   ]
  },
  {
   "cell_type": "code",
   "execution_count": 4,
   "metadata": {},
   "outputs": [],
   "source": [
    "#Reading the normalized and feature selected files for copairs - fixed cells and 48h time point\n",
    "dict_to_load_feature_selected = {'c:\\\\Users\\\\ssivagur\\\\Documents\\\\Projects\\\\Cell_painting_projects\\\\CDoT\\\\Batch3_analysis_redo\\\\UpdatedCopairsVersion\\\\BR00122250_normalized_feature_select_negcon_batch.csv':'Standard CP',\n",
    "                                 'c:\\\\Users\\\\ssivagur\\\\Documents\\\\Projects\\\\Cell_painting_projects\\\\CDoT\\\\Batch3_analysis_redo\\\\UpdatedCopairsVersion\\\\BR00122246_normalized_feature_select_negcon_batch.csv':'CP + MitoBrilliant',\n",
    "                                 'c:\\\\Users\\\\ssivagur\\\\Documents\\\\Projects\\\\Cell_painting_projects\\\\CDoT\\\\Batch3_analysis_redo\\\\UpdatedCopairsVersion\\\\BR00122247_normalized_feature_select_negcon_batch.csv':'CP + Phenovue phalloidin 400LS',\n",
    "                                 'c:\\\\Users\\\\ssivagur\\\\Documents\\\\Projects\\\\Cell_painting_projects\\\\CDoT\\\\Batch3_analysis_redo\\\\UpdatedCopairsVersion\\\\BR00122248_normalized_feature_select_negcon_batch.csv':'Standard CP (exposed to ChromaLive)',\n",
    "                                 'c:\\\\Users\\\\ssivagur\\\\Documents\\\\Projects\\\\Cell_painting_projects\\\\CDoT\\\\Batch3_analysis_redo\\\\UpdatedCopairsVersion\\\\BR00122249_normalized_feature_select_negcon_batch_wo_phasefeatures.csv':'ChromaLive + Hoechst'\n",
    "\n",
    "}\n"
   ]
  },
  {
   "cell_type": "markdown",
   "metadata": {},
   "source": [
    "#### Overall mAP"
   ]
  },
  {
   "cell_type": "code",
   "execution_count": 5,
   "metadata": {},
   "outputs": [
    {
     "name": "stderr",
     "output_type": "stream",
     "text": [
      "                                             \r"
     ]
    },
    {
     "data": {
      "application/vnd.plotly.v1+json": {
       "config": {
        "plotlyServerURL": "https://plot.ly"
       },
       "data": [
        {
         "alignmentgroup": "True",
         "box": {
          "visible": true
         },
         "hovertemplate": "color=ChromaLive + Hoechst<br>x=%{x}<br>y=%{y}<extra></extra>",
         "legendgroup": "ChromaLive + Hoechst",
         "marker": {
          "color": "#cc78bc"
         },
         "name": "ChromaLive + Hoechst",
         "offsetgroup": "ChromaLive + Hoechst",
         "orientation": "h",
         "points": "all",
         "scalegroup": "True",
         "showlegend": true,
         "type": "violin",
         "width": 0.5,
         "x": [
          0.031262495296577805,
          0.17677920391235616,
          0.018918209681257736,
          0.44092880112158855,
          0.23990098383142305,
          0.07110812419147111,
          1,
          0.5765873015873015,
          0.6355352174017926,
          0.028876790487334582,
          0.02863599287824131,
          0.3817426825371237,
          0.5847882956989394,
          0.04716222234994832,
          0.4757653212800272,
          0.014970481934893611,
          0.6579298246367598,
          0.15004170778525902,
          0.2740009402760479,
          0.013541316651102702,
          0.8133169934640523,
          0.16899627674833415,
          0.49999587601441975,
          0.6096109346074949,
          0.491840436179239,
          1,
          0.7182859703020994,
          0.4280991883933061,
          0.07926465824572289,
          0.24715955763580907,
          0.023410258988623964,
          0.25598615333996194,
          0.012528999838737601,
          0.6053249890206411,
          1,
          0.0504923890193724,
          0.4965306194536071,
          0.4620797720797721,
          0.9027777777777777,
          0.9523809523809524,
          0.23572971140467058,
          0.409814148444653,
          0.18650829401268865,
          0.12869547153327943,
          0.682936507936508,
          0.5506903941789677,
          0.5849710430780041,
          0.06482126447215442,
          0.8263888888888888,
          0.23432191590086326,
          0.4827718078473691,
          0.1565609054816778,
          0.0546742332141433,
          0.35351819589624467,
          0.3710494894598155,
          0.12339992970252438,
          0.22733989514940592,
          0.37744827960894317,
          0.15265500074819122,
          0.25882790128314426,
          0.36463660473857157,
          0.2581626600304761,
          1,
          0.21975425242048474,
          0.2480417274377241,
          0.15320599257290263,
          0.016399018826513775,
          0.6882631257631258,
          0.1804960548381601,
          0.08203066732172103,
          0.043448806093655416,
          0.15879001914823035,
          0.056444358042104285,
          0.5092592592592593,
          0.7915895061728395,
          0.09242808705329494,
          0.76875,
          0.034569151395949065,
          0.12162193010635149,
          0.08081050907900764,
          0.03460291396222356,
          0.0978667832282004,
          0.23296168285482402,
          0.33108913493453135,
          0.8412698412698413,
          0.10254061140856706,
          0.013608077265954973,
          1,
          0.9791666666666666,
          1,
          0.134263461509009
         ],
         "x0": " ",
         "xaxis": "x",
         "y": [
          "ChromaLive + Hoechst",
          "ChromaLive + Hoechst",
          "ChromaLive + Hoechst",
          "ChromaLive + Hoechst",
          "ChromaLive + Hoechst",
          "ChromaLive + Hoechst",
          "ChromaLive + Hoechst",
          "ChromaLive + Hoechst",
          "ChromaLive + Hoechst",
          "ChromaLive + Hoechst",
          "ChromaLive + Hoechst",
          "ChromaLive + Hoechst",
          "ChromaLive + Hoechst",
          "ChromaLive + Hoechst",
          "ChromaLive + Hoechst",
          "ChromaLive + Hoechst",
          "ChromaLive + Hoechst",
          "ChromaLive + Hoechst",
          "ChromaLive + Hoechst",
          "ChromaLive + Hoechst",
          "ChromaLive + Hoechst",
          "ChromaLive + Hoechst",
          "ChromaLive + Hoechst",
          "ChromaLive + Hoechst",
          "ChromaLive + Hoechst",
          "ChromaLive + Hoechst",
          "ChromaLive + Hoechst",
          "ChromaLive + Hoechst",
          "ChromaLive + Hoechst",
          "ChromaLive + Hoechst",
          "ChromaLive + Hoechst",
          "ChromaLive + Hoechst",
          "ChromaLive + Hoechst",
          "ChromaLive + Hoechst",
          "ChromaLive + Hoechst",
          "ChromaLive + Hoechst",
          "ChromaLive + Hoechst",
          "ChromaLive + Hoechst",
          "ChromaLive + Hoechst",
          "ChromaLive + Hoechst",
          "ChromaLive + Hoechst",
          "ChromaLive + Hoechst",
          "ChromaLive + Hoechst",
          "ChromaLive + Hoechst",
          "ChromaLive + Hoechst",
          "ChromaLive + Hoechst",
          "ChromaLive + Hoechst",
          "ChromaLive + Hoechst",
          "ChromaLive + Hoechst",
          "ChromaLive + Hoechst",
          "ChromaLive + Hoechst",
          "ChromaLive + Hoechst",
          "ChromaLive + Hoechst",
          "ChromaLive + Hoechst",
          "ChromaLive + Hoechst",
          "ChromaLive + Hoechst",
          "ChromaLive + Hoechst",
          "ChromaLive + Hoechst",
          "ChromaLive + Hoechst",
          "ChromaLive + Hoechst",
          "ChromaLive + Hoechst",
          "ChromaLive + Hoechst",
          "ChromaLive + Hoechst",
          "ChromaLive + Hoechst",
          "ChromaLive + Hoechst",
          "ChromaLive + Hoechst",
          "ChromaLive + Hoechst",
          "ChromaLive + Hoechst",
          "ChromaLive + Hoechst",
          "ChromaLive + Hoechst",
          "ChromaLive + Hoechst",
          "ChromaLive + Hoechst",
          "ChromaLive + Hoechst",
          "ChromaLive + Hoechst",
          "ChromaLive + Hoechst",
          "ChromaLive + Hoechst",
          "ChromaLive + Hoechst",
          "ChromaLive + Hoechst",
          "ChromaLive + Hoechst",
          "ChromaLive + Hoechst",
          "ChromaLive + Hoechst",
          "ChromaLive + Hoechst",
          "ChromaLive + Hoechst",
          "ChromaLive + Hoechst",
          "ChromaLive + Hoechst",
          "ChromaLive + Hoechst",
          "ChromaLive + Hoechst",
          "ChromaLive + Hoechst",
          "ChromaLive + Hoechst",
          "ChromaLive + Hoechst",
          "ChromaLive + Hoechst"
         ],
         "y0": " ",
         "yaxis": "y"
        },
        {
         "alignmentgroup": "True",
         "box": {
          "visible": true
         },
         "hovertemplate": "color=Standard CP (exposed to ChromaLive)<br>x=%{x}<br>y=%{y}<extra></extra>",
         "legendgroup": "Standard CP (exposed to ChromaLive)",
         "marker": {
          "color": "#d55e00"
         },
         "name": "Standard CP (exposed to ChromaLive)",
         "offsetgroup": "Standard CP (exposed to ChromaLive)",
         "orientation": "h",
         "points": "all",
         "scalegroup": "True",
         "showlegend": true,
         "type": "violin",
         "width": 0.5,
         "x": [
          0.026932415157071836,
          0.009849441690300335,
          0.022820616277098464,
          0.16338468510151619,
          0.09904234732558219,
          0.030857562475037327,
          1,
          0.46425865800865795,
          0.9666666666666667,
          0.018334389289736432,
          0.025043396522724637,
          1,
          1,
          0.01054759146916922,
          0.3394398280267845,
          0.02088885040535204,
          0.8423611111111111,
          0.013712860272655641,
          0.24194340318223317,
          0.016298031134470425,
          1,
          0.22831263003181018,
          0.9791666666666666,
          1,
          0.045986998024908125,
          0.8194444444444444,
          0.06423184751974578,
          0.043371929827368906,
          0.03078732299954471,
          0.02015581143216802,
          0.10280124086123935,
          0.22503069486911279,
          0.007685101465272105,
          0.6635149572649572,
          1,
          0.34343302281470084,
          0.4373503724328312,
          0.7027777777777778,
          0.1956734006955035,
          1,
          0.728030303030303,
          0.5446975002714567,
          0.20231012070446827,
          0.016386758715014,
          0.9097222222222222,
          0.3281051420130817,
          1,
          0.6961309523809524,
          0.548907701597919,
          0.9458333333333333,
          0.6227891244733951,
          0.2592663723712792,
          0.008175867767678757,
          0.4521693326453388,
          0.7444444444444445,
          0.02658458035957386,
          0.7080026455026455,
          0.04336248012357985,
          0.015458962227874774,
          0.9513888888888888,
          0.30344499626356003,
          0.5489087301587301,
          0.9107142857142858,
          1,
          0.46665140415140416,
          0.3011294259282414,
          0.017864448844232213,
          0.6259874384874384,
          0.15723716035686608,
          0.04153578708591332,
          0.013295666319129904,
          0.05455907199500176,
          0.23749431454086656,
          0.512403027892278,
          0.47428067580657746,
          0.012059315162826987,
          1,
          0.12073489103303196,
          0.5965253581107239,
          0.47897737829803044,
          0.08788288635222444,
          0.21537274889723923,
          0.6685910954938814,
          0.6405753968253969,
          0.9791666666666666,
          0.05427948186694888,
          0.024451220605202717,
          1,
          0.14801787133768587,
          0.3900526556776557,
          0.08428744668892785
         ],
         "x0": " ",
         "xaxis": "x",
         "y": [
          "Standard CP (exposed to ChromaLive)",
          "Standard CP (exposed to ChromaLive)",
          "Standard CP (exposed to ChromaLive)",
          "Standard CP (exposed to ChromaLive)",
          "Standard CP (exposed to ChromaLive)",
          "Standard CP (exposed to ChromaLive)",
          "Standard CP (exposed to ChromaLive)",
          "Standard CP (exposed to ChromaLive)",
          "Standard CP (exposed to ChromaLive)",
          "Standard CP (exposed to ChromaLive)",
          "Standard CP (exposed to ChromaLive)",
          "Standard CP (exposed to ChromaLive)",
          "Standard CP (exposed to ChromaLive)",
          "Standard CP (exposed to ChromaLive)",
          "Standard CP (exposed to ChromaLive)",
          "Standard CP (exposed to ChromaLive)",
          "Standard CP (exposed to ChromaLive)",
          "Standard CP (exposed to ChromaLive)",
          "Standard CP (exposed to ChromaLive)",
          "Standard CP (exposed to ChromaLive)",
          "Standard CP (exposed to ChromaLive)",
          "Standard CP (exposed to ChromaLive)",
          "Standard CP (exposed to ChromaLive)",
          "Standard CP (exposed to ChromaLive)",
          "Standard CP (exposed to ChromaLive)",
          "Standard CP (exposed to ChromaLive)",
          "Standard CP (exposed to ChromaLive)",
          "Standard CP (exposed to ChromaLive)",
          "Standard CP (exposed to ChromaLive)",
          "Standard CP (exposed to ChromaLive)",
          "Standard CP (exposed to ChromaLive)",
          "Standard CP (exposed to ChromaLive)",
          "Standard CP (exposed to ChromaLive)",
          "Standard CP (exposed to ChromaLive)",
          "Standard CP (exposed to ChromaLive)",
          "Standard CP (exposed to ChromaLive)",
          "Standard CP (exposed to ChromaLive)",
          "Standard CP (exposed to ChromaLive)",
          "Standard CP (exposed to ChromaLive)",
          "Standard CP (exposed to ChromaLive)",
          "Standard CP (exposed to ChromaLive)",
          "Standard CP (exposed to ChromaLive)",
          "Standard CP (exposed to ChromaLive)",
          "Standard CP (exposed to ChromaLive)",
          "Standard CP (exposed to ChromaLive)",
          "Standard CP (exposed to ChromaLive)",
          "Standard CP (exposed to ChromaLive)",
          "Standard CP (exposed to ChromaLive)",
          "Standard CP (exposed to ChromaLive)",
          "Standard CP (exposed to ChromaLive)",
          "Standard CP (exposed to ChromaLive)",
          "Standard CP (exposed to ChromaLive)",
          "Standard CP (exposed to ChromaLive)",
          "Standard CP (exposed to ChromaLive)",
          "Standard CP (exposed to ChromaLive)",
          "Standard CP (exposed to ChromaLive)",
          "Standard CP (exposed to ChromaLive)",
          "Standard CP (exposed to ChromaLive)",
          "Standard CP (exposed to ChromaLive)",
          "Standard CP (exposed to ChromaLive)",
          "Standard CP (exposed to ChromaLive)",
          "Standard CP (exposed to ChromaLive)",
          "Standard CP (exposed to ChromaLive)",
          "Standard CP (exposed to ChromaLive)",
          "Standard CP (exposed to ChromaLive)",
          "Standard CP (exposed to ChromaLive)",
          "Standard CP (exposed to ChromaLive)",
          "Standard CP (exposed to ChromaLive)",
          "Standard CP (exposed to ChromaLive)",
          "Standard CP (exposed to ChromaLive)",
          "Standard CP (exposed to ChromaLive)",
          "Standard CP (exposed to ChromaLive)",
          "Standard CP (exposed to ChromaLive)",
          "Standard CP (exposed to ChromaLive)",
          "Standard CP (exposed to ChromaLive)",
          "Standard CP (exposed to ChromaLive)",
          "Standard CP (exposed to ChromaLive)",
          "Standard CP (exposed to ChromaLive)",
          "Standard CP (exposed to ChromaLive)",
          "Standard CP (exposed to ChromaLive)",
          "Standard CP (exposed to ChromaLive)",
          "Standard CP (exposed to ChromaLive)",
          "Standard CP (exposed to ChromaLive)",
          "Standard CP (exposed to ChromaLive)",
          "Standard CP (exposed to ChromaLive)",
          "Standard CP (exposed to ChromaLive)",
          "Standard CP (exposed to ChromaLive)",
          "Standard CP (exposed to ChromaLive)",
          "Standard CP (exposed to ChromaLive)",
          "Standard CP (exposed to ChromaLive)",
          "Standard CP (exposed to ChromaLive)"
         ],
         "y0": " ",
         "yaxis": "y"
        },
        {
         "alignmentgroup": "True",
         "box": {
          "visible": true
         },
         "hovertemplate": "color=CP + Phenovue phalloidin 400LS<br>x=%{x}<br>y=%{y}<extra></extra>",
         "legendgroup": "CP + Phenovue phalloidin 400LS",
         "marker": {
          "color": "#029e73"
         },
         "name": "CP + Phenovue phalloidin 400LS",
         "offsetgroup": "CP + Phenovue phalloidin 400LS",
         "orientation": "h",
         "points": "all",
         "scalegroup": "True",
         "showlegend": true,
         "type": "violin",
         "width": 0.5,
         "x": [
          0.10602465670130051,
          0.010135566056590465,
          0.11618650617307938,
          0.0916468472627977,
          0.036800766908449335,
          0.03493228629430184,
          1,
          0.7405753968253969,
          0.6870879120879121,
          0.01766881592756699,
          0.010273363520268426,
          1,
          0.8694444444444445,
          0.027086988971841322,
          0.319768546018546,
          0.01975320564620016,
          1,
          0.02346351600841964,
          0.6898656898656899,
          0.010017598956205697,
          1,
          0.2776856604442811,
          1,
          0.9583333333333334,
          0.04412750900254112,
          0.5346838532984044,
          0.13527607212521983,
          0.027535963914500534,
          0.01602335044008132,
          0.012072604592537794,
          0.011358098809141485,
          0.15569813385589532,
          0.008795855597130224,
          0.712310606060606,
          1,
          0.02916621492956118,
          0.7708333333333334,
          0.5147837066315327,
          0.10513754742203019,
          0.834090909090909,
          0.9791666666666666,
          0.4595219017094017,
          0.11349740625941711,
          0.027093001929698612,
          0.7041666666666666,
          0.9583333333333334,
          0.25895178145389774,
          0.9791666666666666,
          0.6895756340002549,
          0.5387896825396825,
          0.8396915584415584,
          0.27616968878694903,
          0.00810015756056114,
          0.2619874928912446,
          0.4640505328005328,
          0.020452680404027337,
          0.5546418748213962,
          0.020362712238868548,
          0.16773613292486994,
          1,
          0.8756578947368421,
          0.4832902001380262,
          0.5257076257076256,
          0.7760341510341511,
          0.4536352657004831,
          0.15770182812008887,
          0.015216779236809736,
          0.5585069444444444,
          0.14360727332358256,
          0.0256211779426425,
          0.2231007855013634,
          0.12654619857096155,
          0.5446661998132586,
          1,
          1,
          0.0189244825494698,
          0.5925907953761215,
          0.014706867065765357,
          0.7873093681917211,
          0.6117007441846737,
          0.17033998498208833,
          0.10314098493289545,
          0.48996004346375643,
          1,
          1,
          0.4132034632034632,
          0.047054708423371346,
          0.9208333333333333,
          0.2674327188873684,
          0.4835733153334221,
          0.0840733566068706
         ],
         "x0": " ",
         "xaxis": "x",
         "y": [
          "CP + Phenovue phalloidin 400LS",
          "CP + Phenovue phalloidin 400LS",
          "CP + Phenovue phalloidin 400LS",
          "CP + Phenovue phalloidin 400LS",
          "CP + Phenovue phalloidin 400LS",
          "CP + Phenovue phalloidin 400LS",
          "CP + Phenovue phalloidin 400LS",
          "CP + Phenovue phalloidin 400LS",
          "CP + Phenovue phalloidin 400LS",
          "CP + Phenovue phalloidin 400LS",
          "CP + Phenovue phalloidin 400LS",
          "CP + Phenovue phalloidin 400LS",
          "CP + Phenovue phalloidin 400LS",
          "CP + Phenovue phalloidin 400LS",
          "CP + Phenovue phalloidin 400LS",
          "CP + Phenovue phalloidin 400LS",
          "CP + Phenovue phalloidin 400LS",
          "CP + Phenovue phalloidin 400LS",
          "CP + Phenovue phalloidin 400LS",
          "CP + Phenovue phalloidin 400LS",
          "CP + Phenovue phalloidin 400LS",
          "CP + Phenovue phalloidin 400LS",
          "CP + Phenovue phalloidin 400LS",
          "CP + Phenovue phalloidin 400LS",
          "CP + Phenovue phalloidin 400LS",
          "CP + Phenovue phalloidin 400LS",
          "CP + Phenovue phalloidin 400LS",
          "CP + Phenovue phalloidin 400LS",
          "CP + Phenovue phalloidin 400LS",
          "CP + Phenovue phalloidin 400LS",
          "CP + Phenovue phalloidin 400LS",
          "CP + Phenovue phalloidin 400LS",
          "CP + Phenovue phalloidin 400LS",
          "CP + Phenovue phalloidin 400LS",
          "CP + Phenovue phalloidin 400LS",
          "CP + Phenovue phalloidin 400LS",
          "CP + Phenovue phalloidin 400LS",
          "CP + Phenovue phalloidin 400LS",
          "CP + Phenovue phalloidin 400LS",
          "CP + Phenovue phalloidin 400LS",
          "CP + Phenovue phalloidin 400LS",
          "CP + Phenovue phalloidin 400LS",
          "CP + Phenovue phalloidin 400LS",
          "CP + Phenovue phalloidin 400LS",
          "CP + Phenovue phalloidin 400LS",
          "CP + Phenovue phalloidin 400LS",
          "CP + Phenovue phalloidin 400LS",
          "CP + Phenovue phalloidin 400LS",
          "CP + Phenovue phalloidin 400LS",
          "CP + Phenovue phalloidin 400LS",
          "CP + Phenovue phalloidin 400LS",
          "CP + Phenovue phalloidin 400LS",
          "CP + Phenovue phalloidin 400LS",
          "CP + Phenovue phalloidin 400LS",
          "CP + Phenovue phalloidin 400LS",
          "CP + Phenovue phalloidin 400LS",
          "CP + Phenovue phalloidin 400LS",
          "CP + Phenovue phalloidin 400LS",
          "CP + Phenovue phalloidin 400LS",
          "CP + Phenovue phalloidin 400LS",
          "CP + Phenovue phalloidin 400LS",
          "CP + Phenovue phalloidin 400LS",
          "CP + Phenovue phalloidin 400LS",
          "CP + Phenovue phalloidin 400LS",
          "CP + Phenovue phalloidin 400LS",
          "CP + Phenovue phalloidin 400LS",
          "CP + Phenovue phalloidin 400LS",
          "CP + Phenovue phalloidin 400LS",
          "CP + Phenovue phalloidin 400LS",
          "CP + Phenovue phalloidin 400LS",
          "CP + Phenovue phalloidin 400LS",
          "CP + Phenovue phalloidin 400LS",
          "CP + Phenovue phalloidin 400LS",
          "CP + Phenovue phalloidin 400LS",
          "CP + Phenovue phalloidin 400LS",
          "CP + Phenovue phalloidin 400LS",
          "CP + Phenovue phalloidin 400LS",
          "CP + Phenovue phalloidin 400LS",
          "CP + Phenovue phalloidin 400LS",
          "CP + Phenovue phalloidin 400LS",
          "CP + Phenovue phalloidin 400LS",
          "CP + Phenovue phalloidin 400LS",
          "CP + Phenovue phalloidin 400LS",
          "CP + Phenovue phalloidin 400LS",
          "CP + Phenovue phalloidin 400LS",
          "CP + Phenovue phalloidin 400LS",
          "CP + Phenovue phalloidin 400LS",
          "CP + Phenovue phalloidin 400LS",
          "CP + Phenovue phalloidin 400LS",
          "CP + Phenovue phalloidin 400LS",
          "CP + Phenovue phalloidin 400LS"
         ],
         "y0": " ",
         "yaxis": "y"
        },
        {
         "alignmentgroup": "True",
         "box": {
          "visible": true
         },
         "hovertemplate": "color=CP + MitoBrilliant<br>x=%{x}<br>y=%{y}<extra></extra>",
         "legendgroup": "CP + MitoBrilliant",
         "marker": {
          "color": "#de8f05"
         },
         "name": "CP + MitoBrilliant",
         "offsetgroup": "CP + MitoBrilliant",
         "orientation": "h",
         "points": "all",
         "scalegroup": "True",
         "showlegend": true,
         "type": "violin",
         "width": 0.5,
         "x": [
          0.015061887713894705,
          0.015917873445770583,
          0.11044651319831597,
          0.12975439311841927,
          0.17569322537829996,
          0.03251511681645683,
          0.34917105310985275,
          1,
          0.6309523809523809,
          0.06425527350663066,
          0.011452039415445453,
          0.8143601190476191,
          1,
          0.010077586586843885,
          0.4907002005347594,
          0.018365379884169808,
          1,
          0.024487783943231697,
          0.9791666666666666,
          0.019517127869259424,
          0.9666666666666667,
          0.22989798187467106,
          1,
          0.18658403038080482,
          0.020493489535342607,
          0.3728374553955949,
          0.012358519581066109,
          0.12850745372918643,
          0.00961062934663638,
          0.011900445977623285,
          0.024610194973327188,
          0.42224088390690556,
          0.01575443354112456,
          0.704059829059829,
          0.7676188334083072,
          0.3363096171023995,
          1,
          0.4646825396825397,
          0.15280540537893478,
          0.7620967741935484,
          0.8180555555555555,
          0.36927848896408505,
          0.16796670368409639,
          0.011849506668134337,
          0.5148038303812987,
          0.7631448412698413,
          0.9083333333333333,
          0.5408081501831502,
          1,
          0.7951388888888888,
          0.9791666666666666,
          0.25864326384565095,
          0.013115946398416936,
          0.37933345642057076,
          0.8491161616161615,
          0.02607356218182877,
          1,
          0.007502319867218198,
          0.08397531059454566,
          0.7694940476190476,
          0.29370911969337166,
          0.6167748917748918,
          0.6017524142524142,
          0.5258928571428572,
          0.4525146052434785,
          0.36953359986896567,
          0.020184309715654526,
          0.8958333333333333,
          0.1667782900287308,
          0.012554516515314251,
          0.018182690850052016,
          0.07126578613591694,
          0.776984126984127,
          1,
          0.7742456896551724,
          0.0160224380348829,
          0.562310606060606,
          0.02727757216868408,
          0.7026587809036657,
          0.22584013589126659,
          0.17944117230655893,
          0.2509404094930411,
          0.5976172247911378,
          1,
          1,
          0.1654742952558541,
          0.026811650370292272,
          0.6898358585858586,
          0.5660426731078905,
          0.7324342324342324,
          0.0798449372817101
         ],
         "x0": " ",
         "xaxis": "x",
         "y": [
          "CP + MitoBrilliant",
          "CP + MitoBrilliant",
          "CP + MitoBrilliant",
          "CP + MitoBrilliant",
          "CP + MitoBrilliant",
          "CP + MitoBrilliant",
          "CP + MitoBrilliant",
          "CP + MitoBrilliant",
          "CP + MitoBrilliant",
          "CP + MitoBrilliant",
          "CP + MitoBrilliant",
          "CP + MitoBrilliant",
          "CP + MitoBrilliant",
          "CP + MitoBrilliant",
          "CP + MitoBrilliant",
          "CP + MitoBrilliant",
          "CP + MitoBrilliant",
          "CP + MitoBrilliant",
          "CP + MitoBrilliant",
          "CP + MitoBrilliant",
          "CP + MitoBrilliant",
          "CP + MitoBrilliant",
          "CP + MitoBrilliant",
          "CP + MitoBrilliant",
          "CP + MitoBrilliant",
          "CP + MitoBrilliant",
          "CP + MitoBrilliant",
          "CP + MitoBrilliant",
          "CP + MitoBrilliant",
          "CP + MitoBrilliant",
          "CP + MitoBrilliant",
          "CP + MitoBrilliant",
          "CP + MitoBrilliant",
          "CP + MitoBrilliant",
          "CP + MitoBrilliant",
          "CP + MitoBrilliant",
          "CP + MitoBrilliant",
          "CP + MitoBrilliant",
          "CP + MitoBrilliant",
          "CP + MitoBrilliant",
          "CP + MitoBrilliant",
          "CP + MitoBrilliant",
          "CP + MitoBrilliant",
          "CP + MitoBrilliant",
          "CP + MitoBrilliant",
          "CP + MitoBrilliant",
          "CP + MitoBrilliant",
          "CP + MitoBrilliant",
          "CP + MitoBrilliant",
          "CP + MitoBrilliant",
          "CP + MitoBrilliant",
          "CP + MitoBrilliant",
          "CP + MitoBrilliant",
          "CP + MitoBrilliant",
          "CP + MitoBrilliant",
          "CP + MitoBrilliant",
          "CP + MitoBrilliant",
          "CP + MitoBrilliant",
          "CP + MitoBrilliant",
          "CP + MitoBrilliant",
          "CP + MitoBrilliant",
          "CP + MitoBrilliant",
          "CP + MitoBrilliant",
          "CP + MitoBrilliant",
          "CP + MitoBrilliant",
          "CP + MitoBrilliant",
          "CP + MitoBrilliant",
          "CP + MitoBrilliant",
          "CP + MitoBrilliant",
          "CP + MitoBrilliant",
          "CP + MitoBrilliant",
          "CP + MitoBrilliant",
          "CP + MitoBrilliant",
          "CP + MitoBrilliant",
          "CP + MitoBrilliant",
          "CP + MitoBrilliant",
          "CP + MitoBrilliant",
          "CP + MitoBrilliant",
          "CP + MitoBrilliant",
          "CP + MitoBrilliant",
          "CP + MitoBrilliant",
          "CP + MitoBrilliant",
          "CP + MitoBrilliant",
          "CP + MitoBrilliant",
          "CP + MitoBrilliant",
          "CP + MitoBrilliant",
          "CP + MitoBrilliant",
          "CP + MitoBrilliant",
          "CP + MitoBrilliant",
          "CP + MitoBrilliant",
          "CP + MitoBrilliant"
         ],
         "y0": " ",
         "yaxis": "y"
        },
        {
         "alignmentgroup": "True",
         "box": {
          "visible": true
         },
         "hovertemplate": "color=Standard CP<br>x=%{x}<br>y=%{y}<extra></extra>",
         "legendgroup": "Standard CP",
         "marker": {
          "color": "#0173b2"
         },
         "name": "Standard CP",
         "offsetgroup": "Standard CP",
         "orientation": "h",
         "points": "all",
         "scalegroup": "True",
         "showlegend": true,
         "type": "violin",
         "width": 0.5,
         "x": [
          0.07102330309433909,
          0.021983464794761945,
          0.037613987413718436,
          0.12538760159883539,
          0.17331333889342562,
          0.019337297294156765,
          0.44375092120475157,
          1,
          0.6974747474747475,
          0.014300955674448224,
          0.02290351037492662,
          1,
          1,
          0.02417822374209533,
          0.13548338646435049,
          0.12204415514760342,
          1,
          0.08976122966833922,
          1,
          0.03209254655598212,
          1,
          0.1973182339491302,
          0.8752976190476192,
          1,
          0.009673682241279838,
          0.8180555555555555,
          0.01015107723156143,
          0.0653791559703667,
          0.09331305893198902,
          0.013700569084982859,
          0.011167360490354756,
          0.2919557809314043,
          0.041306129934105484,
          0.9305555555555555,
          0.6197956684237172,
          0.07199836397180256,
          0.8824404761904762,
          0.861111111111111,
          0.18823160518611953,
          0.525020664946182,
          0.9305555555555556,
          0.485050408866633,
          0.17369913269734893,
          0.016420240608159945,
          0.5149426842442,
          1,
          0.20326546230054135,
          0.6494021851164709,
          1,
          0.44938065731122045,
          0.5131959806606946,
          0.4855452522119189,
          0.007374488802201652,
          0.417577086656034,
          0.7826388888888889,
          0.12401387517561813,
          0.9791666666666666,
          0.02574398484844935,
          0.014744429736619487,
          1,
          0.7093142968142968,
          0.6779100529100529,
          0.856060606060606,
          0.4882847755692583,
          0.2138536977809366,
          0.22320665091059316,
          0.014710051650524403,
          0.8523809523809525,
          0.05016491290592636,
          0.01575647258632598,
          0.12086939709458248,
          0.03201669729888419,
          0.9375,
          1,
          1,
          0.013887541754132225,
          0.58640432457568,
          0.18259539102442482,
          0.39713984019729576,
          0.33909967814375486,
          0.27290840336373673,
          0.1185057175353392,
          0.9666666666666667,
          0.4227250258428748,
          0.7980158730158731,
          0.02529451554869105,
          0.13510220158509573,
          0.8409455128205128,
          0.38124696692006577,
          0.6168650793650794,
          0.08649063621554494
         ],
         "x0": " ",
         "xaxis": "x",
         "y": [
          "Standard CP",
          "Standard CP",
          "Standard CP",
          "Standard CP",
          "Standard CP",
          "Standard CP",
          "Standard CP",
          "Standard CP",
          "Standard CP",
          "Standard CP",
          "Standard CP",
          "Standard CP",
          "Standard CP",
          "Standard CP",
          "Standard CP",
          "Standard CP",
          "Standard CP",
          "Standard CP",
          "Standard CP",
          "Standard CP",
          "Standard CP",
          "Standard CP",
          "Standard CP",
          "Standard CP",
          "Standard CP",
          "Standard CP",
          "Standard CP",
          "Standard CP",
          "Standard CP",
          "Standard CP",
          "Standard CP",
          "Standard CP",
          "Standard CP",
          "Standard CP",
          "Standard CP",
          "Standard CP",
          "Standard CP",
          "Standard CP",
          "Standard CP",
          "Standard CP",
          "Standard CP",
          "Standard CP",
          "Standard CP",
          "Standard CP",
          "Standard CP",
          "Standard CP",
          "Standard CP",
          "Standard CP",
          "Standard CP",
          "Standard CP",
          "Standard CP",
          "Standard CP",
          "Standard CP",
          "Standard CP",
          "Standard CP",
          "Standard CP",
          "Standard CP",
          "Standard CP",
          "Standard CP",
          "Standard CP",
          "Standard CP",
          "Standard CP",
          "Standard CP",
          "Standard CP",
          "Standard CP",
          "Standard CP",
          "Standard CP",
          "Standard CP",
          "Standard CP",
          "Standard CP",
          "Standard CP",
          "Standard CP",
          "Standard CP",
          "Standard CP",
          "Standard CP",
          "Standard CP",
          "Standard CP",
          "Standard CP",
          "Standard CP",
          "Standard CP",
          "Standard CP",
          "Standard CP",
          "Standard CP",
          "Standard CP",
          "Standard CP",
          "Standard CP",
          "Standard CP",
          "Standard CP",
          "Standard CP",
          "Standard CP",
          "Standard CP"
         ],
         "y0": " ",
         "yaxis": "y"
        }
       ],
       "layout": {
        "font": {
         "color": "black",
         "family": "sans serif",
         "size": 95
        },
        "height": 2500,
        "legend": {
         "title": {
          "text": "color"
         },
         "tracegroupgap": 0
        },
        "margin": {
         "t": 60
        },
        "plot_bgcolor": "rgba(0,0,0,0)",
        "showlegend": false,
        "template": {
         "data": {
          "bar": [
           {
            "error_x": {
             "color": "#2a3f5f"
            },
            "error_y": {
             "color": "#2a3f5f"
            },
            "marker": {
             "line": {
              "color": "#E5ECF6",
              "width": 0.5
             },
             "pattern": {
              "fillmode": "overlay",
              "size": 10,
              "solidity": 0.2
             }
            },
            "type": "bar"
           }
          ],
          "barpolar": [
           {
            "marker": {
             "line": {
              "color": "#E5ECF6",
              "width": 0.5
             },
             "pattern": {
              "fillmode": "overlay",
              "size": 10,
              "solidity": 0.2
             }
            },
            "type": "barpolar"
           }
          ],
          "carpet": [
           {
            "aaxis": {
             "endlinecolor": "#2a3f5f",
             "gridcolor": "white",
             "linecolor": "white",
             "minorgridcolor": "white",
             "startlinecolor": "#2a3f5f"
            },
            "baxis": {
             "endlinecolor": "#2a3f5f",
             "gridcolor": "white",
             "linecolor": "white",
             "minorgridcolor": "white",
             "startlinecolor": "#2a3f5f"
            },
            "type": "carpet"
           }
          ],
          "choropleth": [
           {
            "colorbar": {
             "outlinewidth": 0,
             "ticks": ""
            },
            "type": "choropleth"
           }
          ],
          "contour": [
           {
            "colorbar": {
             "outlinewidth": 0,
             "ticks": ""
            },
            "colorscale": [
             [
              0,
              "#0d0887"
             ],
             [
              0.1111111111111111,
              "#46039f"
             ],
             [
              0.2222222222222222,
              "#7201a8"
             ],
             [
              0.3333333333333333,
              "#9c179e"
             ],
             [
              0.4444444444444444,
              "#bd3786"
             ],
             [
              0.5555555555555556,
              "#d8576b"
             ],
             [
              0.6666666666666666,
              "#ed7953"
             ],
             [
              0.7777777777777778,
              "#fb9f3a"
             ],
             [
              0.8888888888888888,
              "#fdca26"
             ],
             [
              1,
              "#f0f921"
             ]
            ],
            "type": "contour"
           }
          ],
          "contourcarpet": [
           {
            "colorbar": {
             "outlinewidth": 0,
             "ticks": ""
            },
            "type": "contourcarpet"
           }
          ],
          "heatmap": [
           {
            "colorbar": {
             "outlinewidth": 0,
             "ticks": ""
            },
            "colorscale": [
             [
              0,
              "#0d0887"
             ],
             [
              0.1111111111111111,
              "#46039f"
             ],
             [
              0.2222222222222222,
              "#7201a8"
             ],
             [
              0.3333333333333333,
              "#9c179e"
             ],
             [
              0.4444444444444444,
              "#bd3786"
             ],
             [
              0.5555555555555556,
              "#d8576b"
             ],
             [
              0.6666666666666666,
              "#ed7953"
             ],
             [
              0.7777777777777778,
              "#fb9f3a"
             ],
             [
              0.8888888888888888,
              "#fdca26"
             ],
             [
              1,
              "#f0f921"
             ]
            ],
            "type": "heatmap"
           }
          ],
          "heatmapgl": [
           {
            "colorbar": {
             "outlinewidth": 0,
             "ticks": ""
            },
            "colorscale": [
             [
              0,
              "#0d0887"
             ],
             [
              0.1111111111111111,
              "#46039f"
             ],
             [
              0.2222222222222222,
              "#7201a8"
             ],
             [
              0.3333333333333333,
              "#9c179e"
             ],
             [
              0.4444444444444444,
              "#bd3786"
             ],
             [
              0.5555555555555556,
              "#d8576b"
             ],
             [
              0.6666666666666666,
              "#ed7953"
             ],
             [
              0.7777777777777778,
              "#fb9f3a"
             ],
             [
              0.8888888888888888,
              "#fdca26"
             ],
             [
              1,
              "#f0f921"
             ]
            ],
            "type": "heatmapgl"
           }
          ],
          "histogram": [
           {
            "marker": {
             "pattern": {
              "fillmode": "overlay",
              "size": 10,
              "solidity": 0.2
             }
            },
            "type": "histogram"
           }
          ],
          "histogram2d": [
           {
            "colorbar": {
             "outlinewidth": 0,
             "ticks": ""
            },
            "colorscale": [
             [
              0,
              "#0d0887"
             ],
             [
              0.1111111111111111,
              "#46039f"
             ],
             [
              0.2222222222222222,
              "#7201a8"
             ],
             [
              0.3333333333333333,
              "#9c179e"
             ],
             [
              0.4444444444444444,
              "#bd3786"
             ],
             [
              0.5555555555555556,
              "#d8576b"
             ],
             [
              0.6666666666666666,
              "#ed7953"
             ],
             [
              0.7777777777777778,
              "#fb9f3a"
             ],
             [
              0.8888888888888888,
              "#fdca26"
             ],
             [
              1,
              "#f0f921"
             ]
            ],
            "type": "histogram2d"
           }
          ],
          "histogram2dcontour": [
           {
            "colorbar": {
             "outlinewidth": 0,
             "ticks": ""
            },
            "colorscale": [
             [
              0,
              "#0d0887"
             ],
             [
              0.1111111111111111,
              "#46039f"
             ],
             [
              0.2222222222222222,
              "#7201a8"
             ],
             [
              0.3333333333333333,
              "#9c179e"
             ],
             [
              0.4444444444444444,
              "#bd3786"
             ],
             [
              0.5555555555555556,
              "#d8576b"
             ],
             [
              0.6666666666666666,
              "#ed7953"
             ],
             [
              0.7777777777777778,
              "#fb9f3a"
             ],
             [
              0.8888888888888888,
              "#fdca26"
             ],
             [
              1,
              "#f0f921"
             ]
            ],
            "type": "histogram2dcontour"
           }
          ],
          "mesh3d": [
           {
            "colorbar": {
             "outlinewidth": 0,
             "ticks": ""
            },
            "type": "mesh3d"
           }
          ],
          "parcoords": [
           {
            "line": {
             "colorbar": {
              "outlinewidth": 0,
              "ticks": ""
             }
            },
            "type": "parcoords"
           }
          ],
          "pie": [
           {
            "automargin": true,
            "type": "pie"
           }
          ],
          "scatter": [
           {
            "fillpattern": {
             "fillmode": "overlay",
             "size": 10,
             "solidity": 0.2
            },
            "type": "scatter"
           }
          ],
          "scatter3d": [
           {
            "line": {
             "colorbar": {
              "outlinewidth": 0,
              "ticks": ""
             }
            },
            "marker": {
             "colorbar": {
              "outlinewidth": 0,
              "ticks": ""
             }
            },
            "type": "scatter3d"
           }
          ],
          "scattercarpet": [
           {
            "marker": {
             "colorbar": {
              "outlinewidth": 0,
              "ticks": ""
             }
            },
            "type": "scattercarpet"
           }
          ],
          "scattergeo": [
           {
            "marker": {
             "colorbar": {
              "outlinewidth": 0,
              "ticks": ""
             }
            },
            "type": "scattergeo"
           }
          ],
          "scattergl": [
           {
            "marker": {
             "colorbar": {
              "outlinewidth": 0,
              "ticks": ""
             }
            },
            "type": "scattergl"
           }
          ],
          "scattermapbox": [
           {
            "marker": {
             "colorbar": {
              "outlinewidth": 0,
              "ticks": ""
             }
            },
            "type": "scattermapbox"
           }
          ],
          "scatterpolar": [
           {
            "marker": {
             "colorbar": {
              "outlinewidth": 0,
              "ticks": ""
             }
            },
            "type": "scatterpolar"
           }
          ],
          "scatterpolargl": [
           {
            "marker": {
             "colorbar": {
              "outlinewidth": 0,
              "ticks": ""
             }
            },
            "type": "scatterpolargl"
           }
          ],
          "scatterternary": [
           {
            "marker": {
             "colorbar": {
              "outlinewidth": 0,
              "ticks": ""
             }
            },
            "type": "scatterternary"
           }
          ],
          "surface": [
           {
            "colorbar": {
             "outlinewidth": 0,
             "ticks": ""
            },
            "colorscale": [
             [
              0,
              "#0d0887"
             ],
             [
              0.1111111111111111,
              "#46039f"
             ],
             [
              0.2222222222222222,
              "#7201a8"
             ],
             [
              0.3333333333333333,
              "#9c179e"
             ],
             [
              0.4444444444444444,
              "#bd3786"
             ],
             [
              0.5555555555555556,
              "#d8576b"
             ],
             [
              0.6666666666666666,
              "#ed7953"
             ],
             [
              0.7777777777777778,
              "#fb9f3a"
             ],
             [
              0.8888888888888888,
              "#fdca26"
             ],
             [
              1,
              "#f0f921"
             ]
            ],
            "type": "surface"
           }
          ],
          "table": [
           {
            "cells": {
             "fill": {
              "color": "#EBF0F8"
             },
             "line": {
              "color": "white"
             }
            },
            "header": {
             "fill": {
              "color": "#C8D4E3"
             },
             "line": {
              "color": "white"
             }
            },
            "type": "table"
           }
          ]
         },
         "layout": {
          "annotationdefaults": {
           "arrowcolor": "#2a3f5f",
           "arrowhead": 0,
           "arrowwidth": 1
          },
          "autotypenumbers": "strict",
          "coloraxis": {
           "colorbar": {
            "outlinewidth": 0,
            "ticks": ""
           }
          },
          "colorscale": {
           "diverging": [
            [
             0,
             "#8e0152"
            ],
            [
             0.1,
             "#c51b7d"
            ],
            [
             0.2,
             "#de77ae"
            ],
            [
             0.3,
             "#f1b6da"
            ],
            [
             0.4,
             "#fde0ef"
            ],
            [
             0.5,
             "#f7f7f7"
            ],
            [
             0.6,
             "#e6f5d0"
            ],
            [
             0.7,
             "#b8e186"
            ],
            [
             0.8,
             "#7fbc41"
            ],
            [
             0.9,
             "#4d9221"
            ],
            [
             1,
             "#276419"
            ]
           ],
           "sequential": [
            [
             0,
             "#0d0887"
            ],
            [
             0.1111111111111111,
             "#46039f"
            ],
            [
             0.2222222222222222,
             "#7201a8"
            ],
            [
             0.3333333333333333,
             "#9c179e"
            ],
            [
             0.4444444444444444,
             "#bd3786"
            ],
            [
             0.5555555555555556,
             "#d8576b"
            ],
            [
             0.6666666666666666,
             "#ed7953"
            ],
            [
             0.7777777777777778,
             "#fb9f3a"
            ],
            [
             0.8888888888888888,
             "#fdca26"
            ],
            [
             1,
             "#f0f921"
            ]
           ],
           "sequentialminus": [
            [
             0,
             "#0d0887"
            ],
            [
             0.1111111111111111,
             "#46039f"
            ],
            [
             0.2222222222222222,
             "#7201a8"
            ],
            [
             0.3333333333333333,
             "#9c179e"
            ],
            [
             0.4444444444444444,
             "#bd3786"
            ],
            [
             0.5555555555555556,
             "#d8576b"
            ],
            [
             0.6666666666666666,
             "#ed7953"
            ],
            [
             0.7777777777777778,
             "#fb9f3a"
            ],
            [
             0.8888888888888888,
             "#fdca26"
            ],
            [
             1,
             "#f0f921"
            ]
           ]
          },
          "colorway": [
           "#636efa",
           "#EF553B",
           "#00cc96",
           "#ab63fa",
           "#FFA15A",
           "#19d3f3",
           "#FF6692",
           "#B6E880",
           "#FF97FF",
           "#FECB52"
          ],
          "font": {
           "color": "#2a3f5f"
          },
          "geo": {
           "bgcolor": "white",
           "lakecolor": "white",
           "landcolor": "#E5ECF6",
           "showlakes": true,
           "showland": true,
           "subunitcolor": "white"
          },
          "hoverlabel": {
           "align": "left"
          },
          "hovermode": "closest",
          "mapbox": {
           "style": "light"
          },
          "paper_bgcolor": "white",
          "plot_bgcolor": "#E5ECF6",
          "polar": {
           "angularaxis": {
            "gridcolor": "white",
            "linecolor": "white",
            "ticks": ""
           },
           "bgcolor": "#E5ECF6",
           "radialaxis": {
            "gridcolor": "white",
            "linecolor": "white",
            "ticks": ""
           }
          },
          "scene": {
           "xaxis": {
            "backgroundcolor": "#E5ECF6",
            "gridcolor": "white",
            "gridwidth": 2,
            "linecolor": "white",
            "showbackground": true,
            "ticks": "",
            "zerolinecolor": "white"
           },
           "yaxis": {
            "backgroundcolor": "#E5ECF6",
            "gridcolor": "white",
            "gridwidth": 2,
            "linecolor": "white",
            "showbackground": true,
            "ticks": "",
            "zerolinecolor": "white"
           },
           "zaxis": {
            "backgroundcolor": "#E5ECF6",
            "gridcolor": "white",
            "gridwidth": 2,
            "linecolor": "white",
            "showbackground": true,
            "ticks": "",
            "zerolinecolor": "white"
           }
          },
          "shapedefaults": {
           "line": {
            "color": "#2a3f5f"
           }
          },
          "ternary": {
           "aaxis": {
            "gridcolor": "white",
            "linecolor": "white",
            "ticks": ""
           },
           "baxis": {
            "gridcolor": "white",
            "linecolor": "white",
            "ticks": ""
           },
           "bgcolor": "#E5ECF6",
           "caxis": {
            "gridcolor": "white",
            "linecolor": "white",
            "ticks": ""
           }
          },
          "title": {
           "x": 0.05
          },
          "xaxis": {
           "automargin": true,
           "gridcolor": "white",
           "linecolor": "white",
           "ticks": "",
           "title": {
            "standoff": 15
           },
           "zerolinecolor": "white",
           "zerolinewidth": 2
          },
          "yaxis": {
           "automargin": true,
           "gridcolor": "white",
           "linecolor": "white",
           "ticks": "",
           "title": {
            "standoff": 15
           },
           "zerolinecolor": "white",
           "zerolinewidth": 2
          }
         }
        },
        "violinmode": "group",
        "width": 2750,
        "xaxis": {
         "anchor": "y",
         "domain": [
          0,
          1
         ],
         "linecolor": "black",
         "linewidth": 1,
         "range": [
          0,
          1.02
         ],
         "showline": true,
         "tickangle": 90,
         "title": {
          "text": "Mean Average Precision"
         }
        },
        "yaxis": {
         "anchor": "x",
         "domain": [
          0,
          1
         ],
         "linecolor": "black",
         "linewidth": 1,
         "showline": true,
         "title": {
          "text": ""
         }
        }
       }
      }
     },
     "metadata": {},
     "output_type": "display_data"
    }
   ],
   "source": [
    "mAP_treatment_plot, mAP_treatment_dict = copairs_batches_newerversion(dict_to_load_feature_selected, mAP='Treatment')"
   ]
  },
  {
   "cell_type": "markdown",
   "metadata": {},
   "source": [
    "#### mAP based on MoA"
   ]
  },
  {
   "cell_type": "markdown",
   "metadata": {},
   "source": [
    "#### Reading the result csv of copairs to get add the cell count info "
   ]
  },
  {
   "cell_type": "code",
   "execution_count": 6,
   "metadata": {},
   "outputs": [],
   "source": [
    "#Reading the result CSVs obtained from the copairs \n",
    "result_csv_trmts = {'c:\\\\Users\\\\ssivagur\\\\Documents\\\\Projects\\\\Cell_painting_projects\\\\CDoT\\\\Batch3_analysis_redo\\\\UpdatedCopairsVersion\\\\BR00122250_normalized_feature_select_negcon_batch_Result_NegconNorm_mAP_wrt_Treatment_woNAN.csv':'Standard CP',\n",
    "                    'c:\\\\Users\\\\ssivagur\\\\Documents\\\\Projects\\\\Cell_painting_projects\\\\CDoT\\\\Batch3_analysis_redo\\\\UpdatedCopairsVersion\\\\BR00122246_normalized_feature_select_negcon_batch_Result_NegconNorm_mAP_wrt_Treatment_woNAN.csv':'CP + MitoBrilliant',\n",
    "                    'c:\\\\Users\\\\ssivagur\\\\Documents\\\\Projects\\\\Cell_painting_projects\\\\CDoT\\\\Batch3_analysis_redo\\\\UpdatedCopairsVersion\\\\BR00122247_normalized_feature_select_negcon_batch_Result_NegconNorm_mAP_wrt_Treatment_woNAN.csv':'CP + Phenovue phalloidin 400LS',\n",
    "                    'c:\\\\Users\\\\ssivagur\\\\Documents\\\\Projects\\\\Cell_painting_projects\\\\CDoT\\\\Batch3_analysis_redo\\\\UpdatedCopairsVersion\\\\BR00122248_normalized_feature_select_negcon_batch_Result_NegconNorm_mAP_wrt_Treatment_woNAN.csv':'Standard CP (exposed to ChromaLive)',\n",
    "                    'c:\\\\Users\\\\ssivagur\\\\Documents\\\\Projects\\\\Cell_painting_projects\\\\CDoT\\\\Batch3_analysis_redo\\\\UpdatedCopairsVersion\\\\BR00122249_normalized_feature_select_negcon_batch_wo_phasefeatures_Result_NegconNorm_mAP_wrt_Treatment_woNAN.csv':'ChromaLive + Hoechst'}"
   ]
  },
  {
   "cell_type": "markdown",
   "metadata": {},
   "source": [
    "#### Reading the aggregate csv files of copairs "
   ]
  },
  {
   "cell_type": "code",
   "execution_count": 7,
   "metadata": {},
   "outputs": [],
   "source": [
    "#Reading the aggregate CSV files obtained from the copairs package\n",
    "aggregate_files_trmt = {'c:\\\\Users\\\\ssivagur\\\\Documents\\\\Projects\\\\Cell_painting_projects\\\\CDoT\\\\Batch3_analysis_redo\\\\UpdatedCopairsVersion\\\\BR00122250_normalized_feature_select_negcon_batch_Aggregate_result_NegconNorm_mAP_wrt_Treatment_woNAN.csv':'Standard CP',\n",
    "                    'c:\\\\Users\\\\ssivagur\\\\Documents\\\\Projects\\\\Cell_painting_projects\\\\CDoT\\\\Batch3_analysis_redo\\\\UpdatedCopairsVersion\\\\BR00122246_normalized_feature_select_negcon_batch_Aggregate_result_NegconNorm_mAP_wrt_Treatment_woNAN.csv':'CP + MitoBrilliant',\n",
    "                    'c:\\\\Users\\\\ssivagur\\\\Documents\\\\Projects\\\\Cell_painting_projects\\\\CDoT\\\\Batch3_analysis_redo\\\\UpdatedCopairsVersion\\\\BR00122247_normalized_feature_select_negcon_batch_Aggregate_result_NegconNorm_mAP_wrt_Treatment_woNAN.csv':'CP + Phenovue phalloidin 400LS',\n",
    "                    'c:\\\\Users\\\\ssivagur\\\\Documents\\\\Projects\\\\Cell_painting_projects\\\\CDoT\\\\Batch3_analysis_redo\\\\UpdatedCopairsVersion\\\\BR00122248_normalized_feature_select_negcon_batch_Aggregate_result_NegconNorm_mAP_wrt_Treatment_woNAN.csv':'Standard CP (exposed to ChromaLive)',\n",
    "                    'c:\\\\Users\\\\ssivagur\\\\Documents\\\\Projects\\\\Cell_painting_projects\\\\CDoT\\\\Batch3_analysis_redo\\\\UpdatedCopairsVersion\\\\BR00122249_normalized_feature_select_negcon_batch_wo_phasefeatures_Aggregate_result_NegconNorm_mAP_wrt_Treatment_woNAN.csv':'ChromaLive + Hoechst'}"
   ]
  },
  {
   "cell_type": "markdown",
   "metadata": {},
   "source": [
    "#### Plot generation"
   ]
  },
  {
   "cell_type": "code",
   "execution_count": 8,
   "metadata": {},
   "outputs": [],
   "source": [
    "mAP_treatment_plot_colorscheme, df_treatment = cell_count_norm_colorscheme(result_csv_trmts, aggregate_files_trmt)"
   ]
  },
  {
   "cell_type": "code",
   "execution_count": 10,
   "metadata": {},
   "outputs": [
    {
     "data": {
      "application/vnd.plotly.v1+json": {
       "config": {
        "plotlyServerURL": "https://plot.ly"
       },
       "data": [
        {
         "hovertext": [
          "pomalidomide",
          "homochlorcyclizine",
          "orphenadrine",
          "AZD7545",
          "SHP099",
          "hydroxyzine",
          "SU-11274",
          "PF-477736",
          "GSK-3-inhibitor-IX",
          "A-366",
          "apratastat",
          "merimepodib",
          "BMS-863233",
          "veliparib",
          "PFI-1",
          "P5091",
          "CHIR-99021",
          "filgotinib",
          "Staurosporine",
          "SGX523",
          "CPI-0610",
          "BIX-02188",
          "AMG900",
          "T-0901317",
          "ML-298",
          "NVP-AEW541",
          "maprotiline",
          "ML324",
          "ketotifen",
          "PNU-74654",
          "SU3327",
          "GW-3965",
          "carmustine",
          "filanesib",
          "APY0201",
          "GW-5074",
          "lenvatinib",
          "ponatinib",
          "WZ4003",
          "BX-912",
          "halopemide",
          "MK-5108",
          "ruxolitinib",
          "dosulepin",
          "niraparib",
          "ABT-737",
          "BMS-566419",
          "selumetinib",
          "UNC0642",
          "romidepsin",
          "RGFP966",
          "venetoclax",
          "quazinone",
          "ispinesib",
          "THZ1",
          "KH-CB19",
          "GDC-0879",
          "rheochrysidin",
          "FR-180204",
          "Thapsigargin",
          "EPZ015666",
          "DACTINOMYCIN",
          "GSK2334470",
          "BLU9931",
          "valrubicin",
          "purmorphamine",
          "BI-78D3",
          "SCH-900776",
          "CP-724714",
          "andarine",
          "rosuvastatin",
          "dimethindene-(S)-(+)",
          "skepinone-l",
          "sirolimus",
          "neratinib",
          "delta-Tocotrienol",
          "linsitinib",
          "SGC-707",
          "GNF-5",
          "PD-198306",
          "VX-745",
          "ML-323",
          "ICG-001",
          "AMG-925",
          "GSK-J4",
          "IOX2",
          "PS178990",
          "AZD2014",
          "SAG",
          "acriflavine"
         ],
         "marker": {
          "color": "#0173b2",
          "size": [
           40.85,
           38.2775,
           41.74,
           36.2775,
           39.725,
           38.835,
           18.455,
           2.565,
           16.01,
           38.58,
           38.8175,
           13.7125,
           31.88,
           38.5075,
           36.8375,
           36.7525,
           34.2775,
           39.25,
           8.5575,
           39,
           31.8125,
           37.85,
           7.27,
           39.56,
           37.6625,
           31.2375,
           39.4875,
           34.0825,
           41.11,
           38.915,
           30.89,
           41.8925,
           37.835,
           4.9725,
           22.245,
           41.8525,
           32.485,
           3.5425,
           33.615,
           12.465,
           37.6025,
           25.435,
           40.3225,
           39.3725,
           20.57,
           30.7175,
           24.695,
           34.7025,
           37.075,
           2.9775,
           25.465,
           34.0825,
           37.8625,
           4.815,
           1.2325,
           41.71,
           44.21,
           40.0725,
           39.035,
           0.9025,
           35.455,
           2.0825,
           30.39,
           25.3925,
           1.98,
           38.5375,
           37.7525,
           5.7,
           37.97,
           40.5525,
           38.5125,
           40.465,
           30.8075,
           27.385,
           16.3675,
           39.2675,
           31.145,
           38.775,
           38.32,
           36.675,
           38.0625,
           35.7725,
           29.245,
           20.545,
           12.7625,
           39.7425,
           40.4825,
           13.4375,
           38.385,
           0.7425
          ],
          "sizemin": 3,
          "sizemode": "area",
          "sizeref": 0.1
         },
         "mode": "markers",
         "name": "Standard CP",
         "type": "scatter",
         "x": [
          "tumor necrosis factor production inhibitor",
          "antihistamine",
          "acetylcholine receptor antagonist",
          "pyruvate dehydrogenase kinase inhibitor",
          "protein tyrosine kinase inhibitor",
          "antihistamine",
          "hepatocyte growth factor receptor inhibitor",
          "CHK inhibitor",
          "glycogen synthase kinase inhibitor",
          "histone lysine methyltransferase inhibitor",
          "tumor necrosis factor production inhibitor",
          "inosine monophosphate dehydrogenase inhibitor",
          "CDC inhibitor",
          "PARP inhibitor",
          "bromodomain inhibitor",
          "ubiquitin specific protease inhibitor",
          "glycogen synthase kinase inhibitor",
          "JAK inhibitor",
          "Apoptosis inducer (ATP-competitive kinase inhibitor)",
          "hepatocyte growth factor receptor inhibitor",
          "bromodomain inhibitor",
          "MEK inhibitor",
          "Aurora kinase inhibitor",
          "LXR agonist",
          "phospholipase inhibitor",
          "IGF-1 inhibitor",
          "tricyclic antidepressant",
          "histone lysine demethylase inhibitor",
          "phosphodiesterase inhibitor",
          "beta-catenin inhibitor",
          "JNK inhibitor",
          "LXR agonist",
          "DNA inhibitor",
          "kinesin inhibitor",
          "phosphoinositide dependent kinase inhibitor",
          "RAF inhibitor",
          "FGFR inhibitor",
          "Bcr-Abl kinase inhibitor",
          "AMPK inhibitor",
          "pyruvate dehydrogenase kinase inhibitor",
          "phospholipase inhibitor",
          "Aurora kinase inhibitor",
          "JAK inhibitor",
          "tricyclic antidepressant",
          "PARP inhibitor",
          "BCL inhibitor",
          "inosine monophosphate dehydrogenase inhibitor",
          "MEK inhibitor",
          "histone lysine methyltransferase inhibitor",
          "HDAC inhibitor",
          "HDAC inhibitor",
          "BCL inhibitor",
          "phosphodiesterase inhibitor",
          "kinesin inhibitor",
          "CDK inhibitor",
          "CDC inhibitor",
          "RAF inhibitor",
          "protein tyrosine kinase inhibitor",
          "MAP kinase inhibitor",
          "ER stressor (SERCA inhibitor)",
          "protein arginine N-methyltransferase inhibitor",
          "Apoptosis inducer (transcription inhibitor)",
          "phosphoinositide dependent kinase inhibitor",
          "FGFR inhibitor",
          "DNA inhibitor",
          "smoothened receptor agonist",
          "JNK inhibitor",
          "CHK inhibitor",
          "EGFR inhibitor",
          "androgen receptor modulator",
          "HMGCR inhibitor",
          "acetylcholine receptor antagonist",
          "p38 MAPK inhibitor",
          "mTOR inhibitor",
          "EGFR inhibitor",
          "HMGCR inhibitor",
          "IGF-1 inhibitor",
          "protein arginine N-methyltransferase inhibitor",
          "Bcr-Abl kinase inhibitor",
          "MAP kinase inhibitor",
          "p38 MAPK inhibitor",
          "ubiquitin specific protease inhibitor",
          "beta-catenin inhibitor",
          "CDK inhibitor",
          "histone lysine demethylase inhibitor",
          "hypoxia inducible factor inhibitor",
          "androgen receptor modulator",
          "mTOR inhibitor",
          "smoothened receptor agonist",
          "hypoxia inducible factor inhibitor"
         ],
         "y": [
          0.071023303094339,
          0.0219834647947619,
          0.0376139874137184,
          0.1253876015988353,
          0.1733133388934256,
          0.0193372972941567,
          0.4437509212047515,
          1,
          0.6974747474747475,
          0.0143009556744482,
          0.0229035103749266,
          1,
          1,
          0.0241782237420953,
          0.1354833864643504,
          0.1220441551476034,
          1,
          0.0897612296683392,
          1,
          0.0320925465559821,
          1,
          0.1973182339491302,
          0.8752976190476192,
          1,
          0.0096736822412798,
          0.8180555555555555,
          0.0101510772315614,
          0.0653791559703667,
          0.093313058931989,
          0.0137005690849828,
          0.0111673604903547,
          0.2919557809314043,
          0.0413061299341054,
          0.9305555555555556,
          0.6197956684237172,
          0.0719983639718025,
          0.8824404761904762,
          0.861111111111111,
          0.1882316051861195,
          0.525020664946182,
          0.9305555555555556,
          0.485050408866633,
          0.1736991326973489,
          0.0164202406081599,
          0.5149426842442,
          1,
          0.2032654623005413,
          0.6494021851164709,
          1,
          0.4493806573112204,
          0.5131959806606946,
          0.4855452522119189,
          0.0073744888022016,
          0.417577086656034,
          0.7826388888888889,
          0.1240138751756181,
          0.9791666666666666,
          0.0257439848484493,
          0.0147444297366194,
          1,
          0.7093142968142968,
          0.6779100529100529,
          0.856060606060606,
          0.4882847755692583,
          0.2138536977809366,
          0.2232066509105931,
          0.0147100516505244,
          0.8523809523809525,
          0.0501649129059263,
          0.0157564725863259,
          0.1208693970945824,
          0.0320166972988841,
          0.9375,
          1,
          1,
          0.0138875417541322,
          0.58640432457568,
          0.1825953910244248,
          0.3971398401972957,
          0.3390996781437548,
          0.2729084033637367,
          0.1185057175353392,
          0.9666666666666668,
          0.4227250258428748,
          0.7980158730158731,
          0.025294515548691,
          0.1351022015850957,
          0.8409455128205128,
          0.3812469669200657,
          0.6168650793650794
         ]
        },
        {
         "hovertext": [
          "pomalidomide",
          "homochlorcyclizine",
          "orphenadrine",
          "AZD7545",
          "SHP099",
          "hydroxyzine",
          "SU-11274",
          "PF-477736",
          "GSK-3-inhibitor-IX",
          "A-366",
          "apratastat",
          "merimepodib",
          "BMS-863233",
          "veliparib",
          "PFI-1",
          "P5091",
          "CHIR-99021",
          "filgotinib",
          "Staurosporine",
          "SGX523",
          "CPI-0610",
          "BIX-02188",
          "AMG900",
          "T-0901317",
          "ML-298",
          "NVP-AEW541",
          "maprotiline",
          "ML324",
          "ketotifen",
          "PNU-74654",
          "SU3327",
          "GW-3965",
          "carmustine",
          "filanesib",
          "APY0201",
          "GW-5074",
          "lenvatinib",
          "ponatinib",
          "WZ4003",
          "BX-912",
          "halopemide",
          "MK-5108",
          "ruxolitinib",
          "dosulepin",
          "niraparib",
          "ABT-737",
          "BMS-566419",
          "selumetinib",
          "UNC0642",
          "romidepsin",
          "RGFP966",
          "venetoclax",
          "quazinone",
          "ispinesib",
          "THZ1",
          "KH-CB19",
          "GDC-0879",
          "rheochrysidin",
          "FR-180204",
          "Thapsigargin",
          "EPZ015666",
          "DACTINOMYCIN",
          "GSK2334470",
          "BLU9931",
          "valrubicin",
          "purmorphamine",
          "BI-78D3",
          "SCH-900776",
          "CP-724714",
          "andarine",
          "rosuvastatin",
          "dimethindene-(S)-(+)",
          "skepinone-l",
          "sirolimus",
          "neratinib",
          "delta-Tocotrienol",
          "linsitinib",
          "SGC-707",
          "GNF-5",
          "PD-198306",
          "VX-745",
          "ML-323",
          "ICG-001",
          "AMG-925",
          "GSK-J4",
          "IOX2",
          "PS178990",
          "AZD2014",
          "SAG",
          "acriflavine"
         ],
         "marker": {
          "color": "#de8f05",
          "size": [
           40.66,
           41.45,
           40.87,
           36.9,
           41.18,
           41.1975,
           19.455,
           2.6375,
           16.6975,
           40.635,
           40.4625,
           13.9925,
           33.4725,
           40.265,
           37.26,
           38.6975,
           35.5525,
           41.0825,
           8.9475,
           41.73,
           32.18,
           39.535,
           7.37,
           39.0525,
           40.1475,
           31.9925,
           41.005,
           36.4525,
           40.6375,
           40.29,
           29.366666666666664,
           41.0425,
           38.5525,
           5.2,
           22.495,
           41.9275,
           32.8775,
           3.9675,
           35.0125,
           12.49,
           40.29,
           26.5625,
           40.8525,
           40.4275,
           21.8,
           31.9975,
           26.7175,
           35.295,
           37.6675,
           3.025,
           26.09,
           35.84,
           39.975,
           4.765,
           1.49,
           40.5675,
           45.7025,
           40.81,
           39.88,
           0.9425,
           35.81,
           2.355,
           30.7375,
           26.0775,
           1.9225,
           41.055,
           40.0275,
           6.79,
           39.96,
           41.48,
           40.24,
           41.8125,
           31.89,
           28.8,
           17.2275,
           40.1525,
           32.2075,
           41.8075,
           39.835,
           37.825,
           39.175,
           35.995,
           30.6925,
           21.595,
           12.405,
           42.435,
           40.6825,
           13.7625,
           39.49,
           0.5
          ],
          "sizemin": 3,
          "sizemode": "area",
          "sizeref": 0.1
         },
         "mode": "markers",
         "name": "CP + MitoBrilliant",
         "type": "scatter",
         "x": [
          "tumor necrosis factor production inhibitor",
          "antihistamine",
          "acetylcholine receptor antagonist",
          "pyruvate dehydrogenase kinase inhibitor",
          "protein tyrosine kinase inhibitor",
          "antihistamine",
          "hepatocyte growth factor receptor inhibitor",
          "CHK inhibitor",
          "glycogen synthase kinase inhibitor",
          "histone lysine methyltransferase inhibitor",
          "tumor necrosis factor production inhibitor",
          "inosine monophosphate dehydrogenase inhibitor",
          "CDC inhibitor",
          "PARP inhibitor",
          "bromodomain inhibitor",
          "ubiquitin specific protease inhibitor",
          "glycogen synthase kinase inhibitor",
          "JAK inhibitor",
          "Apoptosis inducer (ATP-competitive kinase inhibitor)",
          "hepatocyte growth factor receptor inhibitor",
          "bromodomain inhibitor",
          "MEK inhibitor",
          "Aurora kinase inhibitor",
          "LXR agonist",
          "phospholipase inhibitor",
          "IGF-1 inhibitor",
          "tricyclic antidepressant",
          "histone lysine demethylase inhibitor",
          "phosphodiesterase inhibitor",
          "beta-catenin inhibitor",
          "JNK inhibitor",
          "LXR agonist",
          "DNA inhibitor",
          "kinesin inhibitor",
          "phosphoinositide dependent kinase inhibitor",
          "RAF inhibitor",
          "FGFR inhibitor",
          "Bcr-Abl kinase inhibitor",
          "AMPK inhibitor",
          "pyruvate dehydrogenase kinase inhibitor",
          "phospholipase inhibitor",
          "Aurora kinase inhibitor",
          "JAK inhibitor",
          "tricyclic antidepressant",
          "PARP inhibitor",
          "BCL inhibitor",
          "inosine monophosphate dehydrogenase inhibitor",
          "MEK inhibitor",
          "histone lysine methyltransferase inhibitor",
          "HDAC inhibitor",
          "HDAC inhibitor",
          "BCL inhibitor",
          "phosphodiesterase inhibitor",
          "kinesin inhibitor",
          "CDK inhibitor",
          "CDC inhibitor",
          "RAF inhibitor",
          "protein tyrosine kinase inhibitor",
          "MAP kinase inhibitor",
          "ER stressor (SERCA inhibitor)",
          "protein arginine N-methyltransferase inhibitor",
          "Apoptosis inducer (transcription inhibitor)",
          "phosphoinositide dependent kinase inhibitor",
          "FGFR inhibitor",
          "DNA inhibitor",
          "smoothened receptor agonist",
          "JNK inhibitor",
          "CHK inhibitor",
          "EGFR inhibitor",
          "androgen receptor modulator",
          "HMGCR inhibitor",
          "acetylcholine receptor antagonist",
          "p38 MAPK inhibitor",
          "mTOR inhibitor",
          "EGFR inhibitor",
          "HMGCR inhibitor",
          "IGF-1 inhibitor",
          "protein arginine N-methyltransferase inhibitor",
          "Bcr-Abl kinase inhibitor",
          "MAP kinase inhibitor",
          "p38 MAPK inhibitor",
          "ubiquitin specific protease inhibitor",
          "beta-catenin inhibitor",
          "CDK inhibitor",
          "histone lysine demethylase inhibitor",
          "hypoxia inducible factor inhibitor",
          "androgen receptor modulator",
          "mTOR inhibitor",
          "smoothened receptor agonist",
          "hypoxia inducible factor inhibitor"
         ],
         "y": [
          0.0150618877138947,
          0.0159178734457705,
          0.1104465131983159,
          0.1297543931184192,
          0.1756932253782999,
          0.0325151168164568,
          0.3491710531098527,
          1,
          0.6309523809523809,
          0.0642552735066306,
          0.0114520394154454,
          0.8143601190476191,
          1,
          0.0100775865868438,
          0.4907002005347594,
          0.0183653798841698,
          1,
          0.0244877839432316,
          0.9791666666666666,
          0.0195171278692594,
          0.9666666666666668,
          0.229897981874671,
          1,
          0.1865840303808048,
          0.0204934895353426,
          0.3728374553955949,
          0.0123585195810661,
          0.1285074537291864,
          0.0096106293466363,
          0.0119004459776232,
          0.0246101949733271,
          0.4222408839069055,
          0.0157544335411245,
          0.704059829059829,
          0.7676188334083072,
          0.3363096171023995,
          1,
          0.4646825396825397,
          0.1528054053789347,
          0.7620967741935484,
          0.8180555555555555,
          0.369278488964085,
          0.1679667036840963,
          0.0118495066681343,
          0.5148038303812987,
          0.7631448412698413,
          0.9083333333333332,
          0.5408081501831502,
          1,
          0.7951388888888888,
          0.9791666666666666,
          0.2586432638456509,
          0.0131159463984169,
          0.3793334564205707,
          0.8491161616161615,
          0.0260735621818287,
          1,
          0.0075023198672181,
          0.0839753105945456,
          0.7694940476190476,
          0.2937091196933716,
          0.6167748917748918,
          0.6017524142524142,
          0.5258928571428572,
          0.4525146052434785,
          0.3695335998689656,
          0.0201843097156545,
          0.8958333333333333,
          0.1667782900287308,
          0.0125545165153142,
          0.018182690850052,
          0.0712657861359169,
          0.776984126984127,
          1,
          0.7742456896551724,
          0.0160224380348829,
          0.562310606060606,
          0.027277572168684,
          0.7026587809036657,
          0.2258401358912665,
          0.1794411723065589,
          0.2509404094930411,
          0.5976172247911378,
          1,
          1,
          0.1654742952558541,
          0.0268116503702922,
          0.6898358585858586,
          0.5660426731078905,
          0.7324342324342324
         ]
        },
        {
         "hovertext": [
          "pomalidomide",
          "homochlorcyclizine",
          "orphenadrine",
          "AZD7545",
          "SHP099",
          "hydroxyzine",
          "SU-11274",
          "PF-477736",
          "GSK-3-inhibitor-IX",
          "A-366",
          "apratastat",
          "merimepodib",
          "BMS-863233",
          "veliparib",
          "PFI-1",
          "P5091",
          "CHIR-99021",
          "filgotinib",
          "Staurosporine",
          "SGX523",
          "CPI-0610",
          "BIX-02188",
          "AMG900",
          "T-0901317",
          "ML-298",
          "NVP-AEW541",
          "maprotiline",
          "ML324",
          "ketotifen",
          "PNU-74654",
          "SU3327",
          "GW-3965",
          "carmustine",
          "filanesib",
          "APY0201",
          "GW-5074",
          "lenvatinib",
          "ponatinib",
          "WZ4003",
          "BX-912",
          "halopemide",
          "MK-5108",
          "ruxolitinib",
          "dosulepin",
          "niraparib",
          "ABT-737",
          "BMS-566419",
          "selumetinib",
          "UNC0642",
          "romidepsin",
          "RGFP966",
          "venetoclax",
          "quazinone",
          "ispinesib",
          "THZ1",
          "KH-CB19",
          "GDC-0879",
          "rheochrysidin",
          "FR-180204",
          "Thapsigargin",
          "EPZ015666",
          "DACTINOMYCIN",
          "GSK2334470",
          "BLU9931",
          "valrubicin",
          "purmorphamine",
          "BI-78D3",
          "SCH-900776",
          "CP-724714",
          "andarine",
          "rosuvastatin",
          "dimethindene-(S)-(+)",
          "skepinone-l",
          "sirolimus",
          "neratinib",
          "delta-Tocotrienol",
          "linsitinib",
          "SGC-707",
          "GNF-5",
          "PD-198306",
          "VX-745",
          "ML-323",
          "ICG-001",
          "AMG-925",
          "GSK-J4",
          "IOX2",
          "PS178990",
          "AZD2014",
          "SAG",
          "acriflavine"
         ],
         "marker": {
          "color": "#029e73",
          "size": [
           42.05,
           40.9625,
           41.4825,
           35.9925,
           41.9875,
           38.1925,
           19.3825,
           2.6325,
           15.85,
           39.6525,
           41.615,
           14.575,
           33.995,
           39.12,
           37.95,
           38.8525,
           34.6775,
           40.81,
           9.4975,
           40.4525,
           33.03,
           39.575,
           7.275,
           40.375,
           39.18,
           31.8725,
           40.5925,
           36.2625,
           39.9525,
           39.4825,
           30.5725,
           40.155,
           39.5625,
           5.015,
           22.48,
           42.7025,
           30.9875,
           3.2975,
           35.795,
           11.7525,
           42.1475,
           26.01,
           42.2225,
           41.1125,
           21.405,
           31.0275,
           25.53,
           35.825,
           38.495,
           2.8025,
           25.85,
           35.47,
           40.135,
           4.505,
           1.1375,
           41.285,
           45.5475,
           41.3475,
           42.5925,
           0.845,
           38.3,
           1.9225,
           29.885,
           25.8775,
           1.795,
           40.01,
           40.025,
           5.57,
           39.395,
           41.8925,
           40.8425,
           42.325,
           32.725,
           27.37,
           17.315,
           39.5125,
           32.02,
           41.1375,
           39.585,
           37.84,
           40.695,
           36.9275,
           30.0475,
           21.685,
           13.35,
           43.505,
           39.6775,
           14.5225,
           39.65,
           0.54
          ],
          "sizemin": 3,
          "sizemode": "area",
          "sizeref": 0.1
         },
         "mode": "markers",
         "name": "CP + Phenovue phalloidin 400LS",
         "type": "scatter",
         "x": [
          "tumor necrosis factor production inhibitor",
          "antihistamine",
          "acetylcholine receptor antagonist",
          "pyruvate dehydrogenase kinase inhibitor",
          "protein tyrosine kinase inhibitor",
          "antihistamine",
          "hepatocyte growth factor receptor inhibitor",
          "CHK inhibitor",
          "glycogen synthase kinase inhibitor",
          "histone lysine methyltransferase inhibitor",
          "tumor necrosis factor production inhibitor",
          "inosine monophosphate dehydrogenase inhibitor",
          "CDC inhibitor",
          "PARP inhibitor",
          "bromodomain inhibitor",
          "ubiquitin specific protease inhibitor",
          "glycogen synthase kinase inhibitor",
          "JAK inhibitor",
          "Apoptosis inducer (ATP-competitive kinase inhibitor)",
          "hepatocyte growth factor receptor inhibitor",
          "bromodomain inhibitor",
          "MEK inhibitor",
          "Aurora kinase inhibitor",
          "LXR agonist",
          "phospholipase inhibitor",
          "IGF-1 inhibitor",
          "tricyclic antidepressant",
          "histone lysine demethylase inhibitor",
          "phosphodiesterase inhibitor",
          "beta-catenin inhibitor",
          "JNK inhibitor",
          "LXR agonist",
          "DNA inhibitor",
          "kinesin inhibitor",
          "phosphoinositide dependent kinase inhibitor",
          "RAF inhibitor",
          "FGFR inhibitor",
          "Bcr-Abl kinase inhibitor",
          "AMPK inhibitor",
          "pyruvate dehydrogenase kinase inhibitor",
          "phospholipase inhibitor",
          "Aurora kinase inhibitor",
          "JAK inhibitor",
          "tricyclic antidepressant",
          "PARP inhibitor",
          "BCL inhibitor",
          "inosine monophosphate dehydrogenase inhibitor",
          "MEK inhibitor",
          "histone lysine methyltransferase inhibitor",
          "HDAC inhibitor",
          "HDAC inhibitor",
          "BCL inhibitor",
          "phosphodiesterase inhibitor",
          "kinesin inhibitor",
          "CDK inhibitor",
          "CDC inhibitor",
          "RAF inhibitor",
          "protein tyrosine kinase inhibitor",
          "MAP kinase inhibitor",
          "ER stressor (SERCA inhibitor)",
          "protein arginine N-methyltransferase inhibitor",
          "Apoptosis inducer (transcription inhibitor)",
          "phosphoinositide dependent kinase inhibitor",
          "FGFR inhibitor",
          "DNA inhibitor",
          "smoothened receptor agonist",
          "JNK inhibitor",
          "CHK inhibitor",
          "EGFR inhibitor",
          "androgen receptor modulator",
          "HMGCR inhibitor",
          "acetylcholine receptor antagonist",
          "p38 MAPK inhibitor",
          "mTOR inhibitor",
          "EGFR inhibitor",
          "HMGCR inhibitor",
          "IGF-1 inhibitor",
          "protein arginine N-methyltransferase inhibitor",
          "Bcr-Abl kinase inhibitor",
          "MAP kinase inhibitor",
          "p38 MAPK inhibitor",
          "ubiquitin specific protease inhibitor",
          "beta-catenin inhibitor",
          "CDK inhibitor",
          "histone lysine demethylase inhibitor",
          "hypoxia inducible factor inhibitor",
          "androgen receptor modulator",
          "mTOR inhibitor",
          "smoothened receptor agonist",
          "hypoxia inducible factor inhibitor"
         ],
         "y": [
          0.1060246567013005,
          0.0101355660565904,
          0.1161865061730793,
          0.0916468472627977,
          0.0368007669084493,
          0.0349322862943018,
          1,
          0.7405753968253969,
          0.6870879120879121,
          0.0176688159275669,
          0.0102733635202684,
          1,
          0.8694444444444445,
          0.0270869889718413,
          0.319768546018546,
          0.0197532056462001,
          1,
          0.0234635160084196,
          0.6898656898656899,
          0.0100175989562056,
          1,
          0.2776856604442811,
          1,
          0.9583333333333334,
          0.0441275090025411,
          0.5346838532984044,
          0.1352760721252198,
          0.0275359639145005,
          0.0160233504400813,
          0.0120726045925377,
          0.0113580988091414,
          0.1556981338558953,
          0.0087958555971302,
          0.712310606060606,
          1,
          0.0291662149295611,
          0.7708333333333334,
          0.5147837066315327,
          0.1051375474220301,
          0.834090909090909,
          0.9791666666666666,
          0.4595219017094017,
          0.1134974062594171,
          0.0270930019296986,
          0.7041666666666666,
          0.9583333333333334,
          0.2589517814538977,
          0.9791666666666666,
          0.6895756340002549,
          0.5387896825396825,
          0.8396915584415584,
          0.276169688786949,
          0.0081001575605611,
          0.2619874928912446,
          0.4640505328005328,
          0.0204526804040273,
          0.5546418748213962,
          0.0203627122388685,
          0.1677361329248699,
          1,
          0.8756578947368421,
          0.4832902001380262,
          0.5257076257076256,
          0.7760341510341511,
          0.4536352657004831,
          0.1577018281200888,
          0.0152167792368097,
          0.5585069444444444,
          0.1436072733235825,
          0.0256211779426425,
          0.2231007855013634,
          0.1265461985709615,
          0.5446661998132586,
          1,
          1,
          0.0189244825494698,
          0.5925907953761215,
          0.0147068670657653,
          0.7873093681917211,
          0.6117007441846737,
          0.1703399849820883,
          0.1031409849328954,
          0.4899600434637564,
          1,
          1,
          0.4132034632034632,
          0.0470547084233713,
          0.9208333333333332,
          0.2674327188873684,
          0.4835733153334221
         ]
        },
        {
         "hovertext": [
          "pomalidomide",
          "homochlorcyclizine",
          "orphenadrine",
          "AZD7545",
          "SHP099",
          "hydroxyzine",
          "SU-11274",
          "PF-477736",
          "GSK-3-inhibitor-IX",
          "A-366",
          "apratastat",
          "merimepodib",
          "BMS-863233",
          "veliparib",
          "PFI-1",
          "P5091",
          "CHIR-99021",
          "filgotinib",
          "Staurosporine",
          "SGX523",
          "CPI-0610",
          "BIX-02188",
          "AMG900",
          "T-0901317",
          "ML-298",
          "NVP-AEW541",
          "maprotiline",
          "ML324",
          "ketotifen",
          "PNU-74654",
          "SU3327",
          "GW-3965",
          "carmustine",
          "filanesib",
          "APY0201",
          "GW-5074",
          "lenvatinib",
          "ponatinib",
          "WZ4003",
          "BX-912",
          "halopemide",
          "MK-5108",
          "ruxolitinib",
          "dosulepin",
          "niraparib",
          "ABT-737",
          "BMS-566419",
          "selumetinib",
          "UNC0642",
          "romidepsin",
          "RGFP966",
          "venetoclax",
          "quazinone",
          "ispinesib",
          "THZ1",
          "KH-CB19",
          "GDC-0879",
          "rheochrysidin",
          "FR-180204",
          "Thapsigargin",
          "EPZ015666",
          "DACTINOMYCIN",
          "GSK2334470",
          "BLU9931",
          "valrubicin",
          "purmorphamine",
          "BI-78D3",
          "SCH-900776",
          "CP-724714",
          "andarine",
          "rosuvastatin",
          "dimethindene-(S)-(+)",
          "skepinone-l",
          "sirolimus",
          "neratinib",
          "delta-Tocotrienol",
          "linsitinib",
          "SGC-707",
          "GNF-5",
          "PD-198306",
          "VX-745",
          "ML-323",
          "ICG-001",
          "AMG-925",
          "GSK-J4",
          "IOX2",
          "PS178990",
          "AZD2014",
          "SAG",
          "acriflavine"
         ],
         "marker": {
          "color": "#d55e00",
          "size": [
           37.9075,
           36.8675,
           39.0075,
           32.935,
           37.4375,
           37.56,
           19.0225,
           2.8125,
           17.5,
           35.715,
           37.9025,
           15.455,
           29.0075,
           36.675,
           33.2325,
           33.315,
           34.385,
           36.1275,
           10,
           36.12,
           27.2975,
           37.115,
           9.46,
           35.9,
           36.4625,
           28.455,
           39.0575,
           32.44,
           37.475,
           36.1075,
           26.865,
           36.8225,
           35.415,
           6.1375,
           22.8,
           39.1275,
           32.725,
           3.9075,
           31.4175,
           15.3575,
           38.9225,
           25.7925,
           35.44,
           38.46,
           22.5525,
           30.7775,
           25.18,
           32.845,
           34.545,
           2.515,
           25.6125,
           32.6375,
           36.3825,
           5.38,
           1.3575,
           38.43,
           42.345,
           36.8175,
           36.53,
           2.295,
           33.535,
           2.1825,
           26.305,
           22.6325,
           2.8575,
           34.795,
           37.6075,
           6.1025,
           35.6575,
           38.19,
           33.4125,
           39.4025,
           32.1425,
           26.075,
           17.6925,
           37.12,
           28.0825,
           37.76,
           36.185,
           34.685,
           37.6475,
           33.3475,
           27.8875,
           21.34,
           13.7125,
           38.7225,
           36.1075,
           13.67,
           35.1425,
           0.965
          ],
          "sizemin": 3,
          "sizemode": "area",
          "sizeref": 0.1
         },
         "mode": "markers",
         "name": "Standard CP (exposed to ChromaLive)",
         "type": "scatter",
         "x": [
          "tumor necrosis factor production inhibitor",
          "antihistamine",
          "acetylcholine receptor antagonist",
          "pyruvate dehydrogenase kinase inhibitor",
          "protein tyrosine kinase inhibitor",
          "antihistamine",
          "hepatocyte growth factor receptor inhibitor",
          "CHK inhibitor",
          "glycogen synthase kinase inhibitor",
          "histone lysine methyltransferase inhibitor",
          "tumor necrosis factor production inhibitor",
          "inosine monophosphate dehydrogenase inhibitor",
          "CDC inhibitor",
          "PARP inhibitor",
          "bromodomain inhibitor",
          "ubiquitin specific protease inhibitor",
          "glycogen synthase kinase inhibitor",
          "JAK inhibitor",
          "Apoptosis inducer (ATP-competitive kinase inhibitor)",
          "hepatocyte growth factor receptor inhibitor",
          "bromodomain inhibitor",
          "MEK inhibitor",
          "Aurora kinase inhibitor",
          "LXR agonist",
          "phospholipase inhibitor",
          "IGF-1 inhibitor",
          "tricyclic antidepressant",
          "histone lysine demethylase inhibitor",
          "phosphodiesterase inhibitor",
          "beta-catenin inhibitor",
          "JNK inhibitor",
          "LXR agonist",
          "DNA inhibitor",
          "kinesin inhibitor",
          "phosphoinositide dependent kinase inhibitor",
          "RAF inhibitor",
          "FGFR inhibitor",
          "Bcr-Abl kinase inhibitor",
          "AMPK inhibitor",
          "pyruvate dehydrogenase kinase inhibitor",
          "phospholipase inhibitor",
          "Aurora kinase inhibitor",
          "JAK inhibitor",
          "tricyclic antidepressant",
          "PARP inhibitor",
          "BCL inhibitor",
          "inosine monophosphate dehydrogenase inhibitor",
          "MEK inhibitor",
          "histone lysine methyltransferase inhibitor",
          "HDAC inhibitor",
          "HDAC inhibitor",
          "BCL inhibitor",
          "phosphodiesterase inhibitor",
          "kinesin inhibitor",
          "CDK inhibitor",
          "CDC inhibitor",
          "RAF inhibitor",
          "protein tyrosine kinase inhibitor",
          "MAP kinase inhibitor",
          "ER stressor (SERCA inhibitor)",
          "protein arginine N-methyltransferase inhibitor",
          "Apoptosis inducer (transcription inhibitor)",
          "phosphoinositide dependent kinase inhibitor",
          "FGFR inhibitor",
          "DNA inhibitor",
          "smoothened receptor agonist",
          "JNK inhibitor",
          "CHK inhibitor",
          "EGFR inhibitor",
          "androgen receptor modulator",
          "HMGCR inhibitor",
          "acetylcholine receptor antagonist",
          "p38 MAPK inhibitor",
          "mTOR inhibitor",
          "EGFR inhibitor",
          "HMGCR inhibitor",
          "IGF-1 inhibitor",
          "protein arginine N-methyltransferase inhibitor",
          "Bcr-Abl kinase inhibitor",
          "MAP kinase inhibitor",
          "p38 MAPK inhibitor",
          "ubiquitin specific protease inhibitor",
          "beta-catenin inhibitor",
          "CDK inhibitor",
          "histone lysine demethylase inhibitor",
          "hypoxia inducible factor inhibitor",
          "androgen receptor modulator",
          "mTOR inhibitor",
          "smoothened receptor agonist",
          "hypoxia inducible factor inhibitor"
         ],
         "y": [
          0.0269324151570718,
          0.0098494416903003,
          0.0228206162770984,
          0.1633846851015161,
          0.0990423473255821,
          0.0308575624750373,
          1,
          0.4642586580086579,
          0.9666666666666668,
          0.0183343892897364,
          0.0250433965227246,
          1,
          1,
          0.0105475914691692,
          0.3394398280267845,
          0.020888850405352,
          0.8423611111111111,
          0.0137128602726556,
          0.2419434031822331,
          0.0162980311344704,
          1,
          0.2283126300318101,
          0.9791666666666666,
          1,
          0.0459869980249081,
          0.8194444444444444,
          0.0642318475197457,
          0.0433719298273689,
          0.0307873229995447,
          0.020155811432168,
          0.1028012408612393,
          0.2250306948691127,
          0.0076851014652721,
          0.6635149572649572,
          1,
          0.3434330228147008,
          0.4373503724328312,
          0.7027777777777778,
          0.1956734006955035,
          1,
          0.728030303030303,
          0.5446975002714567,
          0.2023101207044682,
          0.016386758715014,
          0.9097222222222222,
          0.3281051420130817,
          1,
          0.6961309523809524,
          0.548907701597919,
          0.9458333333333332,
          0.6227891244733951,
          0.2592663723712792,
          0.0081758677676787,
          0.4521693326453388,
          0.7444444444444445,
          0.0265845803595738,
          0.7080026455026455,
          0.0433624801235798,
          0.0154589622278747,
          0.9513888888888888,
          0.30344499626356,
          0.5489087301587301,
          0.9107142857142858,
          1,
          0.4666514041514041,
          0.3011294259282414,
          0.0178644488442322,
          0.6259874384874384,
          0.157237160356866,
          0.0415357870859133,
          0.0132956663191299,
          0.0545590719950017,
          0.2374943145408665,
          0.512403027892278,
          0.4742806758065774,
          0.0120593151628269,
          1,
          0.1207348910330319,
          0.5965253581107239,
          0.4789773782980304,
          0.0878828863522244,
          0.2153727488972392,
          0.6685910954938814,
          0.6405753968253969,
          0.9791666666666666,
          0.0542794818669488,
          0.0244512206052027,
          1,
          0.1480178713376858,
          0.3900526556776557
         ]
        },
        {
         "hovertext": [
          "pomalidomide",
          "homochlorcyclizine",
          "orphenadrine",
          "AZD7545",
          "SHP099",
          "hydroxyzine",
          "SU-11274",
          "PF-477736",
          "GSK-3-inhibitor-IX",
          "A-366",
          "apratastat",
          "merimepodib",
          "BMS-863233",
          "veliparib",
          "PFI-1",
          "P5091",
          "CHIR-99021",
          "filgotinib",
          "Staurosporine",
          "SGX523",
          "CPI-0610",
          "BIX-02188",
          "AMG900",
          "T-0901317",
          "ML-298",
          "NVP-AEW541",
          "maprotiline",
          "ML324",
          "ketotifen",
          "PNU-74654",
          "SU3327",
          "GW-3965",
          "carmustine",
          "filanesib",
          "APY0201",
          "GW-5074",
          "lenvatinib",
          "ponatinib",
          "WZ4003",
          "BX-912",
          "halopemide",
          "MK-5108",
          "ruxolitinib",
          "dosulepin",
          "niraparib",
          "ABT-737",
          "BMS-566419",
          "selumetinib",
          "UNC0642",
          "romidepsin",
          "RGFP966",
          "venetoclax",
          "quazinone",
          "ispinesib",
          "THZ1",
          "KH-CB19",
          "GDC-0879",
          "rheochrysidin",
          "FR-180204",
          "Thapsigargin",
          "EPZ015666",
          "DACTINOMYCIN",
          "GSK2334470",
          "BLU9931",
          "valrubicin",
          "purmorphamine",
          "BI-78D3",
          "SCH-900776",
          "CP-724714",
          "andarine",
          "rosuvastatin",
          "dimethindene-(S)-(+)",
          "skepinone-l",
          "sirolimus",
          "neratinib",
          "delta-Tocotrienol",
          "linsitinib",
          "SGC-707",
          "GNF-5",
          "PD-198306",
          "VX-745",
          "ML-323",
          "ICG-001",
          "AMG-925",
          "GSK-J4",
          "IOX2",
          "PS178990",
          "AZD2014",
          "SAG",
          "acriflavine"
         ],
         "marker": {
          "color": "#cc78bc",
          "size": [
           37.57,
           39.9075,
           39.9775,
           33.2775,
           41.2675,
           39.42,
           19.425,
           3.915,
           16.9075,
           37.97,
           39.23,
           15.1675,
           31.93,
           37.195,
           37.2675,
           37.4025,
           34.34,
           38.7225,
           10.115,
           38.28,
           31.2275,
           39.2125,
           9.5375,
           35.4975,
           38.1675,
           29.095,
           37.9825,
           34.015,
           39.3175,
           37.255,
           34.975,
           38.085,
           36.5375,
           6.7675,
           22.035,
           39.1625,
           31.955,
           7.2975,
           33.36,
           14.295,
           38.995,
           26.5925,
           38.7925,
           38.44,
           20.5725,
           30.285,
           23.895,
           35.8925,
           36.2525,
           6.2025,
           26.755,
           34.6875,
           38.17,
           6.745,
           3.445,
           40.74,
           43.005,
           36.99,
           40.53,
           3.3275,
           36.205,
           5.1225,
           27.625,
           22.8675,
           4.52,
           36.885,
           40.0725,
           7.2875,
           38.26,
           39.305,
           37.0625,
           39.7775,
           32.885,
           25.8675,
           17.0825,
           38.6275,
           30.085,
           39.2375,
           37.695,
           35.8975,
           38.1475,
           35.6,
           27.9,
           22.25,
           14.46,
           41.59,
           39.3475,
           14.165,
           36.945,
           3.6225
          ],
          "sizemin": 3,
          "sizemode": "area",
          "sizeref": 0.1
         },
         "mode": "markers",
         "name": "ChromaLive + Hoechst",
         "type": "scatter",
         "x": [
          "tumor necrosis factor production inhibitor",
          "antihistamine",
          "acetylcholine receptor antagonist",
          "pyruvate dehydrogenase kinase inhibitor",
          "protein tyrosine kinase inhibitor",
          "antihistamine",
          "hepatocyte growth factor receptor inhibitor",
          "CHK inhibitor",
          "glycogen synthase kinase inhibitor",
          "histone lysine methyltransferase inhibitor",
          "tumor necrosis factor production inhibitor",
          "inosine monophosphate dehydrogenase inhibitor",
          "CDC inhibitor",
          "PARP inhibitor",
          "bromodomain inhibitor",
          "ubiquitin specific protease inhibitor",
          "glycogen synthase kinase inhibitor",
          "JAK inhibitor",
          "Apoptosis inducer (ATP-competitive kinase inhibitor)",
          "hepatocyte growth factor receptor inhibitor",
          "bromodomain inhibitor",
          "MEK inhibitor",
          "Aurora kinase inhibitor",
          "LXR agonist",
          "phospholipase inhibitor",
          "IGF-1 inhibitor",
          "tricyclic antidepressant",
          "histone lysine demethylase inhibitor",
          "phosphodiesterase inhibitor",
          "beta-catenin inhibitor",
          "JNK inhibitor",
          "LXR agonist",
          "DNA inhibitor",
          "kinesin inhibitor",
          "phosphoinositide dependent kinase inhibitor",
          "RAF inhibitor",
          "FGFR inhibitor",
          "Bcr-Abl kinase inhibitor",
          "AMPK inhibitor",
          "pyruvate dehydrogenase kinase inhibitor",
          "phospholipase inhibitor",
          "Aurora kinase inhibitor",
          "JAK inhibitor",
          "tricyclic antidepressant",
          "PARP inhibitor",
          "BCL inhibitor",
          "inosine monophosphate dehydrogenase inhibitor",
          "MEK inhibitor",
          "histone lysine methyltransferase inhibitor",
          "HDAC inhibitor",
          "HDAC inhibitor",
          "BCL inhibitor",
          "phosphodiesterase inhibitor",
          "kinesin inhibitor",
          "CDK inhibitor",
          "CDC inhibitor",
          "RAF inhibitor",
          "protein tyrosine kinase inhibitor",
          "MAP kinase inhibitor",
          "ER stressor (SERCA inhibitor)",
          "protein arginine N-methyltransferase inhibitor",
          "Apoptosis inducer (transcription inhibitor)",
          "phosphoinositide dependent kinase inhibitor",
          "FGFR inhibitor",
          "DNA inhibitor",
          "smoothened receptor agonist",
          "JNK inhibitor",
          "CHK inhibitor",
          "EGFR inhibitor",
          "androgen receptor modulator",
          "HMGCR inhibitor",
          "acetylcholine receptor antagonist",
          "p38 MAPK inhibitor",
          "mTOR inhibitor",
          "EGFR inhibitor",
          "HMGCR inhibitor",
          "IGF-1 inhibitor",
          "protein arginine N-methyltransferase inhibitor",
          "Bcr-Abl kinase inhibitor",
          "MAP kinase inhibitor",
          "p38 MAPK inhibitor",
          "ubiquitin specific protease inhibitor",
          "beta-catenin inhibitor",
          "CDK inhibitor",
          "histone lysine demethylase inhibitor",
          "hypoxia inducible factor inhibitor",
          "androgen receptor modulator",
          "mTOR inhibitor",
          "smoothened receptor agonist",
          "hypoxia inducible factor inhibitor"
         ],
         "y": [
          0.0312624952965778,
          0.1767792039123561,
          0.0189182096812577,
          0.4409288011215885,
          0.239900983831423,
          0.0711081241914711,
          1,
          0.5765873015873015,
          0.6355352174017926,
          0.0288767904873345,
          0.0286359928782413,
          0.3817426825371237,
          0.5847882956989394,
          0.0471622223499483,
          0.4757653212800272,
          0.0149704819348936,
          0.6579298246367598,
          0.150041707785259,
          0.2740009402760479,
          0.0135413166511027,
          0.8133169934640523,
          0.1689962767483341,
          0.4999958760144197,
          0.6096109346074949,
          0.491840436179239,
          1,
          0.7182859703020994,
          0.4280991883933061,
          0.0792646582457228,
          0.247159557635809,
          0.0234102589886239,
          0.2559861533399619,
          0.0125289998387376,
          0.6053249890206411,
          1,
          0.0504923890193724,
          0.4965306194536071,
          0.4620797720797721,
          0.9027777777777776,
          0.9523809523809524,
          0.2357297114046705,
          0.409814148444653,
          0.1865082940126886,
          0.1286954715332794,
          0.682936507936508,
          0.5506903941789677,
          0.5849710430780041,
          0.0648212644721544,
          0.8263888888888888,
          0.2343219159008632,
          0.4827718078473691,
          0.1565609054816778,
          0.0546742332141433,
          0.3535181958962446,
          0.3710494894598155,
          0.1233999297025243,
          0.2273398951494059,
          0.3774482796089431,
          0.1526550007481912,
          0.2588279012831442,
          0.3646366047385715,
          0.2581626600304761,
          1,
          0.2197542524204847,
          0.2480417274377241,
          0.1532059925729026,
          0.0163990188265137,
          0.6882631257631258,
          0.1804960548381601,
          0.082030667321721,
          0.0434488060936554,
          0.1587900191482303,
          0.0564443580421042,
          0.5092592592592593,
          0.7915895061728395,
          0.0924280870532949,
          0.76875,
          0.034569151395949,
          0.1216219301063514,
          0.0808105090790076,
          0.0346029139622235,
          0.0978667832282004,
          0.232961682854824,
          0.3310891349345313,
          0.8412698412698413,
          0.102540611408567,
          0.0136080772659549,
          1,
          0.9791666666666666,
          1
         ]
        }
       ],
       "layout": {
        "boxmode": "group",
        "font": {
         "color": "Black",
         "family": "sans serif",
         "size": 24
        },
        "height": 1250,
        "legend": {
         "font": {
          "size": 18
         },
         "x": 0,
         "xanchor": "left",
         "y": 1,
         "yanchor": "top"
        },
        "plot_bgcolor": "rgba(0,0,0,0)",
        "template": {
         "data": {
          "bar": [
           {
            "error_x": {
             "color": "#2a3f5f"
            },
            "error_y": {
             "color": "#2a3f5f"
            },
            "marker": {
             "line": {
              "color": "#E5ECF6",
              "width": 0.5
             },
             "pattern": {
              "fillmode": "overlay",
              "size": 10,
              "solidity": 0.2
             }
            },
            "type": "bar"
           }
          ],
          "barpolar": [
           {
            "marker": {
             "line": {
              "color": "#E5ECF6",
              "width": 0.5
             },
             "pattern": {
              "fillmode": "overlay",
              "size": 10,
              "solidity": 0.2
             }
            },
            "type": "barpolar"
           }
          ],
          "carpet": [
           {
            "aaxis": {
             "endlinecolor": "#2a3f5f",
             "gridcolor": "white",
             "linecolor": "white",
             "minorgridcolor": "white",
             "startlinecolor": "#2a3f5f"
            },
            "baxis": {
             "endlinecolor": "#2a3f5f",
             "gridcolor": "white",
             "linecolor": "white",
             "minorgridcolor": "white",
             "startlinecolor": "#2a3f5f"
            },
            "type": "carpet"
           }
          ],
          "choropleth": [
           {
            "colorbar": {
             "outlinewidth": 0,
             "ticks": ""
            },
            "type": "choropleth"
           }
          ],
          "contour": [
           {
            "colorbar": {
             "outlinewidth": 0,
             "ticks": ""
            },
            "colorscale": [
             [
              0,
              "#0d0887"
             ],
             [
              0.1111111111111111,
              "#46039f"
             ],
             [
              0.2222222222222222,
              "#7201a8"
             ],
             [
              0.3333333333333333,
              "#9c179e"
             ],
             [
              0.4444444444444444,
              "#bd3786"
             ],
             [
              0.5555555555555556,
              "#d8576b"
             ],
             [
              0.6666666666666666,
              "#ed7953"
             ],
             [
              0.7777777777777778,
              "#fb9f3a"
             ],
             [
              0.8888888888888888,
              "#fdca26"
             ],
             [
              1,
              "#f0f921"
             ]
            ],
            "type": "contour"
           }
          ],
          "contourcarpet": [
           {
            "colorbar": {
             "outlinewidth": 0,
             "ticks": ""
            },
            "type": "contourcarpet"
           }
          ],
          "heatmap": [
           {
            "colorbar": {
             "outlinewidth": 0,
             "ticks": ""
            },
            "colorscale": [
             [
              0,
              "#0d0887"
             ],
             [
              0.1111111111111111,
              "#46039f"
             ],
             [
              0.2222222222222222,
              "#7201a8"
             ],
             [
              0.3333333333333333,
              "#9c179e"
             ],
             [
              0.4444444444444444,
              "#bd3786"
             ],
             [
              0.5555555555555556,
              "#d8576b"
             ],
             [
              0.6666666666666666,
              "#ed7953"
             ],
             [
              0.7777777777777778,
              "#fb9f3a"
             ],
             [
              0.8888888888888888,
              "#fdca26"
             ],
             [
              1,
              "#f0f921"
             ]
            ],
            "type": "heatmap"
           }
          ],
          "heatmapgl": [
           {
            "colorbar": {
             "outlinewidth": 0,
             "ticks": ""
            },
            "colorscale": [
             [
              0,
              "#0d0887"
             ],
             [
              0.1111111111111111,
              "#46039f"
             ],
             [
              0.2222222222222222,
              "#7201a8"
             ],
             [
              0.3333333333333333,
              "#9c179e"
             ],
             [
              0.4444444444444444,
              "#bd3786"
             ],
             [
              0.5555555555555556,
              "#d8576b"
             ],
             [
              0.6666666666666666,
              "#ed7953"
             ],
             [
              0.7777777777777778,
              "#fb9f3a"
             ],
             [
              0.8888888888888888,
              "#fdca26"
             ],
             [
              1,
              "#f0f921"
             ]
            ],
            "type": "heatmapgl"
           }
          ],
          "histogram": [
           {
            "marker": {
             "pattern": {
              "fillmode": "overlay",
              "size": 10,
              "solidity": 0.2
             }
            },
            "type": "histogram"
           }
          ],
          "histogram2d": [
           {
            "colorbar": {
             "outlinewidth": 0,
             "ticks": ""
            },
            "colorscale": [
             [
              0,
              "#0d0887"
             ],
             [
              0.1111111111111111,
              "#46039f"
             ],
             [
              0.2222222222222222,
              "#7201a8"
             ],
             [
              0.3333333333333333,
              "#9c179e"
             ],
             [
              0.4444444444444444,
              "#bd3786"
             ],
             [
              0.5555555555555556,
              "#d8576b"
             ],
             [
              0.6666666666666666,
              "#ed7953"
             ],
             [
              0.7777777777777778,
              "#fb9f3a"
             ],
             [
              0.8888888888888888,
              "#fdca26"
             ],
             [
              1,
              "#f0f921"
             ]
            ],
            "type": "histogram2d"
           }
          ],
          "histogram2dcontour": [
           {
            "colorbar": {
             "outlinewidth": 0,
             "ticks": ""
            },
            "colorscale": [
             [
              0,
              "#0d0887"
             ],
             [
              0.1111111111111111,
              "#46039f"
             ],
             [
              0.2222222222222222,
              "#7201a8"
             ],
             [
              0.3333333333333333,
              "#9c179e"
             ],
             [
              0.4444444444444444,
              "#bd3786"
             ],
             [
              0.5555555555555556,
              "#d8576b"
             ],
             [
              0.6666666666666666,
              "#ed7953"
             ],
             [
              0.7777777777777778,
              "#fb9f3a"
             ],
             [
              0.8888888888888888,
              "#fdca26"
             ],
             [
              1,
              "#f0f921"
             ]
            ],
            "type": "histogram2dcontour"
           }
          ],
          "mesh3d": [
           {
            "colorbar": {
             "outlinewidth": 0,
             "ticks": ""
            },
            "type": "mesh3d"
           }
          ],
          "parcoords": [
           {
            "line": {
             "colorbar": {
              "outlinewidth": 0,
              "ticks": ""
             }
            },
            "type": "parcoords"
           }
          ],
          "pie": [
           {
            "automargin": true,
            "type": "pie"
           }
          ],
          "scatter": [
           {
            "fillpattern": {
             "fillmode": "overlay",
             "size": 10,
             "solidity": 0.2
            },
            "type": "scatter"
           }
          ],
          "scatter3d": [
           {
            "line": {
             "colorbar": {
              "outlinewidth": 0,
              "ticks": ""
             }
            },
            "marker": {
             "colorbar": {
              "outlinewidth": 0,
              "ticks": ""
             }
            },
            "type": "scatter3d"
           }
          ],
          "scattercarpet": [
           {
            "marker": {
             "colorbar": {
              "outlinewidth": 0,
              "ticks": ""
             }
            },
            "type": "scattercarpet"
           }
          ],
          "scattergeo": [
           {
            "marker": {
             "colorbar": {
              "outlinewidth": 0,
              "ticks": ""
             }
            },
            "type": "scattergeo"
           }
          ],
          "scattergl": [
           {
            "marker": {
             "colorbar": {
              "outlinewidth": 0,
              "ticks": ""
             }
            },
            "type": "scattergl"
           }
          ],
          "scattermapbox": [
           {
            "marker": {
             "colorbar": {
              "outlinewidth": 0,
              "ticks": ""
             }
            },
            "type": "scattermapbox"
           }
          ],
          "scatterpolar": [
           {
            "marker": {
             "colorbar": {
              "outlinewidth": 0,
              "ticks": ""
             }
            },
            "type": "scatterpolar"
           }
          ],
          "scatterpolargl": [
           {
            "marker": {
             "colorbar": {
              "outlinewidth": 0,
              "ticks": ""
             }
            },
            "type": "scatterpolargl"
           }
          ],
          "scatterternary": [
           {
            "marker": {
             "colorbar": {
              "outlinewidth": 0,
              "ticks": ""
             }
            },
            "type": "scatterternary"
           }
          ],
          "surface": [
           {
            "colorbar": {
             "outlinewidth": 0,
             "ticks": ""
            },
            "colorscale": [
             [
              0,
              "#0d0887"
             ],
             [
              0.1111111111111111,
              "#46039f"
             ],
             [
              0.2222222222222222,
              "#7201a8"
             ],
             [
              0.3333333333333333,
              "#9c179e"
             ],
             [
              0.4444444444444444,
              "#bd3786"
             ],
             [
              0.5555555555555556,
              "#d8576b"
             ],
             [
              0.6666666666666666,
              "#ed7953"
             ],
             [
              0.7777777777777778,
              "#fb9f3a"
             ],
             [
              0.8888888888888888,
              "#fdca26"
             ],
             [
              1,
              "#f0f921"
             ]
            ],
            "type": "surface"
           }
          ],
          "table": [
           {
            "cells": {
             "fill": {
              "color": "#EBF0F8"
             },
             "line": {
              "color": "white"
             }
            },
            "header": {
             "fill": {
              "color": "#C8D4E3"
             },
             "line": {
              "color": "white"
             }
            },
            "type": "table"
           }
          ]
         },
         "layout": {
          "annotationdefaults": {
           "arrowcolor": "#2a3f5f",
           "arrowhead": 0,
           "arrowwidth": 1
          },
          "autotypenumbers": "strict",
          "coloraxis": {
           "colorbar": {
            "outlinewidth": 0,
            "ticks": ""
           }
          },
          "colorscale": {
           "diverging": [
            [
             0,
             "#8e0152"
            ],
            [
             0.1,
             "#c51b7d"
            ],
            [
             0.2,
             "#de77ae"
            ],
            [
             0.3,
             "#f1b6da"
            ],
            [
             0.4,
             "#fde0ef"
            ],
            [
             0.5,
             "#f7f7f7"
            ],
            [
             0.6,
             "#e6f5d0"
            ],
            [
             0.7,
             "#b8e186"
            ],
            [
             0.8,
             "#7fbc41"
            ],
            [
             0.9,
             "#4d9221"
            ],
            [
             1,
             "#276419"
            ]
           ],
           "sequential": [
            [
             0,
             "#0d0887"
            ],
            [
             0.1111111111111111,
             "#46039f"
            ],
            [
             0.2222222222222222,
             "#7201a8"
            ],
            [
             0.3333333333333333,
             "#9c179e"
            ],
            [
             0.4444444444444444,
             "#bd3786"
            ],
            [
             0.5555555555555556,
             "#d8576b"
            ],
            [
             0.6666666666666666,
             "#ed7953"
            ],
            [
             0.7777777777777778,
             "#fb9f3a"
            ],
            [
             0.8888888888888888,
             "#fdca26"
            ],
            [
             1,
             "#f0f921"
            ]
           ],
           "sequentialminus": [
            [
             0,
             "#0d0887"
            ],
            [
             0.1111111111111111,
             "#46039f"
            ],
            [
             0.2222222222222222,
             "#7201a8"
            ],
            [
             0.3333333333333333,
             "#9c179e"
            ],
            [
             0.4444444444444444,
             "#bd3786"
            ],
            [
             0.5555555555555556,
             "#d8576b"
            ],
            [
             0.6666666666666666,
             "#ed7953"
            ],
            [
             0.7777777777777778,
             "#fb9f3a"
            ],
            [
             0.8888888888888888,
             "#fdca26"
            ],
            [
             1,
             "#f0f921"
            ]
           ]
          },
          "colorway": [
           "#636efa",
           "#EF553B",
           "#00cc96",
           "#ab63fa",
           "#FFA15A",
           "#19d3f3",
           "#FF6692",
           "#B6E880",
           "#FF97FF",
           "#FECB52"
          ],
          "font": {
           "color": "#2a3f5f"
          },
          "geo": {
           "bgcolor": "white",
           "lakecolor": "white",
           "landcolor": "#E5ECF6",
           "showlakes": true,
           "showland": true,
           "subunitcolor": "white"
          },
          "hoverlabel": {
           "align": "left"
          },
          "hovermode": "closest",
          "mapbox": {
           "style": "light"
          },
          "paper_bgcolor": "white",
          "plot_bgcolor": "#E5ECF6",
          "polar": {
           "angularaxis": {
            "gridcolor": "white",
            "linecolor": "white",
            "ticks": ""
           },
           "bgcolor": "#E5ECF6",
           "radialaxis": {
            "gridcolor": "white",
            "linecolor": "white",
            "ticks": ""
           }
          },
          "scene": {
           "xaxis": {
            "backgroundcolor": "#E5ECF6",
            "gridcolor": "white",
            "gridwidth": 2,
            "linecolor": "white",
            "showbackground": true,
            "ticks": "",
            "zerolinecolor": "white"
           },
           "yaxis": {
            "backgroundcolor": "#E5ECF6",
            "gridcolor": "white",
            "gridwidth": 2,
            "linecolor": "white",
            "showbackground": true,
            "ticks": "",
            "zerolinecolor": "white"
           },
           "zaxis": {
            "backgroundcolor": "#E5ECF6",
            "gridcolor": "white",
            "gridwidth": 2,
            "linecolor": "white",
            "showbackground": true,
            "ticks": "",
            "zerolinecolor": "white"
           }
          },
          "shapedefaults": {
           "line": {
            "color": "#2a3f5f"
           }
          },
          "ternary": {
           "aaxis": {
            "gridcolor": "white",
            "linecolor": "white",
            "ticks": ""
           },
           "baxis": {
            "gridcolor": "white",
            "linecolor": "white",
            "ticks": ""
           },
           "bgcolor": "#E5ECF6",
           "caxis": {
            "gridcolor": "white",
            "linecolor": "white",
            "ticks": ""
           }
          },
          "title": {
           "x": 0.05
          },
          "xaxis": {
           "automargin": true,
           "gridcolor": "white",
           "linecolor": "white",
           "ticks": "",
           "title": {
            "standoff": 15
           },
           "zerolinecolor": "white",
           "zerolinewidth": 2
          },
          "yaxis": {
           "automargin": true,
           "gridcolor": "white",
           "linecolor": "white",
           "ticks": "",
           "title": {
            "standoff": 15
           },
           "zerolinecolor": "white",
           "zerolinewidth": 2
          }
         }
        },
        "width": 2000,
        "xaxis": {
         "categoryorder": "total ascending",
         "linecolor": "black",
         "tickangle": 90
        },
        "yaxis": {
         "linecolor": "black",
         "title": {
          "text": "Mean average precision"
         }
        }
       }
      }
     },
     "metadata": {},
     "output_type": "display_data"
    }
   ],
   "source": [
    "mAP_treatment_plot_colorscheme.update_layout(legend=dict(x=0,y=1,xanchor='left',yanchor='top'))"
   ]
  },
  {
   "cell_type": "code",
   "execution_count": null,
   "metadata": {},
   "outputs": [],
   "source": []
  }
 ],
 "metadata": {
  "kernelspec": {
   "display_name": "copairs",
   "language": "python",
   "name": "python3"
  },
  "language_info": {
   "codemirror_mode": {
    "name": "ipython",
    "version": 3
   },
   "file_extension": ".py",
   "mimetype": "text/x-python",
   "name": "python",
   "nbconvert_exporter": "python",
   "pygments_lexer": "ipython3",
   "version": "3.12.2"
  }
 },
 "nbformat": 4,
 "nbformat_minor": 2
}
