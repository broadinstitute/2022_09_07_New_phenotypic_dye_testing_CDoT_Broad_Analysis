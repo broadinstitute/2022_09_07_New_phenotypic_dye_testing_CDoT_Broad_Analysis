{
 "cells": [
  {
   "cell_type": "code",
   "execution_count": 1,
   "metadata": {},
   "outputs": [
    {
     "name": "stdout",
     "output_type": "stream",
     "text": [
      "Python 3.12.2\n"
     ]
    }
   ],
   "source": [
    "!python --version"
   ]
  },
  {
   "cell_type": "code",
   "execution_count": 2,
   "metadata": {},
   "outputs": [
    {
     "name": "stderr",
     "output_type": "stream",
     "text": [
      "c:\\Users\\ssivagur\\Anaconda3\\envs\\copairs\\Lib\\site-packages\\tqdm\\auto.py:21: TqdmWarning: IProgress not found. Please update jupyter and ipywidgets. See https://ipywidgets.readthedocs.io/en/stable/user_install.html\n",
      "  from .autonotebook import tqdm as notebook_tqdm\n"
     ]
    }
   ],
   "source": [
    "#importing necessary modules \n",
    "import pandas as pd\n",
    "import numpy as np\n",
    "import matplotlib.pyplot as plt\n",
    "from sklearn.decomposition import PCA\n",
    "from sklearn.preprocessing import StandardScaler\n",
    "import plotly.graph_objects as go\n",
    "from plotly.subplots import make_subplots\n",
    "import plotly.express as px\n",
    "import seaborn as sns\n",
    "import copairs\n",
    "import pycytominer\n",
    "from copairs.map import average_precision\n",
    "from copairs.map import mean_average_precision\n",
    "from utils import * \n",
    "\n",
    "%load_ext autoreload\n",
    "%autoreload 2"
   ]
  },
  {
   "cell_type": "code",
   "execution_count": 3,
   "metadata": {},
   "outputs": [
    {
     "name": "stdout",
     "output_type": "stream",
     "text": [
      "Name: copairs\n",
      "Version: 0.4.1\n",
      "Summary: Find pairs and compute metrics between them\n",
      "Home-page: \n",
      "Author: \n",
      "Author-email: John Arevalo <johnarevalo@gmail.com>\n",
      "License: \n",
      "Location: c:\\Users\\ssivagur\\Anaconda3\\envs\\copairs\\Lib\\site-packages\n",
      "Requires: pandas, statsmodels, tqdm\n",
      "Required-by: \n",
      "Note: you may need to restart the kernel to use updated packages.\n"
     ]
    }
   ],
   "source": [
    "pip show copairs"
   ]
  },
  {
   "cell_type": "markdown",
   "metadata": {},
   "source": [
    "#### Reading the dataframes "
   ]
  },
  {
   "cell_type": "code",
   "execution_count": 4,
   "metadata": {},
   "outputs": [],
   "source": [
    "#Reading the normalized and feature selected files for copairs - fixed cells and 48h time point\n",
    "dict_to_load_feature_selected = {'c:\\\\Users\\\\ssivagur\\\\Documents\\\\Projects\\\\Cell_painting_projects\\\\CDoT\\\\Batch3_analysis_redo\\\\UpdatedCopairsVersion\\\\BR00122250_normalized_feature_select_negcon_batch.csv':'Standard CP',\n",
    "                                 'c:\\\\Users\\\\ssivagur\\\\Documents\\\\Projects\\\\Cell_painting_projects\\\\CDoT\\\\Batch3_analysis_redo\\\\UpdatedCopairsVersion\\\\BR00122246_normalized_feature_select_negcon_batch.csv':'CP + MitoBrilliant',\n",
    "                                 'c:\\\\Users\\\\ssivagur\\\\Documents\\\\Projects\\\\Cell_painting_projects\\\\CDoT\\\\Batch3_analysis_redo\\\\UpdatedCopairsVersion\\\\BR00122247_normalized_feature_select_negcon_batch.csv':'CP + Phenovue phalloidin 400LS',\n",
    "                                 'c:\\\\Users\\\\ssivagur\\\\Documents\\\\Projects\\\\Cell_painting_projects\\\\CDoT\\\\Batch3_analysis_redo\\\\UpdatedCopairsVersion\\\\BR00122248_normalized_feature_select_negcon_batch.csv':'Standard CP (exposed to ChromaLive)',\n",
    "                                 'c:\\\\Users\\\\ssivagur\\\\Documents\\\\Projects\\\\Cell_painting_projects\\\\CDoT\\\\Batch3_analysis_redo\\\\UpdatedCopairsVersion\\\\BR00122249_normalized_feature_select_negcon_batch_wo_phasefeatures.csv':'ChromaLive + Hoechst'\n",
    "\n",
    "}\n"
   ]
  },
  {
   "cell_type": "markdown",
   "metadata": {},
   "source": [
    "#### Overall mAP"
   ]
  },
  {
   "cell_type": "code",
   "execution_count": 5,
   "metadata": {},
   "outputs": [
    {
     "name": "stderr",
     "output_type": "stream",
     "text": [
      "c:\\Users\\ssivagur\\Documents\\GitHub\\2022_09_07_New_phenotypic_dye_testing_CDoT_Broad_Analysis\\notebooks\\utils.py:53: FutureWarning: A value is trying to be set on a copy of a DataFrame or Series through chained assignment using an inplace method.\n",
      "The behavior will change in pandas 3.0. This inplace method will never work because the intermediate object on which we are setting values always behaves as a copy.\n",
      "\n",
      "For example, when doing 'df[col].method(value, inplace=True)', try using 'df.method({col: value}, inplace=True)' or df[col] = df[col].method(value) instead, to perform the operation inplace on the original object.\n",
      "\n",
      "\n",
      "  df['Metadata_control_type'].fillna('trt', inplace=True)\n",
      "c:\\Users\\ssivagur\\Documents\\GitHub\\2022_09_07_New_phenotypic_dye_testing_CDoT_Broad_Analysis\\notebooks\\utils.py:54: FutureWarning: A value is trying to be set on a copy of a DataFrame or Series through chained assignment using an inplace method.\n",
      "The behavior will change in pandas 3.0. This inplace method will never work because the intermediate object on which we are setting values always behaves as a copy.\n",
      "\n",
      "For example, when doing 'df[col].method(value, inplace=True)', try using 'df.method({col: value}, inplace=True)' or df[col] = df[col].method(value) instead, to perform the operation inplace on the original object.\n",
      "\n",
      "\n",
      "  df['Metadata_broad_sample'].fillna('control', inplace=True)\n",
      "c:\\Users\\ssivagur\\Documents\\GitHub\\2022_09_07_New_phenotypic_dye_testing_CDoT_Broad_Analysis\\notebooks\\utils.py:53: FutureWarning: A value is trying to be set on a copy of a DataFrame or Series through chained assignment using an inplace method.\n",
      "The behavior will change in pandas 3.0. This inplace method will never work because the intermediate object on which we are setting values always behaves as a copy.\n",
      "\n",
      "For example, when doing 'df[col].method(value, inplace=True)', try using 'df.method({col: value}, inplace=True)' or df[col] = df[col].method(value) instead, to perform the operation inplace on the original object.\n",
      "\n",
      "\n",
      "  df['Metadata_control_type'].fillna('trt', inplace=True)\n",
      "c:\\Users\\ssivagur\\Documents\\GitHub\\2022_09_07_New_phenotypic_dye_testing_CDoT_Broad_Analysis\\notebooks\\utils.py:54: FutureWarning: A value is trying to be set on a copy of a DataFrame or Series through chained assignment using an inplace method.\n",
      "The behavior will change in pandas 3.0. This inplace method will never work because the intermediate object on which we are setting values always behaves as a copy.\n",
      "\n",
      "For example, when doing 'df[col].method(value, inplace=True)', try using 'df.method({col: value}, inplace=True)' or df[col] = df[col].method(value) instead, to perform the operation inplace on the original object.\n",
      "\n",
      "\n",
      "  df['Metadata_broad_sample'].fillna('control', inplace=True)\n",
      "c:\\Users\\ssivagur\\Documents\\GitHub\\2022_09_07_New_phenotypic_dye_testing_CDoT_Broad_Analysis\\notebooks\\utils.py:53: FutureWarning: A value is trying to be set on a copy of a DataFrame or Series through chained assignment using an inplace method.\n",
      "The behavior will change in pandas 3.0. This inplace method will never work because the intermediate object on which we are setting values always behaves as a copy.\n",
      "\n",
      "For example, when doing 'df[col].method(value, inplace=True)', try using 'df.method({col: value}, inplace=True)' or df[col] = df[col].method(value) instead, to perform the operation inplace on the original object.\n",
      "\n",
      "\n",
      "  df['Metadata_control_type'].fillna('trt', inplace=True)\n",
      "c:\\Users\\ssivagur\\Documents\\GitHub\\2022_09_07_New_phenotypic_dye_testing_CDoT_Broad_Analysis\\notebooks\\utils.py:54: FutureWarning: A value is trying to be set on a copy of a DataFrame or Series through chained assignment using an inplace method.\n",
      "The behavior will change in pandas 3.0. This inplace method will never work because the intermediate object on which we are setting values always behaves as a copy.\n",
      "\n",
      "For example, when doing 'df[col].method(value, inplace=True)', try using 'df.method({col: value}, inplace=True)' or df[col] = df[col].method(value) instead, to perform the operation inplace on the original object.\n",
      "\n",
      "\n",
      "  df['Metadata_broad_sample'].fillna('control', inplace=True)\n",
      "c:\\Users\\ssivagur\\Documents\\GitHub\\2022_09_07_New_phenotypic_dye_testing_CDoT_Broad_Analysis\\notebooks\\utils.py:53: FutureWarning: A value is trying to be set on a copy of a DataFrame or Series through chained assignment using an inplace method.\n",
      "The behavior will change in pandas 3.0. This inplace method will never work because the intermediate object on which we are setting values always behaves as a copy.\n",
      "\n",
      "For example, when doing 'df[col].method(value, inplace=True)', try using 'df.method({col: value}, inplace=True)' or df[col] = df[col].method(value) instead, to perform the operation inplace on the original object.\n",
      "\n",
      "\n",
      "  df['Metadata_control_type'].fillna('trt', inplace=True)\n",
      "c:\\Users\\ssivagur\\Documents\\GitHub\\2022_09_07_New_phenotypic_dye_testing_CDoT_Broad_Analysis\\notebooks\\utils.py:54: FutureWarning: A value is trying to be set on a copy of a DataFrame or Series through chained assignment using an inplace method.\n",
      "The behavior will change in pandas 3.0. This inplace method will never work because the intermediate object on which we are setting values always behaves as a copy.\n",
      "\n",
      "For example, when doing 'df[col].method(value, inplace=True)', try using 'df.method({col: value}, inplace=True)' or df[col] = df[col].method(value) instead, to perform the operation inplace on the original object.\n",
      "\n",
      "\n",
      "  df['Metadata_broad_sample'].fillna('control', inplace=True)\n",
      "c:\\Users\\ssivagur\\Documents\\GitHub\\2022_09_07_New_phenotypic_dye_testing_CDoT_Broad_Analysis\\notebooks\\utils.py:53: FutureWarning: A value is trying to be set on a copy of a DataFrame or Series through chained assignment using an inplace method.\n",
      "The behavior will change in pandas 3.0. This inplace method will never work because the intermediate object on which we are setting values always behaves as a copy.\n",
      "\n",
      "For example, when doing 'df[col].method(value, inplace=True)', try using 'df.method({col: value}, inplace=True)' or df[col] = df[col].method(value) instead, to perform the operation inplace on the original object.\n",
      "\n",
      "\n",
      "  df['Metadata_control_type'].fillna('trt', inplace=True)\n",
      "c:\\Users\\ssivagur\\Documents\\GitHub\\2022_09_07_New_phenotypic_dye_testing_CDoT_Broad_Analysis\\notebooks\\utils.py:54: FutureWarning: A value is trying to be set on a copy of a DataFrame or Series through chained assignment using an inplace method.\n",
      "The behavior will change in pandas 3.0. This inplace method will never work because the intermediate object on which we are setting values always behaves as a copy.\n",
      "\n",
      "For example, when doing 'df[col].method(value, inplace=True)', try using 'df.method({col: value}, inplace=True)' or df[col] = df[col].method(value) instead, to perform the operation inplace on the original object.\n",
      "\n",
      "\n",
      "  df['Metadata_broad_sample'].fillna('control', inplace=True)\n",
      "                                             \r"
     ]
    },
    {
     "data": {
      "application/vnd.plotly.v1+json": {
       "config": {
        "plotlyServerURL": "https://plot.ly"
       },
       "data": [
        {
         "alignmentgroup": "True",
         "box": {
          "visible": true
         },
         "hovertemplate": "color=ChromaLive + Hoechst<br>x=%{x}<br>y=%{y}<extra></extra>",
         "legendgroup": "ChromaLive + Hoechst",
         "marker": {
          "color": "#cc78bc"
         },
         "name": "ChromaLive + Hoechst",
         "offsetgroup": "ChromaLive + Hoechst",
         "orientation": "h",
         "points": "all",
         "scalegroup": "True",
         "showlegend": true,
         "type": "violin",
         "width": 0.5,
         "x": [
          0.038398695538574015,
          0.17740418581790918,
          0.022428202322596433,
          0.4558580014195001,
          0.2431682002984587,
          0.07373275061002289,
          1,
          0.6218253968253968,
          0.6841463285129037,
          0.031542714484948664,
          0.03584981946822626,
          0.3820139724067746,
          0.5901484674329501,
          0.06420472981141438,
          0.48251404096992334,
          0.016743033075479266,
          0.6583026425980711,
          0.17332175003672762,
          0.2740009402760479,
          0.014818760756942852,
          0.8233974358974359,
          0.18674372010996354,
          0.5007748988912065,
          0.6416005291005291,
          0.4922165063483849,
          1,
          0.7185019841269842,
          0.432972820105173,
          0.08037216136855192,
          0.29926121384832816,
          0.02630230518332631,
          0.2685810475054661,
          0.013877560961711681,
          0.6058661145617668,
          1,
          0.06424801771957027,
          0.4984652954633052,
          0.4620797720797721,
          0.9027777777777777,
          0.9523809523809524,
          0.25631014499401494,
          0.4113821930775433,
          0.18868149945999485,
          0.13304263725836812,
          0.682936507936508,
          0.5510954070308213,
          0.5851869965753813,
          0.08438827136932814,
          0.8263888888888888,
          0.23432191590086326,
          0.48406167770138353,
          0.1569754253624423,
          0.05954528260843543,
          0.35587680450485326,
          0.3710494894598155,
          0.13915268088469643,
          0.23174316518048563,
          0.41595762164406896,
          0.15852935420058514,
          0.25882790128314426,
          0.3696216563827083,
          0.2581626600304761,
          1,
          0.22069211504595898,
          0.2480417274377241,
          0.15338787539558518,
          0.018876129615369212,
          0.7513888888888889,
          0.1807856767415591,
          0.10050302426178365,
          0.052499140004079035,
          0.16784797122236367,
          0.05845825933265525,
          0.5095602813242407,
          0.7915895061728395,
          0.10329991572147233,
          0.76875,
          0.04030812285282271,
          0.1272831172047267,
          0.0830733208082303,
          0.03979434185833008,
          0.10430737329088989,
          0.23355226722327213,
          0.331617807634722,
          0.8412698412698413,
          0.10524594060511858,
          0.015180622917531984,
          1,
          0.9791666666666666,
          1
         ],
         "x0": " ",
         "xaxis": "x",
         "y": [
          "ChromaLive + Hoechst",
          "ChromaLive + Hoechst",
          "ChromaLive + Hoechst",
          "ChromaLive + Hoechst",
          "ChromaLive + Hoechst",
          "ChromaLive + Hoechst",
          "ChromaLive + Hoechst",
          "ChromaLive + Hoechst",
          "ChromaLive + Hoechst",
          "ChromaLive + Hoechst",
          "ChromaLive + Hoechst",
          "ChromaLive + Hoechst",
          "ChromaLive + Hoechst",
          "ChromaLive + Hoechst",
          "ChromaLive + Hoechst",
          "ChromaLive + Hoechst",
          "ChromaLive + Hoechst",
          "ChromaLive + Hoechst",
          "ChromaLive + Hoechst",
          "ChromaLive + Hoechst",
          "ChromaLive + Hoechst",
          "ChromaLive + Hoechst",
          "ChromaLive + Hoechst",
          "ChromaLive + Hoechst",
          "ChromaLive + Hoechst",
          "ChromaLive + Hoechst",
          "ChromaLive + Hoechst",
          "ChromaLive + Hoechst",
          "ChromaLive + Hoechst",
          "ChromaLive + Hoechst",
          "ChromaLive + Hoechst",
          "ChromaLive + Hoechst",
          "ChromaLive + Hoechst",
          "ChromaLive + Hoechst",
          "ChromaLive + Hoechst",
          "ChromaLive + Hoechst",
          "ChromaLive + Hoechst",
          "ChromaLive + Hoechst",
          "ChromaLive + Hoechst",
          "ChromaLive + Hoechst",
          "ChromaLive + Hoechst",
          "ChromaLive + Hoechst",
          "ChromaLive + Hoechst",
          "ChromaLive + Hoechst",
          "ChromaLive + Hoechst",
          "ChromaLive + Hoechst",
          "ChromaLive + Hoechst",
          "ChromaLive + Hoechst",
          "ChromaLive + Hoechst",
          "ChromaLive + Hoechst",
          "ChromaLive + Hoechst",
          "ChromaLive + Hoechst",
          "ChromaLive + Hoechst",
          "ChromaLive + Hoechst",
          "ChromaLive + Hoechst",
          "ChromaLive + Hoechst",
          "ChromaLive + Hoechst",
          "ChromaLive + Hoechst",
          "ChromaLive + Hoechst",
          "ChromaLive + Hoechst",
          "ChromaLive + Hoechst",
          "ChromaLive + Hoechst",
          "ChromaLive + Hoechst",
          "ChromaLive + Hoechst",
          "ChromaLive + Hoechst",
          "ChromaLive + Hoechst",
          "ChromaLive + Hoechst",
          "ChromaLive + Hoechst",
          "ChromaLive + Hoechst",
          "ChromaLive + Hoechst",
          "ChromaLive + Hoechst",
          "ChromaLive + Hoechst",
          "ChromaLive + Hoechst",
          "ChromaLive + Hoechst",
          "ChromaLive + Hoechst",
          "ChromaLive + Hoechst",
          "ChromaLive + Hoechst",
          "ChromaLive + Hoechst",
          "ChromaLive + Hoechst",
          "ChromaLive + Hoechst",
          "ChromaLive + Hoechst",
          "ChromaLive + Hoechst",
          "ChromaLive + Hoechst",
          "ChromaLive + Hoechst",
          "ChromaLive + Hoechst",
          "ChromaLive + Hoechst",
          "ChromaLive + Hoechst",
          "ChromaLive + Hoechst",
          "ChromaLive + Hoechst",
          "ChromaLive + Hoechst"
         ],
         "y0": " ",
         "yaxis": "y"
        },
        {
         "alignmentgroup": "True",
         "box": {
          "visible": true
         },
         "hovertemplate": "color=Standard CP (exposed to ChromaLive)<br>x=%{x}<br>y=%{y}<extra></extra>",
         "legendgroup": "Standard CP (exposed to ChromaLive)",
         "marker": {
          "color": "#d55e00"
         },
         "name": "Standard CP (exposed to ChromaLive)",
         "offsetgroup": "Standard CP (exposed to ChromaLive)",
         "orientation": "h",
         "points": "all",
         "scalegroup": "True",
         "showlegend": true,
         "type": "violin",
         "width": 0.5,
         "x": [
          0.028842311460832618,
          0.010496990439209573,
          0.027745843912776146,
          0.16528183145830205,
          0.10019468578339732,
          0.031732052084506523,
          1,
          0.483008658008658,
          0.9666666666666667,
          0.019587878889861878,
          0.02831996049686089,
          1,
          1,
          0.011389426922266044,
          0.5903769841269841,
          0.022256508830947583,
          0.8468253968253968,
          0.015303220571489988,
          0.2420070396376544,
          0.017918391610328,
          1,
          0.24091790640250205,
          0.9791666666666666,
          1,
          0.060490820308886764,
          1,
          0.06781774108538399,
          0.0451909259752654,
          0.03806646016761592,
          0.020882539264351463,
          0.10400781627224523,
          0.23964922401263078,
          0.00826054609887462,
          0.6747685185185186,
          1,
          0.42995423608039707,
          0.4394112695583284,
          0.7027777777777778,
          0.1961503255194022,
          1,
          0.7298245614035088,
          0.5493676412154672,
          0.2051908077997371,
          0.018610313916719884,
          0.9097222222222222,
          0.33064835396906495,
          1,
          0.6961309523809524,
          0.5567614023112087,
          0.9458333333333333,
          0.6228397267955776,
          0.27685329270042813,
          0.00868237094369165,
          0.46767178362573103,
          0.7444444444444445,
          0.029279349542866782,
          0.7268939393939393,
          0.044165978161577385,
          0.01681041876587685,
          0.9513888888888888,
          0.3040060152845412,
          0.5489087301587301,
          0.9107142857142858,
          1,
          0.46665140415140416,
          0.30320238037629343,
          0.019352673840917843,
          0.6519287704632533,
          0.15755141633871084,
          0.05365852900203222,
          0.013759703440687497,
          0.06735112540922569,
          0.23921374492258532,
          0.5131544639432165,
          0.4752870179754186,
          0.01331307843678436,
          1,
          0.12160621058054238,
          0.5965253581107239,
          0.47897737829803044,
          0.09752910332179295,
          0.2163750209750927,
          0.6685910954938814,
          0.6405753968253969,
          0.9791666666666666,
          0.06334358718921318,
          0.027395042653164538,
          1,
          0.15314585282646903,
          0.3900526556776557
         ],
         "x0": " ",
         "xaxis": "x",
         "y": [
          "Standard CP (exposed to ChromaLive)",
          "Standard CP (exposed to ChromaLive)",
          "Standard CP (exposed to ChromaLive)",
          "Standard CP (exposed to ChromaLive)",
          "Standard CP (exposed to ChromaLive)",
          "Standard CP (exposed to ChromaLive)",
          "Standard CP (exposed to ChromaLive)",
          "Standard CP (exposed to ChromaLive)",
          "Standard CP (exposed to ChromaLive)",
          "Standard CP (exposed to ChromaLive)",
          "Standard CP (exposed to ChromaLive)",
          "Standard CP (exposed to ChromaLive)",
          "Standard CP (exposed to ChromaLive)",
          "Standard CP (exposed to ChromaLive)",
          "Standard CP (exposed to ChromaLive)",
          "Standard CP (exposed to ChromaLive)",
          "Standard CP (exposed to ChromaLive)",
          "Standard CP (exposed to ChromaLive)",
          "Standard CP (exposed to ChromaLive)",
          "Standard CP (exposed to ChromaLive)",
          "Standard CP (exposed to ChromaLive)",
          "Standard CP (exposed to ChromaLive)",
          "Standard CP (exposed to ChromaLive)",
          "Standard CP (exposed to ChromaLive)",
          "Standard CP (exposed to ChromaLive)",
          "Standard CP (exposed to ChromaLive)",
          "Standard CP (exposed to ChromaLive)",
          "Standard CP (exposed to ChromaLive)",
          "Standard CP (exposed to ChromaLive)",
          "Standard CP (exposed to ChromaLive)",
          "Standard CP (exposed to ChromaLive)",
          "Standard CP (exposed to ChromaLive)",
          "Standard CP (exposed to ChromaLive)",
          "Standard CP (exposed to ChromaLive)",
          "Standard CP (exposed to ChromaLive)",
          "Standard CP (exposed to ChromaLive)",
          "Standard CP (exposed to ChromaLive)",
          "Standard CP (exposed to ChromaLive)",
          "Standard CP (exposed to ChromaLive)",
          "Standard CP (exposed to ChromaLive)",
          "Standard CP (exposed to ChromaLive)",
          "Standard CP (exposed to ChromaLive)",
          "Standard CP (exposed to ChromaLive)",
          "Standard CP (exposed to ChromaLive)",
          "Standard CP (exposed to ChromaLive)",
          "Standard CP (exposed to ChromaLive)",
          "Standard CP (exposed to ChromaLive)",
          "Standard CP (exposed to ChromaLive)",
          "Standard CP (exposed to ChromaLive)",
          "Standard CP (exposed to ChromaLive)",
          "Standard CP (exposed to ChromaLive)",
          "Standard CP (exposed to ChromaLive)",
          "Standard CP (exposed to ChromaLive)",
          "Standard CP (exposed to ChromaLive)",
          "Standard CP (exposed to ChromaLive)",
          "Standard CP (exposed to ChromaLive)",
          "Standard CP (exposed to ChromaLive)",
          "Standard CP (exposed to ChromaLive)",
          "Standard CP (exposed to ChromaLive)",
          "Standard CP (exposed to ChromaLive)",
          "Standard CP (exposed to ChromaLive)",
          "Standard CP (exposed to ChromaLive)",
          "Standard CP (exposed to ChromaLive)",
          "Standard CP (exposed to ChromaLive)",
          "Standard CP (exposed to ChromaLive)",
          "Standard CP (exposed to ChromaLive)",
          "Standard CP (exposed to ChromaLive)",
          "Standard CP (exposed to ChromaLive)",
          "Standard CP (exposed to ChromaLive)",
          "Standard CP (exposed to ChromaLive)",
          "Standard CP (exposed to ChromaLive)",
          "Standard CP (exposed to ChromaLive)",
          "Standard CP (exposed to ChromaLive)",
          "Standard CP (exposed to ChromaLive)",
          "Standard CP (exposed to ChromaLive)",
          "Standard CP (exposed to ChromaLive)",
          "Standard CP (exposed to ChromaLive)",
          "Standard CP (exposed to ChromaLive)",
          "Standard CP (exposed to ChromaLive)",
          "Standard CP (exposed to ChromaLive)",
          "Standard CP (exposed to ChromaLive)",
          "Standard CP (exposed to ChromaLive)",
          "Standard CP (exposed to ChromaLive)",
          "Standard CP (exposed to ChromaLive)",
          "Standard CP (exposed to ChromaLive)",
          "Standard CP (exposed to ChromaLive)",
          "Standard CP (exposed to ChromaLive)",
          "Standard CP (exposed to ChromaLive)",
          "Standard CP (exposed to ChromaLive)",
          "Standard CP (exposed to ChromaLive)"
         ],
         "y0": " ",
         "yaxis": "y"
        },
        {
         "alignmentgroup": "True",
         "box": {
          "visible": true
         },
         "hovertemplate": "color=CP + Phenovue phalloidin 400LS<br>x=%{x}<br>y=%{y}<extra></extra>",
         "legendgroup": "CP + Phenovue phalloidin 400LS",
         "marker": {
          "color": "#029e73"
         },
         "name": "CP + Phenovue phalloidin 400LS",
         "offsetgroup": "CP + Phenovue phalloidin 400LS",
         "orientation": "h",
         "points": "all",
         "scalegroup": "True",
         "showlegend": true,
         "type": "violin",
         "width": 0.5,
         "x": [
          0.11123772815128267,
          0.010965474179758045,
          0.12212315503303109,
          0.09196392205951147,
          0.046515945598244575,
          0.0354565709463584,
          1,
          0.7405753968253969,
          0.6870879120879121,
          0.01878827831620809,
          0.011239871284072675,
          1,
          0.8694444444444445,
          0.030150878805926304,
          0.6296642092278282,
          0.020182218513662156,
          1,
          0.02456370159385761,
          0.6898656898656899,
          0.010779116821417939,
          1,
          0.29158727979409066,
          1,
          0.9583333333333334,
          0.04448108355996827,
          0.5790053960180563,
          0.13613087896332657,
          0.028847665271016943,
          0.01748716510398551,
          0.012971496055416351,
          0.012083976425491747,
          0.16700261438626965,
          0.009642045835361865,
          0.8669642857142857,
          1,
          0.031574066067913104,
          0.790909090909091,
          0.5147837066315327,
          0.10542550677531504,
          0.834090909090909,
          0.9791666666666666,
          0.4595219017094017,
          0.11636634608227163,
          0.03085602163246435,
          0.7041666666666666,
          0.9583333333333334,
          0.2617092042910354,
          0.9791666666666666,
          0.7038392857142857,
          0.5387896825396825,
          0.8396915584415584,
          0.33953265649694225,
          0.008633886662175183,
          0.480106964384305,
          0.4640505328005328,
          0.022545188931629736,
          0.5644890410515411,
          0.022724507495354596,
          0.1904324197052552,
          1,
          0.8888888888888888,
          0.4832902001380262,
          0.5264890304412363,
          0.7786630036630037,
          0.4536352657004831,
          0.1617616659187257,
          0.01689985782570721,
          0.5600560897435898,
          0.1444461118846186,
          0.029395548149005246,
          0.2513746879129173,
          0.1450295844577917,
          0.5446661998132586,
          1,
          1,
          0.020747202947766646,
          0.6679197994987469,
          0.016348907415945184,
          0.7873093681917211,
          0.6117723842018197,
          0.1799989628926765,
          0.10438516546930557,
          0.4906500226145805,
          1,
          1,
          0.42261904761904756,
          0.06823566325595849,
          0.9208333333333333,
          0.2679947084742481,
          0.4835733153334221
         ],
         "x0": " ",
         "xaxis": "x",
         "y": [
          "CP + Phenovue phalloidin 400LS",
          "CP + Phenovue phalloidin 400LS",
          "CP + Phenovue phalloidin 400LS",
          "CP + Phenovue phalloidin 400LS",
          "CP + Phenovue phalloidin 400LS",
          "CP + Phenovue phalloidin 400LS",
          "CP + Phenovue phalloidin 400LS",
          "CP + Phenovue phalloidin 400LS",
          "CP + Phenovue phalloidin 400LS",
          "CP + Phenovue phalloidin 400LS",
          "CP + Phenovue phalloidin 400LS",
          "CP + Phenovue phalloidin 400LS",
          "CP + Phenovue phalloidin 400LS",
          "CP + Phenovue phalloidin 400LS",
          "CP + Phenovue phalloidin 400LS",
          "CP + Phenovue phalloidin 400LS",
          "CP + Phenovue phalloidin 400LS",
          "CP + Phenovue phalloidin 400LS",
          "CP + Phenovue phalloidin 400LS",
          "CP + Phenovue phalloidin 400LS",
          "CP + Phenovue phalloidin 400LS",
          "CP + Phenovue phalloidin 400LS",
          "CP + Phenovue phalloidin 400LS",
          "CP + Phenovue phalloidin 400LS",
          "CP + Phenovue phalloidin 400LS",
          "CP + Phenovue phalloidin 400LS",
          "CP + Phenovue phalloidin 400LS",
          "CP + Phenovue phalloidin 400LS",
          "CP + Phenovue phalloidin 400LS",
          "CP + Phenovue phalloidin 400LS",
          "CP + Phenovue phalloidin 400LS",
          "CP + Phenovue phalloidin 400LS",
          "CP + Phenovue phalloidin 400LS",
          "CP + Phenovue phalloidin 400LS",
          "CP + Phenovue phalloidin 400LS",
          "CP + Phenovue phalloidin 400LS",
          "CP + Phenovue phalloidin 400LS",
          "CP + Phenovue phalloidin 400LS",
          "CP + Phenovue phalloidin 400LS",
          "CP + Phenovue phalloidin 400LS",
          "CP + Phenovue phalloidin 400LS",
          "CP + Phenovue phalloidin 400LS",
          "CP + Phenovue phalloidin 400LS",
          "CP + Phenovue phalloidin 400LS",
          "CP + Phenovue phalloidin 400LS",
          "CP + Phenovue phalloidin 400LS",
          "CP + Phenovue phalloidin 400LS",
          "CP + Phenovue phalloidin 400LS",
          "CP + Phenovue phalloidin 400LS",
          "CP + Phenovue phalloidin 400LS",
          "CP + Phenovue phalloidin 400LS",
          "CP + Phenovue phalloidin 400LS",
          "CP + Phenovue phalloidin 400LS",
          "CP + Phenovue phalloidin 400LS",
          "CP + Phenovue phalloidin 400LS",
          "CP + Phenovue phalloidin 400LS",
          "CP + Phenovue phalloidin 400LS",
          "CP + Phenovue phalloidin 400LS",
          "CP + Phenovue phalloidin 400LS",
          "CP + Phenovue phalloidin 400LS",
          "CP + Phenovue phalloidin 400LS",
          "CP + Phenovue phalloidin 400LS",
          "CP + Phenovue phalloidin 400LS",
          "CP + Phenovue phalloidin 400LS",
          "CP + Phenovue phalloidin 400LS",
          "CP + Phenovue phalloidin 400LS",
          "CP + Phenovue phalloidin 400LS",
          "CP + Phenovue phalloidin 400LS",
          "CP + Phenovue phalloidin 400LS",
          "CP + Phenovue phalloidin 400LS",
          "CP + Phenovue phalloidin 400LS",
          "CP + Phenovue phalloidin 400LS",
          "CP + Phenovue phalloidin 400LS",
          "CP + Phenovue phalloidin 400LS",
          "CP + Phenovue phalloidin 400LS",
          "CP + Phenovue phalloidin 400LS",
          "CP + Phenovue phalloidin 400LS",
          "CP + Phenovue phalloidin 400LS",
          "CP + Phenovue phalloidin 400LS",
          "CP + Phenovue phalloidin 400LS",
          "CP + Phenovue phalloidin 400LS",
          "CP + Phenovue phalloidin 400LS",
          "CP + Phenovue phalloidin 400LS",
          "CP + Phenovue phalloidin 400LS",
          "CP + Phenovue phalloidin 400LS",
          "CP + Phenovue phalloidin 400LS",
          "CP + Phenovue phalloidin 400LS",
          "CP + Phenovue phalloidin 400LS",
          "CP + Phenovue phalloidin 400LS",
          "CP + Phenovue phalloidin 400LS"
         ],
         "y0": " ",
         "yaxis": "y"
        },
        {
         "alignmentgroup": "True",
         "box": {
          "visible": true
         },
         "hovertemplate": "color=CP + MitoBrilliant<br>x=%{x}<br>y=%{y}<extra></extra>",
         "legendgroup": "CP + MitoBrilliant",
         "marker": {
          "color": "#de8f05"
         },
         "name": "CP + MitoBrilliant",
         "offsetgroup": "CP + MitoBrilliant",
         "orientation": "h",
         "points": "all",
         "scalegroup": "True",
         "showlegend": true,
         "type": "violin",
         "width": 0.5,
         "x": [
          0.016540143149460666,
          0.016619685947390557,
          0.11213564801334294,
          0.14438900937482255,
          0.17637015906737907,
          0.035723836577834595,
          0.34917105310985275,
          1,
          0.6309523809523809,
          0.06620805633327506,
          0.012483838508793478,
          0.8143601190476191,
          1,
          0.010929322398531813,
          0.6732982295482296,
          0.01958668359305386,
          1,
          0.028034633804500667,
          0.9791666666666666,
          0.023450084474070654,
          0.9666666666666667,
          0.23761003641063613,
          1,
          0.3003147790555369,
          0.021948221564551448,
          0.5264509718129778,
          0.01383081474891893,
          0.12850745372918643,
          0.010228789839216462,
          0.013059785281486904,
          0.026590555725110872,
          0.5367428465254552,
          0.016513808588653128,
          0.7360679779158039,
          0.7676188334083072,
          0.3456271329433094,
          1,
          0.4646825396825397,
          0.15280540537893478,
          0.7620967741935484,
          0.8621031746031746,
          0.36955044668380194,
          0.21251724309451783,
          0.012527630568748374,
          0.5149294780599707,
          0.763336825703847,
          0.9083333333333333,
          0.5408081501831502,
          1,
          0.7951388888888888,
          0.9791666666666666,
          0.27691996680112135,
          0.013932766360980054,
          0.4435066077713137,
          0.8491161616161615,
          0.02933155906468346,
          1,
          0.00811444758983813,
          0.08559781078221787,
          0.7694940476190476,
          0.30878840759864856,
          0.6167748917748918,
          0.6017524142524142,
          0.5264590665325959,
          0.4525146052434785,
          0.37254004576659033,
          0.022387352304937956,
          0.8958333333333333,
          0.16731058256763098,
          0.01461655860479498,
          0.01976378806229788,
          0.07582358314116588,
          0.776984126984127,
          1,
          0.7742456896551724,
          0.016405187175249268,
          0.6907738095238095,
          0.030963133887519482,
          0.7026587809036657,
          0.24329850433682731,
          0.2052237717417319,
          0.2509404094930411,
          0.5976172247911378,
          1,
          1,
          0.1682552018856305,
          0.029848445312124185,
          0.6898358585858586,
          0.5660426731078905,
          0.7324342324342324
         ],
         "x0": " ",
         "xaxis": "x",
         "y": [
          "CP + MitoBrilliant",
          "CP + MitoBrilliant",
          "CP + MitoBrilliant",
          "CP + MitoBrilliant",
          "CP + MitoBrilliant",
          "CP + MitoBrilliant",
          "CP + MitoBrilliant",
          "CP + MitoBrilliant",
          "CP + MitoBrilliant",
          "CP + MitoBrilliant",
          "CP + MitoBrilliant",
          "CP + MitoBrilliant",
          "CP + MitoBrilliant",
          "CP + MitoBrilliant",
          "CP + MitoBrilliant",
          "CP + MitoBrilliant",
          "CP + MitoBrilliant",
          "CP + MitoBrilliant",
          "CP + MitoBrilliant",
          "CP + MitoBrilliant",
          "CP + MitoBrilliant",
          "CP + MitoBrilliant",
          "CP + MitoBrilliant",
          "CP + MitoBrilliant",
          "CP + MitoBrilliant",
          "CP + MitoBrilliant",
          "CP + MitoBrilliant",
          "CP + MitoBrilliant",
          "CP + MitoBrilliant",
          "CP + MitoBrilliant",
          "CP + MitoBrilliant",
          "CP + MitoBrilliant",
          "CP + MitoBrilliant",
          "CP + MitoBrilliant",
          "CP + MitoBrilliant",
          "CP + MitoBrilliant",
          "CP + MitoBrilliant",
          "CP + MitoBrilliant",
          "CP + MitoBrilliant",
          "CP + MitoBrilliant",
          "CP + MitoBrilliant",
          "CP + MitoBrilliant",
          "CP + MitoBrilliant",
          "CP + MitoBrilliant",
          "CP + MitoBrilliant",
          "CP + MitoBrilliant",
          "CP + MitoBrilliant",
          "CP + MitoBrilliant",
          "CP + MitoBrilliant",
          "CP + MitoBrilliant",
          "CP + MitoBrilliant",
          "CP + MitoBrilliant",
          "CP + MitoBrilliant",
          "CP + MitoBrilliant",
          "CP + MitoBrilliant",
          "CP + MitoBrilliant",
          "CP + MitoBrilliant",
          "CP + MitoBrilliant",
          "CP + MitoBrilliant",
          "CP + MitoBrilliant",
          "CP + MitoBrilliant",
          "CP + MitoBrilliant",
          "CP + MitoBrilliant",
          "CP + MitoBrilliant",
          "CP + MitoBrilliant",
          "CP + MitoBrilliant",
          "CP + MitoBrilliant",
          "CP + MitoBrilliant",
          "CP + MitoBrilliant",
          "CP + MitoBrilliant",
          "CP + MitoBrilliant",
          "CP + MitoBrilliant",
          "CP + MitoBrilliant",
          "CP + MitoBrilliant",
          "CP + MitoBrilliant",
          "CP + MitoBrilliant",
          "CP + MitoBrilliant",
          "CP + MitoBrilliant",
          "CP + MitoBrilliant",
          "CP + MitoBrilliant",
          "CP + MitoBrilliant",
          "CP + MitoBrilliant",
          "CP + MitoBrilliant",
          "CP + MitoBrilliant",
          "CP + MitoBrilliant",
          "CP + MitoBrilliant",
          "CP + MitoBrilliant",
          "CP + MitoBrilliant",
          "CP + MitoBrilliant",
          "CP + MitoBrilliant"
         ],
         "y0": " ",
         "yaxis": "y"
        },
        {
         "alignmentgroup": "True",
         "box": {
          "visible": true
         },
         "hovertemplate": "color=Standard CP<br>x=%{x}<br>y=%{y}<extra></extra>",
         "legendgroup": "Standard CP",
         "marker": {
          "color": "#0173b2"
         },
         "name": "Standard CP",
         "offsetgroup": "Standard CP",
         "orientation": "h",
         "points": "all",
         "scalegroup": "True",
         "showlegend": true,
         "type": "violin",
         "width": 0.5,
         "x": [
          0.07519076301451896,
          0.023380100702719408,
          0.04335790173665598,
          0.12538760159883539,
          0.17381681963071233,
          0.02116950681861329,
          0.44375092120475157,
          1,
          0.6974747474747475,
          0.01549307370158089,
          0.023843185011386513,
          1,
          1,
          0.026898132645772878,
          0.2518778312022093,
          0.12361650816039471,
          1,
          0.13650859280964417,
          1,
          0.048413890874897655,
          1,
          0.1992880588881083,
          0.8752976190476192,
          1,
          0.01009179902202096,
          0.9027777777777778,
          0.011076256596527806,
          0.06556999535503481,
          0.10483456447430134,
          0.014719105629262779,
          0.01166387646799503,
          0.33018687213602466,
          0.04502843214836802,
          1,
          0.6197956684237172,
          0.09716566318289455,
          0.8824404761904762,
          0.861111111111111,
          0.18823160518611953,
          0.525020664946182,
          0.9305555555555556,
          0.48524110337977716,
          0.17629299677142513,
          0.01757868474301605,
          0.5149426842442,
          1,
          0.20371676579216147,
          0.6494021851164709,
          1,
          0.44938065731122045,
          0.5134242212230108,
          0.4884690845217161,
          0.008033299961471705,
          0.6329365079365079,
          0.7826388888888889,
          0.12989442863392442,
          0.9791666666666666,
          0.03104745144370559,
          0.015639374058551467,
          1,
          0.7093142968142968,
          0.6779100529100529,
          0.856060606060606,
          0.48897727272727276,
          0.2138536977809366,
          0.22481322948305044,
          0.015407952152346756,
          0.8523809523809525,
          0.05650171432050061,
          0.018174766310368375,
          0.1291173127966729,
          0.0394905434933731,
          0.9375,
          1,
          1,
          0.015019340767791805,
          0.6476907230196705,
          0.19651265921578084,
          0.39722642028387584,
          0.3396643842722274,
          0.28621362024472075,
          0.11867319526136191,
          0.9666666666666667,
          0.4227250258428748,
          0.7980158730158731,
          0.026320019243343398,
          0.17849455543512466,
          0.8409455128205128,
          0.3839489267989467,
          0.6168650793650794
         ],
         "x0": " ",
         "xaxis": "x",
         "y": [
          "Standard CP",
          "Standard CP",
          "Standard CP",
          "Standard CP",
          "Standard CP",
          "Standard CP",
          "Standard CP",
          "Standard CP",
          "Standard CP",
          "Standard CP",
          "Standard CP",
          "Standard CP",
          "Standard CP",
          "Standard CP",
          "Standard CP",
          "Standard CP",
          "Standard CP",
          "Standard CP",
          "Standard CP",
          "Standard CP",
          "Standard CP",
          "Standard CP",
          "Standard CP",
          "Standard CP",
          "Standard CP",
          "Standard CP",
          "Standard CP",
          "Standard CP",
          "Standard CP",
          "Standard CP",
          "Standard CP",
          "Standard CP",
          "Standard CP",
          "Standard CP",
          "Standard CP",
          "Standard CP",
          "Standard CP",
          "Standard CP",
          "Standard CP",
          "Standard CP",
          "Standard CP",
          "Standard CP",
          "Standard CP",
          "Standard CP",
          "Standard CP",
          "Standard CP",
          "Standard CP",
          "Standard CP",
          "Standard CP",
          "Standard CP",
          "Standard CP",
          "Standard CP",
          "Standard CP",
          "Standard CP",
          "Standard CP",
          "Standard CP",
          "Standard CP",
          "Standard CP",
          "Standard CP",
          "Standard CP",
          "Standard CP",
          "Standard CP",
          "Standard CP",
          "Standard CP",
          "Standard CP",
          "Standard CP",
          "Standard CP",
          "Standard CP",
          "Standard CP",
          "Standard CP",
          "Standard CP",
          "Standard CP",
          "Standard CP",
          "Standard CP",
          "Standard CP",
          "Standard CP",
          "Standard CP",
          "Standard CP",
          "Standard CP",
          "Standard CP",
          "Standard CP",
          "Standard CP",
          "Standard CP",
          "Standard CP",
          "Standard CP",
          "Standard CP",
          "Standard CP",
          "Standard CP",
          "Standard CP",
          "Standard CP"
         ],
         "y0": " ",
         "yaxis": "y"
        }
       ],
       "layout": {
        "font": {
         "color": "black",
         "family": "sans serif",
         "size": 95
        },
        "height": 2500,
        "legend": {
         "title": {
          "text": "color"
         },
         "tracegroupgap": 0
        },
        "margin": {
         "t": 60
        },
        "plot_bgcolor": "rgba(0,0,0,0)",
        "showlegend": false,
        "template": {
         "data": {
          "bar": [
           {
            "error_x": {
             "color": "#2a3f5f"
            },
            "error_y": {
             "color": "#2a3f5f"
            },
            "marker": {
             "line": {
              "color": "#E5ECF6",
              "width": 0.5
             },
             "pattern": {
              "fillmode": "overlay",
              "size": 10,
              "solidity": 0.2
             }
            },
            "type": "bar"
           }
          ],
          "barpolar": [
           {
            "marker": {
             "line": {
              "color": "#E5ECF6",
              "width": 0.5
             },
             "pattern": {
              "fillmode": "overlay",
              "size": 10,
              "solidity": 0.2
             }
            },
            "type": "barpolar"
           }
          ],
          "carpet": [
           {
            "aaxis": {
             "endlinecolor": "#2a3f5f",
             "gridcolor": "white",
             "linecolor": "white",
             "minorgridcolor": "white",
             "startlinecolor": "#2a3f5f"
            },
            "baxis": {
             "endlinecolor": "#2a3f5f",
             "gridcolor": "white",
             "linecolor": "white",
             "minorgridcolor": "white",
             "startlinecolor": "#2a3f5f"
            },
            "type": "carpet"
           }
          ],
          "choropleth": [
           {
            "colorbar": {
             "outlinewidth": 0,
             "ticks": ""
            },
            "type": "choropleth"
           }
          ],
          "contour": [
           {
            "colorbar": {
             "outlinewidth": 0,
             "ticks": ""
            },
            "colorscale": [
             [
              0,
              "#0d0887"
             ],
             [
              0.1111111111111111,
              "#46039f"
             ],
             [
              0.2222222222222222,
              "#7201a8"
             ],
             [
              0.3333333333333333,
              "#9c179e"
             ],
             [
              0.4444444444444444,
              "#bd3786"
             ],
             [
              0.5555555555555556,
              "#d8576b"
             ],
             [
              0.6666666666666666,
              "#ed7953"
             ],
             [
              0.7777777777777778,
              "#fb9f3a"
             ],
             [
              0.8888888888888888,
              "#fdca26"
             ],
             [
              1,
              "#f0f921"
             ]
            ],
            "type": "contour"
           }
          ],
          "contourcarpet": [
           {
            "colorbar": {
             "outlinewidth": 0,
             "ticks": ""
            },
            "type": "contourcarpet"
           }
          ],
          "heatmap": [
           {
            "colorbar": {
             "outlinewidth": 0,
             "ticks": ""
            },
            "colorscale": [
             [
              0,
              "#0d0887"
             ],
             [
              0.1111111111111111,
              "#46039f"
             ],
             [
              0.2222222222222222,
              "#7201a8"
             ],
             [
              0.3333333333333333,
              "#9c179e"
             ],
             [
              0.4444444444444444,
              "#bd3786"
             ],
             [
              0.5555555555555556,
              "#d8576b"
             ],
             [
              0.6666666666666666,
              "#ed7953"
             ],
             [
              0.7777777777777778,
              "#fb9f3a"
             ],
             [
              0.8888888888888888,
              "#fdca26"
             ],
             [
              1,
              "#f0f921"
             ]
            ],
            "type": "heatmap"
           }
          ],
          "heatmapgl": [
           {
            "colorbar": {
             "outlinewidth": 0,
             "ticks": ""
            },
            "colorscale": [
             [
              0,
              "#0d0887"
             ],
             [
              0.1111111111111111,
              "#46039f"
             ],
             [
              0.2222222222222222,
              "#7201a8"
             ],
             [
              0.3333333333333333,
              "#9c179e"
             ],
             [
              0.4444444444444444,
              "#bd3786"
             ],
             [
              0.5555555555555556,
              "#d8576b"
             ],
             [
              0.6666666666666666,
              "#ed7953"
             ],
             [
              0.7777777777777778,
              "#fb9f3a"
             ],
             [
              0.8888888888888888,
              "#fdca26"
             ],
             [
              1,
              "#f0f921"
             ]
            ],
            "type": "heatmapgl"
           }
          ],
          "histogram": [
           {
            "marker": {
             "pattern": {
              "fillmode": "overlay",
              "size": 10,
              "solidity": 0.2
             }
            },
            "type": "histogram"
           }
          ],
          "histogram2d": [
           {
            "colorbar": {
             "outlinewidth": 0,
             "ticks": ""
            },
            "colorscale": [
             [
              0,
              "#0d0887"
             ],
             [
              0.1111111111111111,
              "#46039f"
             ],
             [
              0.2222222222222222,
              "#7201a8"
             ],
             [
              0.3333333333333333,
              "#9c179e"
             ],
             [
              0.4444444444444444,
              "#bd3786"
             ],
             [
              0.5555555555555556,
              "#d8576b"
             ],
             [
              0.6666666666666666,
              "#ed7953"
             ],
             [
              0.7777777777777778,
              "#fb9f3a"
             ],
             [
              0.8888888888888888,
              "#fdca26"
             ],
             [
              1,
              "#f0f921"
             ]
            ],
            "type": "histogram2d"
           }
          ],
          "histogram2dcontour": [
           {
            "colorbar": {
             "outlinewidth": 0,
             "ticks": ""
            },
            "colorscale": [
             [
              0,
              "#0d0887"
             ],
             [
              0.1111111111111111,
              "#46039f"
             ],
             [
              0.2222222222222222,
              "#7201a8"
             ],
             [
              0.3333333333333333,
              "#9c179e"
             ],
             [
              0.4444444444444444,
              "#bd3786"
             ],
             [
              0.5555555555555556,
              "#d8576b"
             ],
             [
              0.6666666666666666,
              "#ed7953"
             ],
             [
              0.7777777777777778,
              "#fb9f3a"
             ],
             [
              0.8888888888888888,
              "#fdca26"
             ],
             [
              1,
              "#f0f921"
             ]
            ],
            "type": "histogram2dcontour"
           }
          ],
          "mesh3d": [
           {
            "colorbar": {
             "outlinewidth": 0,
             "ticks": ""
            },
            "type": "mesh3d"
           }
          ],
          "parcoords": [
           {
            "line": {
             "colorbar": {
              "outlinewidth": 0,
              "ticks": ""
             }
            },
            "type": "parcoords"
           }
          ],
          "pie": [
           {
            "automargin": true,
            "type": "pie"
           }
          ],
          "scatter": [
           {
            "fillpattern": {
             "fillmode": "overlay",
             "size": 10,
             "solidity": 0.2
            },
            "type": "scatter"
           }
          ],
          "scatter3d": [
           {
            "line": {
             "colorbar": {
              "outlinewidth": 0,
              "ticks": ""
             }
            },
            "marker": {
             "colorbar": {
              "outlinewidth": 0,
              "ticks": ""
             }
            },
            "type": "scatter3d"
           }
          ],
          "scattercarpet": [
           {
            "marker": {
             "colorbar": {
              "outlinewidth": 0,
              "ticks": ""
             }
            },
            "type": "scattercarpet"
           }
          ],
          "scattergeo": [
           {
            "marker": {
             "colorbar": {
              "outlinewidth": 0,
              "ticks": ""
             }
            },
            "type": "scattergeo"
           }
          ],
          "scattergl": [
           {
            "marker": {
             "colorbar": {
              "outlinewidth": 0,
              "ticks": ""
             }
            },
            "type": "scattergl"
           }
          ],
          "scattermapbox": [
           {
            "marker": {
             "colorbar": {
              "outlinewidth": 0,
              "ticks": ""
             }
            },
            "type": "scattermapbox"
           }
          ],
          "scatterpolar": [
           {
            "marker": {
             "colorbar": {
              "outlinewidth": 0,
              "ticks": ""
             }
            },
            "type": "scatterpolar"
           }
          ],
          "scatterpolargl": [
           {
            "marker": {
             "colorbar": {
              "outlinewidth": 0,
              "ticks": ""
             }
            },
            "type": "scatterpolargl"
           }
          ],
          "scatterternary": [
           {
            "marker": {
             "colorbar": {
              "outlinewidth": 0,
              "ticks": ""
             }
            },
            "type": "scatterternary"
           }
          ],
          "surface": [
           {
            "colorbar": {
             "outlinewidth": 0,
             "ticks": ""
            },
            "colorscale": [
             [
              0,
              "#0d0887"
             ],
             [
              0.1111111111111111,
              "#46039f"
             ],
             [
              0.2222222222222222,
              "#7201a8"
             ],
             [
              0.3333333333333333,
              "#9c179e"
             ],
             [
              0.4444444444444444,
              "#bd3786"
             ],
             [
              0.5555555555555556,
              "#d8576b"
             ],
             [
              0.6666666666666666,
              "#ed7953"
             ],
             [
              0.7777777777777778,
              "#fb9f3a"
             ],
             [
              0.8888888888888888,
              "#fdca26"
             ],
             [
              1,
              "#f0f921"
             ]
            ],
            "type": "surface"
           }
          ],
          "table": [
           {
            "cells": {
             "fill": {
              "color": "#EBF0F8"
             },
             "line": {
              "color": "white"
             }
            },
            "header": {
             "fill": {
              "color": "#C8D4E3"
             },
             "line": {
              "color": "white"
             }
            },
            "type": "table"
           }
          ]
         },
         "layout": {
          "annotationdefaults": {
           "arrowcolor": "#2a3f5f",
           "arrowhead": 0,
           "arrowwidth": 1
          },
          "autotypenumbers": "strict",
          "coloraxis": {
           "colorbar": {
            "outlinewidth": 0,
            "ticks": ""
           }
          },
          "colorscale": {
           "diverging": [
            [
             0,
             "#8e0152"
            ],
            [
             0.1,
             "#c51b7d"
            ],
            [
             0.2,
             "#de77ae"
            ],
            [
             0.3,
             "#f1b6da"
            ],
            [
             0.4,
             "#fde0ef"
            ],
            [
             0.5,
             "#f7f7f7"
            ],
            [
             0.6,
             "#e6f5d0"
            ],
            [
             0.7,
             "#b8e186"
            ],
            [
             0.8,
             "#7fbc41"
            ],
            [
             0.9,
             "#4d9221"
            ],
            [
             1,
             "#276419"
            ]
           ],
           "sequential": [
            [
             0,
             "#0d0887"
            ],
            [
             0.1111111111111111,
             "#46039f"
            ],
            [
             0.2222222222222222,
             "#7201a8"
            ],
            [
             0.3333333333333333,
             "#9c179e"
            ],
            [
             0.4444444444444444,
             "#bd3786"
            ],
            [
             0.5555555555555556,
             "#d8576b"
            ],
            [
             0.6666666666666666,
             "#ed7953"
            ],
            [
             0.7777777777777778,
             "#fb9f3a"
            ],
            [
             0.8888888888888888,
             "#fdca26"
            ],
            [
             1,
             "#f0f921"
            ]
           ],
           "sequentialminus": [
            [
             0,
             "#0d0887"
            ],
            [
             0.1111111111111111,
             "#46039f"
            ],
            [
             0.2222222222222222,
             "#7201a8"
            ],
            [
             0.3333333333333333,
             "#9c179e"
            ],
            [
             0.4444444444444444,
             "#bd3786"
            ],
            [
             0.5555555555555556,
             "#d8576b"
            ],
            [
             0.6666666666666666,
             "#ed7953"
            ],
            [
             0.7777777777777778,
             "#fb9f3a"
            ],
            [
             0.8888888888888888,
             "#fdca26"
            ],
            [
             1,
             "#f0f921"
            ]
           ]
          },
          "colorway": [
           "#636efa",
           "#EF553B",
           "#00cc96",
           "#ab63fa",
           "#FFA15A",
           "#19d3f3",
           "#FF6692",
           "#B6E880",
           "#FF97FF",
           "#FECB52"
          ],
          "font": {
           "color": "#2a3f5f"
          },
          "geo": {
           "bgcolor": "white",
           "lakecolor": "white",
           "landcolor": "#E5ECF6",
           "showlakes": true,
           "showland": true,
           "subunitcolor": "white"
          },
          "hoverlabel": {
           "align": "left"
          },
          "hovermode": "closest",
          "mapbox": {
           "style": "light"
          },
          "paper_bgcolor": "white",
          "plot_bgcolor": "#E5ECF6",
          "polar": {
           "angularaxis": {
            "gridcolor": "white",
            "linecolor": "white",
            "ticks": ""
           },
           "bgcolor": "#E5ECF6",
           "radialaxis": {
            "gridcolor": "white",
            "linecolor": "white",
            "ticks": ""
           }
          },
          "scene": {
           "xaxis": {
            "backgroundcolor": "#E5ECF6",
            "gridcolor": "white",
            "gridwidth": 2,
            "linecolor": "white",
            "showbackground": true,
            "ticks": "",
            "zerolinecolor": "white"
           },
           "yaxis": {
            "backgroundcolor": "#E5ECF6",
            "gridcolor": "white",
            "gridwidth": 2,
            "linecolor": "white",
            "showbackground": true,
            "ticks": "",
            "zerolinecolor": "white"
           },
           "zaxis": {
            "backgroundcolor": "#E5ECF6",
            "gridcolor": "white",
            "gridwidth": 2,
            "linecolor": "white",
            "showbackground": true,
            "ticks": "",
            "zerolinecolor": "white"
           }
          },
          "shapedefaults": {
           "line": {
            "color": "#2a3f5f"
           }
          },
          "ternary": {
           "aaxis": {
            "gridcolor": "white",
            "linecolor": "white",
            "ticks": ""
           },
           "baxis": {
            "gridcolor": "white",
            "linecolor": "white",
            "ticks": ""
           },
           "bgcolor": "#E5ECF6",
           "caxis": {
            "gridcolor": "white",
            "linecolor": "white",
            "ticks": ""
           }
          },
          "title": {
           "x": 0.05
          },
          "xaxis": {
           "automargin": true,
           "gridcolor": "white",
           "linecolor": "white",
           "ticks": "",
           "title": {
            "standoff": 15
           },
           "zerolinecolor": "white",
           "zerolinewidth": 2
          },
          "yaxis": {
           "automargin": true,
           "gridcolor": "white",
           "linecolor": "white",
           "ticks": "",
           "title": {
            "standoff": 15
           },
           "zerolinecolor": "white",
           "zerolinewidth": 2
          }
         }
        },
        "violinmode": "group",
        "width": 2750,
        "xaxis": {
         "anchor": "y",
         "domain": [
          0,
          1
         ],
         "linecolor": "black",
         "linewidth": 1,
         "range": [
          0,
          1.02
         ],
         "showline": true,
         "tickangle": 90,
         "title": {
          "text": "Mean Average Precision"
         }
        },
        "yaxis": {
         "anchor": "x",
         "domain": [
          0,
          1
         ],
         "linecolor": "black",
         "linewidth": 1,
         "showline": true,
         "title": {
          "text": ""
         }
        }
       }
      }
     },
     "metadata": {},
     "output_type": "display_data"
    }
   ],
   "source": [
    "mAP_treatment_plot, mAP_treatment_dict = copairs_batches_newerversion(dict_to_load_feature_selected, negdiffby_parameters= ['Metadata_broad_sample', 'Metadata_MoA'], filename='Distinctiveness')"
   ]
  },
  {
   "cell_type": "markdown",
   "metadata": {},
   "source": [
    "#### mAP based on MoA"
   ]
  },
  {
   "cell_type": "markdown",
   "metadata": {},
   "source": [
    "#### Reading the result csv of copairs to get add the cell count info "
   ]
  },
  {
   "cell_type": "code",
   "execution_count": 6,
   "metadata": {},
   "outputs": [],
   "source": [
    "#Reading the result CSVs obtained from the copairs \n",
    "result_csv_trmts = {'c:\\\\Users\\\\ssivagur\\\\Documents\\\\Projects\\\\Cell_painting_projects\\\\CDoT\\\\Batch3_analysis_redo\\\\UpdatedCopairsVersion\\\\BR00122250_normalized_feature_select_negcon_batch_Result_NegconNorm_mAP_Distinctiveness.csv':'Standard CP',\n",
    "                    'c:\\\\Users\\\\ssivagur\\\\Documents\\\\Projects\\\\Cell_painting_projects\\\\CDoT\\\\Batch3_analysis_redo\\\\UpdatedCopairsVersion\\\\BR00122246_normalized_feature_select_negcon_batch_Result_NegconNorm_mAP_Distinctiveness.csv':'CP + MitoBrilliant',\n",
    "                    'c:\\\\Users\\\\ssivagur\\\\Documents\\\\Projects\\\\Cell_painting_projects\\\\CDoT\\\\Batch3_analysis_redo\\\\UpdatedCopairsVersion\\\\BR00122247_normalized_feature_select_negcon_batch_Result_NegconNorm_mAP_Distinctiveness.csv':'CP + Phenovue phalloidin 400LS',\n",
    "                    'c:\\\\Users\\\\ssivagur\\\\Documents\\\\Projects\\\\Cell_painting_projects\\\\CDoT\\\\Batch3_analysis_redo\\\\UpdatedCopairsVersion\\\\BR00122248_normalized_feature_select_negcon_batch_Result_NegconNorm_mAP_Distinctiveness.csv':'Standard CP (exposed to ChromaLive)',\n",
    "                    'c:\\\\Users\\\\ssivagur\\\\Documents\\\\Projects\\\\Cell_painting_projects\\\\CDoT\\\\Batch3_analysis_redo\\\\UpdatedCopairsVersion\\\\BR00122249_normalized_feature_select_negcon_batch_wo_phasefeatures_Result_NegconNorm_mAP_Distinctiveness.csv':'ChromaLive + Hoechst'}"
   ]
  },
  {
   "cell_type": "markdown",
   "metadata": {},
   "source": [
    "#### Reading the aggregate csv files of copairs "
   ]
  },
  {
   "cell_type": "code",
   "execution_count": 7,
   "metadata": {},
   "outputs": [],
   "source": [
    "#Reading the aggregate CSV files obtained from the copairs package\n",
    "aggregate_files_trmt = {'c:\\\\Users\\\\ssivagur\\\\Documents\\\\Projects\\\\Cell_painting_projects\\\\CDoT\\\\Batch3_analysis_redo\\\\UpdatedCopairsVersion\\\\BR00122250_normalized_feature_select_negcon_batch_Aggregate_result_NegconNorm_mAP_Distinctiveness.csv':'Standard CP',\n",
    "                    'c:\\\\Users\\\\ssivagur\\\\Documents\\\\Projects\\\\Cell_painting_projects\\\\CDoT\\\\Batch3_analysis_redo\\\\UpdatedCopairsVersion\\\\BR00122246_normalized_feature_select_negcon_batch_Aggregate_result_NegconNorm_mAP_Distinctiveness.csv':'CP + MitoBrilliant',\n",
    "                    'c:\\\\Users\\\\ssivagur\\\\Documents\\\\Projects\\\\Cell_painting_projects\\\\CDoT\\\\Batch3_analysis_redo\\\\UpdatedCopairsVersion\\\\BR00122247_normalized_feature_select_negcon_batch_Aggregate_result_NegconNorm_mAP_Distinctiveness.csv':'CP + Phenovue phalloidin 400LS',\n",
    "                    'c:\\\\Users\\\\ssivagur\\\\Documents\\\\Projects\\\\Cell_painting_projects\\\\CDoT\\\\Batch3_analysis_redo\\\\UpdatedCopairsVersion\\\\BR00122248_normalized_feature_select_negcon_batch_Aggregate_result_NegconNorm_mAP_Distinctiveness.csv':'Standard CP (exposed to ChromaLive)',\n",
    "                    'c:\\\\Users\\\\ssivagur\\\\Documents\\\\Projects\\\\Cell_painting_projects\\\\CDoT\\\\Batch3_analysis_redo\\\\UpdatedCopairsVersion\\\\BR00122249_normalized_feature_select_negcon_batch_wo_phasefeatures_Aggregate_result_NegconNorm_mAP_Distinctiveness.csv':'ChromaLive + Hoechst'}"
   ]
  },
  {
   "cell_type": "markdown",
   "metadata": {},
   "source": [
    "#### Plot generation"
   ]
  },
  {
   "cell_type": "code",
   "execution_count": 8,
   "metadata": {},
   "outputs": [],
   "source": [
    "mAP_treatment_plot_colorscheme, df_treatment = cell_count_norm_colorscheme(result_csv_trmts, aggregate_files_trmt)"
   ]
  },
  {
   "cell_type": "code",
   "execution_count": 9,
   "metadata": {},
   "outputs": [
    {
     "data": {
      "application/vnd.plotly.v1+json": {
       "config": {
        "plotlyServerURL": "https://plot.ly"
       },
       "data": [
        {
         "hovertext": [
          "pomalidomide",
          "homochlorcyclizine",
          "orphenadrine",
          "AZD7545",
          "SHP099",
          "hydroxyzine",
          "SU-11274",
          "PF-477736",
          "GSK-3-inhibitor-IX",
          "A-366",
          "apratastat",
          "merimepodib",
          "BMS-863233",
          "veliparib",
          "PFI-1",
          "P5091",
          "CHIR-99021",
          "filgotinib",
          "Staurosporine",
          "SGX523",
          "CPI-0610",
          "BIX-02188",
          "AMG900",
          "T-0901317",
          "ML-298",
          "NVP-AEW541",
          "maprotiline",
          "ML324",
          "ketotifen",
          "PNU-74654",
          "SU3327",
          "GW-3965",
          "carmustine",
          "filanesib",
          "APY0201",
          "GW-5074",
          "lenvatinib",
          "ponatinib",
          "WZ4003",
          "BX-912",
          "halopemide",
          "MK-5108",
          "ruxolitinib",
          "dosulepin",
          "niraparib",
          "ABT-737",
          "BMS-566419",
          "selumetinib",
          "UNC0642",
          "romidepsin",
          "RGFP966",
          "venetoclax",
          "quazinone",
          "ispinesib",
          "THZ1",
          "KH-CB19",
          "GDC-0879",
          "rheochrysidin",
          "FR-180204",
          "Thapsigargin",
          "EPZ015666",
          "DACTINOMYCIN",
          "GSK2334470",
          "BLU9931",
          "valrubicin",
          "purmorphamine",
          "BI-78D3",
          "SCH-900776",
          "CP-724714",
          "andarine",
          "rosuvastatin",
          "dimethindene-(S)-(+)",
          "skepinone-l",
          "sirolimus",
          "neratinib",
          "delta-Tocotrienol",
          "linsitinib",
          "SGC-707",
          "GNF-5",
          "PD-198306",
          "VX-745",
          "ML-323",
          "ICG-001",
          "AMG-925",
          "GSK-J4",
          "IOX2",
          "PS178990",
          "AZD2014",
          "SAG",
          "acriflavine"
         ],
         "marker": {
          "color": "#0173b2",
          "size": [
           40.85,
           38.2775,
           41.74,
           36.2775,
           39.725,
           38.835,
           18.455,
           2.565,
           16.01,
           38.58,
           38.8175,
           13.7125,
           31.88,
           38.5075,
           36.8375,
           36.7525,
           34.2775,
           39.25,
           8.5575,
           39,
           31.8125,
           37.85,
           7.27,
           39.56,
           37.6625,
           31.2375,
           39.4875,
           34.0825,
           41.11,
           38.915,
           30.89,
           41.8925,
           37.835,
           4.9725,
           22.245,
           41.8525,
           32.485,
           3.5425,
           33.615,
           12.465,
           37.6025,
           25.435,
           40.3225,
           39.3725,
           20.57,
           30.7175,
           24.695,
           34.7025,
           37.075,
           2.9775,
           25.465,
           34.0825,
           37.8625,
           4.815,
           1.2325,
           41.71,
           44.21,
           40.0725,
           39.035,
           0.9025,
           35.455,
           2.0825,
           30.39,
           25.3925,
           1.98,
           38.5375,
           37.7525,
           5.7,
           37.97,
           40.5525,
           38.5125,
           40.465,
           30.8075,
           27.385,
           16.3675,
           39.2675,
           31.145,
           38.775,
           38.32,
           36.675,
           38.0625,
           35.7725,
           29.245,
           20.545,
           12.7625,
           39.7425,
           40.4825,
           13.4375,
           38.385,
           0.7425
          ],
          "sizemin": 3,
          "sizemode": "area",
          "sizeref": 0.1
         },
         "mode": "markers",
         "name": "Standard CP",
         "type": "scatter",
         "x": [
          "tumor necrosis factor production inhibitor",
          "antihistamine",
          "acetylcholine receptor antagonist",
          "pyruvate dehydrogenase kinase inhibitor",
          "protein tyrosine kinase inhibitor",
          "antihistamine",
          "hepatocyte growth factor receptor inhibitor",
          "CHK inhibitor",
          "glycogen synthase kinase inhibitor",
          "histone lysine methyltransferase inhibitor",
          "tumor necrosis factor production inhibitor",
          "inosine monophosphate dehydrogenase inhibitor",
          "CDC inhibitor",
          "PARP inhibitor",
          "bromodomain inhibitor",
          "ubiquitin specific protease inhibitor",
          "glycogen synthase kinase inhibitor",
          "JAK inhibitor",
          "Apoptosis inducer (ATP-competitive kinase inhibitor)",
          "hepatocyte growth factor receptor inhibitor",
          "bromodomain inhibitor",
          "MEK inhibitor",
          "Aurora kinase inhibitor",
          "LXR agonist",
          "phospholipase inhibitor",
          "IGF-1 inhibitor",
          "tricyclic antidepressant",
          "histone lysine demethylase inhibitor",
          "phosphodiesterase inhibitor",
          "beta-catenin inhibitor",
          "JNK inhibitor",
          "LXR agonist",
          "DNA inhibitor",
          "kinesin inhibitor",
          "phosphoinositide dependent kinase inhibitor",
          "RAF inhibitor",
          "FGFR inhibitor",
          "Bcr-Abl kinase inhibitor",
          "AMPK inhibitor",
          "pyruvate dehydrogenase kinase inhibitor",
          "phospholipase inhibitor",
          "Aurora kinase inhibitor",
          "JAK inhibitor",
          "tricyclic antidepressant",
          "PARP inhibitor",
          "BCL inhibitor",
          "inosine monophosphate dehydrogenase inhibitor",
          "MEK inhibitor",
          "histone lysine methyltransferase inhibitor",
          "HDAC inhibitor",
          "HDAC inhibitor",
          "BCL inhibitor",
          "phosphodiesterase inhibitor",
          "kinesin inhibitor",
          "CDK inhibitor",
          "CDC inhibitor",
          "RAF inhibitor",
          "protein tyrosine kinase inhibitor",
          "MAP kinase inhibitor",
          "ER stressor (SERCA inhibitor)",
          "protein arginine N-methyltransferase inhibitor",
          "Apoptosis inducer (transcription inhibitor)",
          "phosphoinositide dependent kinase inhibitor",
          "FGFR inhibitor",
          "DNA inhibitor",
          "smoothened receptor agonist",
          "JNK inhibitor",
          "CHK inhibitor",
          "EGFR inhibitor",
          "androgen receptor modulator",
          "HMGCR inhibitor",
          "acetylcholine receptor antagonist",
          "p38 MAPK inhibitor",
          "mTOR inhibitor",
          "EGFR inhibitor",
          "HMGCR inhibitor",
          "IGF-1 inhibitor",
          "protein arginine N-methyltransferase inhibitor",
          "Bcr-Abl kinase inhibitor",
          "MAP kinase inhibitor",
          "p38 MAPK inhibitor",
          "ubiquitin specific protease inhibitor",
          "beta-catenin inhibitor",
          "CDK inhibitor",
          "histone lysine demethylase inhibitor",
          "hypoxia inducible factor inhibitor",
          "androgen receptor modulator",
          "mTOR inhibitor",
          "smoothened receptor agonist",
          "hypoxia inducible factor inhibitor"
         ],
         "y": [
          0.0751907630145189,
          0.0233801007027194,
          0.0433579017366559,
          0.1253876015988353,
          0.1738168196307123,
          0.0211695068186132,
          0.4437509212047515,
          1,
          0.6974747474747475,
          0.0154930737015808,
          0.0238431850113865,
          1,
          1,
          0.0268981326457728,
          0.2518778312022093,
          0.1236165081603947,
          1,
          0.1365085928096441,
          1,
          0.0484138908748976,
          1,
          0.1992880588881083,
          0.8752976190476192,
          1,
          0.0100917990220209,
          0.9027777777777778,
          0.0110762565965278,
          0.0655699953550348,
          0.1048345644743013,
          0.0147191056292627,
          0.011663876467995,
          0.3301868721360246,
          0.045028432148368,
          1,
          0.6197956684237172,
          0.0971656631828945,
          0.8824404761904762,
          0.861111111111111,
          0.1882316051861195,
          0.525020664946182,
          0.9305555555555556,
          0.4852411033797771,
          0.1762929967714251,
          0.017578684743016,
          0.5149426842442,
          1,
          0.2037167657921614,
          0.6494021851164709,
          1,
          0.4493806573112204,
          0.5134242212230108,
          0.4884690845217161,
          0.0080332999614717,
          0.6329365079365079,
          0.7826388888888889,
          0.1298944286339244,
          0.9791666666666666,
          0.0310474514437055,
          0.0156393740585514,
          1,
          0.7093142968142968,
          0.6779100529100529,
          0.856060606060606,
          0.4889772727272727,
          0.2138536977809366,
          0.2248132294830504,
          0.0154079521523467,
          0.8523809523809525,
          0.0565017143205006,
          0.0181747663103683,
          0.1291173127966729,
          0.0394905434933731,
          0.9375,
          1,
          1,
          0.0150193407677918,
          0.6476907230196705,
          0.1965126592157808,
          0.3972264202838758,
          0.3396643842722274,
          0.2862136202447207,
          0.1186731952613619,
          0.9666666666666668,
          0.4227250258428748,
          0.7980158730158731,
          0.0263200192433433,
          0.1784945554351246,
          0.8409455128205128,
          0.3839489267989467,
          0.6168650793650794
         ]
        },
        {
         "hovertext": [
          "pomalidomide",
          "homochlorcyclizine",
          "orphenadrine",
          "AZD7545",
          "SHP099",
          "hydroxyzine",
          "SU-11274",
          "PF-477736",
          "GSK-3-inhibitor-IX",
          "A-366",
          "apratastat",
          "merimepodib",
          "BMS-863233",
          "veliparib",
          "PFI-1",
          "P5091",
          "CHIR-99021",
          "filgotinib",
          "Staurosporine",
          "SGX523",
          "CPI-0610",
          "BIX-02188",
          "AMG900",
          "T-0901317",
          "ML-298",
          "NVP-AEW541",
          "maprotiline",
          "ML324",
          "ketotifen",
          "PNU-74654",
          "SU3327",
          "GW-3965",
          "carmustine",
          "filanesib",
          "APY0201",
          "GW-5074",
          "lenvatinib",
          "ponatinib",
          "WZ4003",
          "BX-912",
          "halopemide",
          "MK-5108",
          "ruxolitinib",
          "dosulepin",
          "niraparib",
          "ABT-737",
          "BMS-566419",
          "selumetinib",
          "UNC0642",
          "romidepsin",
          "RGFP966",
          "venetoclax",
          "quazinone",
          "ispinesib",
          "THZ1",
          "KH-CB19",
          "GDC-0879",
          "rheochrysidin",
          "FR-180204",
          "Thapsigargin",
          "EPZ015666",
          "DACTINOMYCIN",
          "GSK2334470",
          "BLU9931",
          "valrubicin",
          "purmorphamine",
          "BI-78D3",
          "SCH-900776",
          "CP-724714",
          "andarine",
          "rosuvastatin",
          "dimethindene-(S)-(+)",
          "skepinone-l",
          "sirolimus",
          "neratinib",
          "delta-Tocotrienol",
          "linsitinib",
          "SGC-707",
          "GNF-5",
          "PD-198306",
          "VX-745",
          "ML-323",
          "ICG-001",
          "AMG-925",
          "GSK-J4",
          "IOX2",
          "PS178990",
          "AZD2014",
          "SAG",
          "acriflavine"
         ],
         "marker": {
          "color": "#de8f05",
          "size": [
           40.66,
           41.45,
           40.87,
           36.9,
           41.18,
           41.1975,
           19.455,
           2.6375,
           16.6975,
           40.635,
           40.4625,
           13.9925,
           33.4725,
           40.265,
           37.26,
           38.6975,
           35.5525,
           41.0825,
           8.9475,
           41.73,
           32.18,
           39.535,
           7.37,
           39.0525,
           40.1475,
           31.9925,
           41.005,
           36.4525,
           40.6375,
           40.29,
           29.366666666666664,
           41.0425,
           38.5525,
           5.2,
           22.495,
           41.9275,
           32.8775,
           3.9675,
           35.0125,
           12.49,
           40.29,
           26.5625,
           40.8525,
           40.4275,
           21.8,
           31.9975,
           26.7175,
           35.295,
           37.6675,
           3.025,
           26.09,
           35.84,
           39.975,
           4.765,
           1.49,
           40.5675,
           45.7025,
           40.81,
           39.88,
           0.9425,
           35.81,
           2.355,
           30.7375,
           26.0775,
           1.9225,
           41.055,
           40.0275,
           6.79,
           39.96,
           41.48,
           40.24,
           41.8125,
           31.89,
           28.8,
           17.2275,
           40.1525,
           32.2075,
           41.8075,
           39.835,
           37.825,
           39.175,
           35.995,
           30.6925,
           21.595,
           12.405,
           42.435,
           40.6825,
           13.7625,
           39.49,
           0.5
          ],
          "sizemin": 3,
          "sizemode": "area",
          "sizeref": 0.1
         },
         "mode": "markers",
         "name": "CP + MitoBrilliant",
         "type": "scatter",
         "x": [
          "tumor necrosis factor production inhibitor",
          "antihistamine",
          "acetylcholine receptor antagonist",
          "pyruvate dehydrogenase kinase inhibitor",
          "protein tyrosine kinase inhibitor",
          "antihistamine",
          "hepatocyte growth factor receptor inhibitor",
          "CHK inhibitor",
          "glycogen synthase kinase inhibitor",
          "histone lysine methyltransferase inhibitor",
          "tumor necrosis factor production inhibitor",
          "inosine monophosphate dehydrogenase inhibitor",
          "CDC inhibitor",
          "PARP inhibitor",
          "bromodomain inhibitor",
          "ubiquitin specific protease inhibitor",
          "glycogen synthase kinase inhibitor",
          "JAK inhibitor",
          "Apoptosis inducer (ATP-competitive kinase inhibitor)",
          "hepatocyte growth factor receptor inhibitor",
          "bromodomain inhibitor",
          "MEK inhibitor",
          "Aurora kinase inhibitor",
          "LXR agonist",
          "phospholipase inhibitor",
          "IGF-1 inhibitor",
          "tricyclic antidepressant",
          "histone lysine demethylase inhibitor",
          "phosphodiesterase inhibitor",
          "beta-catenin inhibitor",
          "JNK inhibitor",
          "LXR agonist",
          "DNA inhibitor",
          "kinesin inhibitor",
          "phosphoinositide dependent kinase inhibitor",
          "RAF inhibitor",
          "FGFR inhibitor",
          "Bcr-Abl kinase inhibitor",
          "AMPK inhibitor",
          "pyruvate dehydrogenase kinase inhibitor",
          "phospholipase inhibitor",
          "Aurora kinase inhibitor",
          "JAK inhibitor",
          "tricyclic antidepressant",
          "PARP inhibitor",
          "BCL inhibitor",
          "inosine monophosphate dehydrogenase inhibitor",
          "MEK inhibitor",
          "histone lysine methyltransferase inhibitor",
          "HDAC inhibitor",
          "HDAC inhibitor",
          "BCL inhibitor",
          "phosphodiesterase inhibitor",
          "kinesin inhibitor",
          "CDK inhibitor",
          "CDC inhibitor",
          "RAF inhibitor",
          "protein tyrosine kinase inhibitor",
          "MAP kinase inhibitor",
          "ER stressor (SERCA inhibitor)",
          "protein arginine N-methyltransferase inhibitor",
          "Apoptosis inducer (transcription inhibitor)",
          "phosphoinositide dependent kinase inhibitor",
          "FGFR inhibitor",
          "DNA inhibitor",
          "smoothened receptor agonist",
          "JNK inhibitor",
          "CHK inhibitor",
          "EGFR inhibitor",
          "androgen receptor modulator",
          "HMGCR inhibitor",
          "acetylcholine receptor antagonist",
          "p38 MAPK inhibitor",
          "mTOR inhibitor",
          "EGFR inhibitor",
          "HMGCR inhibitor",
          "IGF-1 inhibitor",
          "protein arginine N-methyltransferase inhibitor",
          "Bcr-Abl kinase inhibitor",
          "MAP kinase inhibitor",
          "p38 MAPK inhibitor",
          "ubiquitin specific protease inhibitor",
          "beta-catenin inhibitor",
          "CDK inhibitor",
          "histone lysine demethylase inhibitor",
          "hypoxia inducible factor inhibitor",
          "androgen receptor modulator",
          "mTOR inhibitor",
          "smoothened receptor agonist",
          "hypoxia inducible factor inhibitor"
         ],
         "y": [
          0.0165401431494606,
          0.0166196859473905,
          0.1121356480133429,
          0.1443890093748225,
          0.176370159067379,
          0.0357238365778345,
          0.3491710531098527,
          1,
          0.6309523809523809,
          0.066208056333275,
          0.0124838385087934,
          0.8143601190476191,
          1,
          0.0109293223985318,
          0.6732982295482296,
          0.0195866835930538,
          1,
          0.0280346338045006,
          0.9791666666666666,
          0.0234500844740706,
          0.9666666666666668,
          0.2376100364106361,
          1,
          0.3003147790555369,
          0.0219482215645514,
          0.5264509718129778,
          0.0138308147489189,
          0.1285074537291864,
          0.0102287898392164,
          0.0130597852814869,
          0.0265905557251108,
          0.5367428465254552,
          0.0165138085886531,
          0.7360679779158039,
          0.7676188334083072,
          0.3456271329433094,
          1,
          0.4646825396825397,
          0.1528054053789347,
          0.7620967741935484,
          0.8621031746031746,
          0.3695504466838019,
          0.2125172430945178,
          0.0125276305687483,
          0.5149294780599707,
          0.763336825703847,
          0.9083333333333332,
          0.5408081501831502,
          1,
          0.7951388888888888,
          0.9791666666666666,
          0.2769199668011213,
          0.01393276636098,
          0.4435066077713137,
          0.8491161616161615,
          0.0293315590646834,
          1,
          0.0081144475898381,
          0.0855978107822178,
          0.7694940476190476,
          0.3087884075986485,
          0.6167748917748918,
          0.6017524142524142,
          0.5264590665325959,
          0.4525146052434785,
          0.3725400457665903,
          0.0223873523049379,
          0.8958333333333333,
          0.1673105825676309,
          0.0146165586047949,
          0.0197637880622978,
          0.0758235831411658,
          0.776984126984127,
          1,
          0.7742456896551724,
          0.0164051871752492,
          0.6907738095238095,
          0.0309631338875194,
          0.7026587809036657,
          0.2432985043368273,
          0.2052237717417319,
          0.2509404094930411,
          0.5976172247911378,
          1,
          1,
          0.1682552018856305,
          0.0298484453121241,
          0.6898358585858586,
          0.5660426731078905,
          0.7324342324342324
         ]
        },
        {
         "hovertext": [
          "pomalidomide",
          "homochlorcyclizine",
          "orphenadrine",
          "AZD7545",
          "SHP099",
          "hydroxyzine",
          "SU-11274",
          "PF-477736",
          "GSK-3-inhibitor-IX",
          "A-366",
          "apratastat",
          "merimepodib",
          "BMS-863233",
          "veliparib",
          "PFI-1",
          "P5091",
          "CHIR-99021",
          "filgotinib",
          "Staurosporine",
          "SGX523",
          "CPI-0610",
          "BIX-02188",
          "AMG900",
          "T-0901317",
          "ML-298",
          "NVP-AEW541",
          "maprotiline",
          "ML324",
          "ketotifen",
          "PNU-74654",
          "SU3327",
          "GW-3965",
          "carmustine",
          "filanesib",
          "APY0201",
          "GW-5074",
          "lenvatinib",
          "ponatinib",
          "WZ4003",
          "BX-912",
          "halopemide",
          "MK-5108",
          "ruxolitinib",
          "dosulepin",
          "niraparib",
          "ABT-737",
          "BMS-566419",
          "selumetinib",
          "UNC0642",
          "romidepsin",
          "RGFP966",
          "venetoclax",
          "quazinone",
          "ispinesib",
          "THZ1",
          "KH-CB19",
          "GDC-0879",
          "rheochrysidin",
          "FR-180204",
          "Thapsigargin",
          "EPZ015666",
          "DACTINOMYCIN",
          "GSK2334470",
          "BLU9931",
          "valrubicin",
          "purmorphamine",
          "BI-78D3",
          "SCH-900776",
          "CP-724714",
          "andarine",
          "rosuvastatin",
          "dimethindene-(S)-(+)",
          "skepinone-l",
          "sirolimus",
          "neratinib",
          "delta-Tocotrienol",
          "linsitinib",
          "SGC-707",
          "GNF-5",
          "PD-198306",
          "VX-745",
          "ML-323",
          "ICG-001",
          "AMG-925",
          "GSK-J4",
          "IOX2",
          "PS178990",
          "AZD2014",
          "SAG",
          "acriflavine"
         ],
         "marker": {
          "color": "#029e73",
          "size": [
           42.05,
           40.9625,
           41.4825,
           35.9925,
           41.9875,
           38.1925,
           19.3825,
           2.6325,
           15.85,
           39.6525,
           41.615,
           14.575,
           33.995,
           39.12,
           37.95,
           38.8525,
           34.6775,
           40.81,
           9.4975,
           40.4525,
           33.03,
           39.575,
           7.275,
           40.375,
           39.18,
           31.8725,
           40.5925,
           36.2625,
           39.9525,
           39.4825,
           30.5725,
           40.155,
           39.5625,
           5.015,
           22.48,
           42.7025,
           30.9875,
           3.2975,
           35.795,
           11.7525,
           42.1475,
           26.01,
           42.2225,
           41.1125,
           21.405,
           31.0275,
           25.53,
           35.825,
           38.495,
           2.8025,
           25.85,
           35.47,
           40.135,
           4.505,
           1.1375,
           41.285,
           45.5475,
           41.3475,
           42.5925,
           0.845,
           38.3,
           1.9225,
           29.885,
           25.8775,
           1.795,
           40.01,
           40.025,
           5.57,
           39.395,
           41.8925,
           40.8425,
           42.325,
           32.725,
           27.37,
           17.315,
           39.5125,
           32.02,
           41.1375,
           39.585,
           37.84,
           40.695,
           36.9275,
           30.0475,
           21.685,
           13.35,
           43.505,
           39.6775,
           14.5225,
           39.65,
           0.54
          ],
          "sizemin": 3,
          "sizemode": "area",
          "sizeref": 0.1
         },
         "mode": "markers",
         "name": "CP + Phenovue phalloidin 400LS",
         "type": "scatter",
         "x": [
          "tumor necrosis factor production inhibitor",
          "antihistamine",
          "acetylcholine receptor antagonist",
          "pyruvate dehydrogenase kinase inhibitor",
          "protein tyrosine kinase inhibitor",
          "antihistamine",
          "hepatocyte growth factor receptor inhibitor",
          "CHK inhibitor",
          "glycogen synthase kinase inhibitor",
          "histone lysine methyltransferase inhibitor",
          "tumor necrosis factor production inhibitor",
          "inosine monophosphate dehydrogenase inhibitor",
          "CDC inhibitor",
          "PARP inhibitor",
          "bromodomain inhibitor",
          "ubiquitin specific protease inhibitor",
          "glycogen synthase kinase inhibitor",
          "JAK inhibitor",
          "Apoptosis inducer (ATP-competitive kinase inhibitor)",
          "hepatocyte growth factor receptor inhibitor",
          "bromodomain inhibitor",
          "MEK inhibitor",
          "Aurora kinase inhibitor",
          "LXR agonist",
          "phospholipase inhibitor",
          "IGF-1 inhibitor",
          "tricyclic antidepressant",
          "histone lysine demethylase inhibitor",
          "phosphodiesterase inhibitor",
          "beta-catenin inhibitor",
          "JNK inhibitor",
          "LXR agonist",
          "DNA inhibitor",
          "kinesin inhibitor",
          "phosphoinositide dependent kinase inhibitor",
          "RAF inhibitor",
          "FGFR inhibitor",
          "Bcr-Abl kinase inhibitor",
          "AMPK inhibitor",
          "pyruvate dehydrogenase kinase inhibitor",
          "phospholipase inhibitor",
          "Aurora kinase inhibitor",
          "JAK inhibitor",
          "tricyclic antidepressant",
          "PARP inhibitor",
          "BCL inhibitor",
          "inosine monophosphate dehydrogenase inhibitor",
          "MEK inhibitor",
          "histone lysine methyltransferase inhibitor",
          "HDAC inhibitor",
          "HDAC inhibitor",
          "BCL inhibitor",
          "phosphodiesterase inhibitor",
          "kinesin inhibitor",
          "CDK inhibitor",
          "CDC inhibitor",
          "RAF inhibitor",
          "protein tyrosine kinase inhibitor",
          "MAP kinase inhibitor",
          "ER stressor (SERCA inhibitor)",
          "protein arginine N-methyltransferase inhibitor",
          "Apoptosis inducer (transcription inhibitor)",
          "phosphoinositide dependent kinase inhibitor",
          "FGFR inhibitor",
          "DNA inhibitor",
          "smoothened receptor agonist",
          "JNK inhibitor",
          "CHK inhibitor",
          "EGFR inhibitor",
          "androgen receptor modulator",
          "HMGCR inhibitor",
          "acetylcholine receptor antagonist",
          "p38 MAPK inhibitor",
          "mTOR inhibitor",
          "EGFR inhibitor",
          "HMGCR inhibitor",
          "IGF-1 inhibitor",
          "protein arginine N-methyltransferase inhibitor",
          "Bcr-Abl kinase inhibitor",
          "MAP kinase inhibitor",
          "p38 MAPK inhibitor",
          "ubiquitin specific protease inhibitor",
          "beta-catenin inhibitor",
          "CDK inhibitor",
          "histone lysine demethylase inhibitor",
          "hypoxia inducible factor inhibitor",
          "androgen receptor modulator",
          "mTOR inhibitor",
          "smoothened receptor agonist",
          "hypoxia inducible factor inhibitor"
         ],
         "y": [
          0.1112377281512826,
          0.010965474179758,
          0.122123155033031,
          0.0919639220595114,
          0.0465159455982445,
          0.0354565709463584,
          1,
          0.7405753968253969,
          0.6870879120879121,
          0.018788278316208,
          0.0112398712840726,
          1,
          0.8694444444444445,
          0.0301508788059263,
          0.6296642092278282,
          0.0201822185136621,
          1,
          0.0245637015938576,
          0.6898656898656899,
          0.0107791168214179,
          1,
          0.2915872797940906,
          1,
          0.9583333333333334,
          0.0444810835599682,
          0.5790053960180563,
          0.1361308789633265,
          0.0288476652710169,
          0.0174871651039855,
          0.0129714960554163,
          0.0120839764254917,
          0.1670026143862696,
          0.0096420458353618,
          0.8669642857142857,
          1,
          0.0315740660679131,
          0.790909090909091,
          0.5147837066315327,
          0.105425506775315,
          0.834090909090909,
          0.9791666666666666,
          0.4595219017094017,
          0.1163663460822716,
          0.0308560216324643,
          0.7041666666666666,
          0.9583333333333334,
          0.2617092042910354,
          0.9791666666666666,
          0.7038392857142857,
          0.5387896825396825,
          0.8396915584415584,
          0.3395326564969422,
          0.0086338866621751,
          0.480106964384305,
          0.4640505328005328,
          0.0225451889316297,
          0.5644890410515411,
          0.0227245074953545,
          0.1904324197052552,
          1,
          0.8888888888888888,
          0.4832902001380262,
          0.5264890304412363,
          0.7786630036630037,
          0.4536352657004831,
          0.1617616659187257,
          0.0168998578257072,
          0.5600560897435898,
          0.1444461118846186,
          0.0293955481490052,
          0.2513746879129173,
          0.1450295844577917,
          0.5446661998132586,
          1,
          1,
          0.0207472029477666,
          0.6679197994987469,
          0.0163489074159451,
          0.7873093681917211,
          0.6117723842018197,
          0.1799989628926765,
          0.1043851654693055,
          0.4906500226145805,
          1,
          1,
          0.4226190476190475,
          0.0682356632559584,
          0.9208333333333332,
          0.2679947084742481,
          0.4835733153334221
         ]
        },
        {
         "hovertext": [
          "pomalidomide",
          "homochlorcyclizine",
          "orphenadrine",
          "AZD7545",
          "SHP099",
          "hydroxyzine",
          "SU-11274",
          "PF-477736",
          "GSK-3-inhibitor-IX",
          "A-366",
          "apratastat",
          "merimepodib",
          "BMS-863233",
          "veliparib",
          "PFI-1",
          "P5091",
          "CHIR-99021",
          "filgotinib",
          "Staurosporine",
          "SGX523",
          "CPI-0610",
          "BIX-02188",
          "AMG900",
          "T-0901317",
          "ML-298",
          "NVP-AEW541",
          "maprotiline",
          "ML324",
          "ketotifen",
          "PNU-74654",
          "SU3327",
          "GW-3965",
          "carmustine",
          "filanesib",
          "APY0201",
          "GW-5074",
          "lenvatinib",
          "ponatinib",
          "WZ4003",
          "BX-912",
          "halopemide",
          "MK-5108",
          "ruxolitinib",
          "dosulepin",
          "niraparib",
          "ABT-737",
          "BMS-566419",
          "selumetinib",
          "UNC0642",
          "romidepsin",
          "RGFP966",
          "venetoclax",
          "quazinone",
          "ispinesib",
          "THZ1",
          "KH-CB19",
          "GDC-0879",
          "rheochrysidin",
          "FR-180204",
          "Thapsigargin",
          "EPZ015666",
          "DACTINOMYCIN",
          "GSK2334470",
          "BLU9931",
          "valrubicin",
          "purmorphamine",
          "BI-78D3",
          "SCH-900776",
          "CP-724714",
          "andarine",
          "rosuvastatin",
          "dimethindene-(S)-(+)",
          "skepinone-l",
          "sirolimus",
          "neratinib",
          "delta-Tocotrienol",
          "linsitinib",
          "SGC-707",
          "GNF-5",
          "PD-198306",
          "VX-745",
          "ML-323",
          "ICG-001",
          "AMG-925",
          "GSK-J4",
          "IOX2",
          "PS178990",
          "AZD2014",
          "SAG",
          "acriflavine"
         ],
         "marker": {
          "color": "#d55e00",
          "size": [
           37.9075,
           36.8675,
           39.0075,
           32.935,
           37.4375,
           37.56,
           19.0225,
           2.8125,
           17.5,
           35.715,
           37.9025,
           15.455,
           29.0075,
           36.675,
           33.2325,
           33.315,
           34.385,
           36.1275,
           10,
           36.12,
           27.2975,
           37.115,
           9.46,
           35.9,
           36.4625,
           28.455,
           39.0575,
           32.44,
           37.475,
           36.1075,
           26.865,
           36.8225,
           35.415,
           6.1375,
           22.8,
           39.1275,
           32.725,
           3.9075,
           31.4175,
           15.3575,
           38.9225,
           25.7925,
           35.44,
           38.46,
           22.5525,
           30.7775,
           25.18,
           32.845,
           34.545,
           2.515,
           25.6125,
           32.6375,
           36.3825,
           5.38,
           1.3575,
           38.43,
           42.345,
           36.8175,
           36.53,
           2.295,
           33.535,
           2.1825,
           26.305,
           22.6325,
           2.8575,
           34.795,
           37.6075,
           6.1025,
           35.6575,
           38.19,
           33.4125,
           39.4025,
           32.1425,
           26.075,
           17.6925,
           37.12,
           28.0825,
           37.76,
           36.185,
           34.685,
           37.6475,
           33.3475,
           27.8875,
           21.34,
           13.7125,
           38.7225,
           36.1075,
           13.67,
           35.1425,
           0.965
          ],
          "sizemin": 3,
          "sizemode": "area",
          "sizeref": 0.1
         },
         "mode": "markers",
         "name": "Standard CP (exposed to ChromaLive)",
         "type": "scatter",
         "x": [
          "tumor necrosis factor production inhibitor",
          "antihistamine",
          "acetylcholine receptor antagonist",
          "pyruvate dehydrogenase kinase inhibitor",
          "protein tyrosine kinase inhibitor",
          "antihistamine",
          "hepatocyte growth factor receptor inhibitor",
          "CHK inhibitor",
          "glycogen synthase kinase inhibitor",
          "histone lysine methyltransferase inhibitor",
          "tumor necrosis factor production inhibitor",
          "inosine monophosphate dehydrogenase inhibitor",
          "CDC inhibitor",
          "PARP inhibitor",
          "bromodomain inhibitor",
          "ubiquitin specific protease inhibitor",
          "glycogen synthase kinase inhibitor",
          "JAK inhibitor",
          "Apoptosis inducer (ATP-competitive kinase inhibitor)",
          "hepatocyte growth factor receptor inhibitor",
          "bromodomain inhibitor",
          "MEK inhibitor",
          "Aurora kinase inhibitor",
          "LXR agonist",
          "phospholipase inhibitor",
          "IGF-1 inhibitor",
          "tricyclic antidepressant",
          "histone lysine demethylase inhibitor",
          "phosphodiesterase inhibitor",
          "beta-catenin inhibitor",
          "JNK inhibitor",
          "LXR agonist",
          "DNA inhibitor",
          "kinesin inhibitor",
          "phosphoinositide dependent kinase inhibitor",
          "RAF inhibitor",
          "FGFR inhibitor",
          "Bcr-Abl kinase inhibitor",
          "AMPK inhibitor",
          "pyruvate dehydrogenase kinase inhibitor",
          "phospholipase inhibitor",
          "Aurora kinase inhibitor",
          "JAK inhibitor",
          "tricyclic antidepressant",
          "PARP inhibitor",
          "BCL inhibitor",
          "inosine monophosphate dehydrogenase inhibitor",
          "MEK inhibitor",
          "histone lysine methyltransferase inhibitor",
          "HDAC inhibitor",
          "HDAC inhibitor",
          "BCL inhibitor",
          "phosphodiesterase inhibitor",
          "kinesin inhibitor",
          "CDK inhibitor",
          "CDC inhibitor",
          "RAF inhibitor",
          "protein tyrosine kinase inhibitor",
          "MAP kinase inhibitor",
          "ER stressor (SERCA inhibitor)",
          "protein arginine N-methyltransferase inhibitor",
          "Apoptosis inducer (transcription inhibitor)",
          "phosphoinositide dependent kinase inhibitor",
          "FGFR inhibitor",
          "DNA inhibitor",
          "smoothened receptor agonist",
          "JNK inhibitor",
          "CHK inhibitor",
          "EGFR inhibitor",
          "androgen receptor modulator",
          "HMGCR inhibitor",
          "acetylcholine receptor antagonist",
          "p38 MAPK inhibitor",
          "mTOR inhibitor",
          "EGFR inhibitor",
          "HMGCR inhibitor",
          "IGF-1 inhibitor",
          "protein arginine N-methyltransferase inhibitor",
          "Bcr-Abl kinase inhibitor",
          "MAP kinase inhibitor",
          "p38 MAPK inhibitor",
          "ubiquitin specific protease inhibitor",
          "beta-catenin inhibitor",
          "CDK inhibitor",
          "histone lysine demethylase inhibitor",
          "hypoxia inducible factor inhibitor",
          "androgen receptor modulator",
          "mTOR inhibitor",
          "smoothened receptor agonist",
          "hypoxia inducible factor inhibitor"
         ],
         "y": [
          0.0288423114608326,
          0.0104969904392095,
          0.0277458439127761,
          0.165281831458302,
          0.1001946857833973,
          0.0317320520845065,
          1,
          0.483008658008658,
          0.9666666666666668,
          0.0195878788898618,
          0.0283199604968608,
          1,
          1,
          0.011389426922266,
          0.5903769841269841,
          0.0222565088309475,
          0.8468253968253968,
          0.0153032205714899,
          0.2420070396376544,
          0.017918391610328,
          1,
          0.240917906402502,
          0.9791666666666666,
          1,
          0.0604908203088867,
          1,
          0.0678177410853839,
          0.0451909259752654,
          0.0380664601676159,
          0.0208825392643514,
          0.1040078162722452,
          0.2396492240126307,
          0.0082605460988746,
          0.6747685185185186,
          1,
          0.429954236080397,
          0.4394112695583284,
          0.7027777777777778,
          0.1961503255194022,
          1,
          0.7298245614035088,
          0.5493676412154672,
          0.2051908077997371,
          0.0186103139167198,
          0.9097222222222222,
          0.3306483539690649,
          1,
          0.6961309523809524,
          0.5567614023112087,
          0.9458333333333332,
          0.6228397267955776,
          0.2768532927004281,
          0.0086823709436916,
          0.467671783625731,
          0.7444444444444445,
          0.0292793495428667,
          0.7268939393939393,
          0.0441659781615773,
          0.0168104187658768,
          0.9513888888888888,
          0.3040060152845412,
          0.5489087301587301,
          0.9107142857142858,
          1,
          0.4666514041514041,
          0.3032023803762934,
          0.0193526738409178,
          0.6519287704632533,
          0.1575514163387108,
          0.0536585290020322,
          0.0137597034406874,
          0.0673511254092256,
          0.2392137449225853,
          0.5131544639432165,
          0.4752870179754186,
          0.0133130784367843,
          1,
          0.1216062105805423,
          0.5965253581107239,
          0.4789773782980304,
          0.0975291033217929,
          0.2163750209750927,
          0.6685910954938814,
          0.6405753968253969,
          0.9791666666666666,
          0.0633435871892131,
          0.0273950426531645,
          1,
          0.153145852826469,
          0.3900526556776557
         ]
        },
        {
         "hovertext": [
          "pomalidomide",
          "homochlorcyclizine",
          "orphenadrine",
          "AZD7545",
          "SHP099",
          "hydroxyzine",
          "SU-11274",
          "PF-477736",
          "GSK-3-inhibitor-IX",
          "A-366",
          "apratastat",
          "merimepodib",
          "BMS-863233",
          "veliparib",
          "PFI-1",
          "P5091",
          "CHIR-99021",
          "filgotinib",
          "Staurosporine",
          "SGX523",
          "CPI-0610",
          "BIX-02188",
          "AMG900",
          "T-0901317",
          "ML-298",
          "NVP-AEW541",
          "maprotiline",
          "ML324",
          "ketotifen",
          "PNU-74654",
          "SU3327",
          "GW-3965",
          "carmustine",
          "filanesib",
          "APY0201",
          "GW-5074",
          "lenvatinib",
          "ponatinib",
          "WZ4003",
          "BX-912",
          "halopemide",
          "MK-5108",
          "ruxolitinib",
          "dosulepin",
          "niraparib",
          "ABT-737",
          "BMS-566419",
          "selumetinib",
          "UNC0642",
          "romidepsin",
          "RGFP966",
          "venetoclax",
          "quazinone",
          "ispinesib",
          "THZ1",
          "KH-CB19",
          "GDC-0879",
          "rheochrysidin",
          "FR-180204",
          "Thapsigargin",
          "EPZ015666",
          "DACTINOMYCIN",
          "GSK2334470",
          "BLU9931",
          "valrubicin",
          "purmorphamine",
          "BI-78D3",
          "SCH-900776",
          "CP-724714",
          "andarine",
          "rosuvastatin",
          "dimethindene-(S)-(+)",
          "skepinone-l",
          "sirolimus",
          "neratinib",
          "delta-Tocotrienol",
          "linsitinib",
          "SGC-707",
          "GNF-5",
          "PD-198306",
          "VX-745",
          "ML-323",
          "ICG-001",
          "AMG-925",
          "GSK-J4",
          "IOX2",
          "PS178990",
          "AZD2014",
          "SAG",
          "acriflavine"
         ],
         "marker": {
          "color": "#cc78bc",
          "size": [
           37.57,
           39.9075,
           39.9775,
           33.2775,
           41.2675,
           39.42,
           19.425,
           3.915,
           16.9075,
           37.97,
           39.23,
           15.1675,
           31.93,
           37.195,
           37.2675,
           37.4025,
           34.34,
           38.7225,
           10.115,
           38.28,
           31.2275,
           39.2125,
           9.5375,
           35.4975,
           38.1675,
           29.095,
           37.9825,
           34.015,
           39.3175,
           37.255,
           34.975,
           38.085,
           36.5375,
           6.7675,
           22.035,
           39.1625,
           31.955,
           7.2975,
           33.36,
           14.295,
           38.995,
           26.5925,
           38.7925,
           38.44,
           20.5725,
           30.285,
           23.895,
           35.8925,
           36.2525,
           6.2025,
           26.755,
           34.6875,
           38.17,
           6.745,
           3.445,
           40.74,
           43.005,
           36.99,
           40.53,
           3.3275,
           36.205,
           5.1225,
           27.625,
           22.8675,
           4.52,
           36.885,
           40.0725,
           7.2875,
           38.26,
           39.305,
           37.0625,
           39.7775,
           32.885,
           25.8675,
           17.0825,
           38.6275,
           30.085,
           39.2375,
           37.695,
           35.8975,
           38.1475,
           35.6,
           27.9,
           22.25,
           14.46,
           41.59,
           39.3475,
           14.165,
           36.945,
           3.6225
          ],
          "sizemin": 3,
          "sizemode": "area",
          "sizeref": 0.1
         },
         "mode": "markers",
         "name": "ChromaLive + Hoechst",
         "type": "scatter",
         "x": [
          "tumor necrosis factor production inhibitor",
          "antihistamine",
          "acetylcholine receptor antagonist",
          "pyruvate dehydrogenase kinase inhibitor",
          "protein tyrosine kinase inhibitor",
          "antihistamine",
          "hepatocyte growth factor receptor inhibitor",
          "CHK inhibitor",
          "glycogen synthase kinase inhibitor",
          "histone lysine methyltransferase inhibitor",
          "tumor necrosis factor production inhibitor",
          "inosine monophosphate dehydrogenase inhibitor",
          "CDC inhibitor",
          "PARP inhibitor",
          "bromodomain inhibitor",
          "ubiquitin specific protease inhibitor",
          "glycogen synthase kinase inhibitor",
          "JAK inhibitor",
          "Apoptosis inducer (ATP-competitive kinase inhibitor)",
          "hepatocyte growth factor receptor inhibitor",
          "bromodomain inhibitor",
          "MEK inhibitor",
          "Aurora kinase inhibitor",
          "LXR agonist",
          "phospholipase inhibitor",
          "IGF-1 inhibitor",
          "tricyclic antidepressant",
          "histone lysine demethylase inhibitor",
          "phosphodiesterase inhibitor",
          "beta-catenin inhibitor",
          "JNK inhibitor",
          "LXR agonist",
          "DNA inhibitor",
          "kinesin inhibitor",
          "phosphoinositide dependent kinase inhibitor",
          "RAF inhibitor",
          "FGFR inhibitor",
          "Bcr-Abl kinase inhibitor",
          "AMPK inhibitor",
          "pyruvate dehydrogenase kinase inhibitor",
          "phospholipase inhibitor",
          "Aurora kinase inhibitor",
          "JAK inhibitor",
          "tricyclic antidepressant",
          "PARP inhibitor",
          "BCL inhibitor",
          "inosine monophosphate dehydrogenase inhibitor",
          "MEK inhibitor",
          "histone lysine methyltransferase inhibitor",
          "HDAC inhibitor",
          "HDAC inhibitor",
          "BCL inhibitor",
          "phosphodiesterase inhibitor",
          "kinesin inhibitor",
          "CDK inhibitor",
          "CDC inhibitor",
          "RAF inhibitor",
          "protein tyrosine kinase inhibitor",
          "MAP kinase inhibitor",
          "ER stressor (SERCA inhibitor)",
          "protein arginine N-methyltransferase inhibitor",
          "Apoptosis inducer (transcription inhibitor)",
          "phosphoinositide dependent kinase inhibitor",
          "FGFR inhibitor",
          "DNA inhibitor",
          "smoothened receptor agonist",
          "JNK inhibitor",
          "CHK inhibitor",
          "EGFR inhibitor",
          "androgen receptor modulator",
          "HMGCR inhibitor",
          "acetylcholine receptor antagonist",
          "p38 MAPK inhibitor",
          "mTOR inhibitor",
          "EGFR inhibitor",
          "HMGCR inhibitor",
          "IGF-1 inhibitor",
          "protein arginine N-methyltransferase inhibitor",
          "Bcr-Abl kinase inhibitor",
          "MAP kinase inhibitor",
          "p38 MAPK inhibitor",
          "ubiquitin specific protease inhibitor",
          "beta-catenin inhibitor",
          "CDK inhibitor",
          "histone lysine demethylase inhibitor",
          "hypoxia inducible factor inhibitor",
          "androgen receptor modulator",
          "mTOR inhibitor",
          "smoothened receptor agonist",
          "hypoxia inducible factor inhibitor"
         ],
         "y": [
          0.038398695538574,
          0.1774041858179091,
          0.0224282023225964,
          0.4558580014195001,
          0.2431682002984587,
          0.0737327506100228,
          1,
          0.6218253968253968,
          0.6841463285129037,
          0.0315427144849486,
          0.0358498194682262,
          0.3820139724067746,
          0.5901484674329501,
          0.0642047298114143,
          0.4825140409699233,
          0.0167430330754792,
          0.6583026425980711,
          0.1733217500367276,
          0.2740009402760479,
          0.0148187607569428,
          0.8233974358974359,
          0.1867437201099635,
          0.5007748988912065,
          0.6416005291005291,
          0.4922165063483849,
          1,
          0.7185019841269842,
          0.432972820105173,
          0.0803721613685519,
          0.2992612138483281,
          0.0263023051833263,
          0.2685810475054661,
          0.0138775609617116,
          0.6058661145617668,
          1,
          0.0642480177195702,
          0.4984652954633052,
          0.4620797720797721,
          0.9027777777777776,
          0.9523809523809524,
          0.2563101449940149,
          0.4113821930775433,
          0.1886814994599948,
          0.1330426372583681,
          0.682936507936508,
          0.5510954070308213,
          0.5851869965753813,
          0.0843882713693281,
          0.8263888888888888,
          0.2343219159008632,
          0.4840616777013835,
          0.1569754253624423,
          0.0595452826084354,
          0.3558768045048532,
          0.3710494894598155,
          0.1391526808846964,
          0.2317431651804856,
          0.4159576216440689,
          0.1585293542005851,
          0.2588279012831442,
          0.3696216563827083,
          0.2581626600304761,
          1,
          0.2206921150459589,
          0.2480417274377241,
          0.1533878753955851,
          0.0188761296153692,
          0.7513888888888889,
          0.1807856767415591,
          0.1005030242617836,
          0.052499140004079,
          0.1678479712223636,
          0.0584582593326552,
          0.5095602813242407,
          0.7915895061728395,
          0.1032999157214723,
          0.76875,
          0.0403081228528227,
          0.1272831172047267,
          0.0830733208082303,
          0.03979434185833,
          0.1043073732908898,
          0.2335522672232721,
          0.331617807634722,
          0.8412698412698413,
          0.1052459406051185,
          0.0151806229175319,
          1,
          0.9791666666666666,
          1
         ]
        }
       ],
       "layout": {
        "boxmode": "group",
        "font": {
         "color": "Black",
         "family": "sans serif",
         "size": 24
        },
        "height": 1250,
        "legend": {
         "x": 0,
         "xanchor": "left",
         "y": 1,
         "yanchor": "top"
        },
        "plot_bgcolor": "rgba(0,0,0,0)",
        "template": {
         "data": {
          "bar": [
           {
            "error_x": {
             "color": "#2a3f5f"
            },
            "error_y": {
             "color": "#2a3f5f"
            },
            "marker": {
             "line": {
              "color": "#E5ECF6",
              "width": 0.5
             },
             "pattern": {
              "fillmode": "overlay",
              "size": 10,
              "solidity": 0.2
             }
            },
            "type": "bar"
           }
          ],
          "barpolar": [
           {
            "marker": {
             "line": {
              "color": "#E5ECF6",
              "width": 0.5
             },
             "pattern": {
              "fillmode": "overlay",
              "size": 10,
              "solidity": 0.2
             }
            },
            "type": "barpolar"
           }
          ],
          "carpet": [
           {
            "aaxis": {
             "endlinecolor": "#2a3f5f",
             "gridcolor": "white",
             "linecolor": "white",
             "minorgridcolor": "white",
             "startlinecolor": "#2a3f5f"
            },
            "baxis": {
             "endlinecolor": "#2a3f5f",
             "gridcolor": "white",
             "linecolor": "white",
             "minorgridcolor": "white",
             "startlinecolor": "#2a3f5f"
            },
            "type": "carpet"
           }
          ],
          "choropleth": [
           {
            "colorbar": {
             "outlinewidth": 0,
             "ticks": ""
            },
            "type": "choropleth"
           }
          ],
          "contour": [
           {
            "colorbar": {
             "outlinewidth": 0,
             "ticks": ""
            },
            "colorscale": [
             [
              0,
              "#0d0887"
             ],
             [
              0.1111111111111111,
              "#46039f"
             ],
             [
              0.2222222222222222,
              "#7201a8"
             ],
             [
              0.3333333333333333,
              "#9c179e"
             ],
             [
              0.4444444444444444,
              "#bd3786"
             ],
             [
              0.5555555555555556,
              "#d8576b"
             ],
             [
              0.6666666666666666,
              "#ed7953"
             ],
             [
              0.7777777777777778,
              "#fb9f3a"
             ],
             [
              0.8888888888888888,
              "#fdca26"
             ],
             [
              1,
              "#f0f921"
             ]
            ],
            "type": "contour"
           }
          ],
          "contourcarpet": [
           {
            "colorbar": {
             "outlinewidth": 0,
             "ticks": ""
            },
            "type": "contourcarpet"
           }
          ],
          "heatmap": [
           {
            "colorbar": {
             "outlinewidth": 0,
             "ticks": ""
            },
            "colorscale": [
             [
              0,
              "#0d0887"
             ],
             [
              0.1111111111111111,
              "#46039f"
             ],
             [
              0.2222222222222222,
              "#7201a8"
             ],
             [
              0.3333333333333333,
              "#9c179e"
             ],
             [
              0.4444444444444444,
              "#bd3786"
             ],
             [
              0.5555555555555556,
              "#d8576b"
             ],
             [
              0.6666666666666666,
              "#ed7953"
             ],
             [
              0.7777777777777778,
              "#fb9f3a"
             ],
             [
              0.8888888888888888,
              "#fdca26"
             ],
             [
              1,
              "#f0f921"
             ]
            ],
            "type": "heatmap"
           }
          ],
          "heatmapgl": [
           {
            "colorbar": {
             "outlinewidth": 0,
             "ticks": ""
            },
            "colorscale": [
             [
              0,
              "#0d0887"
             ],
             [
              0.1111111111111111,
              "#46039f"
             ],
             [
              0.2222222222222222,
              "#7201a8"
             ],
             [
              0.3333333333333333,
              "#9c179e"
             ],
             [
              0.4444444444444444,
              "#bd3786"
             ],
             [
              0.5555555555555556,
              "#d8576b"
             ],
             [
              0.6666666666666666,
              "#ed7953"
             ],
             [
              0.7777777777777778,
              "#fb9f3a"
             ],
             [
              0.8888888888888888,
              "#fdca26"
             ],
             [
              1,
              "#f0f921"
             ]
            ],
            "type": "heatmapgl"
           }
          ],
          "histogram": [
           {
            "marker": {
             "pattern": {
              "fillmode": "overlay",
              "size": 10,
              "solidity": 0.2
             }
            },
            "type": "histogram"
           }
          ],
          "histogram2d": [
           {
            "colorbar": {
             "outlinewidth": 0,
             "ticks": ""
            },
            "colorscale": [
             [
              0,
              "#0d0887"
             ],
             [
              0.1111111111111111,
              "#46039f"
             ],
             [
              0.2222222222222222,
              "#7201a8"
             ],
             [
              0.3333333333333333,
              "#9c179e"
             ],
             [
              0.4444444444444444,
              "#bd3786"
             ],
             [
              0.5555555555555556,
              "#d8576b"
             ],
             [
              0.6666666666666666,
              "#ed7953"
             ],
             [
              0.7777777777777778,
              "#fb9f3a"
             ],
             [
              0.8888888888888888,
              "#fdca26"
             ],
             [
              1,
              "#f0f921"
             ]
            ],
            "type": "histogram2d"
           }
          ],
          "histogram2dcontour": [
           {
            "colorbar": {
             "outlinewidth": 0,
             "ticks": ""
            },
            "colorscale": [
             [
              0,
              "#0d0887"
             ],
             [
              0.1111111111111111,
              "#46039f"
             ],
             [
              0.2222222222222222,
              "#7201a8"
             ],
             [
              0.3333333333333333,
              "#9c179e"
             ],
             [
              0.4444444444444444,
              "#bd3786"
             ],
             [
              0.5555555555555556,
              "#d8576b"
             ],
             [
              0.6666666666666666,
              "#ed7953"
             ],
             [
              0.7777777777777778,
              "#fb9f3a"
             ],
             [
              0.8888888888888888,
              "#fdca26"
             ],
             [
              1,
              "#f0f921"
             ]
            ],
            "type": "histogram2dcontour"
           }
          ],
          "mesh3d": [
           {
            "colorbar": {
             "outlinewidth": 0,
             "ticks": ""
            },
            "type": "mesh3d"
           }
          ],
          "parcoords": [
           {
            "line": {
             "colorbar": {
              "outlinewidth": 0,
              "ticks": ""
             }
            },
            "type": "parcoords"
           }
          ],
          "pie": [
           {
            "automargin": true,
            "type": "pie"
           }
          ],
          "scatter": [
           {
            "fillpattern": {
             "fillmode": "overlay",
             "size": 10,
             "solidity": 0.2
            },
            "type": "scatter"
           }
          ],
          "scatter3d": [
           {
            "line": {
             "colorbar": {
              "outlinewidth": 0,
              "ticks": ""
             }
            },
            "marker": {
             "colorbar": {
              "outlinewidth": 0,
              "ticks": ""
             }
            },
            "type": "scatter3d"
           }
          ],
          "scattercarpet": [
           {
            "marker": {
             "colorbar": {
              "outlinewidth": 0,
              "ticks": ""
             }
            },
            "type": "scattercarpet"
           }
          ],
          "scattergeo": [
           {
            "marker": {
             "colorbar": {
              "outlinewidth": 0,
              "ticks": ""
             }
            },
            "type": "scattergeo"
           }
          ],
          "scattergl": [
           {
            "marker": {
             "colorbar": {
              "outlinewidth": 0,
              "ticks": ""
             }
            },
            "type": "scattergl"
           }
          ],
          "scattermapbox": [
           {
            "marker": {
             "colorbar": {
              "outlinewidth": 0,
              "ticks": ""
             }
            },
            "type": "scattermapbox"
           }
          ],
          "scatterpolar": [
           {
            "marker": {
             "colorbar": {
              "outlinewidth": 0,
              "ticks": ""
             }
            },
            "type": "scatterpolar"
           }
          ],
          "scatterpolargl": [
           {
            "marker": {
             "colorbar": {
              "outlinewidth": 0,
              "ticks": ""
             }
            },
            "type": "scatterpolargl"
           }
          ],
          "scatterternary": [
           {
            "marker": {
             "colorbar": {
              "outlinewidth": 0,
              "ticks": ""
             }
            },
            "type": "scatterternary"
           }
          ],
          "surface": [
           {
            "colorbar": {
             "outlinewidth": 0,
             "ticks": ""
            },
            "colorscale": [
             [
              0,
              "#0d0887"
             ],
             [
              0.1111111111111111,
              "#46039f"
             ],
             [
              0.2222222222222222,
              "#7201a8"
             ],
             [
              0.3333333333333333,
              "#9c179e"
             ],
             [
              0.4444444444444444,
              "#bd3786"
             ],
             [
              0.5555555555555556,
              "#d8576b"
             ],
             [
              0.6666666666666666,
              "#ed7953"
             ],
             [
              0.7777777777777778,
              "#fb9f3a"
             ],
             [
              0.8888888888888888,
              "#fdca26"
             ],
             [
              1,
              "#f0f921"
             ]
            ],
            "type": "surface"
           }
          ],
          "table": [
           {
            "cells": {
             "fill": {
              "color": "#EBF0F8"
             },
             "line": {
              "color": "white"
             }
            },
            "header": {
             "fill": {
              "color": "#C8D4E3"
             },
             "line": {
              "color": "white"
             }
            },
            "type": "table"
           }
          ]
         },
         "layout": {
          "annotationdefaults": {
           "arrowcolor": "#2a3f5f",
           "arrowhead": 0,
           "arrowwidth": 1
          },
          "autotypenumbers": "strict",
          "coloraxis": {
           "colorbar": {
            "outlinewidth": 0,
            "ticks": ""
           }
          },
          "colorscale": {
           "diverging": [
            [
             0,
             "#8e0152"
            ],
            [
             0.1,
             "#c51b7d"
            ],
            [
             0.2,
             "#de77ae"
            ],
            [
             0.3,
             "#f1b6da"
            ],
            [
             0.4,
             "#fde0ef"
            ],
            [
             0.5,
             "#f7f7f7"
            ],
            [
             0.6,
             "#e6f5d0"
            ],
            [
             0.7,
             "#b8e186"
            ],
            [
             0.8,
             "#7fbc41"
            ],
            [
             0.9,
             "#4d9221"
            ],
            [
             1,
             "#276419"
            ]
           ],
           "sequential": [
            [
             0,
             "#0d0887"
            ],
            [
             0.1111111111111111,
             "#46039f"
            ],
            [
             0.2222222222222222,
             "#7201a8"
            ],
            [
             0.3333333333333333,
             "#9c179e"
            ],
            [
             0.4444444444444444,
             "#bd3786"
            ],
            [
             0.5555555555555556,
             "#d8576b"
            ],
            [
             0.6666666666666666,
             "#ed7953"
            ],
            [
             0.7777777777777778,
             "#fb9f3a"
            ],
            [
             0.8888888888888888,
             "#fdca26"
            ],
            [
             1,
             "#f0f921"
            ]
           ],
           "sequentialminus": [
            [
             0,
             "#0d0887"
            ],
            [
             0.1111111111111111,
             "#46039f"
            ],
            [
             0.2222222222222222,
             "#7201a8"
            ],
            [
             0.3333333333333333,
             "#9c179e"
            ],
            [
             0.4444444444444444,
             "#bd3786"
            ],
            [
             0.5555555555555556,
             "#d8576b"
            ],
            [
             0.6666666666666666,
             "#ed7953"
            ],
            [
             0.7777777777777778,
             "#fb9f3a"
            ],
            [
             0.8888888888888888,
             "#fdca26"
            ],
            [
             1,
             "#f0f921"
            ]
           ]
          },
          "colorway": [
           "#636efa",
           "#EF553B",
           "#00cc96",
           "#ab63fa",
           "#FFA15A",
           "#19d3f3",
           "#FF6692",
           "#B6E880",
           "#FF97FF",
           "#FECB52"
          ],
          "font": {
           "color": "#2a3f5f"
          },
          "geo": {
           "bgcolor": "white",
           "lakecolor": "white",
           "landcolor": "#E5ECF6",
           "showlakes": true,
           "showland": true,
           "subunitcolor": "white"
          },
          "hoverlabel": {
           "align": "left"
          },
          "hovermode": "closest",
          "mapbox": {
           "style": "light"
          },
          "paper_bgcolor": "white",
          "plot_bgcolor": "#E5ECF6",
          "polar": {
           "angularaxis": {
            "gridcolor": "white",
            "linecolor": "white",
            "ticks": ""
           },
           "bgcolor": "#E5ECF6",
           "radialaxis": {
            "gridcolor": "white",
            "linecolor": "white",
            "ticks": ""
           }
          },
          "scene": {
           "xaxis": {
            "backgroundcolor": "#E5ECF6",
            "gridcolor": "white",
            "gridwidth": 2,
            "linecolor": "white",
            "showbackground": true,
            "ticks": "",
            "zerolinecolor": "white"
           },
           "yaxis": {
            "backgroundcolor": "#E5ECF6",
            "gridcolor": "white",
            "gridwidth": 2,
            "linecolor": "white",
            "showbackground": true,
            "ticks": "",
            "zerolinecolor": "white"
           },
           "zaxis": {
            "backgroundcolor": "#E5ECF6",
            "gridcolor": "white",
            "gridwidth": 2,
            "linecolor": "white",
            "showbackground": true,
            "ticks": "",
            "zerolinecolor": "white"
           }
          },
          "shapedefaults": {
           "line": {
            "color": "#2a3f5f"
           }
          },
          "ternary": {
           "aaxis": {
            "gridcolor": "white",
            "linecolor": "white",
            "ticks": ""
           },
           "baxis": {
            "gridcolor": "white",
            "linecolor": "white",
            "ticks": ""
           },
           "bgcolor": "#E5ECF6",
           "caxis": {
            "gridcolor": "white",
            "linecolor": "white",
            "ticks": ""
           }
          },
          "title": {
           "x": 0.05
          },
          "xaxis": {
           "automargin": true,
           "gridcolor": "white",
           "linecolor": "white",
           "ticks": "",
           "title": {
            "standoff": 15
           },
           "zerolinecolor": "white",
           "zerolinewidth": 2
          },
          "yaxis": {
           "automargin": true,
           "gridcolor": "white",
           "linecolor": "white",
           "ticks": "",
           "title": {
            "standoff": 15
           },
           "zerolinecolor": "white",
           "zerolinewidth": 2
          }
         }
        },
        "width": 2000,
        "xaxis": {
         "categoryorder": "mean ascending",
         "linecolor": "black",
         "tickangle": 90
        },
        "yaxis": {
         "linecolor": "black",
         "title": {
          "text": "Mean average precision"
         }
        }
       }
      }
     },
     "metadata": {},
     "output_type": "display_data"
    }
   ],
   "source": [
    "mAP_treatment_plot_colorscheme.update_layout(legend=dict(x=0,y=1,xanchor='left',yanchor='top'))"
   ]
  },
  {
   "cell_type": "code",
   "execution_count": null,
   "metadata": {},
   "outputs": [],
   "source": []
  }
 ],
 "metadata": {
  "kernelspec": {
   "display_name": "copairs",
   "language": "python",
   "name": "python3"
  },
  "language_info": {
   "codemirror_mode": {
    "name": "ipython",
    "version": 3
   },
   "file_extension": ".py",
   "mimetype": "text/x-python",
   "name": "python",
   "nbconvert_exporter": "python",
   "pygments_lexer": "ipython3",
   "version": "3.12.2"
  }
 },
 "nbformat": 4,
 "nbformat_minor": 2
}
