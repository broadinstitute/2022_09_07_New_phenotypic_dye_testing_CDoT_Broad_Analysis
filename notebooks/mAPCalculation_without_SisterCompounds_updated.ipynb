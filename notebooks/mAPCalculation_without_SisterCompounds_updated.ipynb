{
 "cells": [
  {
   "cell_type": "markdown",
   "metadata": {},
   "source": [
    "### Details of the parameters used in this notebook\n",
    "\n",
    "* pos_sameby - 'Metadata_broad_sample', compound treatments\n",
    "* neg_diffby - 'Metadata_broad_Sample', 'Metadata_MOA', 'Metadata_control_type' (control columns)\n",
    "\n",
    "For phenotypic distinctiveness, we need to drop the controls. "
   ]
  },
  {
   "cell_type": "code",
   "execution_count": 1,
   "metadata": {},
   "outputs": [
    {
     "name": "stdout",
     "output_type": "stream",
     "text": [
      "Python 3.12.2\n"
     ]
    }
   ],
   "source": [
    "!python --version"
   ]
  },
  {
   "cell_type": "code",
   "execution_count": 16,
   "metadata": {},
   "outputs": [
    {
     "name": "stdout",
     "output_type": "stream",
     "text": [
      "The autoreload extension is already loaded. To reload it, use:\n",
      "  %reload_ext autoreload\n"
     ]
    }
   ],
   "source": [
    "#importing necessary modules \n",
    "import pandas as pd\n",
    "import numpy as np\n",
    "import matplotlib.pyplot as plt\n",
    "from sklearn.decomposition import PCA\n",
    "from sklearn.preprocessing import StandardScaler\n",
    "import plotly.graph_objects as go\n",
    "from plotly.subplots import make_subplots\n",
    "import plotly.express as px\n",
    "import seaborn as sns\n",
    "import copairs\n",
    "import pycytominer\n",
    "from copairs.map import average_precision\n",
    "from copairs.map import mean_average_precision\n",
    "from utils import * \n",
    "\n",
    "%load_ext autoreload\n",
    "%autoreload 2"
   ]
  },
  {
   "cell_type": "code",
   "execution_count": 3,
   "metadata": {},
   "outputs": [
    {
     "name": "stdout",
     "output_type": "stream",
     "text": [
      "Name: copairs\n",
      "Version: 0.4.1\n",
      "Summary: Find pairs and compute metrics between them\n",
      "Home-page: \n",
      "Author: \n",
      "Author-email: John Arevalo <johnarevalo@gmail.com>\n",
      "License: \n",
      "Location: c:\\Users\\ssivagur\\Anaconda3\\envs\\copairs\\Lib\\site-packages\n",
      "Requires: pandas, statsmodels, tqdm\n",
      "Required-by: \n",
      "Note: you may need to restart the kernel to use updated packages.\n"
     ]
    }
   ],
   "source": [
    "pip show copairs"
   ]
  },
  {
   "cell_type": "markdown",
   "metadata": {},
   "source": [
    "#### Reading the dataframes "
   ]
  },
  {
   "cell_type": "code",
   "execution_count": 17,
   "metadata": {},
   "outputs": [],
   "source": [
    "#Reading the normalized and feature selected files for copairs - fixed cells and 48h time point\n",
    "dict_to_load_feature_selected = {'c:\\\\Users\\\\ssivagur\\\\Documents\\\\Projects\\\\Cell_painting_projects\\\\CDoT\\\\Batch3_analysis_redo\\\\UpdatedCopairsVersion\\\\BR00122250_normalized_feature_select_negcon_batch.csv':'Standard CP',\n",
    "                                 'c:\\\\Users\\\\ssivagur\\\\Documents\\\\Projects\\\\Cell_painting_projects\\\\CDoT\\\\Batch3_analysis_redo\\\\UpdatedCopairsVersion\\\\BR00122246_normalized_feature_select_negcon_batch.csv':'CP + MitoBrilliant',\n",
    "                                 'c:\\\\Users\\\\ssivagur\\\\Documents\\\\Projects\\\\Cell_painting_projects\\\\CDoT\\\\Batch3_analysis_redo\\\\UpdatedCopairsVersion\\\\BR00122247_normalized_feature_select_negcon_batch.csv':'CP + Phenovue phalloidin 400LS',\n",
    "                                 'c:\\\\Users\\\\ssivagur\\\\Documents\\\\Projects\\\\Cell_painting_projects\\\\CDoT\\\\Batch3_analysis_redo\\\\UpdatedCopairsVersion\\\\BR00122248_normalized_feature_select_negcon_batch.csv':'Standard CP (exposed to ChromaLive)',\n",
    "                                 'c:\\\\Users\\\\ssivagur\\\\Documents\\\\Projects\\\\Cell_painting_projects\\\\CDoT\\\\Batch3_analysis_redo\\\\UpdatedCopairsVersion\\\\BR00122249_normalized_feature_select_negcon_batch_wo_phasefeatures.csv':'ChromaLive + Hoechst'\n",
    "\n",
    "}\n"
   ]
  },
  {
   "cell_type": "code",
   "execution_count": 18,
   "metadata": {},
   "outputs": [
    {
     "name": "stderr",
     "output_type": "stream",
     "text": [
      "c:\\Users\\ssivagur\\Documents\\GitHub\\2022_09_07_New_phenotypic_dye_testing_CDoT_Broad_Analysis\\notebooks\\utils.py:762: FutureWarning:\n",
      "\n",
      "A value is trying to be set on a copy of a DataFrame or Series through chained assignment using an inplace method.\n",
      "The behavior will change in pandas 3.0. This inplace method will never work because the intermediate object on which we are setting values always behaves as a copy.\n",
      "\n",
      "For example, when doing 'df[col].method(value, inplace=True)', try using 'df.method({col: value}, inplace=True)' or df[col] = df[col].method(value) instead, to perform the operation inplace on the original object.\n",
      "\n",
      "\n",
      "\n",
      "c:\\Users\\ssivagur\\Documents\\GitHub\\2022_09_07_New_phenotypic_dye_testing_CDoT_Broad_Analysis\\notebooks\\utils.py:763: FutureWarning:\n",
      "\n",
      "A value is trying to be set on a copy of a DataFrame or Series through chained assignment using an inplace method.\n",
      "The behavior will change in pandas 3.0. This inplace method will never work because the intermediate object on which we are setting values always behaves as a copy.\n",
      "\n",
      "For example, when doing 'df[col].method(value, inplace=True)', try using 'df.method({col: value}, inplace=True)' or df[col] = df[col].method(value) instead, to perform the operation inplace on the original object.\n",
      "\n",
      "\n",
      "\n",
      "c:\\Users\\ssivagur\\Documents\\GitHub\\2022_09_07_New_phenotypic_dye_testing_CDoT_Broad_Analysis\\notebooks\\utils.py:762: FutureWarning:\n",
      "\n",
      "A value is trying to be set on a copy of a DataFrame or Series through chained assignment using an inplace method.\n",
      "The behavior will change in pandas 3.0. This inplace method will never work because the intermediate object on which we are setting values always behaves as a copy.\n",
      "\n",
      "For example, when doing 'df[col].method(value, inplace=True)', try using 'df.method({col: value}, inplace=True)' or df[col] = df[col].method(value) instead, to perform the operation inplace on the original object.\n",
      "\n",
      "\n",
      "\n",
      "c:\\Users\\ssivagur\\Documents\\GitHub\\2022_09_07_New_phenotypic_dye_testing_CDoT_Broad_Analysis\\notebooks\\utils.py:763: FutureWarning:\n",
      "\n",
      "A value is trying to be set on a copy of a DataFrame or Series through chained assignment using an inplace method.\n",
      "The behavior will change in pandas 3.0. This inplace method will never work because the intermediate object on which we are setting values always behaves as a copy.\n",
      "\n",
      "For example, when doing 'df[col].method(value, inplace=True)', try using 'df.method({col: value}, inplace=True)' or df[col] = df[col].method(value) instead, to perform the operation inplace on the original object.\n",
      "\n",
      "\n",
      "\n",
      "c:\\Users\\ssivagur\\Documents\\GitHub\\2022_09_07_New_phenotypic_dye_testing_CDoT_Broad_Analysis\\notebooks\\utils.py:762: FutureWarning:\n",
      "\n",
      "A value is trying to be set on a copy of a DataFrame or Series through chained assignment using an inplace method.\n",
      "The behavior will change in pandas 3.0. This inplace method will never work because the intermediate object on which we are setting values always behaves as a copy.\n",
      "\n",
      "For example, when doing 'df[col].method(value, inplace=True)', try using 'df.method({col: value}, inplace=True)' or df[col] = df[col].method(value) instead, to perform the operation inplace on the original object.\n",
      "\n",
      "\n",
      "\n",
      "c:\\Users\\ssivagur\\Documents\\GitHub\\2022_09_07_New_phenotypic_dye_testing_CDoT_Broad_Analysis\\notebooks\\utils.py:763: FutureWarning:\n",
      "\n",
      "A value is trying to be set on a copy of a DataFrame or Series through chained assignment using an inplace method.\n",
      "The behavior will change in pandas 3.0. This inplace method will never work because the intermediate object on which we are setting values always behaves as a copy.\n",
      "\n",
      "For example, when doing 'df[col].method(value, inplace=True)', try using 'df.method({col: value}, inplace=True)' or df[col] = df[col].method(value) instead, to perform the operation inplace on the original object.\n",
      "\n",
      "\n",
      "\n",
      "c:\\Users\\ssivagur\\Documents\\GitHub\\2022_09_07_New_phenotypic_dye_testing_CDoT_Broad_Analysis\\notebooks\\utils.py:762: FutureWarning:\n",
      "\n",
      "A value is trying to be set on a copy of a DataFrame or Series through chained assignment using an inplace method.\n",
      "The behavior will change in pandas 3.0. This inplace method will never work because the intermediate object on which we are setting values always behaves as a copy.\n",
      "\n",
      "For example, when doing 'df[col].method(value, inplace=True)', try using 'df.method({col: value}, inplace=True)' or df[col] = df[col].method(value) instead, to perform the operation inplace on the original object.\n",
      "\n",
      "\n",
      "\n",
      "c:\\Users\\ssivagur\\Documents\\GitHub\\2022_09_07_New_phenotypic_dye_testing_CDoT_Broad_Analysis\\notebooks\\utils.py:763: FutureWarning:\n",
      "\n",
      "A value is trying to be set on a copy of a DataFrame or Series through chained assignment using an inplace method.\n",
      "The behavior will change in pandas 3.0. This inplace method will never work because the intermediate object on which we are setting values always behaves as a copy.\n",
      "\n",
      "For example, when doing 'df[col].method(value, inplace=True)', try using 'df.method({col: value}, inplace=True)' or df[col] = df[col].method(value) instead, to perform the operation inplace on the original object.\n",
      "\n",
      "\n",
      "\n",
      "c:\\Users\\ssivagur\\Documents\\GitHub\\2022_09_07_New_phenotypic_dye_testing_CDoT_Broad_Analysis\\notebooks\\utils.py:762: FutureWarning:\n",
      "\n",
      "A value is trying to be set on a copy of a DataFrame or Series through chained assignment using an inplace method.\n",
      "The behavior will change in pandas 3.0. This inplace method will never work because the intermediate object on which we are setting values always behaves as a copy.\n",
      "\n",
      "For example, when doing 'df[col].method(value, inplace=True)', try using 'df.method({col: value}, inplace=True)' or df[col] = df[col].method(value) instead, to perform the operation inplace on the original object.\n",
      "\n",
      "\n",
      "\n",
      "c:\\Users\\ssivagur\\Documents\\GitHub\\2022_09_07_New_phenotypic_dye_testing_CDoT_Broad_Analysis\\notebooks\\utils.py:763: FutureWarning:\n",
      "\n",
      "A value is trying to be set on a copy of a DataFrame or Series through chained assignment using an inplace method.\n",
      "The behavior will change in pandas 3.0. This inplace method will never work because the intermediate object on which we are setting values always behaves as a copy.\n",
      "\n",
      "For example, when doing 'df[col].method(value, inplace=True)', try using 'df.method({col: value}, inplace=True)' or df[col] = df[col].method(value) instead, to perform the operation inplace on the original object.\n",
      "\n",
      "\n",
      "\n",
      "                                             \r"
     ]
    },
    {
     "data": {
      "application/vnd.plotly.v1+json": {
       "config": {
        "plotlyServerURL": "https://plot.ly"
       },
       "data": [
        {
         "alignmentgroup": "True",
         "box": {
          "visible": true
         },
         "hovertemplate": "color=ChromaLive + Hoechst<br>x=%{x}<br>y=%{y}<extra></extra>",
         "legendgroup": "ChromaLive + Hoechst",
         "marker": {
          "color": "#cc78bc"
         },
         "name": "ChromaLive + Hoechst",
         "offsetgroup": "ChromaLive + Hoechst",
         "orientation": "h",
         "points": "all",
         "scalegroup": "True",
         "showlegend": true,
         "type": "violin",
         "width": 0.5,
         "x": [
          0.038398695538574015,
          0.17740418581790918,
          0.022428202322596433,
          0.4558580014195001,
          0.2431682002984587,
          0.07373275061002289,
          1,
          0.6218253968253968,
          0.6841463285129037,
          0.031542714484948664,
          0.03584981946822626,
          0.3820139724067746,
          0.5901484674329501,
          0.06420472981141438,
          0.48251404096992334,
          0.016743033075479266,
          0.6583026425980711,
          0.17332175003672762,
          0.2740009402760479,
          0.014818760756942852,
          0.8233974358974359,
          0.18674372010996354,
          0.5007748988912065,
          0.6416005291005291,
          0.4922165063483849,
          1,
          0.7185019841269842,
          0.432972820105173,
          0.08037216136855192,
          0.29926121384832816,
          0.02630230518332631,
          0.2685810475054661,
          0.013877560961711681,
          0.6058661145617668,
          1,
          0.06424801771957027,
          0.4984652954633052,
          0.4620797720797721,
          0.9027777777777777,
          0.9523809523809524,
          0.25631014499401494,
          0.4113821930775433,
          0.18868149945999485,
          0.13304263725836812,
          0.682936507936508,
          0.5510954070308213,
          0.5851869965753813,
          0.08438827136932814,
          0.8263888888888888,
          0.23432191590086326,
          0.48406167770138353,
          0.1569754253624423,
          0.05954528260843543,
          0.35587680450485326,
          0.3710494894598155,
          0.13915268088469643,
          0.23174316518048563,
          0.41595762164406896,
          0.15852935420058514,
          0.25882790128314426,
          0.3696216563827083,
          0.2581626600304761,
          1,
          0.22069211504595898,
          0.2480417274377241,
          0.15338787539558518,
          0.018876129615369212,
          0.7513888888888889,
          0.1807856767415591,
          0.10050302426178365,
          0.052499140004079035,
          0.16784797122236367,
          0.05845825933265525,
          0.5095602813242407,
          0.7915895061728395,
          0.10329991572147233,
          0.76875,
          0.04030812285282271,
          0.1272831172047267,
          0.0830733208082303,
          0.03979434185833008,
          0.10430737329088989,
          0.23355226722327213,
          0.331617807634722,
          0.8412698412698413,
          0.10524594060511858,
          0.015180622917531984,
          1,
          0.9791666666666666,
          1
         ],
         "x0": " ",
         "xaxis": "x",
         "y": [
          "ChromaLive + Hoechst",
          "ChromaLive + Hoechst",
          "ChromaLive + Hoechst",
          "ChromaLive + Hoechst",
          "ChromaLive + Hoechst",
          "ChromaLive + Hoechst",
          "ChromaLive + Hoechst",
          "ChromaLive + Hoechst",
          "ChromaLive + Hoechst",
          "ChromaLive + Hoechst",
          "ChromaLive + Hoechst",
          "ChromaLive + Hoechst",
          "ChromaLive + Hoechst",
          "ChromaLive + Hoechst",
          "ChromaLive + Hoechst",
          "ChromaLive + Hoechst",
          "ChromaLive + Hoechst",
          "ChromaLive + Hoechst",
          "ChromaLive + Hoechst",
          "ChromaLive + Hoechst",
          "ChromaLive + Hoechst",
          "ChromaLive + Hoechst",
          "ChromaLive + Hoechst",
          "ChromaLive + Hoechst",
          "ChromaLive + Hoechst",
          "ChromaLive + Hoechst",
          "ChromaLive + Hoechst",
          "ChromaLive + Hoechst",
          "ChromaLive + Hoechst",
          "ChromaLive + Hoechst",
          "ChromaLive + Hoechst",
          "ChromaLive + Hoechst",
          "ChromaLive + Hoechst",
          "ChromaLive + Hoechst",
          "ChromaLive + Hoechst",
          "ChromaLive + Hoechst",
          "ChromaLive + Hoechst",
          "ChromaLive + Hoechst",
          "ChromaLive + Hoechst",
          "ChromaLive + Hoechst",
          "ChromaLive + Hoechst",
          "ChromaLive + Hoechst",
          "ChromaLive + Hoechst",
          "ChromaLive + Hoechst",
          "ChromaLive + Hoechst",
          "ChromaLive + Hoechst",
          "ChromaLive + Hoechst",
          "ChromaLive + Hoechst",
          "ChromaLive + Hoechst",
          "ChromaLive + Hoechst",
          "ChromaLive + Hoechst",
          "ChromaLive + Hoechst",
          "ChromaLive + Hoechst",
          "ChromaLive + Hoechst",
          "ChromaLive + Hoechst",
          "ChromaLive + Hoechst",
          "ChromaLive + Hoechst",
          "ChromaLive + Hoechst",
          "ChromaLive + Hoechst",
          "ChromaLive + Hoechst",
          "ChromaLive + Hoechst",
          "ChromaLive + Hoechst",
          "ChromaLive + Hoechst",
          "ChromaLive + Hoechst",
          "ChromaLive + Hoechst",
          "ChromaLive + Hoechst",
          "ChromaLive + Hoechst",
          "ChromaLive + Hoechst",
          "ChromaLive + Hoechst",
          "ChromaLive + Hoechst",
          "ChromaLive + Hoechst",
          "ChromaLive + Hoechst",
          "ChromaLive + Hoechst",
          "ChromaLive + Hoechst",
          "ChromaLive + Hoechst",
          "ChromaLive + Hoechst",
          "ChromaLive + Hoechst",
          "ChromaLive + Hoechst",
          "ChromaLive + Hoechst",
          "ChromaLive + Hoechst",
          "ChromaLive + Hoechst",
          "ChromaLive + Hoechst",
          "ChromaLive + Hoechst",
          "ChromaLive + Hoechst",
          "ChromaLive + Hoechst",
          "ChromaLive + Hoechst",
          "ChromaLive + Hoechst",
          "ChromaLive + Hoechst",
          "ChromaLive + Hoechst",
          "ChromaLive + Hoechst"
         ],
         "y0": " ",
         "yaxis": "y"
        },
        {
         "alignmentgroup": "True",
         "box": {
          "visible": true
         },
         "hovertemplate": "color=Standard CP (exposed to ChromaLive)<br>x=%{x}<br>y=%{y}<extra></extra>",
         "legendgroup": "Standard CP (exposed to ChromaLive)",
         "marker": {
          "color": "#d55e00"
         },
         "name": "Standard CP (exposed to ChromaLive)",
         "offsetgroup": "Standard CP (exposed to ChromaLive)",
         "orientation": "h",
         "points": "all",
         "scalegroup": "True",
         "showlegend": true,
         "type": "violin",
         "width": 0.5,
         "x": [
          0.028842311460832618,
          0.010496990439209573,
          0.027745843912776146,
          0.16528183145830205,
          0.10019468578339732,
          0.031732052084506523,
          1,
          0.483008658008658,
          0.9666666666666667,
          0.019587878889861878,
          0.02831996049686089,
          1,
          1,
          0.011389426922266044,
          0.5903769841269841,
          0.022256508830947583,
          0.8468253968253968,
          0.015303220571489988,
          0.2420070396376544,
          0.017918391610328,
          1,
          0.24091790640250205,
          0.9791666666666666,
          1,
          0.060490820308886764,
          1,
          0.06781774108538399,
          0.0451909259752654,
          0.03806646016761592,
          0.020882539264351463,
          0.10400781627224523,
          0.23964922401263078,
          0.00826054609887462,
          0.6747685185185186,
          1,
          0.42995423608039707,
          0.4394112695583284,
          0.7027777777777778,
          0.1961503255194022,
          1,
          0.7298245614035088,
          0.5493676412154672,
          0.2051908077997371,
          0.018610313916719884,
          0.9097222222222222,
          0.33064835396906495,
          1,
          0.6961309523809524,
          0.5567614023112087,
          0.9458333333333333,
          0.6228397267955776,
          0.27685329270042813,
          0.00868237094369165,
          0.46767178362573103,
          0.7444444444444445,
          0.029279349542866782,
          0.7268939393939393,
          0.044165978161577385,
          0.01681041876587685,
          0.9513888888888888,
          0.3040060152845412,
          0.5489087301587301,
          0.9107142857142858,
          1,
          0.46665140415140416,
          0.30320238037629343,
          0.019352673840917843,
          0.6519287704632533,
          0.15755141633871084,
          0.05365852900203222,
          0.013759703440687497,
          0.06735112540922569,
          0.23921374492258532,
          0.5131544639432165,
          0.4752870179754186,
          0.01331307843678436,
          1,
          0.12160621058054238,
          0.5965253581107239,
          0.47897737829803044,
          0.09752910332179295,
          0.2163750209750927,
          0.6685910954938814,
          0.6405753968253969,
          0.9791666666666666,
          0.06334358718921318,
          0.027395042653164538,
          1,
          0.15314585282646903,
          0.3900526556776557
         ],
         "x0": " ",
         "xaxis": "x",
         "y": [
          "Standard CP (exposed to ChromaLive)",
          "Standard CP (exposed to ChromaLive)",
          "Standard CP (exposed to ChromaLive)",
          "Standard CP (exposed to ChromaLive)",
          "Standard CP (exposed to ChromaLive)",
          "Standard CP (exposed to ChromaLive)",
          "Standard CP (exposed to ChromaLive)",
          "Standard CP (exposed to ChromaLive)",
          "Standard CP (exposed to ChromaLive)",
          "Standard CP (exposed to ChromaLive)",
          "Standard CP (exposed to ChromaLive)",
          "Standard CP (exposed to ChromaLive)",
          "Standard CP (exposed to ChromaLive)",
          "Standard CP (exposed to ChromaLive)",
          "Standard CP (exposed to ChromaLive)",
          "Standard CP (exposed to ChromaLive)",
          "Standard CP (exposed to ChromaLive)",
          "Standard CP (exposed to ChromaLive)",
          "Standard CP (exposed to ChromaLive)",
          "Standard CP (exposed to ChromaLive)",
          "Standard CP (exposed to ChromaLive)",
          "Standard CP (exposed to ChromaLive)",
          "Standard CP (exposed to ChromaLive)",
          "Standard CP (exposed to ChromaLive)",
          "Standard CP (exposed to ChromaLive)",
          "Standard CP (exposed to ChromaLive)",
          "Standard CP (exposed to ChromaLive)",
          "Standard CP (exposed to ChromaLive)",
          "Standard CP (exposed to ChromaLive)",
          "Standard CP (exposed to ChromaLive)",
          "Standard CP (exposed to ChromaLive)",
          "Standard CP (exposed to ChromaLive)",
          "Standard CP (exposed to ChromaLive)",
          "Standard CP (exposed to ChromaLive)",
          "Standard CP (exposed to ChromaLive)",
          "Standard CP (exposed to ChromaLive)",
          "Standard CP (exposed to ChromaLive)",
          "Standard CP (exposed to ChromaLive)",
          "Standard CP (exposed to ChromaLive)",
          "Standard CP (exposed to ChromaLive)",
          "Standard CP (exposed to ChromaLive)",
          "Standard CP (exposed to ChromaLive)",
          "Standard CP (exposed to ChromaLive)",
          "Standard CP (exposed to ChromaLive)",
          "Standard CP (exposed to ChromaLive)",
          "Standard CP (exposed to ChromaLive)",
          "Standard CP (exposed to ChromaLive)",
          "Standard CP (exposed to ChromaLive)",
          "Standard CP (exposed to ChromaLive)",
          "Standard CP (exposed to ChromaLive)",
          "Standard CP (exposed to ChromaLive)",
          "Standard CP (exposed to ChromaLive)",
          "Standard CP (exposed to ChromaLive)",
          "Standard CP (exposed to ChromaLive)",
          "Standard CP (exposed to ChromaLive)",
          "Standard CP (exposed to ChromaLive)",
          "Standard CP (exposed to ChromaLive)",
          "Standard CP (exposed to ChromaLive)",
          "Standard CP (exposed to ChromaLive)",
          "Standard CP (exposed to ChromaLive)",
          "Standard CP (exposed to ChromaLive)",
          "Standard CP (exposed to ChromaLive)",
          "Standard CP (exposed to ChromaLive)",
          "Standard CP (exposed to ChromaLive)",
          "Standard CP (exposed to ChromaLive)",
          "Standard CP (exposed to ChromaLive)",
          "Standard CP (exposed to ChromaLive)",
          "Standard CP (exposed to ChromaLive)",
          "Standard CP (exposed to ChromaLive)",
          "Standard CP (exposed to ChromaLive)",
          "Standard CP (exposed to ChromaLive)",
          "Standard CP (exposed to ChromaLive)",
          "Standard CP (exposed to ChromaLive)",
          "Standard CP (exposed to ChromaLive)",
          "Standard CP (exposed to ChromaLive)",
          "Standard CP (exposed to ChromaLive)",
          "Standard CP (exposed to ChromaLive)",
          "Standard CP (exposed to ChromaLive)",
          "Standard CP (exposed to ChromaLive)",
          "Standard CP (exposed to ChromaLive)",
          "Standard CP (exposed to ChromaLive)",
          "Standard CP (exposed to ChromaLive)",
          "Standard CP (exposed to ChromaLive)",
          "Standard CP (exposed to ChromaLive)",
          "Standard CP (exposed to ChromaLive)",
          "Standard CP (exposed to ChromaLive)",
          "Standard CP (exposed to ChromaLive)",
          "Standard CP (exposed to ChromaLive)",
          "Standard CP (exposed to ChromaLive)",
          "Standard CP (exposed to ChromaLive)"
         ],
         "y0": " ",
         "yaxis": "y"
        },
        {
         "alignmentgroup": "True",
         "box": {
          "visible": true
         },
         "hovertemplate": "color=CP + Phenovue phalloidin 400LS<br>x=%{x}<br>y=%{y}<extra></extra>",
         "legendgroup": "CP + Phenovue phalloidin 400LS",
         "marker": {
          "color": "#029e73"
         },
         "name": "CP + Phenovue phalloidin 400LS",
         "offsetgroup": "CP + Phenovue phalloidin 400LS",
         "orientation": "h",
         "points": "all",
         "scalegroup": "True",
         "showlegend": true,
         "type": "violin",
         "width": 0.5,
         "x": [
          0.11123772815128267,
          0.010965474179758045,
          0.12212315503303109,
          0.09196392205951147,
          0.046515945598244575,
          0.0354565709463584,
          1,
          0.7405753968253969,
          0.6870879120879121,
          0.01878827831620809,
          0.011239871284072675,
          1,
          0.8694444444444445,
          0.030150878805926304,
          0.6296642092278282,
          0.020182218513662156,
          1,
          0.02456370159385761,
          0.6898656898656899,
          0.010779116821417939,
          1,
          0.29158727979409066,
          1,
          0.9583333333333334,
          0.04448108355996827,
          0.5790053960180563,
          0.13613087896332657,
          0.028847665271016943,
          0.01748716510398551,
          0.012971496055416351,
          0.012083976425491747,
          0.16700261438626965,
          0.009642045835361865,
          0.8669642857142857,
          1,
          0.031574066067913104,
          0.790909090909091,
          0.5147837066315327,
          0.10542550677531504,
          0.834090909090909,
          0.9791666666666666,
          0.4595219017094017,
          0.11636634608227163,
          0.03085602163246435,
          0.7041666666666666,
          0.9583333333333334,
          0.2617092042910354,
          0.9791666666666666,
          0.7038392857142857,
          0.5387896825396825,
          0.8396915584415584,
          0.33953265649694225,
          0.008633886662175183,
          0.480106964384305,
          0.4640505328005328,
          0.022545188931629736,
          0.5644890410515411,
          0.022724507495354596,
          0.1904324197052552,
          1,
          0.8888888888888888,
          0.4832902001380262,
          0.5264890304412363,
          0.7786630036630037,
          0.4536352657004831,
          0.1617616659187257,
          0.01689985782570721,
          0.5600560897435898,
          0.1444461118846186,
          0.029395548149005246,
          0.2513746879129173,
          0.1450295844577917,
          0.5446661998132586,
          1,
          1,
          0.020747202947766646,
          0.6679197994987469,
          0.016348907415945184,
          0.7873093681917211,
          0.6117723842018197,
          0.1799989628926765,
          0.10438516546930557,
          0.4906500226145805,
          1,
          1,
          0.42261904761904756,
          0.06823566325595849,
          0.9208333333333333,
          0.2679947084742481,
          0.4835733153334221
         ],
         "x0": " ",
         "xaxis": "x",
         "y": [
          "CP + Phenovue phalloidin 400LS",
          "CP + Phenovue phalloidin 400LS",
          "CP + Phenovue phalloidin 400LS",
          "CP + Phenovue phalloidin 400LS",
          "CP + Phenovue phalloidin 400LS",
          "CP + Phenovue phalloidin 400LS",
          "CP + Phenovue phalloidin 400LS",
          "CP + Phenovue phalloidin 400LS",
          "CP + Phenovue phalloidin 400LS",
          "CP + Phenovue phalloidin 400LS",
          "CP + Phenovue phalloidin 400LS",
          "CP + Phenovue phalloidin 400LS",
          "CP + Phenovue phalloidin 400LS",
          "CP + Phenovue phalloidin 400LS",
          "CP + Phenovue phalloidin 400LS",
          "CP + Phenovue phalloidin 400LS",
          "CP + Phenovue phalloidin 400LS",
          "CP + Phenovue phalloidin 400LS",
          "CP + Phenovue phalloidin 400LS",
          "CP + Phenovue phalloidin 400LS",
          "CP + Phenovue phalloidin 400LS",
          "CP + Phenovue phalloidin 400LS",
          "CP + Phenovue phalloidin 400LS",
          "CP + Phenovue phalloidin 400LS",
          "CP + Phenovue phalloidin 400LS",
          "CP + Phenovue phalloidin 400LS",
          "CP + Phenovue phalloidin 400LS",
          "CP + Phenovue phalloidin 400LS",
          "CP + Phenovue phalloidin 400LS",
          "CP + Phenovue phalloidin 400LS",
          "CP + Phenovue phalloidin 400LS",
          "CP + Phenovue phalloidin 400LS",
          "CP + Phenovue phalloidin 400LS",
          "CP + Phenovue phalloidin 400LS",
          "CP + Phenovue phalloidin 400LS",
          "CP + Phenovue phalloidin 400LS",
          "CP + Phenovue phalloidin 400LS",
          "CP + Phenovue phalloidin 400LS",
          "CP + Phenovue phalloidin 400LS",
          "CP + Phenovue phalloidin 400LS",
          "CP + Phenovue phalloidin 400LS",
          "CP + Phenovue phalloidin 400LS",
          "CP + Phenovue phalloidin 400LS",
          "CP + Phenovue phalloidin 400LS",
          "CP + Phenovue phalloidin 400LS",
          "CP + Phenovue phalloidin 400LS",
          "CP + Phenovue phalloidin 400LS",
          "CP + Phenovue phalloidin 400LS",
          "CP + Phenovue phalloidin 400LS",
          "CP + Phenovue phalloidin 400LS",
          "CP + Phenovue phalloidin 400LS",
          "CP + Phenovue phalloidin 400LS",
          "CP + Phenovue phalloidin 400LS",
          "CP + Phenovue phalloidin 400LS",
          "CP + Phenovue phalloidin 400LS",
          "CP + Phenovue phalloidin 400LS",
          "CP + Phenovue phalloidin 400LS",
          "CP + Phenovue phalloidin 400LS",
          "CP + Phenovue phalloidin 400LS",
          "CP + Phenovue phalloidin 400LS",
          "CP + Phenovue phalloidin 400LS",
          "CP + Phenovue phalloidin 400LS",
          "CP + Phenovue phalloidin 400LS",
          "CP + Phenovue phalloidin 400LS",
          "CP + Phenovue phalloidin 400LS",
          "CP + Phenovue phalloidin 400LS",
          "CP + Phenovue phalloidin 400LS",
          "CP + Phenovue phalloidin 400LS",
          "CP + Phenovue phalloidin 400LS",
          "CP + Phenovue phalloidin 400LS",
          "CP + Phenovue phalloidin 400LS",
          "CP + Phenovue phalloidin 400LS",
          "CP + Phenovue phalloidin 400LS",
          "CP + Phenovue phalloidin 400LS",
          "CP + Phenovue phalloidin 400LS",
          "CP + Phenovue phalloidin 400LS",
          "CP + Phenovue phalloidin 400LS",
          "CP + Phenovue phalloidin 400LS",
          "CP + Phenovue phalloidin 400LS",
          "CP + Phenovue phalloidin 400LS",
          "CP + Phenovue phalloidin 400LS",
          "CP + Phenovue phalloidin 400LS",
          "CP + Phenovue phalloidin 400LS",
          "CP + Phenovue phalloidin 400LS",
          "CP + Phenovue phalloidin 400LS",
          "CP + Phenovue phalloidin 400LS",
          "CP + Phenovue phalloidin 400LS",
          "CP + Phenovue phalloidin 400LS",
          "CP + Phenovue phalloidin 400LS",
          "CP + Phenovue phalloidin 400LS"
         ],
         "y0": " ",
         "yaxis": "y"
        },
        {
         "alignmentgroup": "True",
         "box": {
          "visible": true
         },
         "hovertemplate": "color=CP + MitoBrilliant<br>x=%{x}<br>y=%{y}<extra></extra>",
         "legendgroup": "CP + MitoBrilliant",
         "marker": {
          "color": "#de8f05"
         },
         "name": "CP + MitoBrilliant",
         "offsetgroup": "CP + MitoBrilliant",
         "orientation": "h",
         "points": "all",
         "scalegroup": "True",
         "showlegend": true,
         "type": "violin",
         "width": 0.5,
         "x": [
          0.016540143149460666,
          0.016619685947390557,
          0.11213564801334294,
          0.14438900937482255,
          0.17637015906737907,
          0.035723836577834595,
          0.34917105310985275,
          1,
          0.6309523809523809,
          0.06620805633327506,
          0.012483838508793478,
          0.8143601190476191,
          1,
          0.010929322398531813,
          0.6732982295482296,
          0.01958668359305386,
          1,
          0.028034633804500667,
          0.9791666666666666,
          0.023450084474070654,
          0.9666666666666667,
          0.23761003641063613,
          1,
          0.3003147790555369,
          0.021948221564551448,
          0.5264509718129778,
          0.01383081474891893,
          0.12850745372918643,
          0.010228789839216462,
          0.013059785281486904,
          0.026590555725110872,
          0.5367428465254552,
          0.016513808588653128,
          0.7360679779158039,
          0.7676188334083072,
          0.3456271329433094,
          1,
          0.4646825396825397,
          0.15280540537893478,
          0.7620967741935484,
          0.8621031746031746,
          0.36955044668380194,
          0.21251724309451783,
          0.012527630568748374,
          0.5149294780599707,
          0.763336825703847,
          0.9083333333333333,
          0.5408081501831502,
          1,
          0.7951388888888888,
          0.9791666666666666,
          0.27691996680112135,
          0.013932766360980054,
          0.4435066077713137,
          0.8491161616161615,
          0.02933155906468346,
          1,
          0.00811444758983813,
          0.08559781078221787,
          0.7694940476190476,
          0.30878840759864856,
          0.6167748917748918,
          0.6017524142524142,
          0.5264590665325959,
          0.4525146052434785,
          0.37254004576659033,
          0.022387352304937956,
          0.8958333333333333,
          0.16731058256763098,
          0.01461655860479498,
          0.01976378806229788,
          0.07582358314116588,
          0.776984126984127,
          1,
          0.7742456896551724,
          0.016405187175249268,
          0.6907738095238095,
          0.030963133887519482,
          0.7026587809036657,
          0.24329850433682731,
          0.2052237717417319,
          0.2509404094930411,
          0.5976172247911378,
          1,
          1,
          0.1682552018856305,
          0.029848445312124185,
          0.6898358585858586,
          0.5660426731078905,
          0.7324342324342324
         ],
         "x0": " ",
         "xaxis": "x",
         "y": [
          "CP + MitoBrilliant",
          "CP + MitoBrilliant",
          "CP + MitoBrilliant",
          "CP + MitoBrilliant",
          "CP + MitoBrilliant",
          "CP + MitoBrilliant",
          "CP + MitoBrilliant",
          "CP + MitoBrilliant",
          "CP + MitoBrilliant",
          "CP + MitoBrilliant",
          "CP + MitoBrilliant",
          "CP + MitoBrilliant",
          "CP + MitoBrilliant",
          "CP + MitoBrilliant",
          "CP + MitoBrilliant",
          "CP + MitoBrilliant",
          "CP + MitoBrilliant",
          "CP + MitoBrilliant",
          "CP + MitoBrilliant",
          "CP + MitoBrilliant",
          "CP + MitoBrilliant",
          "CP + MitoBrilliant",
          "CP + MitoBrilliant",
          "CP + MitoBrilliant",
          "CP + MitoBrilliant",
          "CP + MitoBrilliant",
          "CP + MitoBrilliant",
          "CP + MitoBrilliant",
          "CP + MitoBrilliant",
          "CP + MitoBrilliant",
          "CP + MitoBrilliant",
          "CP + MitoBrilliant",
          "CP + MitoBrilliant",
          "CP + MitoBrilliant",
          "CP + MitoBrilliant",
          "CP + MitoBrilliant",
          "CP + MitoBrilliant",
          "CP + MitoBrilliant",
          "CP + MitoBrilliant",
          "CP + MitoBrilliant",
          "CP + MitoBrilliant",
          "CP + MitoBrilliant",
          "CP + MitoBrilliant",
          "CP + MitoBrilliant",
          "CP + MitoBrilliant",
          "CP + MitoBrilliant",
          "CP + MitoBrilliant",
          "CP + MitoBrilliant",
          "CP + MitoBrilliant",
          "CP + MitoBrilliant",
          "CP + MitoBrilliant",
          "CP + MitoBrilliant",
          "CP + MitoBrilliant",
          "CP + MitoBrilliant",
          "CP + MitoBrilliant",
          "CP + MitoBrilliant",
          "CP + MitoBrilliant",
          "CP + MitoBrilliant",
          "CP + MitoBrilliant",
          "CP + MitoBrilliant",
          "CP + MitoBrilliant",
          "CP + MitoBrilliant",
          "CP + MitoBrilliant",
          "CP + MitoBrilliant",
          "CP + MitoBrilliant",
          "CP + MitoBrilliant",
          "CP + MitoBrilliant",
          "CP + MitoBrilliant",
          "CP + MitoBrilliant",
          "CP + MitoBrilliant",
          "CP + MitoBrilliant",
          "CP + MitoBrilliant",
          "CP + MitoBrilliant",
          "CP + MitoBrilliant",
          "CP + MitoBrilliant",
          "CP + MitoBrilliant",
          "CP + MitoBrilliant",
          "CP + MitoBrilliant",
          "CP + MitoBrilliant",
          "CP + MitoBrilliant",
          "CP + MitoBrilliant",
          "CP + MitoBrilliant",
          "CP + MitoBrilliant",
          "CP + MitoBrilliant",
          "CP + MitoBrilliant",
          "CP + MitoBrilliant",
          "CP + MitoBrilliant",
          "CP + MitoBrilliant",
          "CP + MitoBrilliant",
          "CP + MitoBrilliant"
         ],
         "y0": " ",
         "yaxis": "y"
        },
        {
         "alignmentgroup": "True",
         "box": {
          "visible": true
         },
         "hovertemplate": "color=Standard CP<br>x=%{x}<br>y=%{y}<extra></extra>",
         "legendgroup": "Standard CP",
         "marker": {
          "color": "#0173b2"
         },
         "name": "Standard CP",
         "offsetgroup": "Standard CP",
         "orientation": "h",
         "points": "all",
         "scalegroup": "True",
         "showlegend": true,
         "type": "violin",
         "width": 0.5,
         "x": [
          0.07519076301451896,
          0.023380100702719408,
          0.04335790173665598,
          0.12538760159883539,
          0.17381681963071233,
          0.02116950681861329,
          0.44375092120475157,
          1,
          0.6974747474747475,
          0.01549307370158089,
          0.023843185011386513,
          1,
          1,
          0.026898132645772878,
          0.2518778312022093,
          0.12361650816039471,
          1,
          0.13650859280964417,
          1,
          0.048413890874897655,
          1,
          0.1992880588881083,
          0.8752976190476192,
          1,
          0.01009179902202096,
          0.9027777777777778,
          0.011076256596527806,
          0.06556999535503481,
          0.10483456447430134,
          0.014719105629262779,
          0.01166387646799503,
          0.33018687213602466,
          0.04502843214836802,
          1,
          0.6197956684237172,
          0.09716566318289455,
          0.8824404761904762,
          0.861111111111111,
          0.18823160518611953,
          0.525020664946182,
          0.9305555555555556,
          0.48524110337977716,
          0.17629299677142513,
          0.01757868474301605,
          0.5149426842442,
          1,
          0.20371676579216147,
          0.6494021851164709,
          1,
          0.44938065731122045,
          0.5134242212230108,
          0.4884690845217161,
          0.008033299961471705,
          0.6329365079365079,
          0.7826388888888889,
          0.12989442863392442,
          0.9791666666666666,
          0.03104745144370559,
          0.015639374058551467,
          1,
          0.7093142968142968,
          0.6779100529100529,
          0.856060606060606,
          0.48897727272727276,
          0.2138536977809366,
          0.22481322948305044,
          0.015407952152346756,
          0.8523809523809525,
          0.05650171432050061,
          0.018174766310368375,
          0.1291173127966729,
          0.0394905434933731,
          0.9375,
          1,
          1,
          0.015019340767791805,
          0.6476907230196705,
          0.19651265921578084,
          0.39722642028387584,
          0.3396643842722274,
          0.28621362024472075,
          0.11867319526136191,
          0.9666666666666667,
          0.4227250258428748,
          0.7980158730158731,
          0.026320019243343398,
          0.17849455543512466,
          0.8409455128205128,
          0.3839489267989467,
          0.6168650793650794
         ],
         "x0": " ",
         "xaxis": "x",
         "y": [
          "Standard CP",
          "Standard CP",
          "Standard CP",
          "Standard CP",
          "Standard CP",
          "Standard CP",
          "Standard CP",
          "Standard CP",
          "Standard CP",
          "Standard CP",
          "Standard CP",
          "Standard CP",
          "Standard CP",
          "Standard CP",
          "Standard CP",
          "Standard CP",
          "Standard CP",
          "Standard CP",
          "Standard CP",
          "Standard CP",
          "Standard CP",
          "Standard CP",
          "Standard CP",
          "Standard CP",
          "Standard CP",
          "Standard CP",
          "Standard CP",
          "Standard CP",
          "Standard CP",
          "Standard CP",
          "Standard CP",
          "Standard CP",
          "Standard CP",
          "Standard CP",
          "Standard CP",
          "Standard CP",
          "Standard CP",
          "Standard CP",
          "Standard CP",
          "Standard CP",
          "Standard CP",
          "Standard CP",
          "Standard CP",
          "Standard CP",
          "Standard CP",
          "Standard CP",
          "Standard CP",
          "Standard CP",
          "Standard CP",
          "Standard CP",
          "Standard CP",
          "Standard CP",
          "Standard CP",
          "Standard CP",
          "Standard CP",
          "Standard CP",
          "Standard CP",
          "Standard CP",
          "Standard CP",
          "Standard CP",
          "Standard CP",
          "Standard CP",
          "Standard CP",
          "Standard CP",
          "Standard CP",
          "Standard CP",
          "Standard CP",
          "Standard CP",
          "Standard CP",
          "Standard CP",
          "Standard CP",
          "Standard CP",
          "Standard CP",
          "Standard CP",
          "Standard CP",
          "Standard CP",
          "Standard CP",
          "Standard CP",
          "Standard CP",
          "Standard CP",
          "Standard CP",
          "Standard CP",
          "Standard CP",
          "Standard CP",
          "Standard CP",
          "Standard CP",
          "Standard CP",
          "Standard CP",
          "Standard CP",
          "Standard CP"
         ],
         "y0": " ",
         "yaxis": "y"
        }
       ],
       "layout": {
        "font": {
         "color": "black",
         "family": "sans serif",
         "size": 95
        },
        "height": 2500,
        "legend": {
         "title": {
          "text": "color"
         },
         "tracegroupgap": 0
        },
        "margin": {
         "t": 60
        },
        "plot_bgcolor": "rgba(0,0,0,0)",
        "showlegend": false,
        "template": {
         "data": {
          "bar": [
           {
            "error_x": {
             "color": "#2a3f5f"
            },
            "error_y": {
             "color": "#2a3f5f"
            },
            "marker": {
             "line": {
              "color": "#E5ECF6",
              "width": 0.5
             },
             "pattern": {
              "fillmode": "overlay",
              "size": 10,
              "solidity": 0.2
             }
            },
            "type": "bar"
           }
          ],
          "barpolar": [
           {
            "marker": {
             "line": {
              "color": "#E5ECF6",
              "width": 0.5
             },
             "pattern": {
              "fillmode": "overlay",
              "size": 10,
              "solidity": 0.2
             }
            },
            "type": "barpolar"
           }
          ],
          "carpet": [
           {
            "aaxis": {
             "endlinecolor": "#2a3f5f",
             "gridcolor": "white",
             "linecolor": "white",
             "minorgridcolor": "white",
             "startlinecolor": "#2a3f5f"
            },
            "baxis": {
             "endlinecolor": "#2a3f5f",
             "gridcolor": "white",
             "linecolor": "white",
             "minorgridcolor": "white",
             "startlinecolor": "#2a3f5f"
            },
            "type": "carpet"
           }
          ],
          "choropleth": [
           {
            "colorbar": {
             "outlinewidth": 0,
             "ticks": ""
            },
            "type": "choropleth"
           }
          ],
          "contour": [
           {
            "colorbar": {
             "outlinewidth": 0,
             "ticks": ""
            },
            "colorscale": [
             [
              0,
              "#0d0887"
             ],
             [
              0.1111111111111111,
              "#46039f"
             ],
             [
              0.2222222222222222,
              "#7201a8"
             ],
             [
              0.3333333333333333,
              "#9c179e"
             ],
             [
              0.4444444444444444,
              "#bd3786"
             ],
             [
              0.5555555555555556,
              "#d8576b"
             ],
             [
              0.6666666666666666,
              "#ed7953"
             ],
             [
              0.7777777777777778,
              "#fb9f3a"
             ],
             [
              0.8888888888888888,
              "#fdca26"
             ],
             [
              1,
              "#f0f921"
             ]
            ],
            "type": "contour"
           }
          ],
          "contourcarpet": [
           {
            "colorbar": {
             "outlinewidth": 0,
             "ticks": ""
            },
            "type": "contourcarpet"
           }
          ],
          "heatmap": [
           {
            "colorbar": {
             "outlinewidth": 0,
             "ticks": ""
            },
            "colorscale": [
             [
              0,
              "#0d0887"
             ],
             [
              0.1111111111111111,
              "#46039f"
             ],
             [
              0.2222222222222222,
              "#7201a8"
             ],
             [
              0.3333333333333333,
              "#9c179e"
             ],
             [
              0.4444444444444444,
              "#bd3786"
             ],
             [
              0.5555555555555556,
              "#d8576b"
             ],
             [
              0.6666666666666666,
              "#ed7953"
             ],
             [
              0.7777777777777778,
              "#fb9f3a"
             ],
             [
              0.8888888888888888,
              "#fdca26"
             ],
             [
              1,
              "#f0f921"
             ]
            ],
            "type": "heatmap"
           }
          ],
          "heatmapgl": [
           {
            "colorbar": {
             "outlinewidth": 0,
             "ticks": ""
            },
            "colorscale": [
             [
              0,
              "#0d0887"
             ],
             [
              0.1111111111111111,
              "#46039f"
             ],
             [
              0.2222222222222222,
              "#7201a8"
             ],
             [
              0.3333333333333333,
              "#9c179e"
             ],
             [
              0.4444444444444444,
              "#bd3786"
             ],
             [
              0.5555555555555556,
              "#d8576b"
             ],
             [
              0.6666666666666666,
              "#ed7953"
             ],
             [
              0.7777777777777778,
              "#fb9f3a"
             ],
             [
              0.8888888888888888,
              "#fdca26"
             ],
             [
              1,
              "#f0f921"
             ]
            ],
            "type": "heatmapgl"
           }
          ],
          "histogram": [
           {
            "marker": {
             "pattern": {
              "fillmode": "overlay",
              "size": 10,
              "solidity": 0.2
             }
            },
            "type": "histogram"
           }
          ],
          "histogram2d": [
           {
            "colorbar": {
             "outlinewidth": 0,
             "ticks": ""
            },
            "colorscale": [
             [
              0,
              "#0d0887"
             ],
             [
              0.1111111111111111,
              "#46039f"
             ],
             [
              0.2222222222222222,
              "#7201a8"
             ],
             [
              0.3333333333333333,
              "#9c179e"
             ],
             [
              0.4444444444444444,
              "#bd3786"
             ],
             [
              0.5555555555555556,
              "#d8576b"
             ],
             [
              0.6666666666666666,
              "#ed7953"
             ],
             [
              0.7777777777777778,
              "#fb9f3a"
             ],
             [
              0.8888888888888888,
              "#fdca26"
             ],
             [
              1,
              "#f0f921"
             ]
            ],
            "type": "histogram2d"
           }
          ],
          "histogram2dcontour": [
           {
            "colorbar": {
             "outlinewidth": 0,
             "ticks": ""
            },
            "colorscale": [
             [
              0,
              "#0d0887"
             ],
             [
              0.1111111111111111,
              "#46039f"
             ],
             [
              0.2222222222222222,
              "#7201a8"
             ],
             [
              0.3333333333333333,
              "#9c179e"
             ],
             [
              0.4444444444444444,
              "#bd3786"
             ],
             [
              0.5555555555555556,
              "#d8576b"
             ],
             [
              0.6666666666666666,
              "#ed7953"
             ],
             [
              0.7777777777777778,
              "#fb9f3a"
             ],
             [
              0.8888888888888888,
              "#fdca26"
             ],
             [
              1,
              "#f0f921"
             ]
            ],
            "type": "histogram2dcontour"
           }
          ],
          "mesh3d": [
           {
            "colorbar": {
             "outlinewidth": 0,
             "ticks": ""
            },
            "type": "mesh3d"
           }
          ],
          "parcoords": [
           {
            "line": {
             "colorbar": {
              "outlinewidth": 0,
              "ticks": ""
             }
            },
            "type": "parcoords"
           }
          ],
          "pie": [
           {
            "automargin": true,
            "type": "pie"
           }
          ],
          "scatter": [
           {
            "fillpattern": {
             "fillmode": "overlay",
             "size": 10,
             "solidity": 0.2
            },
            "type": "scatter"
           }
          ],
          "scatter3d": [
           {
            "line": {
             "colorbar": {
              "outlinewidth": 0,
              "ticks": ""
             }
            },
            "marker": {
             "colorbar": {
              "outlinewidth": 0,
              "ticks": ""
             }
            },
            "type": "scatter3d"
           }
          ],
          "scattercarpet": [
           {
            "marker": {
             "colorbar": {
              "outlinewidth": 0,
              "ticks": ""
             }
            },
            "type": "scattercarpet"
           }
          ],
          "scattergeo": [
           {
            "marker": {
             "colorbar": {
              "outlinewidth": 0,
              "ticks": ""
             }
            },
            "type": "scattergeo"
           }
          ],
          "scattergl": [
           {
            "marker": {
             "colorbar": {
              "outlinewidth": 0,
              "ticks": ""
             }
            },
            "type": "scattergl"
           }
          ],
          "scattermapbox": [
           {
            "marker": {
             "colorbar": {
              "outlinewidth": 0,
              "ticks": ""
             }
            },
            "type": "scattermapbox"
           }
          ],
          "scatterpolar": [
           {
            "marker": {
             "colorbar": {
              "outlinewidth": 0,
              "ticks": ""
             }
            },
            "type": "scatterpolar"
           }
          ],
          "scatterpolargl": [
           {
            "marker": {
             "colorbar": {
              "outlinewidth": 0,
              "ticks": ""
             }
            },
            "type": "scatterpolargl"
           }
          ],
          "scatterternary": [
           {
            "marker": {
             "colorbar": {
              "outlinewidth": 0,
              "ticks": ""
             }
            },
            "type": "scatterternary"
           }
          ],
          "surface": [
           {
            "colorbar": {
             "outlinewidth": 0,
             "ticks": ""
            },
            "colorscale": [
             [
              0,
              "#0d0887"
             ],
             [
              0.1111111111111111,
              "#46039f"
             ],
             [
              0.2222222222222222,
              "#7201a8"
             ],
             [
              0.3333333333333333,
              "#9c179e"
             ],
             [
              0.4444444444444444,
              "#bd3786"
             ],
             [
              0.5555555555555556,
              "#d8576b"
             ],
             [
              0.6666666666666666,
              "#ed7953"
             ],
             [
              0.7777777777777778,
              "#fb9f3a"
             ],
             [
              0.8888888888888888,
              "#fdca26"
             ],
             [
              1,
              "#f0f921"
             ]
            ],
            "type": "surface"
           }
          ],
          "table": [
           {
            "cells": {
             "fill": {
              "color": "#EBF0F8"
             },
             "line": {
              "color": "white"
             }
            },
            "header": {
             "fill": {
              "color": "#C8D4E3"
             },
             "line": {
              "color": "white"
             }
            },
            "type": "table"
           }
          ]
         },
         "layout": {
          "annotationdefaults": {
           "arrowcolor": "#2a3f5f",
           "arrowhead": 0,
           "arrowwidth": 1
          },
          "autotypenumbers": "strict",
          "coloraxis": {
           "colorbar": {
            "outlinewidth": 0,
            "ticks": ""
           }
          },
          "colorscale": {
           "diverging": [
            [
             0,
             "#8e0152"
            ],
            [
             0.1,
             "#c51b7d"
            ],
            [
             0.2,
             "#de77ae"
            ],
            [
             0.3,
             "#f1b6da"
            ],
            [
             0.4,
             "#fde0ef"
            ],
            [
             0.5,
             "#f7f7f7"
            ],
            [
             0.6,
             "#e6f5d0"
            ],
            [
             0.7,
             "#b8e186"
            ],
            [
             0.8,
             "#7fbc41"
            ],
            [
             0.9,
             "#4d9221"
            ],
            [
             1,
             "#276419"
            ]
           ],
           "sequential": [
            [
             0,
             "#0d0887"
            ],
            [
             0.1111111111111111,
             "#46039f"
            ],
            [
             0.2222222222222222,
             "#7201a8"
            ],
            [
             0.3333333333333333,
             "#9c179e"
            ],
            [
             0.4444444444444444,
             "#bd3786"
            ],
            [
             0.5555555555555556,
             "#d8576b"
            ],
            [
             0.6666666666666666,
             "#ed7953"
            ],
            [
             0.7777777777777778,
             "#fb9f3a"
            ],
            [
             0.8888888888888888,
             "#fdca26"
            ],
            [
             1,
             "#f0f921"
            ]
           ],
           "sequentialminus": [
            [
             0,
             "#0d0887"
            ],
            [
             0.1111111111111111,
             "#46039f"
            ],
            [
             0.2222222222222222,
             "#7201a8"
            ],
            [
             0.3333333333333333,
             "#9c179e"
            ],
            [
             0.4444444444444444,
             "#bd3786"
            ],
            [
             0.5555555555555556,
             "#d8576b"
            ],
            [
             0.6666666666666666,
             "#ed7953"
            ],
            [
             0.7777777777777778,
             "#fb9f3a"
            ],
            [
             0.8888888888888888,
             "#fdca26"
            ],
            [
             1,
             "#f0f921"
            ]
           ]
          },
          "colorway": [
           "#636efa",
           "#EF553B",
           "#00cc96",
           "#ab63fa",
           "#FFA15A",
           "#19d3f3",
           "#FF6692",
           "#B6E880",
           "#FF97FF",
           "#FECB52"
          ],
          "font": {
           "color": "#2a3f5f"
          },
          "geo": {
           "bgcolor": "white",
           "lakecolor": "white",
           "landcolor": "#E5ECF6",
           "showlakes": true,
           "showland": true,
           "subunitcolor": "white"
          },
          "hoverlabel": {
           "align": "left"
          },
          "hovermode": "closest",
          "mapbox": {
           "style": "light"
          },
          "paper_bgcolor": "white",
          "plot_bgcolor": "#E5ECF6",
          "polar": {
           "angularaxis": {
            "gridcolor": "white",
            "linecolor": "white",
            "ticks": ""
           },
           "bgcolor": "#E5ECF6",
           "radialaxis": {
            "gridcolor": "white",
            "linecolor": "white",
            "ticks": ""
           }
          },
          "scene": {
           "xaxis": {
            "backgroundcolor": "#E5ECF6",
            "gridcolor": "white",
            "gridwidth": 2,
            "linecolor": "white",
            "showbackground": true,
            "ticks": "",
            "zerolinecolor": "white"
           },
           "yaxis": {
            "backgroundcolor": "#E5ECF6",
            "gridcolor": "white",
            "gridwidth": 2,
            "linecolor": "white",
            "showbackground": true,
            "ticks": "",
            "zerolinecolor": "white"
           },
           "zaxis": {
            "backgroundcolor": "#E5ECF6",
            "gridcolor": "white",
            "gridwidth": 2,
            "linecolor": "white",
            "showbackground": true,
            "ticks": "",
            "zerolinecolor": "white"
           }
          },
          "shapedefaults": {
           "line": {
            "color": "#2a3f5f"
           }
          },
          "ternary": {
           "aaxis": {
            "gridcolor": "white",
            "linecolor": "white",
            "ticks": ""
           },
           "baxis": {
            "gridcolor": "white",
            "linecolor": "white",
            "ticks": ""
           },
           "bgcolor": "#E5ECF6",
           "caxis": {
            "gridcolor": "white",
            "linecolor": "white",
            "ticks": ""
           }
          },
          "title": {
           "x": 0.05
          },
          "xaxis": {
           "automargin": true,
           "gridcolor": "white",
           "linecolor": "white",
           "ticks": "",
           "title": {
            "standoff": 15
           },
           "zerolinecolor": "white",
           "zerolinewidth": 2
          },
          "yaxis": {
           "automargin": true,
           "gridcolor": "white",
           "linecolor": "white",
           "ticks": "",
           "title": {
            "standoff": 15
           },
           "zerolinecolor": "white",
           "zerolinewidth": 2
          }
         }
        },
        "violinmode": "group",
        "width": 2750,
        "xaxis": {
         "anchor": "y",
         "domain": [
          0,
          1
         ],
         "linecolor": "black",
         "linewidth": 1,
         "range": [
          0,
          1.02
         ],
         "showline": true,
         "tickangle": 90,
         "title": {
          "text": "Mean Average Precision"
         }
        },
        "yaxis": {
         "anchor": "x",
         "domain": [
          0,
          1
         ],
         "linecolor": "black",
         "linewidth": 1,
         "showline": true,
         "title": {
          "text": ""
         }
        }
       }
      }
     },
     "metadata": {},
     "output_type": "display_data"
    },
    {
     "data": {
      "text/plain": [
       "(Figure({\n",
       "     'data': [{'alignmentgroup': 'True',\n",
       "               'box': {'visible': True},\n",
       "               'hovertemplate': 'color=ChromaLive + Hoechst<br>x=%{x}<br>y=%{y}<extra></extra>',\n",
       "               'legendgroup': 'ChromaLive + Hoechst',\n",
       "               'marker': {'color': '#cc78bc'},\n",
       "               'name': 'ChromaLive + Hoechst',\n",
       "               'offsetgroup': 'ChromaLive + Hoechst',\n",
       "               'orientation': 'h',\n",
       "               'points': 'all',\n",
       "               'scalegroup': 'True',\n",
       "               'showlegend': True,\n",
       "               'type': 'violin',\n",
       "               'width': 0.5,\n",
       "               'x': array([0.0383987 , 0.17740419, 0.0224282 , 0.455858  , 0.2431682 , 0.07373275,\n",
       "                           1.        , 0.6218254 , 0.68414633, 0.03154271, 0.03584982, 0.38201397,\n",
       "                           0.59014847, 0.06420473, 0.48251404, 0.01674303, 0.65830264, 0.17332175,\n",
       "                           0.27400094, 0.01481876, 0.82339744, 0.18674372, 0.5007749 , 0.64160053,\n",
       "                           0.49221651, 1.        , 0.71850198, 0.43297282, 0.08037216, 0.29926121,\n",
       "                           0.02630231, 0.26858105, 0.01387756, 0.60586611, 1.        , 0.06424802,\n",
       "                           0.4984653 , 0.46207977, 0.90277778, 0.95238095, 0.25631014, 0.41138219,\n",
       "                           0.1886815 , 0.13304264, 0.68293651, 0.55109541, 0.585187  , 0.08438827,\n",
       "                           0.82638889, 0.23432192, 0.48406168, 0.15697543, 0.05954528, 0.3558768 ,\n",
       "                           0.37104949, 0.13915268, 0.23174317, 0.41595762, 0.15852935, 0.2588279 ,\n",
       "                           0.36962166, 0.25816266, 1.        , 0.22069212, 0.24804173, 0.15338788,\n",
       "                           0.01887613, 0.75138889, 0.18078568, 0.10050302, 0.05249914, 0.16784797,\n",
       "                           0.05845826, 0.50956028, 0.79158951, 0.10329992, 0.76875   , 0.04030812,\n",
       "                           0.12728312, 0.08307332, 0.03979434, 0.10430737, 0.23355227, 0.33161781,\n",
       "                           0.84126984, 0.10524594, 0.01518062, 1.        , 0.97916667, 1.        ]),\n",
       "               'x0': ' ',\n",
       "               'xaxis': 'x',\n",
       "               'y': array(['ChromaLive + Hoechst', 'ChromaLive + Hoechst', 'ChromaLive + Hoechst',\n",
       "                           'ChromaLive + Hoechst', 'ChromaLive + Hoechst', 'ChromaLive + Hoechst',\n",
       "                           'ChromaLive + Hoechst', 'ChromaLive + Hoechst', 'ChromaLive + Hoechst',\n",
       "                           'ChromaLive + Hoechst', 'ChromaLive + Hoechst', 'ChromaLive + Hoechst',\n",
       "                           'ChromaLive + Hoechst', 'ChromaLive + Hoechst', 'ChromaLive + Hoechst',\n",
       "                           'ChromaLive + Hoechst', 'ChromaLive + Hoechst', 'ChromaLive + Hoechst',\n",
       "                           'ChromaLive + Hoechst', 'ChromaLive + Hoechst', 'ChromaLive + Hoechst',\n",
       "                           'ChromaLive + Hoechst', 'ChromaLive + Hoechst', 'ChromaLive + Hoechst',\n",
       "                           'ChromaLive + Hoechst', 'ChromaLive + Hoechst', 'ChromaLive + Hoechst',\n",
       "                           'ChromaLive + Hoechst', 'ChromaLive + Hoechst', 'ChromaLive + Hoechst',\n",
       "                           'ChromaLive + Hoechst', 'ChromaLive + Hoechst', 'ChromaLive + Hoechst',\n",
       "                           'ChromaLive + Hoechst', 'ChromaLive + Hoechst', 'ChromaLive + Hoechst',\n",
       "                           'ChromaLive + Hoechst', 'ChromaLive + Hoechst', 'ChromaLive + Hoechst',\n",
       "                           'ChromaLive + Hoechst', 'ChromaLive + Hoechst', 'ChromaLive + Hoechst',\n",
       "                           'ChromaLive + Hoechst', 'ChromaLive + Hoechst', 'ChromaLive + Hoechst',\n",
       "                           'ChromaLive + Hoechst', 'ChromaLive + Hoechst', 'ChromaLive + Hoechst',\n",
       "                           'ChromaLive + Hoechst', 'ChromaLive + Hoechst', 'ChromaLive + Hoechst',\n",
       "                           'ChromaLive + Hoechst', 'ChromaLive + Hoechst', 'ChromaLive + Hoechst',\n",
       "                           'ChromaLive + Hoechst', 'ChromaLive + Hoechst', 'ChromaLive + Hoechst',\n",
       "                           'ChromaLive + Hoechst', 'ChromaLive + Hoechst', 'ChromaLive + Hoechst',\n",
       "                           'ChromaLive + Hoechst', 'ChromaLive + Hoechst', 'ChromaLive + Hoechst',\n",
       "                           'ChromaLive + Hoechst', 'ChromaLive + Hoechst', 'ChromaLive + Hoechst',\n",
       "                           'ChromaLive + Hoechst', 'ChromaLive + Hoechst', 'ChromaLive + Hoechst',\n",
       "                           'ChromaLive + Hoechst', 'ChromaLive + Hoechst', 'ChromaLive + Hoechst',\n",
       "                           'ChromaLive + Hoechst', 'ChromaLive + Hoechst', 'ChromaLive + Hoechst',\n",
       "                           'ChromaLive + Hoechst', 'ChromaLive + Hoechst', 'ChromaLive + Hoechst',\n",
       "                           'ChromaLive + Hoechst', 'ChromaLive + Hoechst', 'ChromaLive + Hoechst',\n",
       "                           'ChromaLive + Hoechst', 'ChromaLive + Hoechst', 'ChromaLive + Hoechst',\n",
       "                           'ChromaLive + Hoechst', 'ChromaLive + Hoechst', 'ChromaLive + Hoechst',\n",
       "                           'ChromaLive + Hoechst', 'ChromaLive + Hoechst', 'ChromaLive + Hoechst'],\n",
       "                          dtype=object),\n",
       "               'y0': ' ',\n",
       "               'yaxis': 'y'},\n",
       "              {'alignmentgroup': 'True',\n",
       "               'box': {'visible': True},\n",
       "               'hovertemplate': 'color=Standard CP (exposed to ChromaLive)<br>x=%{x}<br>y=%{y}<extra></extra>',\n",
       "               'legendgroup': 'Standard CP (exposed to ChromaLive)',\n",
       "               'marker': {'color': '#d55e00'},\n",
       "               'name': 'Standard CP (exposed to ChromaLive)',\n",
       "               'offsetgroup': 'Standard CP (exposed to ChromaLive)',\n",
       "               'orientation': 'h',\n",
       "               'points': 'all',\n",
       "               'scalegroup': 'True',\n",
       "               'showlegend': True,\n",
       "               'type': 'violin',\n",
       "               'width': 0.5,\n",
       "               'x': array([0.02884231, 0.01049699, 0.02774584, 0.16528183, 0.10019469, 0.03173205,\n",
       "                           1.        , 0.48300866, 0.96666667, 0.01958788, 0.02831996, 1.        ,\n",
       "                           1.        , 0.01138943, 0.59037698, 0.02225651, 0.8468254 , 0.01530322,\n",
       "                           0.24200704, 0.01791839, 1.        , 0.24091791, 0.97916667, 1.        ,\n",
       "                           0.06049082, 1.        , 0.06781774, 0.04519093, 0.03806646, 0.02088254,\n",
       "                           0.10400782, 0.23964922, 0.00826055, 0.67476852, 1.        , 0.42995424,\n",
       "                           0.43941127, 0.70277778, 0.19615033, 1.        , 0.72982456, 0.54936764,\n",
       "                           0.20519081, 0.01861031, 0.90972222, 0.33064835, 1.        , 0.69613095,\n",
       "                           0.5567614 , 0.94583333, 0.62283973, 0.27685329, 0.00868237, 0.46767178,\n",
       "                           0.74444444, 0.02927935, 0.72689394, 0.04416598, 0.01681042, 0.95138889,\n",
       "                           0.30400602, 0.54890873, 0.91071429, 1.        , 0.4666514 , 0.30320238,\n",
       "                           0.01935267, 0.65192877, 0.15755142, 0.05365853, 0.0137597 , 0.06735113,\n",
       "                           0.23921374, 0.51315446, 0.47528702, 0.01331308, 1.        , 0.12160621,\n",
       "                           0.59652536, 0.47897738, 0.0975291 , 0.21637502, 0.6685911 , 0.6405754 ,\n",
       "                           0.97916667, 0.06334359, 0.02739504, 1.        , 0.15314585, 0.39005266]),\n",
       "               'x0': ' ',\n",
       "               'xaxis': 'x',\n",
       "               'y': array(['Standard CP (exposed to ChromaLive)',\n",
       "                           'Standard CP (exposed to ChromaLive)',\n",
       "                           'Standard CP (exposed to ChromaLive)',\n",
       "                           'Standard CP (exposed to ChromaLive)',\n",
       "                           'Standard CP (exposed to ChromaLive)',\n",
       "                           'Standard CP (exposed to ChromaLive)',\n",
       "                           'Standard CP (exposed to ChromaLive)',\n",
       "                           'Standard CP (exposed to ChromaLive)',\n",
       "                           'Standard CP (exposed to ChromaLive)',\n",
       "                           'Standard CP (exposed to ChromaLive)',\n",
       "                           'Standard CP (exposed to ChromaLive)',\n",
       "                           'Standard CP (exposed to ChromaLive)',\n",
       "                           'Standard CP (exposed to ChromaLive)',\n",
       "                           'Standard CP (exposed to ChromaLive)',\n",
       "                           'Standard CP (exposed to ChromaLive)',\n",
       "                           'Standard CP (exposed to ChromaLive)',\n",
       "                           'Standard CP (exposed to ChromaLive)',\n",
       "                           'Standard CP (exposed to ChromaLive)',\n",
       "                           'Standard CP (exposed to ChromaLive)',\n",
       "                           'Standard CP (exposed to ChromaLive)',\n",
       "                           'Standard CP (exposed to ChromaLive)',\n",
       "                           'Standard CP (exposed to ChromaLive)',\n",
       "                           'Standard CP (exposed to ChromaLive)',\n",
       "                           'Standard CP (exposed to ChromaLive)',\n",
       "                           'Standard CP (exposed to ChromaLive)',\n",
       "                           'Standard CP (exposed to ChromaLive)',\n",
       "                           'Standard CP (exposed to ChromaLive)',\n",
       "                           'Standard CP (exposed to ChromaLive)',\n",
       "                           'Standard CP (exposed to ChromaLive)',\n",
       "                           'Standard CP (exposed to ChromaLive)',\n",
       "                           'Standard CP (exposed to ChromaLive)',\n",
       "                           'Standard CP (exposed to ChromaLive)',\n",
       "                           'Standard CP (exposed to ChromaLive)',\n",
       "                           'Standard CP (exposed to ChromaLive)',\n",
       "                           'Standard CP (exposed to ChromaLive)',\n",
       "                           'Standard CP (exposed to ChromaLive)',\n",
       "                           'Standard CP (exposed to ChromaLive)',\n",
       "                           'Standard CP (exposed to ChromaLive)',\n",
       "                           'Standard CP (exposed to ChromaLive)',\n",
       "                           'Standard CP (exposed to ChromaLive)',\n",
       "                           'Standard CP (exposed to ChromaLive)',\n",
       "                           'Standard CP (exposed to ChromaLive)',\n",
       "                           'Standard CP (exposed to ChromaLive)',\n",
       "                           'Standard CP (exposed to ChromaLive)',\n",
       "                           'Standard CP (exposed to ChromaLive)',\n",
       "                           'Standard CP (exposed to ChromaLive)',\n",
       "                           'Standard CP (exposed to ChromaLive)',\n",
       "                           'Standard CP (exposed to ChromaLive)',\n",
       "                           'Standard CP (exposed to ChromaLive)',\n",
       "                           'Standard CP (exposed to ChromaLive)',\n",
       "                           'Standard CP (exposed to ChromaLive)',\n",
       "                           'Standard CP (exposed to ChromaLive)',\n",
       "                           'Standard CP (exposed to ChromaLive)',\n",
       "                           'Standard CP (exposed to ChromaLive)',\n",
       "                           'Standard CP (exposed to ChromaLive)',\n",
       "                           'Standard CP (exposed to ChromaLive)',\n",
       "                           'Standard CP (exposed to ChromaLive)',\n",
       "                           'Standard CP (exposed to ChromaLive)',\n",
       "                           'Standard CP (exposed to ChromaLive)',\n",
       "                           'Standard CP (exposed to ChromaLive)',\n",
       "                           'Standard CP (exposed to ChromaLive)',\n",
       "                           'Standard CP (exposed to ChromaLive)',\n",
       "                           'Standard CP (exposed to ChromaLive)',\n",
       "                           'Standard CP (exposed to ChromaLive)',\n",
       "                           'Standard CP (exposed to ChromaLive)',\n",
       "                           'Standard CP (exposed to ChromaLive)',\n",
       "                           'Standard CP (exposed to ChromaLive)',\n",
       "                           'Standard CP (exposed to ChromaLive)',\n",
       "                           'Standard CP (exposed to ChromaLive)',\n",
       "                           'Standard CP (exposed to ChromaLive)',\n",
       "                           'Standard CP (exposed to ChromaLive)',\n",
       "                           'Standard CP (exposed to ChromaLive)',\n",
       "                           'Standard CP (exposed to ChromaLive)',\n",
       "                           'Standard CP (exposed to ChromaLive)',\n",
       "                           'Standard CP (exposed to ChromaLive)',\n",
       "                           'Standard CP (exposed to ChromaLive)',\n",
       "                           'Standard CP (exposed to ChromaLive)',\n",
       "                           'Standard CP (exposed to ChromaLive)',\n",
       "                           'Standard CP (exposed to ChromaLive)',\n",
       "                           'Standard CP (exposed to ChromaLive)',\n",
       "                           'Standard CP (exposed to ChromaLive)',\n",
       "                           'Standard CP (exposed to ChromaLive)',\n",
       "                           'Standard CP (exposed to ChromaLive)',\n",
       "                           'Standard CP (exposed to ChromaLive)',\n",
       "                           'Standard CP (exposed to ChromaLive)',\n",
       "                           'Standard CP (exposed to ChromaLive)',\n",
       "                           'Standard CP (exposed to ChromaLive)',\n",
       "                           'Standard CP (exposed to ChromaLive)',\n",
       "                           'Standard CP (exposed to ChromaLive)',\n",
       "                           'Standard CP (exposed to ChromaLive)'], dtype=object),\n",
       "               'y0': ' ',\n",
       "               'yaxis': 'y'},\n",
       "              {'alignmentgroup': 'True',\n",
       "               'box': {'visible': True},\n",
       "               'hovertemplate': 'color=CP + Phenovue phalloidin 400LS<br>x=%{x}<br>y=%{y}<extra></extra>',\n",
       "               'legendgroup': 'CP + Phenovue phalloidin 400LS',\n",
       "               'marker': {'color': '#029e73'},\n",
       "               'name': 'CP + Phenovue phalloidin 400LS',\n",
       "               'offsetgroup': 'CP + Phenovue phalloidin 400LS',\n",
       "               'orientation': 'h',\n",
       "               'points': 'all',\n",
       "               'scalegroup': 'True',\n",
       "               'showlegend': True,\n",
       "               'type': 'violin',\n",
       "               'width': 0.5,\n",
       "               'x': array([0.11123773, 0.01096547, 0.12212316, 0.09196392, 0.04651595, 0.03545657,\n",
       "                           1.        , 0.7405754 , 0.68708791, 0.01878828, 0.01123987, 1.        ,\n",
       "                           0.86944444, 0.03015088, 0.62966421, 0.02018222, 1.        , 0.0245637 ,\n",
       "                           0.68986569, 0.01077912, 1.        , 0.29158728, 1.        , 0.95833333,\n",
       "                           0.04448108, 0.5790054 , 0.13613088, 0.02884767, 0.01748717, 0.0129715 ,\n",
       "                           0.01208398, 0.16700261, 0.00964205, 0.86696429, 1.        , 0.03157407,\n",
       "                           0.79090909, 0.51478371, 0.10542551, 0.83409091, 0.97916667, 0.4595219 ,\n",
       "                           0.11636635, 0.03085602, 0.70416667, 0.95833333, 0.2617092 , 0.97916667,\n",
       "                           0.70383929, 0.53878968, 0.83969156, 0.33953266, 0.00863389, 0.48010696,\n",
       "                           0.46405053, 0.02254519, 0.56448904, 0.02272451, 0.19043242, 1.        ,\n",
       "                           0.88888889, 0.4832902 , 0.52648903, 0.778663  , 0.45363527, 0.16176167,\n",
       "                           0.01689986, 0.56005609, 0.14444611, 0.02939555, 0.25137469, 0.14502958,\n",
       "                           0.5446662 , 1.        , 1.        , 0.0207472 , 0.6679198 , 0.01634891,\n",
       "                           0.78730937, 0.61177238, 0.17999896, 0.10438517, 0.49065002, 1.        ,\n",
       "                           1.        , 0.42261905, 0.06823566, 0.92083333, 0.26799471, 0.48357332]),\n",
       "               'x0': ' ',\n",
       "               'xaxis': 'x',\n",
       "               'y': array(['CP + Phenovue phalloidin 400LS', 'CP + Phenovue phalloidin 400LS',\n",
       "                           'CP + Phenovue phalloidin 400LS', 'CP + Phenovue phalloidin 400LS',\n",
       "                           'CP + Phenovue phalloidin 400LS', 'CP + Phenovue phalloidin 400LS',\n",
       "                           'CP + Phenovue phalloidin 400LS', 'CP + Phenovue phalloidin 400LS',\n",
       "                           'CP + Phenovue phalloidin 400LS', 'CP + Phenovue phalloidin 400LS',\n",
       "                           'CP + Phenovue phalloidin 400LS', 'CP + Phenovue phalloidin 400LS',\n",
       "                           'CP + Phenovue phalloidin 400LS', 'CP + Phenovue phalloidin 400LS',\n",
       "                           'CP + Phenovue phalloidin 400LS', 'CP + Phenovue phalloidin 400LS',\n",
       "                           'CP + Phenovue phalloidin 400LS', 'CP + Phenovue phalloidin 400LS',\n",
       "                           'CP + Phenovue phalloidin 400LS', 'CP + Phenovue phalloidin 400LS',\n",
       "                           'CP + Phenovue phalloidin 400LS', 'CP + Phenovue phalloidin 400LS',\n",
       "                           'CP + Phenovue phalloidin 400LS', 'CP + Phenovue phalloidin 400LS',\n",
       "                           'CP + Phenovue phalloidin 400LS', 'CP + Phenovue phalloidin 400LS',\n",
       "                           'CP + Phenovue phalloidin 400LS', 'CP + Phenovue phalloidin 400LS',\n",
       "                           'CP + Phenovue phalloidin 400LS', 'CP + Phenovue phalloidin 400LS',\n",
       "                           'CP + Phenovue phalloidin 400LS', 'CP + Phenovue phalloidin 400LS',\n",
       "                           'CP + Phenovue phalloidin 400LS', 'CP + Phenovue phalloidin 400LS',\n",
       "                           'CP + Phenovue phalloidin 400LS', 'CP + Phenovue phalloidin 400LS',\n",
       "                           'CP + Phenovue phalloidin 400LS', 'CP + Phenovue phalloidin 400LS',\n",
       "                           'CP + Phenovue phalloidin 400LS', 'CP + Phenovue phalloidin 400LS',\n",
       "                           'CP + Phenovue phalloidin 400LS', 'CP + Phenovue phalloidin 400LS',\n",
       "                           'CP + Phenovue phalloidin 400LS', 'CP + Phenovue phalloidin 400LS',\n",
       "                           'CP + Phenovue phalloidin 400LS', 'CP + Phenovue phalloidin 400LS',\n",
       "                           'CP + Phenovue phalloidin 400LS', 'CP + Phenovue phalloidin 400LS',\n",
       "                           'CP + Phenovue phalloidin 400LS', 'CP + Phenovue phalloidin 400LS',\n",
       "                           'CP + Phenovue phalloidin 400LS', 'CP + Phenovue phalloidin 400LS',\n",
       "                           'CP + Phenovue phalloidin 400LS', 'CP + Phenovue phalloidin 400LS',\n",
       "                           'CP + Phenovue phalloidin 400LS', 'CP + Phenovue phalloidin 400LS',\n",
       "                           'CP + Phenovue phalloidin 400LS', 'CP + Phenovue phalloidin 400LS',\n",
       "                           'CP + Phenovue phalloidin 400LS', 'CP + Phenovue phalloidin 400LS',\n",
       "                           'CP + Phenovue phalloidin 400LS', 'CP + Phenovue phalloidin 400LS',\n",
       "                           'CP + Phenovue phalloidin 400LS', 'CP + Phenovue phalloidin 400LS',\n",
       "                           'CP + Phenovue phalloidin 400LS', 'CP + Phenovue phalloidin 400LS',\n",
       "                           'CP + Phenovue phalloidin 400LS', 'CP + Phenovue phalloidin 400LS',\n",
       "                           'CP + Phenovue phalloidin 400LS', 'CP + Phenovue phalloidin 400LS',\n",
       "                           'CP + Phenovue phalloidin 400LS', 'CP + Phenovue phalloidin 400LS',\n",
       "                           'CP + Phenovue phalloidin 400LS', 'CP + Phenovue phalloidin 400LS',\n",
       "                           'CP + Phenovue phalloidin 400LS', 'CP + Phenovue phalloidin 400LS',\n",
       "                           'CP + Phenovue phalloidin 400LS', 'CP + Phenovue phalloidin 400LS',\n",
       "                           'CP + Phenovue phalloidin 400LS', 'CP + Phenovue phalloidin 400LS',\n",
       "                           'CP + Phenovue phalloidin 400LS', 'CP + Phenovue phalloidin 400LS',\n",
       "                           'CP + Phenovue phalloidin 400LS', 'CP + Phenovue phalloidin 400LS',\n",
       "                           'CP + Phenovue phalloidin 400LS', 'CP + Phenovue phalloidin 400LS',\n",
       "                           'CP + Phenovue phalloidin 400LS', 'CP + Phenovue phalloidin 400LS',\n",
       "                           'CP + Phenovue phalloidin 400LS', 'CP + Phenovue phalloidin 400LS'],\n",
       "                          dtype=object),\n",
       "               'y0': ' ',\n",
       "               'yaxis': 'y'},\n",
       "              {'alignmentgroup': 'True',\n",
       "               'box': {'visible': True},\n",
       "               'hovertemplate': 'color=CP + MitoBrilliant<br>x=%{x}<br>y=%{y}<extra></extra>',\n",
       "               'legendgroup': 'CP + MitoBrilliant',\n",
       "               'marker': {'color': '#de8f05'},\n",
       "               'name': 'CP + MitoBrilliant',\n",
       "               'offsetgroup': 'CP + MitoBrilliant',\n",
       "               'orientation': 'h',\n",
       "               'points': 'all',\n",
       "               'scalegroup': 'True',\n",
       "               'showlegend': True,\n",
       "               'type': 'violin',\n",
       "               'width': 0.5,\n",
       "               'x': array([0.01654014, 0.01661969, 0.11213565, 0.14438901, 0.17637016, 0.03572384,\n",
       "                           0.34917105, 1.        , 0.63095238, 0.06620806, 0.01248384, 0.81436012,\n",
       "                           1.        , 0.01092932, 0.67329823, 0.01958668, 1.        , 0.02803463,\n",
       "                           0.97916667, 0.02345008, 0.96666667, 0.23761004, 1.        , 0.30031478,\n",
       "                           0.02194822, 0.52645097, 0.01383081, 0.12850745, 0.01022879, 0.01305979,\n",
       "                           0.02659056, 0.53674285, 0.01651381, 0.73606798, 0.76761883, 0.34562713,\n",
       "                           1.        , 0.46468254, 0.15280541, 0.76209677, 0.86210317, 0.36955045,\n",
       "                           0.21251724, 0.01252763, 0.51492948, 0.76333683, 0.90833333, 0.54080815,\n",
       "                           1.        , 0.79513889, 0.97916667, 0.27691997, 0.01393277, 0.44350661,\n",
       "                           0.84911616, 0.02933156, 1.        , 0.00811445, 0.08559781, 0.76949405,\n",
       "                           0.30878841, 0.61677489, 0.60175241, 0.52645907, 0.45251461, 0.37254005,\n",
       "                           0.02238735, 0.89583333, 0.16731058, 0.01461656, 0.01976379, 0.07582358,\n",
       "                           0.77698413, 1.        , 0.77424569, 0.01640519, 0.69077381, 0.03096313,\n",
       "                           0.70265878, 0.2432985 , 0.20522377, 0.25094041, 0.59761722, 1.        ,\n",
       "                           1.        , 0.1682552 , 0.02984845, 0.68983586, 0.56604267, 0.73243423]),\n",
       "               'x0': ' ',\n",
       "               'xaxis': 'x',\n",
       "               'y': array(['CP + MitoBrilliant', 'CP + MitoBrilliant', 'CP + MitoBrilliant',\n",
       "                           'CP + MitoBrilliant', 'CP + MitoBrilliant', 'CP + MitoBrilliant',\n",
       "                           'CP + MitoBrilliant', 'CP + MitoBrilliant', 'CP + MitoBrilliant',\n",
       "                           'CP + MitoBrilliant', 'CP + MitoBrilliant', 'CP + MitoBrilliant',\n",
       "                           'CP + MitoBrilliant', 'CP + MitoBrilliant', 'CP + MitoBrilliant',\n",
       "                           'CP + MitoBrilliant', 'CP + MitoBrilliant', 'CP + MitoBrilliant',\n",
       "                           'CP + MitoBrilliant', 'CP + MitoBrilliant', 'CP + MitoBrilliant',\n",
       "                           'CP + MitoBrilliant', 'CP + MitoBrilliant', 'CP + MitoBrilliant',\n",
       "                           'CP + MitoBrilliant', 'CP + MitoBrilliant', 'CP + MitoBrilliant',\n",
       "                           'CP + MitoBrilliant', 'CP + MitoBrilliant', 'CP + MitoBrilliant',\n",
       "                           'CP + MitoBrilliant', 'CP + MitoBrilliant', 'CP + MitoBrilliant',\n",
       "                           'CP + MitoBrilliant', 'CP + MitoBrilliant', 'CP + MitoBrilliant',\n",
       "                           'CP + MitoBrilliant', 'CP + MitoBrilliant', 'CP + MitoBrilliant',\n",
       "                           'CP + MitoBrilliant', 'CP + MitoBrilliant', 'CP + MitoBrilliant',\n",
       "                           'CP + MitoBrilliant', 'CP + MitoBrilliant', 'CP + MitoBrilliant',\n",
       "                           'CP + MitoBrilliant', 'CP + MitoBrilliant', 'CP + MitoBrilliant',\n",
       "                           'CP + MitoBrilliant', 'CP + MitoBrilliant', 'CP + MitoBrilliant',\n",
       "                           'CP + MitoBrilliant', 'CP + MitoBrilliant', 'CP + MitoBrilliant',\n",
       "                           'CP + MitoBrilliant', 'CP + MitoBrilliant', 'CP + MitoBrilliant',\n",
       "                           'CP + MitoBrilliant', 'CP + MitoBrilliant', 'CP + MitoBrilliant',\n",
       "                           'CP + MitoBrilliant', 'CP + MitoBrilliant', 'CP + MitoBrilliant',\n",
       "                           'CP + MitoBrilliant', 'CP + MitoBrilliant', 'CP + MitoBrilliant',\n",
       "                           'CP + MitoBrilliant', 'CP + MitoBrilliant', 'CP + MitoBrilliant',\n",
       "                           'CP + MitoBrilliant', 'CP + MitoBrilliant', 'CP + MitoBrilliant',\n",
       "                           'CP + MitoBrilliant', 'CP + MitoBrilliant', 'CP + MitoBrilliant',\n",
       "                           'CP + MitoBrilliant', 'CP + MitoBrilliant', 'CP + MitoBrilliant',\n",
       "                           'CP + MitoBrilliant', 'CP + MitoBrilliant', 'CP + MitoBrilliant',\n",
       "                           'CP + MitoBrilliant', 'CP + MitoBrilliant', 'CP + MitoBrilliant',\n",
       "                           'CP + MitoBrilliant', 'CP + MitoBrilliant', 'CP + MitoBrilliant',\n",
       "                           'CP + MitoBrilliant', 'CP + MitoBrilliant', 'CP + MitoBrilliant'],\n",
       "                          dtype=object),\n",
       "               'y0': ' ',\n",
       "               'yaxis': 'y'},\n",
       "              {'alignmentgroup': 'True',\n",
       "               'box': {'visible': True},\n",
       "               'hovertemplate': 'color=Standard CP<br>x=%{x}<br>y=%{y}<extra></extra>',\n",
       "               'legendgroup': 'Standard CP',\n",
       "               'marker': {'color': '#0173b2'},\n",
       "               'name': 'Standard CP',\n",
       "               'offsetgroup': 'Standard CP',\n",
       "               'orientation': 'h',\n",
       "               'points': 'all',\n",
       "               'scalegroup': 'True',\n",
       "               'showlegend': True,\n",
       "               'type': 'violin',\n",
       "               'width': 0.5,\n",
       "               'x': array([0.07519076, 0.0233801 , 0.0433579 , 0.1253876 , 0.17381682, 0.02116951,\n",
       "                           0.44375092, 1.        , 0.69747475, 0.01549307, 0.02384319, 1.        ,\n",
       "                           1.        , 0.02689813, 0.25187783, 0.12361651, 1.        , 0.13650859,\n",
       "                           1.        , 0.04841389, 1.        , 0.19928806, 0.87529762, 1.        ,\n",
       "                           0.0100918 , 0.90277778, 0.01107626, 0.06557   , 0.10483456, 0.01471911,\n",
       "                           0.01166388, 0.33018687, 0.04502843, 1.        , 0.61979567, 0.09716566,\n",
       "                           0.88244048, 0.86111111, 0.18823161, 0.52502066, 0.93055556, 0.4852411 ,\n",
       "                           0.176293  , 0.01757868, 0.51494268, 1.        , 0.20371677, 0.64940219,\n",
       "                           1.        , 0.44938066, 0.51342422, 0.48846908, 0.0080333 , 0.63293651,\n",
       "                           0.78263889, 0.12989443, 0.97916667, 0.03104745, 0.01563937, 1.        ,\n",
       "                           0.7093143 , 0.67791005, 0.85606061, 0.48897727, 0.2138537 , 0.22481323,\n",
       "                           0.01540795, 0.85238095, 0.05650171, 0.01817477, 0.12911731, 0.03949054,\n",
       "                           0.9375    , 1.        , 1.        , 0.01501934, 0.64769072, 0.19651266,\n",
       "                           0.39722642, 0.33966438, 0.28621362, 0.1186732 , 0.96666667, 0.42272503,\n",
       "                           0.79801587, 0.02632002, 0.17849456, 0.84094551, 0.38394893, 0.61686508]),\n",
       "               'x0': ' ',\n",
       "               'xaxis': 'x',\n",
       "               'y': array(['Standard CP', 'Standard CP', 'Standard CP', 'Standard CP',\n",
       "                           'Standard CP', 'Standard CP', 'Standard CP', 'Standard CP',\n",
       "                           'Standard CP', 'Standard CP', 'Standard CP', 'Standard CP',\n",
       "                           'Standard CP', 'Standard CP', 'Standard CP', 'Standard CP',\n",
       "                           'Standard CP', 'Standard CP', 'Standard CP', 'Standard CP',\n",
       "                           'Standard CP', 'Standard CP', 'Standard CP', 'Standard CP',\n",
       "                           'Standard CP', 'Standard CP', 'Standard CP', 'Standard CP',\n",
       "                           'Standard CP', 'Standard CP', 'Standard CP', 'Standard CP',\n",
       "                           'Standard CP', 'Standard CP', 'Standard CP', 'Standard CP',\n",
       "                           'Standard CP', 'Standard CP', 'Standard CP', 'Standard CP',\n",
       "                           'Standard CP', 'Standard CP', 'Standard CP', 'Standard CP',\n",
       "                           'Standard CP', 'Standard CP', 'Standard CP', 'Standard CP',\n",
       "                           'Standard CP', 'Standard CP', 'Standard CP', 'Standard CP',\n",
       "                           'Standard CP', 'Standard CP', 'Standard CP', 'Standard CP',\n",
       "                           'Standard CP', 'Standard CP', 'Standard CP', 'Standard CP',\n",
       "                           'Standard CP', 'Standard CP', 'Standard CP', 'Standard CP',\n",
       "                           'Standard CP', 'Standard CP', 'Standard CP', 'Standard CP',\n",
       "                           'Standard CP', 'Standard CP', 'Standard CP', 'Standard CP',\n",
       "                           'Standard CP', 'Standard CP', 'Standard CP', 'Standard CP',\n",
       "                           'Standard CP', 'Standard CP', 'Standard CP', 'Standard CP',\n",
       "                           'Standard CP', 'Standard CP', 'Standard CP', 'Standard CP',\n",
       "                           'Standard CP', 'Standard CP', 'Standard CP', 'Standard CP',\n",
       "                           'Standard CP', 'Standard CP'], dtype=object),\n",
       "               'y0': ' ',\n",
       "               'yaxis': 'y'}],\n",
       "     'layout': {'font': {'color': 'black', 'family': 'sans serif', 'size': 95},\n",
       "                'height': 2500,\n",
       "                'legend': {'title': {'text': 'color'}, 'tracegroupgap': 0},\n",
       "                'margin': {'t': 60},\n",
       "                'plot_bgcolor': 'rgba(0,0,0,0)',\n",
       "                'showlegend': False,\n",
       "                'template': '...',\n",
       "                'violinmode': 'group',\n",
       "                'width': 2750,\n",
       "                'xaxis': {'anchor': 'y',\n",
       "                          'domain': [0.0, 1.0],\n",
       "                          'linecolor': 'black',\n",
       "                          'linewidth': 1,\n",
       "                          'range': [0, 1.02],\n",
       "                          'showline': True,\n",
       "                          'tickangle': 90,\n",
       "                          'title': {'text': 'Mean Average Precision'}},\n",
       "                'yaxis': {'anchor': 'x',\n",
       "                          'domain': [0.0, 1.0],\n",
       "                          'linecolor': 'black',\n",
       "                          'linewidth': 1,\n",
       "                          'showline': True,\n",
       "                          'title': {'text': ''}}}\n",
       " }),\n",
       " {'Standard CP':      Metadata_broad_sample  mean_average_precision   p_value  \\\n",
       "  0   BRD-A12994259-001-11-9                0.075191  0.045895   \n",
       "  1   BRD-A22769835-300-05-7                0.023380  0.218078   \n",
       "  2   BRD-A53576514-048-02-8                0.043358  0.093091   \n",
       "  3   BRD-A87435144-001-01-6                0.125388  0.023298   \n",
       "  4   BRD-K00818915-001-02-9                0.173817  0.016898   \n",
       "  ..                     ...                     ...       ...   \n",
       "  85  BRD-K98251413-001-07-9                0.026320  0.185681   \n",
       "  86  BRD-K99092662-001-02-9                0.178495  0.013399   \n",
       "  87  BRD-K99113996-001-02-0                0.840946  0.000100   \n",
       "  88  BRD-K99433989-001-02-9                0.383949  0.000800   \n",
       "  89  BRD-M87138257-003-01-1                0.616865  0.000200   \n",
       "  \n",
       "      corrected_p_value  below_p  below_corrected_p  \n",
       "  0            0.061651     True              False  \n",
       "  1            0.251629    False              False  \n",
       "  2            0.116363    False              False  \n",
       "  3            0.033819     True               True  \n",
       "  4            0.026222     True               True  \n",
       "  ..                ...      ...                ...  \n",
       "  85           0.219886    False              False  \n",
       "  86           0.021534     True               True  \n",
       "  87           0.000310     True               True  \n",
       "  88           0.001600     True               True  \n",
       "  89           0.000450     True               True  \n",
       "  \n",
       "  [90 rows x 6 columns],\n",
       "  'CP + MitoBrilliant':      Metadata_broad_sample  mean_average_precision   p_value  \\\n",
       "  0   BRD-A12994259-001-11-9                0.016540  0.348065   \n",
       "  1   BRD-A22769835-300-05-7                0.016620  0.345265   \n",
       "  2   BRD-A53576514-048-02-8                0.112136  0.027497   \n",
       "  3   BRD-A87435144-001-01-6                0.144389  0.018498   \n",
       "  4   BRD-K00818915-001-02-9                0.176370  0.013799   \n",
       "  ..                     ...                     ...       ...   \n",
       "  85  BRD-K98251413-001-07-9                0.168255  0.017198   \n",
       "  86  BRD-K99092662-001-02-9                0.029848  0.153385   \n",
       "  87  BRD-K99113996-001-02-0                0.689836  0.000100   \n",
       "  88  BRD-K99433989-001-02-9                0.566043  0.000200   \n",
       "  89  BRD-M87138257-003-01-1                0.732434  0.000100   \n",
       "  \n",
       "      corrected_p_value  below_p  below_corrected_p  \n",
       "  0            0.392516    False              False  \n",
       "  1            0.392516    False              False  \n",
       "  2            0.039282     True               True  \n",
       "  3            0.027292     True               True  \n",
       "  4            0.021787     True               True  \n",
       "  ..                ...      ...                ...  \n",
       "  85           0.026235     True               True  \n",
       "  86           0.197209    False              False  \n",
       "  87           0.000257     True               True  \n",
       "  88           0.000439     True               True  \n",
       "  89           0.000257     True               True  \n",
       "  \n",
       "  [90 rows x 6 columns],\n",
       "  'CP + Phenovue phalloidin 400LS':      Metadata_broad_sample  mean_average_precision   p_value  \\\n",
       "  0   BRD-A12994259-001-11-9                0.111238  0.028897   \n",
       "  1   BRD-A22769835-300-05-7                0.010965  0.615438   \n",
       "  2   BRD-A53576514-048-02-8                0.122123  0.024798   \n",
       "  3   BRD-A87435144-001-01-6                0.091964  0.034897   \n",
       "  4   BRD-K00818915-001-02-9                0.046516  0.084992   \n",
       "  ..                     ...                     ...       ...   \n",
       "  85  BRD-K98251413-001-07-9                0.422619  0.000600   \n",
       "  86  BRD-K99092662-001-02-9                0.068236  0.052695   \n",
       "  87  BRD-K99113996-001-02-0                0.920833  0.000100   \n",
       "  88  BRD-K99433989-001-02-9                0.267995  0.008199   \n",
       "  89  BRD-M87138257-003-01-1                0.483573  0.000200   \n",
       "  \n",
       "      corrected_p_value  below_p  below_corrected_p  \n",
       "  0            0.041282     True               True  \n",
       "  1            0.636660    False              False  \n",
       "  2            0.037196     True               True  \n",
       "  3            0.048318     True               True  \n",
       "  4            0.114168    False              False  \n",
       "  ..                ...      ...                ...  \n",
       "  85           0.001149     True               True  \n",
       "  86           0.071856    False              False  \n",
       "  87           0.000310     True               True  \n",
       "  88           0.014191     True               True  \n",
       "  89           0.000391     True               True  \n",
       "  \n",
       "  [90 rows x 6 columns],\n",
       "  'Standard CP (exposed to ChromaLive)':      Metadata_broad_sample  mean_average_precision   p_value  \\\n",
       "  0   BRD-A12994259-001-11-9                0.028842  0.163884   \n",
       "  1   BRD-A22769835-300-05-7                0.010497  0.650335   \n",
       "  2   BRD-A53576514-048-02-8                0.027746  0.172783   \n",
       "  3   BRD-A87435144-001-01-6                0.165282  0.019298   \n",
       "  4   BRD-K00818915-001-02-9                0.100195  0.031597   \n",
       "  ..                     ...                     ...       ...   \n",
       "  85  BRD-K98251413-001-07-9                0.063344  0.057094   \n",
       "  86  BRD-K99092662-001-02-9                0.027395  0.176182   \n",
       "  87  BRD-K99113996-001-02-0                1.000000  0.000100   \n",
       "  88  BRD-K99433989-001-02-9                0.153146  0.019498   \n",
       "  89  BRD-M87138257-003-01-1                0.390053  0.000800   \n",
       "  \n",
       "      corrected_p_value  below_p  below_corrected_p  \n",
       "  0            0.202048    False              False  \n",
       "  1            0.665115    False              False  \n",
       "  2            0.207339    False              False  \n",
       "  3            0.030256     True               True  \n",
       "  4            0.046618     True               True  \n",
       "  ..                ...      ...                ...  \n",
       "  85           0.079054    False              False  \n",
       "  86           0.208637    False              False  \n",
       "  87           0.000333     True               True  \n",
       "  88           0.030256     True               True  \n",
       "  89           0.001636     True               True  \n",
       "  \n",
       "  [90 rows x 6 columns],\n",
       "  'ChromaLive + Hoechst':      Metadata_broad_sample  mean_average_precision   p_value  \\\n",
       "  0   BRD-A12994259-001-11-9                0.038399  0.110489   \n",
       "  1   BRD-A22769835-300-05-7                0.177404  0.014499   \n",
       "  2   BRD-A53576514-048-02-8                0.022428  0.230777   \n",
       "  3   BRD-A87435144-001-01-6                0.455858  0.000200   \n",
       "  4   BRD-K00818915-001-02-9                0.243168  0.008199   \n",
       "  ..                     ...                     ...       ...   \n",
       "  85  BRD-K98251413-001-07-9                0.105246  0.030097   \n",
       "  86  BRD-K99092662-001-02-9                0.015181  0.400960   \n",
       "  87  BRD-K99113996-001-02-0                1.000000  0.000100   \n",
       "  88  BRD-K99433989-001-02-9                0.979167  0.000100   \n",
       "  89  BRD-M87138257-003-01-1                1.000000  0.000100   \n",
       "  \n",
       "      corrected_p_value  below_p  below_corrected_p  \n",
       "  0            0.122766    False              False  \n",
       "  1            0.022892     True               True  \n",
       "  2            0.244352    False              False  \n",
       "  3            0.000545     True               True  \n",
       "  4            0.014433     True               True  \n",
       "  ..                ...      ...                ...  \n",
       "  85           0.040231     True               True  \n",
       "  86           0.410073    False              False  \n",
       "  87           0.000500     True               True  \n",
       "  88           0.000500     True               True  \n",
       "  89           0.000500     True               True  \n",
       "  \n",
       "  [90 rows x 6 columns]})"
      ]
     },
     "execution_count": 18,
     "metadata": {},
     "output_type": "execute_result"
    }
   ],
   "source": [
    "copairs_batches_wosistercompounds_updated(dict_to_load_feature_selected,mAP='Treatment')"
   ]
  }
 ],
 "metadata": {
  "kernelspec": {
   "display_name": "copairs",
   "language": "python",
   "name": "python3"
  },
  "language_info": {
   "codemirror_mode": {
    "name": "ipython",
    "version": 3
   },
   "file_extension": ".py",
   "mimetype": "text/x-python",
   "name": "python",
   "nbconvert_exporter": "python",
   "pygments_lexer": "ipython3",
   "version": "3.12.2"
  }
 },
 "nbformat": 4,
 "nbformat_minor": 2
}
