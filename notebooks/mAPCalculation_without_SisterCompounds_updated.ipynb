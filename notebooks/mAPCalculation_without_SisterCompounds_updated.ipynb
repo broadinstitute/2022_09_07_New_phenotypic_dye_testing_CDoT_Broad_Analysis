{
 "cells": [
  {
   "cell_type": "markdown",
   "metadata": {},
   "source": [
    "### Details of the parameters used in this notebook\n",
    "\n",
    "* pos_sameby - 'Metadata_broad_sample', compound treatments\n",
    "* neg_diffby - 'Metadata_broad_Sample', 'Metadata_MOA', 'Metadata_control_type' (control columns) "
   ]
  },
  {
   "cell_type": "code",
   "execution_count": 1,
   "metadata": {},
   "outputs": [
    {
     "name": "stdout",
     "output_type": "stream",
     "text": [
      "Python 3.12.2\n"
     ]
    }
   ],
   "source": [
    "!python --version"
   ]
  },
  {
   "cell_type": "code",
   "execution_count": 2,
   "metadata": {},
   "outputs": [
    {
     "name": "stderr",
     "output_type": "stream",
     "text": [
      "c:\\Users\\ssivagur\\Anaconda3\\envs\\copairs\\Lib\\site-packages\\tqdm\\auto.py:21: TqdmWarning: IProgress not found. Please update jupyter and ipywidgets. See https://ipywidgets.readthedocs.io/en/stable/user_install.html\n",
      "  from .autonotebook import tqdm as notebook_tqdm\n"
     ]
    }
   ],
   "source": [
    "#importing necessary modules \n",
    "import pandas as pd\n",
    "import numpy as np\n",
    "import matplotlib.pyplot as plt\n",
    "from sklearn.decomposition import PCA\n",
    "from sklearn.preprocessing import StandardScaler\n",
    "import plotly.graph_objects as go\n",
    "from plotly.subplots import make_subplots\n",
    "import plotly.express as px\n",
    "import seaborn as sns\n",
    "import copairs\n",
    "import pycytominer\n",
    "from copairs.map import average_precision\n",
    "from copairs.map import mean_average_precision\n",
    "from utils import * \n",
    "\n",
    "%load_ext autoreload\n",
    "%autoreload 2"
   ]
  },
  {
   "cell_type": "code",
   "execution_count": 3,
   "metadata": {},
   "outputs": [
    {
     "name": "stdout",
     "output_type": "stream",
     "text": [
      "Name: copairs\n",
      "Version: 0.4.1\n",
      "Summary: Find pairs and compute metrics between them\n",
      "Home-page: \n",
      "Author: \n",
      "Author-email: John Arevalo <johnarevalo@gmail.com>\n",
      "License: \n",
      "Location: c:\\Users\\ssivagur\\Anaconda3\\envs\\copairs\\Lib\\site-packages\n",
      "Requires: pandas, statsmodels, tqdm\n",
      "Required-by: \n",
      "Note: you may need to restart the kernel to use updated packages.\n"
     ]
    }
   ],
   "source": [
    "pip show copairs"
   ]
  },
  {
   "cell_type": "markdown",
   "metadata": {},
   "source": [
    "#### Reading the dataframes "
   ]
  },
  {
   "cell_type": "code",
   "execution_count": 4,
   "metadata": {},
   "outputs": [],
   "source": [
    "#Reading the normalized and feature selected files for copairs - fixed cells and 48h time point\n",
    "dict_to_load_feature_selected = {'c:\\\\Users\\\\ssivagur\\\\Documents\\\\Projects\\\\Cell_painting_projects\\\\CDoT\\\\Batch3_analysis_redo\\\\UpdatedCopairsVersion\\\\BR00122250_normalized_feature_select_negcon_batch.csv':'Standard CP',\n",
    "                                 'c:\\\\Users\\\\ssivagur\\\\Documents\\\\Projects\\\\Cell_painting_projects\\\\CDoT\\\\Batch3_analysis_redo\\\\UpdatedCopairsVersion\\\\BR00122246_normalized_feature_select_negcon_batch.csv':'CP + MitoBrilliant',\n",
    "                                 'c:\\\\Users\\\\ssivagur\\\\Documents\\\\Projects\\\\Cell_painting_projects\\\\CDoT\\\\Batch3_analysis_redo\\\\UpdatedCopairsVersion\\\\BR00122247_normalized_feature_select_negcon_batch.csv':'CP + Phenovue phalloidin 400LS',\n",
    "                                 'c:\\\\Users\\\\ssivagur\\\\Documents\\\\Projects\\\\Cell_painting_projects\\\\CDoT\\\\Batch3_analysis_redo\\\\UpdatedCopairsVersion\\\\BR00122248_normalized_feature_select_negcon_batch.csv':'Standard CP (exposed to ChromaLive)',\n",
    "                                 'c:\\\\Users\\\\ssivagur\\\\Documents\\\\Projects\\\\Cell_painting_projects\\\\CDoT\\\\Batch3_analysis_redo\\\\UpdatedCopairsVersion\\\\BR00122249_normalized_feature_select_negcon_batch_wo_phasefeatures.csv':'ChromaLive + Hoechst'\n",
    "\n",
    "}\n"
   ]
  },
  {
   "cell_type": "code",
   "execution_count": 5,
   "metadata": {},
   "outputs": [
    {
     "name": "stderr",
     "output_type": "stream",
     "text": [
      "                                             \r"
     ]
    },
    {
     "data": {
      "application/vnd.plotly.v1+json": {
       "config": {
        "plotlyServerURL": "https://plot.ly"
       },
       "data": [
        {
         "alignmentgroup": "True",
         "box": {
          "visible": true
         },
         "hovertemplate": "color=ChromaLive + Hoechst<br>x=%{x}<br>y=%{y}<extra></extra>",
         "legendgroup": "ChromaLive + Hoechst",
         "marker": {
          "color": "#cc78bc"
         },
         "name": "ChromaLive + Hoechst",
         "offsetgroup": "ChromaLive + Hoechst",
         "orientation": "h",
         "points": "all",
         "scalegroup": "True",
         "showlegend": true,
         "type": "violin",
         "width": 0.5,
         "x": [
          0.189047499341617,
          0.6853506787330317,
          0.17481797791580403,
          0.6607905982905983,
          0.5802997076023391,
          0.38137464387464387,
          1,
          1,
          0.9513888888888888,
          0.27795177045177044,
          0.17355386159733985,
          0.7783909327387588,
          0.8225198412698412,
          0.1982682554373731,
          0.7391339869281046,
          0.133759065009065,
          0.8070779220779221,
          0.32328169515669514,
          1,
          0.16643009768009767,
          1,
          0.4539051226551227,
          0.9083333333333333,
          0.8480392156862745,
          0.7808333333333334,
          1,
          0.9345238095238095,
          0.777281746031746,
          0.6037698412698413,
          0.509433621933622,
          0.18722572362278245,
          0.48281024531024536,
          0.11721518004412741,
          1,
          1,
          0.18733297616020728,
          0.7120273109243698,
          1,
          1,
          1,
          0.5517829900839054,
          0.629635989010989,
          0.3632051282051282,
          0.6292281792281793,
          1,
          0.7027738927738928,
          0.8571428571428572,
          0.3739064076020598,
          1,
          1,
          0.7882936507936508,
          0.652948506066355,
          0.25031331828932446,
          1,
          1,
          0.35608742103307317,
          0.43620370370370365,
          0.5712228592663375,
          0.5537253459736298,
          1,
          0.5040103415103415,
          1,
          1,
          0.6605555555555556,
          1,
          0.8546969696969697,
          0.1304476297123356,
          1,
          0.8638888888888889,
          0.30654345654345655,
          0.25311447811447807,
          0.52109440267335,
          0.20957065810006986,
          0.8288239538239538,
          1,
          0.35350144669198375,
          1,
          0.22892512077294686,
          0.33320360195360194,
          0.39647944647944644,
          0.21786301105354813,
          0.5664351851851852,
          0.6367658730158731,
          0.7203219696969697,
          1,
          0.21893011815612434,
          0.1412800162800163,
          1,
          1,
          1,
          0.134263461509009
         ],
         "x0": " ",
         "xaxis": "x",
         "y": [
          "ChromaLive + Hoechst",
          "ChromaLive + Hoechst",
          "ChromaLive + Hoechst",
          "ChromaLive + Hoechst",
          "ChromaLive + Hoechst",
          "ChromaLive + Hoechst",
          "ChromaLive + Hoechst",
          "ChromaLive + Hoechst",
          "ChromaLive + Hoechst",
          "ChromaLive + Hoechst",
          "ChromaLive + Hoechst",
          "ChromaLive + Hoechst",
          "ChromaLive + Hoechst",
          "ChromaLive + Hoechst",
          "ChromaLive + Hoechst",
          "ChromaLive + Hoechst",
          "ChromaLive + Hoechst",
          "ChromaLive + Hoechst",
          "ChromaLive + Hoechst",
          "ChromaLive + Hoechst",
          "ChromaLive + Hoechst",
          "ChromaLive + Hoechst",
          "ChromaLive + Hoechst",
          "ChromaLive + Hoechst",
          "ChromaLive + Hoechst",
          "ChromaLive + Hoechst",
          "ChromaLive + Hoechst",
          "ChromaLive + Hoechst",
          "ChromaLive + Hoechst",
          "ChromaLive + Hoechst",
          "ChromaLive + Hoechst",
          "ChromaLive + Hoechst",
          "ChromaLive + Hoechst",
          "ChromaLive + Hoechst",
          "ChromaLive + Hoechst",
          "ChromaLive + Hoechst",
          "ChromaLive + Hoechst",
          "ChromaLive + Hoechst",
          "ChromaLive + Hoechst",
          "ChromaLive + Hoechst",
          "ChromaLive + Hoechst",
          "ChromaLive + Hoechst",
          "ChromaLive + Hoechst",
          "ChromaLive + Hoechst",
          "ChromaLive + Hoechst",
          "ChromaLive + Hoechst",
          "ChromaLive + Hoechst",
          "ChromaLive + Hoechst",
          "ChromaLive + Hoechst",
          "ChromaLive + Hoechst",
          "ChromaLive + Hoechst",
          "ChromaLive + Hoechst",
          "ChromaLive + Hoechst",
          "ChromaLive + Hoechst",
          "ChromaLive + Hoechst",
          "ChromaLive + Hoechst",
          "ChromaLive + Hoechst",
          "ChromaLive + Hoechst",
          "ChromaLive + Hoechst",
          "ChromaLive + Hoechst",
          "ChromaLive + Hoechst",
          "ChromaLive + Hoechst",
          "ChromaLive + Hoechst",
          "ChromaLive + Hoechst",
          "ChromaLive + Hoechst",
          "ChromaLive + Hoechst",
          "ChromaLive + Hoechst",
          "ChromaLive + Hoechst",
          "ChromaLive + Hoechst",
          "ChromaLive + Hoechst",
          "ChromaLive + Hoechst",
          "ChromaLive + Hoechst",
          "ChromaLive + Hoechst",
          "ChromaLive + Hoechst",
          "ChromaLive + Hoechst",
          "ChromaLive + Hoechst",
          "ChromaLive + Hoechst",
          "ChromaLive + Hoechst",
          "ChromaLive + Hoechst",
          "ChromaLive + Hoechst",
          "ChromaLive + Hoechst",
          "ChromaLive + Hoechst",
          "ChromaLive + Hoechst",
          "ChromaLive + Hoechst",
          "ChromaLive + Hoechst",
          "ChromaLive + Hoechst",
          "ChromaLive + Hoechst",
          "ChromaLive + Hoechst",
          "ChromaLive + Hoechst",
          "ChromaLive + Hoechst",
          "ChromaLive + Hoechst"
         ],
         "y0": " ",
         "yaxis": "y"
        },
        {
         "alignmentgroup": "True",
         "box": {
          "visible": true
         },
         "hovertemplate": "color=Standard CP (exposed to ChromaLive)<br>x=%{x}<br>y=%{y}<extra></extra>",
         "legendgroup": "Standard CP (exposed to ChromaLive)",
         "marker": {
          "color": "#d55e00"
         },
         "name": "Standard CP (exposed to ChromaLive)",
         "offsetgroup": "Standard CP (exposed to ChromaLive)",
         "orientation": "h",
         "points": "all",
         "scalegroup": "True",
         "showlegend": true,
         "type": "violin",
         "width": 0.5,
         "x": [
          0.2581150793650794,
          0.19128902143608026,
          0.16583694083694084,
          0.8680555555555556,
          0.37584155680509496,
          0.23248544218938955,
          1,
          1,
          1,
          0.41549953314659194,
          0.21680226915327536,
          1,
          1,
          0.1556814713064713,
          1,
          0.451497113997114,
          0.9791666666666666,
          0.21331628611040376,
          0.925,
          0.21540395520658678,
          1,
          0.4540824915824916,
          1,
          1,
          0.3401552492341966,
          1,
          0.25662795629311985,
          0.7777777777777777,
          0.17869142166742785,
          0.23038657111597616,
          0.5907828282828282,
          0.631547619047619,
          0.12036418457454263,
          1,
          1,
          0.6478174603174603,
          1,
          1,
          0.7155753968253968,
          1,
          0.9666666666666667,
          0.8694444444444445,
          0.7222222222222222,
          0.1592156685906686,
          1,
          0.7791666666666667,
          1,
          1,
          0.9513888888888888,
          1,
          0.9375,
          0.8204365079365079,
          0.15821357972093264,
          1,
          1,
          0.249017649017649,
          0.8833333333333333,
          0.40668803418803423,
          0.2260547201336675,
          1,
          0.6629807692307692,
          1,
          1,
          1,
          1,
          0.8833333333333333,
          0.2130186600838775,
          1,
          0.7258928571428571,
          0.19978026466997056,
          0.3300189393939394,
          0.350976800976801,
          0.7468253968253968,
          0.6791666666666666,
          0.7375,
          0.14610486735486736,
          1,
          0.2863131031609292,
          1,
          1,
          0.4768696581196581,
          0.9583333333333333,
          1,
          1,
          1,
          0.29921940267335,
          0.20086717619612357,
          1,
          0.5430555555555555,
          1,
          0.08428744668892785
         ],
         "x0": " ",
         "xaxis": "x",
         "y": [
          "Standard CP (exposed to ChromaLive)",
          "Standard CP (exposed to ChromaLive)",
          "Standard CP (exposed to ChromaLive)",
          "Standard CP (exposed to ChromaLive)",
          "Standard CP (exposed to ChromaLive)",
          "Standard CP (exposed to ChromaLive)",
          "Standard CP (exposed to ChromaLive)",
          "Standard CP (exposed to ChromaLive)",
          "Standard CP (exposed to ChromaLive)",
          "Standard CP (exposed to ChromaLive)",
          "Standard CP (exposed to ChromaLive)",
          "Standard CP (exposed to ChromaLive)",
          "Standard CP (exposed to ChromaLive)",
          "Standard CP (exposed to ChromaLive)",
          "Standard CP (exposed to ChromaLive)",
          "Standard CP (exposed to ChromaLive)",
          "Standard CP (exposed to ChromaLive)",
          "Standard CP (exposed to ChromaLive)",
          "Standard CP (exposed to ChromaLive)",
          "Standard CP (exposed to ChromaLive)",
          "Standard CP (exposed to ChromaLive)",
          "Standard CP (exposed to ChromaLive)",
          "Standard CP (exposed to ChromaLive)",
          "Standard CP (exposed to ChromaLive)",
          "Standard CP (exposed to ChromaLive)",
          "Standard CP (exposed to ChromaLive)",
          "Standard CP (exposed to ChromaLive)",
          "Standard CP (exposed to ChromaLive)",
          "Standard CP (exposed to ChromaLive)",
          "Standard CP (exposed to ChromaLive)",
          "Standard CP (exposed to ChromaLive)",
          "Standard CP (exposed to ChromaLive)",
          "Standard CP (exposed to ChromaLive)",
          "Standard CP (exposed to ChromaLive)",
          "Standard CP (exposed to ChromaLive)",
          "Standard CP (exposed to ChromaLive)",
          "Standard CP (exposed to ChromaLive)",
          "Standard CP (exposed to ChromaLive)",
          "Standard CP (exposed to ChromaLive)",
          "Standard CP (exposed to ChromaLive)",
          "Standard CP (exposed to ChromaLive)",
          "Standard CP (exposed to ChromaLive)",
          "Standard CP (exposed to ChromaLive)",
          "Standard CP (exposed to ChromaLive)",
          "Standard CP (exposed to ChromaLive)",
          "Standard CP (exposed to ChromaLive)",
          "Standard CP (exposed to ChromaLive)",
          "Standard CP (exposed to ChromaLive)",
          "Standard CP (exposed to ChromaLive)",
          "Standard CP (exposed to ChromaLive)",
          "Standard CP (exposed to ChromaLive)",
          "Standard CP (exposed to ChromaLive)",
          "Standard CP (exposed to ChromaLive)",
          "Standard CP (exposed to ChromaLive)",
          "Standard CP (exposed to ChromaLive)",
          "Standard CP (exposed to ChromaLive)",
          "Standard CP (exposed to ChromaLive)",
          "Standard CP (exposed to ChromaLive)",
          "Standard CP (exposed to ChromaLive)",
          "Standard CP (exposed to ChromaLive)",
          "Standard CP (exposed to ChromaLive)",
          "Standard CP (exposed to ChromaLive)",
          "Standard CP (exposed to ChromaLive)",
          "Standard CP (exposed to ChromaLive)",
          "Standard CP (exposed to ChromaLive)",
          "Standard CP (exposed to ChromaLive)",
          "Standard CP (exposed to ChromaLive)",
          "Standard CP (exposed to ChromaLive)",
          "Standard CP (exposed to ChromaLive)",
          "Standard CP (exposed to ChromaLive)",
          "Standard CP (exposed to ChromaLive)",
          "Standard CP (exposed to ChromaLive)",
          "Standard CP (exposed to ChromaLive)",
          "Standard CP (exposed to ChromaLive)",
          "Standard CP (exposed to ChromaLive)",
          "Standard CP (exposed to ChromaLive)",
          "Standard CP (exposed to ChromaLive)",
          "Standard CP (exposed to ChromaLive)",
          "Standard CP (exposed to ChromaLive)",
          "Standard CP (exposed to ChromaLive)",
          "Standard CP (exposed to ChromaLive)",
          "Standard CP (exposed to ChromaLive)",
          "Standard CP (exposed to ChromaLive)",
          "Standard CP (exposed to ChromaLive)",
          "Standard CP (exposed to ChromaLive)",
          "Standard CP (exposed to ChromaLive)",
          "Standard CP (exposed to ChromaLive)",
          "Standard CP (exposed to ChromaLive)",
          "Standard CP (exposed to ChromaLive)",
          "Standard CP (exposed to ChromaLive)",
          "Standard CP (exposed to ChromaLive)"
         ],
         "y0": " ",
         "yaxis": "y"
        },
        {
         "alignmentgroup": "True",
         "box": {
          "visible": true
         },
         "hovertemplate": "color=CP + Phenovue phalloidin 400LS<br>x=%{x}<br>y=%{y}<extra></extra>",
         "legendgroup": "CP + Phenovue phalloidin 400LS",
         "marker": {
          "color": "#029e73"
         },
         "name": "CP + Phenovue phalloidin 400LS",
         "offsetgroup": "CP + Phenovue phalloidin 400LS",
         "orientation": "h",
         "points": "all",
         "scalegroup": "True",
         "showlegend": true,
         "type": "violin",
         "width": 0.5,
         "x": [
          0.2558751542575072,
          0.15931218978819597,
          0.3335751054501055,
          0.8500000000000001,
          0.248718917391518,
          0.5228863728863729,
          1,
          1,
          1,
          0.34017857142857144,
          0.15665873478373477,
          1,
          1,
          0.32685185185185184,
          1,
          0.36920454545454545,
          1,
          0.37427998520675865,
          1,
          0.16809526435485517,
          1,
          0.7242063492063492,
          1,
          1,
          0.39085276787482665,
          1,
          0.31479348137242874,
          0.48471874129768866,
          0.22373676142697882,
          0.24054029304029304,
          0.24281851904134513,
          0.6048611111111111,
          0.11546312711358478,
          1,
          1,
          0.2824013949013949,
          1,
          1,
          0.9097222222222222,
          1,
          1,
          1,
          0.6797852474323063,
          0.21320090584796467,
          1,
          1,
          0.7871031746031747,
          1,
          0.8694444444444445,
          1,
          1,
          0.7999999999999999,
          0.15767627099148837,
          1,
          1,
          0.275005305152364,
          0.7676587301587302,
          0.2301143301143301,
          0.4014936330725804,
          1,
          0.9583333333333333,
          1,
          0.9513888888888888,
          1,
          1,
          0.5174693362193362,
          0.20160267470050078,
          1,
          0.5733987077737077,
          0.22322733918128654,
          0.365625,
          0.4890873015873015,
          1,
          1,
          1,
          0.18839647194910353,
          1,
          0.15875120250120248,
          1,
          0.8694444444444445,
          0.5371031746031746,
          0.7583333333333333,
          0.8069444444444445,
          1,
          1,
          0.9055555555555556,
          0.16517887909192258,
          1,
          0.8347222222222223,
          1,
          0.0840733566068706
         ],
         "x0": " ",
         "xaxis": "x",
         "y": [
          "CP + Phenovue phalloidin 400LS",
          "CP + Phenovue phalloidin 400LS",
          "CP + Phenovue phalloidin 400LS",
          "CP + Phenovue phalloidin 400LS",
          "CP + Phenovue phalloidin 400LS",
          "CP + Phenovue phalloidin 400LS",
          "CP + Phenovue phalloidin 400LS",
          "CP + Phenovue phalloidin 400LS",
          "CP + Phenovue phalloidin 400LS",
          "CP + Phenovue phalloidin 400LS",
          "CP + Phenovue phalloidin 400LS",
          "CP + Phenovue phalloidin 400LS",
          "CP + Phenovue phalloidin 400LS",
          "CP + Phenovue phalloidin 400LS",
          "CP + Phenovue phalloidin 400LS",
          "CP + Phenovue phalloidin 400LS",
          "CP + Phenovue phalloidin 400LS",
          "CP + Phenovue phalloidin 400LS",
          "CP + Phenovue phalloidin 400LS",
          "CP + Phenovue phalloidin 400LS",
          "CP + Phenovue phalloidin 400LS",
          "CP + Phenovue phalloidin 400LS",
          "CP + Phenovue phalloidin 400LS",
          "CP + Phenovue phalloidin 400LS",
          "CP + Phenovue phalloidin 400LS",
          "CP + Phenovue phalloidin 400LS",
          "CP + Phenovue phalloidin 400LS",
          "CP + Phenovue phalloidin 400LS",
          "CP + Phenovue phalloidin 400LS",
          "CP + Phenovue phalloidin 400LS",
          "CP + Phenovue phalloidin 400LS",
          "CP + Phenovue phalloidin 400LS",
          "CP + Phenovue phalloidin 400LS",
          "CP + Phenovue phalloidin 400LS",
          "CP + Phenovue phalloidin 400LS",
          "CP + Phenovue phalloidin 400LS",
          "CP + Phenovue phalloidin 400LS",
          "CP + Phenovue phalloidin 400LS",
          "CP + Phenovue phalloidin 400LS",
          "CP + Phenovue phalloidin 400LS",
          "CP + Phenovue phalloidin 400LS",
          "CP + Phenovue phalloidin 400LS",
          "CP + Phenovue phalloidin 400LS",
          "CP + Phenovue phalloidin 400LS",
          "CP + Phenovue phalloidin 400LS",
          "CP + Phenovue phalloidin 400LS",
          "CP + Phenovue phalloidin 400LS",
          "CP + Phenovue phalloidin 400LS",
          "CP + Phenovue phalloidin 400LS",
          "CP + Phenovue phalloidin 400LS",
          "CP + Phenovue phalloidin 400LS",
          "CP + Phenovue phalloidin 400LS",
          "CP + Phenovue phalloidin 400LS",
          "CP + Phenovue phalloidin 400LS",
          "CP + Phenovue phalloidin 400LS",
          "CP + Phenovue phalloidin 400LS",
          "CP + Phenovue phalloidin 400LS",
          "CP + Phenovue phalloidin 400LS",
          "CP + Phenovue phalloidin 400LS",
          "CP + Phenovue phalloidin 400LS",
          "CP + Phenovue phalloidin 400LS",
          "CP + Phenovue phalloidin 400LS",
          "CP + Phenovue phalloidin 400LS",
          "CP + Phenovue phalloidin 400LS",
          "CP + Phenovue phalloidin 400LS",
          "CP + Phenovue phalloidin 400LS",
          "CP + Phenovue phalloidin 400LS",
          "CP + Phenovue phalloidin 400LS",
          "CP + Phenovue phalloidin 400LS",
          "CP + Phenovue phalloidin 400LS",
          "CP + Phenovue phalloidin 400LS",
          "CP + Phenovue phalloidin 400LS",
          "CP + Phenovue phalloidin 400LS",
          "CP + Phenovue phalloidin 400LS",
          "CP + Phenovue phalloidin 400LS",
          "CP + Phenovue phalloidin 400LS",
          "CP + Phenovue phalloidin 400LS",
          "CP + Phenovue phalloidin 400LS",
          "CP + Phenovue phalloidin 400LS",
          "CP + Phenovue phalloidin 400LS",
          "CP + Phenovue phalloidin 400LS",
          "CP + Phenovue phalloidin 400LS",
          "CP + Phenovue phalloidin 400LS",
          "CP + Phenovue phalloidin 400LS",
          "CP + Phenovue phalloidin 400LS",
          "CP + Phenovue phalloidin 400LS",
          "CP + Phenovue phalloidin 400LS",
          "CP + Phenovue phalloidin 400LS",
          "CP + Phenovue phalloidin 400LS",
          "CP + Phenovue phalloidin 400LS",
          "CP + Phenovue phalloidin 400LS"
         ],
         "y0": " ",
         "yaxis": "y"
        },
        {
         "alignmentgroup": "True",
         "box": {
          "visible": true
         },
         "hovertemplate": "color=CP + MitoBrilliant<br>x=%{x}<br>y=%{y}<extra></extra>",
         "legendgroup": "CP + MitoBrilliant",
         "marker": {
          "color": "#de8f05"
         },
         "name": "CP + MitoBrilliant",
         "offsetgroup": "CP + MitoBrilliant",
         "orientation": "h",
         "points": "all",
         "scalegroup": "True",
         "showlegend": true,
         "type": "violin",
         "width": 0.5,
         "x": [
          0.19386746151452033,
          0.3181547619047619,
          0.44267353017353017,
          0.8972222222222223,
          0.299443052074631,
          0.2940737865194387,
          1,
          1,
          1,
          0.6799603174603175,
          0.2330090741532389,
          1,
          1,
          0.1483847512136986,
          1,
          0.3650613275613276,
          1,
          0.2308624124413598,
          1,
          0.15714158526658528,
          1,
          0.7509920634920635,
          1,
          0.6102272727272727,
          0.23815487631277105,
          0.9791666666666666,
          0.13753962268668152,
          1,
          0.16049992405255561,
          0.20054544489327097,
          0.5779220779220778,
          0.870436507936508,
          0.19627752608015764,
          1,
          1,
          0.6023809523809524,
          1,
          1,
          1,
          1,
          0.8833333333333333,
          0.7902777777777777,
          0.6001984126984127,
          0.26576340326340325,
          1,
          1,
          1,
          1,
          1,
          1,
          1,
          0.8833333333333333,
          0.229006919006919,
          1,
          1,
          0.25176767676767675,
          1,
          0.11722890762936529,
          0.4773141074611663,
          1,
          0.8312499999999999,
          1,
          1,
          1,
          1,
          0.8833333333333333,
          0.23999715059497667,
          1,
          0.7876984126984127,
          0.12809256518621842,
          0.24190026347921084,
          0.2997685185185185,
          1,
          1,
          1,
          0.2160091066341066,
          1,
          0.19757000034459987,
          1,
          0.7916666666666666,
          0.6516106442577031,
          1,
          1,
          1,
          1,
          0.45370800366930397,
          0.20238721804511278,
          1,
          1,
          1,
          0.0798449372817101
         ],
         "x0": " ",
         "xaxis": "x",
         "y": [
          "CP + MitoBrilliant",
          "CP + MitoBrilliant",
          "CP + MitoBrilliant",
          "CP + MitoBrilliant",
          "CP + MitoBrilliant",
          "CP + MitoBrilliant",
          "CP + MitoBrilliant",
          "CP + MitoBrilliant",
          "CP + MitoBrilliant",
          "CP + MitoBrilliant",
          "CP + MitoBrilliant",
          "CP + MitoBrilliant",
          "CP + MitoBrilliant",
          "CP + MitoBrilliant",
          "CP + MitoBrilliant",
          "CP + MitoBrilliant",
          "CP + MitoBrilliant",
          "CP + MitoBrilliant",
          "CP + MitoBrilliant",
          "CP + MitoBrilliant",
          "CP + MitoBrilliant",
          "CP + MitoBrilliant",
          "CP + MitoBrilliant",
          "CP + MitoBrilliant",
          "CP + MitoBrilliant",
          "CP + MitoBrilliant",
          "CP + MitoBrilliant",
          "CP + MitoBrilliant",
          "CP + MitoBrilliant",
          "CP + MitoBrilliant",
          "CP + MitoBrilliant",
          "CP + MitoBrilliant",
          "CP + MitoBrilliant",
          "CP + MitoBrilliant",
          "CP + MitoBrilliant",
          "CP + MitoBrilliant",
          "CP + MitoBrilliant",
          "CP + MitoBrilliant",
          "CP + MitoBrilliant",
          "CP + MitoBrilliant",
          "CP + MitoBrilliant",
          "CP + MitoBrilliant",
          "CP + MitoBrilliant",
          "CP + MitoBrilliant",
          "CP + MitoBrilliant",
          "CP + MitoBrilliant",
          "CP + MitoBrilliant",
          "CP + MitoBrilliant",
          "CP + MitoBrilliant",
          "CP + MitoBrilliant",
          "CP + MitoBrilliant",
          "CP + MitoBrilliant",
          "CP + MitoBrilliant",
          "CP + MitoBrilliant",
          "CP + MitoBrilliant",
          "CP + MitoBrilliant",
          "CP + MitoBrilliant",
          "CP + MitoBrilliant",
          "CP + MitoBrilliant",
          "CP + MitoBrilliant",
          "CP + MitoBrilliant",
          "CP + MitoBrilliant",
          "CP + MitoBrilliant",
          "CP + MitoBrilliant",
          "CP + MitoBrilliant",
          "CP + MitoBrilliant",
          "CP + MitoBrilliant",
          "CP + MitoBrilliant",
          "CP + MitoBrilliant",
          "CP + MitoBrilliant",
          "CP + MitoBrilliant",
          "CP + MitoBrilliant",
          "CP + MitoBrilliant",
          "CP + MitoBrilliant",
          "CP + MitoBrilliant",
          "CP + MitoBrilliant",
          "CP + MitoBrilliant",
          "CP + MitoBrilliant",
          "CP + MitoBrilliant",
          "CP + MitoBrilliant",
          "CP + MitoBrilliant",
          "CP + MitoBrilliant",
          "CP + MitoBrilliant",
          "CP + MitoBrilliant",
          "CP + MitoBrilliant",
          "CP + MitoBrilliant",
          "CP + MitoBrilliant",
          "CP + MitoBrilliant",
          "CP + MitoBrilliant",
          "CP + MitoBrilliant",
          "CP + MitoBrilliant"
         ],
         "y0": " ",
         "yaxis": "y"
        },
        {
         "alignmentgroup": "True",
         "box": {
          "visible": true
         },
         "hovertemplate": "color=Standard CP<br>x=%{x}<br>y=%{y}<extra></extra>",
         "legendgroup": "Standard CP",
         "marker": {
          "color": "#0173b2"
         },
         "name": "Standard CP",
         "offsetgroup": "Standard CP",
         "orientation": "h",
         "points": "all",
         "scalegroup": "True",
         "showlegend": true,
         "type": "violin",
         "width": 0.5,
         "x": [
          0.29446225071225074,
          0.4792508417508417,
          0.31987085769980506,
          1,
          0.2676155969634231,
          0.33746345029239766,
          1,
          1,
          1,
          0.31981933371639254,
          0.6796626984126983,
          1,
          1,
          0.2917989417989418,
          0.8875,
          0.7805555555555556,
          1,
          0.3150836783988958,
          1,
          0.1536923878196257,
          1,
          0.675,
          1,
          1,
          0.33325815980993323,
          1,
          0.13867364117364117,
          0.8377976190476191,
          0.3261078042328042,
          0.2779858077340915,
          0.37169289044289044,
          0.6833333333333333,
          0.27914250101750104,
          1,
          1,
          0.34424603174603174,
          1,
          1,
          1,
          1,
          1,
          1,
          0.7496031746031745,
          0.20601718542895014,
          1,
          1,
          0.9583333333333334,
          1,
          1,
          1,
          1,
          0.9097222222222222,
          0.11165102928260823,
          1,
          1,
          0.3768786768786769,
          1,
          0.1934468952947214,
          0.40201972734867475,
          1,
          1,
          1,
          1,
          1,
          1,
          0.7472222222222222,
          0.4298340548340548,
          1,
          0.4321937321937322,
          0.16189733469145234,
          0.3379400691900692,
          0.21558186680469288,
          1,
          1,
          1,
          0.20005892255892255,
          1,
          0.47150787665493543,
          0.9666666666666667,
          0.90625,
          0.8236111111111111,
          1,
          1,
          1,
          1,
          0.24094190266790888,
          0.21551641083374828,
          1,
          0.8854166666666666,
          1,
          0.08649063621554494
         ],
         "x0": " ",
         "xaxis": "x",
         "y": [
          "Standard CP",
          "Standard CP",
          "Standard CP",
          "Standard CP",
          "Standard CP",
          "Standard CP",
          "Standard CP",
          "Standard CP",
          "Standard CP",
          "Standard CP",
          "Standard CP",
          "Standard CP",
          "Standard CP",
          "Standard CP",
          "Standard CP",
          "Standard CP",
          "Standard CP",
          "Standard CP",
          "Standard CP",
          "Standard CP",
          "Standard CP",
          "Standard CP",
          "Standard CP",
          "Standard CP",
          "Standard CP",
          "Standard CP",
          "Standard CP",
          "Standard CP",
          "Standard CP",
          "Standard CP",
          "Standard CP",
          "Standard CP",
          "Standard CP",
          "Standard CP",
          "Standard CP",
          "Standard CP",
          "Standard CP",
          "Standard CP",
          "Standard CP",
          "Standard CP",
          "Standard CP",
          "Standard CP",
          "Standard CP",
          "Standard CP",
          "Standard CP",
          "Standard CP",
          "Standard CP",
          "Standard CP",
          "Standard CP",
          "Standard CP",
          "Standard CP",
          "Standard CP",
          "Standard CP",
          "Standard CP",
          "Standard CP",
          "Standard CP",
          "Standard CP",
          "Standard CP",
          "Standard CP",
          "Standard CP",
          "Standard CP",
          "Standard CP",
          "Standard CP",
          "Standard CP",
          "Standard CP",
          "Standard CP",
          "Standard CP",
          "Standard CP",
          "Standard CP",
          "Standard CP",
          "Standard CP",
          "Standard CP",
          "Standard CP",
          "Standard CP",
          "Standard CP",
          "Standard CP",
          "Standard CP",
          "Standard CP",
          "Standard CP",
          "Standard CP",
          "Standard CP",
          "Standard CP",
          "Standard CP",
          "Standard CP",
          "Standard CP",
          "Standard CP",
          "Standard CP",
          "Standard CP",
          "Standard CP",
          "Standard CP",
          "Standard CP"
         ],
         "y0": " ",
         "yaxis": "y"
        }
       ],
       "layout": {
        "font": {
         "color": "black",
         "family": "sans serif",
         "size": 95
        },
        "height": 2500,
        "legend": {
         "title": {
          "text": "color"
         },
         "tracegroupgap": 0
        },
        "margin": {
         "t": 60
        },
        "plot_bgcolor": "rgba(0,0,0,0)",
        "showlegend": false,
        "template": {
         "data": {
          "bar": [
           {
            "error_x": {
             "color": "#2a3f5f"
            },
            "error_y": {
             "color": "#2a3f5f"
            },
            "marker": {
             "line": {
              "color": "#E5ECF6",
              "width": 0.5
             },
             "pattern": {
              "fillmode": "overlay",
              "size": 10,
              "solidity": 0.2
             }
            },
            "type": "bar"
           }
          ],
          "barpolar": [
           {
            "marker": {
             "line": {
              "color": "#E5ECF6",
              "width": 0.5
             },
             "pattern": {
              "fillmode": "overlay",
              "size": 10,
              "solidity": 0.2
             }
            },
            "type": "barpolar"
           }
          ],
          "carpet": [
           {
            "aaxis": {
             "endlinecolor": "#2a3f5f",
             "gridcolor": "white",
             "linecolor": "white",
             "minorgridcolor": "white",
             "startlinecolor": "#2a3f5f"
            },
            "baxis": {
             "endlinecolor": "#2a3f5f",
             "gridcolor": "white",
             "linecolor": "white",
             "minorgridcolor": "white",
             "startlinecolor": "#2a3f5f"
            },
            "type": "carpet"
           }
          ],
          "choropleth": [
           {
            "colorbar": {
             "outlinewidth": 0,
             "ticks": ""
            },
            "type": "choropleth"
           }
          ],
          "contour": [
           {
            "colorbar": {
             "outlinewidth": 0,
             "ticks": ""
            },
            "colorscale": [
             [
              0,
              "#0d0887"
             ],
             [
              0.1111111111111111,
              "#46039f"
             ],
             [
              0.2222222222222222,
              "#7201a8"
             ],
             [
              0.3333333333333333,
              "#9c179e"
             ],
             [
              0.4444444444444444,
              "#bd3786"
             ],
             [
              0.5555555555555556,
              "#d8576b"
             ],
             [
              0.6666666666666666,
              "#ed7953"
             ],
             [
              0.7777777777777778,
              "#fb9f3a"
             ],
             [
              0.8888888888888888,
              "#fdca26"
             ],
             [
              1,
              "#f0f921"
             ]
            ],
            "type": "contour"
           }
          ],
          "contourcarpet": [
           {
            "colorbar": {
             "outlinewidth": 0,
             "ticks": ""
            },
            "type": "contourcarpet"
           }
          ],
          "heatmap": [
           {
            "colorbar": {
             "outlinewidth": 0,
             "ticks": ""
            },
            "colorscale": [
             [
              0,
              "#0d0887"
             ],
             [
              0.1111111111111111,
              "#46039f"
             ],
             [
              0.2222222222222222,
              "#7201a8"
             ],
             [
              0.3333333333333333,
              "#9c179e"
             ],
             [
              0.4444444444444444,
              "#bd3786"
             ],
             [
              0.5555555555555556,
              "#d8576b"
             ],
             [
              0.6666666666666666,
              "#ed7953"
             ],
             [
              0.7777777777777778,
              "#fb9f3a"
             ],
             [
              0.8888888888888888,
              "#fdca26"
             ],
             [
              1,
              "#f0f921"
             ]
            ],
            "type": "heatmap"
           }
          ],
          "heatmapgl": [
           {
            "colorbar": {
             "outlinewidth": 0,
             "ticks": ""
            },
            "colorscale": [
             [
              0,
              "#0d0887"
             ],
             [
              0.1111111111111111,
              "#46039f"
             ],
             [
              0.2222222222222222,
              "#7201a8"
             ],
             [
              0.3333333333333333,
              "#9c179e"
             ],
             [
              0.4444444444444444,
              "#bd3786"
             ],
             [
              0.5555555555555556,
              "#d8576b"
             ],
             [
              0.6666666666666666,
              "#ed7953"
             ],
             [
              0.7777777777777778,
              "#fb9f3a"
             ],
             [
              0.8888888888888888,
              "#fdca26"
             ],
             [
              1,
              "#f0f921"
             ]
            ],
            "type": "heatmapgl"
           }
          ],
          "histogram": [
           {
            "marker": {
             "pattern": {
              "fillmode": "overlay",
              "size": 10,
              "solidity": 0.2
             }
            },
            "type": "histogram"
           }
          ],
          "histogram2d": [
           {
            "colorbar": {
             "outlinewidth": 0,
             "ticks": ""
            },
            "colorscale": [
             [
              0,
              "#0d0887"
             ],
             [
              0.1111111111111111,
              "#46039f"
             ],
             [
              0.2222222222222222,
              "#7201a8"
             ],
             [
              0.3333333333333333,
              "#9c179e"
             ],
             [
              0.4444444444444444,
              "#bd3786"
             ],
             [
              0.5555555555555556,
              "#d8576b"
             ],
             [
              0.6666666666666666,
              "#ed7953"
             ],
             [
              0.7777777777777778,
              "#fb9f3a"
             ],
             [
              0.8888888888888888,
              "#fdca26"
             ],
             [
              1,
              "#f0f921"
             ]
            ],
            "type": "histogram2d"
           }
          ],
          "histogram2dcontour": [
           {
            "colorbar": {
             "outlinewidth": 0,
             "ticks": ""
            },
            "colorscale": [
             [
              0,
              "#0d0887"
             ],
             [
              0.1111111111111111,
              "#46039f"
             ],
             [
              0.2222222222222222,
              "#7201a8"
             ],
             [
              0.3333333333333333,
              "#9c179e"
             ],
             [
              0.4444444444444444,
              "#bd3786"
             ],
             [
              0.5555555555555556,
              "#d8576b"
             ],
             [
              0.6666666666666666,
              "#ed7953"
             ],
             [
              0.7777777777777778,
              "#fb9f3a"
             ],
             [
              0.8888888888888888,
              "#fdca26"
             ],
             [
              1,
              "#f0f921"
             ]
            ],
            "type": "histogram2dcontour"
           }
          ],
          "mesh3d": [
           {
            "colorbar": {
             "outlinewidth": 0,
             "ticks": ""
            },
            "type": "mesh3d"
           }
          ],
          "parcoords": [
           {
            "line": {
             "colorbar": {
              "outlinewidth": 0,
              "ticks": ""
             }
            },
            "type": "parcoords"
           }
          ],
          "pie": [
           {
            "automargin": true,
            "type": "pie"
           }
          ],
          "scatter": [
           {
            "fillpattern": {
             "fillmode": "overlay",
             "size": 10,
             "solidity": 0.2
            },
            "type": "scatter"
           }
          ],
          "scatter3d": [
           {
            "line": {
             "colorbar": {
              "outlinewidth": 0,
              "ticks": ""
             }
            },
            "marker": {
             "colorbar": {
              "outlinewidth": 0,
              "ticks": ""
             }
            },
            "type": "scatter3d"
           }
          ],
          "scattercarpet": [
           {
            "marker": {
             "colorbar": {
              "outlinewidth": 0,
              "ticks": ""
             }
            },
            "type": "scattercarpet"
           }
          ],
          "scattergeo": [
           {
            "marker": {
             "colorbar": {
              "outlinewidth": 0,
              "ticks": ""
             }
            },
            "type": "scattergeo"
           }
          ],
          "scattergl": [
           {
            "marker": {
             "colorbar": {
              "outlinewidth": 0,
              "ticks": ""
             }
            },
            "type": "scattergl"
           }
          ],
          "scattermapbox": [
           {
            "marker": {
             "colorbar": {
              "outlinewidth": 0,
              "ticks": ""
             }
            },
            "type": "scattermapbox"
           }
          ],
          "scatterpolar": [
           {
            "marker": {
             "colorbar": {
              "outlinewidth": 0,
              "ticks": ""
             }
            },
            "type": "scatterpolar"
           }
          ],
          "scatterpolargl": [
           {
            "marker": {
             "colorbar": {
              "outlinewidth": 0,
              "ticks": ""
             }
            },
            "type": "scatterpolargl"
           }
          ],
          "scatterternary": [
           {
            "marker": {
             "colorbar": {
              "outlinewidth": 0,
              "ticks": ""
             }
            },
            "type": "scatterternary"
           }
          ],
          "surface": [
           {
            "colorbar": {
             "outlinewidth": 0,
             "ticks": ""
            },
            "colorscale": [
             [
              0,
              "#0d0887"
             ],
             [
              0.1111111111111111,
              "#46039f"
             ],
             [
              0.2222222222222222,
              "#7201a8"
             ],
             [
              0.3333333333333333,
              "#9c179e"
             ],
             [
              0.4444444444444444,
              "#bd3786"
             ],
             [
              0.5555555555555556,
              "#d8576b"
             ],
             [
              0.6666666666666666,
              "#ed7953"
             ],
             [
              0.7777777777777778,
              "#fb9f3a"
             ],
             [
              0.8888888888888888,
              "#fdca26"
             ],
             [
              1,
              "#f0f921"
             ]
            ],
            "type": "surface"
           }
          ],
          "table": [
           {
            "cells": {
             "fill": {
              "color": "#EBF0F8"
             },
             "line": {
              "color": "white"
             }
            },
            "header": {
             "fill": {
              "color": "#C8D4E3"
             },
             "line": {
              "color": "white"
             }
            },
            "type": "table"
           }
          ]
         },
         "layout": {
          "annotationdefaults": {
           "arrowcolor": "#2a3f5f",
           "arrowhead": 0,
           "arrowwidth": 1
          },
          "autotypenumbers": "strict",
          "coloraxis": {
           "colorbar": {
            "outlinewidth": 0,
            "ticks": ""
           }
          },
          "colorscale": {
           "diverging": [
            [
             0,
             "#8e0152"
            ],
            [
             0.1,
             "#c51b7d"
            ],
            [
             0.2,
             "#de77ae"
            ],
            [
             0.3,
             "#f1b6da"
            ],
            [
             0.4,
             "#fde0ef"
            ],
            [
             0.5,
             "#f7f7f7"
            ],
            [
             0.6,
             "#e6f5d0"
            ],
            [
             0.7,
             "#b8e186"
            ],
            [
             0.8,
             "#7fbc41"
            ],
            [
             0.9,
             "#4d9221"
            ],
            [
             1,
             "#276419"
            ]
           ],
           "sequential": [
            [
             0,
             "#0d0887"
            ],
            [
             0.1111111111111111,
             "#46039f"
            ],
            [
             0.2222222222222222,
             "#7201a8"
            ],
            [
             0.3333333333333333,
             "#9c179e"
            ],
            [
             0.4444444444444444,
             "#bd3786"
            ],
            [
             0.5555555555555556,
             "#d8576b"
            ],
            [
             0.6666666666666666,
             "#ed7953"
            ],
            [
             0.7777777777777778,
             "#fb9f3a"
            ],
            [
             0.8888888888888888,
             "#fdca26"
            ],
            [
             1,
             "#f0f921"
            ]
           ],
           "sequentialminus": [
            [
             0,
             "#0d0887"
            ],
            [
             0.1111111111111111,
             "#46039f"
            ],
            [
             0.2222222222222222,
             "#7201a8"
            ],
            [
             0.3333333333333333,
             "#9c179e"
            ],
            [
             0.4444444444444444,
             "#bd3786"
            ],
            [
             0.5555555555555556,
             "#d8576b"
            ],
            [
             0.6666666666666666,
             "#ed7953"
            ],
            [
             0.7777777777777778,
             "#fb9f3a"
            ],
            [
             0.8888888888888888,
             "#fdca26"
            ],
            [
             1,
             "#f0f921"
            ]
           ]
          },
          "colorway": [
           "#636efa",
           "#EF553B",
           "#00cc96",
           "#ab63fa",
           "#FFA15A",
           "#19d3f3",
           "#FF6692",
           "#B6E880",
           "#FF97FF",
           "#FECB52"
          ],
          "font": {
           "color": "#2a3f5f"
          },
          "geo": {
           "bgcolor": "white",
           "lakecolor": "white",
           "landcolor": "#E5ECF6",
           "showlakes": true,
           "showland": true,
           "subunitcolor": "white"
          },
          "hoverlabel": {
           "align": "left"
          },
          "hovermode": "closest",
          "mapbox": {
           "style": "light"
          },
          "paper_bgcolor": "white",
          "plot_bgcolor": "#E5ECF6",
          "polar": {
           "angularaxis": {
            "gridcolor": "white",
            "linecolor": "white",
            "ticks": ""
           },
           "bgcolor": "#E5ECF6",
           "radialaxis": {
            "gridcolor": "white",
            "linecolor": "white",
            "ticks": ""
           }
          },
          "scene": {
           "xaxis": {
            "backgroundcolor": "#E5ECF6",
            "gridcolor": "white",
            "gridwidth": 2,
            "linecolor": "white",
            "showbackground": true,
            "ticks": "",
            "zerolinecolor": "white"
           },
           "yaxis": {
            "backgroundcolor": "#E5ECF6",
            "gridcolor": "white",
            "gridwidth": 2,
            "linecolor": "white",
            "showbackground": true,
            "ticks": "",
            "zerolinecolor": "white"
           },
           "zaxis": {
            "backgroundcolor": "#E5ECF6",
            "gridcolor": "white",
            "gridwidth": 2,
            "linecolor": "white",
            "showbackground": true,
            "ticks": "",
            "zerolinecolor": "white"
           }
          },
          "shapedefaults": {
           "line": {
            "color": "#2a3f5f"
           }
          },
          "ternary": {
           "aaxis": {
            "gridcolor": "white",
            "linecolor": "white",
            "ticks": ""
           },
           "baxis": {
            "gridcolor": "white",
            "linecolor": "white",
            "ticks": ""
           },
           "bgcolor": "#E5ECF6",
           "caxis": {
            "gridcolor": "white",
            "linecolor": "white",
            "ticks": ""
           }
          },
          "title": {
           "x": 0.05
          },
          "xaxis": {
           "automargin": true,
           "gridcolor": "white",
           "linecolor": "white",
           "ticks": "",
           "title": {
            "standoff": 15
           },
           "zerolinecolor": "white",
           "zerolinewidth": 2
          },
          "yaxis": {
           "automargin": true,
           "gridcolor": "white",
           "linecolor": "white",
           "ticks": "",
           "title": {
            "standoff": 15
           },
           "zerolinecolor": "white",
           "zerolinewidth": 2
          }
         }
        },
        "violinmode": "group",
        "width": 2750,
        "xaxis": {
         "anchor": "y",
         "domain": [
          0,
          1
         ],
         "linecolor": "black",
         "linewidth": 1,
         "range": [
          0,
          1.02
         ],
         "showline": true,
         "tickangle": 90,
         "title": {
          "text": "Mean Average Precision"
         }
        },
        "yaxis": {
         "anchor": "x",
         "domain": [
          0,
          1
         ],
         "linecolor": "black",
         "linewidth": 1,
         "showline": true,
         "title": {
          "text": ""
         }
        }
       }
      }
     },
     "metadata": {},
     "output_type": "display_data"
    },
    {
     "data": {
      "text/plain": [
       "(Figure({\n",
       "     'data': [{'alignmentgroup': 'True',\n",
       "               'box': {'visible': True},\n",
       "               'hovertemplate': 'color=ChromaLive + Hoechst<br>x=%{x}<br>y=%{y}<extra></extra>',\n",
       "               'legendgroup': 'ChromaLive + Hoechst',\n",
       "               'marker': {'color': '#cc78bc'},\n",
       "               'name': 'ChromaLive + Hoechst',\n",
       "               'offsetgroup': 'ChromaLive + Hoechst',\n",
       "               'orientation': 'h',\n",
       "               'points': 'all',\n",
       "               'scalegroup': 'True',\n",
       "               'showlegend': True,\n",
       "               'type': 'violin',\n",
       "               'width': 0.5,\n",
       "               'x': array([0.1890475 , 0.68535068, 0.17481798, 0.6607906 , 0.58029971, 0.38137464,\n",
       "                           1.        , 1.        , 0.95138889, 0.27795177, 0.17355386, 0.77839093,\n",
       "                           0.82251984, 0.19826826, 0.73913399, 0.13375907, 0.80707792, 0.3232817 ,\n",
       "                           1.        , 0.1664301 , 1.        , 0.45390512, 0.90833333, 0.84803922,\n",
       "                           0.78083333, 1.        , 0.93452381, 0.77728175, 0.60376984, 0.50943362,\n",
       "                           0.18722572, 0.48281025, 0.11721518, 1.        , 1.        , 0.18733298,\n",
       "                           0.71202731, 1.        , 1.        , 1.        , 0.55178299, 0.62963599,\n",
       "                           0.36320513, 0.62922818, 1.        , 0.70277389, 0.85714286, 0.37390641,\n",
       "                           1.        , 1.        , 0.78829365, 0.65294851, 0.25031332, 1.        ,\n",
       "                           1.        , 0.35608742, 0.4362037 , 0.57122286, 0.55372535, 1.        ,\n",
       "                           0.50401034, 1.        , 1.        , 0.66055556, 1.        , 0.85469697,\n",
       "                           0.13044763, 1.        , 0.86388889, 0.30654346, 0.25311448, 0.5210944 ,\n",
       "                           0.20957066, 0.82882395, 1.        , 0.35350145, 1.        , 0.22892512,\n",
       "                           0.3332036 , 0.39647945, 0.21786301, 0.56643519, 0.63676587, 0.72032197,\n",
       "                           1.        , 0.21893012, 0.14128002, 1.        , 1.        , 1.        ,\n",
       "                           0.13426346]),\n",
       "               'x0': ' ',\n",
       "               'xaxis': 'x',\n",
       "               'y': array(['ChromaLive + Hoechst', 'ChromaLive + Hoechst', 'ChromaLive + Hoechst',\n",
       "                           'ChromaLive + Hoechst', 'ChromaLive + Hoechst', 'ChromaLive + Hoechst',\n",
       "                           'ChromaLive + Hoechst', 'ChromaLive + Hoechst', 'ChromaLive + Hoechst',\n",
       "                           'ChromaLive + Hoechst', 'ChromaLive + Hoechst', 'ChromaLive + Hoechst',\n",
       "                           'ChromaLive + Hoechst', 'ChromaLive + Hoechst', 'ChromaLive + Hoechst',\n",
       "                           'ChromaLive + Hoechst', 'ChromaLive + Hoechst', 'ChromaLive + Hoechst',\n",
       "                           'ChromaLive + Hoechst', 'ChromaLive + Hoechst', 'ChromaLive + Hoechst',\n",
       "                           'ChromaLive + Hoechst', 'ChromaLive + Hoechst', 'ChromaLive + Hoechst',\n",
       "                           'ChromaLive + Hoechst', 'ChromaLive + Hoechst', 'ChromaLive + Hoechst',\n",
       "                           'ChromaLive + Hoechst', 'ChromaLive + Hoechst', 'ChromaLive + Hoechst',\n",
       "                           'ChromaLive + Hoechst', 'ChromaLive + Hoechst', 'ChromaLive + Hoechst',\n",
       "                           'ChromaLive + Hoechst', 'ChromaLive + Hoechst', 'ChromaLive + Hoechst',\n",
       "                           'ChromaLive + Hoechst', 'ChromaLive + Hoechst', 'ChromaLive + Hoechst',\n",
       "                           'ChromaLive + Hoechst', 'ChromaLive + Hoechst', 'ChromaLive + Hoechst',\n",
       "                           'ChromaLive + Hoechst', 'ChromaLive + Hoechst', 'ChromaLive + Hoechst',\n",
       "                           'ChromaLive + Hoechst', 'ChromaLive + Hoechst', 'ChromaLive + Hoechst',\n",
       "                           'ChromaLive + Hoechst', 'ChromaLive + Hoechst', 'ChromaLive + Hoechst',\n",
       "                           'ChromaLive + Hoechst', 'ChromaLive + Hoechst', 'ChromaLive + Hoechst',\n",
       "                           'ChromaLive + Hoechst', 'ChromaLive + Hoechst', 'ChromaLive + Hoechst',\n",
       "                           'ChromaLive + Hoechst', 'ChromaLive + Hoechst', 'ChromaLive + Hoechst',\n",
       "                           'ChromaLive + Hoechst', 'ChromaLive + Hoechst', 'ChromaLive + Hoechst',\n",
       "                           'ChromaLive + Hoechst', 'ChromaLive + Hoechst', 'ChromaLive + Hoechst',\n",
       "                           'ChromaLive + Hoechst', 'ChromaLive + Hoechst', 'ChromaLive + Hoechst',\n",
       "                           'ChromaLive + Hoechst', 'ChromaLive + Hoechst', 'ChromaLive + Hoechst',\n",
       "                           'ChromaLive + Hoechst', 'ChromaLive + Hoechst', 'ChromaLive + Hoechst',\n",
       "                           'ChromaLive + Hoechst', 'ChromaLive + Hoechst', 'ChromaLive + Hoechst',\n",
       "                           'ChromaLive + Hoechst', 'ChromaLive + Hoechst', 'ChromaLive + Hoechst',\n",
       "                           'ChromaLive + Hoechst', 'ChromaLive + Hoechst', 'ChromaLive + Hoechst',\n",
       "                           'ChromaLive + Hoechst', 'ChromaLive + Hoechst', 'ChromaLive + Hoechst',\n",
       "                           'ChromaLive + Hoechst', 'ChromaLive + Hoechst', 'ChromaLive + Hoechst',\n",
       "                           'ChromaLive + Hoechst'], dtype=object),\n",
       "               'y0': ' ',\n",
       "               'yaxis': 'y'},\n",
       "              {'alignmentgroup': 'True',\n",
       "               'box': {'visible': True},\n",
       "               'hovertemplate': 'color=Standard CP (exposed to ChromaLive)<br>x=%{x}<br>y=%{y}<extra></extra>',\n",
       "               'legendgroup': 'Standard CP (exposed to ChromaLive)',\n",
       "               'marker': {'color': '#d55e00'},\n",
       "               'name': 'Standard CP (exposed to ChromaLive)',\n",
       "               'offsetgroup': 'Standard CP (exposed to ChromaLive)',\n",
       "               'orientation': 'h',\n",
       "               'points': 'all',\n",
       "               'scalegroup': 'True',\n",
       "               'showlegend': True,\n",
       "               'type': 'violin',\n",
       "               'width': 0.5,\n",
       "               'x': array([0.25811508, 0.19128902, 0.16583694, 0.86805556, 0.37584156, 0.23248544,\n",
       "                           1.        , 1.        , 1.        , 0.41549953, 0.21680227, 1.        ,\n",
       "                           1.        , 0.15568147, 1.        , 0.45149711, 0.97916667, 0.21331629,\n",
       "                           0.925     , 0.21540396, 1.        , 0.45408249, 1.        , 1.        ,\n",
       "                           0.34015525, 1.        , 0.25662796, 0.77777778, 0.17869142, 0.23038657,\n",
       "                           0.59078283, 0.63154762, 0.12036418, 1.        , 1.        , 0.64781746,\n",
       "                           1.        , 1.        , 0.7155754 , 1.        , 0.96666667, 0.86944444,\n",
       "                           0.72222222, 0.15921567, 1.        , 0.77916667, 1.        , 1.        ,\n",
       "                           0.95138889, 1.        , 0.9375    , 0.82043651, 0.15821358, 1.        ,\n",
       "                           1.        , 0.24901765, 0.88333333, 0.40668803, 0.22605472, 1.        ,\n",
       "                           0.66298077, 1.        , 1.        , 1.        , 1.        , 0.88333333,\n",
       "                           0.21301866, 1.        , 0.72589286, 0.19978026, 0.33001894, 0.3509768 ,\n",
       "                           0.7468254 , 0.67916667, 0.7375    , 0.14610487, 1.        , 0.2863131 ,\n",
       "                           1.        , 1.        , 0.47686966, 0.95833333, 1.        , 1.        ,\n",
       "                           1.        , 0.2992194 , 0.20086718, 1.        , 0.54305556, 1.        ,\n",
       "                           0.08428745]),\n",
       "               'x0': ' ',\n",
       "               'xaxis': 'x',\n",
       "               'y': array(['Standard CP (exposed to ChromaLive)',\n",
       "                           'Standard CP (exposed to ChromaLive)',\n",
       "                           'Standard CP (exposed to ChromaLive)',\n",
       "                           'Standard CP (exposed to ChromaLive)',\n",
       "                           'Standard CP (exposed to ChromaLive)',\n",
       "                           'Standard CP (exposed to ChromaLive)',\n",
       "                           'Standard CP (exposed to ChromaLive)',\n",
       "                           'Standard CP (exposed to ChromaLive)',\n",
       "                           'Standard CP (exposed to ChromaLive)',\n",
       "                           'Standard CP (exposed to ChromaLive)',\n",
       "                           'Standard CP (exposed to ChromaLive)',\n",
       "                           'Standard CP (exposed to ChromaLive)',\n",
       "                           'Standard CP (exposed to ChromaLive)',\n",
       "                           'Standard CP (exposed to ChromaLive)',\n",
       "                           'Standard CP (exposed to ChromaLive)',\n",
       "                           'Standard CP (exposed to ChromaLive)',\n",
       "                           'Standard CP (exposed to ChromaLive)',\n",
       "                           'Standard CP (exposed to ChromaLive)',\n",
       "                           'Standard CP (exposed to ChromaLive)',\n",
       "                           'Standard CP (exposed to ChromaLive)',\n",
       "                           'Standard CP (exposed to ChromaLive)',\n",
       "                           'Standard CP (exposed to ChromaLive)',\n",
       "                           'Standard CP (exposed to ChromaLive)',\n",
       "                           'Standard CP (exposed to ChromaLive)',\n",
       "                           'Standard CP (exposed to ChromaLive)',\n",
       "                           'Standard CP (exposed to ChromaLive)',\n",
       "                           'Standard CP (exposed to ChromaLive)',\n",
       "                           'Standard CP (exposed to ChromaLive)',\n",
       "                           'Standard CP (exposed to ChromaLive)',\n",
       "                           'Standard CP (exposed to ChromaLive)',\n",
       "                           'Standard CP (exposed to ChromaLive)',\n",
       "                           'Standard CP (exposed to ChromaLive)',\n",
       "                           'Standard CP (exposed to ChromaLive)',\n",
       "                           'Standard CP (exposed to ChromaLive)',\n",
       "                           'Standard CP (exposed to ChromaLive)',\n",
       "                           'Standard CP (exposed to ChromaLive)',\n",
       "                           'Standard CP (exposed to ChromaLive)',\n",
       "                           'Standard CP (exposed to ChromaLive)',\n",
       "                           'Standard CP (exposed to ChromaLive)',\n",
       "                           'Standard CP (exposed to ChromaLive)',\n",
       "                           'Standard CP (exposed to ChromaLive)',\n",
       "                           'Standard CP (exposed to ChromaLive)',\n",
       "                           'Standard CP (exposed to ChromaLive)',\n",
       "                           'Standard CP (exposed to ChromaLive)',\n",
       "                           'Standard CP (exposed to ChromaLive)',\n",
       "                           'Standard CP (exposed to ChromaLive)',\n",
       "                           'Standard CP (exposed to ChromaLive)',\n",
       "                           'Standard CP (exposed to ChromaLive)',\n",
       "                           'Standard CP (exposed to ChromaLive)',\n",
       "                           'Standard CP (exposed to ChromaLive)',\n",
       "                           'Standard CP (exposed to ChromaLive)',\n",
       "                           'Standard CP (exposed to ChromaLive)',\n",
       "                           'Standard CP (exposed to ChromaLive)',\n",
       "                           'Standard CP (exposed to ChromaLive)',\n",
       "                           'Standard CP (exposed to ChromaLive)',\n",
       "                           'Standard CP (exposed to ChromaLive)',\n",
       "                           'Standard CP (exposed to ChromaLive)',\n",
       "                           'Standard CP (exposed to ChromaLive)',\n",
       "                           'Standard CP (exposed to ChromaLive)',\n",
       "                           'Standard CP (exposed to ChromaLive)',\n",
       "                           'Standard CP (exposed to ChromaLive)',\n",
       "                           'Standard CP (exposed to ChromaLive)',\n",
       "                           'Standard CP (exposed to ChromaLive)',\n",
       "                           'Standard CP (exposed to ChromaLive)',\n",
       "                           'Standard CP (exposed to ChromaLive)',\n",
       "                           'Standard CP (exposed to ChromaLive)',\n",
       "                           'Standard CP (exposed to ChromaLive)',\n",
       "                           'Standard CP (exposed to ChromaLive)',\n",
       "                           'Standard CP (exposed to ChromaLive)',\n",
       "                           'Standard CP (exposed to ChromaLive)',\n",
       "                           'Standard CP (exposed to ChromaLive)',\n",
       "                           'Standard CP (exposed to ChromaLive)',\n",
       "                           'Standard CP (exposed to ChromaLive)',\n",
       "                           'Standard CP (exposed to ChromaLive)',\n",
       "                           'Standard CP (exposed to ChromaLive)',\n",
       "                           'Standard CP (exposed to ChromaLive)',\n",
       "                           'Standard CP (exposed to ChromaLive)',\n",
       "                           'Standard CP (exposed to ChromaLive)',\n",
       "                           'Standard CP (exposed to ChromaLive)',\n",
       "                           'Standard CP (exposed to ChromaLive)',\n",
       "                           'Standard CP (exposed to ChromaLive)',\n",
       "                           'Standard CP (exposed to ChromaLive)',\n",
       "                           'Standard CP (exposed to ChromaLive)',\n",
       "                           'Standard CP (exposed to ChromaLive)',\n",
       "                           'Standard CP (exposed to ChromaLive)',\n",
       "                           'Standard CP (exposed to ChromaLive)',\n",
       "                           'Standard CP (exposed to ChromaLive)',\n",
       "                           'Standard CP (exposed to ChromaLive)',\n",
       "                           'Standard CP (exposed to ChromaLive)',\n",
       "                           'Standard CP (exposed to ChromaLive)',\n",
       "                           'Standard CP (exposed to ChromaLive)'], dtype=object),\n",
       "               'y0': ' ',\n",
       "               'yaxis': 'y'},\n",
       "              {'alignmentgroup': 'True',\n",
       "               'box': {'visible': True},\n",
       "               'hovertemplate': 'color=CP + Phenovue phalloidin 400LS<br>x=%{x}<br>y=%{y}<extra></extra>',\n",
       "               'legendgroup': 'CP + Phenovue phalloidin 400LS',\n",
       "               'marker': {'color': '#029e73'},\n",
       "               'name': 'CP + Phenovue phalloidin 400LS',\n",
       "               'offsetgroup': 'CP + Phenovue phalloidin 400LS',\n",
       "               'orientation': 'h',\n",
       "               'points': 'all',\n",
       "               'scalegroup': 'True',\n",
       "               'showlegend': True,\n",
       "               'type': 'violin',\n",
       "               'width': 0.5,\n",
       "               'x': array([0.25587515, 0.15931219, 0.33357511, 0.85      , 0.24871892, 0.52288637,\n",
       "                           1.        , 1.        , 1.        , 0.34017857, 0.15665873, 1.        ,\n",
       "                           1.        , 0.32685185, 1.        , 0.36920455, 1.        , 0.37427999,\n",
       "                           1.        , 0.16809526, 1.        , 0.72420635, 1.        , 1.        ,\n",
       "                           0.39085277, 1.        , 0.31479348, 0.48471874, 0.22373676, 0.24054029,\n",
       "                           0.24281852, 0.60486111, 0.11546313, 1.        , 1.        , 0.28240139,\n",
       "                           1.        , 1.        , 0.90972222, 1.        , 1.        , 1.        ,\n",
       "                           0.67978525, 0.21320091, 1.        , 1.        , 0.78710317, 1.        ,\n",
       "                           0.86944444, 1.        , 1.        , 0.8       , 0.15767627, 1.        ,\n",
       "                           1.        , 0.27500531, 0.76765873, 0.23011433, 0.40149363, 1.        ,\n",
       "                           0.95833333, 1.        , 0.95138889, 1.        , 1.        , 0.51746934,\n",
       "                           0.20160267, 1.        , 0.57339871, 0.22322734, 0.365625  , 0.4890873 ,\n",
       "                           1.        , 1.        , 1.        , 0.18839647, 1.        , 0.1587512 ,\n",
       "                           1.        , 0.86944444, 0.53710317, 0.75833333, 0.80694444, 1.        ,\n",
       "                           1.        , 0.90555556, 0.16517888, 1.        , 0.83472222, 1.        ,\n",
       "                           0.08407336]),\n",
       "               'x0': ' ',\n",
       "               'xaxis': 'x',\n",
       "               'y': array(['CP + Phenovue phalloidin 400LS', 'CP + Phenovue phalloidin 400LS',\n",
       "                           'CP + Phenovue phalloidin 400LS', 'CP + Phenovue phalloidin 400LS',\n",
       "                           'CP + Phenovue phalloidin 400LS', 'CP + Phenovue phalloidin 400LS',\n",
       "                           'CP + Phenovue phalloidin 400LS', 'CP + Phenovue phalloidin 400LS',\n",
       "                           'CP + Phenovue phalloidin 400LS', 'CP + Phenovue phalloidin 400LS',\n",
       "                           'CP + Phenovue phalloidin 400LS', 'CP + Phenovue phalloidin 400LS',\n",
       "                           'CP + Phenovue phalloidin 400LS', 'CP + Phenovue phalloidin 400LS',\n",
       "                           'CP + Phenovue phalloidin 400LS', 'CP + Phenovue phalloidin 400LS',\n",
       "                           'CP + Phenovue phalloidin 400LS', 'CP + Phenovue phalloidin 400LS',\n",
       "                           'CP + Phenovue phalloidin 400LS', 'CP + Phenovue phalloidin 400LS',\n",
       "                           'CP + Phenovue phalloidin 400LS', 'CP + Phenovue phalloidin 400LS',\n",
       "                           'CP + Phenovue phalloidin 400LS', 'CP + Phenovue phalloidin 400LS',\n",
       "                           'CP + Phenovue phalloidin 400LS', 'CP + Phenovue phalloidin 400LS',\n",
       "                           'CP + Phenovue phalloidin 400LS', 'CP + Phenovue phalloidin 400LS',\n",
       "                           'CP + Phenovue phalloidin 400LS', 'CP + Phenovue phalloidin 400LS',\n",
       "                           'CP + Phenovue phalloidin 400LS', 'CP + Phenovue phalloidin 400LS',\n",
       "                           'CP + Phenovue phalloidin 400LS', 'CP + Phenovue phalloidin 400LS',\n",
       "                           'CP + Phenovue phalloidin 400LS', 'CP + Phenovue phalloidin 400LS',\n",
       "                           'CP + Phenovue phalloidin 400LS', 'CP + Phenovue phalloidin 400LS',\n",
       "                           'CP + Phenovue phalloidin 400LS', 'CP + Phenovue phalloidin 400LS',\n",
       "                           'CP + Phenovue phalloidin 400LS', 'CP + Phenovue phalloidin 400LS',\n",
       "                           'CP + Phenovue phalloidin 400LS', 'CP + Phenovue phalloidin 400LS',\n",
       "                           'CP + Phenovue phalloidin 400LS', 'CP + Phenovue phalloidin 400LS',\n",
       "                           'CP + Phenovue phalloidin 400LS', 'CP + Phenovue phalloidin 400LS',\n",
       "                           'CP + Phenovue phalloidin 400LS', 'CP + Phenovue phalloidin 400LS',\n",
       "                           'CP + Phenovue phalloidin 400LS', 'CP + Phenovue phalloidin 400LS',\n",
       "                           'CP + Phenovue phalloidin 400LS', 'CP + Phenovue phalloidin 400LS',\n",
       "                           'CP + Phenovue phalloidin 400LS', 'CP + Phenovue phalloidin 400LS',\n",
       "                           'CP + Phenovue phalloidin 400LS', 'CP + Phenovue phalloidin 400LS',\n",
       "                           'CP + Phenovue phalloidin 400LS', 'CP + Phenovue phalloidin 400LS',\n",
       "                           'CP + Phenovue phalloidin 400LS', 'CP + Phenovue phalloidin 400LS',\n",
       "                           'CP + Phenovue phalloidin 400LS', 'CP + Phenovue phalloidin 400LS',\n",
       "                           'CP + Phenovue phalloidin 400LS', 'CP + Phenovue phalloidin 400LS',\n",
       "                           'CP + Phenovue phalloidin 400LS', 'CP + Phenovue phalloidin 400LS',\n",
       "                           'CP + Phenovue phalloidin 400LS', 'CP + Phenovue phalloidin 400LS',\n",
       "                           'CP + Phenovue phalloidin 400LS', 'CP + Phenovue phalloidin 400LS',\n",
       "                           'CP + Phenovue phalloidin 400LS', 'CP + Phenovue phalloidin 400LS',\n",
       "                           'CP + Phenovue phalloidin 400LS', 'CP + Phenovue phalloidin 400LS',\n",
       "                           'CP + Phenovue phalloidin 400LS', 'CP + Phenovue phalloidin 400LS',\n",
       "                           'CP + Phenovue phalloidin 400LS', 'CP + Phenovue phalloidin 400LS',\n",
       "                           'CP + Phenovue phalloidin 400LS', 'CP + Phenovue phalloidin 400LS',\n",
       "                           'CP + Phenovue phalloidin 400LS', 'CP + Phenovue phalloidin 400LS',\n",
       "                           'CP + Phenovue phalloidin 400LS', 'CP + Phenovue phalloidin 400LS',\n",
       "                           'CP + Phenovue phalloidin 400LS', 'CP + Phenovue phalloidin 400LS',\n",
       "                           'CP + Phenovue phalloidin 400LS', 'CP + Phenovue phalloidin 400LS',\n",
       "                           'CP + Phenovue phalloidin 400LS'], dtype=object),\n",
       "               'y0': ' ',\n",
       "               'yaxis': 'y'},\n",
       "              {'alignmentgroup': 'True',\n",
       "               'box': {'visible': True},\n",
       "               'hovertemplate': 'color=CP + MitoBrilliant<br>x=%{x}<br>y=%{y}<extra></extra>',\n",
       "               'legendgroup': 'CP + MitoBrilliant',\n",
       "               'marker': {'color': '#de8f05'},\n",
       "               'name': 'CP + MitoBrilliant',\n",
       "               'offsetgroup': 'CP + MitoBrilliant',\n",
       "               'orientation': 'h',\n",
       "               'points': 'all',\n",
       "               'scalegroup': 'True',\n",
       "               'showlegend': True,\n",
       "               'type': 'violin',\n",
       "               'width': 0.5,\n",
       "               'x': array([0.19386746, 0.31815476, 0.44267353, 0.89722222, 0.29944305, 0.29407379,\n",
       "                           1.        , 1.        , 1.        , 0.67996032, 0.23300907, 1.        ,\n",
       "                           1.        , 0.14838475, 1.        , 0.36506133, 1.        , 0.23086241,\n",
       "                           1.        , 0.15714159, 1.        , 0.75099206, 1.        , 0.61022727,\n",
       "                           0.23815488, 0.97916667, 0.13753962, 1.        , 0.16049992, 0.20054544,\n",
       "                           0.57792208, 0.87043651, 0.19627753, 1.        , 1.        , 0.60238095,\n",
       "                           1.        , 1.        , 1.        , 1.        , 0.88333333, 0.79027778,\n",
       "                           0.60019841, 0.2657634 , 1.        , 1.        , 1.        , 1.        ,\n",
       "                           1.        , 1.        , 1.        , 0.88333333, 0.22900692, 1.        ,\n",
       "                           1.        , 0.25176768, 1.        , 0.11722891, 0.47731411, 1.        ,\n",
       "                           0.83125   , 1.        , 1.        , 1.        , 1.        , 0.88333333,\n",
       "                           0.23999715, 1.        , 0.78769841, 0.12809257, 0.24190026, 0.29976852,\n",
       "                           1.        , 1.        , 1.        , 0.21600911, 1.        , 0.19757   ,\n",
       "                           1.        , 0.79166667, 0.65161064, 1.        , 1.        , 1.        ,\n",
       "                           1.        , 0.453708  , 0.20238722, 1.        , 1.        , 1.        ,\n",
       "                           0.07984494]),\n",
       "               'x0': ' ',\n",
       "               'xaxis': 'x',\n",
       "               'y': array(['CP + MitoBrilliant', 'CP + MitoBrilliant', 'CP + MitoBrilliant',\n",
       "                           'CP + MitoBrilliant', 'CP + MitoBrilliant', 'CP + MitoBrilliant',\n",
       "                           'CP + MitoBrilliant', 'CP + MitoBrilliant', 'CP + MitoBrilliant',\n",
       "                           'CP + MitoBrilliant', 'CP + MitoBrilliant', 'CP + MitoBrilliant',\n",
       "                           'CP + MitoBrilliant', 'CP + MitoBrilliant', 'CP + MitoBrilliant',\n",
       "                           'CP + MitoBrilliant', 'CP + MitoBrilliant', 'CP + MitoBrilliant',\n",
       "                           'CP + MitoBrilliant', 'CP + MitoBrilliant', 'CP + MitoBrilliant',\n",
       "                           'CP + MitoBrilliant', 'CP + MitoBrilliant', 'CP + MitoBrilliant',\n",
       "                           'CP + MitoBrilliant', 'CP + MitoBrilliant', 'CP + MitoBrilliant',\n",
       "                           'CP + MitoBrilliant', 'CP + MitoBrilliant', 'CP + MitoBrilliant',\n",
       "                           'CP + MitoBrilliant', 'CP + MitoBrilliant', 'CP + MitoBrilliant',\n",
       "                           'CP + MitoBrilliant', 'CP + MitoBrilliant', 'CP + MitoBrilliant',\n",
       "                           'CP + MitoBrilliant', 'CP + MitoBrilliant', 'CP + MitoBrilliant',\n",
       "                           'CP + MitoBrilliant', 'CP + MitoBrilliant', 'CP + MitoBrilliant',\n",
       "                           'CP + MitoBrilliant', 'CP + MitoBrilliant', 'CP + MitoBrilliant',\n",
       "                           'CP + MitoBrilliant', 'CP + MitoBrilliant', 'CP + MitoBrilliant',\n",
       "                           'CP + MitoBrilliant', 'CP + MitoBrilliant', 'CP + MitoBrilliant',\n",
       "                           'CP + MitoBrilliant', 'CP + MitoBrilliant', 'CP + MitoBrilliant',\n",
       "                           'CP + MitoBrilliant', 'CP + MitoBrilliant', 'CP + MitoBrilliant',\n",
       "                           'CP + MitoBrilliant', 'CP + MitoBrilliant', 'CP + MitoBrilliant',\n",
       "                           'CP + MitoBrilliant', 'CP + MitoBrilliant', 'CP + MitoBrilliant',\n",
       "                           'CP + MitoBrilliant', 'CP + MitoBrilliant', 'CP + MitoBrilliant',\n",
       "                           'CP + MitoBrilliant', 'CP + MitoBrilliant', 'CP + MitoBrilliant',\n",
       "                           'CP + MitoBrilliant', 'CP + MitoBrilliant', 'CP + MitoBrilliant',\n",
       "                           'CP + MitoBrilliant', 'CP + MitoBrilliant', 'CP + MitoBrilliant',\n",
       "                           'CP + MitoBrilliant', 'CP + MitoBrilliant', 'CP + MitoBrilliant',\n",
       "                           'CP + MitoBrilliant', 'CP + MitoBrilliant', 'CP + MitoBrilliant',\n",
       "                           'CP + MitoBrilliant', 'CP + MitoBrilliant', 'CP + MitoBrilliant',\n",
       "                           'CP + MitoBrilliant', 'CP + MitoBrilliant', 'CP + MitoBrilliant',\n",
       "                           'CP + MitoBrilliant', 'CP + MitoBrilliant', 'CP + MitoBrilliant',\n",
       "                           'CP + MitoBrilliant'], dtype=object),\n",
       "               'y0': ' ',\n",
       "               'yaxis': 'y'},\n",
       "              {'alignmentgroup': 'True',\n",
       "               'box': {'visible': True},\n",
       "               'hovertemplate': 'color=Standard CP<br>x=%{x}<br>y=%{y}<extra></extra>',\n",
       "               'legendgroup': 'Standard CP',\n",
       "               'marker': {'color': '#0173b2'},\n",
       "               'name': 'Standard CP',\n",
       "               'offsetgroup': 'Standard CP',\n",
       "               'orientation': 'h',\n",
       "               'points': 'all',\n",
       "               'scalegroup': 'True',\n",
       "               'showlegend': True,\n",
       "               'type': 'violin',\n",
       "               'width': 0.5,\n",
       "               'x': array([0.29446225, 0.47925084, 0.31987086, 1.        , 0.2676156 , 0.33746345,\n",
       "                           1.        , 1.        , 1.        , 0.31981933, 0.6796627 , 1.        ,\n",
       "                           1.        , 0.29179894, 0.8875    , 0.78055556, 1.        , 0.31508368,\n",
       "                           1.        , 0.15369239, 1.        , 0.675     , 1.        , 1.        ,\n",
       "                           0.33325816, 1.        , 0.13867364, 0.83779762, 0.3261078 , 0.27798581,\n",
       "                           0.37169289, 0.68333333, 0.2791425 , 1.        , 1.        , 0.34424603,\n",
       "                           1.        , 1.        , 1.        , 1.        , 1.        , 1.        ,\n",
       "                           0.74960317, 0.20601719, 1.        , 1.        , 0.95833333, 1.        ,\n",
       "                           1.        , 1.        , 1.        , 0.90972222, 0.11165103, 1.        ,\n",
       "                           1.        , 0.37687868, 1.        , 0.1934469 , 0.40201973, 1.        ,\n",
       "                           1.        , 1.        , 1.        , 1.        , 1.        , 0.74722222,\n",
       "                           0.42983405, 1.        , 0.43219373, 0.16189733, 0.33794007, 0.21558187,\n",
       "                           1.        , 1.        , 1.        , 0.20005892, 1.        , 0.47150788,\n",
       "                           0.96666667, 0.90625   , 0.82361111, 1.        , 1.        , 1.        ,\n",
       "                           1.        , 0.2409419 , 0.21551641, 1.        , 0.88541667, 1.        ,\n",
       "                           0.08649064]),\n",
       "               'x0': ' ',\n",
       "               'xaxis': 'x',\n",
       "               'y': array(['Standard CP', 'Standard CP', 'Standard CP', 'Standard CP',\n",
       "                           'Standard CP', 'Standard CP', 'Standard CP', 'Standard CP',\n",
       "                           'Standard CP', 'Standard CP', 'Standard CP', 'Standard CP',\n",
       "                           'Standard CP', 'Standard CP', 'Standard CP', 'Standard CP',\n",
       "                           'Standard CP', 'Standard CP', 'Standard CP', 'Standard CP',\n",
       "                           'Standard CP', 'Standard CP', 'Standard CP', 'Standard CP',\n",
       "                           'Standard CP', 'Standard CP', 'Standard CP', 'Standard CP',\n",
       "                           'Standard CP', 'Standard CP', 'Standard CP', 'Standard CP',\n",
       "                           'Standard CP', 'Standard CP', 'Standard CP', 'Standard CP',\n",
       "                           'Standard CP', 'Standard CP', 'Standard CP', 'Standard CP',\n",
       "                           'Standard CP', 'Standard CP', 'Standard CP', 'Standard CP',\n",
       "                           'Standard CP', 'Standard CP', 'Standard CP', 'Standard CP',\n",
       "                           'Standard CP', 'Standard CP', 'Standard CP', 'Standard CP',\n",
       "                           'Standard CP', 'Standard CP', 'Standard CP', 'Standard CP',\n",
       "                           'Standard CP', 'Standard CP', 'Standard CP', 'Standard CP',\n",
       "                           'Standard CP', 'Standard CP', 'Standard CP', 'Standard CP',\n",
       "                           'Standard CP', 'Standard CP', 'Standard CP', 'Standard CP',\n",
       "                           'Standard CP', 'Standard CP', 'Standard CP', 'Standard CP',\n",
       "                           'Standard CP', 'Standard CP', 'Standard CP', 'Standard CP',\n",
       "                           'Standard CP', 'Standard CP', 'Standard CP', 'Standard CP',\n",
       "                           'Standard CP', 'Standard CP', 'Standard CP', 'Standard CP',\n",
       "                           'Standard CP', 'Standard CP', 'Standard CP', 'Standard CP',\n",
       "                           'Standard CP', 'Standard CP', 'Standard CP'], dtype=object),\n",
       "               'y0': ' ',\n",
       "               'yaxis': 'y'}],\n",
       "     'layout': {'font': {'color': 'black', 'family': 'sans serif', 'size': 95},\n",
       "                'height': 2500,\n",
       "                'legend': {'title': {'text': 'color'}, 'tracegroupgap': 0},\n",
       "                'margin': {'t': 60},\n",
       "                'plot_bgcolor': 'rgba(0,0,0,0)',\n",
       "                'showlegend': False,\n",
       "                'template': '...',\n",
       "                'violinmode': 'group',\n",
       "                'width': 2750,\n",
       "                'xaxis': {'anchor': 'y',\n",
       "                          'domain': [0.0, 1.0],\n",
       "                          'linecolor': 'black',\n",
       "                          'linewidth': 1,\n",
       "                          'range': [0, 1.02],\n",
       "                          'showline': True,\n",
       "                          'tickangle': 90,\n",
       "                          'title': {'text': 'Mean Average Precision'}},\n",
       "                'yaxis': {'anchor': 'x',\n",
       "                          'domain': [0.0, 1.0],\n",
       "                          'linecolor': 'black',\n",
       "                          'linewidth': 1,\n",
       "                          'showline': True,\n",
       "                          'title': {'text': ''}}}\n",
       " }),\n",
       " {'Standard CP':      Metadata_broad_sample  mean_average_precision   p_value  \\\n",
       "  0   BRD-A12994259-001-11-9                0.294462  0.183282   \n",
       "  1   BRD-A22769835-300-05-7                0.479251  0.053595   \n",
       "  2   BRD-A53576514-048-02-8                0.319871  0.163684   \n",
       "  3   BRD-A87435144-001-01-6                1.000000  0.000100   \n",
       "  4   BRD-K00818915-001-02-9                0.267616  0.219178   \n",
       "  ..                     ...                     ...       ...   \n",
       "  86  BRD-K99092662-001-02-9                0.215516  0.325567   \n",
       "  87  BRD-K99113996-001-02-0                1.000000  0.000100   \n",
       "  88  BRD-K99433989-001-02-9                0.885417  0.000700   \n",
       "  89  BRD-M87138257-003-01-1                1.000000  0.000100   \n",
       "  90                 control                0.086491  0.198780   \n",
       "  \n",
       "      corrected_p_value  below_p  below_corrected_p  \n",
       "  0            0.219456    False              False  \n",
       "  1            0.079953    False              False  \n",
       "  2            0.201287    False              False  \n",
       "  3            0.000198     True               True  \n",
       "  4            0.246237    False              False  \n",
       "  ..                ...      ...                ...  \n",
       "  86           0.352698    False              False  \n",
       "  87           0.000198     True               True  \n",
       "  88           0.001225     True               True  \n",
       "  89           0.000198     True               True  \n",
       "  90           0.231910    False              False  \n",
       "  \n",
       "  [91 rows x 6 columns],\n",
       "  'CP + MitoBrilliant':      Metadata_broad_sample  mean_average_precision   p_value  \\\n",
       "  0   BRD-A12994259-001-11-9                0.193867  0.385161   \n",
       "  1   BRD-A22769835-300-05-7                0.318155  0.164784   \n",
       "  2   BRD-A53576514-048-02-8                0.442674  0.079592   \n",
       "  3   BRD-A87435144-001-01-6                0.897222  0.000700   \n",
       "  4   BRD-K00818915-001-02-9                0.299443  0.180282   \n",
       "  ..                     ...                     ...       ...   \n",
       "  86  BRD-K99092662-001-02-9                0.202387  0.359964   \n",
       "  87  BRD-K99113996-001-02-0                1.000000  0.000100   \n",
       "  88  BRD-K99433989-001-02-9                1.000000  0.000100   \n",
       "  89  BRD-M87138257-003-01-1                1.000000  0.000100   \n",
       "  90                 control                0.079845  0.278372   \n",
       "  \n",
       "      corrected_p_value  below_p  below_corrected_p  \n",
       "  0            0.412349    False              False  \n",
       "  1            0.223810    False              False  \n",
       "  2            0.111429    False              False  \n",
       "  3            0.001249     True               True  \n",
       "  4            0.237763    False              False  \n",
       "  ..                ...      ...                ...  \n",
       "  86           0.403467    False              False  \n",
       "  87           0.000202     True               True  \n",
       "  88           0.000202     True               True  \n",
       "  89           0.000202     True               True  \n",
       "  90           0.335948    False              False  \n",
       "  \n",
       "  [91 rows x 6 columns],\n",
       "  'CP + Phenovue phalloidin 400LS':      Metadata_broad_sample  mean_average_precision   p_value  \\\n",
       "  0   BRD-A12994259-001-11-9                0.255875  0.244876   \n",
       "  1   BRD-A22769835-300-05-7                0.159312  0.517648   \n",
       "  2   BRD-A53576514-048-02-8                0.333575  0.152885   \n",
       "  3   BRD-A87435144-001-01-6                0.850000  0.001000   \n",
       "  4   BRD-K00818915-001-02-9                0.248719  0.258874   \n",
       "  ..                     ...                     ...       ...   \n",
       "  86  BRD-K99092662-001-02-9                0.165179  0.490751   \n",
       "  87  BRD-K99113996-001-02-0                1.000000  0.000100   \n",
       "  88  BRD-K99433989-001-02-9                0.834722  0.001000   \n",
       "  89  BRD-M87138257-003-01-1                1.000000  0.000100   \n",
       "  90                 control                0.084073  0.224678   \n",
       "  \n",
       "      corrected_p_value  below_p  below_corrected_p  \n",
       "  0            0.297116    False              False  \n",
       "  1            0.535532    False              False  \n",
       "  2            0.201631    False              False  \n",
       "  3            0.001896     True               True  \n",
       "  4            0.309968    False              False  \n",
       "  ..                ...      ...                ...  \n",
       "  86           0.519283    False              False  \n",
       "  87           0.000227     True               True  \n",
       "  88           0.001896     True               True  \n",
       "  89           0.000227     True               True  \n",
       "  90           0.276293    False              False  \n",
       "  \n",
       "  [91 rows x 6 columns],\n",
       "  'Standard CP (exposed to ChromaLive)':      Metadata_broad_sample  mean_average_precision   p_value  \\\n",
       "  0   BRD-A12994259-001-11-9                0.258115  0.239976   \n",
       "  1   BRD-A22769835-300-05-7                0.191289  0.397260   \n",
       "  2   BRD-A53576514-048-02-8                0.165837  0.487151   \n",
       "  3   BRD-A87435144-001-01-6                0.868056  0.000700   \n",
       "  4   BRD-K00818915-001-02-9                0.375842  0.134587   \n",
       "  ..                     ...                     ...       ...   \n",
       "  86  BRD-K99092662-001-02-9                0.200867  0.362664   \n",
       "  87  BRD-K99113996-001-02-0                1.000000  0.000100   \n",
       "  88  BRD-K99433989-001-02-9                0.543056  0.029997   \n",
       "  89  BRD-M87138257-003-01-1                1.000000  0.000100   \n",
       "  90                 control                0.084287  0.221478   \n",
       "  \n",
       "      corrected_p_value  below_p  below_corrected_p  \n",
       "  0            0.301766    False              False  \n",
       "  1            0.430365    False              False  \n",
       "  2            0.515474    False              False  \n",
       "  3            0.001415     True               True  \n",
       "  4            0.188421    False              False  \n",
       "  ..                ...      ...                ...  \n",
       "  86           0.401566    False              False  \n",
       "  87           0.000260     True               True  \n",
       "  88           0.046267     True               True  \n",
       "  89           0.000260     True               True  \n",
       "  90           0.283866    False              False  \n",
       "  \n",
       "  [91 rows x 6 columns],\n",
       "  'ChromaLive + Hoechst':      Metadata_broad_sample  mean_average_precision   p_value  \\\n",
       "  0   BRD-A12994259-001-11-9                0.189047  0.405359   \n",
       "  1   BRD-A22769835-300-05-7                0.685351  0.010499   \n",
       "  2   BRD-A53576514-048-02-8                0.174818  0.456554   \n",
       "  3   BRD-A87435144-001-01-6                0.660791  0.011799   \n",
       "  4   BRD-K00818915-001-02-9                0.580300  0.023398   \n",
       "  ..                     ...                     ...       ...   \n",
       "  86  BRD-K99092662-001-02-9                0.141280  0.612339   \n",
       "  87  BRD-K99113996-001-02-0                1.000000  0.000100   \n",
       "  88  BRD-K99433989-001-02-9                1.000000  0.000100   \n",
       "  89  BRD-M87138257-003-01-1                1.000000  0.000100   \n",
       "  90                 control                0.134263  0.017398   \n",
       "  \n",
       "      corrected_p_value  below_p  below_corrected_p  \n",
       "  0            0.445747    False              False  \n",
       "  1            0.021231     True               True  \n",
       "  2            0.487754    False              False  \n",
       "  3            0.022845     True               True  \n",
       "  4            0.039429     True               True  \n",
       "  ..                ...      ...                ...  \n",
       "  86           0.633214    False              False  \n",
       "  87           0.000350     True               True  \n",
       "  88           0.000350     True               True  \n",
       "  89           0.000350     True               True  \n",
       "  90           0.030447     True               True  \n",
       "  \n",
       "  [91 rows x 6 columns]})"
      ]
     },
     "execution_count": 5,
     "metadata": {},
     "output_type": "execute_result"
    }
   ],
   "source": [
    "copairs_batches_wosistercompounds_updated(dict_to_load_feature_selected,mAP='Treatment')"
   ]
  }
 ],
 "metadata": {
  "kernelspec": {
   "display_name": "copairs",
   "language": "python",
   "name": "python3"
  },
  "language_info": {
   "codemirror_mode": {
    "name": "ipython",
    "version": 3
   },
   "file_extension": ".py",
   "mimetype": "text/x-python",
   "name": "python",
   "nbconvert_exporter": "python",
   "pygments_lexer": "ipython3",
   "version": "3.12.2"
  }
 },
 "nbformat": 4,
 "nbformat_minor": 2
}
