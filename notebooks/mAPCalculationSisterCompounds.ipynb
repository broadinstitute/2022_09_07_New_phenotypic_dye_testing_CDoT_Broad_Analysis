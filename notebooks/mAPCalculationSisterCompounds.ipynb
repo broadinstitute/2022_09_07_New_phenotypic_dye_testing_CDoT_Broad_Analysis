{
 "cells": [
  {
   "cell_type": "code",
   "execution_count": 1,
   "metadata": {},
   "outputs": [
    {
     "name": "stdout",
     "output_type": "stream",
     "text": [
      "Python 3.12.2\n"
     ]
    }
   ],
   "source": [
    "!python --version"
   ]
  },
  {
   "cell_type": "code",
   "execution_count": 6,
   "metadata": {},
   "outputs": [
    {
     "name": "stdout",
     "output_type": "stream",
     "text": [
      "The autoreload extension is already loaded. To reload it, use:\n",
      "  %reload_ext autoreload\n"
     ]
    }
   ],
   "source": [
    "#importing necessary modules \n",
    "import pandas as pd\n",
    "import numpy as np\n",
    "import matplotlib.pyplot as plt\n",
    "from sklearn.decomposition import PCA\n",
    "from sklearn.preprocessing import StandardScaler\n",
    "import plotly.graph_objects as go\n",
    "from plotly.subplots import make_subplots\n",
    "import plotly.express as px\n",
    "import seaborn as sns\n",
    "import copairs\n",
    "import pycytominer\n",
    "from copairs.map import average_precision\n",
    "from copairs.map import mean_average_precision\n",
    "from utils import * \n",
    "\n",
    "%load_ext autoreload\n",
    "%autoreload 2"
   ]
  },
  {
   "cell_type": "code",
   "execution_count": 3,
   "metadata": {},
   "outputs": [
    {
     "name": "stdout",
     "output_type": "stream",
     "text": [
      "Name: copairs\n",
      "Version: 0.4.1\n",
      "Summary: Find pairs and compute metrics between them\n",
      "Home-page: \n",
      "Author: \n",
      "Author-email: John Arevalo <johnarevalo@gmail.com>\n",
      "License: \n",
      "Location: c:\\Users\\ssivagur\\Anaconda3\\envs\\copairs\\Lib\\site-packages\n",
      "Requires: pandas, statsmodels, tqdm\n",
      "Required-by: \n",
      "Note: you may need to restart the kernel to use updated packages.\n"
     ]
    }
   ],
   "source": [
    "pip show copairs"
   ]
  },
  {
   "cell_type": "markdown",
   "metadata": {},
   "source": [
    "#### Reading the dataframes "
   ]
  },
  {
   "cell_type": "code",
   "execution_count": 4,
   "metadata": {},
   "outputs": [],
   "source": [
    "#Reading the normalized and feature selected files for copairs - fixed cells and 48h time point\n",
    "dict_to_load_feature_selected = {'c:\\\\Users\\\\ssivagur\\\\Documents\\\\Projects\\\\Cell_painting_projects\\\\CDoT\\\\Batch3_analysis_redo\\\\UpdatedCopairsVersion\\\\BR00122250_normalized_feature_select_negcon_batch.csv':'Standard CP',\n",
    "                                 'c:\\\\Users\\\\ssivagur\\\\Documents\\\\Projects\\\\Cell_painting_projects\\\\CDoT\\\\Batch3_analysis_redo\\\\UpdatedCopairsVersion\\\\BR00122246_normalized_feature_select_negcon_batch.csv':'CP + MitoBrilliant',\n",
    "                                 'c:\\\\Users\\\\ssivagur\\\\Documents\\\\Projects\\\\Cell_painting_projects\\\\CDoT\\\\Batch3_analysis_redo\\\\UpdatedCopairsVersion\\\\BR00122247_normalized_feature_select_negcon_batch.csv':'CP + Phenovue phalloidin 400LS',\n",
    "                                 'c:\\\\Users\\\\ssivagur\\\\Documents\\\\Projects\\\\Cell_painting_projects\\\\CDoT\\\\Batch3_analysis_redo\\\\UpdatedCopairsVersion\\\\BR00122248_normalized_feature_select_negcon_batch.csv':'Standard CP (exposed to ChromaLive)',\n",
    "                                 'c:\\\\Users\\\\ssivagur\\\\Documents\\\\Projects\\\\Cell_painting_projects\\\\CDoT\\\\Batch3_analysis_redo\\\\UpdatedCopairsVersion\\\\BR00122249_normalized_feature_select_negcon_batch_wo_phasefeatures.csv':'ChromaLive + Hoechst'\n",
    "\n",
    "}\n"
   ]
  },
  {
   "cell_type": "code",
   "execution_count": 7,
   "metadata": {},
   "outputs": [
    {
     "name": "stderr",
     "output_type": "stream",
     "text": [
      "                                             \r"
     ]
    },
    {
     "data": {
      "application/vnd.plotly.v1+json": {
       "config": {
        "plotlyServerURL": "https://plot.ly"
       },
       "data": [
        {
         "alignmentgroup": "True",
         "box": {
          "visible": true
         },
         "hovertemplate": "color=ChromaLive + Hoechst<br>x=%{x}<br>y=%{y}<extra></extra>",
         "legendgroup": "ChromaLive + Hoechst",
         "marker": {
          "color": "#cc78bc"
         },
         "name": "ChromaLive + Hoechst",
         "offsetgroup": "ChromaLive + Hoechst",
         "orientation": "h",
         "points": "all",
         "scalegroup": "True",
         "showlegend": true,
         "type": "violin",
         "width": 0.5,
         "x": [
          0.9027777777777777,
          0.2740009402760479,
          0.2581626600304761,
          0.2403482344496049,
          0.16986856205140308,
          0.13539577039076314,
          0.18328827790565455,
          0.16837835679269073,
          0.672418654233255,
          0.06841345952389764,
          0.22332940798109177,
          0.25882790128314426,
          0.22529759882438882,
          0.17556046965019464,
          0.07081757479499447,
          0.6801051315508414,
          0.10406566786204277,
          0.04355717094570509,
          0.299758818570944,
          0.1318041115345664,
          0.15699789817355017,
          0.134263461509009,
          0.18673908116403984,
          0.08633854672130006,
          0.12375865204201346,
          0.045495197899080284,
          0.09753298159623285,
          0.1297918403604488,
          0.4577967600370053,
          0.29773265886765343,
          0.2377014536514971,
          0.2960086970461628,
          0.1954971850428643,
          0.25270111978977416,
          0.23061698794471375,
          0.30426581269327474,
          0.4134106472507741,
          0.04272685167199845,
          0.06510645088519006,
          0.4671983389792458,
          0.20035071921344283,
          0.11222047858865582,
          0.16707005984355233,
          0.32839348473979857,
          0.2706671183188308,
          0.24669239448489186,
          0.06523194713498372,
          0.04863326234533155
         ],
         "x0": " ",
         "xaxis": "x",
         "y": [
          "ChromaLive + Hoechst",
          "ChromaLive + Hoechst",
          "ChromaLive + Hoechst",
          "ChromaLive + Hoechst",
          "ChromaLive + Hoechst",
          "ChromaLive + Hoechst",
          "ChromaLive + Hoechst",
          "ChromaLive + Hoechst",
          "ChromaLive + Hoechst",
          "ChromaLive + Hoechst",
          "ChromaLive + Hoechst",
          "ChromaLive + Hoechst",
          "ChromaLive + Hoechst",
          "ChromaLive + Hoechst",
          "ChromaLive + Hoechst",
          "ChromaLive + Hoechst",
          "ChromaLive + Hoechst",
          "ChromaLive + Hoechst",
          "ChromaLive + Hoechst",
          "ChromaLive + Hoechst",
          "ChromaLive + Hoechst",
          "ChromaLive + Hoechst",
          "ChromaLive + Hoechst",
          "ChromaLive + Hoechst",
          "ChromaLive + Hoechst",
          "ChromaLive + Hoechst",
          "ChromaLive + Hoechst",
          "ChromaLive + Hoechst",
          "ChromaLive + Hoechst",
          "ChromaLive + Hoechst",
          "ChromaLive + Hoechst",
          "ChromaLive + Hoechst",
          "ChromaLive + Hoechst",
          "ChromaLive + Hoechst",
          "ChromaLive + Hoechst",
          "ChromaLive + Hoechst",
          "ChromaLive + Hoechst",
          "ChromaLive + Hoechst",
          "ChromaLive + Hoechst",
          "ChromaLive + Hoechst",
          "ChromaLive + Hoechst",
          "ChromaLive + Hoechst",
          "ChromaLive + Hoechst",
          "ChromaLive + Hoechst",
          "ChromaLive + Hoechst",
          "ChromaLive + Hoechst",
          "ChromaLive + Hoechst",
          "ChromaLive + Hoechst"
         ],
         "y0": " ",
         "yaxis": "y"
        },
        {
         "alignmentgroup": "True",
         "box": {
          "visible": true
         },
         "hovertemplate": "color=Standard CP (exposed to ChromaLive)<br>x=%{x}<br>y=%{y}<extra></extra>",
         "legendgroup": "Standard CP (exposed to ChromaLive)",
         "marker": {
          "color": "#d55e00"
         },
         "name": "Standard CP (exposed to ChromaLive)",
         "offsetgroup": "Standard CP (exposed to ChromaLive)",
         "orientation": "h",
         "points": "all",
         "scalegroup": "True",
         "showlegend": true,
         "type": "violin",
         "width": 0.5,
         "x": [
          0.1956734006955035,
          0.24194340318223317,
          0.5489087301587301,
          0.47482637480355083,
          0.26108211466813325,
          0.2887483967193665,
          0.23157875994924637,
          0.3094361982315836,
          0.45179159006044306,
          0.11274005691353575,
          0.1522850592056924,
          0.9513888888888888,
          0.37178157239550635,
          0.3532808406093598,
          0.03132130997100184,
          0.9198336881372595,
          0.06225446000771798,
          0.048078501040013835,
          0.5231559468729219,
          0.1370002896135673,
          0.21613005208373415,
          0.08428744668892785,
          0.22020177283937958,
          0.4596232339026761,
          0.09238307550393894,
          0.029797854149690387,
          0.03165648564648951,
          0.1660575438625942,
          0.824756533277496,
          0.4856757388718371,
          0.23957829338791728,
          0.24957179329560847,
          0.1936028278067062,
          0.10982489582238414,
          0.9475166202844774,
          0.41818396614914577,
          0.6797992162155303,
          0.12636715823113426,
          0.038430529589466286,
          0.4297408089250583,
          0.19358994376399008,
          0.12684191247942525,
          0.050661529168830745,
          0.2727030012498292,
          0.15888796273012237,
          0.0473188741099964,
          0.03474847414584111,
          0.10741506708243087
         ],
         "x0": " ",
         "xaxis": "x",
         "y": [
          "Standard CP (exposed to ChromaLive)",
          "Standard CP (exposed to ChromaLive)",
          "Standard CP (exposed to ChromaLive)",
          "Standard CP (exposed to ChromaLive)",
          "Standard CP (exposed to ChromaLive)",
          "Standard CP (exposed to ChromaLive)",
          "Standard CP (exposed to ChromaLive)",
          "Standard CP (exposed to ChromaLive)",
          "Standard CP (exposed to ChromaLive)",
          "Standard CP (exposed to ChromaLive)",
          "Standard CP (exposed to ChromaLive)",
          "Standard CP (exposed to ChromaLive)",
          "Standard CP (exposed to ChromaLive)",
          "Standard CP (exposed to ChromaLive)",
          "Standard CP (exposed to ChromaLive)",
          "Standard CP (exposed to ChromaLive)",
          "Standard CP (exposed to ChromaLive)",
          "Standard CP (exposed to ChromaLive)",
          "Standard CP (exposed to ChromaLive)",
          "Standard CP (exposed to ChromaLive)",
          "Standard CP (exposed to ChromaLive)",
          "Standard CP (exposed to ChromaLive)",
          "Standard CP (exposed to ChromaLive)",
          "Standard CP (exposed to ChromaLive)",
          "Standard CP (exposed to ChromaLive)",
          "Standard CP (exposed to ChromaLive)",
          "Standard CP (exposed to ChromaLive)",
          "Standard CP (exposed to ChromaLive)",
          "Standard CP (exposed to ChromaLive)",
          "Standard CP (exposed to ChromaLive)",
          "Standard CP (exposed to ChromaLive)",
          "Standard CP (exposed to ChromaLive)",
          "Standard CP (exposed to ChromaLive)",
          "Standard CP (exposed to ChromaLive)",
          "Standard CP (exposed to ChromaLive)",
          "Standard CP (exposed to ChromaLive)",
          "Standard CP (exposed to ChromaLive)",
          "Standard CP (exposed to ChromaLive)",
          "Standard CP (exposed to ChromaLive)",
          "Standard CP (exposed to ChromaLive)",
          "Standard CP (exposed to ChromaLive)",
          "Standard CP (exposed to ChromaLive)",
          "Standard CP (exposed to ChromaLive)",
          "Standard CP (exposed to ChromaLive)",
          "Standard CP (exposed to ChromaLive)",
          "Standard CP (exposed to ChromaLive)",
          "Standard CP (exposed to ChromaLive)",
          "Standard CP (exposed to ChromaLive)"
         ],
         "y0": " ",
         "yaxis": "y"
        },
        {
         "alignmentgroup": "True",
         "box": {
          "visible": true
         },
         "hovertemplate": "color=CP + Phenovue phalloidin 400LS<br>x=%{x}<br>y=%{y}<extra></extra>",
         "legendgroup": "CP + Phenovue phalloidin 400LS",
         "marker": {
          "color": "#029e73"
         },
         "name": "CP + Phenovue phalloidin 400LS",
         "offsetgroup": "CP + Phenovue phalloidin 400LS",
         "orientation": "h",
         "points": "all",
         "scalegroup": "True",
         "showlegend": true,
         "type": "violin",
         "width": 0.5,
         "x": [
          0.10513754742203019,
          0.6898656898656899,
          0.4832902001380262,
          0.42591203196305394,
          0.494427316115623,
          0.2896075322081344,
          0.21112907996976107,
          0.33060207935026953,
          0.3522006426898197,
          0.11108416969883071,
          0.2659269405505812,
          1,
          0.5039035901120846,
          0.3176316393369729,
          0.09377142857587595,
          0.6428036815885383,
          0.047391784688032595,
          0.0221583703992873,
          0.4589247973730526,
          0.18779562658224225,
          0.35975802966134246,
          0.0840733566068706,
          0.21509957575480856,
          0.20321954145875748,
          0.15511526860228775,
          0.036845090435487844,
          0.024516875577843423,
          0.13335076015562022,
          0.8228707277905909,
          0.4010560198387801,
          0.23517186486430203,
          0.24068067599629803,
          0.25113128577302785,
          0.20985572315340556,
          0.36974890444656977,
          0.7306475952054023,
          0.4906820202846955,
          0.2773440688947212,
          0.023114051989044423,
          0.35197062133987905,
          0.24453571517328737,
          0.20595794107141527,
          0.03912552850530186,
          0.22577118177296376,
          0.12576191648243337,
          0.05752354658752557,
          0.0632914385347349,
          0.05855889074078857
         ],
         "x0": " ",
         "xaxis": "x",
         "y": [
          "CP + Phenovue phalloidin 400LS",
          "CP + Phenovue phalloidin 400LS",
          "CP + Phenovue phalloidin 400LS",
          "CP + Phenovue phalloidin 400LS",
          "CP + Phenovue phalloidin 400LS",
          "CP + Phenovue phalloidin 400LS",
          "CP + Phenovue phalloidin 400LS",
          "CP + Phenovue phalloidin 400LS",
          "CP + Phenovue phalloidin 400LS",
          "CP + Phenovue phalloidin 400LS",
          "CP + Phenovue phalloidin 400LS",
          "CP + Phenovue phalloidin 400LS",
          "CP + Phenovue phalloidin 400LS",
          "CP + Phenovue phalloidin 400LS",
          "CP + Phenovue phalloidin 400LS",
          "CP + Phenovue phalloidin 400LS",
          "CP + Phenovue phalloidin 400LS",
          "CP + Phenovue phalloidin 400LS",
          "CP + Phenovue phalloidin 400LS",
          "CP + Phenovue phalloidin 400LS",
          "CP + Phenovue phalloidin 400LS",
          "CP + Phenovue phalloidin 400LS",
          "CP + Phenovue phalloidin 400LS",
          "CP + Phenovue phalloidin 400LS",
          "CP + Phenovue phalloidin 400LS",
          "CP + Phenovue phalloidin 400LS",
          "CP + Phenovue phalloidin 400LS",
          "CP + Phenovue phalloidin 400LS",
          "CP + Phenovue phalloidin 400LS",
          "CP + Phenovue phalloidin 400LS",
          "CP + Phenovue phalloidin 400LS",
          "CP + Phenovue phalloidin 400LS",
          "CP + Phenovue phalloidin 400LS",
          "CP + Phenovue phalloidin 400LS",
          "CP + Phenovue phalloidin 400LS",
          "CP + Phenovue phalloidin 400LS",
          "CP + Phenovue phalloidin 400LS",
          "CP + Phenovue phalloidin 400LS",
          "CP + Phenovue phalloidin 400LS",
          "CP + Phenovue phalloidin 400LS",
          "CP + Phenovue phalloidin 400LS",
          "CP + Phenovue phalloidin 400LS",
          "CP + Phenovue phalloidin 400LS",
          "CP + Phenovue phalloidin 400LS",
          "CP + Phenovue phalloidin 400LS",
          "CP + Phenovue phalloidin 400LS",
          "CP + Phenovue phalloidin 400LS",
          "CP + Phenovue phalloidin 400LS"
         ],
         "y0": " ",
         "yaxis": "y"
        },
        {
         "alignmentgroup": "True",
         "box": {
          "visible": true
         },
         "hovertemplate": "color=CP + MitoBrilliant<br>x=%{x}<br>y=%{y}<extra></extra>",
         "legendgroup": "CP + MitoBrilliant",
         "marker": {
          "color": "#de8f05"
         },
         "name": "CP + MitoBrilliant",
         "offsetgroup": "CP + MitoBrilliant",
         "orientation": "h",
         "points": "all",
         "scalegroup": "True",
         "showlegend": true,
         "type": "violin",
         "width": 0.5,
         "x": [
          0.15280540537893478,
          0.9791666666666666,
          0.6167748917748918,
          0.3447966953184549,
          0.33417986401886574,
          0.26261053099696124,
          0.2493561227269317,
          0.42167625979972523,
          0.47869778765642496,
          0.1143565759828417,
          0.215821731169019,
          0.7694940476190476,
          0.41480231738870826,
          0.4029993304936222,
          0.027633161788769907,
          0.5706910322707973,
          0.10521155249691339,
          0.021625248137105504,
          0.3850202564208264,
          0.11621598899564432,
          0.1975442061061337,
          0.0798449372817101,
          0.13530104037642843,
          0.3912188781767976,
          0.09165529600162683,
          0.0442486504611213,
          0.028370959159515156,
          0.16731538110815963,
          0.6248314228424305,
          0.36628073110533366,
          0.09107228331607835,
          0.25376141724680734,
          0.31042519010376374,
          0.20450326823372914,
          0.39027517004795576,
          0.6114123354358432,
          0.3787215505286156,
          0.33786379583345544,
          0.022016572242370795,
          0.3096643872659498,
          0.19801792805136756,
          0.08111329510848647,
          0.0633432287753993,
          0.20610345216716822,
          0.2479694156134261,
          0.023181142560175384,
          0.03291496851415641,
          0.0842166435419341
         ],
         "x0": " ",
         "xaxis": "x",
         "y": [
          "CP + MitoBrilliant",
          "CP + MitoBrilliant",
          "CP + MitoBrilliant",
          "CP + MitoBrilliant",
          "CP + MitoBrilliant",
          "CP + MitoBrilliant",
          "CP + MitoBrilliant",
          "CP + MitoBrilliant",
          "CP + MitoBrilliant",
          "CP + MitoBrilliant",
          "CP + MitoBrilliant",
          "CP + MitoBrilliant",
          "CP + MitoBrilliant",
          "CP + MitoBrilliant",
          "CP + MitoBrilliant",
          "CP + MitoBrilliant",
          "CP + MitoBrilliant",
          "CP + MitoBrilliant",
          "CP + MitoBrilliant",
          "CP + MitoBrilliant",
          "CP + MitoBrilliant",
          "CP + MitoBrilliant",
          "CP + MitoBrilliant",
          "CP + MitoBrilliant",
          "CP + MitoBrilliant",
          "CP + MitoBrilliant",
          "CP + MitoBrilliant",
          "CP + MitoBrilliant",
          "CP + MitoBrilliant",
          "CP + MitoBrilliant",
          "CP + MitoBrilliant",
          "CP + MitoBrilliant",
          "CP + MitoBrilliant",
          "CP + MitoBrilliant",
          "CP + MitoBrilliant",
          "CP + MitoBrilliant",
          "CP + MitoBrilliant",
          "CP + MitoBrilliant",
          "CP + MitoBrilliant",
          "CP + MitoBrilliant",
          "CP + MitoBrilliant",
          "CP + MitoBrilliant",
          "CP + MitoBrilliant",
          "CP + MitoBrilliant",
          "CP + MitoBrilliant",
          "CP + MitoBrilliant",
          "CP + MitoBrilliant",
          "CP + MitoBrilliant"
         ],
         "y0": " ",
         "yaxis": "y"
        },
        {
         "alignmentgroup": "True",
         "box": {
          "visible": true
         },
         "hovertemplate": "color=Standard CP<br>x=%{x}<br>y=%{y}<extra></extra>",
         "legendgroup": "Standard CP",
         "marker": {
          "color": "#0173b2"
         },
         "name": "Standard CP",
         "offsetgroup": "Standard CP",
         "orientation": "h",
         "points": "all",
         "scalegroup": "True",
         "showlegend": true,
         "type": "violin",
         "width": 0.5,
         "x": [
          0.18823160518611953,
          1,
          0.6779100529100529,
          0.3258150240113064,
          0.459391920961614,
          0.2816163870939923,
          0.2508798797199471,
          0.2852301370597289,
          0.48292212714255384,
          0.06937194118955514,
          0.23955363933721385,
          1,
          0.35934689141437853,
          0.23219351784718537,
          0.042238610873187324,
          0.6848965967759355,
          0.08236421948723292,
          0.035170257893651746,
          0.6443803930854203,
          0.10151546983702618,
          0.22485506130914687,
          0.08649063621554494,
          0.15896700400390512,
          0.30393489386130357,
          0.07699914215040672,
          0.05711307064687219,
          0.03532694618283325,
          0.23859796568766822,
          0.643412672729427,
          0.3794034689518205,
          0.11506075531935654,
          0.19874926318377922,
          0.2399159325042968,
          0.16564219295934246,
          0.3226021574392806,
          0.8384408354803092,
          0.41044919944269787,
          0.4031154661579311,
          0.06569251314083435,
          0.3305984123781632,
          0.23062435718839977,
          0.20716034184494359,
          0.08479972490961045,
          0.15509061038345365,
          0.17238953514397556,
          0.025147538289586338,
          0.03962642760980571,
          0.126329353070774
         ],
         "x0": " ",
         "xaxis": "x",
         "y": [
          "Standard CP",
          "Standard CP",
          "Standard CP",
          "Standard CP",
          "Standard CP",
          "Standard CP",
          "Standard CP",
          "Standard CP",
          "Standard CP",
          "Standard CP",
          "Standard CP",
          "Standard CP",
          "Standard CP",
          "Standard CP",
          "Standard CP",
          "Standard CP",
          "Standard CP",
          "Standard CP",
          "Standard CP",
          "Standard CP",
          "Standard CP",
          "Standard CP",
          "Standard CP",
          "Standard CP",
          "Standard CP",
          "Standard CP",
          "Standard CP",
          "Standard CP",
          "Standard CP",
          "Standard CP",
          "Standard CP",
          "Standard CP",
          "Standard CP",
          "Standard CP",
          "Standard CP",
          "Standard CP",
          "Standard CP",
          "Standard CP",
          "Standard CP",
          "Standard CP",
          "Standard CP",
          "Standard CP",
          "Standard CP",
          "Standard CP",
          "Standard CP",
          "Standard CP",
          "Standard CP",
          "Standard CP"
         ],
         "y0": " ",
         "yaxis": "y"
        }
       ],
       "layout": {
        "font": {
         "color": "black",
         "family": "sans serif",
         "size": 95
        },
        "height": 2500,
        "legend": {
         "title": {
          "text": "color"
         },
         "tracegroupgap": 0
        },
        "margin": {
         "t": 60
        },
        "plot_bgcolor": "rgba(0,0,0,0)",
        "showlegend": false,
        "template": {
         "data": {
          "bar": [
           {
            "error_x": {
             "color": "#2a3f5f"
            },
            "error_y": {
             "color": "#2a3f5f"
            },
            "marker": {
             "line": {
              "color": "#E5ECF6",
              "width": 0.5
             },
             "pattern": {
              "fillmode": "overlay",
              "size": 10,
              "solidity": 0.2
             }
            },
            "type": "bar"
           }
          ],
          "barpolar": [
           {
            "marker": {
             "line": {
              "color": "#E5ECF6",
              "width": 0.5
             },
             "pattern": {
              "fillmode": "overlay",
              "size": 10,
              "solidity": 0.2
             }
            },
            "type": "barpolar"
           }
          ],
          "carpet": [
           {
            "aaxis": {
             "endlinecolor": "#2a3f5f",
             "gridcolor": "white",
             "linecolor": "white",
             "minorgridcolor": "white",
             "startlinecolor": "#2a3f5f"
            },
            "baxis": {
             "endlinecolor": "#2a3f5f",
             "gridcolor": "white",
             "linecolor": "white",
             "minorgridcolor": "white",
             "startlinecolor": "#2a3f5f"
            },
            "type": "carpet"
           }
          ],
          "choropleth": [
           {
            "colorbar": {
             "outlinewidth": 0,
             "ticks": ""
            },
            "type": "choropleth"
           }
          ],
          "contour": [
           {
            "colorbar": {
             "outlinewidth": 0,
             "ticks": ""
            },
            "colorscale": [
             [
              0,
              "#0d0887"
             ],
             [
              0.1111111111111111,
              "#46039f"
             ],
             [
              0.2222222222222222,
              "#7201a8"
             ],
             [
              0.3333333333333333,
              "#9c179e"
             ],
             [
              0.4444444444444444,
              "#bd3786"
             ],
             [
              0.5555555555555556,
              "#d8576b"
             ],
             [
              0.6666666666666666,
              "#ed7953"
             ],
             [
              0.7777777777777778,
              "#fb9f3a"
             ],
             [
              0.8888888888888888,
              "#fdca26"
             ],
             [
              1,
              "#f0f921"
             ]
            ],
            "type": "contour"
           }
          ],
          "contourcarpet": [
           {
            "colorbar": {
             "outlinewidth": 0,
             "ticks": ""
            },
            "type": "contourcarpet"
           }
          ],
          "heatmap": [
           {
            "colorbar": {
             "outlinewidth": 0,
             "ticks": ""
            },
            "colorscale": [
             [
              0,
              "#0d0887"
             ],
             [
              0.1111111111111111,
              "#46039f"
             ],
             [
              0.2222222222222222,
              "#7201a8"
             ],
             [
              0.3333333333333333,
              "#9c179e"
             ],
             [
              0.4444444444444444,
              "#bd3786"
             ],
             [
              0.5555555555555556,
              "#d8576b"
             ],
             [
              0.6666666666666666,
              "#ed7953"
             ],
             [
              0.7777777777777778,
              "#fb9f3a"
             ],
             [
              0.8888888888888888,
              "#fdca26"
             ],
             [
              1,
              "#f0f921"
             ]
            ],
            "type": "heatmap"
           }
          ],
          "heatmapgl": [
           {
            "colorbar": {
             "outlinewidth": 0,
             "ticks": ""
            },
            "colorscale": [
             [
              0,
              "#0d0887"
             ],
             [
              0.1111111111111111,
              "#46039f"
             ],
             [
              0.2222222222222222,
              "#7201a8"
             ],
             [
              0.3333333333333333,
              "#9c179e"
             ],
             [
              0.4444444444444444,
              "#bd3786"
             ],
             [
              0.5555555555555556,
              "#d8576b"
             ],
             [
              0.6666666666666666,
              "#ed7953"
             ],
             [
              0.7777777777777778,
              "#fb9f3a"
             ],
             [
              0.8888888888888888,
              "#fdca26"
             ],
             [
              1,
              "#f0f921"
             ]
            ],
            "type": "heatmapgl"
           }
          ],
          "histogram": [
           {
            "marker": {
             "pattern": {
              "fillmode": "overlay",
              "size": 10,
              "solidity": 0.2
             }
            },
            "type": "histogram"
           }
          ],
          "histogram2d": [
           {
            "colorbar": {
             "outlinewidth": 0,
             "ticks": ""
            },
            "colorscale": [
             [
              0,
              "#0d0887"
             ],
             [
              0.1111111111111111,
              "#46039f"
             ],
             [
              0.2222222222222222,
              "#7201a8"
             ],
             [
              0.3333333333333333,
              "#9c179e"
             ],
             [
              0.4444444444444444,
              "#bd3786"
             ],
             [
              0.5555555555555556,
              "#d8576b"
             ],
             [
              0.6666666666666666,
              "#ed7953"
             ],
             [
              0.7777777777777778,
              "#fb9f3a"
             ],
             [
              0.8888888888888888,
              "#fdca26"
             ],
             [
              1,
              "#f0f921"
             ]
            ],
            "type": "histogram2d"
           }
          ],
          "histogram2dcontour": [
           {
            "colorbar": {
             "outlinewidth": 0,
             "ticks": ""
            },
            "colorscale": [
             [
              0,
              "#0d0887"
             ],
             [
              0.1111111111111111,
              "#46039f"
             ],
             [
              0.2222222222222222,
              "#7201a8"
             ],
             [
              0.3333333333333333,
              "#9c179e"
             ],
             [
              0.4444444444444444,
              "#bd3786"
             ],
             [
              0.5555555555555556,
              "#d8576b"
             ],
             [
              0.6666666666666666,
              "#ed7953"
             ],
             [
              0.7777777777777778,
              "#fb9f3a"
             ],
             [
              0.8888888888888888,
              "#fdca26"
             ],
             [
              1,
              "#f0f921"
             ]
            ],
            "type": "histogram2dcontour"
           }
          ],
          "mesh3d": [
           {
            "colorbar": {
             "outlinewidth": 0,
             "ticks": ""
            },
            "type": "mesh3d"
           }
          ],
          "parcoords": [
           {
            "line": {
             "colorbar": {
              "outlinewidth": 0,
              "ticks": ""
             }
            },
            "type": "parcoords"
           }
          ],
          "pie": [
           {
            "automargin": true,
            "type": "pie"
           }
          ],
          "scatter": [
           {
            "fillpattern": {
             "fillmode": "overlay",
             "size": 10,
             "solidity": 0.2
            },
            "type": "scatter"
           }
          ],
          "scatter3d": [
           {
            "line": {
             "colorbar": {
              "outlinewidth": 0,
              "ticks": ""
             }
            },
            "marker": {
             "colorbar": {
              "outlinewidth": 0,
              "ticks": ""
             }
            },
            "type": "scatter3d"
           }
          ],
          "scattercarpet": [
           {
            "marker": {
             "colorbar": {
              "outlinewidth": 0,
              "ticks": ""
             }
            },
            "type": "scattercarpet"
           }
          ],
          "scattergeo": [
           {
            "marker": {
             "colorbar": {
              "outlinewidth": 0,
              "ticks": ""
             }
            },
            "type": "scattergeo"
           }
          ],
          "scattergl": [
           {
            "marker": {
             "colorbar": {
              "outlinewidth": 0,
              "ticks": ""
             }
            },
            "type": "scattergl"
           }
          ],
          "scattermapbox": [
           {
            "marker": {
             "colorbar": {
              "outlinewidth": 0,
              "ticks": ""
             }
            },
            "type": "scattermapbox"
           }
          ],
          "scatterpolar": [
           {
            "marker": {
             "colorbar": {
              "outlinewidth": 0,
              "ticks": ""
             }
            },
            "type": "scatterpolar"
           }
          ],
          "scatterpolargl": [
           {
            "marker": {
             "colorbar": {
              "outlinewidth": 0,
              "ticks": ""
             }
            },
            "type": "scatterpolargl"
           }
          ],
          "scatterternary": [
           {
            "marker": {
             "colorbar": {
              "outlinewidth": 0,
              "ticks": ""
             }
            },
            "type": "scatterternary"
           }
          ],
          "surface": [
           {
            "colorbar": {
             "outlinewidth": 0,
             "ticks": ""
            },
            "colorscale": [
             [
              0,
              "#0d0887"
             ],
             [
              0.1111111111111111,
              "#46039f"
             ],
             [
              0.2222222222222222,
              "#7201a8"
             ],
             [
              0.3333333333333333,
              "#9c179e"
             ],
             [
              0.4444444444444444,
              "#bd3786"
             ],
             [
              0.5555555555555556,
              "#d8576b"
             ],
             [
              0.6666666666666666,
              "#ed7953"
             ],
             [
              0.7777777777777778,
              "#fb9f3a"
             ],
             [
              0.8888888888888888,
              "#fdca26"
             ],
             [
              1,
              "#f0f921"
             ]
            ],
            "type": "surface"
           }
          ],
          "table": [
           {
            "cells": {
             "fill": {
              "color": "#EBF0F8"
             },
             "line": {
              "color": "white"
             }
            },
            "header": {
             "fill": {
              "color": "#C8D4E3"
             },
             "line": {
              "color": "white"
             }
            },
            "type": "table"
           }
          ]
         },
         "layout": {
          "annotationdefaults": {
           "arrowcolor": "#2a3f5f",
           "arrowhead": 0,
           "arrowwidth": 1
          },
          "autotypenumbers": "strict",
          "coloraxis": {
           "colorbar": {
            "outlinewidth": 0,
            "ticks": ""
           }
          },
          "colorscale": {
           "diverging": [
            [
             0,
             "#8e0152"
            ],
            [
             0.1,
             "#c51b7d"
            ],
            [
             0.2,
             "#de77ae"
            ],
            [
             0.3,
             "#f1b6da"
            ],
            [
             0.4,
             "#fde0ef"
            ],
            [
             0.5,
             "#f7f7f7"
            ],
            [
             0.6,
             "#e6f5d0"
            ],
            [
             0.7,
             "#b8e186"
            ],
            [
             0.8,
             "#7fbc41"
            ],
            [
             0.9,
             "#4d9221"
            ],
            [
             1,
             "#276419"
            ]
           ],
           "sequential": [
            [
             0,
             "#0d0887"
            ],
            [
             0.1111111111111111,
             "#46039f"
            ],
            [
             0.2222222222222222,
             "#7201a8"
            ],
            [
             0.3333333333333333,
             "#9c179e"
            ],
            [
             0.4444444444444444,
             "#bd3786"
            ],
            [
             0.5555555555555556,
             "#d8576b"
            ],
            [
             0.6666666666666666,
             "#ed7953"
            ],
            [
             0.7777777777777778,
             "#fb9f3a"
            ],
            [
             0.8888888888888888,
             "#fdca26"
            ],
            [
             1,
             "#f0f921"
            ]
           ],
           "sequentialminus": [
            [
             0,
             "#0d0887"
            ],
            [
             0.1111111111111111,
             "#46039f"
            ],
            [
             0.2222222222222222,
             "#7201a8"
            ],
            [
             0.3333333333333333,
             "#9c179e"
            ],
            [
             0.4444444444444444,
             "#bd3786"
            ],
            [
             0.5555555555555556,
             "#d8576b"
            ],
            [
             0.6666666666666666,
             "#ed7953"
            ],
            [
             0.7777777777777778,
             "#fb9f3a"
            ],
            [
             0.8888888888888888,
             "#fdca26"
            ],
            [
             1,
             "#f0f921"
            ]
           ]
          },
          "colorway": [
           "#636efa",
           "#EF553B",
           "#00cc96",
           "#ab63fa",
           "#FFA15A",
           "#19d3f3",
           "#FF6692",
           "#B6E880",
           "#FF97FF",
           "#FECB52"
          ],
          "font": {
           "color": "#2a3f5f"
          },
          "geo": {
           "bgcolor": "white",
           "lakecolor": "white",
           "landcolor": "#E5ECF6",
           "showlakes": true,
           "showland": true,
           "subunitcolor": "white"
          },
          "hoverlabel": {
           "align": "left"
          },
          "hovermode": "closest",
          "mapbox": {
           "style": "light"
          },
          "paper_bgcolor": "white",
          "plot_bgcolor": "#E5ECF6",
          "polar": {
           "angularaxis": {
            "gridcolor": "white",
            "linecolor": "white",
            "ticks": ""
           },
           "bgcolor": "#E5ECF6",
           "radialaxis": {
            "gridcolor": "white",
            "linecolor": "white",
            "ticks": ""
           }
          },
          "scene": {
           "xaxis": {
            "backgroundcolor": "#E5ECF6",
            "gridcolor": "white",
            "gridwidth": 2,
            "linecolor": "white",
            "showbackground": true,
            "ticks": "",
            "zerolinecolor": "white"
           },
           "yaxis": {
            "backgroundcolor": "#E5ECF6",
            "gridcolor": "white",
            "gridwidth": 2,
            "linecolor": "white",
            "showbackground": true,
            "ticks": "",
            "zerolinecolor": "white"
           },
           "zaxis": {
            "backgroundcolor": "#E5ECF6",
            "gridcolor": "white",
            "gridwidth": 2,
            "linecolor": "white",
            "showbackground": true,
            "ticks": "",
            "zerolinecolor": "white"
           }
          },
          "shapedefaults": {
           "line": {
            "color": "#2a3f5f"
           }
          },
          "ternary": {
           "aaxis": {
            "gridcolor": "white",
            "linecolor": "white",
            "ticks": ""
           },
           "baxis": {
            "gridcolor": "white",
            "linecolor": "white",
            "ticks": ""
           },
           "bgcolor": "#E5ECF6",
           "caxis": {
            "gridcolor": "white",
            "linecolor": "white",
            "ticks": ""
           }
          },
          "title": {
           "x": 0.05
          },
          "xaxis": {
           "automargin": true,
           "gridcolor": "white",
           "linecolor": "white",
           "ticks": "",
           "title": {
            "standoff": 15
           },
           "zerolinecolor": "white",
           "zerolinewidth": 2
          },
          "yaxis": {
           "automargin": true,
           "gridcolor": "white",
           "linecolor": "white",
           "ticks": "",
           "title": {
            "standoff": 15
           },
           "zerolinecolor": "white",
           "zerolinewidth": 2
          }
         }
        },
        "violinmode": "group",
        "width": 2750,
        "xaxis": {
         "anchor": "y",
         "domain": [
          0,
          1
         ],
         "linecolor": "black",
         "linewidth": 1,
         "range": [
          0,
          1.02
         ],
         "showline": true,
         "tickangle": 90,
         "title": {
          "text": "Mean Average Precision"
         }
        },
        "yaxis": {
         "anchor": "x",
         "domain": [
          0,
          1
         ],
         "linecolor": "black",
         "linewidth": 1,
         "showline": true,
         "title": {
          "text": ""
         }
        }
       }
      }
     },
     "metadata": {},
     "output_type": "display_data"
    },
    {
     "data": {
      "text/plain": [
       "(Figure({\n",
       "     'data': [{'alignmentgroup': 'True',\n",
       "               'box': {'visible': True},\n",
       "               'hovertemplate': 'color=ChromaLive + Hoechst<br>x=%{x}<br>y=%{y}<extra></extra>',\n",
       "               'legendgroup': 'ChromaLive + Hoechst',\n",
       "               'marker': {'color': '#cc78bc'},\n",
       "               'name': 'ChromaLive + Hoechst',\n",
       "               'offsetgroup': 'ChromaLive + Hoechst',\n",
       "               'orientation': 'h',\n",
       "               'points': 'all',\n",
       "               'scalegroup': 'True',\n",
       "               'showlegend': True,\n",
       "               'type': 'violin',\n",
       "               'width': 0.5,\n",
       "               'x': array([0.90277778, 0.27400094, 0.25816266, 0.24034823, 0.16986856, 0.13539577,\n",
       "                           0.18328828, 0.16837836, 0.67241865, 0.06841346, 0.22332941, 0.2588279 ,\n",
       "                           0.2252976 , 0.17556047, 0.07081757, 0.68010513, 0.10406567, 0.04355717,\n",
       "                           0.29975882, 0.13180411, 0.1569979 , 0.13426346, 0.18673908, 0.08633855,\n",
       "                           0.12375865, 0.0454952 , 0.09753298, 0.12979184, 0.45779676, 0.29773266,\n",
       "                           0.23770145, 0.2960087 , 0.19549719, 0.25270112, 0.23061699, 0.30426581,\n",
       "                           0.41341065, 0.04272685, 0.06510645, 0.46719834, 0.20035072, 0.11222048,\n",
       "                           0.16707006, 0.32839348, 0.27066712, 0.24669239, 0.06523195, 0.04863326]),\n",
       "               'x0': ' ',\n",
       "               'xaxis': 'x',\n",
       "               'y': array(['ChromaLive + Hoechst', 'ChromaLive + Hoechst', 'ChromaLive + Hoechst',\n",
       "                           'ChromaLive + Hoechst', 'ChromaLive + Hoechst', 'ChromaLive + Hoechst',\n",
       "                           'ChromaLive + Hoechst', 'ChromaLive + Hoechst', 'ChromaLive + Hoechst',\n",
       "                           'ChromaLive + Hoechst', 'ChromaLive + Hoechst', 'ChromaLive + Hoechst',\n",
       "                           'ChromaLive + Hoechst', 'ChromaLive + Hoechst', 'ChromaLive + Hoechst',\n",
       "                           'ChromaLive + Hoechst', 'ChromaLive + Hoechst', 'ChromaLive + Hoechst',\n",
       "                           'ChromaLive + Hoechst', 'ChromaLive + Hoechst', 'ChromaLive + Hoechst',\n",
       "                           'ChromaLive + Hoechst', 'ChromaLive + Hoechst', 'ChromaLive + Hoechst',\n",
       "                           'ChromaLive + Hoechst', 'ChromaLive + Hoechst', 'ChromaLive + Hoechst',\n",
       "                           'ChromaLive + Hoechst', 'ChromaLive + Hoechst', 'ChromaLive + Hoechst',\n",
       "                           'ChromaLive + Hoechst', 'ChromaLive + Hoechst', 'ChromaLive + Hoechst',\n",
       "                           'ChromaLive + Hoechst', 'ChromaLive + Hoechst', 'ChromaLive + Hoechst',\n",
       "                           'ChromaLive + Hoechst', 'ChromaLive + Hoechst', 'ChromaLive + Hoechst',\n",
       "                           'ChromaLive + Hoechst', 'ChromaLive + Hoechst', 'ChromaLive + Hoechst',\n",
       "                           'ChromaLive + Hoechst', 'ChromaLive + Hoechst', 'ChromaLive + Hoechst',\n",
       "                           'ChromaLive + Hoechst', 'ChromaLive + Hoechst', 'ChromaLive + Hoechst'],\n",
       "                          dtype=object),\n",
       "               'y0': ' ',\n",
       "               'yaxis': 'y'},\n",
       "              {'alignmentgroup': 'True',\n",
       "               'box': {'visible': True},\n",
       "               'hovertemplate': 'color=Standard CP (exposed to ChromaLive)<br>x=%{x}<br>y=%{y}<extra></extra>',\n",
       "               'legendgroup': 'Standard CP (exposed to ChromaLive)',\n",
       "               'marker': {'color': '#d55e00'},\n",
       "               'name': 'Standard CP (exposed to ChromaLive)',\n",
       "               'offsetgroup': 'Standard CP (exposed to ChromaLive)',\n",
       "               'orientation': 'h',\n",
       "               'points': 'all',\n",
       "               'scalegroup': 'True',\n",
       "               'showlegend': True,\n",
       "               'type': 'violin',\n",
       "               'width': 0.5,\n",
       "               'x': array([0.1956734 , 0.2419434 , 0.54890873, 0.47482637, 0.26108211, 0.2887484 ,\n",
       "                           0.23157876, 0.3094362 , 0.45179159, 0.11274006, 0.15228506, 0.95138889,\n",
       "                           0.37178157, 0.35328084, 0.03132131, 0.91983369, 0.06225446, 0.0480785 ,\n",
       "                           0.52315595, 0.13700029, 0.21613005, 0.08428745, 0.22020177, 0.45962323,\n",
       "                           0.09238308, 0.02979785, 0.03165649, 0.16605754, 0.82475653, 0.48567574,\n",
       "                           0.23957829, 0.24957179, 0.19360283, 0.1098249 , 0.94751662, 0.41818397,\n",
       "                           0.67979922, 0.12636716, 0.03843053, 0.42974081, 0.19358994, 0.12684191,\n",
       "                           0.05066153, 0.272703  , 0.15888796, 0.04731887, 0.03474847, 0.10741507]),\n",
       "               'x0': ' ',\n",
       "               'xaxis': 'x',\n",
       "               'y': array(['Standard CP (exposed to ChromaLive)',\n",
       "                           'Standard CP (exposed to ChromaLive)',\n",
       "                           'Standard CP (exposed to ChromaLive)',\n",
       "                           'Standard CP (exposed to ChromaLive)',\n",
       "                           'Standard CP (exposed to ChromaLive)',\n",
       "                           'Standard CP (exposed to ChromaLive)',\n",
       "                           'Standard CP (exposed to ChromaLive)',\n",
       "                           'Standard CP (exposed to ChromaLive)',\n",
       "                           'Standard CP (exposed to ChromaLive)',\n",
       "                           'Standard CP (exposed to ChromaLive)',\n",
       "                           'Standard CP (exposed to ChromaLive)',\n",
       "                           'Standard CP (exposed to ChromaLive)',\n",
       "                           'Standard CP (exposed to ChromaLive)',\n",
       "                           'Standard CP (exposed to ChromaLive)',\n",
       "                           'Standard CP (exposed to ChromaLive)',\n",
       "                           'Standard CP (exposed to ChromaLive)',\n",
       "                           'Standard CP (exposed to ChromaLive)',\n",
       "                           'Standard CP (exposed to ChromaLive)',\n",
       "                           'Standard CP (exposed to ChromaLive)',\n",
       "                           'Standard CP (exposed to ChromaLive)',\n",
       "                           'Standard CP (exposed to ChromaLive)',\n",
       "                           'Standard CP (exposed to ChromaLive)',\n",
       "                           'Standard CP (exposed to ChromaLive)',\n",
       "                           'Standard CP (exposed to ChromaLive)',\n",
       "                           'Standard CP (exposed to ChromaLive)',\n",
       "                           'Standard CP (exposed to ChromaLive)',\n",
       "                           'Standard CP (exposed to ChromaLive)',\n",
       "                           'Standard CP (exposed to ChromaLive)',\n",
       "                           'Standard CP (exposed to ChromaLive)',\n",
       "                           'Standard CP (exposed to ChromaLive)',\n",
       "                           'Standard CP (exposed to ChromaLive)',\n",
       "                           'Standard CP (exposed to ChromaLive)',\n",
       "                           'Standard CP (exposed to ChromaLive)',\n",
       "                           'Standard CP (exposed to ChromaLive)',\n",
       "                           'Standard CP (exposed to ChromaLive)',\n",
       "                           'Standard CP (exposed to ChromaLive)',\n",
       "                           'Standard CP (exposed to ChromaLive)',\n",
       "                           'Standard CP (exposed to ChromaLive)',\n",
       "                           'Standard CP (exposed to ChromaLive)',\n",
       "                           'Standard CP (exposed to ChromaLive)',\n",
       "                           'Standard CP (exposed to ChromaLive)',\n",
       "                           'Standard CP (exposed to ChromaLive)',\n",
       "                           'Standard CP (exposed to ChromaLive)',\n",
       "                           'Standard CP (exposed to ChromaLive)',\n",
       "                           'Standard CP (exposed to ChromaLive)',\n",
       "                           'Standard CP (exposed to ChromaLive)',\n",
       "                           'Standard CP (exposed to ChromaLive)',\n",
       "                           'Standard CP (exposed to ChromaLive)'], dtype=object),\n",
       "               'y0': ' ',\n",
       "               'yaxis': 'y'},\n",
       "              {'alignmentgroup': 'True',\n",
       "               'box': {'visible': True},\n",
       "               'hovertemplate': 'color=CP + Phenovue phalloidin 400LS<br>x=%{x}<br>y=%{y}<extra></extra>',\n",
       "               'legendgroup': 'CP + Phenovue phalloidin 400LS',\n",
       "               'marker': {'color': '#029e73'},\n",
       "               'name': 'CP + Phenovue phalloidin 400LS',\n",
       "               'offsetgroup': 'CP + Phenovue phalloidin 400LS',\n",
       "               'orientation': 'h',\n",
       "               'points': 'all',\n",
       "               'scalegroup': 'True',\n",
       "               'showlegend': True,\n",
       "               'type': 'violin',\n",
       "               'width': 0.5,\n",
       "               'x': array([0.10513755, 0.68986569, 0.4832902 , 0.42591203, 0.49442732, 0.28960753,\n",
       "                           0.21112908, 0.33060208, 0.35220064, 0.11108417, 0.26592694, 1.        ,\n",
       "                           0.50390359, 0.31763164, 0.09377143, 0.64280368, 0.04739178, 0.02215837,\n",
       "                           0.4589248 , 0.18779563, 0.35975803, 0.08407336, 0.21509958, 0.20321954,\n",
       "                           0.15511527, 0.03684509, 0.02451688, 0.13335076, 0.82287073, 0.40105602,\n",
       "                           0.23517186, 0.24068068, 0.25113129, 0.20985572, 0.3697489 , 0.7306476 ,\n",
       "                           0.49068202, 0.27734407, 0.02311405, 0.35197062, 0.24453572, 0.20595794,\n",
       "                           0.03912553, 0.22577118, 0.12576192, 0.05752355, 0.06329144, 0.05855889]),\n",
       "               'x0': ' ',\n",
       "               'xaxis': 'x',\n",
       "               'y': array(['CP + Phenovue phalloidin 400LS', 'CP + Phenovue phalloidin 400LS',\n",
       "                           'CP + Phenovue phalloidin 400LS', 'CP + Phenovue phalloidin 400LS',\n",
       "                           'CP + Phenovue phalloidin 400LS', 'CP + Phenovue phalloidin 400LS',\n",
       "                           'CP + Phenovue phalloidin 400LS', 'CP + Phenovue phalloidin 400LS',\n",
       "                           'CP + Phenovue phalloidin 400LS', 'CP + Phenovue phalloidin 400LS',\n",
       "                           'CP + Phenovue phalloidin 400LS', 'CP + Phenovue phalloidin 400LS',\n",
       "                           'CP + Phenovue phalloidin 400LS', 'CP + Phenovue phalloidin 400LS',\n",
       "                           'CP + Phenovue phalloidin 400LS', 'CP + Phenovue phalloidin 400LS',\n",
       "                           'CP + Phenovue phalloidin 400LS', 'CP + Phenovue phalloidin 400LS',\n",
       "                           'CP + Phenovue phalloidin 400LS', 'CP + Phenovue phalloidin 400LS',\n",
       "                           'CP + Phenovue phalloidin 400LS', 'CP + Phenovue phalloidin 400LS',\n",
       "                           'CP + Phenovue phalloidin 400LS', 'CP + Phenovue phalloidin 400LS',\n",
       "                           'CP + Phenovue phalloidin 400LS', 'CP + Phenovue phalloidin 400LS',\n",
       "                           'CP + Phenovue phalloidin 400LS', 'CP + Phenovue phalloidin 400LS',\n",
       "                           'CP + Phenovue phalloidin 400LS', 'CP + Phenovue phalloidin 400LS',\n",
       "                           'CP + Phenovue phalloidin 400LS', 'CP + Phenovue phalloidin 400LS',\n",
       "                           'CP + Phenovue phalloidin 400LS', 'CP + Phenovue phalloidin 400LS',\n",
       "                           'CP + Phenovue phalloidin 400LS', 'CP + Phenovue phalloidin 400LS',\n",
       "                           'CP + Phenovue phalloidin 400LS', 'CP + Phenovue phalloidin 400LS',\n",
       "                           'CP + Phenovue phalloidin 400LS', 'CP + Phenovue phalloidin 400LS',\n",
       "                           'CP + Phenovue phalloidin 400LS', 'CP + Phenovue phalloidin 400LS',\n",
       "                           'CP + Phenovue phalloidin 400LS', 'CP + Phenovue phalloidin 400LS',\n",
       "                           'CP + Phenovue phalloidin 400LS', 'CP + Phenovue phalloidin 400LS',\n",
       "                           'CP + Phenovue phalloidin 400LS', 'CP + Phenovue phalloidin 400LS'],\n",
       "                          dtype=object),\n",
       "               'y0': ' ',\n",
       "               'yaxis': 'y'},\n",
       "              {'alignmentgroup': 'True',\n",
       "               'box': {'visible': True},\n",
       "               'hovertemplate': 'color=CP + MitoBrilliant<br>x=%{x}<br>y=%{y}<extra></extra>',\n",
       "               'legendgroup': 'CP + MitoBrilliant',\n",
       "               'marker': {'color': '#de8f05'},\n",
       "               'name': 'CP + MitoBrilliant',\n",
       "               'offsetgroup': 'CP + MitoBrilliant',\n",
       "               'orientation': 'h',\n",
       "               'points': 'all',\n",
       "               'scalegroup': 'True',\n",
       "               'showlegend': True,\n",
       "               'type': 'violin',\n",
       "               'width': 0.5,\n",
       "               'x': array([0.15280541, 0.97916667, 0.61677489, 0.3447967 , 0.33417986, 0.26261053,\n",
       "                           0.24935612, 0.42167626, 0.47869779, 0.11435658, 0.21582173, 0.76949405,\n",
       "                           0.41480232, 0.40299933, 0.02763316, 0.57069103, 0.10521155, 0.02162525,\n",
       "                           0.38502026, 0.11621599, 0.19754421, 0.07984494, 0.13530104, 0.39121888,\n",
       "                           0.0916553 , 0.04424865, 0.02837096, 0.16731538, 0.62483142, 0.36628073,\n",
       "                           0.09107228, 0.25376142, 0.31042519, 0.20450327, 0.39027517, 0.61141234,\n",
       "                           0.37872155, 0.3378638 , 0.02201657, 0.30966439, 0.19801793, 0.0811133 ,\n",
       "                           0.06334323, 0.20610345, 0.24796942, 0.02318114, 0.03291497, 0.08421664]),\n",
       "               'x0': ' ',\n",
       "               'xaxis': 'x',\n",
       "               'y': array(['CP + MitoBrilliant', 'CP + MitoBrilliant', 'CP + MitoBrilliant',\n",
       "                           'CP + MitoBrilliant', 'CP + MitoBrilliant', 'CP + MitoBrilliant',\n",
       "                           'CP + MitoBrilliant', 'CP + MitoBrilliant', 'CP + MitoBrilliant',\n",
       "                           'CP + MitoBrilliant', 'CP + MitoBrilliant', 'CP + MitoBrilliant',\n",
       "                           'CP + MitoBrilliant', 'CP + MitoBrilliant', 'CP + MitoBrilliant',\n",
       "                           'CP + MitoBrilliant', 'CP + MitoBrilliant', 'CP + MitoBrilliant',\n",
       "                           'CP + MitoBrilliant', 'CP + MitoBrilliant', 'CP + MitoBrilliant',\n",
       "                           'CP + MitoBrilliant', 'CP + MitoBrilliant', 'CP + MitoBrilliant',\n",
       "                           'CP + MitoBrilliant', 'CP + MitoBrilliant', 'CP + MitoBrilliant',\n",
       "                           'CP + MitoBrilliant', 'CP + MitoBrilliant', 'CP + MitoBrilliant',\n",
       "                           'CP + MitoBrilliant', 'CP + MitoBrilliant', 'CP + MitoBrilliant',\n",
       "                           'CP + MitoBrilliant', 'CP + MitoBrilliant', 'CP + MitoBrilliant',\n",
       "                           'CP + MitoBrilliant', 'CP + MitoBrilliant', 'CP + MitoBrilliant',\n",
       "                           'CP + MitoBrilliant', 'CP + MitoBrilliant', 'CP + MitoBrilliant',\n",
       "                           'CP + MitoBrilliant', 'CP + MitoBrilliant', 'CP + MitoBrilliant',\n",
       "                           'CP + MitoBrilliant', 'CP + MitoBrilliant', 'CP + MitoBrilliant'],\n",
       "                          dtype=object),\n",
       "               'y0': ' ',\n",
       "               'yaxis': 'y'},\n",
       "              {'alignmentgroup': 'True',\n",
       "               'box': {'visible': True},\n",
       "               'hovertemplate': 'color=Standard CP<br>x=%{x}<br>y=%{y}<extra></extra>',\n",
       "               'legendgroup': 'Standard CP',\n",
       "               'marker': {'color': '#0173b2'},\n",
       "               'name': 'Standard CP',\n",
       "               'offsetgroup': 'Standard CP',\n",
       "               'orientation': 'h',\n",
       "               'points': 'all',\n",
       "               'scalegroup': 'True',\n",
       "               'showlegend': True,\n",
       "               'type': 'violin',\n",
       "               'width': 0.5,\n",
       "               'x': array([0.18823161, 1.        , 0.67791005, 0.32581502, 0.45939192, 0.28161639,\n",
       "                           0.25087988, 0.28523014, 0.48292213, 0.06937194, 0.23955364, 1.        ,\n",
       "                           0.35934689, 0.23219352, 0.04223861, 0.6848966 , 0.08236422, 0.03517026,\n",
       "                           0.64438039, 0.10151547, 0.22485506, 0.08649064, 0.158967  , 0.30393489,\n",
       "                           0.07699914, 0.05711307, 0.03532695, 0.23859797, 0.64341267, 0.37940347,\n",
       "                           0.11506076, 0.19874926, 0.23991593, 0.16564219, 0.32260216, 0.83844084,\n",
       "                           0.4104492 , 0.40311547, 0.06569251, 0.33059841, 0.23062436, 0.20716034,\n",
       "                           0.08479972, 0.15509061, 0.17238954, 0.02514754, 0.03962643, 0.12632935]),\n",
       "               'x0': ' ',\n",
       "               'xaxis': 'x',\n",
       "               'y': array(['Standard CP', 'Standard CP', 'Standard CP', 'Standard CP',\n",
       "                           'Standard CP', 'Standard CP', 'Standard CP', 'Standard CP',\n",
       "                           'Standard CP', 'Standard CP', 'Standard CP', 'Standard CP',\n",
       "                           'Standard CP', 'Standard CP', 'Standard CP', 'Standard CP',\n",
       "                           'Standard CP', 'Standard CP', 'Standard CP', 'Standard CP',\n",
       "                           'Standard CP', 'Standard CP', 'Standard CP', 'Standard CP',\n",
       "                           'Standard CP', 'Standard CP', 'Standard CP', 'Standard CP',\n",
       "                           'Standard CP', 'Standard CP', 'Standard CP', 'Standard CP',\n",
       "                           'Standard CP', 'Standard CP', 'Standard CP', 'Standard CP',\n",
       "                           'Standard CP', 'Standard CP', 'Standard CP', 'Standard CP',\n",
       "                           'Standard CP', 'Standard CP', 'Standard CP', 'Standard CP',\n",
       "                           'Standard CP', 'Standard CP', 'Standard CP', 'Standard CP'],\n",
       "                          dtype=object),\n",
       "               'y0': ' ',\n",
       "               'yaxis': 'y'}],\n",
       "     'layout': {'font': {'color': 'black', 'family': 'sans serif', 'size': 95},\n",
       "                'height': 2500,\n",
       "                'legend': {'title': {'text': 'color'}, 'tracegroupgap': 0},\n",
       "                'margin': {'t': 60},\n",
       "                'plot_bgcolor': 'rgba(0,0,0,0)',\n",
       "                'showlegend': False,\n",
       "                'template': '...',\n",
       "                'violinmode': 'group',\n",
       "                'width': 2750,\n",
       "                'xaxis': {'anchor': 'y',\n",
       "                          'domain': [0.0, 1.0],\n",
       "                          'linecolor': 'black',\n",
       "                          'linewidth': 1,\n",
       "                          'range': [0, 1.02],\n",
       "                          'showline': True,\n",
       "                          'tickangle': 90,\n",
       "                          'title': {'text': 'Mean Average Precision'}},\n",
       "                'yaxis': {'anchor': 'x',\n",
       "                          'domain': [0.0, 1.0],\n",
       "                          'linecolor': 'black',\n",
       "                          'linewidth': 1,\n",
       "                          'showline': True,\n",
       "                          'title': {'text': ''}}}\n",
       " }),\n",
       " {'Standard CP':                                          Metadata_MoA  mean_average_precision  \\\n",
       "  0                                      AMPK inhibitor                0.188232   \n",
       "  1   Apoptosis inducer (ATP-competitive kinase inhi...                1.000000   \n",
       "  2         Apoptosis inducer (transcription inhibitor)                0.677910   \n",
       "  3                             Aurora kinase inhibitor                0.325815   \n",
       "  4                                       BCL inhibitor                0.459392   \n",
       "  5                            Bcr-Abl kinase inhibitor                0.281616   \n",
       "  6                                       CDC inhibitor                0.250880   \n",
       "  7                                       CDK inhibitor                0.285230   \n",
       "  8                                       CHK inhibitor                0.482922   \n",
       "  9                                       DNA inhibitor                0.069372   \n",
       "  10                                     EGFR inhibitor                0.239554   \n",
       "  11                      ER stressor (SERCA inhibitor)                1.000000   \n",
       "  12                                     FGFR inhibitor                0.359347   \n",
       "  13                                     HDAC inhibitor                0.232194   \n",
       "  14                                    HMGCR inhibitor                0.042239   \n",
       "  15                                    IGF-1 inhibitor                0.684897   \n",
       "  16                                      JAK inhibitor                0.082364   \n",
       "  17                                      JNK inhibitor                0.035170   \n",
       "  18                                        LXR agonist                0.644380   \n",
       "  19                               MAP kinase inhibitor                0.101515   \n",
       "  20                                      MEK inhibitor                0.224855   \n",
       "  21                                                MoA                0.086491   \n",
       "  22                                     PARP inhibitor                0.158967   \n",
       "  23                                      RAF inhibitor                0.303935   \n",
       "  24                  acetylcholine receptor antagonist                0.076999   \n",
       "  25                        androgen receptor modulator                0.057113   \n",
       "  26                                      antihistamine                0.035327   \n",
       "  27                             beta-catenin inhibitor                0.238598   \n",
       "  28                              bromodomain inhibitor                0.643413   \n",
       "  29                 glycogen synthase kinase inhibitor                0.379403   \n",
       "  30        hepatocyte growth factor receptor inhibitor                0.115061   \n",
       "  31               histone lysine demethylase inhibitor                0.198749   \n",
       "  32         histone lysine methyltransferase inhibitor                0.239916   \n",
       "  33                 hypoxia inducible factor inhibitor                0.165642   \n",
       "  34      inosine monophosphate dehydrogenase inhibitor                0.322602   \n",
       "  35                                  kinesin inhibitor                0.838441   \n",
       "  36                                     mTOR inhibitor                0.410449   \n",
       "  37                                 p38 MAPK inhibitor                0.403115   \n",
       "  38                        phosphodiesterase inhibitor                0.065693   \n",
       "  39        phosphoinositide dependent kinase inhibitor                0.330598   \n",
       "  40                            phospholipase inhibitor                0.230624   \n",
       "  41     protein arginine N-methyltransferase inhibitor                0.207160   \n",
       "  42                  protein tyrosine kinase inhibitor                0.084800   \n",
       "  43            pyruvate dehydrogenase kinase inhibitor                0.155091   \n",
       "  44                        smoothened receptor agonist                0.172390   \n",
       "  45                           tricyclic antidepressant                0.025148   \n",
       "  46         tumor necrosis factor production inhibitor                0.039626   \n",
       "  47              ubiquitin specific protease inhibitor                0.126329   \n",
       "  \n",
       "       p_value  corrected_p_value  below_p  below_corrected_p  \n",
       "  0   0.009199           0.014719     True               True  \n",
       "  1   0.000100           0.000320     True               True  \n",
       "  2   0.000100           0.000320     True               True  \n",
       "  3   0.000100           0.000320     True               True  \n",
       "  4   0.000100           0.000320     True               True  \n",
       "  5   0.000500           0.001263     True               True  \n",
       "  6   0.001100           0.002640     True               True  \n",
       "  7   0.000400           0.001067     True               True  \n",
       "  8   0.000100           0.000320     True               True  \n",
       "  9   0.061094           0.073313    False              False  \n",
       "  10  0.001300           0.002688     True               True  \n",
       "  11  0.000100           0.000320     True               True  \n",
       "  12  0.000100           0.000320     True               True  \n",
       "  13  0.001400           0.002688     True               True  \n",
       "  14  0.159284           0.177805    False              False  \n",
       "  15  0.000100           0.000320     True               True  \n",
       "  16  0.045895           0.057973     True              False  \n",
       "  17  0.232777           0.237729    False              False  \n",
       "  18  0.000100           0.000320     True               True  \n",
       "  19  0.027697           0.036930     True               True  \n",
       "  20  0.001500           0.002769     True               True  \n",
       "  21  0.198780           0.212032    False              False  \n",
       "  22  0.016098           0.024148     True               True  \n",
       "  23  0.000400           0.001067     True               True  \n",
       "  24  0.050595           0.062271    False              False  \n",
       "  25  0.089091           0.101818    False              False  \n",
       "  26  0.229277           0.237729    False              False  \n",
       "  27  0.001300           0.002688     True               True  \n",
       "  28  0.000100           0.000320     True               True  \n",
       "  29  0.000100           0.000320     True               True  \n",
       "  30  0.021798           0.029894     True               True  \n",
       "  31  0.002300           0.003942     True               True  \n",
       "  32  0.001300           0.002688     True               True  \n",
       "  33  0.011399           0.017650     True               True  \n",
       "  34  0.000200           0.000600     True               True  \n",
       "  35  0.000100           0.000320     True               True  \n",
       "  36  0.000100           0.000320     True               True  \n",
       "  37  0.000100           0.000320     True               True  \n",
       "  38  0.068193           0.079836    False              False  \n",
       "  39  0.000100           0.000320     True               True  \n",
       "  40  0.001400           0.002688     True               True  \n",
       "  41  0.001900           0.003377     True               True  \n",
       "  42  0.043996           0.057075     True              False  \n",
       "  43  0.017798           0.025888     True               True  \n",
       "  44  0.007499           0.012413     True               True  \n",
       "  45  0.460654           0.460654    False              False  \n",
       "  46  0.181182           0.197653    False              False  \n",
       "  47  0.019598           0.027668     True               True  ,\n",
       "  'CP + MitoBrilliant':                                          Metadata_MoA  mean_average_precision  \\\n",
       "  0                                      AMPK inhibitor                0.152805   \n",
       "  1   Apoptosis inducer (ATP-competitive kinase inhi...                0.979167   \n",
       "  2         Apoptosis inducer (transcription inhibitor)                0.616775   \n",
       "  3                             Aurora kinase inhibitor                0.344797   \n",
       "  4                                       BCL inhibitor                0.334180   \n",
       "  5                            Bcr-Abl kinase inhibitor                0.262611   \n",
       "  6                                       CDC inhibitor                0.249356   \n",
       "  7                                       CDK inhibitor                0.421676   \n",
       "  8                                       CHK inhibitor                0.478698   \n",
       "  9                                       DNA inhibitor                0.114357   \n",
       "  10                                     EGFR inhibitor                0.215822   \n",
       "  11                      ER stressor (SERCA inhibitor)                0.769494   \n",
       "  12                                     FGFR inhibitor                0.414802   \n",
       "  13                                     HDAC inhibitor                0.402999   \n",
       "  14                                    HMGCR inhibitor                0.027633   \n",
       "  15                                    IGF-1 inhibitor                0.570691   \n",
       "  16                                      JAK inhibitor                0.105212   \n",
       "  17                                      JNK inhibitor                0.021625   \n",
       "  18                                        LXR agonist                0.385020   \n",
       "  19                               MAP kinase inhibitor                0.116216   \n",
       "  20                                      MEK inhibitor                0.197544   \n",
       "  21                                                MoA                0.079845   \n",
       "  22                                     PARP inhibitor                0.135301   \n",
       "  23                                      RAF inhibitor                0.391219   \n",
       "  24                  acetylcholine receptor antagonist                0.091655   \n",
       "  25                        androgen receptor modulator                0.044249   \n",
       "  26                                      antihistamine                0.028371   \n",
       "  27                             beta-catenin inhibitor                0.167315   \n",
       "  28                              bromodomain inhibitor                0.624831   \n",
       "  29                 glycogen synthase kinase inhibitor                0.366281   \n",
       "  30        hepatocyte growth factor receptor inhibitor                0.091072   \n",
       "  31               histone lysine demethylase inhibitor                0.253761   \n",
       "  32         histone lysine methyltransferase inhibitor                0.310425   \n",
       "  33                 hypoxia inducible factor inhibitor                0.204503   \n",
       "  34      inosine monophosphate dehydrogenase inhibitor                0.390275   \n",
       "  35                                  kinesin inhibitor                0.611412   \n",
       "  36                                     mTOR inhibitor                0.378722   \n",
       "  37                                 p38 MAPK inhibitor                0.337864   \n",
       "  38                        phosphodiesterase inhibitor                0.022017   \n",
       "  39        phosphoinositide dependent kinase inhibitor                0.309664   \n",
       "  40                            phospholipase inhibitor                0.198018   \n",
       "  41     protein arginine N-methyltransferase inhibitor                0.081113   \n",
       "  42                  protein tyrosine kinase inhibitor                0.063343   \n",
       "  43            pyruvate dehydrogenase kinase inhibitor                0.206103   \n",
       "  44                        smoothened receptor agonist                0.247969   \n",
       "  45                           tricyclic antidepressant                0.023181   \n",
       "  46         tumor necrosis factor production inhibitor                0.032915   \n",
       "  47              ubiquitin specific protease inhibitor                0.084217   \n",
       "  \n",
       "       p_value  corrected_p_value  below_p  below_corrected_p  \n",
       "  0   0.019098           0.029571     True               True  \n",
       "  1   0.000100           0.000282     True               True  \n",
       "  2   0.000200           0.000480     True               True  \n",
       "  3   0.000100           0.000282     True               True  \n",
       "  4   0.000100           0.000282     True               True  \n",
       "  5   0.001200           0.002600     True               True  \n",
       "  6   0.001300           0.002600     True               True  \n",
       "  7   0.000100           0.000282     True               True  \n",
       "  8   0.000100           0.000282     True               True  \n",
       "  9   0.023398           0.033032     True               True  \n",
       "  10  0.002100           0.004032     True               True  \n",
       "  11  0.000100           0.000282     True               True  \n",
       "  12  0.000100           0.000282     True               True  \n",
       "  13  0.000100           0.000282     True               True  \n",
       "  14  0.390961           0.417025    False              False  \n",
       "  15  0.000100           0.000282     True               True  \n",
       "  16  0.026897           0.036888     True               True  \n",
       "  17  0.482152           0.503115    False              False  \n",
       "  18  0.000100           0.000282     True               True  \n",
       "  19  0.023198           0.033032     True               True  \n",
       "  20  0.002900           0.004800     True               True  \n",
       "  21  0.278372           0.310741    False              False  \n",
       "  22  0.019798           0.029697     True               True  \n",
       "  23  0.000100           0.000282     True               True  \n",
       "  24  0.036696           0.048644     True               True  \n",
       "  25  0.150785           0.176529    False              False  \n",
       "  26  0.372263           0.406105    False              False  \n",
       "  27  0.009599           0.015358     True               True  \n",
       "  28  0.000100           0.000282     True               True  \n",
       "  29  0.000100           0.000282     True               True  \n",
       "  30  0.037496           0.048644     True               True  \n",
       "  31  0.001200           0.002600     True               True  \n",
       "  32  0.000200           0.000480     True               True  \n",
       "  33  0.002400           0.004266     True               True  \n",
       "  34  0.000100           0.000282     True               True  \n",
       "  35  0.000100           0.000282     True               True  \n",
       "  36  0.000100           0.000282     True               True  \n",
       "  37  0.000100           0.000282     True               True  \n",
       "  38  0.591241           0.591241    False              False  \n",
       "  39  0.000200           0.000480     True               True  \n",
       "  40  0.002800           0.004800     True               True  \n",
       "  41  0.049195           0.060548     True              False  \n",
       "  42  0.074793           0.089751    False              False  \n",
       "  43  0.002400           0.004266     True               True  \n",
       "  44  0.001300           0.002600     True               True  \n",
       "  45  0.543246           0.554804    False              False  \n",
       "  46  0.277472           0.310741    False              False  \n",
       "  47  0.046795           0.059110     True              False  ,\n",
       "  'CP + Phenovue phalloidin 400LS':                                          Metadata_MoA  mean_average_precision  \\\n",
       "  0                                      AMPK inhibitor                0.105138   \n",
       "  1   Apoptosis inducer (ATP-competitive kinase inhi...                0.689866   \n",
       "  2         Apoptosis inducer (transcription inhibitor)                0.483290   \n",
       "  3                             Aurora kinase inhibitor                0.425912   \n",
       "  4                                       BCL inhibitor                0.494427   \n",
       "  5                            Bcr-Abl kinase inhibitor                0.289608   \n",
       "  6                                       CDC inhibitor                0.211129   \n",
       "  7                                       CDK inhibitor                0.330602   \n",
       "  8                                       CHK inhibitor                0.352201   \n",
       "  9                                       DNA inhibitor                0.111084   \n",
       "  10                                     EGFR inhibitor                0.265927   \n",
       "  11                      ER stressor (SERCA inhibitor)                1.000000   \n",
       "  12                                     FGFR inhibitor                0.503904   \n",
       "  13                                     HDAC inhibitor                0.317632   \n",
       "  14                                    HMGCR inhibitor                0.093771   \n",
       "  15                                    IGF-1 inhibitor                0.642804   \n",
       "  16                                      JAK inhibitor                0.047392   \n",
       "  17                                      JNK inhibitor                0.022158   \n",
       "  18                                        LXR agonist                0.458925   \n",
       "  19                               MAP kinase inhibitor                0.187796   \n",
       "  20                                      MEK inhibitor                0.359758   \n",
       "  21                                                MoA                0.084073   \n",
       "  22                                     PARP inhibitor                0.215100   \n",
       "  23                                      RAF inhibitor                0.203220   \n",
       "  24                  acetylcholine receptor antagonist                0.155115   \n",
       "  25                        androgen receptor modulator                0.036845   \n",
       "  26                                      antihistamine                0.024517   \n",
       "  27                             beta-catenin inhibitor                0.133351   \n",
       "  28                              bromodomain inhibitor                0.822871   \n",
       "  29                 glycogen synthase kinase inhibitor                0.401056   \n",
       "  30        hepatocyte growth factor receptor inhibitor                0.235172   \n",
       "  31               histone lysine demethylase inhibitor                0.240681   \n",
       "  32         histone lysine methyltransferase inhibitor                0.251131   \n",
       "  33                 hypoxia inducible factor inhibitor                0.209856   \n",
       "  34      inosine monophosphate dehydrogenase inhibitor                0.369749   \n",
       "  35                                  kinesin inhibitor                0.730648   \n",
       "  36                                     mTOR inhibitor                0.490682   \n",
       "  37                                 p38 MAPK inhibitor                0.277344   \n",
       "  38                        phosphodiesterase inhibitor                0.023114   \n",
       "  39        phosphoinositide dependent kinase inhibitor                0.351971   \n",
       "  40                            phospholipase inhibitor                0.244536   \n",
       "  41     protein arginine N-methyltransferase inhibitor                0.205958   \n",
       "  42                  protein tyrosine kinase inhibitor                0.039126   \n",
       "  43            pyruvate dehydrogenase kinase inhibitor                0.225771   \n",
       "  44                        smoothened receptor agonist                0.125762   \n",
       "  45                           tricyclic antidepressant                0.057524   \n",
       "  46         tumor necrosis factor production inhibitor                0.063291   \n",
       "  47              ubiquitin specific protease inhibitor                0.058559   \n",
       "  \n",
       "       p_value  corrected_p_value  below_p  below_corrected_p  \n",
       "  0   0.025197           0.032689     True               True  \n",
       "  1   0.000100           0.000300     True               True  \n",
       "  2   0.000200           0.000565     True               True  \n",
       "  3   0.000100           0.000300     True               True  \n",
       "  4   0.000100           0.000300     True               True  \n",
       "  5   0.000400           0.001010     True               True  \n",
       "  6   0.001900           0.003145     True               True  \n",
       "  7   0.000100           0.000300     True               True  \n",
       "  8   0.000100           0.000300     True               True  \n",
       "  9   0.022998           0.030664     True               True  \n",
       "  10  0.000700           0.001600     True               True  \n",
       "  11  0.000100           0.000300     True               True  \n",
       "  12  0.000100           0.000300     True               True  \n",
       "  13  0.000300           0.000800     True               True  \n",
       "  14  0.033197           0.041933     True               True  \n",
       "  15  0.000100           0.000300     True               True  \n",
       "  16  0.126887           0.145014    False              False  \n",
       "  17  0.577442           0.577442    False              False  \n",
       "  18  0.000100           0.000300     True               True  \n",
       "  19  0.003200           0.004800     True               True  \n",
       "  20  0.000100           0.000300     True               True  \n",
       "  21  0.224678           0.239656    False              False  \n",
       "  22  0.001800           0.003145     True               True  \n",
       "  23  0.002100           0.003251     True               True  \n",
       "  24  0.017798           0.025888     True               True  \n",
       "  25  0.213379           0.232777    False              False  \n",
       "  26  0.482352           0.503324    False              False  \n",
       "  27  0.018798           0.026539     True               True  \n",
       "  28  0.000100           0.000300     True               True  \n",
       "  29  0.000100           0.000300     True               True  \n",
       "  30  0.001400           0.002688     True               True  \n",
       "  31  0.001300           0.002600     True               True  \n",
       "  32  0.001100           0.002400     True               True  \n",
       "  33  0.001900           0.003145     True               True  \n",
       "  34  0.000100           0.000300     True               True  \n",
       "  35  0.000100           0.000300     True               True  \n",
       "  36  0.000100           0.000300     True               True  \n",
       "  37  0.000500           0.001200     True               True  \n",
       "  38  0.533647           0.545001    False              False  \n",
       "  39  0.000100           0.000300     True               True  \n",
       "  40  0.001200           0.002504     True               True  \n",
       "  41  0.002000           0.003200     True               True  \n",
       "  42  0.186681           0.208388    False              False  \n",
       "  43  0.001500           0.002769     True               True  \n",
       "  44  0.019698           0.027014     True               True  \n",
       "  45  0.088491           0.103599    False              False  \n",
       "  46  0.073893           0.090945    False              False  \n",
       "  47  0.085491           0.102590    False              False  ,\n",
       "  'Standard CP (exposed to ChromaLive)':                                          Metadata_MoA  mean_average_precision  \\\n",
       "  0                                      AMPK inhibitor                0.195673   \n",
       "  1   Apoptosis inducer (ATP-competitive kinase inhi...                0.241943   \n",
       "  2         Apoptosis inducer (transcription inhibitor)                0.548909   \n",
       "  3                             Aurora kinase inhibitor                0.474826   \n",
       "  4                                       BCL inhibitor                0.261082   \n",
       "  5                            Bcr-Abl kinase inhibitor                0.288748   \n",
       "  6                                       CDC inhibitor                0.231579   \n",
       "  7                                       CDK inhibitor                0.309436   \n",
       "  8                                       CHK inhibitor                0.451792   \n",
       "  9                                       DNA inhibitor                0.112740   \n",
       "  10                                     EGFR inhibitor                0.152285   \n",
       "  11                      ER stressor (SERCA inhibitor)                0.951389   \n",
       "  12                                     FGFR inhibitor                0.371782   \n",
       "  13                                     HDAC inhibitor                0.353281   \n",
       "  14                                    HMGCR inhibitor                0.031321   \n",
       "  15                                    IGF-1 inhibitor                0.919834   \n",
       "  16                                      JAK inhibitor                0.062254   \n",
       "  17                                      JNK inhibitor                0.048079   \n",
       "  18                                        LXR agonist                0.523156   \n",
       "  19                               MAP kinase inhibitor                0.137000   \n",
       "  20                                      MEK inhibitor                0.216130   \n",
       "  21                                                MoA                0.084287   \n",
       "  22                                     PARP inhibitor                0.220202   \n",
       "  23                                      RAF inhibitor                0.459623   \n",
       "  24                  acetylcholine receptor antagonist                0.092383   \n",
       "  25                        androgen receptor modulator                0.029798   \n",
       "  26                                      antihistamine                0.031656   \n",
       "  27                             beta-catenin inhibitor                0.166058   \n",
       "  28                              bromodomain inhibitor                0.824757   \n",
       "  29                 glycogen synthase kinase inhibitor                0.485676   \n",
       "  30        hepatocyte growth factor receptor inhibitor                0.239578   \n",
       "  31               histone lysine demethylase inhibitor                0.249572   \n",
       "  32         histone lysine methyltransferase inhibitor                0.193603   \n",
       "  33                 hypoxia inducible factor inhibitor                0.109825   \n",
       "  34      inosine monophosphate dehydrogenase inhibitor                0.947517   \n",
       "  35                                  kinesin inhibitor                0.418184   \n",
       "  36                                     mTOR inhibitor                0.679799   \n",
       "  37                                 p38 MAPK inhibitor                0.126367   \n",
       "  38                        phosphodiesterase inhibitor                0.038431   \n",
       "  39        phosphoinositide dependent kinase inhibitor                0.429741   \n",
       "  40                            phospholipase inhibitor                0.193590   \n",
       "  41     protein arginine N-methyltransferase inhibitor                0.126842   \n",
       "  42                  protein tyrosine kinase inhibitor                0.050662   \n",
       "  43            pyruvate dehydrogenase kinase inhibitor                0.272703   \n",
       "  44                        smoothened receptor agonist                0.158888   \n",
       "  45                           tricyclic antidepressant                0.047319   \n",
       "  46         tumor necrosis factor production inhibitor                0.034748   \n",
       "  47              ubiquitin specific protease inhibitor                0.107415   \n",
       "  \n",
       "       p_value  corrected_p_value  below_p  below_corrected_p  \n",
       "  0   0.008699           0.014913     True               True  \n",
       "  1   0.008099           0.014399     True               True  \n",
       "  2   0.000200           0.000640     True               True  \n",
       "  3   0.000100           0.000343     True               True  \n",
       "  4   0.000700           0.001768     True               True  \n",
       "  5   0.000400           0.001129     True               True  \n",
       "  6   0.001400           0.003054     True               True  \n",
       "  7   0.000300           0.000900     True               True  \n",
       "  8   0.000100           0.000343     True               True  \n",
       "  9   0.022498           0.030854     True               True  \n",
       "  10  0.018098           0.027597     True               True  \n",
       "  11  0.000100           0.000343     True               True  \n",
       "  12  0.000100           0.000343     True               True  \n",
       "  13  0.000100           0.000343     True               True  \n",
       "  14  0.293271           0.299510    False              False  \n",
       "  15  0.000100           0.000343     True               True  \n",
       "  16  0.075792           0.093283    False              False  \n",
       "  17  0.123288           0.144337    False              False  \n",
       "  18  0.000100           0.000343     True               True  \n",
       "  19  0.018398           0.027597     True               True  \n",
       "  20  0.001800           0.003600     True               True  \n",
       "  21  0.221478           0.241612    False              False  \n",
       "  22  0.001700           0.003547     True               True  \n",
       "  23  0.000100           0.000343     True               True  \n",
       "  24  0.034897           0.044080     True               True  \n",
       "  25  0.326167           0.326167    False              False  \n",
       "  26  0.285571           0.297988    False              False  \n",
       "  27  0.011099           0.018371     True               True  \n",
       "  28  0.000100           0.000343     True               True  \n",
       "  29  0.000100           0.000343     True               True  \n",
       "  30  0.001300           0.002971     True               True  \n",
       "  31  0.001100           0.002640     True               True  \n",
       "  32  0.002700           0.004984     True               True  \n",
       "  33  0.023398           0.031197     True               True  \n",
       "  34  0.000100           0.000343     True               True  \n",
       "  35  0.000100           0.000343     True               True  \n",
       "  36  0.000100           0.000343     True               True  \n",
       "  37  0.019598           0.027668     True               True  \n",
       "  38  0.193781           0.216313    False              False  \n",
       "  39  0.000100           0.000343     True               True  \n",
       "  40  0.002700           0.004984     True               True  \n",
       "  41  0.019498           0.027668     True               True  \n",
       "  42  0.112689           0.135226    False              False  \n",
       "  43  0.000500           0.001333     True               True  \n",
       "  44  0.016098           0.025757     True               True  \n",
       "  45  0.127587           0.145814    False              False  \n",
       "  46  0.238776           0.254695    False              False  \n",
       "  47  0.024698           0.032040     True               True  ,\n",
       "  'ChromaLive + Hoechst':                                          Metadata_MoA  mean_average_precision  \\\n",
       "  0                                      AMPK inhibitor                0.902778   \n",
       "  1   Apoptosis inducer (ATP-competitive kinase inhi...                0.274001   \n",
       "  2         Apoptosis inducer (transcription inhibitor)                0.258163   \n",
       "  3                             Aurora kinase inhibitor                0.240348   \n",
       "  4                                       BCL inhibitor                0.169869   \n",
       "  5                            Bcr-Abl kinase inhibitor                0.135396   \n",
       "  6                                       CDC inhibitor                0.183288   \n",
       "  7                                       CDK inhibitor                0.168378   \n",
       "  8                                       CHK inhibitor                0.672419   \n",
       "  9                                       DNA inhibitor                0.068413   \n",
       "  10                                     EGFR inhibitor                0.223329   \n",
       "  11                      ER stressor (SERCA inhibitor)                0.258828   \n",
       "  12                                     FGFR inhibitor                0.225298   \n",
       "  13                                     HDAC inhibitor                0.175560   \n",
       "  14                                    HMGCR inhibitor                0.070818   \n",
       "  15                                    IGF-1 inhibitor                0.680105   \n",
       "  16                                      JAK inhibitor                0.104066   \n",
       "  17                                      JNK inhibitor                0.043557   \n",
       "  18                                        LXR agonist                0.299759   \n",
       "  19                               MAP kinase inhibitor                0.131804   \n",
       "  20                                      MEK inhibitor                0.156998   \n",
       "  21                                                MoA                0.134263   \n",
       "  22                                     PARP inhibitor                0.186739   \n",
       "  23                                      RAF inhibitor                0.086339   \n",
       "  24                  acetylcholine receptor antagonist                0.123759   \n",
       "  25                        androgen receptor modulator                0.045495   \n",
       "  26                                      antihistamine                0.097533   \n",
       "  27                             beta-catenin inhibitor                0.129792   \n",
       "  28                              bromodomain inhibitor                0.457797   \n",
       "  29                 glycogen synthase kinase inhibitor                0.297733   \n",
       "  30        hepatocyte growth factor receptor inhibitor                0.237701   \n",
       "  31               histone lysine demethylase inhibitor                0.296009   \n",
       "  32         histone lysine methyltransferase inhibitor                0.195497   \n",
       "  33                 hypoxia inducible factor inhibitor                0.252701   \n",
       "  34      inosine monophosphate dehydrogenase inhibitor                0.230617   \n",
       "  35                                  kinesin inhibitor                0.304266   \n",
       "  36                                     mTOR inhibitor                0.413411   \n",
       "  37                                 p38 MAPK inhibitor                0.042727   \n",
       "  38                        phosphodiesterase inhibitor                0.065106   \n",
       "  39        phosphoinositide dependent kinase inhibitor                0.467198   \n",
       "  40                            phospholipase inhibitor                0.200351   \n",
       "  41     protein arginine N-methyltransferase inhibitor                0.112220   \n",
       "  42                  protein tyrosine kinase inhibitor                0.167070   \n",
       "  43            pyruvate dehydrogenase kinase inhibitor                0.328393   \n",
       "  44                        smoothened receptor agonist                0.270667   \n",
       "  45                           tricyclic antidepressant                0.246692   \n",
       "  46         tumor necrosis factor production inhibitor                0.065232   \n",
       "  47              ubiquitin specific protease inhibitor                0.048633   \n",
       "  \n",
       "       p_value  corrected_p_value  below_p  below_corrected_p  \n",
       "  0   0.000100           0.000686     True               True  \n",
       "  1   0.007899           0.014399     True               True  \n",
       "  2   0.008099           0.014399     True               True  \n",
       "  3   0.001300           0.003900     True               True  \n",
       "  4   0.008599           0.014741     True               True  \n",
       "  5   0.018598           0.026329     True               True  \n",
       "  6   0.004200           0.008764     True               True  \n",
       "  7   0.010099           0.016716     True               True  \n",
       "  8   0.000100           0.000686     True               True  \n",
       "  9   0.062894           0.071879    False              False  \n",
       "  10  0.001600           0.004042     True               True  \n",
       "  11  0.008099           0.014399     True               True  \n",
       "  12  0.001500           0.004000     True               True  \n",
       "  13  0.006199           0.012399     True               True  \n",
       "  14  0.058894           0.068949    False              False  \n",
       "  15  0.000100           0.000686     True               True  \n",
       "  16  0.026297           0.033218     True               True  \n",
       "  17  0.150685           0.153891    False              False  \n",
       "  18  0.000400           0.001745     True               True  \n",
       "  19  0.018898           0.026329     True               True  \n",
       "  20  0.017198           0.026097     True               True  \n",
       "  21  0.017398           0.026097     True               True  \n",
       "  22  0.003400           0.007417     True               True  \n",
       "  23  0.042096           0.050515     True              False  \n",
       "  24  0.020198           0.026931     True               True  \n",
       "  25  0.137886           0.143881    False              False  \n",
       "  26  0.030297           0.037289     True               True  \n",
       "  27  0.019198           0.026329     True               True  \n",
       "  28  0.000100           0.000686     True               True  \n",
       "  29  0.000400           0.001745     True               True  \n",
       "  30  0.001300           0.003900     True               True  \n",
       "  31  0.000400           0.001745     True               True  \n",
       "  32  0.002400           0.005485     True               True  \n",
       "  33  0.001100           0.003900     True               True  \n",
       "  34  0.001400           0.003953     True               True  \n",
       "  35  0.000400           0.001745     True               True  \n",
       "  36  0.000100           0.000686     True               True  \n",
       "  37  0.156384           0.156384    False              False  \n",
       "  38  0.069793           0.076138    False              False  \n",
       "  39  0.000100           0.000686     True               True  \n",
       "  40  0.002200           0.005279     True               True  \n",
       "  41  0.022598           0.029316     True               True  \n",
       "  42  0.010499           0.016798     True               True  \n",
       "  43  0.000100           0.000686     True               True  \n",
       "  44  0.000500           0.002000     True               True  \n",
       "  45  0.001200           0.003900     True               True  \n",
       "  46  0.069493           0.076138    False              False  \n",
       "  47  0.120788           0.128840    False              False  })"
      ]
     },
     "execution_count": 7,
     "metadata": {},
     "output_type": "execute_result"
    }
   ],
   "source": [
    "copairs_batches_sistercompounds(dict_to_load_feature_selected,mAP='Treatment')"
   ]
  }
 ],
 "metadata": {
  "kernelspec": {
   "display_name": "copairs",
   "language": "python",
   "name": "python3"
  },
  "language_info": {
   "codemirror_mode": {
    "name": "ipython",
    "version": 3
   },
   "file_extension": ".py",
   "mimetype": "text/x-python",
   "name": "python",
   "nbconvert_exporter": "python",
   "pygments_lexer": "ipython3",
   "version": "3.12.2"
  }
 },
 "nbformat": 4,
 "nbformat_minor": 2
}
